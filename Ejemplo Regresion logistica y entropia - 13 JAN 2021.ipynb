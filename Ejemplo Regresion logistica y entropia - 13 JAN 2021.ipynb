{
 "cells": [
  {
   "cell_type": "markdown",
   "metadata": {},
   "source": [
    "Para este ejercicio utilizaremos la libreria FSelectorRcpp:\n",
    "\n",
    "- Documentacion: https://cran.r-project.org/web/packages/FSelectorRcpp/FSelectorRcpp.pdf"
   ]
  },
  {
   "cell_type": "code",
   "execution_count": 1,
   "metadata": {
    "scrolled": true
   },
   "outputs": [
    {
     "name": "stdout",
     "output_type": "stream",
     "text": [
      "package 'FSelectorRcpp' successfully unpacked and MD5 sums checked\n"
     ]
    },
    {
     "name": "stderr",
     "output_type": "stream",
     "text": [
      "Warning message:\n",
      "\"cannot remove prior installation of package 'FSelectorRcpp'\"\n",
      "Warning message in file.copy(savedcopy, lib, recursive = TRUE):\n",
      "\"problema al copiar C:\\Users\\aberian\\Documents\\R\\R-3.6.2\\library\\00LOCK\\FSelectorRcpp\\libs\\x64\\FSelectorRcpp.dll  a C:\\Users\\aberian\\Documents\\R\\R-3.6.2\\library\\FSelectorRcpp\\libs\\x64\\FSelectorRcpp.dll: Permission denied\"\n",
      "Warning message:\n",
      "\"restored 'FSelectorRcpp'\"\n"
     ]
    },
    {
     "name": "stdout",
     "output_type": "stream",
     "text": [
      "\n",
      "The downloaded binary packages are in\n",
      "\tC:\\Users\\aberian\\AppData\\Local\\Temp\\RtmpamnWVA\\downloaded_packages\n"
     ]
    }
   ],
   "source": [
    "install.packages(\"FSelectorRcpp\")"
   ]
  },
  {
   "cell_type": "code",
   "execution_count": 6,
   "metadata": {},
   "outputs": [
    {
     "data": {
      "text/html": [
       "<table>\n",
       "<thead><tr><th scope=col>crime_index</th><th scope=col>urban_ratio</th><th scope=col>industry_ratio</th><th scope=col>c_river_variable</th><th scope=col>nox_concentration</th><th scope=col>rooms_per_dwelling</th><th scope=col>dwelling_age</th><th scope=col>dwelling_dist</th><th scope=col>highway_index</th><th scope=col>tax_ratio</th><th scope=col>teacher_ratio</th><th scope=col>racial_index</th><th scope=col>lower_status</th><th scope=col>median_value</th></tr></thead>\n",
       "<tbody>\n",
       "\t<tr><td>0.00632</td><td>18     </td><td>2.31   </td><td>0      </td><td>0.538  </td><td>6.575  </td><td>65.2   </td><td>4.0900 </td><td>1      </td><td>296    </td><td>15.3   </td><td>396.90 </td><td>4.98   </td><td>24.0   </td></tr>\n",
       "\t<tr><td>0.02731</td><td> 0     </td><td>7.07   </td><td>0      </td><td>0.469  </td><td>6.421  </td><td>78.9   </td><td>4.9671 </td><td>2      </td><td>242    </td><td>17.8   </td><td>396.90 </td><td>9.14   </td><td>21.6   </td></tr>\n",
       "\t<tr><td>0.02729</td><td> 0     </td><td>7.07   </td><td>0      </td><td>0.469  </td><td>7.185  </td><td>61.1   </td><td>4.9671 </td><td>2      </td><td>242    </td><td>17.8   </td><td>392.83 </td><td>4.03   </td><td>34.7   </td></tr>\n",
       "\t<tr><td>0.03237</td><td> 0     </td><td>2.18   </td><td>0      </td><td>0.458  </td><td>6.998  </td><td>45.8   </td><td>6.0622 </td><td>3      </td><td>222    </td><td>18.7   </td><td>394.63 </td><td>2.94   </td><td>33.4   </td></tr>\n",
       "\t<tr><td>0.06905</td><td> 0     </td><td>2.18   </td><td>0      </td><td>0.458  </td><td>7.147  </td><td>54.2   </td><td>6.0622 </td><td>3      </td><td>222    </td><td>18.7   </td><td>396.90 </td><td>5.33   </td><td>36.2   </td></tr>\n",
       "\t<tr><td>0.02985</td><td> 0     </td><td>2.18   </td><td>0      </td><td>0.458  </td><td>6.430  </td><td>58.7   </td><td>6.0622 </td><td>3      </td><td>222    </td><td>18.7   </td><td>394.12 </td><td>5.21   </td><td>28.7   </td></tr>\n",
       "</tbody>\n",
       "</table>\n"
      ],
      "text/latex": [
       "\\begin{tabular}{r|llllllllllllll}\n",
       " crime\\_index & urban\\_ratio & industry\\_ratio & c\\_river\\_variable & nox\\_concentration & rooms\\_per\\_dwelling & dwelling\\_age & dwelling\\_dist & highway\\_index & tax\\_ratio & teacher\\_ratio & racial\\_index & lower\\_status & median\\_value\\\\\n",
       "\\hline\n",
       "\t 0.00632 & 18      & 2.31    & 0       & 0.538   & 6.575   & 65.2    & 4.0900  & 1       & 296     & 15.3    & 396.90  & 4.98    & 24.0   \\\\\n",
       "\t 0.02731 &  0      & 7.07    & 0       & 0.469   & 6.421   & 78.9    & 4.9671  & 2       & 242     & 17.8    & 396.90  & 9.14    & 21.6   \\\\\n",
       "\t 0.02729 &  0      & 7.07    & 0       & 0.469   & 7.185   & 61.1    & 4.9671  & 2       & 242     & 17.8    & 392.83  & 4.03    & 34.7   \\\\\n",
       "\t 0.03237 &  0      & 2.18    & 0       & 0.458   & 6.998   & 45.8    & 6.0622  & 3       & 222     & 18.7    & 394.63  & 2.94    & 33.4   \\\\\n",
       "\t 0.06905 &  0      & 2.18    & 0       & 0.458   & 7.147   & 54.2    & 6.0622  & 3       & 222     & 18.7    & 396.90  & 5.33    & 36.2   \\\\\n",
       "\t 0.02985 &  0      & 2.18    & 0       & 0.458   & 6.430   & 58.7    & 6.0622  & 3       & 222     & 18.7    & 394.12  & 5.21    & 28.7   \\\\\n",
       "\\end{tabular}\n"
      ],
      "text/markdown": [
       "\n",
       "| crime_index | urban_ratio | industry_ratio | c_river_variable | nox_concentration | rooms_per_dwelling | dwelling_age | dwelling_dist | highway_index | tax_ratio | teacher_ratio | racial_index | lower_status | median_value |\n",
       "|---|---|---|---|---|---|---|---|---|---|---|---|---|---|\n",
       "| 0.00632 | 18      | 2.31    | 0       | 0.538   | 6.575   | 65.2    | 4.0900  | 1       | 296     | 15.3    | 396.90  | 4.98    | 24.0    |\n",
       "| 0.02731 |  0      | 7.07    | 0       | 0.469   | 6.421   | 78.9    | 4.9671  | 2       | 242     | 17.8    | 396.90  | 9.14    | 21.6    |\n",
       "| 0.02729 |  0      | 7.07    | 0       | 0.469   | 7.185   | 61.1    | 4.9671  | 2       | 242     | 17.8    | 392.83  | 4.03    | 34.7    |\n",
       "| 0.03237 |  0      | 2.18    | 0       | 0.458   | 6.998   | 45.8    | 6.0622  | 3       | 222     | 18.7    | 394.63  | 2.94    | 33.4    |\n",
       "| 0.06905 |  0      | 2.18    | 0       | 0.458   | 7.147   | 54.2    | 6.0622  | 3       | 222     | 18.7    | 396.90  | 5.33    | 36.2    |\n",
       "| 0.02985 |  0      | 2.18    | 0       | 0.458   | 6.430   | 58.7    | 6.0622  | 3       | 222     | 18.7    | 394.12  | 5.21    | 28.7    |\n",
       "\n"
      ],
      "text/plain": [
       "  crime_index urban_ratio industry_ratio c_river_variable nox_concentration\n",
       "1 0.00632     18          2.31           0                0.538            \n",
       "2 0.02731      0          7.07           0                0.469            \n",
       "3 0.02729      0          7.07           0                0.469            \n",
       "4 0.03237      0          2.18           0                0.458            \n",
       "5 0.06905      0          2.18           0                0.458            \n",
       "6 0.02985      0          2.18           0                0.458            \n",
       "  rooms_per_dwelling dwelling_age dwelling_dist highway_index tax_ratio\n",
       "1 6.575              65.2         4.0900        1             296      \n",
       "2 6.421              78.9         4.9671        2             242      \n",
       "3 7.185              61.1         4.9671        2             242      \n",
       "4 6.998              45.8         6.0622        3             222      \n",
       "5 7.147              54.2         6.0622        3             222      \n",
       "6 6.430              58.7         6.0622        3             222      \n",
       "  teacher_ratio racial_index lower_status median_value\n",
       "1 15.3          396.90       4.98         24.0        \n",
       "2 17.8          396.90       9.14         21.6        \n",
       "3 17.8          392.83       4.03         34.7        \n",
       "4 18.7          394.63       2.94         33.4        \n",
       "5 18.7          396.90       5.33         36.2        \n",
       "6 18.7          394.12       5.21         28.7        "
      ]
     },
     "metadata": {},
     "output_type": "display_data"
    }
   ],
   "source": [
    "# Cargamos dataset\n",
    "raw_data <- read.csv(file = 'datos_ciudad.csv', header = T, sep = ';')\n",
    "head(raw_data)"
   ]
  },
  {
   "cell_type": "code",
   "execution_count": 7,
   "metadata": {},
   "outputs": [
    {
     "data": {
      "image/png": "[encoded data removed]",
      "text/plain": [
       "Plot with title \"Histogram of raw_data$median_value\""
      ]
     },
     "metadata": {},
     "output_type": "display_data"
    }
   ],
   "source": [
    "#Visualizamos el median_value y observamos que hay dos grupos que podmeos clasificar como vivienda cara y vivienda barata\n",
    "hist(raw_data$median_value\n",
    "     , breaks = seq(0,50,2.5))"
   ]
  },
  {
   "cell_type": "code",
   "execution_count": 8,
   "metadata": {},
   "outputs": [
    {
     "data": {
      "text/html": [
       "<ol class=list-inline>\n",
       "\t<li>0</li>\n",
       "\t<li>0</li>\n",
       "\t<li>0</li>\n",
       "\t<li>0</li>\n",
       "\t<li>0</li>\n",
       "\t<li>0</li>\n",
       "</ol>\n"
      ],
      "text/latex": [
       "\\begin{enumerate*}\n",
       "\\item 0\n",
       "\\item 0\n",
       "\\item 0\n",
       "\\item 0\n",
       "\\item 0\n",
       "\\item 0\n",
       "\\end{enumerate*}\n"
      ],
      "text/markdown": [
       "1. 0\n",
       "2. 0\n",
       "3. 0\n",
       "4. 0\n",
       "5. 0\n",
       "6. 0\n",
       "\n",
       "\n"
      ],
      "text/plain": [
       "[1] 0 0 0 0 0 0"
      ]
     },
     "metadata": {},
     "output_type": "display_data"
    },
    {
     "data": {
      "text/html": [
       "<table>\n",
       "<thead><tr><th scope=col>crime_index</th><th scope=col>urban_ratio</th><th scope=col>industry_ratio</th><th scope=col>c_river_variable</th><th scope=col>nox_concentration</th><th scope=col>rooms_per_dwelling</th><th scope=col>dwelling_age</th><th scope=col>dwelling_dist</th><th scope=col>highway_index</th><th scope=col>tax_ratio</th><th scope=col>teacher_ratio</th><th scope=col>racial_index</th><th scope=col>lower_status</th><th scope=col>median_value</th><th scope=col>target</th></tr></thead>\n",
       "<tbody>\n",
       "\t<tr><td>0.00632</td><td>18     </td><td>2.31   </td><td>0      </td><td>0.538  </td><td>6.575  </td><td>65.2   </td><td>4.0900 </td><td>1      </td><td>296    </td><td>15.3   </td><td>396.90 </td><td>4.98   </td><td>24.0   </td><td>0      </td></tr>\n",
       "\t<tr><td>0.02731</td><td> 0     </td><td>7.07   </td><td>0      </td><td>0.469  </td><td>6.421  </td><td>78.9   </td><td>4.9671 </td><td>2      </td><td>242    </td><td>17.8   </td><td>396.90 </td><td>9.14   </td><td>21.6   </td><td>0      </td></tr>\n",
       "\t<tr><td>0.02729</td><td> 0     </td><td>7.07   </td><td>0      </td><td>0.469  </td><td>7.185  </td><td>61.1   </td><td>4.9671 </td><td>2      </td><td>242    </td><td>17.8   </td><td>392.83 </td><td>4.03   </td><td>34.7   </td><td>0      </td></tr>\n",
       "\t<tr><td>0.03237</td><td> 0     </td><td>2.18   </td><td>0      </td><td>0.458  </td><td>6.998  </td><td>45.8   </td><td>6.0622 </td><td>3      </td><td>222    </td><td>18.7   </td><td>394.63 </td><td>2.94   </td><td>33.4   </td><td>0      </td></tr>\n",
       "\t<tr><td>0.06905</td><td> 0     </td><td>2.18   </td><td>0      </td><td>0.458  </td><td>7.147  </td><td>54.2   </td><td>6.0622 </td><td>3      </td><td>222    </td><td>18.7   </td><td>396.90 </td><td>5.33   </td><td>36.2   </td><td>0      </td></tr>\n",
       "\t<tr><td>0.02985</td><td> 0     </td><td>2.18   </td><td>0      </td><td>0.458  </td><td>6.430  </td><td>58.7   </td><td>6.0622 </td><td>3      </td><td>222    </td><td>18.7   </td><td>394.12 </td><td>5.21   </td><td>28.7   </td><td>0      </td></tr>\n",
       "</tbody>\n",
       "</table>\n"
      ],
      "text/latex": [
       "\\begin{tabular}{r|lllllllllllllll}\n",
       " crime\\_index & urban\\_ratio & industry\\_ratio & c\\_river\\_variable & nox\\_concentration & rooms\\_per\\_dwelling & dwelling\\_age & dwelling\\_dist & highway\\_index & tax\\_ratio & teacher\\_ratio & racial\\_index & lower\\_status & median\\_value & target\\\\\n",
       "\\hline\n",
       "\t 0.00632 & 18      & 2.31    & 0       & 0.538   & 6.575   & 65.2    & 4.0900  & 1       & 296     & 15.3    & 396.90  & 4.98    & 24.0    & 0      \\\\\n",
       "\t 0.02731 &  0      & 7.07    & 0       & 0.469   & 6.421   & 78.9    & 4.9671  & 2       & 242     & 17.8    & 396.90  & 9.14    & 21.6    & 0      \\\\\n",
       "\t 0.02729 &  0      & 7.07    & 0       & 0.469   & 7.185   & 61.1    & 4.9671  & 2       & 242     & 17.8    & 392.83  & 4.03    & 34.7    & 0      \\\\\n",
       "\t 0.03237 &  0      & 2.18    & 0       & 0.458   & 6.998   & 45.8    & 6.0622  & 3       & 222     & 18.7    & 394.63  & 2.94    & 33.4    & 0      \\\\\n",
       "\t 0.06905 &  0      & 2.18    & 0       & 0.458   & 7.147   & 54.2    & 6.0622  & 3       & 222     & 18.7    & 396.90  & 5.33    & 36.2    & 0      \\\\\n",
       "\t 0.02985 &  0      & 2.18    & 0       & 0.458   & 6.430   & 58.7    & 6.0622  & 3       & 222     & 18.7    & 394.12  & 5.21    & 28.7    & 0      \\\\\n",
       "\\end{tabular}\n"
      ],
      "text/markdown": [
       "\n",
       "| crime_index | urban_ratio | industry_ratio | c_river_variable | nox_concentration | rooms_per_dwelling | dwelling_age | dwelling_dist | highway_index | tax_ratio | teacher_ratio | racial_index | lower_status | median_value | target |\n",
       "|---|---|---|---|---|---|---|---|---|---|---|---|---|---|---|\n",
       "| 0.00632 | 18      | 2.31    | 0       | 0.538   | 6.575   | 65.2    | 4.0900  | 1       | 296     | 15.3    | 396.90  | 4.98    | 24.0    | 0       |\n",
       "| 0.02731 |  0      | 7.07    | 0       | 0.469   | 6.421   | 78.9    | 4.9671  | 2       | 242     | 17.8    | 396.90  | 9.14    | 21.6    | 0       |\n",
       "| 0.02729 |  0      | 7.07    | 0       | 0.469   | 7.185   | 61.1    | 4.9671  | 2       | 242     | 17.8    | 392.83  | 4.03    | 34.7    | 0       |\n",
       "| 0.03237 |  0      | 2.18    | 0       | 0.458   | 6.998   | 45.8    | 6.0622  | 3       | 222     | 18.7    | 394.63  | 2.94    | 33.4    | 0       |\n",
       "| 0.06905 |  0      | 2.18    | 0       | 0.458   | 7.147   | 54.2    | 6.0622  | 3       | 222     | 18.7    | 396.90  | 5.33    | 36.2    | 0       |\n",
       "| 0.02985 |  0      | 2.18    | 0       | 0.458   | 6.430   | 58.7    | 6.0622  | 3       | 222     | 18.7    | 394.12  | 5.21    | 28.7    | 0       |\n",
       "\n"
      ],
      "text/plain": [
       "  crime_index urban_ratio industry_ratio c_river_variable nox_concentration\n",
       "1 0.00632     18          2.31           0                0.538            \n",
       "2 0.02731      0          7.07           0                0.469            \n",
       "3 0.02729      0          7.07           0                0.469            \n",
       "4 0.03237      0          2.18           0                0.458            \n",
       "5 0.06905      0          2.18           0                0.458            \n",
       "6 0.02985      0          2.18           0                0.458            \n",
       "  rooms_per_dwelling dwelling_age dwelling_dist highway_index tax_ratio\n",
       "1 6.575              65.2         4.0900        1             296      \n",
       "2 6.421              78.9         4.9671        2             242      \n",
       "3 7.185              61.1         4.9671        2             242      \n",
       "4 6.998              45.8         6.0622        3             222      \n",
       "5 7.147              54.2         6.0622        3             222      \n",
       "6 6.430              58.7         6.0622        3             222      \n",
       "  teacher_ratio racial_index lower_status median_value target\n",
       "1 15.3          396.90       4.98         24.0         0     \n",
       "2 17.8          396.90       9.14         21.6         0     \n",
       "3 17.8          392.83       4.03         34.7         0     \n",
       "4 18.7          394.63       2.94         33.4         0     \n",
       "5 18.7          396.90       5.33         36.2         0     \n",
       "6 18.7          394.12       5.21         28.7         0     "
      ]
     },
     "metadata": {},
     "output_type": "display_data"
    }
   ],
   "source": [
    "#Definimos la variable target:\n",
    "raw_data$target <- ifelse(raw_data$median_value > 37.5, 1, 0)\n",
    "head(raw_data$target)\n",
    "head(raw_data)"
   ]
  },
  {
   "cell_type": "code",
   "execution_count": 9,
   "metadata": {},
   "outputs": [
    {
     "name": "stdout",
     "output_type": "stream",
     "text": [
      "[1] \"Instancias con valor de vivienda alto:\"\n"
     ]
    },
    {
     "data": {
      "text/html": [
       "35"
      ],
      "text/latex": [
       "35"
      ],
      "text/markdown": [
       "35"
      ],
      "text/plain": [
       "[1] 35"
      ]
     },
     "metadata": {},
     "output_type": "display_data"
    },
    {
     "name": "stdout",
     "output_type": "stream",
     "text": [
      "[1] \"Numero total de instancias:\"\n"
     ]
    },
    {
     "data": {
      "text/html": [
       "506"
      ],
      "text/latex": [
       "506"
      ],
      "text/markdown": [
       "506"
      ],
      "text/plain": [
       "[1] 506"
      ]
     },
     "metadata": {},
     "output_type": "display_data"
    },
    {
     "name": "stdout",
     "output_type": "stream",
     "text": [
      "[1] \"Proporcion de viviendas de valor alto sobre el total:\"\n"
     ]
    },
    {
     "data": {
      "text/html": [
       "93.08"
      ],
      "text/latex": [
       "93.08"
      ],
      "text/markdown": [
       "93.08"
      ],
      "text/plain": [
       "[1] 93.08"
      ]
     },
     "metadata": {},
     "output_type": "display_data"
    }
   ],
   "source": [
    "print(\"Instancias con valor de vivienda alto:\")\n",
    "sum(raw_data$target)\n",
    "\n",
    "print(\"Numero total de instancias:\")\n",
    "nrow(raw_data)\n",
    "\n",
    "print(\"Proporcion de viviendas de valor alto sobre el total:\")\n",
    "round(1 - sum(raw_data$target) / nrow(raw_data),4) * 100"
   ]
  },
  {
   "cell_type": "code",
   "execution_count": 10,
   "metadata": {},
   "outputs": [
    {
     "data": {
      "image/png": "[encoded data removed]",
      "text/plain": [
       "Plot with title \"Distribucion de la variable 'median_value' sobre la clase\""
      ]
     },
     "metadata": {},
     "output_type": "display_data"
    }
   ],
   "source": [
    "#Visualizamos el median_value y observamos que hay dos grupos que podmeos clasificar como vivienda cara y vivienda barata\n",
    "hist(subset(raw_data, target == 0)$median_value\n",
    "     , breaks = seq(0,50,2.5)\n",
    "     , col=rgb(1,0,0,0.2)\n",
    "     , xlim=c(0,50)\n",
    "     , main=\"Distribucion de la variable 'median_value' sobre la clase\"\n",
    "     , xlab = 'Viviendas')\n",
    "\n",
    "hist(subset(raw_data, target == 1)$median_value\n",
    "     , breaks = seq(0,50,2.5)\n",
    "     , col=rgb(0,0,1,0.2)\n",
    "     , xlim=c(0,50)\n",
    "     , add=T)\n",
    "\n",
    "# Add legend\n",
    "legend(\"topright\"\n",
    "    , legend=c(\"median_value <=37.5\"\n",
    "               ,\"median_value >37.5\")\n",
    "       , col=c(rgb(1,0,0,0.5)\n",
    "               , rgb(0,0,1,0.5))\n",
    "       , pt.cex=2\n",
    "       , pch=15 )"
   ]
  },
  {
   "cell_type": "markdown",
   "metadata": {},
   "source": [
    "## Correlación"
   ]
  },
  {
   "cell_type": "code",
   "execution_count": 11,
   "metadata": {
    "scrolled": false
   },
   "outputs": [
    {
     "name": "stderr",
     "output_type": "stream",
     "text": [
      "Warning message:\n",
      "\"package 'corrplot' was built under R version 3.6.3\"corrplot 0.84 loaded\n"
     ]
    },
    {
     "data": {
      "image/png": "[encoded data removed]",
      "text/plain": [
       "Plot with title \"\""
      ]
     },
     "metadata": {},
     "output_type": "display_data"
    }
   ],
   "source": [
    "#Hacemos estudio de correlacion para entender las variables que tienen una relacion lineal\n",
    "library(corrplot)\n",
    "corrplot::corrplot(cor(raw_data)\n",
    "                   , number.cex = .6\n",
    "                   , order = \"hclust\"\n",
    "                   , tl.col = \"black\"\n",
    "                   , tl.srt = 90)"
   ]
  },
  {
   "cell_type": "code",
   "execution_count": 12,
   "metadata": {},
   "outputs": [
    {
     "data": {
      "text/html": [
       "<table>\n",
       "<thead><tr><th></th><th scope=col>crime_index</th><th scope=col>urban_ratio</th><th scope=col>industry_ratio</th><th scope=col>c_river_variable</th><th scope=col>nox_concentration</th><th scope=col>rooms_per_dwelling</th><th scope=col>dwelling_age</th><th scope=col>dwelling_dist</th><th scope=col>highway_index</th><th scope=col>tax_ratio</th><th scope=col>teacher_ratio</th><th scope=col>racial_index</th><th scope=col>lower_status</th><th scope=col>median_value</th><th scope=col>target</th></tr></thead>\n",
       "<tbody>\n",
       "\t<tr><th scope=row>crime_index</th><td> 1.00000000 </td><td>-0.20046922 </td><td> 0.40658341 </td><td>-0.055891582</td><td> 0.42097171 </td><td>-0.21924670 </td><td> 0.352734251</td><td>-0.37967009 </td><td> 0.625505145</td><td> 0.58276431 </td><td> 0.2899456  </td><td>-0.38506394 </td><td> 0.4556215  </td><td>-0.3883046  </td><td>-0.070334909</td></tr>\n",
       "\t<tr><th scope=row>urban_ratio</th><td>-0.20046922 </td><td> 1.00000000 </td><td>-0.53382819 </td><td>-0.042696719</td><td>-0.51660371 </td><td> 0.31199059 </td><td>-0.569537342</td><td> 0.66440822 </td><td>-0.311947826</td><td>-0.31456332 </td><td>-0.3916785  </td><td> 0.17552032 </td><td>-0.4129946  </td><td> 0.3604453  </td><td> 0.099205295</td></tr>\n",
       "\t<tr><th scope=row>industry_ratio</th><td> 0.40658341 </td><td>-0.53382819 </td><td> 1.00000000 </td><td> 0.062938027</td><td> 0.76365145 </td><td>-0.39167585 </td><td> 0.644778511</td><td>-0.70802699 </td><td> 0.595129275</td><td> 0.72076018 </td><td> 0.3832476  </td><td>-0.35697654 </td><td> 0.6037997  </td><td>-0.4837252  </td><td>-0.120286870</td></tr>\n",
       "\t<tr><th scope=row>c_river_variable</th><td>-0.05589158 </td><td>-0.04269672 </td><td> 0.06293803 </td><td> 1.000000000</td><td> 0.09120281 </td><td> 0.09125123 </td><td> 0.086517774</td><td>-0.09917578 </td><td>-0.007368241</td><td>-0.03558652 </td><td>-0.1215152  </td><td> 0.04878848 </td><td>-0.0539293  </td><td> 0.1752602  </td><td> 0.140552017</td></tr>\n",
       "\t<tr><th scope=row>nox_concentration</th><td> 0.42097171 </td><td>-0.51660371 </td><td> 0.76365145 </td><td> 0.091202807</td><td> 1.00000000 </td><td>-0.30218819 </td><td> 0.731470104</td><td>-0.76923011 </td><td> 0.611440563</td><td> 0.66802320 </td><td> 0.1889327  </td><td>-0.38005064 </td><td> 0.5908789  </td><td>-0.4273208  </td><td>-0.063332389</td></tr>\n",
       "\t<tr><th scope=row>rooms_per_dwelling</th><td>-0.21924670 </td><td> 0.31199059 </td><td>-0.39167585 </td><td> 0.091251225</td><td>-0.30218819 </td><td> 1.00000000 </td><td>-0.240264931</td><td> 0.20524621 </td><td>-0.209846668</td><td>-0.29204783 </td><td>-0.3555015  </td><td> 0.12806864 </td><td>-0.6138083  </td><td> 0.6953599  </td><td> 0.534147967</td></tr>\n",
       "\t<tr><th scope=row>dwelling_age</th><td> 0.35273425 </td><td>-0.56953734 </td><td> 0.64477851 </td><td> 0.086517774</td><td> 0.73147010 </td><td>-0.24026493 </td><td> 1.000000000</td><td>-0.74788054 </td><td> 0.456022452</td><td> 0.50645559 </td><td> 0.2615150  </td><td>-0.27353398 </td><td> 0.6023385  </td><td>-0.3769546  </td><td>-0.002055504</td></tr>\n",
       "\t<tr><th scope=row>dwelling_dist</th><td>-0.37967009 </td><td> 0.66440822 </td><td>-0.70802699 </td><td>-0.099175780</td><td>-0.76923011 </td><td> 0.20524621 </td><td>-0.747880541</td><td> 1.00000000 </td><td>-0.494587930</td><td>-0.53443158 </td><td>-0.2324705  </td><td> 0.29151167 </td><td>-0.4969958  </td><td> 0.2499287  </td><td>-0.060448023</td></tr>\n",
       "\t<tr><th scope=row>highway_index</th><td> 0.62550515 </td><td>-0.31194783 </td><td> 0.59512927 </td><td>-0.007368241</td><td> 0.61144056 </td><td>-0.20984667 </td><td> 0.456022452</td><td>-0.49458793 </td><td> 1.000000000</td><td> 0.91022819 </td><td> 0.4647412  </td><td>-0.44441282 </td><td> 0.4886763  </td><td>-0.3816262  </td><td>-0.061090574</td></tr>\n",
       "\t<tr><th scope=row>tax_ratio</th><td> 0.58276431 </td><td>-0.31456332 </td><td> 0.72076018 </td><td>-0.035586518</td><td> 0.66802320 </td><td>-0.29204783 </td><td> 0.506455594</td><td>-0.53443158 </td><td> 0.910228189</td><td> 1.00000000 </td><td> 0.4608530  </td><td>-0.44180801 </td><td> 0.5439934  </td><td>-0.4685359  </td><td>-0.110802490</td></tr>\n",
       "\t<tr><th scope=row>teacher_ratio</th><td> 0.28994558 </td><td>-0.39167855 </td><td> 0.38324756 </td><td>-0.121515174</td><td> 0.18893268 </td><td>-0.35550149 </td><td> 0.261515012</td><td>-0.23247054 </td><td> 0.464741179</td><td> 0.46085304 </td><td> 1.0000000  </td><td>-0.17738330 </td><td> 0.3740443  </td><td>-0.5077867  </td><td>-0.272762397</td></tr>\n",
       "\t<tr><th scope=row>racial_index</th><td>-0.38506394 </td><td> 0.17552032 </td><td>-0.35697654 </td><td> 0.048788485</td><td>-0.38005064 </td><td> 0.12806864 </td><td>-0.273533977</td><td> 0.29151167 </td><td>-0.444412816</td><td>-0.44180801 </td><td>-0.1773833  </td><td> 1.00000000 </td><td>-0.3660869  </td><td> 0.3334608  </td><td> 0.084025535</td></tr>\n",
       "\t<tr><th scope=row>lower_status</th><td> 0.45562148 </td><td>-0.41299457 </td><td> 0.60379972 </td><td>-0.053929298</td><td> 0.59087892 </td><td>-0.61380827 </td><td> 0.602338529</td><td>-0.49699583 </td><td> 0.488676335</td><td> 0.54399341 </td><td> 0.3740443  </td><td>-0.36608690 </td><td> 1.0000000  </td><td>-0.7376627  </td><td>-0.321134569</td></tr>\n",
       "\t<tr><th scope=row>median_value</th><td>-0.38830461 </td><td> 0.36044534 </td><td>-0.48372516 </td><td> 0.175260177</td><td>-0.42732077 </td><td> 0.69535995 </td><td>-0.376954565</td><td> 0.24992873 </td><td>-0.381626231</td><td>-0.46853593 </td><td>-0.5077867  </td><td> 0.33346082 </td><td>-0.7376627  </td><td> 1.0000000  </td><td> 0.708962031</td></tr>\n",
       "\t<tr><th scope=row>target</th><td>-0.07033491 </td><td> 0.09920530 </td><td>-0.12028687 </td><td> 0.140552017</td><td>-0.06333239 </td><td> 0.53414797 </td><td>-0.002055504</td><td>-0.06044802 </td><td>-0.061090574</td><td>-0.11080249 </td><td>-0.2727624  </td><td> 0.08402554 </td><td>-0.3211346  </td><td> 0.7089620  </td><td> 1.000000000</td></tr>\n",
       "</tbody>\n",
       "</table>\n"
      ],
      "text/latex": [
       "\\begin{tabular}{r|lllllllllllllll}\n",
       "  & crime\\_index & urban\\_ratio & industry\\_ratio & c\\_river\\_variable & nox\\_concentration & rooms\\_per\\_dwelling & dwelling\\_age & dwelling\\_dist & highway\\_index & tax\\_ratio & teacher\\_ratio & racial\\_index & lower\\_status & median\\_value & target\\\\\n",
       "\\hline\n",
       "\tcrime\\_index &  1.00000000  & -0.20046922  &  0.40658341  & -0.055891582 &  0.42097171  & -0.21924670  &  0.352734251 & -0.37967009  &  0.625505145 &  0.58276431  &  0.2899456   & -0.38506394  &  0.4556215   & -0.3883046   & -0.070334909\\\\\n",
       "\turban\\_ratio & -0.20046922  &  1.00000000  & -0.53382819  & -0.042696719 & -0.51660371  &  0.31199059  & -0.569537342 &  0.66440822  & -0.311947826 & -0.31456332  & -0.3916785   &  0.17552032  & -0.4129946   &  0.3604453   &  0.099205295\\\\\n",
       "\tindustry\\_ratio &  0.40658341  & -0.53382819  &  1.00000000  &  0.062938027 &  0.76365145  & -0.39167585  &  0.644778511 & -0.70802699  &  0.595129275 &  0.72076018  &  0.3832476   & -0.35697654  &  0.6037997   & -0.4837252   & -0.120286870\\\\\n",
       "\tc\\_river\\_variable & -0.05589158  & -0.04269672  &  0.06293803  &  1.000000000 &  0.09120281  &  0.09125123  &  0.086517774 & -0.09917578  & -0.007368241 & -0.03558652  & -0.1215152   &  0.04878848  & -0.0539293   &  0.1752602   &  0.140552017\\\\\n",
       "\tnox\\_concentration &  0.42097171  & -0.51660371  &  0.76365145  &  0.091202807 &  1.00000000  & -0.30218819  &  0.731470104 & -0.76923011  &  0.611440563 &  0.66802320  &  0.1889327   & -0.38005064  &  0.5908789   & -0.4273208   & -0.063332389\\\\\n",
       "\trooms\\_per\\_dwelling & -0.21924670  &  0.31199059  & -0.39167585  &  0.091251225 & -0.30218819  &  1.00000000  & -0.240264931 &  0.20524621  & -0.209846668 & -0.29204783  & -0.3555015   &  0.12806864  & -0.6138083   &  0.6953599   &  0.534147967\\\\\n",
       "\tdwelling\\_age &  0.35273425  & -0.56953734  &  0.64477851  &  0.086517774 &  0.73147010  & -0.24026493  &  1.000000000 & -0.74788054  &  0.456022452 &  0.50645559  &  0.2615150   & -0.27353398  &  0.6023385   & -0.3769546   & -0.002055504\\\\\n",
       "\tdwelling\\_dist & -0.37967009  &  0.66440822  & -0.70802699  & -0.099175780 & -0.76923011  &  0.20524621  & -0.747880541 &  1.00000000  & -0.494587930 & -0.53443158  & -0.2324705   &  0.29151167  & -0.4969958   &  0.2499287   & -0.060448023\\\\\n",
       "\thighway\\_index &  0.62550515  & -0.31194783  &  0.59512927  & -0.007368241 &  0.61144056  & -0.20984667  &  0.456022452 & -0.49458793  &  1.000000000 &  0.91022819  &  0.4647412   & -0.44441282  &  0.4886763   & -0.3816262   & -0.061090574\\\\\n",
       "\ttax\\_ratio &  0.58276431  & -0.31456332  &  0.72076018  & -0.035586518 &  0.66802320  & -0.29204783  &  0.506455594 & -0.53443158  &  0.910228189 &  1.00000000  &  0.4608530   & -0.44180801  &  0.5439934   & -0.4685359   & -0.110802490\\\\\n",
       "\tteacher\\_ratio &  0.28994558  & -0.39167855  &  0.38324756  & -0.121515174 &  0.18893268  & -0.35550149  &  0.261515012 & -0.23247054  &  0.464741179 &  0.46085304  &  1.0000000   & -0.17738330  &  0.3740443   & -0.5077867   & -0.272762397\\\\\n",
       "\tracial\\_index & -0.38506394  &  0.17552032  & -0.35697654  &  0.048788485 & -0.38005064  &  0.12806864  & -0.273533977 &  0.29151167  & -0.444412816 & -0.44180801  & -0.1773833   &  1.00000000  & -0.3660869   &  0.3334608   &  0.084025535\\\\\n",
       "\tlower\\_status &  0.45562148  & -0.41299457  &  0.60379972  & -0.053929298 &  0.59087892  & -0.61380827  &  0.602338529 & -0.49699583  &  0.488676335 &  0.54399341  &  0.3740443   & -0.36608690  &  1.0000000   & -0.7376627   & -0.321134569\\\\\n",
       "\tmedian\\_value & -0.38830461  &  0.36044534  & -0.48372516  &  0.175260177 & -0.42732077  &  0.69535995  & -0.376954565 &  0.24992873  & -0.381626231 & -0.46853593  & -0.5077867   &  0.33346082  & -0.7376627   &  1.0000000   &  0.708962031\\\\\n",
       "\ttarget & -0.07033491  &  0.09920530  & -0.12028687  &  0.140552017 & -0.06333239  &  0.53414797  & -0.002055504 & -0.06044802  & -0.061090574 & -0.11080249  & -0.2727624   &  0.08402554  & -0.3211346   &  0.7089620   &  1.000000000\\\\\n",
       "\\end{tabular}\n"
      ],
      "text/markdown": [
       "\n",
       "| <!--/--> | crime_index | urban_ratio | industry_ratio | c_river_variable | nox_concentration | rooms_per_dwelling | dwelling_age | dwelling_dist | highway_index | tax_ratio | teacher_ratio | racial_index | lower_status | median_value | target |\n",
       "|---|---|---|---|---|---|---|---|---|---|---|---|---|---|---|---|\n",
       "| crime_index |  1.00000000  | -0.20046922  |  0.40658341  | -0.055891582 |  0.42097171  | -0.21924670  |  0.352734251 | -0.37967009  |  0.625505145 |  0.58276431  |  0.2899456   | -0.38506394  |  0.4556215   | -0.3883046   | -0.070334909 |\n",
       "| urban_ratio | -0.20046922  |  1.00000000  | -0.53382819  | -0.042696719 | -0.51660371  |  0.31199059  | -0.569537342 |  0.66440822  | -0.311947826 | -0.31456332  | -0.3916785   |  0.17552032  | -0.4129946   |  0.3604453   |  0.099205295 |\n",
       "| industry_ratio |  0.40658341  | -0.53382819  |  1.00000000  |  0.062938027 |  0.76365145  | -0.39167585  |  0.644778511 | -0.70802699  |  0.595129275 |  0.72076018  |  0.3832476   | -0.35697654  |  0.6037997   | -0.4837252   | -0.120286870 |\n",
       "| c_river_variable | -0.05589158  | -0.04269672  |  0.06293803  |  1.000000000 |  0.09120281  |  0.09125123  |  0.086517774 | -0.09917578  | -0.007368241 | -0.03558652  | -0.1215152   |  0.04878848  | -0.0539293   |  0.1752602   |  0.140552017 |\n",
       "| nox_concentration |  0.42097171  | -0.51660371  |  0.76365145  |  0.091202807 |  1.00000000  | -0.30218819  |  0.731470104 | -0.76923011  |  0.611440563 |  0.66802320  |  0.1889327   | -0.38005064  |  0.5908789   | -0.4273208   | -0.063332389 |\n",
       "| rooms_per_dwelling | -0.21924670  |  0.31199059  | -0.39167585  |  0.091251225 | -0.30218819  |  1.00000000  | -0.240264931 |  0.20524621  | -0.209846668 | -0.29204783  | -0.3555015   |  0.12806864  | -0.6138083   |  0.6953599   |  0.534147967 |\n",
       "| dwelling_age |  0.35273425  | -0.56953734  |  0.64477851  |  0.086517774 |  0.73147010  | -0.24026493  |  1.000000000 | -0.74788054  |  0.456022452 |  0.50645559  |  0.2615150   | -0.27353398  |  0.6023385   | -0.3769546   | -0.002055504 |\n",
       "| dwelling_dist | -0.37967009  |  0.66440822  | -0.70802699  | -0.099175780 | -0.76923011  |  0.20524621  | -0.747880541 |  1.00000000  | -0.494587930 | -0.53443158  | -0.2324705   |  0.29151167  | -0.4969958   |  0.2499287   | -0.060448023 |\n",
       "| highway_index |  0.62550515  | -0.31194783  |  0.59512927  | -0.007368241 |  0.61144056  | -0.20984667  |  0.456022452 | -0.49458793  |  1.000000000 |  0.91022819  |  0.4647412   | -0.44441282  |  0.4886763   | -0.3816262   | -0.061090574 |\n",
       "| tax_ratio |  0.58276431  | -0.31456332  |  0.72076018  | -0.035586518 |  0.66802320  | -0.29204783  |  0.506455594 | -0.53443158  |  0.910228189 |  1.00000000  |  0.4608530   | -0.44180801  |  0.5439934   | -0.4685359   | -0.110802490 |\n",
       "| teacher_ratio |  0.28994558  | -0.39167855  |  0.38324756  | -0.121515174 |  0.18893268  | -0.35550149  |  0.261515012 | -0.23247054  |  0.464741179 |  0.46085304  |  1.0000000   | -0.17738330  |  0.3740443   | -0.5077867   | -0.272762397 |\n",
       "| racial_index | -0.38506394  |  0.17552032  | -0.35697654  |  0.048788485 | -0.38005064  |  0.12806864  | -0.273533977 |  0.29151167  | -0.444412816 | -0.44180801  | -0.1773833   |  1.00000000  | -0.3660869   |  0.3334608   |  0.084025535 |\n",
       "| lower_status |  0.45562148  | -0.41299457  |  0.60379972  | -0.053929298 |  0.59087892  | -0.61380827  |  0.602338529 | -0.49699583  |  0.488676335 |  0.54399341  |  0.3740443   | -0.36608690  |  1.0000000   | -0.7376627   | -0.321134569 |\n",
       "| median_value | -0.38830461  |  0.36044534  | -0.48372516  |  0.175260177 | -0.42732077  |  0.69535995  | -0.376954565 |  0.24992873  | -0.381626231 | -0.46853593  | -0.5077867   |  0.33346082  | -0.7376627   |  1.0000000   |  0.708962031 |\n",
       "| target | -0.07033491  |  0.09920530  | -0.12028687  |  0.140552017 | -0.06333239  |  0.53414797  | -0.002055504 | -0.06044802  | -0.061090574 | -0.11080249  | -0.2727624   |  0.08402554  | -0.3211346   |  0.7089620   |  1.000000000 |\n",
       "\n"
      ],
      "text/plain": [
       "                   crime_index urban_ratio industry_ratio c_river_variable\n",
       "crime_index         1.00000000 -0.20046922  0.40658341    -0.055891582    \n",
       "urban_ratio        -0.20046922  1.00000000 -0.53382819    -0.042696719    \n",
       "industry_ratio      0.40658341 -0.53382819  1.00000000     0.062938027    \n",
       "c_river_variable   -0.05589158 -0.04269672  0.06293803     1.000000000    \n",
       "nox_concentration   0.42097171 -0.51660371  0.76365145     0.091202807    \n",
       "rooms_per_dwelling -0.21924670  0.31199059 -0.39167585     0.091251225    \n",
       "dwelling_age        0.35273425 -0.56953734  0.64477851     0.086517774    \n",
       "dwelling_dist      -0.37967009  0.66440822 -0.70802699    -0.099175780    \n",
       "highway_index       0.62550515 -0.31194783  0.59512927    -0.007368241    \n",
       "tax_ratio           0.58276431 -0.31456332  0.72076018    -0.035586518    \n",
       "teacher_ratio       0.28994558 -0.39167855  0.38324756    -0.121515174    \n",
       "racial_index       -0.38506394  0.17552032 -0.35697654     0.048788485    \n",
       "lower_status        0.45562148 -0.41299457  0.60379972    -0.053929298    \n",
       "median_value       -0.38830461  0.36044534 -0.48372516     0.175260177    \n",
       "target             -0.07033491  0.09920530 -0.12028687     0.140552017    \n",
       "                   nox_concentration rooms_per_dwelling dwelling_age\n",
       "crime_index         0.42097171       -0.21924670         0.352734251\n",
       "urban_ratio        -0.51660371        0.31199059        -0.569537342\n",
       "industry_ratio      0.76365145       -0.39167585         0.644778511\n",
       "c_river_variable    0.09120281        0.09125123         0.086517774\n",
       "nox_concentration   1.00000000       -0.30218819         0.731470104\n",
       "rooms_per_dwelling -0.30218819        1.00000000        -0.240264931\n",
       "dwelling_age        0.73147010       -0.24026493         1.000000000\n",
       "dwelling_dist      -0.76923011        0.20524621        -0.747880541\n",
       "highway_index       0.61144056       -0.20984667         0.456022452\n",
       "tax_ratio           0.66802320       -0.29204783         0.506455594\n",
       "teacher_ratio       0.18893268       -0.35550149         0.261515012\n",
       "racial_index       -0.38005064        0.12806864        -0.273533977\n",
       "lower_status        0.59087892       -0.61380827         0.602338529\n",
       "median_value       -0.42732077        0.69535995        -0.376954565\n",
       "target             -0.06333239        0.53414797        -0.002055504\n",
       "                   dwelling_dist highway_index tax_ratio   teacher_ratio\n",
       "crime_index        -0.37967009    0.625505145   0.58276431  0.2899456   \n",
       "urban_ratio         0.66440822   -0.311947826  -0.31456332 -0.3916785   \n",
       "industry_ratio     -0.70802699    0.595129275   0.72076018  0.3832476   \n",
       "c_river_variable   -0.09917578   -0.007368241  -0.03558652 -0.1215152   \n",
       "nox_concentration  -0.76923011    0.611440563   0.66802320  0.1889327   \n",
       "rooms_per_dwelling  0.20524621   -0.209846668  -0.29204783 -0.3555015   \n",
       "dwelling_age       -0.74788054    0.456022452   0.50645559  0.2615150   \n",
       "dwelling_dist       1.00000000   -0.494587930  -0.53443158 -0.2324705   \n",
       "highway_index      -0.49458793    1.000000000   0.91022819  0.4647412   \n",
       "tax_ratio          -0.53443158    0.910228189   1.00000000  0.4608530   \n",
       "teacher_ratio      -0.23247054    0.464741179   0.46085304  1.0000000   \n",
       "racial_index        0.29151167   -0.444412816  -0.44180801 -0.1773833   \n",
       "lower_status       -0.49699583    0.488676335   0.54399341  0.3740443   \n",
       "median_value        0.24992873   -0.381626231  -0.46853593 -0.5077867   \n",
       "target             -0.06044802   -0.061090574  -0.11080249 -0.2727624   \n",
       "                   racial_index lower_status median_value target      \n",
       "crime_index        -0.38506394   0.4556215   -0.3883046   -0.070334909\n",
       "urban_ratio         0.17552032  -0.4129946    0.3604453    0.099205295\n",
       "industry_ratio     -0.35697654   0.6037997   -0.4837252   -0.120286870\n",
       "c_river_variable    0.04878848  -0.0539293    0.1752602    0.140552017\n",
       "nox_concentration  -0.38005064   0.5908789   -0.4273208   -0.063332389\n",
       "rooms_per_dwelling  0.12806864  -0.6138083    0.6953599    0.534147967\n",
       "dwelling_age       -0.27353398   0.6023385   -0.3769546   -0.002055504\n",
       "dwelling_dist       0.29151167  -0.4969958    0.2499287   -0.060448023\n",
       "highway_index      -0.44441282   0.4886763   -0.3816262   -0.061090574\n",
       "tax_ratio          -0.44180801   0.5439934   -0.4685359   -0.110802490\n",
       "teacher_ratio      -0.17738330   0.3740443   -0.5077867   -0.272762397\n",
       "racial_index        1.00000000  -0.3660869    0.3334608    0.084025535\n",
       "lower_status       -0.36608690   1.0000000   -0.7376627   -0.321134569\n",
       "median_value        0.33346082  -0.7376627    1.0000000    0.708962031\n",
       "target              0.08402554  -0.3211346    0.7089620    1.000000000"
      ]
     },
     "metadata": {},
     "output_type": "display_data"
    }
   ],
   "source": [
    "cor(raw_data)"
   ]
  },
  {
   "cell_type": "markdown",
   "metadata": {},
   "source": [
    "## PCA"
   ]
  },
  {
   "cell_type": "code",
   "execution_count": 14,
   "metadata": {},
   "outputs": [
    {
     "data": {
      "text/html": [
       "<table>\n",
       "<thead><tr><th scope=col>crime_index</th><th scope=col>urban_ratio</th><th scope=col>industry_ratio</th><th scope=col>c_river_variable</th><th scope=col>nox_concentration</th><th scope=col>rooms_per_dwelling</th><th scope=col>dwelling_age</th><th scope=col>dwelling_dist</th><th scope=col>highway_index</th><th scope=col>tax_ratio</th><th scope=col>teacher_ratio</th><th scope=col>racial_index</th><th scope=col>lower_status</th></tr></thead>\n",
       "<tbody>\n",
       "\t<tr><td>0.00632</td><td>18     </td><td>2.31   </td><td>0      </td><td>0.538  </td><td>6.575  </td><td>65.2   </td><td>4.0900 </td><td>1      </td><td>296    </td><td>15.3   </td><td>396.90 </td><td>4.98   </td></tr>\n",
       "\t<tr><td>0.02731</td><td> 0     </td><td>7.07   </td><td>0      </td><td>0.469  </td><td>6.421  </td><td>78.9   </td><td>4.9671 </td><td>2      </td><td>242    </td><td>17.8   </td><td>396.90 </td><td>9.14   </td></tr>\n",
       "\t<tr><td>0.02729</td><td> 0     </td><td>7.07   </td><td>0      </td><td>0.469  </td><td>7.185  </td><td>61.1   </td><td>4.9671 </td><td>2      </td><td>242    </td><td>17.8   </td><td>392.83 </td><td>4.03   </td></tr>\n",
       "\t<tr><td>0.03237</td><td> 0     </td><td>2.18   </td><td>0      </td><td>0.458  </td><td>6.998  </td><td>45.8   </td><td>6.0622 </td><td>3      </td><td>222    </td><td>18.7   </td><td>394.63 </td><td>2.94   </td></tr>\n",
       "\t<tr><td>0.06905</td><td> 0     </td><td>2.18   </td><td>0      </td><td>0.458  </td><td>7.147  </td><td>54.2   </td><td>6.0622 </td><td>3      </td><td>222    </td><td>18.7   </td><td>396.90 </td><td>5.33   </td></tr>\n",
       "\t<tr><td>0.02985</td><td> 0     </td><td>2.18   </td><td>0      </td><td>0.458  </td><td>6.430  </td><td>58.7   </td><td>6.0622 </td><td>3      </td><td>222    </td><td>18.7   </td><td>394.12 </td><td>5.21   </td></tr>\n",
       "</tbody>\n",
       "</table>\n"
      ],
      "text/latex": [
       "\\begin{tabular}{r|lllllllllllll}\n",
       " crime\\_index & urban\\_ratio & industry\\_ratio & c\\_river\\_variable & nox\\_concentration & rooms\\_per\\_dwelling & dwelling\\_age & dwelling\\_dist & highway\\_index & tax\\_ratio & teacher\\_ratio & racial\\_index & lower\\_status\\\\\n",
       "\\hline\n",
       "\t 0.00632 & 18      & 2.31    & 0       & 0.538   & 6.575   & 65.2    & 4.0900  & 1       & 296     & 15.3    & 396.90  & 4.98   \\\\\n",
       "\t 0.02731 &  0      & 7.07    & 0       & 0.469   & 6.421   & 78.9    & 4.9671  & 2       & 242     & 17.8    & 396.90  & 9.14   \\\\\n",
       "\t 0.02729 &  0      & 7.07    & 0       & 0.469   & 7.185   & 61.1    & 4.9671  & 2       & 242     & 17.8    & 392.83  & 4.03   \\\\\n",
       "\t 0.03237 &  0      & 2.18    & 0       & 0.458   & 6.998   & 45.8    & 6.0622  & 3       & 222     & 18.7    & 394.63  & 2.94   \\\\\n",
       "\t 0.06905 &  0      & 2.18    & 0       & 0.458   & 7.147   & 54.2    & 6.0622  & 3       & 222     & 18.7    & 396.90  & 5.33   \\\\\n",
       "\t 0.02985 &  0      & 2.18    & 0       & 0.458   & 6.430   & 58.7    & 6.0622  & 3       & 222     & 18.7    & 394.12  & 5.21   \\\\\n",
       "\\end{tabular}\n"
      ],
      "text/markdown": [
       "\n",
       "| crime_index | urban_ratio | industry_ratio | c_river_variable | nox_concentration | rooms_per_dwelling | dwelling_age | dwelling_dist | highway_index | tax_ratio | teacher_ratio | racial_index | lower_status |\n",
       "|---|---|---|---|---|---|---|---|---|---|---|---|---|\n",
       "| 0.00632 | 18      | 2.31    | 0       | 0.538   | 6.575   | 65.2    | 4.0900  | 1       | 296     | 15.3    | 396.90  | 4.98    |\n",
       "| 0.02731 |  0      | 7.07    | 0       | 0.469   | 6.421   | 78.9    | 4.9671  | 2       | 242     | 17.8    | 396.90  | 9.14    |\n",
       "| 0.02729 |  0      | 7.07    | 0       | 0.469   | 7.185   | 61.1    | 4.9671  | 2       | 242     | 17.8    | 392.83  | 4.03    |\n",
       "| 0.03237 |  0      | 2.18    | 0       | 0.458   | 6.998   | 45.8    | 6.0622  | 3       | 222     | 18.7    | 394.63  | 2.94    |\n",
       "| 0.06905 |  0      | 2.18    | 0       | 0.458   | 7.147   | 54.2    | 6.0622  | 3       | 222     | 18.7    | 396.90  | 5.33    |\n",
       "| 0.02985 |  0      | 2.18    | 0       | 0.458   | 6.430   | 58.7    | 6.0622  | 3       | 222     | 18.7    | 394.12  | 5.21    |\n",
       "\n"
      ],
      "text/plain": [
       "  crime_index urban_ratio industry_ratio c_river_variable nox_concentration\n",
       "1 0.00632     18          2.31           0                0.538            \n",
       "2 0.02731      0          7.07           0                0.469            \n",
       "3 0.02729      0          7.07           0                0.469            \n",
       "4 0.03237      0          2.18           0                0.458            \n",
       "5 0.06905      0          2.18           0                0.458            \n",
       "6 0.02985      0          2.18           0                0.458            \n",
       "  rooms_per_dwelling dwelling_age dwelling_dist highway_index tax_ratio\n",
       "1 6.575              65.2         4.0900        1             296      \n",
       "2 6.421              78.9         4.9671        2             242      \n",
       "3 7.185              61.1         4.9671        2             242      \n",
       "4 6.998              45.8         6.0622        3             222      \n",
       "5 7.147              54.2         6.0622        3             222      \n",
       "6 6.430              58.7         6.0622        3             222      \n",
       "  teacher_ratio racial_index lower_status\n",
       "1 15.3          396.90       4.98        \n",
       "2 17.8          396.90       9.14        \n",
       "3 17.8          392.83       4.03        \n",
       "4 18.7          394.63       2.94        \n",
       "5 18.7          396.90       5.33        \n",
       "6 18.7          394.12       5.21        "
      ]
     },
     "metadata": {},
     "output_type": "display_data"
    },
    {
     "data": {
      "text/plain": [
       "Importance of components:\n",
       "                            Comp.1     Comp.2      Comp.3       Comp.4\n",
       "Standard deviation     175.5815025 78.9808688 28.57877951 16.314343154\n",
       "Proportion of Variance   0.8058232  0.1630520  0.02134861  0.006956991\n",
       "Cumulative Proportion    0.8058232  0.9688751  0.99022375  0.997180743\n",
       "                            Comp.5       Comp.6       Comp.7       Comp.8\n",
       "Standard deviation     7.052166068 5.2746280353 4.0039530542 3.0835837933\n",
       "Proportion of Variance 0.001299952 0.0007272202 0.0004190445 0.0002485385\n",
       "Cumulative Proportion  0.998480695 0.9992079149 0.9996269594 0.9998754979\n",
       "                             Comp.9      Comp.10      Comp.11      Comp.12\n",
       "Standard deviation     1.8074464892 1.085637e+00 5.046300e-01 2.449075e-01\n",
       "Proportion of Variance 0.0000853912 3.080715e-05 6.656232e-06 1.567785e-06\n",
       "Cumulative Proportion  0.9999608891 9.999917e-01 9.999984e-01 9.999999e-01\n",
       "                            Comp.13\n",
       "Standard deviation     5.521250e-02\n",
       "Proportion of Variance 7.968142e-08\n",
       "Cumulative Proportion  1.000000e+00"
      ]
     },
     "metadata": {},
     "output_type": "display_data"
    }
   ],
   "source": [
    "raw_data_no_target <- raw_data\n",
    "raw_data_no_target$target <- NULL # eliminamos la columna class\n",
    "raw_data_no_target$median_value <- NULL # eliminamos la columna class, ya que los valores son los mismos\n",
    "head(raw_data_no_target)\n",
    "PCA<-princomp(raw_data_no_target, scores = T)\n",
    "summary(PCA)"
   ]
  },
  {
   "cell_type": "code",
   "execution_count": 10,
   "metadata": {},
   "outputs": [
    {
     "data": {
      "image/png": "[encoded data removed]",
      "text/plain": [
       "Plot with title \"PCA\""
      ]
     },
     "metadata": {
      "image/png": {
       "height": 420,
       "width": 420
      }
     },
     "output_type": "display_data"
    }
   ],
   "source": [
    "plot(PCA,type=\"bar\",col=\"blue\")"
   ]
  },
  {
   "cell_type": "code",
   "execution_count": 11,
   "metadata": {},
   "outputs": [
    {
     "data": {
      "text/plain": [
       "\n",
       "Loadings:\n",
       "                   Comp.1 Comp.2 Comp.3 Comp.4 Comp.5 Comp.6 Comp.7 Comp.8\n",
       "crime_index                                     0.952  0.169  0.216  0.124\n",
       "urban_ratio                      -0.633  0.768                            \n",
       "industry_ratio                                        -0.344  0.786 -0.491\n",
       "c_river_variable                                                          \n",
       "nox_concentration                                                         \n",
       "rooms_per_dwelling                                                        \n",
       "dwelling_age                      0.756  0.637         0.109              \n",
       "dwelling_dist                                                             \n",
       "highway_index                                   0.172  0.209 -0.432 -0.854\n",
       "tax_ratio           0.950 -0.292                                          \n",
       "teacher_ratio                                                             \n",
       "racial_index       -0.291 -0.956                                          \n",
       "lower_status                                    0.236 -0.888 -0.365       \n",
       "                   Comp.9 Comp.10 Comp.11 Comp.12 Comp.13\n",
       "crime_index                                              \n",
       "urban_ratio                                              \n",
       "industry_ratio                                           \n",
       "c_river_variable                           1.000         \n",
       "nox_concentration                                  1.000 \n",
       "rooms_per_dwelling                 0.994                 \n",
       "dwelling_age                                             \n",
       "dwelling_dist       0.225  0.965                         \n",
       "highway_index                                            \n",
       "tax_ratio                                                \n",
       "teacher_ratio       0.966 -0.230                         \n",
       "racial_index                                             \n",
       "lower_status                                             \n",
       "\n",
       "               Comp.1 Comp.2 Comp.3 Comp.4 Comp.5 Comp.6 Comp.7 Comp.8 Comp.9\n",
       "SS loadings     1.000  1.000  1.000  1.000  1.000  1.000  1.000  1.000  1.000\n",
       "Proportion Var  0.077  0.077  0.077  0.077  0.077  0.077  0.077  0.077  0.077\n",
       "Cumulative Var  0.077  0.154  0.231  0.308  0.385  0.462  0.538  0.615  0.692\n",
       "               Comp.10 Comp.11 Comp.12 Comp.13\n",
       "SS loadings      1.000   1.000   1.000   1.000\n",
       "Proportion Var   0.077   0.077   0.077   0.077\n",
       "Cumulative Var   0.769   0.846   0.923   1.000"
      ]
     },
     "metadata": {},
     "output_type": "display_data"
    }
   ],
   "source": [
    "PCA$loadings"
   ]
  },
  {
   "cell_type": "markdown",
   "metadata": {},
   "source": [
    "## Information Gain Algorithms:\n",
    "\n",
    "\n",
    "- \"infogain\": ${H(Class)} + H(Attribute) − H(Class, Attribute)$\n",
    "\n",
    "- \"gainratio\" : $H(Class) + H(Attribute) − H(Class, Attribute) / H(Attribute) $\n",
    "\n",
    "- \"symuncert\" : $2 * (H(Class) + H(Attribute) − H(Class, Attribute)) / (H(Attribute) + H(Class)) $\n",
    "\n",
    "where H(X) is Shannon’s Entropy for a variable X and H(X, Y) is a joint Shannon’s Entropy for a\n",
    "variable X with a condition to Y."
   ]
  },
  {
   "cell_type": "code",
   "execution_count": 30,
   "metadata": {},
   "outputs": [
    {
     "name": "stderr",
     "output_type": "stream",
     "text": [
      "Warning message in .information_gain.data.frame(x = x, y = y, type = type, equal = equal, :\n",
      "\"Dependent variable is a numeric! It will be converted to factor with simple factor(y). We do not discretize dependent variable in FSelectorRcpp by default! You can choose equal frequency binning discretization by setting equal argument to TRUE.\"\n"
     ]
    },
    {
     "data": {
      "text/html": [
       "<table>\n",
       "<caption>A data.frame: 14 × 2</caption>\n",
       "<thead>\n",
       "\t<tr><th scope=col>attributes</th><th scope=col>importance</th></tr>\n",
       "\t<tr><th scope=col>&lt;chr&gt;</th><th scope=col>&lt;dbl&gt;</th></tr>\n",
       "</thead>\n",
       "<tbody>\n",
       "\t<tr><td>crime_index       </td><td>0.00000000</td></tr>\n",
       "\t<tr><td>urban_ratio       </td><td>0.00000000</td></tr>\n",
       "\t<tr><td>industry_ratio    </td><td>0.05912294</td></tr>\n",
       "\t<tr><td>c_river_variable  </td><td>0.00000000</td></tr>\n",
       "\t<tr><td>nox_concentration </td><td>0.00000000</td></tr>\n",
       "\t<tr><td>rooms_per_dwelling</td><td>0.69197652</td></tr>\n",
       "\t<tr><td>dwelling_age      </td><td>0.00000000</td></tr>\n",
       "\t<tr><td>dwelling_dist     </td><td>0.00000000</td></tr>\n",
       "\t<tr><td>highway_index     </td><td>0.00000000</td></tr>\n",
       "\t<tr><td>tax_ratio         </td><td>0.00000000</td></tr>\n",
       "\t<tr><td>teacher_ratio     </td><td>0.10847828</td></tr>\n",
       "\t<tr><td>racial_index      </td><td>0.00000000</td></tr>\n",
       "\t<tr><td>lower_status      </td><td>0.21109084</td></tr>\n",
       "\t<tr><td>median_value      </td><td>1.00000000</td></tr>\n",
       "</tbody>\n",
       "</table>\n"
      ],
      "text/latex": [
       "A data.frame: 14 × 2\n",
       "\\begin{tabular}{ll}\n",
       " attributes & importance\\\\\n",
       " <chr> & <dbl>\\\\\n",
       "\\hline\n",
       "\t crime\\_index        & 0.00000000\\\\\n",
       "\t urban\\_ratio        & 0.00000000\\\\\n",
       "\t industry\\_ratio     & 0.05912294\\\\\n",
       "\t c\\_river\\_variable   & 0.00000000\\\\\n",
       "\t nox\\_concentration  & 0.00000000\\\\\n",
       "\t rooms\\_per\\_dwelling & 0.69197652\\\\\n",
       "\t dwelling\\_age       & 0.00000000\\\\\n",
       "\t dwelling\\_dist      & 0.00000000\\\\\n",
       "\t highway\\_index      & 0.00000000\\\\\n",
       "\t tax\\_ratio          & 0.00000000\\\\\n",
       "\t teacher\\_ratio      & 0.10847828\\\\\n",
       "\t racial\\_index       & 0.00000000\\\\\n",
       "\t lower\\_status       & 0.21109084\\\\\n",
       "\t median\\_value       & 1.00000000\\\\\n",
       "\\end{tabular}\n"
      ],
      "text/markdown": [
       "\n",
       "A data.frame: 14 × 2\n",
       "\n",
       "| attributes &lt;chr&gt; | importance &lt;dbl&gt; |\n",
       "|---|---|\n",
       "| crime_index        | 0.00000000 |\n",
       "| urban_ratio        | 0.00000000 |\n",
       "| industry_ratio     | 0.05912294 |\n",
       "| c_river_variable   | 0.00000000 |\n",
       "| nox_concentration  | 0.00000000 |\n",
       "| rooms_per_dwelling | 0.69197652 |\n",
       "| dwelling_age       | 0.00000000 |\n",
       "| dwelling_dist      | 0.00000000 |\n",
       "| highway_index      | 0.00000000 |\n",
       "| tax_ratio          | 0.00000000 |\n",
       "| teacher_ratio      | 0.10847828 |\n",
       "| racial_index       | 0.00000000 |\n",
       "| lower_status       | 0.21109084 |\n",
       "| median_value       | 1.00000000 |\n",
       "\n"
      ],
      "text/plain": [
       "   attributes         importance\n",
       "1  crime_index        0.00000000\n",
       "2  urban_ratio        0.00000000\n",
       "3  industry_ratio     0.05912294\n",
       "4  c_river_variable   0.00000000\n",
       "5  nox_concentration  0.00000000\n",
       "6  rooms_per_dwelling 0.69197652\n",
       "7  dwelling_age       0.00000000\n",
       "8  dwelling_dist      0.00000000\n",
       "9  highway_index      0.00000000\n",
       "10 tax_ratio          0.00000000\n",
       "11 teacher_ratio      0.10847828\n",
       "12 racial_index       0.00000000\n",
       "13 lower_status       0.21109084\n",
       "14 median_value       1.00000000"
      ]
     },
     "metadata": {},
     "output_type": "display_data"
    }
   ],
   "source": [
    "#Con la funcion de information gain somos capaces de ver que atributos \"esconden\" informacuion sobre nuestra funcion de target\n",
    "library(FSelectorRcpp)\n",
    "i = information_gain(formula = target ~ .\n",
    "                     , data = raw_data\n",
    "                     , type = 'symuncert')\n",
    "i"
   ]
  },
  {
   "cell_type": "code",
   "execution_count": 31,
   "metadata": {},
   "outputs": [
    {
     "name": "stderr",
     "output_type": "stream",
     "text": [
      "Warning message in .information_gain.data.frame(x = x, y = y, type = type, equal = equal, :\n",
      "\"Dependent variable is a numeric! It will be converted to factor with simple factor(y). We do not discretize dependent variable in FSelectorRcpp by default! You can choose equal frequency binning discretization by setting equal argument to TRUE.\"\n"
     ]
    },
    {
     "data": {
      "text/html": [
       "<table>\n",
       "<caption>A data.frame: 14 × 2</caption>\n",
       "<thead>\n",
       "\t<tr><th scope=col>attributes</th><th scope=col>importance</th></tr>\n",
       "\t<tr><th scope=col>&lt;chr&gt;</th><th scope=col>&lt;dbl&gt;</th></tr>\n",
       "</thead>\n",
       "<tbody>\n",
       "\t<tr><td>crime_index      </td><td>5.561975</td></tr>\n",
       "\t<tr><td>urban_ratio      </td><td>0.000000</td></tr>\n",
       "\t<tr><td>industry_ratio   </td><td>0.000000</td></tr>\n",
       "\t<tr><td>c_river_variable </td><td>0.000000</td></tr>\n",
       "\t<tr><td>nox_concentration</td><td>0.000000</td></tr>\n",
       "\t<tr><td>dwelling_age     </td><td>0.000000</td></tr>\n",
       "\t<tr><td>dwelling_dist    </td><td>0.000000</td></tr>\n",
       "\t<tr><td>highway_index    </td><td>0.000000</td></tr>\n",
       "\t<tr><td>tax_ratio        </td><td>0.000000</td></tr>\n",
       "\t<tr><td>teacher_ratio    </td><td>1.970675</td></tr>\n",
       "\t<tr><td>racial_index     </td><td>0.000000</td></tr>\n",
       "\t<tr><td>lower_status     </td><td>0.000000</td></tr>\n",
       "\t<tr><td>median_value     </td><td>0.000000</td></tr>\n",
       "\t<tr><td>target           </td><td>0.000000</td></tr>\n",
       "</tbody>\n",
       "</table>\n"
      ],
      "text/latex": [
       "A data.frame: 14 × 2\n",
       "\\begin{tabular}{ll}\n",
       " attributes & importance\\\\\n",
       " <chr> & <dbl>\\\\\n",
       "\\hline\n",
       "\t crime\\_index       & 5.561975\\\\\n",
       "\t urban\\_ratio       & 0.000000\\\\\n",
       "\t industry\\_ratio    & 0.000000\\\\\n",
       "\t c\\_river\\_variable  & 0.000000\\\\\n",
       "\t nox\\_concentration & 0.000000\\\\\n",
       "\t dwelling\\_age      & 0.000000\\\\\n",
       "\t dwelling\\_dist     & 0.000000\\\\\n",
       "\t highway\\_index     & 0.000000\\\\\n",
       "\t tax\\_ratio         & 0.000000\\\\\n",
       "\t teacher\\_ratio     & 1.970675\\\\\n",
       "\t racial\\_index      & 0.000000\\\\\n",
       "\t lower\\_status      & 0.000000\\\\\n",
       "\t median\\_value      & 0.000000\\\\\n",
       "\t target            & 0.000000\\\\\n",
       "\\end{tabular}\n"
      ],
      "text/markdown": [
       "\n",
       "A data.frame: 14 × 2\n",
       "\n",
       "| attributes &lt;chr&gt; | importance &lt;dbl&gt; |\n",
       "|---|---|\n",
       "| crime_index       | 5.561975 |\n",
       "| urban_ratio       | 0.000000 |\n",
       "| industry_ratio    | 0.000000 |\n",
       "| c_river_variable  | 0.000000 |\n",
       "| nox_concentration | 0.000000 |\n",
       "| dwelling_age      | 0.000000 |\n",
       "| dwelling_dist     | 0.000000 |\n",
       "| highway_index     | 0.000000 |\n",
       "| tax_ratio         | 0.000000 |\n",
       "| teacher_ratio     | 1.970675 |\n",
       "| racial_index      | 0.000000 |\n",
       "| lower_status      | 0.000000 |\n",
       "| median_value      | 0.000000 |\n",
       "| target            | 0.000000 |\n",
       "\n"
      ],
      "text/plain": [
       "   attributes        importance\n",
       "1  crime_index       5.561975  \n",
       "2  urban_ratio       0.000000  \n",
       "3  industry_ratio    0.000000  \n",
       "4  c_river_variable  0.000000  \n",
       "5  nox_concentration 0.000000  \n",
       "6  dwelling_age      0.000000  \n",
       "7  dwelling_dist     0.000000  \n",
       "8  highway_index     0.000000  \n",
       "9  tax_ratio         0.000000  \n",
       "10 teacher_ratio     1.970675  \n",
       "11 racial_index      0.000000  \n",
       "12 lower_status      0.000000  \n",
       "13 median_value      0.000000  \n",
       "14 target            0.000000  "
      ]
     },
     "metadata": {},
     "output_type": "display_data"
    }
   ],
   "source": [
    "#Exploramos la informacion mutua obtenida de las variables \n",
    "information_gain(formula = rooms_per_dwelling ~ .\n",
    "                 , data = raw_data\n",
    "                 , type = 'infogain')"
   ]
  },
  {
   "cell_type": "markdown",
   "metadata": {},
   "source": [
    "## Modelos"
   ]
  },
  {
   "cell_type": "code",
   "execution_count": 15,
   "metadata": {},
   "outputs": [
    {
     "data": {
      "text/plain": [
       "\n",
       "Call:\n",
       "glm(formula = target ~ lower_status + teacher_ratio + rooms_per_dwelling + \n",
       "    industry_ratio + crime_index, family = binomial, data = raw_data)\n",
       "\n",
       "Deviance Residuals: \n",
       "    Min       1Q   Median       3Q      Max  \n",
       "-3.2072  -0.1052  -0.0224  -0.0042   3.1587  \n",
       "\n",
       "Coefficients:\n",
       "                    Estimate Std. Error z value Pr(>|z|)    \n",
       "(Intercept)        -15.97292    5.53043  -2.888 0.003875 ** \n",
       "lower_status        -0.64009    0.17262  -3.708 0.000209 ***\n",
       "teacher_ratio       -0.20957    0.14280  -1.468 0.142203    \n",
       "rooms_per_dwelling   2.80736    0.60416   4.647 3.37e-06 ***\n",
       "industry_ratio       0.21210    0.06607   3.210 0.001325 ** \n",
       "crime_index          0.06968    0.03821   1.824 0.068220 .  \n",
       "---\n",
       "Signif. codes:  0 '***' 0.001 '**' 0.01 '*' 0.05 '.' 0.1 ' ' 1\n",
       "\n",
       "(Dispersion parameter for binomial family taken to be 1)\n",
       "\n",
       "    Null deviance: 254.504  on 505  degrees of freedom\n",
       "Residual deviance:  84.298  on 500  degrees of freedom\n",
       "AIC: 96.298\n",
       "\n",
       "Number of Fisher Scoring iterations: 9\n"
      ]
     },
     "metadata": {},
     "output_type": "display_data"
    }
   ],
   "source": [
    "# Generamos nuevos modelos con las variables detectadas por la funcion de information gain y vemos que el teacher ratio tiene un pvalue demasiado alto por lo que probamos con otro modelo sin ese atributo\n",
    "m1 <- glm(formula = target ~ lower_status + teacher_ratio + rooms_per_dwelling + industry_ratio + crime_index\n",
    "          , data = raw_data\n",
    "          , family = binomial)\n",
    "summary(m1)"
   ]
  },
  {
   "cell_type": "code",
   "execution_count": 32,
   "metadata": {},
   "outputs": [
    {
     "data": {
      "text/plain": [
       "\n",
       "Call:\n",
       "glm(formula = target ~ lower_status + rooms_per_dwelling + industry_ratio, \n",
       "    family = binomial, data = raw_data)\n",
       "\n",
       "Deviance Residuals: \n",
       "    Min       1Q   Median       3Q      Max  \n",
       "-3.4633  -0.1334  -0.0299  -0.0059   3.1308  \n",
       "\n",
       "Coefficients:\n",
       "                    Estimate Std. Error z value Pr(>|z|)    \n",
       "(Intercept)        -21.49432    4.58812  -4.685 2.80e-06 ***\n",
       "lower_status        -0.56619    0.15516  -3.649 0.000263 ***\n",
       "rooms_per_dwelling   3.04837    0.59451   5.128 2.94e-07 ***\n",
       "industry_ratio       0.20549    0.06274   3.276 0.001055 ** \n",
       "---\n",
       "Signif. codes:  0 '***' 0.001 '**' 0.01 '*' 0.05 '.' 0.1 ' ' 1\n",
       "\n",
       "(Dispersion parameter for binomial family taken to be 1)\n",
       "\n",
       "    Null deviance: 254.504  on 505  degrees of freedom\n",
       "Residual deviance:  87.834  on 502  degrees of freedom\n",
       "AIC: 95.834\n",
       "\n",
       "Number of Fisher Scoring iterations: 9\n"
      ]
     },
     "metadata": {},
     "output_type": "display_data"
    }
   ],
   "source": [
    "# Vemos que este modelo converge y ademas tiene un valor de AIC: 95.834 por lo que procedemos a hacer la matriz de confusion\n",
    "m2 <- glm(formula = target ~ lower_status + rooms_per_dwelling + industry_ratio\n",
    "          , data = raw_data\n",
    "          , family = binomial)\n",
    "summary(m2)"
   ]
  },
  {
   "cell_type": "code",
   "execution_count": 16,
   "metadata": {},
   "outputs": [
    {
     "data": {
      "text/html": [
       "<dl class=dl-horizontal>\n",
       "\t<dt>1</dt>\n",
       "\t\t<dd>0.021961520828374</dd>\n",
       "\t<dt>2</dt>\n",
       "\t\t<dd>0.00353000506053546</dd>\n",
       "\t<dt>3</dt>\n",
       "\t\t<dd>0.396345131756251</dd>\n",
       "\t<dt>4</dt>\n",
       "\t\t<dd>0.201253739562259</dd>\n",
       "\t<dt>5</dt>\n",
       "\t\t<dd>0.0930058997531655</dd>\n",
       "\t<dt>6</dt>\n",
       "\t\t<dd>0.0121859695688768</dd>\n",
       "</dl>\n"
      ],
      "text/latex": [
       "\\begin{description*}\n",
       "\\item[1] 0.021961520828374\n",
       "\\item[2] 0.00353000506053546\n",
       "\\item[3] 0.396345131756251\n",
       "\\item[4] 0.201253739562259\n",
       "\\item[5] 0.0930058997531655\n",
       "\\item[6] 0.0121859695688768\n",
       "\\end{description*}\n"
      ],
      "text/markdown": [
       "1\n",
       ":   0.0219615208283742\n",
       ":   0.003530005060535463\n",
       ":   0.3963451317562514\n",
       ":   0.2012537395622595\n",
       ":   0.09300589975316556\n",
       ":   0.0121859695688768\n",
       "\n"
      ],
      "text/plain": [
       "          1           2           3           4           5           6 \n",
       "0.021961521 0.003530005 0.396345132 0.201253740 0.093005900 0.012185970 "
      ]
     },
     "metadata": {},
     "output_type": "display_data"
    }
   ],
   "source": [
    "# Generamos las predicciones de nuestro modelo\n",
    "m2_prob <- predict(m2, type = 'response')\n",
    "head(m2_prob)"
   ]
  },
  {
   "cell_type": "code",
   "execution_count": 17,
   "metadata": {},
   "outputs": [
    {
     "data": {
      "text/html": [
       "<dl class=dl-horizontal>\n",
       "\t<dt>1</dt>\n",
       "\t\t<dd>0</dd>\n",
       "\t<dt>2</dt>\n",
       "\t\t<dd>0</dd>\n",
       "\t<dt>3</dt>\n",
       "\t\t<dd>0</dd>\n",
       "\t<dt>4</dt>\n",
       "\t\t<dd>0</dd>\n",
       "\t<dt>5</dt>\n",
       "\t\t<dd>0</dd>\n",
       "\t<dt>6</dt>\n",
       "\t\t<dd>0</dd>\n",
       "</dl>\n"
      ],
      "text/latex": [
       "\\begin{description*}\n",
       "\\item[1] 0\n",
       "\\item[2] 0\n",
       "\\item[3] 0\n",
       "\\item[4] 0\n",
       "\\item[5] 0\n",
       "\\item[6] 0\n",
       "\\end{description*}\n"
      ],
      "text/markdown": [
       "1\n",
       ":   02\n",
       ":   03\n",
       ":   04\n",
       ":   05\n",
       ":   06\n",
       ":   0\n",
       "\n"
      ],
      "text/plain": [
       "1 2 3 4 5 6 \n",
       "0 0 0 0 0 0 "
      ]
     },
     "metadata": {},
     "output_type": "display_data"
    }
   ],
   "source": [
    "# En base a las probabilidades sacamos la prediccion para cada instancia\n",
    "m2_pred <- ifelse(m2_prob > 0.5, 1, 0)\n",
    "head(m2_pred)"
   ]
  },
  {
   "cell_type": "code",
   "execution_count": 18,
   "metadata": {},
   "outputs": [
    {
     "name": "stderr",
     "output_type": "stream",
     "text": [
      "Loading required package: lattice\n",
      "\n",
      "Loading required package: ggplot2\n",
      "\n"
     ]
    },
    {
     "data": {
      "text/plain": [
       "Confusion Matrix and Statistics\n",
       "\n",
       "          Reference\n",
       "Prediction   0   1\n",
       "         0 470   6\n",
       "         1   1  29\n",
       "                                          \n",
       "               Accuracy : 0.9862          \n",
       "                 95% CI : (0.9717, 0.9944)\n",
       "    No Information Rate : 0.9308          \n",
       "    P-Value [Acc > NIR] : 4.383e-09       \n",
       "                                          \n",
       "                  Kappa : 0.885           \n",
       "                                          \n",
       " Mcnemar's Test P-Value : 0.1306          \n",
       "                                          \n",
       "            Sensitivity : 0.9979          \n",
       "            Specificity : 0.8286          \n",
       "         Pos Pred Value : 0.9874          \n",
       "         Neg Pred Value : 0.9667          \n",
       "             Prevalence : 0.9308          \n",
       "         Detection Rate : 0.9289          \n",
       "   Detection Prevalence : 0.9407          \n",
       "      Balanced Accuracy : 0.9132          \n",
       "                                          \n",
       "       'Positive' Class : 0               \n",
       "                                          "
      ]
     },
     "metadata": {},
     "output_type": "display_data"
    }
   ],
   "source": [
    "library(caret)\n",
    "c <- confusionMatrix(as.factor(m2_pred), as.factor(raw_data$target))\n",
    "c"
   ]
  }
 ],
 "metadata": {
  "kernelspec": {
   "display_name": "R",
   "language": "R",
   "name": "ir"
  },
  "language_info": {
   "codemirror_mode": "r",
   "file_extension": ".r",
   "mimetype": "text/x-r-source",
   "name": "R",
   "pygments_lexer": "r",
   "version": "3.6.1"
  }
 },
 "nbformat": 4,
 "nbformat_minor": 2
}
