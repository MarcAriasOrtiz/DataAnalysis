{
 "cells": [
  {
   "cell_type": "markdown",
   "metadata": {},
   "source": [
    "# DETECCIÓN FACIAL FOTO"
   ]
  },
  {
   "cell_type": "code",
   "execution_count": null,
   "metadata": {},
   "outputs": [],
   "source": [
    "# · Código 1 - Detección facial en una imagen estática \n",
    "#       Este programa encuentra todos los rostros de una fotografía.\n",
    "import cv2"
   ]
  },
  {
   "cell_type": "code",
   "execution_count": null,
   "metadata": {},
   "outputs": [],
   "source": [
    "# · Cargamos nuestro classificador de Haar\n",
    "\n",
    "# ¡Aviso!:Si utilizas otro clasificador o lo tienes guardado en un directorio diferente al de este script python,\n",
    "#     tendrás que cambiar 'haarcascade_frontalface_alt.xml' por el path a tu fichero xml.\n",
    " \n",
    "cascada_rostro = cv2.CascadeClassifier('haarcascade_frontalface_alt.xml')"
   ]
  },
  {
   "cell_type": "code",
   "execution_count": null,
   "metadata": {},
   "outputs": [],
   "source": [
    "# · Cargamos la imagen y la convertimos a grises:\n",
    "#      ¡Todos los archivos que utilizo estan en el directorio del script!\n",
    "img = cv2.imread(\"MartiGarces.jpg\")\n",
    "img_gris = cv2.cvtColor(img, cv2.COLOR_BGR2GRAY) "
   ]
  },
  {
   "cell_type": "code",
   "execution_count": null,
   "metadata": {},
   "outputs": [],
   "source": [
    "# · Detección del rostro:\n",
    "coordenadas_rostros = cascada_rostro.detectMultiScale(img_gris, 1.3, 5)\n",
    "\n",
    "# · Nota 1: la función detectMultiScale() requiere una imagen en escala de grises. Esta es la razón\n",
    "#      por la que hemos hecho la conversión de BGR a Grayscale.\n",
    "\n",
    "# · Nota 2: '1.3' y '5' son parámetros estándar para esta función. El primero es el factor de escala ('scaleFactor'): la\n",
    "#         función intentará encontrar rostros escalando la imagen varias veces, y este factor indica en cuánto se \n",
    "#         reduce la imagen cada vez. El segundo parámetro se llama 'minNeighbours' e indica la calidad de las detecciones:\n",
    "#         un valor elevado resulta en menos detecciones pero con más fiabilidad."
   ]
  },
  {
   "cell_type": "code",
   "execution_count": null,
   "metadata": {},
   "outputs": [],
   "source": [
    "# · Ahora recorremos el array 'coordenadas_rostros' y dibujamos los rectángulos sobre la imagen original:\n",
    "\n",
    "for (x,y,ancho, alto) in coordenadas_rostros:\n",
    "    cv2.rectangle(img, (x,y), (x + ancho, y + alto), (0,0,255) , 3)"
   ]
  },
  {
   "cell_type": "code",
   "execution_count": null,
   "metadata": {},
   "outputs": [],
   "source": [
    "# · Visualizamos el resultado:\n",
    "\n",
    "cv2.imshow('Output', img)\n",
    "print(\"\\nMostrando resultado. Pulsa cualquier tecla para salir.\\n\")\n",
    "cv2.waitKey(0)\n",
    "cv2.destroyAllWindows()"
   ]
  },
  {
   "cell_type": "markdown",
   "metadata": {},
   "source": [
    "# DETECIÓN FACIAL WEBCAM"
   ]
  },
  {
   "cell_type": "code",
   "execution_count": null,
   "metadata": {},
   "outputs": [],
   "source": [
    "# · Código 2\n",
    "# · Iniciar la webcam:\n",
    "\n",
    "webcam = cv2.VideoCapture(0)\n",
    "\n",
    "# · NOTA 1: Si no funciona puedes cambiar el índice 0 por otro, o cambiarlo por la dirección de tu webcam \n",
    "#           (p.ej. '/dev/video0')\n",
    "# · NOTA 2: también debería funcionar si en vez de una webcam utilizas un fichero de vídeo. \n",
    "\n",
    "# # Recordamos al usuario cuál es la tecla para salir:\n",
    "print(\"\\nRecordatorio: pulsa 'ESC' para cerrar.\\n\")\n",
    "\n",
    "while(1):\n",
    " \n",
    "    #Capturar una imagen con la webcam:\n",
    "    valido, img = webcam.read()\n",
    " \n",
    "    #Si la imagen es válida (es decir, si se ha capturado correctamente), continuamos:\n",
    "    if valido:\n",
    " \n",
    "        #Convertir la imagen a gris:\n",
    "        img_gris = cv2.cvtColor(img, cv2.COLOR_BGR2GRAY)\n",
    " \n",
    " \n",
    "        #Buscamos los rostros:\n",
    "        coordenadas_rostros = cascada_rostro.detectMultiScale(img_gris, 1.3, 5)\n",
    " \n",
    " \n",
    "        #Recorremos el array 'coordenadas_rostros' y dibujamos los rectángulos sobre la imagen original:\n",
    "        for (x,y,ancho, alto) in coordenadas_rostros:\n",
    "            cv2.rectangle(img, (x,y), (x+ancho, y+alto), (0,0,255) , 3)\n",
    " \n",
    " \n",
    "        #Abrimos una ventana con el resultado:\n",
    "        cv2.imshow('Output', img)\n",
    " \n",
    "        #Salir con 'ESC':\n",
    "        k = cv2.waitKey(5) & 0xFF\n",
    "        if k == 27:\n",
    "            cv2.destroyAllWindows()\n",
    "            break\n",
    " \n",
    "webcam.release()"
   ]
  },
  {
   "cell_type": "markdown",
   "metadata": {},
   "source": [
    "# RECONOCIMIENTO FACIAL FOTO"
   ]
  },
  {
   "cell_type": "code",
   "execution_count": 2,
   "metadata": {},
   "outputs": [],
   "source": [
    "# · Código 3 Reconocimiento facial en una imagen estática\n",
    "#    Este programa identifica varios rostros de físicos\n",
    "#      Para cargar el face_recognition es necesario tener isntaladas la librería dlib (puede dar problemas para instalarla)\n",
    "import cv2\n",
    "import face_recognition"
   ]
  },
  {
   "cell_type": "code",
   "execution_count": null,
   "metadata": {},
   "outputs": [],
   "source": [
    "# · Cargamos las fotos de las personas que queremos reconocer\n",
    "imagen_marc = face_recognition.load_image_file(\"MarcAriasOrtiz.png\")\n",
    "imagen_marti = face_recognition.load_image_file(\"MartiGarces.jpg\")"
   ]
  },
  {
   "cell_type": "code",
   "execution_count": null,
   "metadata": {},
   "outputs": [],
   "source": [
    "# · El siguiente paso es extraer los 'encodings' de cada imagen.\n",
    "#      Los encodings son las características únicas de cada rostro que permiten diferenciarlo de otros.\n",
    "marc_encodings = face_recognition.face_encodings(imagen_marc)[0]\n",
    "marti_encodings = face_recognition.face_encodings(imagen_marti)[0]"
   ]
  },
  {
   "cell_type": "code",
   "execution_count": null,
   "metadata": {},
   "outputs": [],
   "source": [
    "# · Creamos un array con los encodings y otro con sus respectivos nombres:\n",
    "\n",
    "encodings_conocidos = [\n",
    "    marc_encodings,\n",
    "    marti_encodings\n",
    "    ]\n",
    "nombres_conocidos = [\n",
    "    \"Marc\",\n",
    "    \"Marti\"\n",
    "]"
   ]
  },
  {
   "cell_type": "code",
   "execution_count": null,
   "metadata": {},
   "outputs": [],
   "source": [
    "# · Cargamos una fuente de texto:\n",
    "font = cv2.FONT_HERSHEY_COMPLEX"
   ]
  },
  {
   "cell_type": "code",
   "execution_count": null,
   "metadata": {},
   "outputs": [],
   "source": [
    "# · Cargamos la imagen donde hay que identificar los rostros:\n",
    "img = face_recognition.load_image_file('AlexMartiMarc.jpg')"
   ]
  },
  {
   "cell_type": "code",
   "execution_count": null,
   "metadata": {},
   "outputs": [],
   "source": [
    "# · Definir tres arrays, que servirán para guardar los parámetros de los rostros que se encuentren en la imagen:\n",
    "loc_rostros = [] #Localizacion de los rostros en la imagen (contendrá las coordenadas de los recuadros que las contienen)\n",
    "encodings_rostros = [] #Encodings de los rostros\n",
    "nombres_rostros = [] #Nombre de la persona de cada rostro"
   ]
  },
  {
   "cell_type": "code",
   "execution_count": null,
   "metadata": {},
   "outputs": [],
   "source": [
    "# · Localizamos cada rostro de la imagen y extraemos sus encodings:\n",
    "loc_rostros = face_recognition.face_locations(img) #localiza los rostros\n",
    "encodings_rostros = face_recognition.face_encodings(img, loc_rostros) #Guarda la información única de cada rostro"
   ]
  },
  {
   "cell_type": "code",
   "execution_count": null,
   "metadata": {},
   "outputs": [],
   "source": [
    "# · Recorremos el array de encodings que hemos encontrado:\n",
    "for encoding in encodings_rostros:\n",
    " \n",
    "    #Buscamos si hay alguna coincidencia con algún encoding conocido:\n",
    "    coincidencias = face_recognition.compare_faces(encodings_conocidos, encoding)\n",
    " \n",
    "    #El array 'coincidencias' es ahora un array de booleanos.\n",
    "    #Si contiene algun 'True', es que ha habido alguna coincidencia:\n",
    "    if True in coincidencias:\n",
    "        #Buscamos el nombre correspondiente en el array de nombres conocidos:\n",
    "        nombre = nombres_conocidos[coincidencias.index(True)]\n",
    " \n",
    "    #Si no hay ningún 'True' en el array 'coincidencias', no se ha podido identificar el rostro:\n",
    "    else:\n",
    "        nombre = \"???\"\n",
    " \n",
    "    #Añadimos el nombre de la persona identificada en el array de nombres:\n",
    "    nombres_rostros.append(nombre)"
   ]
  },
  {
   "cell_type": "code",
   "execution_count": null,
   "metadata": {},
   "outputs": [],
   "source": [
    "# · Dibujamos un recuadro rojo alrededor de los rostros desconocidos, y uno verde alrededor de los conocidos:\n",
    "for (top, right, bottom, left), nombre in zip(loc_rostros, nombres_rostros):\n",
    " \n",
    "    #Cambiar el color segun el nombre:\n",
    "    if nombre != \"???\":\n",
    "        color = (0,255,0) #Verde\n",
    "    else:\n",
    "        color = (0,0,255) #Rojo\n",
    " \n",
    "    #Dibujar los recuadros alrededor del rostro:\n",
    "    cv2.rectangle(img, (left, top), (right, bottom), color, 2)\n",
    "    cv2.rectangle(img, (left, bottom - 20), (right, bottom), color, -1)\n",
    " \n",
    "    #Escribir el nombre de la persona:\n",
    "    cv2.putText(img, nombre, (left, bottom - 6), font, 0.6, (0,0,0), 1)\n",
    " \n",
    "#Abrimos una ventana con el resultado:\n",
    "cv2.imshow('Output', img)\n",
    "print(\"\\nMostrando resultado. Pulsa cualquier tecla para salir.\\n\")\n",
    "cv2.waitKey(0)\n",
    "cv2.destroyAllWindows()"
   ]
  },
  {
   "cell_type": "markdown",
   "metadata": {},
   "source": [
    "# RECONOCIMIENTO FACIAL WEBCAM"
   ]
  },
  {
   "cell_type": "code",
   "execution_count": 3,
   "metadata": {},
   "outputs": [],
   "source": [
    "# · Código 4 Reconocimiento facial con webcam\n",
    "#      Este código identifica nuestro rostro en un vídeo capturado con una webcam.\n",
    "\n",
    "#Cargar la imagen de ejemplo con nuestro rostro:\n",
    "imagen_personal = face_recognition.load_image_file(\"MarcAriasOrtiz.png\")\n",
    "\n",
    "#Extraer los 'encodings' que caracterizan nuestro rostro:\n",
    "personal_encodings = face_recognition.face_encodings(imagen_personal)[0]\n",
    " \n",
    "#Definir un array con los encodings y nuestro nombre:\n",
    "encodings_conocidos = [\n",
    "    personal_encodings\n",
    "]\n",
    "nombres_conocidos = [\n",
    "    \"Marc\"\n",
    "]\n",
    "# NOTA: Como solo queremos identificarnos a nosotros mismos, en realidad no sería necesario definir un array.\n",
    "# Lo he hecho así para imitar la estructura del código del ejemplo anterior, y para que sea fácil añadir\n",
    "# nuevos rostros (vuestra pareja o hijos, amigos por ejemplo)."
   ]
  },
  {
   "cell_type": "code",
   "execution_count": 4,
   "metadata": {},
   "outputs": [
    {
     "name": "stdout",
     "output_type": "stream",
     "text": [
      "\n",
      "Recordatorio: pulsa 'ESC' para cerrar.\n",
      "\n"
     ]
    }
   ],
   "source": [
    "#Iniciar la webcam:\n",
    "webcam = cv2.VideoCapture(0)\n",
    "# NOTA: Si no funciona puedes cambiar el índice '0' por otro, o cambiarlo por la dirección de tu webcam.\n",
    " \n",
    " \n",
    "#Cargar una fuente de texto:\n",
    "font = cv2.FONT_HERSHEY_COMPLEX\n",
    " \n",
    " \n",
    "# Identificar rostros es un proceso costoso. Para poder hacerlo en tiempo real sin que haya retardo\n",
    "# vamos a reducir el tamaño de la imagen de la webcam. Esta variable 'reduccion' indica cuanto se va a reducir:\n",
    "reduccion = 2 #Con x número, la imagen se reducirá a 1/x del tamaño original\n",
    " \n",
    " \n",
    "#Recordamos al usuario cuál es la tecla para salir:\n",
    "print(\"\\nRecordatorio: pulsa 'ESC' para cerrar.\\n\")\n",
    " \n",
    " \n",
    "while 1:\n",
    "    #Definimos algunos arrays y variables:\n",
    "    loc_rostros = [] #Localizacion de los rostros en la imagen\n",
    "    encodings_rostros = [] #Encodings de los rostros\n",
    "    nombres_rostros = [] #Nombre de la persona de cada rostro\n",
    "    nombre = \"\" #Variable para almacenar el nombre\n",
    " \n",
    "    #Capturamos una imagen con la webcam:\n",
    "    valido, img = webcam.read()\n",
    " \n",
    "    #Si la imagen es válida (es decir, si se ha capturado correctamente), continuamos:\n",
    "    if valido:\n",
    " \n",
    "        #La imagen está en el espacio de color BGR, habitual de OpenCV. Hay que convertirla a RGB:\n",
    "        img_rgb = img[:, :, ::-1]\n",
    " \n",
    "        #Reducimos el tamaño de la imagen para que sea más rápida de procesar:\n",
    "        img_rgb = cv2.resize(img_rgb, (0, 0), fx=1.0/reduccion, fy=1.0/reduccion)\n",
    " \n",
    "        #Localizamos cada rostro de la imagen y extraemos sus encodings:\n",
    "        loc_rostros = face_recognition.face_locations(img_rgb)\n",
    "        encodings_rostros = face_recognition.face_encodings(img_rgb, loc_rostros)\n",
    " \n",
    "        #Recorremos el array de encodings que hemos encontrado:\n",
    "        for encoding in encodings_rostros:\n",
    " \n",
    "            #Buscamos si hay alguna coincidencia con algún encoding conocido:\n",
    "            coincidencias = face_recognition.compare_faces(encodings_conocidos, encoding)\n",
    " \n",
    "            #El array 'coincidencias' es ahora un array de booleanos. Si contiene algun 'True', es que ha habido alguna coincidencia:\n",
    "            if True in coincidencias:\n",
    "                nombre = nombres_conocidos[coincidencias.index(True)]\n",
    " \n",
    "            #Si no hay ningún 'True' en el array 'coincidencias', no se ha podido identificar el rostro:\n",
    "            else:\n",
    "                nombre = \"???\"\n",
    " \n",
    "            #Añadir el nombre de la persona identificada en el array de nombres:\n",
    "            nombres_rostros.append(nombre)\n",
    " \n",
    "        #Dibujamos un recuadro rojo alrededor de los rostros desconocidos, y uno verde alrededor de los conocidos:\n",
    "        for (top, right, bottom, left), nombre in zip(loc_rostros, nombres_rostros):\n",
    "             \n",
    "            #Deshacemos la reducción de tamaño para tener las coordenadas de la imagen original:\n",
    "            top = top*reduccion\n",
    "            right = right*reduccion\n",
    "            bottom = bottom*reduccion\n",
    "            left = left*reduccion\n",
    " \n",
    "            #Cambiar de color según si se ha identificado el rostro:\n",
    "            if nombre != \"???\":\n",
    "                color = (0,255,0)\n",
    "            else:\n",
    "                color = (0,0,255)\n",
    " \n",
    "            #Dibujar un rectángulo alrededor de cada rostro identificado, y escribir el nombre:\n",
    "            cv2.rectangle(img, (left, top), (right, bottom), color, 2)\n",
    "            cv2.rectangle(img, (left, bottom - 20), (right, bottom), color, -1)\n",
    "            cv2.putText(img, nombre, (left, bottom - 6), font, 0.6, (0,0,0), 1)\n",
    " \n",
    "        #Mostrar el resultado en una ventana:\n",
    "        cv2.imshow('Output', img)\n",
    " \n",
    "        #Salir con 'ESC'\n",
    "        k = cv2.waitKey(5) & 0xFF\n",
    "        if k == 27:\n",
    "            cv2.destroyAllWindows()\n",
    "            break\n",
    " \n",
    "webcam.release()"
   ]
  },
  {
   "cell_type": "code",
   "execution_count": null,
   "metadata": {},
   "outputs": [],
   "source": []
  }
 ],
 "metadata": {
  "kernelspec": {
   "display_name": "Python 3",
   "language": "python",
   "name": "python3"
  },
  "language_info": {
   "codemirror_mode": {
    "name": "ipython",
    "version": 3
   },
   "file_extension": ".py",
   "mimetype": "text/x-python",
   "name": "python",
   "nbconvert_exporter": "python",
   "pygments_lexer": "ipython3",
   "version": "3.9.2"
  }
 },
 "nbformat": 4,
 "nbformat_minor": 4
}
