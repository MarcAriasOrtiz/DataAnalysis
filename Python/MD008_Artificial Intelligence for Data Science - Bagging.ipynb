{
 "cells": [
  {
   "cell_type": "markdown",
   "metadata": {},
   "source": [
    "# 1 Library load and Importing Data"
   ]
  },
  {
   "cell_type": "code",
   "execution_count": 2,
   "metadata": {},
   "outputs": [],
   "source": [
    "# Library load\n",
    "import os\n",
    "import pandas as pd\n",
    "import numpy as np\n",
    "\n",
    "# Plotting library\n",
    "import matplotlib.pyplot as plt\n",
    "\n",
    "# Confusion matrix viz\n",
    "from mlxtend.evaluate import confusion_matrix # Calculates confusion matrix for a given prediction\n",
    "from mlxtend.plotting import plot_confusion_matrix #Plots a given confusion matrix\n",
    "\n",
    "# sklearn packages\n",
    "from sklearn import metrics # Calculates metrics for a given model\n",
    "from sklearn import tree # Calculates decision tree\n",
    "from sklearn.tree import DecisionTreeClassifier # Generates a model based on decision tree classifier\n",
    "from sklearn.ensemble import BaggingClassifier # generates a bagging methodology for a given mde\n",
    "from sklearn.model_selection import GridSearchCV # Optimizes values for a given model CrossValidation\n",
    "from sklearn.ensemble import RandomForestClassifier # Generates a random forest classifier model\n",
    "from sklearn.ensemble import AdaBoostClassifier # Generates an Adaboost Classifier Model\n",
    "\n",
    "# Ignoring warning messages\n",
    "import warnings\n",
    "warnings.filterwarnings('ignore') #ignores warnings and error messages"
   ]
  },
  {
   "cell_type": "code",
   "execution_count": 14,
   "metadata": {},
   "outputs": [
    {
     "data": {
      "text/html": [
       "<div>\n",
       "<style scoped>\n",
       "    .dataframe tbody tr th:only-of-type {\n",
       "        vertical-align: middle;\n",
       "    }\n",
       "\n",
       "    .dataframe tbody tr th {\n",
       "        vertical-align: top;\n",
       "    }\n",
       "\n",
       "    .dataframe thead th {\n",
       "        text-align: right;\n",
       "    }\n",
       "</style>\n",
       "<table border=\"1\" class=\"dataframe\">\n",
       "  <thead>\n",
       "    <tr style=\"text-align: right;\">\n",
       "      <th></th>\n",
       "      <th>REGION_TYPE</th>\n",
       "      <th>REGION_CENTROID_COL</th>\n",
       "      <th>REGION_CENTROID_ROW</th>\n",
       "      <th>REGION_PIXEL_COUNT</th>\n",
       "      <th>SHORT_LINE_DENSITY_5</th>\n",
       "      <th>SHORT_LINE_DENSITY_2</th>\n",
       "      <th>VEDGE_MEAN</th>\n",
       "      <th>VEDGE_SD</th>\n",
       "      <th>HEDGE_MEAN</th>\n",
       "      <th>HEDGE_SD</th>\n",
       "      <th>...</th>\n",
       "      <th>RAWRED_MEAN</th>\n",
       "      <th>RAWBLUE_MEAN</th>\n",
       "      <th>RAWGREEN_MEAN</th>\n",
       "      <th>EXRED_MEAN</th>\n",
       "      <th>EXBLUE_MEAN</th>\n",
       "      <th>EXGREEN_MEAN</th>\n",
       "      <th>VALUE_MEAN</th>\n",
       "      <th>SATURATION_MEAN</th>\n",
       "      <th>HUE_MEAN</th>\n",
       "      <th>sample</th>\n",
       "    </tr>\n",
       "  </thead>\n",
       "  <tbody>\n",
       "    <tr>\n",
       "      <th>0</th>\n",
       "      <td>BRICKFACE</td>\n",
       "      <td>140</td>\n",
       "      <td>125</td>\n",
       "      <td>9</td>\n",
       "      <td>0.0</td>\n",
       "      <td>0.0</td>\n",
       "      <td>0.2778</td>\n",
       "      <td>0.0630</td>\n",
       "      <td>0.6667</td>\n",
       "      <td>0.3111</td>\n",
       "      <td>...</td>\n",
       "      <td>7.3333</td>\n",
       "      <td>7.6667</td>\n",
       "      <td>3.5556</td>\n",
       "      <td>3.4444</td>\n",
       "      <td>4.4444</td>\n",
       "      <td>-7.8889</td>\n",
       "      <td>7.7778</td>\n",
       "      <td>0.5456</td>\n",
       "      <td>-1.1218</td>\n",
       "      <td>train</td>\n",
       "    </tr>\n",
       "    <tr>\n",
       "      <th>1</th>\n",
       "      <td>BRICKFACE</td>\n",
       "      <td>188</td>\n",
       "      <td>133</td>\n",
       "      <td>9</td>\n",
       "      <td>0.0</td>\n",
       "      <td>0.0</td>\n",
       "      <td>0.3333</td>\n",
       "      <td>0.2667</td>\n",
       "      <td>0.5000</td>\n",
       "      <td>0.0778</td>\n",
       "      <td>...</td>\n",
       "      <td>8.3333</td>\n",
       "      <td>7.7778</td>\n",
       "      <td>3.8889</td>\n",
       "      <td>5.0000</td>\n",
       "      <td>3.3333</td>\n",
       "      <td>-8.3333</td>\n",
       "      <td>8.4444</td>\n",
       "      <td>0.5386</td>\n",
       "      <td>-0.9248</td>\n",
       "      <td>train</td>\n",
       "    </tr>\n",
       "    <tr>\n",
       "      <th>2</th>\n",
       "      <td>BRICKFACE</td>\n",
       "      <td>105</td>\n",
       "      <td>139</td>\n",
       "      <td>9</td>\n",
       "      <td>0.0</td>\n",
       "      <td>0.0</td>\n",
       "      <td>0.2778</td>\n",
       "      <td>0.1074</td>\n",
       "      <td>0.8333</td>\n",
       "      <td>0.5222</td>\n",
       "      <td>...</td>\n",
       "      <td>7.5556</td>\n",
       "      <td>7.2222</td>\n",
       "      <td>3.5556</td>\n",
       "      <td>4.3333</td>\n",
       "      <td>3.3333</td>\n",
       "      <td>-7.6667</td>\n",
       "      <td>7.5556</td>\n",
       "      <td>0.5326</td>\n",
       "      <td>-0.9659</td>\n",
       "      <td>train</td>\n",
       "    </tr>\n",
       "    <tr>\n",
       "      <th>3</th>\n",
       "      <td>BRICKFACE</td>\n",
       "      <td>34</td>\n",
       "      <td>137</td>\n",
       "      <td>9</td>\n",
       "      <td>0.0</td>\n",
       "      <td>0.0</td>\n",
       "      <td>0.5000</td>\n",
       "      <td>0.1667</td>\n",
       "      <td>1.1111</td>\n",
       "      <td>0.4741</td>\n",
       "      <td>...</td>\n",
       "      <td>7.7778</td>\n",
       "      <td>6.4444</td>\n",
       "      <td>3.3333</td>\n",
       "      <td>5.7778</td>\n",
       "      <td>1.7778</td>\n",
       "      <td>-7.5556</td>\n",
       "      <td>7.7778</td>\n",
       "      <td>0.5736</td>\n",
       "      <td>-0.7443</td>\n",
       "      <td>train</td>\n",
       "    </tr>\n",
       "    <tr>\n",
       "      <th>4</th>\n",
       "      <td>BRICKFACE</td>\n",
       "      <td>39</td>\n",
       "      <td>111</td>\n",
       "      <td>9</td>\n",
       "      <td>0.0</td>\n",
       "      <td>0.0</td>\n",
       "      <td>0.7222</td>\n",
       "      <td>0.3741</td>\n",
       "      <td>0.8889</td>\n",
       "      <td>0.4296</td>\n",
       "      <td>...</td>\n",
       "      <td>7.0000</td>\n",
       "      <td>7.6667</td>\n",
       "      <td>3.4444</td>\n",
       "      <td>2.8889</td>\n",
       "      <td>4.8889</td>\n",
       "      <td>-7.7778</td>\n",
       "      <td>7.8889</td>\n",
       "      <td>0.5629</td>\n",
       "      <td>-1.1758</td>\n",
       "      <td>train</td>\n",
       "    </tr>\n",
       "  </tbody>\n",
       "</table>\n",
       "<p>5 rows × 21 columns</p>\n",
       "</div>"
      ],
      "text/plain": [
       "  REGION_TYPE  REGION_CENTROID_COL  REGION_CENTROID_ROW  REGION_PIXEL_COUNT  \\\n",
       "0   BRICKFACE                  140                  125                   9   \n",
       "1   BRICKFACE                  188                  133                   9   \n",
       "2   BRICKFACE                  105                  139                   9   \n",
       "3   BRICKFACE                   34                  137                   9   \n",
       "4   BRICKFACE                   39                  111                   9   \n",
       "\n",
       "   SHORT_LINE_DENSITY_5  SHORT_LINE_DENSITY_2  VEDGE_MEAN  VEDGE_SD  \\\n",
       "0                   0.0                   0.0      0.2778    0.0630   \n",
       "1                   0.0                   0.0      0.3333    0.2667   \n",
       "2                   0.0                   0.0      0.2778    0.1074   \n",
       "3                   0.0                   0.0      0.5000    0.1667   \n",
       "4                   0.0                   0.0      0.7222    0.3741   \n",
       "\n",
       "   HEDGE_MEAN  HEDGE_SD  ...  RAWRED_MEAN  RAWBLUE_MEAN  RAWGREEN_MEAN  \\\n",
       "0      0.6667    0.3111  ...       7.3333        7.6667         3.5556   \n",
       "1      0.5000    0.0778  ...       8.3333        7.7778         3.8889   \n",
       "2      0.8333    0.5222  ...       7.5556        7.2222         3.5556   \n",
       "3      1.1111    0.4741  ...       7.7778        6.4444         3.3333   \n",
       "4      0.8889    0.4296  ...       7.0000        7.6667         3.4444   \n",
       "\n",
       "   EXRED_MEAN  EXBLUE_MEAN  EXGREEN_MEAN  VALUE_MEAN  SATURATION_MEAN  \\\n",
       "0      3.4444       4.4444       -7.8889      7.7778           0.5456   \n",
       "1      5.0000       3.3333       -8.3333      8.4444           0.5386   \n",
       "2      4.3333       3.3333       -7.6667      7.5556           0.5326   \n",
       "3      5.7778       1.7778       -7.5556      7.7778           0.5736   \n",
       "4      2.8889       4.8889       -7.7778      7.8889           0.5629   \n",
       "\n",
       "   HUE_MEAN  sample  \n",
       "0   -1.1218   train  \n",
       "1   -0.9248   train  \n",
       "2   -0.9659   train  \n",
       "3   -0.7443   train  \n",
       "4   -1.1758   train  \n",
       "\n",
       "[5 rows x 21 columns]"
      ]
     },
     "execution_count": 14,
     "metadata": {},
     "output_type": "execute_result"
    }
   ],
   "source": [
    "raw_data = pd.read_excel(\"image.xlsx\"\n",
    "                         , header = 0\n",
    "                         , decimal = \".\")\n",
    "raw_data.head()"
   ]
  },
  {
   "cell_type": "code",
   "execution_count": 15,
   "metadata": {},
   "outputs": [
    {
     "data": {
      "text/plain": [
       "REGION_TYPE              object\n",
       "REGION_CENTROID_COL       int64\n",
       "REGION_CENTROID_ROW       int64\n",
       "REGION_PIXEL_COUNT        int64\n",
       "SHORT_LINE_DENSITY_5    float64\n",
       "SHORT_LINE_DENSITY_2    float64\n",
       "VEDGE_MEAN              float64\n",
       "VEDGE_SD                float64\n",
       "HEDGE_MEAN              float64\n",
       "HEDGE_SD                float64\n",
       "INTENSITY_MEAN          float64\n",
       "RAWRED_MEAN             float64\n",
       "RAWBLUE_MEAN            float64\n",
       "RAWGREEN_MEAN           float64\n",
       "EXRED_MEAN              float64\n",
       "EXBLUE_MEAN             float64\n",
       "EXGREEN_MEAN            float64\n",
       "VALUE_MEAN              float64\n",
       "SATURATION_MEAN         float64\n",
       "HUE_MEAN                float64\n",
       "sample                   object\n",
       "dtype: object"
      ]
     },
     "execution_count": 15,
     "metadata": {},
     "output_type": "execute_result"
    }
   ],
   "source": [
    "raw_data.dtypes"
   ]
  },
  {
   "cell_type": "markdown",
   "metadata": {},
   "source": [
    "# 2. Creating the Training and Testing Dataset"
   ]
  },
  {
   "cell_type": "code",
   "execution_count": 16,
   "metadata": {},
   "outputs": [
    {
     "data": {
      "text/html": [
       "<div>\n",
       "<style scoped>\n",
       "    .dataframe tbody tr th:only-of-type {\n",
       "        vertical-align: middle;\n",
       "    }\n",
       "\n",
       "    .dataframe tbody tr th {\n",
       "        vertical-align: top;\n",
       "    }\n",
       "\n",
       "    .dataframe thead th {\n",
       "        text-align: right;\n",
       "    }\n",
       "</style>\n",
       "<table border=\"1\" class=\"dataframe\">\n",
       "  <thead>\n",
       "    <tr style=\"text-align: right;\">\n",
       "      <th></th>\n",
       "      <th>REGION_TYPE</th>\n",
       "      <th>REGION_CENTROID_COL</th>\n",
       "      <th>REGION_CENTROID_ROW</th>\n",
       "      <th>REGION_PIXEL_COUNT</th>\n",
       "      <th>SHORT_LINE_DENSITY_5</th>\n",
       "      <th>SHORT_LINE_DENSITY_2</th>\n",
       "      <th>VEDGE_MEAN</th>\n",
       "      <th>VEDGE_SD</th>\n",
       "      <th>HEDGE_MEAN</th>\n",
       "      <th>HEDGE_SD</th>\n",
       "      <th>INTENSITY_MEAN</th>\n",
       "      <th>RAWRED_MEAN</th>\n",
       "      <th>RAWBLUE_MEAN</th>\n",
       "      <th>RAWGREEN_MEAN</th>\n",
       "      <th>EXRED_MEAN</th>\n",
       "      <th>EXBLUE_MEAN</th>\n",
       "      <th>EXGREEN_MEAN</th>\n",
       "      <th>VALUE_MEAN</th>\n",
       "      <th>SATURATION_MEAN</th>\n",
       "      <th>HUE_MEAN</th>\n",
       "    </tr>\n",
       "  </thead>\n",
       "  <tbody>\n",
       "    <tr>\n",
       "      <th>0</th>\n",
       "      <td>BRICKFACE</td>\n",
       "      <td>140</td>\n",
       "      <td>125</td>\n",
       "      <td>9</td>\n",
       "      <td>0.0</td>\n",
       "      <td>0.0</td>\n",
       "      <td>0.2778</td>\n",
       "      <td>0.0630</td>\n",
       "      <td>0.6667</td>\n",
       "      <td>0.3111</td>\n",
       "      <td>6.1852</td>\n",
       "      <td>7.3333</td>\n",
       "      <td>7.6667</td>\n",
       "      <td>3.5556</td>\n",
       "      <td>3.4444</td>\n",
       "      <td>4.4444</td>\n",
       "      <td>-7.8889</td>\n",
       "      <td>7.7778</td>\n",
       "      <td>0.5456</td>\n",
       "      <td>-1.1218</td>\n",
       "    </tr>\n",
       "    <tr>\n",
       "      <th>1</th>\n",
       "      <td>BRICKFACE</td>\n",
       "      <td>188</td>\n",
       "      <td>133</td>\n",
       "      <td>9</td>\n",
       "      <td>0.0</td>\n",
       "      <td>0.0</td>\n",
       "      <td>0.3333</td>\n",
       "      <td>0.2667</td>\n",
       "      <td>0.5000</td>\n",
       "      <td>0.0778</td>\n",
       "      <td>6.6667</td>\n",
       "      <td>8.3333</td>\n",
       "      <td>7.7778</td>\n",
       "      <td>3.8889</td>\n",
       "      <td>5.0000</td>\n",
       "      <td>3.3333</td>\n",
       "      <td>-8.3333</td>\n",
       "      <td>8.4444</td>\n",
       "      <td>0.5386</td>\n",
       "      <td>-0.9248</td>\n",
       "    </tr>\n",
       "    <tr>\n",
       "      <th>2</th>\n",
       "      <td>BRICKFACE</td>\n",
       "      <td>105</td>\n",
       "      <td>139</td>\n",
       "      <td>9</td>\n",
       "      <td>0.0</td>\n",
       "      <td>0.0</td>\n",
       "      <td>0.2778</td>\n",
       "      <td>0.1074</td>\n",
       "      <td>0.8333</td>\n",
       "      <td>0.5222</td>\n",
       "      <td>6.1111</td>\n",
       "      <td>7.5556</td>\n",
       "      <td>7.2222</td>\n",
       "      <td>3.5556</td>\n",
       "      <td>4.3333</td>\n",
       "      <td>3.3333</td>\n",
       "      <td>-7.6667</td>\n",
       "      <td>7.5556</td>\n",
       "      <td>0.5326</td>\n",
       "      <td>-0.9659</td>\n",
       "    </tr>\n",
       "    <tr>\n",
       "      <th>3</th>\n",
       "      <td>BRICKFACE</td>\n",
       "      <td>34</td>\n",
       "      <td>137</td>\n",
       "      <td>9</td>\n",
       "      <td>0.0</td>\n",
       "      <td>0.0</td>\n",
       "      <td>0.5000</td>\n",
       "      <td>0.1667</td>\n",
       "      <td>1.1111</td>\n",
       "      <td>0.4741</td>\n",
       "      <td>5.8519</td>\n",
       "      <td>7.7778</td>\n",
       "      <td>6.4444</td>\n",
       "      <td>3.3333</td>\n",
       "      <td>5.7778</td>\n",
       "      <td>1.7778</td>\n",
       "      <td>-7.5556</td>\n",
       "      <td>7.7778</td>\n",
       "      <td>0.5736</td>\n",
       "      <td>-0.7443</td>\n",
       "    </tr>\n",
       "    <tr>\n",
       "      <th>4</th>\n",
       "      <td>BRICKFACE</td>\n",
       "      <td>39</td>\n",
       "      <td>111</td>\n",
       "      <td>9</td>\n",
       "      <td>0.0</td>\n",
       "      <td>0.0</td>\n",
       "      <td>0.7222</td>\n",
       "      <td>0.3741</td>\n",
       "      <td>0.8889</td>\n",
       "      <td>0.4296</td>\n",
       "      <td>6.0370</td>\n",
       "      <td>7.0000</td>\n",
       "      <td>7.6667</td>\n",
       "      <td>3.4444</td>\n",
       "      <td>2.8889</td>\n",
       "      <td>4.8889</td>\n",
       "      <td>-7.7778</td>\n",
       "      <td>7.8889</td>\n",
       "      <td>0.5629</td>\n",
       "      <td>-1.1758</td>\n",
       "    </tr>\n",
       "  </tbody>\n",
       "</table>\n",
       "</div>"
      ],
      "text/plain": [
       "  REGION_TYPE  REGION_CENTROID_COL  REGION_CENTROID_ROW  REGION_PIXEL_COUNT  \\\n",
       "0   BRICKFACE                  140                  125                   9   \n",
       "1   BRICKFACE                  188                  133                   9   \n",
       "2   BRICKFACE                  105                  139                   9   \n",
       "3   BRICKFACE                   34                  137                   9   \n",
       "4   BRICKFACE                   39                  111                   9   \n",
       "\n",
       "   SHORT_LINE_DENSITY_5  SHORT_LINE_DENSITY_2  VEDGE_MEAN  VEDGE_SD  \\\n",
       "0                   0.0                   0.0      0.2778    0.0630   \n",
       "1                   0.0                   0.0      0.3333    0.2667   \n",
       "2                   0.0                   0.0      0.2778    0.1074   \n",
       "3                   0.0                   0.0      0.5000    0.1667   \n",
       "4                   0.0                   0.0      0.7222    0.3741   \n",
       "\n",
       "   HEDGE_MEAN  HEDGE_SD  INTENSITY_MEAN  RAWRED_MEAN  RAWBLUE_MEAN  \\\n",
       "0      0.6667    0.3111          6.1852       7.3333        7.6667   \n",
       "1      0.5000    0.0778          6.6667       8.3333        7.7778   \n",
       "2      0.8333    0.5222          6.1111       7.5556        7.2222   \n",
       "3      1.1111    0.4741          5.8519       7.7778        6.4444   \n",
       "4      0.8889    0.4296          6.0370       7.0000        7.6667   \n",
       "\n",
       "   RAWGREEN_MEAN  EXRED_MEAN  EXBLUE_MEAN  EXGREEN_MEAN  VALUE_MEAN  \\\n",
       "0         3.5556      3.4444       4.4444       -7.8889      7.7778   \n",
       "1         3.8889      5.0000       3.3333       -8.3333      8.4444   \n",
       "2         3.5556      4.3333       3.3333       -7.6667      7.5556   \n",
       "3         3.3333      5.7778       1.7778       -7.5556      7.7778   \n",
       "4         3.4444      2.8889       4.8889       -7.7778      7.8889   \n",
       "\n",
       "   SATURATION_MEAN  HUE_MEAN  \n",
       "0           0.5456   -1.1218  \n",
       "1           0.5386   -0.9248  \n",
       "2           0.5326   -0.9659  \n",
       "3           0.5736   -0.7443  \n",
       "4           0.5629   -1.1758  "
      ]
     },
     "execution_count": 16,
     "metadata": {},
     "output_type": "execute_result"
    }
   ],
   "source": [
    "#training set - select the corresponding rows using \"sample\" column\n",
    "image_train = raw_data[raw_data[\"sample\"]==\"train\"] \n",
    "#remove the \"sample\" column\n",
    "image_train = image_train.iloc[:,0:20]\n",
    "#head\n",
    "image_train.head()"
   ]
  },
  {
   "cell_type": "code",
   "execution_count": 17,
   "metadata": {},
   "outputs": [
    {
     "data": {
      "text/plain": [
       "(210, 20)"
      ]
     },
     "execution_count": 17,
     "metadata": {},
     "output_type": "execute_result"
    }
   ],
   "source": [
    "image_train.shape"
   ]
  },
  {
   "cell_type": "code",
   "execution_count": 19,
   "metadata": {},
   "outputs": [],
   "source": [
    "#transformation into a NumPy matrix\n",
    "d_train = image_train.to_numpy()\n",
    "y_app = d_train[:,0]\n",
    "X_app = d_train[:,1:20]"
   ]
  },
  {
   "cell_type": "code",
   "execution_count": 20,
   "metadata": {},
   "outputs": [
    {
     "data": {
      "text/plain": [
       "array([[140, 125, 9, ..., 7.7778, 0.5456, -1.1218],\n",
       "       [188, 133, 9, ..., 8.4444, 0.5386, -0.9248],\n",
       "       [105, 139, 9, ..., 7.5556, 0.5326, -0.9659],\n",
       "       ...,\n",
       "       [197, 236, 9, ..., 18.5556, 0.2927, 2.7898],\n",
       "       [208, 240, 9, ..., 18.5556, 0.4216, 2.3925],\n",
       "       [223, 185, 9, ..., 17.5556, 0.4454, 1.8388]], dtype=object)"
      ]
     },
     "execution_count": 20,
     "metadata": {},
     "output_type": "execute_result"
    }
   ],
   "source": [
    "X_app"
   ]
  },
  {
   "cell_type": "code",
   "execution_count": 21,
   "metadata": {},
   "outputs": [
    {
     "data": {
      "text/plain": [
       "array(['BRICKFACE', 'BRICKFACE', 'BRICKFACE', 'BRICKFACE', 'BRICKFACE',\n",
       "       'BRICKFACE', 'BRICKFACE', 'BRICKFACE', 'BRICKFACE', 'BRICKFACE',\n",
       "       'BRICKFACE', 'BRICKFACE', 'BRICKFACE', 'BRICKFACE', 'BRICKFACE',\n",
       "       'BRICKFACE', 'BRICKFACE', 'BRICKFACE', 'BRICKFACE', 'BRICKFACE',\n",
       "       'BRICKFACE', 'BRICKFACE', 'BRICKFACE', 'BRICKFACE', 'BRICKFACE',\n",
       "       'BRICKFACE', 'BRICKFACE', 'BRICKFACE', 'BRICKFACE', 'BRICKFACE',\n",
       "       'SKY', 'SKY', 'SKY', 'SKY', 'SKY', 'SKY', 'SKY', 'SKY', 'SKY',\n",
       "       'SKY', 'SKY', 'SKY', 'SKY', 'SKY', 'SKY', 'SKY', 'SKY', 'SKY',\n",
       "       'SKY', 'SKY', 'SKY', 'SKY', 'SKY', 'SKY', 'SKY', 'SKY', 'SKY',\n",
       "       'SKY', 'SKY', 'SKY', 'FOLIAGE', 'FOLIAGE', 'FOLIAGE', 'FOLIAGE',\n",
       "       'FOLIAGE', 'FOLIAGE', 'FOLIAGE', 'FOLIAGE', 'FOLIAGE', 'FOLIAGE',\n",
       "       'FOLIAGE', 'FOLIAGE', 'FOLIAGE', 'FOLIAGE', 'FOLIAGE', 'FOLIAGE',\n",
       "       'FOLIAGE', 'FOLIAGE', 'FOLIAGE', 'FOLIAGE', 'FOLIAGE', 'FOLIAGE',\n",
       "       'FOLIAGE', 'FOLIAGE', 'FOLIAGE', 'FOLIAGE', 'FOLIAGE', 'FOLIAGE',\n",
       "       'FOLIAGE', 'FOLIAGE', 'CEMENT', 'CEMENT', 'CEMENT', 'CEMENT',\n",
       "       'CEMENT', 'CEMENT', 'CEMENT', 'CEMENT', 'CEMENT', 'CEMENT',\n",
       "       'CEMENT', 'CEMENT', 'CEMENT', 'CEMENT', 'CEMENT', 'CEMENT',\n",
       "       'CEMENT', 'CEMENT', 'CEMENT', 'CEMENT', 'CEMENT', 'CEMENT',\n",
       "       'CEMENT', 'CEMENT', 'CEMENT', 'CEMENT', 'CEMENT', 'CEMENT',\n",
       "       'CEMENT', 'CEMENT', 'WINDOW', 'WINDOW', 'WINDOW', 'WINDOW',\n",
       "       'WINDOW', 'WINDOW', 'WINDOW', 'WINDOW', 'WINDOW', 'WINDOW',\n",
       "       'WINDOW', 'WINDOW', 'WINDOW', 'WINDOW', 'WINDOW', 'WINDOW',\n",
       "       'WINDOW', 'WINDOW', 'WINDOW', 'WINDOW', 'WINDOW', 'WINDOW',\n",
       "       'WINDOW', 'WINDOW', 'WINDOW', 'WINDOW', 'WINDOW', 'WINDOW',\n",
       "       'WINDOW', 'WINDOW', 'PATH', 'PATH', 'PATH', 'PATH', 'PATH', 'PATH',\n",
       "       'PATH', 'PATH', 'PATH', 'PATH', 'PATH', 'PATH', 'PATH', 'PATH',\n",
       "       'PATH', 'PATH', 'PATH', 'PATH', 'PATH', 'PATH', 'PATH', 'PATH',\n",
       "       'PATH', 'PATH', 'PATH', 'PATH', 'PATH', 'PATH', 'PATH', 'PATH',\n",
       "       'GRASS', 'GRASS', 'GRASS', 'GRASS', 'GRASS', 'GRASS', 'GRASS',\n",
       "       'GRASS', 'GRASS', 'GRASS', 'GRASS', 'GRASS', 'GRASS', 'GRASS',\n",
       "       'GRASS', 'GRASS', 'GRASS', 'GRASS', 'GRASS', 'GRASS', 'GRASS',\n",
       "       'GRASS', 'GRASS', 'GRASS', 'GRASS', 'GRASS', 'GRASS', 'GRASS',\n",
       "       'GRASS', 'GRASS'], dtype=object)"
      ]
     },
     "execution_count": 21,
     "metadata": {},
     "output_type": "execute_result"
    }
   ],
   "source": [
    "y_app"
   ]
  },
  {
   "cell_type": "code",
   "execution_count": 22,
   "metadata": {},
   "outputs": [
    {
     "data": {
      "text/html": [
       "<div>\n",
       "<style scoped>\n",
       "    .dataframe tbody tr th:only-of-type {\n",
       "        vertical-align: middle;\n",
       "    }\n",
       "\n",
       "    .dataframe tbody tr th {\n",
       "        vertical-align: top;\n",
       "    }\n",
       "\n",
       "    .dataframe thead th {\n",
       "        text-align: right;\n",
       "    }\n",
       "</style>\n",
       "<table border=\"1\" class=\"dataframe\">\n",
       "  <thead>\n",
       "    <tr style=\"text-align: right;\">\n",
       "      <th></th>\n",
       "      <th>REGION_TYPE</th>\n",
       "      <th>REGION_CENTROID_COL</th>\n",
       "      <th>REGION_CENTROID_ROW</th>\n",
       "      <th>REGION_PIXEL_COUNT</th>\n",
       "      <th>SHORT_LINE_DENSITY_5</th>\n",
       "      <th>SHORT_LINE_DENSITY_2</th>\n",
       "      <th>VEDGE_MEAN</th>\n",
       "      <th>VEDGE_SD</th>\n",
       "      <th>HEDGE_MEAN</th>\n",
       "      <th>HEDGE_SD</th>\n",
       "      <th>INTENSITY_MEAN</th>\n",
       "      <th>RAWRED_MEAN</th>\n",
       "      <th>RAWBLUE_MEAN</th>\n",
       "      <th>RAWGREEN_MEAN</th>\n",
       "      <th>EXRED_MEAN</th>\n",
       "      <th>EXBLUE_MEAN</th>\n",
       "      <th>EXGREEN_MEAN</th>\n",
       "      <th>VALUE_MEAN</th>\n",
       "      <th>SATURATION_MEAN</th>\n",
       "      <th>HUE_MEAN</th>\n",
       "    </tr>\n",
       "  </thead>\n",
       "  <tbody>\n",
       "    <tr>\n",
       "      <th>210</th>\n",
       "      <td>GRASS</td>\n",
       "      <td>110</td>\n",
       "      <td>189</td>\n",
       "      <td>9</td>\n",
       "      <td>0.0</td>\n",
       "      <td>0.0</td>\n",
       "      <td>1.0000</td>\n",
       "      <td>0.6667</td>\n",
       "      <td>1.2222</td>\n",
       "      <td>1.1863</td>\n",
       "      <td>12.9259</td>\n",
       "      <td>10.8889</td>\n",
       "      <td>9.2222</td>\n",
       "      <td>18.6667</td>\n",
       "      <td>-6.1111</td>\n",
       "      <td>-11.1111</td>\n",
       "      <td>17.2222</td>\n",
       "      <td>18.6667</td>\n",
       "      <td>0.5081</td>\n",
       "      <td>1.9109</td>\n",
       "    </tr>\n",
       "    <tr>\n",
       "      <th>211</th>\n",
       "      <td>GRASS</td>\n",
       "      <td>86</td>\n",
       "      <td>187</td>\n",
       "      <td>9</td>\n",
       "      <td>0.0</td>\n",
       "      <td>0.0</td>\n",
       "      <td>1.1111</td>\n",
       "      <td>0.7201</td>\n",
       "      <td>1.4444</td>\n",
       "      <td>0.7503</td>\n",
       "      <td>13.7407</td>\n",
       "      <td>11.6667</td>\n",
       "      <td>10.3333</td>\n",
       "      <td>19.2222</td>\n",
       "      <td>-6.2222</td>\n",
       "      <td>-10.2222</td>\n",
       "      <td>16.4444</td>\n",
       "      <td>19.2222</td>\n",
       "      <td>0.4633</td>\n",
       "      <td>1.9415</td>\n",
       "    </tr>\n",
       "    <tr>\n",
       "      <th>212</th>\n",
       "      <td>GRASS</td>\n",
       "      <td>225</td>\n",
       "      <td>244</td>\n",
       "      <td>9</td>\n",
       "      <td>0.0</td>\n",
       "      <td>0.0</td>\n",
       "      <td>3.3889</td>\n",
       "      <td>2.1951</td>\n",
       "      <td>3.0000</td>\n",
       "      <td>1.5202</td>\n",
       "      <td>12.2593</td>\n",
       "      <td>10.3333</td>\n",
       "      <td>9.3333</td>\n",
       "      <td>17.1111</td>\n",
       "      <td>-5.7778</td>\n",
       "      <td>-8.7778</td>\n",
       "      <td>14.5556</td>\n",
       "      <td>17.1111</td>\n",
       "      <td>0.4801</td>\n",
       "      <td>1.9879</td>\n",
       "    </tr>\n",
       "    <tr>\n",
       "      <th>213</th>\n",
       "      <td>GRASS</td>\n",
       "      <td>47</td>\n",
       "      <td>232</td>\n",
       "      <td>9</td>\n",
       "      <td>0.0</td>\n",
       "      <td>0.0</td>\n",
       "      <td>1.2778</td>\n",
       "      <td>1.2546</td>\n",
       "      <td>1.0000</td>\n",
       "      <td>0.8944</td>\n",
       "      <td>12.7037</td>\n",
       "      <td>11.0000</td>\n",
       "      <td>9.0000</td>\n",
       "      <td>18.1111</td>\n",
       "      <td>-5.1111</td>\n",
       "      <td>-11.1111</td>\n",
       "      <td>16.2222</td>\n",
       "      <td>18.1111</td>\n",
       "      <td>0.5010</td>\n",
       "      <td>1.8754</td>\n",
       "    </tr>\n",
       "    <tr>\n",
       "      <th>214</th>\n",
       "      <td>GRASS</td>\n",
       "      <td>97</td>\n",
       "      <td>186</td>\n",
       "      <td>9</td>\n",
       "      <td>0.0</td>\n",
       "      <td>0.0</td>\n",
       "      <td>1.1667</td>\n",
       "      <td>0.6912</td>\n",
       "      <td>1.1667</td>\n",
       "      <td>1.0055</td>\n",
       "      <td>15.5926</td>\n",
       "      <td>13.8889</td>\n",
       "      <td>11.7778</td>\n",
       "      <td>21.1111</td>\n",
       "      <td>-5.1111</td>\n",
       "      <td>-11.4444</td>\n",
       "      <td>16.5556</td>\n",
       "      <td>21.1111</td>\n",
       "      <td>0.4427</td>\n",
       "      <td>1.8637</td>\n",
       "    </tr>\n",
       "  </tbody>\n",
       "</table>\n",
       "</div>"
      ],
      "text/plain": [
       "    REGION_TYPE  REGION_CENTROID_COL  REGION_CENTROID_ROW  REGION_PIXEL_COUNT  \\\n",
       "210       GRASS                  110                  189                   9   \n",
       "211       GRASS                   86                  187                   9   \n",
       "212       GRASS                  225                  244                   9   \n",
       "213       GRASS                   47                  232                   9   \n",
       "214       GRASS                   97                  186                   9   \n",
       "\n",
       "     SHORT_LINE_DENSITY_5  SHORT_LINE_DENSITY_2  VEDGE_MEAN  VEDGE_SD  \\\n",
       "210                   0.0                   0.0      1.0000    0.6667   \n",
       "211                   0.0                   0.0      1.1111    0.7201   \n",
       "212                   0.0                   0.0      3.3889    2.1951   \n",
       "213                   0.0                   0.0      1.2778    1.2546   \n",
       "214                   0.0                   0.0      1.1667    0.6912   \n",
       "\n",
       "     HEDGE_MEAN  HEDGE_SD  INTENSITY_MEAN  RAWRED_MEAN  RAWBLUE_MEAN  \\\n",
       "210      1.2222    1.1863         12.9259      10.8889        9.2222   \n",
       "211      1.4444    0.7503         13.7407      11.6667       10.3333   \n",
       "212      3.0000    1.5202         12.2593      10.3333        9.3333   \n",
       "213      1.0000    0.8944         12.7037      11.0000        9.0000   \n",
       "214      1.1667    1.0055         15.5926      13.8889       11.7778   \n",
       "\n",
       "     RAWGREEN_MEAN  EXRED_MEAN  EXBLUE_MEAN  EXGREEN_MEAN  VALUE_MEAN  \\\n",
       "210        18.6667     -6.1111     -11.1111       17.2222     18.6667   \n",
       "211        19.2222     -6.2222     -10.2222       16.4444     19.2222   \n",
       "212        17.1111     -5.7778      -8.7778       14.5556     17.1111   \n",
       "213        18.1111     -5.1111     -11.1111       16.2222     18.1111   \n",
       "214        21.1111     -5.1111     -11.4444       16.5556     21.1111   \n",
       "\n",
       "     SATURATION_MEAN  HUE_MEAN  \n",
       "210           0.5081    1.9109  \n",
       "211           0.4633    1.9415  \n",
       "212           0.4801    1.9879  \n",
       "213           0.5010    1.8754  \n",
       "214           0.4427    1.8637  "
      ]
     },
     "execution_count": 22,
     "metadata": {},
     "output_type": "execute_result"
    }
   ],
   "source": [
    "#test sample\n",
    "image_test = (raw_data[raw_data[\"sample\"]==\"test\"]).iloc[:,0:20]\n",
    "image_test.head()"
   ]
  },
  {
   "cell_type": "code",
   "execution_count": 23,
   "metadata": {},
   "outputs": [
    {
     "data": {
      "text/plain": [
       "(2100, 20)"
      ]
     },
     "execution_count": 23,
     "metadata": {},
     "output_type": "execute_result"
    }
   ],
   "source": [
    "image_test.shape"
   ]
  },
  {
   "cell_type": "code",
   "execution_count": 25,
   "metadata": {},
   "outputs": [],
   "source": [
    "y_test = image_test.to_numpy()[:,0]\n",
    "X_test = image_test.to_numpy()[:,1:20]"
   ]
  },
  {
   "cell_type": "code",
   "execution_count": 26,
   "metadata": {},
   "outputs": [
    {
     "data": {
      "text/plain": [
       "array(['GRASS', 'GRASS', 'GRASS', ..., 'CEMENT', 'CEMENT', 'CEMENT'],\n",
       "      dtype=object)"
      ]
     },
     "execution_count": 26,
     "metadata": {},
     "output_type": "execute_result"
    }
   ],
   "source": [
    "y_test"
   ]
  },
  {
   "cell_type": "code",
   "execution_count": 27,
   "metadata": {},
   "outputs": [
    {
     "data": {
      "text/plain": [
       "array([[110, 189, 9, ..., 18.6667, 0.5081, 1.9109],\n",
       "       [86, 187, 9, ..., 19.2222, 0.4633, 1.9415],\n",
       "       [225, 244, 9, ..., 17.1111, 0.4801, 1.9879],\n",
       "       ...,\n",
       "       [128, 161, 9, ..., 10.8889, 0.5409, -1.9963],\n",
       "       [150, 158, 9, ..., 12.2222, 0.5031, -1.9434],\n",
       "       [124, 162, 9, ..., 14.5556, 0.4799, -2.0293]], dtype=object)"
      ]
     },
     "execution_count": 27,
     "metadata": {},
     "output_type": "execute_result"
    }
   ],
   "source": [
    "X_test"
   ]
  },
  {
   "cell_type": "markdown",
   "metadata": {},
   "source": [
    "# 3. Into the machine learning"
   ]
  },
  {
   "cell_type": "code",
   "execution_count": 28,
   "metadata": {},
   "outputs": [],
   "source": [
    "# First we define the error rate for predictions\n",
    "def error_rate(model,y_test,X_test):\n",
    "    \"\"\"Calculates the error rate for a machine learning classification model given a model, a dataset wit all the instances and the predicted value\"\"\"\n",
    "    y_pred = model.predict(X_test)\n",
    "    #error rate\n",
    "    error = 1.0 - metrics.accuracy_score(y_test, y_pred)\n",
    "    return error"
   ]
  },
  {
   "cell_type": "markdown",
   "metadata": {},
   "source": [
    "## 3.1 Decision Tree Classifier"
   ]
  },
  {
   "cell_type": "code",
   "execution_count": 29,
   "metadata": {},
   "outputs": [
    {
     "data": {
      "text/plain": [
       "DecisionTreeClassifier()"
      ]
     },
     "execution_count": 29,
     "metadata": {},
     "output_type": "execute_result"
    }
   ],
   "source": [
    "dtree = DecisionTreeClassifier()\n",
    "#learning phase\n",
    "dtree.fit(X_app,y_app)"
   ]
  },
  {
   "cell_type": "code",
   "execution_count": 30,
   "metadata": {},
   "outputs": [],
   "source": [
    "# Exporting document\n",
    "tree.export_graphviz(dtree #defined tree\n",
    "                , out_file='dot_data.dot' #generate the output in the \".dot\" format\n",
    "                , feature_names=image_train.columns[1:20] #provides names\n",
    "                , class_names=image_train.columns[0]\n",
    "                , filled=True\n",
    "                , rounded=True\n",
    "                , special_characters=True)"
   ]
  },
  {
   "cell_type": "code",
   "execution_count": 31,
   "metadata": {},
   "outputs": [
    {
     "name": "stdout",
     "output_type": "stream",
     "text": [
      "                 VarName  Importance\n",
      "0    REGION_CENTROID_COL    0.020194\n",
      "1    REGION_CENTROID_ROW    0.177333\n",
      "2     REGION_PIXEL_COUNT    0.000000\n",
      "3   SHORT_LINE_DENSITY_5    0.000000\n",
      "4   SHORT_LINE_DENSITY_2    0.000000\n",
      "5             VEDGE_MEAN    0.028561\n",
      "6               VEDGE_SD    0.000000\n",
      "7             HEDGE_MEAN    0.000000\n",
      "8               HEDGE_SD    0.000000\n",
      "9         INTENSITY_MEAN    0.000000\n",
      "10           RAWRED_MEAN    0.028799\n",
      "11          RAWBLUE_MEAN    0.166667\n",
      "12         RAWGREEN_MEAN    0.000000\n",
      "13            EXRED_MEAN    0.000000\n",
      "14           EXBLUE_MEAN    0.000000\n",
      "15          EXGREEN_MEAN    0.289996\n",
      "16            VALUE_MEAN    0.009259\n",
      "17       SATURATION_MEAN    0.079397\n",
      "18              HUE_MEAN    0.199794\n"
     ]
    },
    {
     "data": {
      "text/plain": [
       "<matplotlib.axes._subplots.AxesSubplot at 0x27af632a910>"
      ]
     },
     "execution_count": 31,
     "metadata": {},
     "output_type": "execute_result"
    },
    {
     "data": {
      "image/png": "[encoded data removed]",
      "text/plain": [
       "<Figure size 432x288 with 1 Axes>"
      ]
     },
     "metadata": {
      "needs_background": "light"
     },
     "output_type": "display_data"
    }
   ],
   "source": [
    "# variable importance: \n",
    "imp = {\"VarName\":image_train.columns[1:]\n",
    "       , \"Importance\":dtree.feature_importances_}\n",
    "\n",
    "print(pd.DataFrame(imp))\n",
    "\n",
    "# Visualizing feature importance:\n",
    "pd.DataFrame(imp).sort_values(by = 'Importance', ascending=False).plot.bar(x = 'VarName')"
   ]
  },
  {
   "cell_type": "code",
   "execution_count": 32,
   "metadata": {},
   "outputs": [
    {
     "name": "stdout",
     "output_type": "stream",
     "text": [
      "0.10238095238095235\n"
     ]
    }
   ],
   "source": [
    "#error rate\n",
    "print(error_rate(dtree,y_test,X_test))"
   ]
  },
  {
   "cell_type": "code",
   "execution_count": 33,
   "metadata": {},
   "outputs": [
    {
     "data": {
      "image/png": "[encoded data removed]",
      "text/plain": [
       "<Figure size 432x288 with 1 Axes>"
      ]
     },
     "metadata": {
      "needs_background": "light"
     },
     "output_type": "display_data"
    }
   ],
   "source": [
    "y_pred = dtree.predict(X_test)\n",
    "fig, ax = plot_confusion_matrix(conf_mat=confusion_matrix(y_test, y_pred, binary = False))\n",
    "plt.show()"
   ]
  },
  {
   "cell_type": "code",
   "execution_count": 34,
   "metadata": {},
   "outputs": [
    {
     "data": {
      "text/html": [
       "<div>\n",
       "<style scoped>\n",
       "    .dataframe tbody tr th:only-of-type {\n",
       "        vertical-align: middle;\n",
       "    }\n",
       "\n",
       "    .dataframe tbody tr th {\n",
       "        vertical-align: top;\n",
       "    }\n",
       "\n",
       "    .dataframe thead th {\n",
       "        text-align: right;\n",
       "    }\n",
       "</style>\n",
       "<table border=\"1\" class=\"dataframe\">\n",
       "  <thead>\n",
       "    <tr style=\"text-align: right;\">\n",
       "      <th></th>\n",
       "      <th>REGION_CENTROID_COL</th>\n",
       "      <th>REGION_CENTROID_ROW</th>\n",
       "      <th>REGION_PIXEL_COUNT</th>\n",
       "      <th>SHORT_LINE_DENSITY_5</th>\n",
       "      <th>SHORT_LINE_DENSITY_2</th>\n",
       "      <th>VEDGE_MEAN</th>\n",
       "      <th>VEDGE_SD</th>\n",
       "      <th>HEDGE_MEAN</th>\n",
       "      <th>HEDGE_SD</th>\n",
       "      <th>INTENSITY_MEAN</th>\n",
       "      <th>RAWRED_MEAN</th>\n",
       "      <th>RAWBLUE_MEAN</th>\n",
       "      <th>RAWGREEN_MEAN</th>\n",
       "      <th>EXRED_MEAN</th>\n",
       "      <th>EXBLUE_MEAN</th>\n",
       "      <th>EXGREEN_MEAN</th>\n",
       "      <th>VALUE_MEAN</th>\n",
       "      <th>SATURATION_MEAN</th>\n",
       "      <th>HUE_MEAN</th>\n",
       "    </tr>\n",
       "    <tr>\n",
       "      <th>REGION_TYPE</th>\n",
       "      <th></th>\n",
       "      <th></th>\n",
       "      <th></th>\n",
       "      <th></th>\n",
       "      <th></th>\n",
       "      <th></th>\n",
       "      <th></th>\n",
       "      <th></th>\n",
       "      <th></th>\n",
       "      <th></th>\n",
       "      <th></th>\n",
       "      <th></th>\n",
       "      <th></th>\n",
       "      <th></th>\n",
       "      <th></th>\n",
       "      <th></th>\n",
       "      <th></th>\n",
       "      <th></th>\n",
       "      <th></th>\n",
       "    </tr>\n",
       "  </thead>\n",
       "  <tbody>\n",
       "    <tr>\n",
       "      <th>BRICKFACE</th>\n",
       "      <td>30</td>\n",
       "      <td>30</td>\n",
       "      <td>30</td>\n",
       "      <td>30</td>\n",
       "      <td>30</td>\n",
       "      <td>30</td>\n",
       "      <td>30</td>\n",
       "      <td>30</td>\n",
       "      <td>30</td>\n",
       "      <td>30</td>\n",
       "      <td>30</td>\n",
       "      <td>30</td>\n",
       "      <td>30</td>\n",
       "      <td>30</td>\n",
       "      <td>30</td>\n",
       "      <td>30</td>\n",
       "      <td>30</td>\n",
       "      <td>30</td>\n",
       "      <td>30</td>\n",
       "    </tr>\n",
       "    <tr>\n",
       "      <th>CEMENT</th>\n",
       "      <td>30</td>\n",
       "      <td>30</td>\n",
       "      <td>30</td>\n",
       "      <td>30</td>\n",
       "      <td>30</td>\n",
       "      <td>30</td>\n",
       "      <td>30</td>\n",
       "      <td>30</td>\n",
       "      <td>30</td>\n",
       "      <td>30</td>\n",
       "      <td>30</td>\n",
       "      <td>30</td>\n",
       "      <td>30</td>\n",
       "      <td>30</td>\n",
       "      <td>30</td>\n",
       "      <td>30</td>\n",
       "      <td>30</td>\n",
       "      <td>30</td>\n",
       "      <td>30</td>\n",
       "    </tr>\n",
       "    <tr>\n",
       "      <th>FOLIAGE</th>\n",
       "      <td>30</td>\n",
       "      <td>30</td>\n",
       "      <td>30</td>\n",
       "      <td>30</td>\n",
       "      <td>30</td>\n",
       "      <td>30</td>\n",
       "      <td>30</td>\n",
       "      <td>30</td>\n",
       "      <td>30</td>\n",
       "      <td>30</td>\n",
       "      <td>30</td>\n",
       "      <td>30</td>\n",
       "      <td>30</td>\n",
       "      <td>30</td>\n",
       "      <td>30</td>\n",
       "      <td>30</td>\n",
       "      <td>30</td>\n",
       "      <td>30</td>\n",
       "      <td>30</td>\n",
       "    </tr>\n",
       "    <tr>\n",
       "      <th>GRASS</th>\n",
       "      <td>30</td>\n",
       "      <td>30</td>\n",
       "      <td>30</td>\n",
       "      <td>30</td>\n",
       "      <td>30</td>\n",
       "      <td>30</td>\n",
       "      <td>30</td>\n",
       "      <td>30</td>\n",
       "      <td>30</td>\n",
       "      <td>30</td>\n",
       "      <td>30</td>\n",
       "      <td>30</td>\n",
       "      <td>30</td>\n",
       "      <td>30</td>\n",
       "      <td>30</td>\n",
       "      <td>30</td>\n",
       "      <td>30</td>\n",
       "      <td>30</td>\n",
       "      <td>30</td>\n",
       "    </tr>\n",
       "    <tr>\n",
       "      <th>PATH</th>\n",
       "      <td>30</td>\n",
       "      <td>30</td>\n",
       "      <td>30</td>\n",
       "      <td>30</td>\n",
       "      <td>30</td>\n",
       "      <td>30</td>\n",
       "      <td>30</td>\n",
       "      <td>30</td>\n",
       "      <td>30</td>\n",
       "      <td>30</td>\n",
       "      <td>30</td>\n",
       "      <td>30</td>\n",
       "      <td>30</td>\n",
       "      <td>30</td>\n",
       "      <td>30</td>\n",
       "      <td>30</td>\n",
       "      <td>30</td>\n",
       "      <td>30</td>\n",
       "      <td>30</td>\n",
       "    </tr>\n",
       "    <tr>\n",
       "      <th>SKY</th>\n",
       "      <td>30</td>\n",
       "      <td>30</td>\n",
       "      <td>30</td>\n",
       "      <td>30</td>\n",
       "      <td>30</td>\n",
       "      <td>30</td>\n",
       "      <td>30</td>\n",
       "      <td>30</td>\n",
       "      <td>30</td>\n",
       "      <td>30</td>\n",
       "      <td>30</td>\n",
       "      <td>30</td>\n",
       "      <td>30</td>\n",
       "      <td>30</td>\n",
       "      <td>30</td>\n",
       "      <td>30</td>\n",
       "      <td>30</td>\n",
       "      <td>30</td>\n",
       "      <td>30</td>\n",
       "    </tr>\n",
       "    <tr>\n",
       "      <th>WINDOW</th>\n",
       "      <td>30</td>\n",
       "      <td>30</td>\n",
       "      <td>30</td>\n",
       "      <td>30</td>\n",
       "      <td>30</td>\n",
       "      <td>30</td>\n",
       "      <td>30</td>\n",
       "      <td>30</td>\n",
       "      <td>30</td>\n",
       "      <td>30</td>\n",
       "      <td>30</td>\n",
       "      <td>30</td>\n",
       "      <td>30</td>\n",
       "      <td>30</td>\n",
       "      <td>30</td>\n",
       "      <td>30</td>\n",
       "      <td>30</td>\n",
       "      <td>30</td>\n",
       "      <td>30</td>\n",
       "    </tr>\n",
       "  </tbody>\n",
       "</table>\n",
       "</div>"
      ],
      "text/plain": [
       "             REGION_CENTROID_COL  REGION_CENTROID_ROW  REGION_PIXEL_COUNT  \\\n",
       "REGION_TYPE                                                                 \n",
       "BRICKFACE                     30                   30                  30   \n",
       "CEMENT                        30                   30                  30   \n",
       "FOLIAGE                       30                   30                  30   \n",
       "GRASS                         30                   30                  30   \n",
       "PATH                          30                   30                  30   \n",
       "SKY                           30                   30                  30   \n",
       "WINDOW                        30                   30                  30   \n",
       "\n",
       "             SHORT_LINE_DENSITY_5  SHORT_LINE_DENSITY_2  VEDGE_MEAN  VEDGE_SD  \\\n",
       "REGION_TYPE                                                                     \n",
       "BRICKFACE                      30                    30          30        30   \n",
       "CEMENT                         30                    30          30        30   \n",
       "FOLIAGE                        30                    30          30        30   \n",
       "GRASS                          30                    30          30        30   \n",
       "PATH                           30                    30          30        30   \n",
       "SKY                            30                    30          30        30   \n",
       "WINDOW                         30                    30          30        30   \n",
       "\n",
       "             HEDGE_MEAN  HEDGE_SD  INTENSITY_MEAN  RAWRED_MEAN  RAWBLUE_MEAN  \\\n",
       "REGION_TYPE                                                                    \n",
       "BRICKFACE            30        30              30           30            30   \n",
       "CEMENT               30        30              30           30            30   \n",
       "FOLIAGE              30        30              30           30            30   \n",
       "GRASS                30        30              30           30            30   \n",
       "PATH                 30        30              30           30            30   \n",
       "SKY                  30        30              30           30            30   \n",
       "WINDOW               30        30              30           30            30   \n",
       "\n",
       "             RAWGREEN_MEAN  EXRED_MEAN  EXBLUE_MEAN  EXGREEN_MEAN  VALUE_MEAN  \\\n",
       "REGION_TYPE                                                                     \n",
       "BRICKFACE               30          30           30            30          30   \n",
       "CEMENT                  30          30           30            30          30   \n",
       "FOLIAGE                 30          30           30            30          30   \n",
       "GRASS                   30          30           30            30          30   \n",
       "PATH                    30          30           30            30          30   \n",
       "SKY                     30          30           30            30          30   \n",
       "WINDOW                  30          30           30            30          30   \n",
       "\n",
       "             SATURATION_MEAN  HUE_MEAN  \n",
       "REGION_TYPE                             \n",
       "BRICKFACE                 30        30  \n",
       "CEMENT                    30        30  \n",
       "FOLIAGE                   30        30  \n",
       "GRASS                     30        30  \n",
       "PATH                      30        30  \n",
       "SKY                       30        30  \n",
       "WINDOW                    30        30  "
      ]
     },
     "execution_count": 34,
     "metadata": {},
     "output_type": "execute_result"
    }
   ],
   "source": [
    "image_train.groupby(by = 'REGION_TYPE').count()"
   ]
  },
  {
   "cell_type": "markdown",
   "metadata": {},
   "source": [
    "## 3.2 Bagging Classifier - Decision Tree"
   ]
  },
  {
   "cell_type": "code",
   "execution_count": 45,
   "metadata": {},
   "outputs": [
    {
     "data": {
      "text/plain": [
       "BaggingClassifier(base_estimator=DecisionTreeClassifier(), n_estimators=20)"
      ]
     },
     "execution_count": 45,
     "metadata": {},
     "output_type": "execute_result"
    }
   ],
   "source": [
    "#instantiation\n",
    "baggingTree = BaggingClassifier(DecisionTreeClassifier()\n",
    "                                , n_estimators=20)\n",
    "baggingTree"
   ]
  },
  {
   "cell_type": "code",
   "execution_count": 46,
   "metadata": {},
   "outputs": [
    {
     "name": "stdout",
     "output_type": "stream",
     "text": [
      "0.06999999999999995\n"
     ]
    }
   ],
   "source": [
    "#fit the model on the learning set\n",
    "baggingTree.fit(X_app,y_app)\n",
    "\n",
    "#evaluation\n",
    "print(error_rate(baggingTree,y_test,X_test))"
   ]
  },
  {
   "cell_type": "code",
   "execution_count": 47,
   "metadata": {},
   "outputs": [],
   "source": [
    "#function - training / test for a given m - bagging approach\n",
    "def train_test_bagging(m, X_app, y_app, X_test, y_test):\n",
    "    \"\"\"Calculates the error rate for a given set of data used in a bagging classifier and a given value of m number of estimators\"\"\"\n",
    "    bag = BaggingClassifier(DecisionTreeClassifier(), n_estimators=m)\n",
    "    bag.fit(X_app,y_app)\n",
    "    return error_rate(bag, y_test, X_test)\n",
    "#end train-test"
   ]
  },
  {
   "cell_type": "code",
   "execution_count": 48,
   "metadata": {},
   "outputs": [
    {
     "data": {
      "text/plain": [
       "array([[0., 0., 0., 0., 0., 0., 0.]])"
      ]
     },
     "execution_count": 48,
     "metadata": {},
     "output_type": "execute_result"
    }
   ],
   "source": [
    "#values of m to evaluate\n",
    "m_a_tester = [1,5,10,20,50,100,200]\n",
    "result = np.zeros(shape=(1,7))\n",
    "result"
   ]
  },
  {
   "cell_type": "code",
   "execution_count": 49,
   "metadata": {},
   "outputs": [
    {
     "name": "stdout",
     "output_type": "stream",
     "text": [
      "Iteration Number: 0\n",
      "Vector of errors for Bagging iterations\n",
      "[[0.12190476 0.06571429 0.06380952 0.05857143 0.05428571 0.05809524\n",
      "  0.06190476]]\n",
      "Iteration Number: 1\n",
      "Vector of errors for Bagging iterations\n",
      "[[0.09428571 0.06666667 0.06619048 0.05380952 0.06095238 0.0552381\n",
      "  0.05857143]]\n",
      "Iteration Number: 2\n",
      "Vector of errors for Bagging iterations\n",
      "[[0.12428571 0.08       0.05952381 0.06238095 0.05571429 0.05666667\n",
      "  0.05904762]]\n",
      "Iteration Number: 3\n",
      "Vector of errors for Bagging iterations\n",
      "[[0.12809524 0.06190476 0.06047619 0.06571429 0.05809524 0.05809524\n",
      "  0.05952381]]\n",
      "Iteration Number: 4\n",
      "Vector of errors for Bagging iterations\n",
      "[[0.09952381 0.07142857 0.05952381 0.0547619  0.05571429 0.05857143\n",
      "  0.05857143]]\n",
      "Iteration Number: 5\n",
      "Vector of errors for Bagging iterations\n",
      "[[0.12       0.07238095 0.07571429 0.0547619  0.0547619  0.0552381\n",
      "  0.0547619 ]]\n",
      "Iteration Number: 6\n",
      "Vector of errors for Bagging iterations\n",
      "[[0.12380952 0.07571429 0.07571429 0.05619048 0.05619048 0.05761905\n",
      "  0.05904762]]\n",
      "Iteration Number: 7\n",
      "Vector of errors for Bagging iterations\n",
      "[[0.11571429 0.09047619 0.05904762 0.05333333 0.05714286 0.05619048\n",
      "  0.05857143]]\n",
      "Iteration Number: 8\n",
      "Vector of errors for Bagging iterations\n",
      "[[0.11714286 0.07380952 0.06142857 0.06       0.05952381 0.06142857\n",
      "  0.05857143]]\n",
      "Iteration Number: 9\n",
      "Vector of errors for Bagging iterations\n",
      "[[0.11380952 0.07380952 0.07380952 0.0547619  0.05761905 0.05952381\n",
      "  0.05714286]]\n",
      "Iteration Number: 10\n",
      "Vector of errors for Bagging iterations\n",
      "[[0.08952381 0.08142857 0.06428571 0.05619048 0.05952381 0.06238095\n",
      "  0.05857143]]\n",
      "Iteration Number: 11\n",
      "Vector of errors for Bagging iterations\n",
      "[[0.11333333 0.07619048 0.05333333 0.05857143 0.0552381  0.05333333\n",
      "  0.05714286]]\n",
      "Iteration Number: 12\n",
      "Vector of errors for Bagging iterations\n",
      "[[0.12857143 0.07857143 0.07       0.05619048 0.0652381  0.05761905\n",
      "  0.06333333]]\n",
      "Iteration Number: 13\n",
      "Vector of errors for Bagging iterations\n",
      "[[0.09857143 0.07714286 0.06238095 0.06047619 0.05809524 0.05619048\n",
      "  0.05857143]]\n",
      "Iteration Number: 14\n",
      "Vector of errors for Bagging iterations\n",
      "[[0.12666667 0.06       0.05619048 0.05809524 0.0552381  0.06190476\n",
      "  0.06      ]]\n",
      "Iteration Number: 15\n",
      "Vector of errors for Bagging iterations\n",
      "[[0.16619048 0.07190476 0.05190476 0.06238095 0.05571429 0.05761905\n",
      "  0.05952381]]\n",
      "Iteration Number: 16\n",
      "Vector of errors for Bagging iterations\n",
      "[[0.09857143 0.06809524 0.0552381  0.0552381  0.05333333 0.06142857\n",
      "  0.05952381]]\n",
      "Iteration Number: 17\n",
      "Vector of errors for Bagging iterations\n",
      "[[0.09333333 0.07142857 0.05904762 0.06095238 0.0547619  0.06\n",
      "  0.05904762]]\n",
      "Iteration Number: 18\n",
      "Vector of errors for Bagging iterations\n",
      "[[0.11761905 0.07857143 0.06857143 0.06333333 0.05380952 0.05428571\n",
      "  0.05809524]]\n",
      "Iteration Number: 19\n",
      "Vector of errors for Bagging iterations\n",
      "[[0.11238095 0.05952381 0.0547619  0.06333333 0.05952381 0.05666667\n",
      "  0.05761905]]\n"
     ]
    },
    {
     "data": {
      "text/plain": [
       "array([[0.        , 0.        , 0.        , 0.        , 0.        ,\n",
       "        0.        , 0.        ],\n",
       "       [0.12190476, 0.06571429, 0.06380952, 0.05857143, 0.05428571,\n",
       "        0.05809524, 0.06190476],\n",
       "       [0.09428571, 0.06666667, 0.06619048, 0.05380952, 0.06095238,\n",
       "        0.0552381 , 0.05857143],\n",
       "       [0.12428571, 0.08      , 0.05952381, 0.06238095, 0.05571429,\n",
       "        0.05666667, 0.05904762],\n",
       "       [0.12809524, 0.06190476, 0.06047619, 0.06571429, 0.05809524,\n",
       "        0.05809524, 0.05952381],\n",
       "       [0.09952381, 0.07142857, 0.05952381, 0.0547619 , 0.05571429,\n",
       "        0.05857143, 0.05857143],\n",
       "       [0.12      , 0.07238095, 0.07571429, 0.0547619 , 0.0547619 ,\n",
       "        0.0552381 , 0.0547619 ],\n",
       "       [0.12380952, 0.07571429, 0.07571429, 0.05619048, 0.05619048,\n",
       "        0.05761905, 0.05904762],\n",
       "       [0.11571429, 0.09047619, 0.05904762, 0.05333333, 0.05714286,\n",
       "        0.05619048, 0.05857143],\n",
       "       [0.11714286, 0.07380952, 0.06142857, 0.06      , 0.05952381,\n",
       "        0.06142857, 0.05857143],\n",
       "       [0.11380952, 0.07380952, 0.07380952, 0.0547619 , 0.05761905,\n",
       "        0.05952381, 0.05714286],\n",
       "       [0.08952381, 0.08142857, 0.06428571, 0.05619048, 0.05952381,\n",
       "        0.06238095, 0.05857143],\n",
       "       [0.11333333, 0.07619048, 0.05333333, 0.05857143, 0.0552381 ,\n",
       "        0.05333333, 0.05714286],\n",
       "       [0.12857143, 0.07857143, 0.07      , 0.05619048, 0.0652381 ,\n",
       "        0.05761905, 0.06333333],\n",
       "       [0.09857143, 0.07714286, 0.06238095, 0.06047619, 0.05809524,\n",
       "        0.05619048, 0.05857143],\n",
       "       [0.12666667, 0.06      , 0.05619048, 0.05809524, 0.0552381 ,\n",
       "        0.06190476, 0.06      ],\n",
       "       [0.16619048, 0.07190476, 0.05190476, 0.06238095, 0.05571429,\n",
       "        0.05761905, 0.05952381],\n",
       "       [0.09857143, 0.06809524, 0.0552381 , 0.0552381 , 0.05333333,\n",
       "        0.06142857, 0.05952381],\n",
       "       [0.09333333, 0.07142857, 0.05904762, 0.06095238, 0.0547619 ,\n",
       "        0.06      , 0.05904762],\n",
       "       [0.11761905, 0.07857143, 0.06857143, 0.06333333, 0.05380952,\n",
       "        0.05428571, 0.05809524],\n",
       "       [0.11238095, 0.05952381, 0.0547619 , 0.06333333, 0.05952381,\n",
       "        0.05666667, 0.05761905]])"
      ]
     },
     "execution_count": 49,
     "metadata": {},
     "output_type": "execute_result"
    }
   ],
   "source": [
    "#repeat 20 times the experiment for each m\n",
    "for expe in range(20):\n",
    "    #evaluate each value of m\n",
    "    print(\"Iteration Number: \" + str(expe))\n",
    "    res = [train_test_bagging(m ,X_app, y_app, X_test, y_test) for m in m_a_tester]\n",
    "    res = np.asarray(res).reshape(1,7)\n",
    "    print(\"Vector of errors for Bagging iterations\")\n",
    "    print(res)\n",
    "    #add a new row into the matrix\n",
    "    result = np.append(result,res,axis=0)\n",
    "\n",
    "result"
   ]
  },
  {
   "cell_type": "code",
   "execution_count": 50,
   "metadata": {},
   "outputs": [
    {
     "data": {
      "text/plain": [
       "array([0.11516667, 0.0727381 , 0.06254762, 0.05845238, 0.05702381,\n",
       "       0.05790476, 0.05885714])"
      ]
     },
     "execution_count": 50,
     "metadata": {},
     "output_type": "execute_result"
    }
   ],
   "source": [
    "#remove the first row\n",
    "result = np.delete(result,0,axis=0)\n",
    "#calculate the mean\n",
    "mresult = np.mean(result,axis=0)\n",
    "mresult"
   ]
  },
  {
   "cell_type": "code",
   "execution_count": 51,
   "metadata": {},
   "outputs": [
    {
     "data": {
      "text/plain": [
       "[<matplotlib.lines.Line2D at 0x27af72c1a30>]"
      ]
     },
     "execution_count": 51,
     "metadata": {},
     "output_type": "execute_result"
    },
    {
     "data": {
      "image/png": "[encoded data removed]",
      "text/plain": [
       "<Figure size 432x288 with 1 Axes>"
      ]
     },
     "metadata": {
      "needs_background": "light"
     },
     "output_type": "display_data"
    }
   ],
   "source": [
    "#label of the axes\n",
    "plt.xlabel(\"m\")\n",
    "plt.ylabel(\"Error Rate\")\n",
    "\n",
    "plt.plot(m_a_tester,mresult,linewidth=2)"
   ]
  },
  {
   "cell_type": "code",
   "execution_count": 52,
   "metadata": {},
   "outputs": [],
   "source": [
    "# the parameters to make vary\n",
    "# the name of the parameter must be explicit\n",
    "# we enumerate the values to try\n",
    "parametres = [{\"n_estimators\":[1,5,10,20,50,100,200]}]\n",
    "\n",
    "#instantiate the classifier\n",
    "bag = BaggingClassifier(DecisionTreeClassifier())\n",
    "\n",
    "#instantiation of the gris search tool\n",
    "#the metric used is the accuracy rate (error rate = 1 - accuracy rate)\n",
    "grid_bag = GridSearchCV(cv = 10, estimator=bag, param_grid=parametres, scoring=\"accuracy\")\n",
    "\n",
    "#launching the exploration\n",
    "grille_bag = grid_bag.fit(X_app,y_app)"
   ]
  },
  {
   "cell_type": "code",
   "execution_count": 53,
   "metadata": {},
   "outputs": [
    {
     "data": {
      "text/plain": [
       "BaggingClassifier(base_estimator=DecisionTreeClassifier(), n_estimators=200)"
      ]
     },
     "execution_count": 53,
     "metadata": {},
     "output_type": "execute_result"
    }
   ],
   "source": [
    "grille_bag.best_estimator_"
   ]
  },
  {
   "cell_type": "code",
   "execution_count": 30,
   "metadata": {},
   "outputs": [
    {
     "data": {
      "text/plain": [
       "{'n_estimators': 200}"
      ]
     },
     "execution_count": 30,
     "metadata": {},
     "output_type": "execute_result"
    }
   ],
   "source": [
    "grille_bag.best_params_"
   ]
  },
  {
   "cell_type": "code",
   "execution_count": 54,
   "metadata": {},
   "outputs": [
    {
     "name": "stdout",
     "output_type": "stream",
     "text": [
      "0.05476190476190479\n"
     ]
    }
   ],
   "source": [
    "print(error_rate(grille_bag,y_test,X_test))"
   ]
  },
  {
   "cell_type": "code",
   "execution_count": 55,
   "metadata": {},
   "outputs": [
    {
     "data": {
      "image/png": "[encoded data removed]",
      "text/plain": [
       "<Figure size 432x288 with 1 Axes>"
      ]
     },
     "metadata": {
      "needs_background": "light"
     },
     "output_type": "display_data"
    }
   ],
   "source": [
    "y_pred = grille_bag.predict(X_test)\n",
    "fig, ax = plot_confusion_matrix(conf_mat=confusion_matrix(y_test, y_pred, binary = False))\n",
    "plt.show()"
   ]
  },
  {
   "cell_type": "markdown",
   "metadata": {},
   "source": [
    "## 3.3 Random Forest Classifier"
   ]
  },
  {
   "cell_type": "code",
   "execution_count": 56,
   "metadata": {},
   "outputs": [
    {
     "name": "stdout",
     "output_type": "stream",
     "text": [
      "0.04904761904761901\n",
      "[0.021477   0.11872464 0.         0.00328824 0.00270581 0.0240432\n",
      " 0.02277247 0.03421393 0.01876674 0.07672086 0.0972575  0.08291332\n",
      " 0.07001741 0.07108427 0.0505829  0.09427854 0.0376791  0.04542743\n",
      " 0.12804663]\n",
      "                 VarName  Importance\n",
      "0    REGION_CENTROID_COL    0.021477\n",
      "1    REGION_CENTROID_ROW    0.118725\n",
      "2     REGION_PIXEL_COUNT    0.000000\n",
      "3   SHORT_LINE_DENSITY_5    0.003288\n",
      "4   SHORT_LINE_DENSITY_2    0.002706\n",
      "5             VEDGE_MEAN    0.024043\n",
      "6               VEDGE_SD    0.022772\n",
      "7             HEDGE_MEAN    0.034214\n",
      "8               HEDGE_SD    0.018767\n",
      "9         INTENSITY_MEAN    0.076721\n",
      "10           RAWRED_MEAN    0.097258\n",
      "11          RAWBLUE_MEAN    0.082913\n",
      "12         RAWGREEN_MEAN    0.070017\n",
      "13            EXRED_MEAN    0.071084\n",
      "14           EXBLUE_MEAN    0.050583\n",
      "15          EXGREEN_MEAN    0.094279\n",
      "16            VALUE_MEAN    0.037679\n",
      "17       SATURATION_MEAN    0.045427\n",
      "18              HUE_MEAN    0.128047\n"
     ]
    }
   ],
   "source": [
    "#instantiation\n",
    "rf = RandomForestClassifier(n_estimators=20)\n",
    "\n",
    "#learning phase\n",
    "rf.fit(X_app,y_app)\n",
    "\n",
    "#test error rate\n",
    "print(error_rate(rf,y_test,X_test))\n",
    "\n",
    "#importance of variables\n",
    "print(rf.feature_importances_)\n",
    "\n",
    "#with the name of the variables\n",
    "imp = {\"VarName\":image_train.columns[1:],\"Importance\":rf.feature_importances_}\n",
    "print(pd.DataFrame(imp))"
   ]
  },
  {
   "cell_type": "code",
   "execution_count": 57,
   "metadata": {},
   "outputs": [
    {
     "data": {
      "text/plain": [
       "<matplotlib.axes._subplots.AxesSubplot at 0x27af73defa0>"
      ]
     },
     "execution_count": 57,
     "metadata": {},
     "output_type": "execute_result"
    },
    {
     "data": {
      "image/png": "[encoded data removed]",
      "text/plain": [
       "<Figure size 432x288 with 1 Axes>"
      ]
     },
     "metadata": {
      "needs_background": "light"
     },
     "output_type": "display_data"
    }
   ],
   "source": [
    "# Visualizing feature importance:\n",
    "pd.DataFrame(imp).sort_values(by = 'Importance', ascending=False).plot.bar(x = 'VarName')"
   ]
  },
  {
   "cell_type": "code",
   "execution_count": 58,
   "metadata": {},
   "outputs": [
    {
     "name": "stdout",
     "output_type": "stream",
     "text": [
      "Fitting 10 folds for each of 7 candidates, totalling 70 fits\n"
     ]
    },
    {
     "name": "stderr",
     "output_type": "stream",
     "text": [
      "[Parallel(n_jobs=1)]: Using backend SequentialBackend with 1 concurrent workers.\n",
      "[Parallel(n_jobs=1)]: Done  70 out of  70 | elapsed:    4.1s finished\n"
     ]
    }
   ],
   "source": [
    "#tree number to test\n",
    "parametres = [{\"n_estimators\":[1,5,10,20,50,100,200]}]\n",
    "\n",
    "#instantiation\n",
    "grid_rf = GridSearchCV(cv = 10, estimator=RandomForestClassifier(), param_grid=parametres, scoring=\"accuracy\", verbose = True)\n",
    "\n",
    "#lauching the exploration\n",
    "grille_rf = grid_rf.fit(X_app,y_app)"
   ]
  },
  {
   "cell_type": "code",
   "execution_count": 59,
   "metadata": {},
   "outputs": [
    {
     "data": {
      "text/plain": [
       "{'n_estimators': 200}"
      ]
     },
     "execution_count": 59,
     "metadata": {},
     "output_type": "execute_result"
    }
   ],
   "source": [
    "grille_rf.best_params_"
   ]
  },
  {
   "cell_type": "code",
   "execution_count": 60,
   "metadata": {},
   "outputs": [
    {
     "name": "stdout",
     "output_type": "stream",
     "text": [
      "0.042857142857142816\n"
     ]
    }
   ],
   "source": [
    "print(error_rate(grille_rf, y_test, X_test))"
   ]
  },
  {
   "cell_type": "code",
   "execution_count": 61,
   "metadata": {},
   "outputs": [
    {
     "data": {
      "image/png": "[encoded data removed]",
      "text/plain": [
       "<Figure size 432x288 with 1 Axes>"
      ]
     },
     "metadata": {
      "needs_background": "light"
     },
     "output_type": "display_data"
    }
   ],
   "source": [
    "y_pred = grille_rf.predict(X_test)\n",
    "fig, ax = plot_confusion_matrix(conf_mat=confusion_matrix(y_test, y_pred, binary = False))\n",
    "plt.show()"
   ]
  },
  {
   "cell_type": "markdown",
   "metadata": {},
   "source": [
    "Results obtained seem to improve heavily with Random Forest. If we want to use this algorithm we should do an exercise of feature selection to avoid feature correlation to impact heavily in ur model results"
   ]
  },
  {
   "cell_type": "code",
   "execution_count": 62,
   "metadata": {},
   "outputs": [
    {
     "data": {
      "text/plain": [
       "<matplotlib.axes._subplots.AxesSubplot at 0x27af64db490>"
      ]
     },
     "execution_count": 62,
     "metadata": {},
     "output_type": "execute_result"
    },
    {
     "data": {
      "image/png": "[encoded data removed]",
      "text/plain": [
       "<Figure size 864x864 with 2 Axes>"
      ]
     },
     "metadata": {
      "needs_background": "light"
     },
     "output_type": "display_data"
    }
   ],
   "source": [
    "import seaborn as sn\n",
    "plt.figure(figsize=(12, 12))\n",
    "sn.heatmap(image_train.iloc[:,1:20].corr())"
   ]
  },
  {
   "cell_type": "markdown",
   "metadata": {},
   "source": [
    "First we identify the features highlghly correlated with the features with highest importance for random forest: "
   ]
  },
  {
   "cell_type": "code",
   "execution_count": 63,
   "metadata": {},
   "outputs": [
    {
     "name": "stdout",
     "output_type": "stream",
     "text": [
      "HUE_MEAN Correlation vector:\n"
     ]
    },
    {
     "data": {
      "text/plain": [
       "<matplotlib.axes._subplots.AxesSubplot at 0x27af6a9fbb0>"
      ]
     },
     "execution_count": 63,
     "metadata": {},
     "output_type": "execute_result"
    },
    {
     "data": {
      "image/png": "[encoded data removed]",
      "text/plain": [
       "<Figure size 432x288 with 1 Axes>"
      ]
     },
     "metadata": {
      "needs_background": "light"
     },
     "output_type": "display_data"
    }
   ],
   "source": [
    "print(\"HUE_MEAN Correlation vector:\")\n",
    "image_train.iloc[:,1:20].corr().HUE_MEAN.sort_values().plot.bar(x = 'VarName')"
   ]
  },
  {
   "cell_type": "code",
   "execution_count": 64,
   "metadata": {},
   "outputs": [
    {
     "data": {
      "text/plain": [
       "['EXGREEN_MEAN', 'REGION_CENTROID_ROW', 'EXBLUE_MEAN']"
      ]
     },
     "execution_count": 64,
     "metadata": {},
     "output_type": "execute_result"
    }
   ],
   "source": [
    "feature_drop = ['EXGREEN_MEAN', 'REGION_CENTROID_ROW', 'EXBLUE_MEAN']\n",
    "feature_drop"
   ]
  },
  {
   "cell_type": "code",
   "execution_count": 65,
   "metadata": {},
   "outputs": [
    {
     "name": "stdout",
     "output_type": "stream",
     "text": [
      "VALUE_MEAN Correlation vector:\n"
     ]
    },
    {
     "data": {
      "text/plain": [
       "<matplotlib.axes._subplots.AxesSubplot at 0x27af73888e0>"
      ]
     },
     "execution_count": 65,
     "metadata": {},
     "output_type": "execute_result"
    },
    {
     "data": {
      "image/png": "[encoded data removed]",
      "text/plain": [
       "<Figure size 432x288 with 1 Axes>"
      ]
     },
     "metadata": {
      "needs_background": "light"
     },
     "output_type": "display_data"
    }
   ],
   "source": [
    "print(\"VALUE_MEAN Correlation vector:\")\n",
    "image_train.iloc[:,1:20].corr().VALUE_MEAN.sort_values().plot.bar(x = 'VarName')"
   ]
  },
  {
   "cell_type": "code",
   "execution_count": 66,
   "metadata": {},
   "outputs": [],
   "source": [
    "feature_drop.extend(['EXRED_MEAN', 'SATURATION_MEAN', 'RAWBLUE_MEAN', 'INTENSITY_MEAN', 'RAWRED_MEAN'])"
   ]
  },
  {
   "cell_type": "code",
   "execution_count": 67,
   "metadata": {},
   "outputs": [
    {
     "name": "stdout",
     "output_type": "stream",
     "text": [
      "Features to be dropped based on correlation study:\n",
      "['EXGREEN_MEAN', 'REGION_CENTROID_ROW', 'EXBLUE_MEAN', 'EXRED_MEAN', 'SATURATION_MEAN', 'RAWBLUE_MEAN', 'INTENSITY_MEAN', 'RAWRED_MEAN']\n"
     ]
    }
   ],
   "source": [
    "print(\"Features to be dropped based on correlation study:\")\n",
    "print(feature_drop)"
   ]
  },
  {
   "cell_type": "markdown",
   "metadata": {},
   "source": [
    "From this point we drop the features that are highly correlated with eachother to ensure our random forest model is robust enough:"
   ]
  },
  {
   "cell_type": "code",
   "execution_count": 68,
   "metadata": {},
   "outputs": [
    {
     "data": {
      "text/plain": [
       "Index(['REGION_TYPE', 'REGION_CENTROID_COL', 'REGION_PIXEL_COUNT',\n",
       "       'SHORT_LINE_DENSITY_5', 'SHORT_LINE_DENSITY_2', 'VEDGE_MEAN',\n",
       "       'VEDGE_SD', 'HEDGE_MEAN', 'HEDGE_SD', 'RAWGREEN_MEAN', 'VALUE_MEAN',\n",
       "       'HUE_MEAN'],\n",
       "      dtype='object')"
      ]
     },
     "execution_count": 68,
     "metadata": {},
     "output_type": "execute_result"
    }
   ],
   "source": [
    "# We generate a new training and testing dataset without the features selected:\n",
    "image_train_drop = image_train.drop(feature_drop, axis = 1)\n",
    "image_train_drop.columns"
   ]
  },
  {
   "cell_type": "code",
   "execution_count": 70,
   "metadata": {},
   "outputs": [],
   "source": [
    "#transformation into a NumPy matrix\n",
    "d_train_drop = image_train.drop(feature_drop, axis = 1).to_numpy()\n",
    "y_app_drop = d_train_drop[:,0]\n",
    "X_app_drop = d_train_drop[:,1:12]"
   ]
  },
  {
   "cell_type": "code",
   "execution_count": 71,
   "metadata": {},
   "outputs": [
    {
     "data": {
      "text/html": [
       "<div>\n",
       "<style scoped>\n",
       "    .dataframe tbody tr th:only-of-type {\n",
       "        vertical-align: middle;\n",
       "    }\n",
       "\n",
       "    .dataframe tbody tr th {\n",
       "        vertical-align: top;\n",
       "    }\n",
       "\n",
       "    .dataframe thead th {\n",
       "        text-align: right;\n",
       "    }\n",
       "</style>\n",
       "<table border=\"1\" class=\"dataframe\">\n",
       "  <thead>\n",
       "    <tr style=\"text-align: right;\">\n",
       "      <th></th>\n",
       "      <th>REGION_TYPE</th>\n",
       "      <th>REGION_CENTROID_COL</th>\n",
       "      <th>REGION_PIXEL_COUNT</th>\n",
       "      <th>SHORT_LINE_DENSITY_5</th>\n",
       "      <th>SHORT_LINE_DENSITY_2</th>\n",
       "      <th>VEDGE_MEAN</th>\n",
       "      <th>VEDGE_SD</th>\n",
       "      <th>HEDGE_MEAN</th>\n",
       "      <th>HEDGE_SD</th>\n",
       "      <th>RAWGREEN_MEAN</th>\n",
       "      <th>VALUE_MEAN</th>\n",
       "      <th>HUE_MEAN</th>\n",
       "      <th>sample</th>\n",
       "    </tr>\n",
       "  </thead>\n",
       "  <tbody>\n",
       "    <tr>\n",
       "      <th>210</th>\n",
       "      <td>GRASS</td>\n",
       "      <td>110</td>\n",
       "      <td>9</td>\n",
       "      <td>0.000000</td>\n",
       "      <td>0.0</td>\n",
       "      <td>1.0000</td>\n",
       "      <td>0.6667</td>\n",
       "      <td>1.2222</td>\n",
       "      <td>1.1863</td>\n",
       "      <td>18.6667</td>\n",
       "      <td>18.6667</td>\n",
       "      <td>1.9109</td>\n",
       "      <td>test</td>\n",
       "    </tr>\n",
       "    <tr>\n",
       "      <th>211</th>\n",
       "      <td>GRASS</td>\n",
       "      <td>86</td>\n",
       "      <td>9</td>\n",
       "      <td>0.000000</td>\n",
       "      <td>0.0</td>\n",
       "      <td>1.1111</td>\n",
       "      <td>0.7201</td>\n",
       "      <td>1.4444</td>\n",
       "      <td>0.7503</td>\n",
       "      <td>19.2222</td>\n",
       "      <td>19.2222</td>\n",
       "      <td>1.9415</td>\n",
       "      <td>test</td>\n",
       "    </tr>\n",
       "    <tr>\n",
       "      <th>212</th>\n",
       "      <td>GRASS</td>\n",
       "      <td>225</td>\n",
       "      <td>9</td>\n",
       "      <td>0.000000</td>\n",
       "      <td>0.0</td>\n",
       "      <td>3.3889</td>\n",
       "      <td>2.1951</td>\n",
       "      <td>3.0000</td>\n",
       "      <td>1.5202</td>\n",
       "      <td>17.1111</td>\n",
       "      <td>17.1111</td>\n",
       "      <td>1.9879</td>\n",
       "      <td>test</td>\n",
       "    </tr>\n",
       "    <tr>\n",
       "      <th>213</th>\n",
       "      <td>GRASS</td>\n",
       "      <td>47</td>\n",
       "      <td>9</td>\n",
       "      <td>0.000000</td>\n",
       "      <td>0.0</td>\n",
       "      <td>1.2778</td>\n",
       "      <td>1.2546</td>\n",
       "      <td>1.0000</td>\n",
       "      <td>0.8944</td>\n",
       "      <td>18.1111</td>\n",
       "      <td>18.1111</td>\n",
       "      <td>1.8754</td>\n",
       "      <td>test</td>\n",
       "    </tr>\n",
       "    <tr>\n",
       "      <th>214</th>\n",
       "      <td>GRASS</td>\n",
       "      <td>97</td>\n",
       "      <td>9</td>\n",
       "      <td>0.000000</td>\n",
       "      <td>0.0</td>\n",
       "      <td>1.1667</td>\n",
       "      <td>0.6912</td>\n",
       "      <td>1.1667</td>\n",
       "      <td>1.0055</td>\n",
       "      <td>21.1111</td>\n",
       "      <td>21.1111</td>\n",
       "      <td>1.8637</td>\n",
       "      <td>test</td>\n",
       "    </tr>\n",
       "    <tr>\n",
       "      <th>...</th>\n",
       "      <td>...</td>\n",
       "      <td>...</td>\n",
       "      <td>...</td>\n",
       "      <td>...</td>\n",
       "      <td>...</td>\n",
       "      <td>...</td>\n",
       "      <td>...</td>\n",
       "      <td>...</td>\n",
       "      <td>...</td>\n",
       "      <td>...</td>\n",
       "      <td>...</td>\n",
       "      <td>...</td>\n",
       "      <td>...</td>\n",
       "    </tr>\n",
       "    <tr>\n",
       "      <th>2305</th>\n",
       "      <td>CEMENT</td>\n",
       "      <td>32</td>\n",
       "      <td>9</td>\n",
       "      <td>0.000000</td>\n",
       "      <td>0.0</td>\n",
       "      <td>0.9444</td>\n",
       "      <td>0.8630</td>\n",
       "      <td>0.8333</td>\n",
       "      <td>0.6111</td>\n",
       "      <td>5.6667</td>\n",
       "      <td>11.8889</td>\n",
       "      <td>-1.9828</td>\n",
       "      <td>test</td>\n",
       "    </tr>\n",
       "    <tr>\n",
       "      <th>2306</th>\n",
       "      <td>CEMENT</td>\n",
       "      <td>8</td>\n",
       "      <td>9</td>\n",
       "      <td>0.111111</td>\n",
       "      <td>0.0</td>\n",
       "      <td>1.6111</td>\n",
       "      <td>2.0630</td>\n",
       "      <td>0.3333</td>\n",
       "      <td>0.1333</td>\n",
       "      <td>6.4444</td>\n",
       "      <td>12.0000</td>\n",
       "      <td>-2.0449</td>\n",
       "      <td>test</td>\n",
       "    </tr>\n",
       "    <tr>\n",
       "      <th>2307</th>\n",
       "      <td>CEMENT</td>\n",
       "      <td>128</td>\n",
       "      <td>9</td>\n",
       "      <td>0.000000</td>\n",
       "      <td>0.0</td>\n",
       "      <td>0.5556</td>\n",
       "      <td>0.2519</td>\n",
       "      <td>0.7778</td>\n",
       "      <td>0.1630</td>\n",
       "      <td>5.0000</td>\n",
       "      <td>10.8889</td>\n",
       "      <td>-1.9963</td>\n",
       "      <td>test</td>\n",
       "    </tr>\n",
       "    <tr>\n",
       "      <th>2308</th>\n",
       "      <td>CEMENT</td>\n",
       "      <td>150</td>\n",
       "      <td>9</td>\n",
       "      <td>0.000000</td>\n",
       "      <td>0.0</td>\n",
       "      <td>2.1667</td>\n",
       "      <td>1.6333</td>\n",
       "      <td>1.3889</td>\n",
       "      <td>0.4185</td>\n",
       "      <td>6.1111</td>\n",
       "      <td>12.2222</td>\n",
       "      <td>-1.9434</td>\n",
       "      <td>test</td>\n",
       "    </tr>\n",
       "    <tr>\n",
       "      <th>2309</th>\n",
       "      <td>CEMENT</td>\n",
       "      <td>124</td>\n",
       "      <td>9</td>\n",
       "      <td>0.111111</td>\n",
       "      <td>0.0</td>\n",
       "      <td>1.3889</td>\n",
       "      <td>1.1296</td>\n",
       "      <td>2.0000</td>\n",
       "      <td>0.8889</td>\n",
       "      <td>7.5556</td>\n",
       "      <td>14.5556</td>\n",
       "      <td>-2.0293</td>\n",
       "      <td>test</td>\n",
       "    </tr>\n",
       "  </tbody>\n",
       "</table>\n",
       "<p>2100 rows × 13 columns</p>\n",
       "</div>"
      ],
      "text/plain": [
       "     REGION_TYPE  REGION_CENTROID_COL  REGION_PIXEL_COUNT  \\\n",
       "210        GRASS                  110                   9   \n",
       "211        GRASS                   86                   9   \n",
       "212        GRASS                  225                   9   \n",
       "213        GRASS                   47                   9   \n",
       "214        GRASS                   97                   9   \n",
       "...          ...                  ...                 ...   \n",
       "2305      CEMENT                   32                   9   \n",
       "2306      CEMENT                    8                   9   \n",
       "2307      CEMENT                  128                   9   \n",
       "2308      CEMENT                  150                   9   \n",
       "2309      CEMENT                  124                   9   \n",
       "\n",
       "      SHORT_LINE_DENSITY_5  SHORT_LINE_DENSITY_2  VEDGE_MEAN  VEDGE_SD  \\\n",
       "210               0.000000                   0.0      1.0000    0.6667   \n",
       "211               0.000000                   0.0      1.1111    0.7201   \n",
       "212               0.000000                   0.0      3.3889    2.1951   \n",
       "213               0.000000                   0.0      1.2778    1.2546   \n",
       "214               0.000000                   0.0      1.1667    0.6912   \n",
       "...                    ...                   ...         ...       ...   \n",
       "2305              0.000000                   0.0      0.9444    0.8630   \n",
       "2306              0.111111                   0.0      1.6111    2.0630   \n",
       "2307              0.000000                   0.0      0.5556    0.2519   \n",
       "2308              0.000000                   0.0      2.1667    1.6333   \n",
       "2309              0.111111                   0.0      1.3889    1.1296   \n",
       "\n",
       "      HEDGE_MEAN  HEDGE_SD  RAWGREEN_MEAN  VALUE_MEAN  HUE_MEAN sample  \n",
       "210       1.2222    1.1863        18.6667     18.6667    1.9109   test  \n",
       "211       1.4444    0.7503        19.2222     19.2222    1.9415   test  \n",
       "212       3.0000    1.5202        17.1111     17.1111    1.9879   test  \n",
       "213       1.0000    0.8944        18.1111     18.1111    1.8754   test  \n",
       "214       1.1667    1.0055        21.1111     21.1111    1.8637   test  \n",
       "...          ...       ...            ...         ...       ...    ...  \n",
       "2305      0.8333    0.6111         5.6667     11.8889   -1.9828   test  \n",
       "2306      0.3333    0.1333         6.4444     12.0000   -2.0449   test  \n",
       "2307      0.7778    0.1630         5.0000     10.8889   -1.9963   test  \n",
       "2308      1.3889    0.4185         6.1111     12.2222   -1.9434   test  \n",
       "2309      2.0000    0.8889         7.5556     14.5556   -2.0293   test  \n",
       "\n",
       "[2100 rows x 13 columns]"
      ]
     },
     "execution_count": 71,
     "metadata": {},
     "output_type": "execute_result"
    }
   ],
   "source": [
    "image_test_drop = (raw_data[raw_data[\"sample\"]==\"test\"]).drop(feature_drop, axis = 1)\n",
    "image_test_drop"
   ]
  },
  {
   "cell_type": "code",
   "execution_count": 72,
   "metadata": {},
   "outputs": [],
   "source": [
    "y_test_drop = image_test_drop.to_numpy()[:,0]\n",
    "X_test_drop = image_test_drop.to_numpy()[:,1:12]"
   ]
  },
  {
   "cell_type": "code",
   "execution_count": 73,
   "metadata": {},
   "outputs": [
    {
     "name": "stdout",
     "output_type": "stream",
     "text": [
      "0.10857142857142854\n",
      "[0.05060268 0.         0.00383749 0.0066046  0.04822758 0.04741159\n",
      " 0.11093381 0.06694148 0.19622704 0.20854667 0.26066705]\n",
      "                 VarName  Importance\n",
      "0    REGION_CENTROID_COL    0.050603\n",
      "1     REGION_PIXEL_COUNT    0.000000\n",
      "2   SHORT_LINE_DENSITY_5    0.003837\n",
      "3   SHORT_LINE_DENSITY_2    0.006605\n",
      "4             VEDGE_MEAN    0.048228\n",
      "5               VEDGE_SD    0.047412\n",
      "6             HEDGE_MEAN    0.110934\n",
      "7               HEDGE_SD    0.066941\n",
      "8          RAWGREEN_MEAN    0.196227\n",
      "9             VALUE_MEAN    0.208547\n",
      "10              HUE_MEAN    0.260667\n"
     ]
    }
   ],
   "source": [
    "#instantiation\n",
    "rf_drop = RandomForestClassifier(n_estimators=20)\n",
    "\n",
    "#learning phase\n",
    "rf_drop.fit(X_app_drop,y_app_drop)\n",
    "\n",
    "#test error rate\n",
    "print(error_rate(rf_drop,y_test_drop,X_test_drop))\n",
    "\n",
    "#importance of variables\n",
    "print(rf_drop.feature_importances_)\n",
    "\n",
    "#with the name of the variables\n",
    "imp_drop = {\"VarName\":image_train_drop.columns[1:],\"Importance\":rf_drop.feature_importances_}\n",
    "print(pd.DataFrame(imp_drop))"
   ]
  },
  {
   "cell_type": "code",
   "execution_count": 74,
   "metadata": {},
   "outputs": [
    {
     "data": {
      "text/plain": [
       "<matplotlib.axes._subplots.AxesSubplot at 0x27af8646850>"
      ]
     },
     "execution_count": 74,
     "metadata": {},
     "output_type": "execute_result"
    },
    {
     "data": {
      "image/png": "[encoded data removed]",
      "text/plain": [
       "<Figure size 432x288 with 1 Axes>"
      ]
     },
     "metadata": {
      "needs_background": "light"
     },
     "output_type": "display_data"
    }
   ],
   "source": [
    "# Visualizing feature importance:\n",
    "pd.DataFrame(imp_drop).sort_values(by = 'Importance', ascending=False).plot.bar(x = 'VarName')"
   ]
  },
  {
   "cell_type": "code",
   "execution_count": 75,
   "metadata": {},
   "outputs": [
    {
     "name": "stdout",
     "output_type": "stream",
     "text": [
      "Fitting 10 folds for each of 7 candidates, totalling 70 fits\n"
     ]
    },
    {
     "name": "stderr",
     "output_type": "stream",
     "text": [
      "[Parallel(n_jobs=1)]: Using backend SequentialBackend with 1 concurrent workers.\n",
      "[Parallel(n_jobs=1)]: Done  70 out of  70 | elapsed:    4.0s finished\n"
     ]
    }
   ],
   "source": [
    "#tree number to test\n",
    "parametres = [{\"n_estimators\":[1,5,10,20,50,100,200]}]\n",
    "\n",
    "#instantiation\n",
    "grid_rf_drop = GridSearchCV(cv = 10, estimator=RandomForestClassifier(), param_grid=parametres, scoring=\"accuracy\", verbose = True)\n",
    "\n",
    "#lauching the exploration\n",
    "grille_rf_drop = grid_rf_drop.fit(X_app_drop,y_app_drop)"
   ]
  },
  {
   "cell_type": "code",
   "execution_count": 76,
   "metadata": {},
   "outputs": [
    {
     "name": "stdout",
     "output_type": "stream",
     "text": [
      "0.10428571428571431\n"
     ]
    }
   ],
   "source": [
    "grille_rf_drop.best_params_\n",
    "print(error_rate(grille_rf_drop, y_test_drop, X_test_drop))"
   ]
  },
  {
   "cell_type": "code",
   "execution_count": 77,
   "metadata": {},
   "outputs": [
    {
     "data": {
      "image/png": "[encoded data removed]",
      "text/plain": [
       "<Figure size 432x288 with 1 Axes>"
      ]
     },
     "metadata": {
      "needs_background": "light"
     },
     "output_type": "display_data"
    }
   ],
   "source": [
    "y_pred_drop = grille_rf_drop.predict(X_test_drop)\n",
    "fig, ax = plot_confusion_matrix(conf_mat=confusion_matrix(y_test_drop, y_pred_drop, binary = False))\n",
    "plt.show()"
   ]
  },
  {
   "cell_type": "markdown",
   "metadata": {},
   "source": [
    "## 3.4 Adaboost"
   ]
  },
  {
   "cell_type": "code",
   "execution_count": 78,
   "metadata": {},
   "outputs": [
    {
     "name": "stdout",
     "output_type": "stream",
     "text": [
      "AdaBoostClassifier(algorithm='SAMME', base_estimator=DecisionTreeClassifier(),\n",
      "                   n_estimators=200)\n"
     ]
    },
    {
     "data": {
      "text/plain": [
       "AdaBoostClassifier(algorithm='SAMME', base_estimator=DecisionTreeClassifier(),\n",
       "                   n_estimators=200)"
      ]
     },
     "execution_count": 78,
     "metadata": {},
     "output_type": "execute_result"
    }
   ],
   "source": [
    "#instantiation\n",
    "ab = AdaBoostClassifier(algorithm=\"SAMME\"\n",
    "                        , n_estimators=200\n",
    "                        , base_estimator = DecisionTreeClassifier())\n",
    "print(ab)\n",
    "\n",
    "#fitting on the training set\n",
    "ab.fit(X_app,y_app)"
   ]
  },
  {
   "cell_type": "code",
   "execution_count": 79,
   "metadata": {},
   "outputs": [
    {
     "name": "stdout",
     "output_type": "stream",
     "text": [
      "                 VarName    Importance\n",
      "0    REGION_CENTROID_COL  1.031746e-02\n",
      "1    REGION_CENTROID_ROW  1.954881e-01\n",
      "2     REGION_PIXEL_COUNT  0.000000e+00\n",
      "3   SHORT_LINE_DENSITY_5  9.876543e-03\n",
      "4   SHORT_LINE_DENSITY_2  0.000000e+00\n",
      "5             VEDGE_MEAN  1.040621e-02\n",
      "6               VEDGE_SD  0.000000e+00\n",
      "7             HEDGE_MEAN  0.000000e+00\n",
      "8               HEDGE_SD  5.555556e-03\n",
      "9         INTENSITY_MEAN  1.666667e-01\n",
      "10           RAWRED_MEAN  6.414622e-17\n",
      "11          RAWBLUE_MEAN  0.000000e+00\n",
      "12         RAWGREEN_MEAN  2.324393e-02\n",
      "13            EXRED_MEAN  7.407407e-03\n",
      "14           EXBLUE_MEAN  0.000000e+00\n",
      "15          EXGREEN_MEAN  2.825883e-01\n",
      "16            VALUE_MEAN  0.000000e+00\n",
      "17       SATURATION_MEAN  7.939678e-02\n",
      "18              HUE_MEAN  2.090531e-01\n"
     ]
    }
   ],
   "source": [
    "#with the name of the variables\n",
    "imp = {\"VarName\":image_train.columns[1:],\"Importance\":ab.feature_importances_}\n",
    "print(pd.DataFrame(imp))"
   ]
  },
  {
   "cell_type": "code",
   "execution_count": 80,
   "metadata": {},
   "outputs": [
    {
     "data": {
      "text/plain": [
       "<matplotlib.axes._subplots.AxesSubplot at 0x27af8b8f820>"
      ]
     },
     "execution_count": 80,
     "metadata": {},
     "output_type": "execute_result"
    },
    {
     "data": {
      "image/png": "[encoded data removed]",
      "text/plain": [
       "<Figure size 432x288 with 1 Axes>"
      ]
     },
     "metadata": {
      "needs_background": "light"
     },
     "output_type": "display_data"
    }
   ],
   "source": [
    "# Visualizing feature importance:\n",
    "pd.DataFrame(imp).sort_values(by = 'Importance', ascending=False).plot.bar(x = 'VarName')"
   ]
  },
  {
   "cell_type": "code",
   "execution_count": 81,
   "metadata": {},
   "outputs": [
    {
     "name": "stdout",
     "output_type": "stream",
     "text": [
      "0.08952380952380956\n"
     ]
    }
   ],
   "source": [
    "#evaluation\n",
    "print(error_rate(ab,y_test,X_test))"
   ]
  },
  {
   "cell_type": "code",
   "execution_count": 82,
   "metadata": {},
   "outputs": [
    {
     "name": "stdout",
     "output_type": "stream",
     "text": [
      "Fitting 10 folds for each of 30 candidates, totalling 300 fits\n"
     ]
    },
    {
     "name": "stderr",
     "output_type": "stream",
     "text": [
      "[Parallel(n_jobs=1)]: Using backend SequentialBackend with 1 concurrent workers.\n",
      "[Parallel(n_jobs=1)]: Done 300 out of 300 | elapsed:   31.4s finished\n"
     ]
    },
    {
     "data": {
      "text/plain": [
       "GridSearchCV(cv=10, estimator=AdaBoostClassifier(),\n",
       "             param_grid=[{'learning_rate': [0.001, 0.025, 0.05, 0.1, 0.2, 0.5],\n",
       "                          'n_estimators': [10, 20, 50, 100, 200]}],\n",
       "             scoring='accuracy', verbose=True)"
      ]
     },
     "execution_count": 82,
     "metadata": {},
     "output_type": "execute_result"
    }
   ],
   "source": [
    "param_ab = [{\"n_estimators\":[10,20,50,100,200]\n",
    "                 , \"learning_rate\": [0.001, 0.025, 0.05, 0.1, 0.2, 0.5]}]\n",
    "\n",
    "grid_ab = GridSearchCV(cv = 10, estimator=AdaBoostClassifier(), param_grid=param_ab, scoring=\"accuracy\", verbose = True)\n",
    "\n",
    "#lauching the exploration\n",
    "grille_ab = grid_ab.fit(X_app,y_app)\n",
    "grille_ab"
   ]
  },
  {
   "cell_type": "code",
   "execution_count": 83,
   "metadata": {},
   "outputs": [
    {
     "data": {
      "text/plain": [
       "{'learning_rate': 0.05, 'n_estimators': 50}"
      ]
     },
     "execution_count": 83,
     "metadata": {},
     "output_type": "execute_result"
    }
   ],
   "source": [
    "grille_ab.best_params_"
   ]
  },
  {
   "cell_type": "code",
   "execution_count": 84,
   "metadata": {},
   "outputs": [
    {
     "name": "stdout",
     "output_type": "stream",
     "text": [
      "0.1395238095238095\n"
     ]
    }
   ],
   "source": [
    "print(error_rate(grille_ab, y_test, X_test))"
   ]
  },
  {
   "cell_type": "code",
   "execution_count": 85,
   "metadata": {},
   "outputs": [
    {
     "data": {
      "image/png": "[encoded data removed]",
      "text/plain": [
       "<Figure size 432x288 with 1 Axes>"
      ]
     },
     "metadata": {
      "needs_background": "light"
     },
     "output_type": "display_data"
    }
   ],
   "source": [
    "y_pred = grille_ab.predict(X_test)\n",
    "fig, ax = plot_confusion_matrix(conf_mat=confusion_matrix(y_test, y_pred, binary = False))\n",
    "plt.show()"
   ]
  },
  {
   "cell_type": "markdown",
   "metadata": {},
   "source": [
    "## 3.5 Final Results"
   ]
  },
  {
   "cell_type": "code",
   "execution_count": 86,
   "metadata": {},
   "outputs": [],
   "source": [
    "final_results = {'Model': ['Decision Tree'\n",
    "                           , 'Bagging Classifier'\n",
    "                           , 'Random Forest'\n",
    "                           , 'Random Forest with Feature Drop'\n",
    "                           , 'Adaboost']\n",
    "                 , 'Error Rate': [error_rate(dtree,y_test,X_test)\n",
    "                                  , error_rate(baggingTree,y_test,X_test)\n",
    "                                  , error_rate(grille_rf,y_test,X_test)\n",
    "                                  , error_rate(grille_rf_drop,y_test_drop,X_test_drop)\n",
    "                                  , error_rate(grille_ab,y_test,X_test)]}"
   ]
  },
  {
   "cell_type": "code",
   "execution_count": 87,
   "metadata": {},
   "outputs": [
    {
     "data": {
      "text/plain": [
       "<matplotlib.axes._subplots.AxesSubplot at 0x27af6a9d3d0>"
      ]
     },
     "execution_count": 87,
     "metadata": {},
     "output_type": "execute_result"
    },
    {
     "data": {
      "image/png": "[encoded data removed]",
      "text/plain": [
       "<Figure size 432x288 with 1 Axes>"
      ]
     },
     "metadata": {
      "needs_background": "light"
     },
     "output_type": "display_data"
    }
   ],
   "source": [
    "pd.DataFrame(final_results).sort_values(by = 'Error Rate', ascending=False).plot.bar(x = 'Model')"
   ]
  },
  {
   "cell_type": "code",
   "execution_count": null,
   "metadata": {},
   "outputs": [],
   "source": []
  }
 ],
 "metadata": {
  "kernelspec": {
   "display_name": "Python 3",
   "language": "python",
   "name": "python3"
  },
  "language_info": {
   "codemirror_mode": {
    "name": "ipython",
    "version": 3
   },
   "file_extension": ".py",
   "mimetype": "text/x-python",
   "name": "python",
   "nbconvert_exporter": "python",
   "pygments_lexer": "ipython3",
   "version": "3.8.3"
  }
 },
 "nbformat": 4,
 "nbformat_minor": 2
}
