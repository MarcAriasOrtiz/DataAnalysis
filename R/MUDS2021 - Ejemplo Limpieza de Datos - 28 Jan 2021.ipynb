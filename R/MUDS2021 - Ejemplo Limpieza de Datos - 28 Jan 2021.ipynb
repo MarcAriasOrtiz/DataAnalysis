{
 "cells": [
  {
   "cell_type": "markdown",
   "metadata": {},
   "source": [
    "<b>1. Cargar datos:</b> el primer paso es preparar el entorno y cargar el conjunto de datos"
   ]
  },
  {
   "cell_type": "code",
   "execution_count": 1,
   "metadata": {
    "scrolled": true
   },
   "outputs": [
    {
     "name": "stderr",
     "output_type": "stream",
     "text": [
      "Warning message:\n",
      "\"package 'vegan' was built under R version 3.6.3\"\n",
      "Loading required package: permute\n",
      "\n",
      "Warning message:\n",
      "\"package 'permute' was built under R version 3.6.3\"\n",
      "Loading required package: lattice\n",
      "\n",
      "This is vegan 2.5-7\n",
      "\n",
      "\n",
      "Attaching package: 'dplyr'\n",
      "\n",
      "\n",
      "The following objects are masked from 'package:stats':\n",
      "\n",
      "    filter, lag\n",
      "\n",
      "\n",
      "The following objects are masked from 'package:base':\n",
      "\n",
      "    intersect, setdiff, setequal, union\n",
      "\n",
      "\n"
     ]
    }
   ],
   "source": [
    "options(repr.plot.width=10, repr.plot.height=6)\n",
    "library(\"vegan\")\n",
    "library(\"tidyr\")\n",
    "library(\"dplyr\")"
   ]
  },
  {
   "cell_type": "markdown",
   "metadata": {},
   "source": [
    "<b>2. Analizar el conjunto de datos:</b> hay un par de cosas que podemos hacer para familiarizarse con los datos una vez cargados. Podemos ver todo el conjunto de datos en la cuadrícula de vista como se muestra en la imagen a continuación o puede usar la función \"head\" para ver solo las 6 observaciones principales."
   ]
  },
  {
   "cell_type": "code",
   "execution_count": 2,
   "metadata": {},
   "outputs": [
    {
     "data": {
      "text/html": [
       "<table>\n",
       "<caption>A data.frame: 6 × 11</caption>\n",
       "<thead>\n",
       "\t<tr><th></th><th scope=col>PassengerId</th><th scope=col>Survived</th><th scope=col>Pclass</th><th scope=col>Name</th><th scope=col>Age</th><th scope=col>SibSp</th><th scope=col>Parch</th><th scope=col>Ticket</th><th scope=col>Fare</th><th scope=col>Cabin</th><th scope=col>Embarked</th></tr>\n",
       "\t<tr><th></th><th scope=col>&lt;int&gt;</th><th scope=col>&lt;int&gt;</th><th scope=col>&lt;int&gt;</th><th scope=col>&lt;chr&gt;</th><th scope=col>&lt;chr&gt;</th><th scope=col>&lt;int&gt;</th><th scope=col>&lt;int&gt;</th><th scope=col>&lt;chr&gt;</th><th scope=col>&lt;dbl&gt;</th><th scope=col>&lt;chr&gt;</th><th scope=col>&lt;chr&gt;</th></tr>\n",
       "</thead>\n",
       "<tbody>\n",
       "\t<tr><th scope=row>1</th><td>1</td><td>0</td><td>3</td><td>Braund, Mr. Owen Harris                            </td><td>22</td><td>1</td><td>0</td><td>A/5 21171       </td><td> 7.2500</td><td>    </td><td>S</td></tr>\n",
       "\t<tr><th scope=row>2</th><td>2</td><td>1</td><td>1</td><td>Cumings, Mrs. John Bradley (Florence Briggs Thayer)</td><td>38</td><td>1</td><td>0</td><td>PC 17599        </td><td>71.2833</td><td>C85 </td><td>C</td></tr>\n",
       "\t<tr><th scope=row>3</th><td>3</td><td>1</td><td>3</td><td>Heikkinen, Miss. Laina                             </td><td>26</td><td>0</td><td>0</td><td>STON/O2. 3101282</td><td> 7.9250</td><td>    </td><td>S</td></tr>\n",
       "\t<tr><th scope=row>4</th><td>4</td><td>1</td><td>1</td><td>Futrelle, Mrs. Jacques Heath (Lily May Peel)       </td><td>35</td><td>1</td><td>0</td><td>113803          </td><td>53.1000</td><td>C123</td><td>S</td></tr>\n",
       "\t<tr><th scope=row>5</th><td>5</td><td>0</td><td>3</td><td>Allen, Mr. William Henry                           </td><td>35</td><td>0</td><td>0</td><td>373450          </td><td> 8.0500</td><td>    </td><td>S</td></tr>\n",
       "\t<tr><th scope=row>6</th><td>6</td><td>0</td><td>3</td><td>Moran, Mr. James                                   </td><td>  </td><td>0</td><td>0</td><td>330877          </td><td> 8.4583</td><td>    </td><td>Q</td></tr>\n",
       "</tbody>\n",
       "</table>\n"
      ],
      "text/latex": [
       "A data.frame: 6 × 11\n",
       "\\begin{tabular}{r|lllllllllll}\n",
       "  & PassengerId & Survived & Pclass & Name & Age & SibSp & Parch & Ticket & Fare & Cabin & Embarked\\\\\n",
       "  & <int> & <int> & <int> & <chr> & <chr> & <int> & <int> & <chr> & <dbl> & <chr> & <chr>\\\\\n",
       "\\hline\n",
       "\t1 & 1 & 0 & 3 & Braund, Mr. Owen Harris                             & 22 & 1 & 0 & A/5 21171        &  7.2500 &      & S\\\\\n",
       "\t2 & 2 & 1 & 1 & Cumings, Mrs. John Bradley (Florence Briggs Thayer) & 38 & 1 & 0 & PC 17599         & 71.2833 & C85  & C\\\\\n",
       "\t3 & 3 & 1 & 3 & Heikkinen, Miss. Laina                              & 26 & 0 & 0 & STON/O2. 3101282 &  7.9250 &      & S\\\\\n",
       "\t4 & 4 & 1 & 1 & Futrelle, Mrs. Jacques Heath (Lily May Peel)        & 35 & 1 & 0 & 113803           & 53.1000 & C123 & S\\\\\n",
       "\t5 & 5 & 0 & 3 & Allen, Mr. William Henry                            & 35 & 0 & 0 & 373450           &  8.0500 &      & S\\\\\n",
       "\t6 & 6 & 0 & 3 & Moran, Mr. James                                    &    & 0 & 0 & 330877           &  8.4583 &      & Q\\\\\n",
       "\\end{tabular}\n"
      ],
      "text/markdown": [
       "\n",
       "A data.frame: 6 × 11\n",
       "\n",
       "| <!--/--> | PassengerId &lt;int&gt; | Survived &lt;int&gt; | Pclass &lt;int&gt; | Name &lt;chr&gt; | Age &lt;chr&gt; | SibSp &lt;int&gt; | Parch &lt;int&gt; | Ticket &lt;chr&gt; | Fare &lt;dbl&gt; | Cabin &lt;chr&gt; | Embarked &lt;chr&gt; |\n",
       "|---|---|---|---|---|---|---|---|---|---|---|---|\n",
       "| 1 | 1 | 0 | 3 | Braund, Mr. Owen Harris                             | 22 | 1 | 0 | A/5 21171        |  7.2500 | <!----> | S |\n",
       "| 2 | 2 | 1 | 1 | Cumings, Mrs. John Bradley (Florence Briggs Thayer) | 38 | 1 | 0 | PC 17599         | 71.2833 | C85  | C |\n",
       "| 3 | 3 | 1 | 3 | Heikkinen, Miss. Laina                              | 26 | 0 | 0 | STON/O2. 3101282 |  7.9250 | <!----> | S |\n",
       "| 4 | 4 | 1 | 1 | Futrelle, Mrs. Jacques Heath (Lily May Peel)        | 35 | 1 | 0 | 113803           | 53.1000 | C123 | S |\n",
       "| 5 | 5 | 0 | 3 | Allen, Mr. William Henry                            | 35 | 0 | 0 | 373450           |  8.0500 | <!----> | S |\n",
       "| 6 | 6 | 0 | 3 | Moran, Mr. James                                    | <!----> | 0 | 0 | 330877           |  8.4583 | <!----> | Q |\n",
       "\n"
      ],
      "text/plain": [
       "  PassengerId Survived Pclass\n",
       "1 1           0        3     \n",
       "2 2           1        1     \n",
       "3 3           1        3     \n",
       "4 4           1        1     \n",
       "5 5           0        3     \n",
       "6 6           0        3     \n",
       "  Name                                                Age SibSp Parch\n",
       "1 Braund, Mr. Owen Harris                             22  1     0    \n",
       "2 Cumings, Mrs. John Bradley (Florence Briggs Thayer) 38  1     0    \n",
       "3 Heikkinen, Miss. Laina                              26  0     0    \n",
       "4 Futrelle, Mrs. Jacques Heath (Lily May Peel)        35  1     0    \n",
       "5 Allen, Mr. William Henry                            35  0     0    \n",
       "6 Moran, Mr. James                                        0     0    \n",
       "  Ticket           Fare    Cabin Embarked\n",
       "1 A/5 21171         7.2500       S       \n",
       "2 PC 17599         71.2833 C85   C       \n",
       "3 STON/O2. 3101282  7.9250       S       \n",
       "4 113803           53.1000 C123  S       \n",
       "5 373450            8.0500       S       \n",
       "6 330877            8.4583       Q       "
      ]
     },
     "metadata": {},
     "output_type": "display_data"
    }
   ],
   "source": [
    "myTitanicDataSet<- read.csv('titanic_data.csv', stringsAsFactors = F, sep = ';')\n",
    "head(myTitanicDataSet)"
   ]
  },
  {
   "cell_type": "code",
   "execution_count": 3,
   "metadata": {},
   "outputs": [
    {
     "data": {
      "text/plain": [
       "  PassengerId       Survived          Pclass          Name          \n",
       " Min.   :  1.0   Min.   :0.0000   Min.   :0.000   Length:891        \n",
       " 1st Qu.:223.5   1st Qu.:0.0000   1st Qu.:2.000   Class :character  \n",
       " Median :446.0   Median :0.0000   Median :3.000   Mode  :character  \n",
       " Mean   :446.0   Mean   :0.3838   Mean   :2.302                     \n",
       " 3rd Qu.:668.5   3rd Qu.:1.0000   3rd Qu.:3.000                     \n",
       " Max.   :891.0   Max.   :1.0000   Max.   :3.000                     \n",
       "                                  NA's   :16                        \n",
       "     Age                SibSp           Parch           Ticket         \n",
       " Length:891         Min.   :0.000   Min.   :0.0000   Length:891        \n",
       " Class :character   1st Qu.:0.000   1st Qu.:0.0000   Class :character  \n",
       " Mode  :character   Median :0.000   Median :0.0000   Mode  :character  \n",
       "                    Mean   :0.523   Mean   :0.3816                     \n",
       "                    3rd Qu.:1.000   3rd Qu.:0.0000                     \n",
       "                    Max.   :8.000   Max.   :6.0000                     \n",
       "                                                                       \n",
       "      Fare             Cabin             Embarked        \n",
       " Min.   : -45.000   Length:891         Length:891        \n",
       " 1st Qu.:   7.896   Class :character   Class :character  \n",
       " Median :  14.454   Mode  :character   Mode  :character  \n",
       " Mean   :  33.528                                        \n",
       " 3rd Qu.:  31.137                                        \n",
       " Max.   :1300.000                                        \n",
       "                                                         "
      ]
     },
     "metadata": {},
     "output_type": "display_data"
    }
   ],
   "source": [
    "summary(myTitanicDataSet)"
   ]
  },
  {
   "cell_type": "markdown",
   "metadata": {},
   "source": [
    "<b>3. Extraer información de las columnas existentes:</b> Mediante la libreria dplyr y la función separate podemos extraer información sobre el sexo"
   ]
  },
  {
   "cell_type": "code",
   "execution_count": 38,
   "metadata": {},
   "outputs": [
    {
     "data": {
      "text/html": [
       "<table>\n",
       "<caption>A data.frame: 6 × 18</caption>\n",
       "<thead>\n",
       "\t<tr><th></th><th scope=col>PassengerId</th><th scope=col>Survived</th><th scope=col>Pclass</th><th scope=col>Name</th><th scope=col>Title</th><th scope=col>Age</th><th scope=col>SibSp</th><th scope=col>Parch</th><th scope=col>Ticket</th><th scope=col>Fare</th><th scope=col>Cabin</th><th scope=col>Embarked</th><th scope=col>Sex</th><th scope=col>AgeNumeric</th><th scope=col>pred_Pclass</th><th scope=col>AgeNormalised</th><th scope=col>AgeStandardised</th><th scope=col>AgeBracket</th></tr>\n",
       "\t<tr><th></th><th scope=col>&lt;int&gt;</th><th scope=col>&lt;int&gt;</th><th scope=col>&lt;dbl&gt;</th><th scope=col>&lt;chr&gt;</th><th scope=col>&lt;chr&gt;</th><th scope=col>&lt;chr&gt;</th><th scope=col>&lt;int&gt;</th><th scope=col>&lt;int&gt;</th><th scope=col>&lt;chr&gt;</th><th scope=col>&lt;dbl&gt;</th><th scope=col>&lt;chr&gt;</th><th scope=col>&lt;chr&gt;</th><th scope=col>&lt;chr&gt;</th><th scope=col>&lt;dbl&gt;</th><th scope=col>&lt;dbl&gt;</th><th scope=col>&lt;dbl[,1]&gt;</th><th scope=col>&lt;dbl[,1]&gt;</th><th scope=col>&lt;fct&gt;</th></tr>\n",
       "</thead>\n",
       "<tbody>\n",
       "\t<tr><th scope=row>1</th><td>1</td><td>0</td><td>3</td><td>Braund   </td><td> Mr. Owen Harris                           </td><td>22</td><td>1</td><td>0</td><td>A/5 21171       </td><td> 7.2500</td><td>    </td><td>S</td><td>Man  </td><td>22</td><td>NA</td><td>0.02490640</td><td>-0.5300051</td><td>Infant</td></tr>\n",
       "\t<tr><th scope=row>2</th><td>2</td><td>1</td><td>1</td><td>Cumings  </td><td> Mrs. John Bradley (Florence Briggs Thayer)</td><td>38</td><td>1</td><td>0</td><td>PC 17599        </td><td>71.2833</td><td>C85 </td><td>C</td><td>Woman</td><td>38</td><td>NA</td><td>0.04302014</td><td> 0.5714304</td><td>Infant</td></tr>\n",
       "\t<tr><th scope=row>3</th><td>3</td><td>1</td><td>3</td><td>Heikkinen</td><td> Miss. Laina                               </td><td>26</td><td>0</td><td>0</td><td>STON/O2. 3101282</td><td> 7.9250</td><td>    </td><td>S</td><td>Woman</td><td>26</td><td>NA</td><td>0.02943484</td><td>-0.2546462</td><td>Infant</td></tr>\n",
       "\t<tr><th scope=row>4</th><td>4</td><td>1</td><td>1</td><td>Futrelle </td><td> Mrs. Jacques Heath (Lily May Peel)        </td><td>35</td><td>1</td><td>0</td><td>113803          </td><td>53.1000</td><td>C123</td><td>S</td><td>Woman</td><td>35</td><td>NA</td><td>0.03962382</td><td> 0.3649113</td><td>Infant</td></tr>\n",
       "\t<tr><th scope=row>5</th><td>5</td><td>0</td><td>3</td><td>Allen    </td><td> Mr. William Henry                         </td><td>35</td><td>0</td><td>0</td><td>373450          </td><td> 8.0500</td><td>    </td><td>S</td><td>Man  </td><td>35</td><td>NA</td><td>0.03962382</td><td> 0.3649113</td><td>Infant</td></tr>\n",
       "\t<tr><th scope=row>6</th><td>6</td><td>0</td><td>3</td><td>Moran    </td><td> Mr. James                                 </td><td>  </td><td>0</td><td>0</td><td>330877          </td><td> 8.4583</td><td>    </td><td>Q</td><td>Man  </td><td>NA</td><td>NA</td><td>        NA</td><td>        NA</td><td>NA    </td></tr>\n",
       "</tbody>\n",
       "</table>\n"
      ],
      "text/latex": [
       "A data.frame: 6 × 18\n",
       "\\begin{tabular}{r|llllllllllllllllll}\n",
       "  & PassengerId & Survived & Pclass & Name & Title & Age & SibSp & Parch & Ticket & Fare & Cabin & Embarked & Sex & AgeNumeric & pred\\_Pclass & AgeNormalised & AgeStandardised & AgeBracket\\\\\n",
       "  & <int> & <int> & <dbl> & <chr> & <chr> & <chr> & <int> & <int> & <chr> & <dbl> & <chr> & <chr> & <chr> & <dbl> & <dbl> & <dbl{[},1{]}> & <dbl{[},1{]}> & <fct>\\\\\n",
       "\\hline\n",
       "\t1 & 1 & 0 & 3 & Braund    &  Mr. Owen Harris                            & 22 & 1 & 0 & A/5 21171        &  7.2500 &      & S & Man   & 22 & NA & 0.02490640 & -0.5300051 & Infant\\\\\n",
       "\t2 & 2 & 1 & 1 & Cumings   &  Mrs. John Bradley (Florence Briggs Thayer) & 38 & 1 & 0 & PC 17599         & 71.2833 & C85  & C & Woman & 38 & NA & 0.04302014 &  0.5714304 & Infant\\\\\n",
       "\t3 & 3 & 1 & 3 & Heikkinen &  Miss. Laina                                & 26 & 0 & 0 & STON/O2. 3101282 &  7.9250 &      & S & Woman & 26 & NA & 0.02943484 & -0.2546462 & Infant\\\\\n",
       "\t4 & 4 & 1 & 1 & Futrelle  &  Mrs. Jacques Heath (Lily May Peel)         & 35 & 1 & 0 & 113803           & 53.1000 & C123 & S & Woman & 35 & NA & 0.03962382 &  0.3649113 & Infant\\\\\n",
       "\t5 & 5 & 0 & 3 & Allen     &  Mr. William Henry                          & 35 & 0 & 0 & 373450           &  8.0500 &      & S & Man   & 35 & NA & 0.03962382 &  0.3649113 & Infant\\\\\n",
       "\t6 & 6 & 0 & 3 & Moran     &  Mr. James                                  &    & 0 & 0 & 330877           &  8.4583 &      & Q & Man   & NA & NA &         NA &         NA & NA    \\\\\n",
       "\\end{tabular}\n"
      ],
      "text/markdown": [
       "\n",
       "A data.frame: 6 × 18\n",
       "\n",
       "| <!--/--> | PassengerId &lt;int&gt; | Survived &lt;int&gt; | Pclass &lt;dbl&gt; | Name &lt;chr&gt; | Title &lt;chr&gt; | Age &lt;chr&gt; | SibSp &lt;int&gt; | Parch &lt;int&gt; | Ticket &lt;chr&gt; | Fare &lt;dbl&gt; | Cabin &lt;chr&gt; | Embarked &lt;chr&gt; | Sex &lt;chr&gt; | AgeNumeric &lt;dbl&gt; | pred_Pclass &lt;dbl&gt; | AgeNormalised &lt;dbl[,1]&gt; | AgeStandardised &lt;dbl[,1]&gt; | AgeBracket &lt;fct&gt; |\n",
       "|---|---|---|---|---|---|---|---|---|---|---|---|---|---|---|---|---|---|---|\n",
       "| 1 | 1 | 0 | 3 | Braund    |  Mr. Owen Harris                            | 22 | 1 | 0 | A/5 21171        |  7.2500 | <!----> | S | Man   | 22 | NA | 0.02490640 | -0.5300051 | Infant |\n",
       "| 2 | 2 | 1 | 1 | Cumings   |  Mrs. John Bradley (Florence Briggs Thayer) | 38 | 1 | 0 | PC 17599         | 71.2833 | C85  | C | Woman | 38 | NA | 0.04302014 |  0.5714304 | Infant |\n",
       "| 3 | 3 | 1 | 3 | Heikkinen |  Miss. Laina                                | 26 | 0 | 0 | STON/O2. 3101282 |  7.9250 | <!----> | S | Woman | 26 | NA | 0.02943484 | -0.2546462 | Infant |\n",
       "| 4 | 4 | 1 | 1 | Futrelle  |  Mrs. Jacques Heath (Lily May Peel)         | 35 | 1 | 0 | 113803           | 53.1000 | C123 | S | Woman | 35 | NA | 0.03962382 |  0.3649113 | Infant |\n",
       "| 5 | 5 | 0 | 3 | Allen     |  Mr. William Henry                          | 35 | 0 | 0 | 373450           |  8.0500 | <!----> | S | Man   | 35 | NA | 0.03962382 |  0.3649113 | Infant |\n",
       "| 6 | 6 | 0 | 3 | Moran     |  Mr. James                                  | <!----> | 0 | 0 | 330877           |  8.4583 | <!----> | Q | Man   | NA | NA |         NA |         NA | NA     |\n",
       "\n"
      ],
      "text/plain": [
       "  PassengerId Survived Pclass Name     \n",
       "1 1           0        3      Braund   \n",
       "2 2           1        1      Cumings  \n",
       "3 3           1        3      Heikkinen\n",
       "4 4           1        1      Futrelle \n",
       "5 5           0        3      Allen    \n",
       "6 6           0        3      Moran    \n",
       "  Title                                       Age SibSp Parch Ticket          \n",
       "1  Mr. Owen Harris                            22  1     0     A/5 21171       \n",
       "2  Mrs. John Bradley (Florence Briggs Thayer) 38  1     0     PC 17599        \n",
       "3  Miss. Laina                                26  0     0     STON/O2. 3101282\n",
       "4  Mrs. Jacques Heath (Lily May Peel)         35  1     0     113803          \n",
       "5  Mr. William Henry                          35  0     0     373450          \n",
       "6  Mr. James                                      0     0     330877          \n",
       "  Fare    Cabin Embarked Sex   AgeNumeric pred_Pclass AgeNormalised\n",
       "1  7.2500       S        Man   22         NA          0.02490640   \n",
       "2 71.2833 C85   C        Woman 38         NA          0.04302014   \n",
       "3  7.9250       S        Woman 26         NA          0.02943484   \n",
       "4 53.1000 C123  S        Woman 35         NA          0.03962382   \n",
       "5  8.0500       S        Man   35         NA          0.03962382   \n",
       "6  8.4583       Q        Man   NA         NA                  NA   \n",
       "  AgeStandardised AgeBracket\n",
       "1 -0.5300051      Infant    \n",
       "2  0.5714304      Infant    \n",
       "3 -0.2546462      Infant    \n",
       "4  0.3649113      Infant    \n",
       "5  0.3649113      Infant    \n",
       "6         NA      NA        "
      ]
     },
     "metadata": {},
     "output_type": "display_data"
    }
   ],
   "source": [
    "library(dplyr)\n",
    "head(myTitanicDataSet %>% \n",
    "    separate(Name, c(\"Name\", \"Title\"), sep = \",\"))"
   ]
  },
  {
   "cell_type": "code",
   "execution_count": 5,
   "metadata": {},
   "outputs": [
    {
     "name": "stderr",
     "output_type": "stream",
     "text": [
      "Warning message:\n",
      "\"Expected 2 pieces. Additional pieces discarded in 576 rows [1, 2, 4, 5, 7, 8, 9, 10, 11, 13, 14, 15, 16, 18, 19, 21, 23, 24, 25, 26, ...].\"\n"
     ]
    },
    {
     "data": {
      "text/html": [
       "<table>\n",
       "<caption>A data.frame: 6 × 13</caption>\n",
       "<thead>\n",
       "\t<tr><th></th><th scope=col>PassengerId</th><th scope=col>Survived</th><th scope=col>Pclass</th><th scope=col>Name</th><th scope=col>Title</th><th scope=col>Last Name</th><th scope=col>Age</th><th scope=col>SibSp</th><th scope=col>Parch</th><th scope=col>Ticket</th><th scope=col>Fare</th><th scope=col>Cabin</th><th scope=col>Embarked</th></tr>\n",
       "\t<tr><th></th><th scope=col>&lt;int&gt;</th><th scope=col>&lt;int&gt;</th><th scope=col>&lt;int&gt;</th><th scope=col>&lt;chr&gt;</th><th scope=col>&lt;chr&gt;</th><th scope=col>&lt;chr&gt;</th><th scope=col>&lt;chr&gt;</th><th scope=col>&lt;int&gt;</th><th scope=col>&lt;int&gt;</th><th scope=col>&lt;chr&gt;</th><th scope=col>&lt;dbl&gt;</th><th scope=col>&lt;chr&gt;</th><th scope=col>&lt;chr&gt;</th></tr>\n",
       "</thead>\n",
       "<tbody>\n",
       "\t<tr><th scope=row>1</th><td>1</td><td>0</td><td>3</td><td>Braund   </td><td> Mr  </td><td>Owe   </td><td>22</td><td>1</td><td>0</td><td>A/5 21171       </td><td> 7.2500</td><td>    </td><td>S</td></tr>\n",
       "\t<tr><th scope=row>2</th><td>2</td><td>1</td><td>1</td><td>Cumings  </td><td> Mrs </td><td>Joh   </td><td>38</td><td>1</td><td>0</td><td>PC 17599        </td><td>71.2833</td><td>C85 </td><td>C</td></tr>\n",
       "\t<tr><th scope=row>3</th><td>3</td><td>1</td><td>3</td><td>Heikkinen</td><td> Miss</td><td>Laina </td><td>26</td><td>0</td><td>0</td><td>STON/O2. 3101282</td><td> 7.9250</td><td>    </td><td>S</td></tr>\n",
       "\t<tr><th scope=row>4</th><td>4</td><td>1</td><td>1</td><td>Futrelle </td><td> Mrs </td><td>Jacque</td><td>35</td><td>1</td><td>0</td><td>113803          </td><td>53.1000</td><td>C123</td><td>S</td></tr>\n",
       "\t<tr><th scope=row>5</th><td>5</td><td>0</td><td>3</td><td>Allen    </td><td> Mr  </td><td>Willia</td><td>35</td><td>0</td><td>0</td><td>373450          </td><td> 8.0500</td><td>    </td><td>S</td></tr>\n",
       "\t<tr><th scope=row>6</th><td>6</td><td>0</td><td>3</td><td>Moran    </td><td> Mr  </td><td>James </td><td>  </td><td>0</td><td>0</td><td>330877          </td><td> 8.4583</td><td>    </td><td>Q</td></tr>\n",
       "</tbody>\n",
       "</table>\n"
      ],
      "text/latex": [
       "A data.frame: 6 × 13\n",
       "\\begin{tabular}{r|lllllllllllll}\n",
       "  & PassengerId & Survived & Pclass & Name & Title & Last Name & Age & SibSp & Parch & Ticket & Fare & Cabin & Embarked\\\\\n",
       "  & <int> & <int> & <int> & <chr> & <chr> & <chr> & <chr> & <int> & <int> & <chr> & <dbl> & <chr> & <chr>\\\\\n",
       "\\hline\n",
       "\t1 & 1 & 0 & 3 & Braund    &  Mr   & Owe    & 22 & 1 & 0 & A/5 21171        &  7.2500 &      & S\\\\\n",
       "\t2 & 2 & 1 & 1 & Cumings   &  Mrs  & Joh    & 38 & 1 & 0 & PC 17599         & 71.2833 & C85  & C\\\\\n",
       "\t3 & 3 & 1 & 3 & Heikkinen &  Miss & Laina  & 26 & 0 & 0 & STON/O2. 3101282 &  7.9250 &      & S\\\\\n",
       "\t4 & 4 & 1 & 1 & Futrelle  &  Mrs  & Jacque & 35 & 1 & 0 & 113803           & 53.1000 & C123 & S\\\\\n",
       "\t5 & 5 & 0 & 3 & Allen     &  Mr   & Willia & 35 & 0 & 0 & 373450           &  8.0500 &      & S\\\\\n",
       "\t6 & 6 & 0 & 3 & Moran     &  Mr   & James  &    & 0 & 0 & 330877           &  8.4583 &      & Q\\\\\n",
       "\\end{tabular}\n"
      ],
      "text/markdown": [
       "\n",
       "A data.frame: 6 × 13\n",
       "\n",
       "| <!--/--> | PassengerId &lt;int&gt; | Survived &lt;int&gt; | Pclass &lt;int&gt; | Name &lt;chr&gt; | Title &lt;chr&gt; | Last Name &lt;chr&gt; | Age &lt;chr&gt; | SibSp &lt;int&gt; | Parch &lt;int&gt; | Ticket &lt;chr&gt; | Fare &lt;dbl&gt; | Cabin &lt;chr&gt; | Embarked &lt;chr&gt; |\n",
       "|---|---|---|---|---|---|---|---|---|---|---|---|---|---|\n",
       "| 1 | 1 | 0 | 3 | Braund    |  Mr   | Owe    | 22 | 1 | 0 | A/5 21171        |  7.2500 | <!----> | S |\n",
       "| 2 | 2 | 1 | 1 | Cumings   |  Mrs  | Joh    | 38 | 1 | 0 | PC 17599         | 71.2833 | C85  | C |\n",
       "| 3 | 3 | 1 | 3 | Heikkinen |  Miss | Laina  | 26 | 0 | 0 | STON/O2. 3101282 |  7.9250 | <!----> | S |\n",
       "| 4 | 4 | 1 | 1 | Futrelle  |  Mrs  | Jacque | 35 | 1 | 0 | 113803           | 53.1000 | C123 | S |\n",
       "| 5 | 5 | 0 | 3 | Allen     |  Mr   | Willia | 35 | 0 | 0 | 373450           |  8.0500 | <!----> | S |\n",
       "| 6 | 6 | 0 | 3 | Moran     |  Mr   | James  | <!----> | 0 | 0 | 330877           |  8.4583 | <!----> | Q |\n",
       "\n"
      ],
      "text/plain": [
       "  PassengerId Survived Pclass Name      Title Last Name Age SibSp Parch\n",
       "1 1           0        3      Braund     Mr   Owe       22  1     0    \n",
       "2 2           1        1      Cumings    Mrs  Joh       38  1     0    \n",
       "3 3           1        3      Heikkinen  Miss Laina     26  0     0    \n",
       "4 4           1        1      Futrelle   Mrs  Jacque    35  1     0    \n",
       "5 5           0        3      Allen      Mr   Willia    35  0     0    \n",
       "6 6           0        3      Moran      Mr   James         0     0    \n",
       "  Ticket           Fare    Cabin Embarked\n",
       "1 A/5 21171         7.2500       S       \n",
       "2 PC 17599         71.2833 C85   C       \n",
       "3 STON/O2. 3101282  7.9250       S       \n",
       "4 113803           53.1000 C123  S       \n",
       "5 373450            8.0500       S       \n",
       "6 330877            8.4583       Q       "
      ]
     },
     "metadata": {},
     "output_type": "display_data"
    }
   ],
   "source": [
    "head(myTitanicDataSet %>% \n",
    "    separate(Name, c(\"Name\", \"Title\"), sep = \",\")  %>% \n",
    "    separate(Title, c(\"Title\", \"Last Name\"), sep = \". \"))"
   ]
  },
  {
   "cell_type": "code",
   "execution_count": 6,
   "metadata": {},
   "outputs": [
    {
     "name": "stderr",
     "output_type": "stream",
     "text": [
      "Warning message:\n",
      "\"Expected 2 pieces. Additional pieces discarded in 576 rows [1, 2, 4, 5, 7, 8, 9, 10, 11, 13, 14, 15, 16, 18, 19, 21, 23, 24, 25, 26, ...].\"\n"
     ]
    },
    {
     "data": {
      "text/html": [
       "<table>\n",
       "<caption>A tibble: 17 × 2</caption>\n",
       "<thead>\n",
       "\t<tr><th scope=col>Title</th><th scope=col>count</th></tr>\n",
       "\t<tr><th scope=col>&lt;chr&gt;</th><th scope=col>&lt;int&gt;</th></tr>\n",
       "</thead>\n",
       "<tbody>\n",
       "\t<tr><td> Capt    </td><td>  1</td></tr>\n",
       "\t<tr><td> Col     </td><td>  2</td></tr>\n",
       "\t<tr><td> Don     </td><td>  1</td></tr>\n",
       "\t<tr><td> Dr      </td><td>  7</td></tr>\n",
       "\t<tr><td> Jonkheer</td><td>  1</td></tr>\n",
       "\t<tr><td> Lady    </td><td>  1</td></tr>\n",
       "\t<tr><td> Major   </td><td>  2</td></tr>\n",
       "\t<tr><td> Master  </td><td> 40</td></tr>\n",
       "\t<tr><td> Miss    </td><td>182</td></tr>\n",
       "\t<tr><td> Mlle    </td><td>  2</td></tr>\n",
       "\t<tr><td> Mme     </td><td>  1</td></tr>\n",
       "\t<tr><td> Mr      </td><td>517</td></tr>\n",
       "\t<tr><td> Mrs     </td><td>125</td></tr>\n",
       "\t<tr><td> Ms      </td><td>  1</td></tr>\n",
       "\t<tr><td> Rev     </td><td>  6</td></tr>\n",
       "\t<tr><td> Sir     </td><td>  1</td></tr>\n",
       "\t<tr><td> th      </td><td>  1</td></tr>\n",
       "</tbody>\n",
       "</table>\n"
      ],
      "text/latex": [
       "A tibble: 17 × 2\n",
       "\\begin{tabular}{ll}\n",
       " Title & count\\\\\n",
       " <chr> & <int>\\\\\n",
       "\\hline\n",
       "\t  Capt     &   1\\\\\n",
       "\t  Col      &   2\\\\\n",
       "\t  Don      &   1\\\\\n",
       "\t  Dr       &   7\\\\\n",
       "\t  Jonkheer &   1\\\\\n",
       "\t  Lady     &   1\\\\\n",
       "\t  Major    &   2\\\\\n",
       "\t  Master   &  40\\\\\n",
       "\t  Miss     & 182\\\\\n",
       "\t  Mlle     &   2\\\\\n",
       "\t  Mme      &   1\\\\\n",
       "\t  Mr       & 517\\\\\n",
       "\t  Mrs      & 125\\\\\n",
       "\t  Ms       &   1\\\\\n",
       "\t  Rev      &   6\\\\\n",
       "\t  Sir      &   1\\\\\n",
       "\t  th       &   1\\\\\n",
       "\\end{tabular}\n"
      ],
      "text/markdown": [
       "\n",
       "A tibble: 17 × 2\n",
       "\n",
       "| Title &lt;chr&gt; | count &lt;int&gt; |\n",
       "|---|---|\n",
       "|  Capt     |   1 |\n",
       "|  Col      |   2 |\n",
       "|  Don      |   1 |\n",
       "|  Dr       |   7 |\n",
       "|  Jonkheer |   1 |\n",
       "|  Lady     |   1 |\n",
       "|  Major    |   2 |\n",
       "|  Master   |  40 |\n",
       "|  Miss     | 182 |\n",
       "|  Mlle     |   2 |\n",
       "|  Mme      |   1 |\n",
       "|  Mr       | 517 |\n",
       "|  Mrs      | 125 |\n",
       "|  Ms       |   1 |\n",
       "|  Rev      |   6 |\n",
       "|  Sir      |   1 |\n",
       "|  th       |   1 |\n",
       "\n"
      ],
      "text/plain": [
       "   Title     count\n",
       "1   Capt       1  \n",
       "2   Col        2  \n",
       "3   Don        1  \n",
       "4   Dr         7  \n",
       "5   Jonkheer   1  \n",
       "6   Lady       1  \n",
       "7   Major      2  \n",
       "8   Master    40  \n",
       "9   Miss     182  \n",
       "10  Mlle       2  \n",
       "11  Mme        1  \n",
       "12  Mr       517  \n",
       "13  Mrs      125  \n",
       "14  Ms         1  \n",
       "15  Rev        6  \n",
       "16  Sir        1  \n",
       "17  th         1  "
      ]
     },
     "metadata": {},
     "output_type": "display_data"
    }
   ],
   "source": [
    "myTitanicDataSet %>% \n",
    "    separate(Name, c(\"Name\", \"Title\"), sep = \",\")  %>% \n",
    "    separate(Title, c(\"Title\", \"Last Name\"), sep = \". \") %>% \n",
    "    select(Title) %>% \n",
    "    group_by(Title)  %>% \n",
    "    summarize(count = n())"
   ]
  },
  {
   "cell_type": "markdown",
   "metadata": {},
   "source": [
    "Podemos observar cómo hemos sido capaces de extraer información sobre el sexo en la mayoría de las instancias. Utilizando la función grepl (General Regular Expression) somos capaces de asignar un sexo en base a los valores identificados anteriormente:"
   ]
  },
  {
   "cell_type": "code",
   "execution_count": 7,
   "metadata": {},
   "outputs": [],
   "source": [
    "woman <-c(\", Lady. \"\n",
    "          , \", Miss. \"\n",
    "          , \", Mrs. \"\n",
    "          , \", Ms. \"\n",
    "          , \", Mlle. \"\n",
    "          , \", Mme. \")\n",
    "man <- c(\", Capt. \"\n",
    "         , \", Don. \"\n",
    "         , \", Dr. \"\n",
    "         , \", Major. \"\n",
    "         , \", Master. \"\n",
    "         , \", Col. \"\n",
    "         , \", Mr. \"\n",
    "         , \", Rev. \"\n",
    "         , \", Sir. \")"
   ]
  },
  {
   "cell_type": "code",
   "execution_count": 8,
   "metadata": {},
   "outputs": [
    {
     "data": {
      "text/html": [
       "<table>\n",
       "<caption>A data.frame: 6 × 12</caption>\n",
       "<thead>\n",
       "\t<tr><th></th><th scope=col>PassengerId</th><th scope=col>Survived</th><th scope=col>Pclass</th><th scope=col>Name</th><th scope=col>Age</th><th scope=col>SibSp</th><th scope=col>Parch</th><th scope=col>Ticket</th><th scope=col>Fare</th><th scope=col>Cabin</th><th scope=col>Embarked</th><th scope=col>Sex</th></tr>\n",
       "\t<tr><th></th><th scope=col>&lt;int&gt;</th><th scope=col>&lt;int&gt;</th><th scope=col>&lt;int&gt;</th><th scope=col>&lt;chr&gt;</th><th scope=col>&lt;chr&gt;</th><th scope=col>&lt;int&gt;</th><th scope=col>&lt;int&gt;</th><th scope=col>&lt;chr&gt;</th><th scope=col>&lt;dbl&gt;</th><th scope=col>&lt;chr&gt;</th><th scope=col>&lt;chr&gt;</th><th scope=col>&lt;chr&gt;</th></tr>\n",
       "</thead>\n",
       "<tbody>\n",
       "\t<tr><th scope=row>1</th><td>1</td><td>0</td><td>3</td><td>Braund, Mr. Owen Harris                            </td><td>22</td><td>1</td><td>0</td><td>A/5 21171       </td><td> 7.2500</td><td>    </td><td>S</td><td>Man  </td></tr>\n",
       "\t<tr><th scope=row>2</th><td>2</td><td>1</td><td>1</td><td>Cumings, Mrs. John Bradley (Florence Briggs Thayer)</td><td>38</td><td>1</td><td>0</td><td>PC 17599        </td><td>71.2833</td><td>C85 </td><td>C</td><td>Woman</td></tr>\n",
       "\t<tr><th scope=row>3</th><td>3</td><td>1</td><td>3</td><td>Heikkinen, Miss. Laina                             </td><td>26</td><td>0</td><td>0</td><td>STON/O2. 3101282</td><td> 7.9250</td><td>    </td><td>S</td><td>Woman</td></tr>\n",
       "\t<tr><th scope=row>4</th><td>4</td><td>1</td><td>1</td><td>Futrelle, Mrs. Jacques Heath (Lily May Peel)       </td><td>35</td><td>1</td><td>0</td><td>113803          </td><td>53.1000</td><td>C123</td><td>S</td><td>Woman</td></tr>\n",
       "\t<tr><th scope=row>5</th><td>5</td><td>0</td><td>3</td><td>Allen, Mr. William Henry                           </td><td>35</td><td>0</td><td>0</td><td>373450          </td><td> 8.0500</td><td>    </td><td>S</td><td>Man  </td></tr>\n",
       "\t<tr><th scope=row>6</th><td>6</td><td>0</td><td>3</td><td>Moran, Mr. James                                   </td><td>  </td><td>0</td><td>0</td><td>330877          </td><td> 8.4583</td><td>    </td><td>Q</td><td>Man  </td></tr>\n",
       "</tbody>\n",
       "</table>\n"
      ],
      "text/latex": [
       "A data.frame: 6 × 12\n",
       "\\begin{tabular}{r|llllllllllll}\n",
       "  & PassengerId & Survived & Pclass & Name & Age & SibSp & Parch & Ticket & Fare & Cabin & Embarked & Sex\\\\\n",
       "  & <int> & <int> & <int> & <chr> & <chr> & <int> & <int> & <chr> & <dbl> & <chr> & <chr> & <chr>\\\\\n",
       "\\hline\n",
       "\t1 & 1 & 0 & 3 & Braund, Mr. Owen Harris                             & 22 & 1 & 0 & A/5 21171        &  7.2500 &      & S & Man  \\\\\n",
       "\t2 & 2 & 1 & 1 & Cumings, Mrs. John Bradley (Florence Briggs Thayer) & 38 & 1 & 0 & PC 17599         & 71.2833 & C85  & C & Woman\\\\\n",
       "\t3 & 3 & 1 & 3 & Heikkinen, Miss. Laina                              & 26 & 0 & 0 & STON/O2. 3101282 &  7.9250 &      & S & Woman\\\\\n",
       "\t4 & 4 & 1 & 1 & Futrelle, Mrs. Jacques Heath (Lily May Peel)        & 35 & 1 & 0 & 113803           & 53.1000 & C123 & S & Woman\\\\\n",
       "\t5 & 5 & 0 & 3 & Allen, Mr. William Henry                            & 35 & 0 & 0 & 373450           &  8.0500 &      & S & Man  \\\\\n",
       "\t6 & 6 & 0 & 3 & Moran, Mr. James                                    &    & 0 & 0 & 330877           &  8.4583 &      & Q & Man  \\\\\n",
       "\\end{tabular}\n"
      ],
      "text/markdown": [
       "\n",
       "A data.frame: 6 × 12\n",
       "\n",
       "| <!--/--> | PassengerId &lt;int&gt; | Survived &lt;int&gt; | Pclass &lt;int&gt; | Name &lt;chr&gt; | Age &lt;chr&gt; | SibSp &lt;int&gt; | Parch &lt;int&gt; | Ticket &lt;chr&gt; | Fare &lt;dbl&gt; | Cabin &lt;chr&gt; | Embarked &lt;chr&gt; | Sex &lt;chr&gt; |\n",
       "|---|---|---|---|---|---|---|---|---|---|---|---|---|\n",
       "| 1 | 1 | 0 | 3 | Braund, Mr. Owen Harris                             | 22 | 1 | 0 | A/5 21171        |  7.2500 | <!----> | S | Man   |\n",
       "| 2 | 2 | 1 | 1 | Cumings, Mrs. John Bradley (Florence Briggs Thayer) | 38 | 1 | 0 | PC 17599         | 71.2833 | C85  | C | Woman |\n",
       "| 3 | 3 | 1 | 3 | Heikkinen, Miss. Laina                              | 26 | 0 | 0 | STON/O2. 3101282 |  7.9250 | <!----> | S | Woman |\n",
       "| 4 | 4 | 1 | 1 | Futrelle, Mrs. Jacques Heath (Lily May Peel)        | 35 | 1 | 0 | 113803           | 53.1000 | C123 | S | Woman |\n",
       "| 5 | 5 | 0 | 3 | Allen, Mr. William Henry                            | 35 | 0 | 0 | 373450           |  8.0500 | <!----> | S | Man   |\n",
       "| 6 | 6 | 0 | 3 | Moran, Mr. James                                    | <!----> | 0 | 0 | 330877           |  8.4583 | <!----> | Q | Man   |\n",
       "\n"
      ],
      "text/plain": [
       "  PassengerId Survived Pclass\n",
       "1 1           0        3     \n",
       "2 2           1        1     \n",
       "3 3           1        3     \n",
       "4 4           1        1     \n",
       "5 5           0        3     \n",
       "6 6           0        3     \n",
       "  Name                                                Age SibSp Parch\n",
       "1 Braund, Mr. Owen Harris                             22  1     0    \n",
       "2 Cumings, Mrs. John Bradley (Florence Briggs Thayer) 38  1     0    \n",
       "3 Heikkinen, Miss. Laina                              26  0     0    \n",
       "4 Futrelle, Mrs. Jacques Heath (Lily May Peel)        35  1     0    \n",
       "5 Allen, Mr. William Henry                            35  0     0    \n",
       "6 Moran, Mr. James                                        0     0    \n",
       "  Ticket           Fare    Cabin Embarked Sex  \n",
       "1 A/5 21171         7.2500       S        Man  \n",
       "2 PC 17599         71.2833 C85   C        Woman\n",
       "3 STON/O2. 3101282  7.9250       S        Woman\n",
       "4 113803           53.1000 C123  S        Woman\n",
       "5 373450            8.0500       S        Man  \n",
       "6 330877            8.4583       Q        Man  "
      ]
     },
     "metadata": {},
     "output_type": "display_data"
    }
   ],
   "source": [
    "myTitanicDataSet$Sex <- ifelse(grepl(woman[1], myTitanicDataSet$Name), \"Woman\"\n",
    "                                , ifelse(grepl(woman[2], myTitanicDataSet$Name), \"Woman\"\n",
    "                                , ifelse(grepl(woman[3], myTitanicDataSet$Name), \"Woman\"\n",
    "                                , ifelse(grepl(woman[4], myTitanicDataSet$Name), \"Woman\"\n",
    "                                , ifelse(grepl(woman[5], myTitanicDataSet$Name), \"Woman\"\n",
    "                                , ifelse(grepl(woman[6], myTitanicDataSet$Name), \"Woman\"\n",
    "                                , ifelse(grepl(man[1], myTitanicDataSet$Name), \"Man\"\n",
    "                                , ifelse(grepl(man[2], myTitanicDataSet$Name), \"Man\"\n",
    "                                , ifelse(grepl(man[3], myTitanicDataSet$Name), \"Man\"\n",
    "                                , ifelse(grepl(man[4], myTitanicDataSet$Name), \"Man\"\n",
    "                                , ifelse(grepl(man[5], myTitanicDataSet$Name), \"Man\"\n",
    "                                , ifelse(grepl(man[6], myTitanicDataSet$Name), \"Man\"\n",
    "                                , ifelse(grepl(man[7], myTitanicDataSet$Name), \"Man\"\n",
    "                                , ifelse(grepl(man[8], myTitanicDataSet$Name), \"Man\"\n",
    "                                , ifelse(grepl(man[9], myTitanicDataSet$Name), \"Man\"\n",
    "                                , \"Unknown\")))))))))))))))\n",
    "\n",
    "head(myTitanicDataSet)"
   ]
  },
  {
   "cell_type": "markdown",
   "metadata": {},
   "source": [
    "Finalmente estudiamos el índice de supervivencia entre ambos sexos:"
   ]
  },
  {
   "cell_type": "code",
   "execution_count": 9,
   "metadata": {},
   "outputs": [
    {
     "data": {
      "text/html": [
       "<table>\n",
       "<caption>A tibble: 3 × 3</caption>\n",
       "<thead>\n",
       "\t<tr><th scope=col>Sex</th><th scope=col>passengers</th><th scope=col>survival_rate</th></tr>\n",
       "\t<tr><th scope=col>&lt;chr&gt;</th><th scope=col>&lt;int&gt;</th><th scope=col>&lt;dbl&gt;</th></tr>\n",
       "</thead>\n",
       "<tbody>\n",
       "\t<tr><td>Man    </td><td>577</td><td>0.1906412</td></tr>\n",
       "\t<tr><td>Unknown</td><td>  2</td><td>0.5000000</td></tr>\n",
       "\t<tr><td>Woman  </td><td>312</td><td>0.7403846</td></tr>\n",
       "</tbody>\n",
       "</table>\n"
      ],
      "text/latex": [
       "A tibble: 3 × 3\n",
       "\\begin{tabular}{lll}\n",
       " Sex & passengers & survival\\_rate\\\\\n",
       " <chr> & <int> & <dbl>\\\\\n",
       "\\hline\n",
       "\t Man     & 577 & 0.1906412\\\\\n",
       "\t Unknown &   2 & 0.5000000\\\\\n",
       "\t Woman   & 312 & 0.7403846\\\\\n",
       "\\end{tabular}\n"
      ],
      "text/markdown": [
       "\n",
       "A tibble: 3 × 3\n",
       "\n",
       "| Sex &lt;chr&gt; | passengers &lt;int&gt; | survival_rate &lt;dbl&gt; |\n",
       "|---|---|---|\n",
       "| Man     | 577 | 0.1906412 |\n",
       "| Unknown |   2 | 0.5000000 |\n",
       "| Woman   | 312 | 0.7403846 |\n",
       "\n"
      ],
      "text/plain": [
       "  Sex     passengers survival_rate\n",
       "1 Man     577        0.1906412    \n",
       "2 Unknown   2        0.5000000    \n",
       "3 Woman   312        0.7403846    "
      ]
     },
     "metadata": {},
     "output_type": "display_data"
    }
   ],
   "source": [
    "myTitanicDataSet  %>% \n",
    "    group_by(Sex)  %>% \n",
    "    summarize(passengers = n(), survival_rate = mean(Survived))"
   ]
  },
  {
   "cell_type": "markdown",
   "metadata": {},
   "source": [
    "<b>4. Estudio de la variable Age:</b> En la función summary observamos que Age está definida como un conjunto de nstancias de tipo char, lo cual sorprende pues esperamos valores numéricos. Procedemos a estudiar y transformar los valores:"
   ]
  },
  {
   "cell_type": "code",
   "execution_count": 10,
   "metadata": {},
   "outputs": [
    {
     "data": {
      "text/html": [
       "<ol class=list-inline>\n",
       "\t<li>'22'</li>\n",
       "\t<li>'38'</li>\n",
       "\t<li>'26'</li>\n",
       "\t<li>'35'</li>\n",
       "\t<li>'35'</li>\n",
       "\t<li>''</li>\n",
       "</ol>\n"
      ],
      "text/latex": [
       "\\begin{enumerate*}\n",
       "\\item '22'\n",
       "\\item '38'\n",
       "\\item '26'\n",
       "\\item '35'\n",
       "\\item '35'\n",
       "\\item ''\n",
       "\\end{enumerate*}\n"
      ],
      "text/markdown": [
       "1. '22'\n",
       "2. '38'\n",
       "3. '26'\n",
       "4. '35'\n",
       "5. '35'\n",
       "6. ''\n",
       "\n",
       "\n"
      ],
      "text/plain": [
       "[1] \"22\" \"38\" \"26\" \"35\" \"35\" \"\"  "
      ]
     },
     "metadata": {},
     "output_type": "display_data"
    },
    {
     "data": {
      "text/html": [
       "''"
      ],
      "text/latex": [
       "''"
      ],
      "text/markdown": [
       "''"
      ],
      "text/plain": [
       "[1] \"\""
      ]
     },
     "metadata": {},
     "output_type": "display_data"
    }
   ],
   "source": [
    "head(myTitanicDataSet$Age)\n",
    "myTitanicDataSet$Age[6]"
   ]
  },
  {
   "cell_type": "markdown",
   "metadata": {},
   "source": [
    "Se aprecia que hay instancias como la número 6 con valores nulos pero no vemos si hay algún otro tipo de dato que pueda crear conflicto. Para ello estudiamos en primer lugar cuántas instancias tienen un valor nulo:"
   ]
  },
  {
   "cell_type": "code",
   "execution_count": 11,
   "metadata": {},
   "outputs": [
    {
     "data": {
      "text/html": [
       "<table>\n",
       "<caption>A data.frame: 6 × 12</caption>\n",
       "<thead>\n",
       "\t<tr><th></th><th scope=col>PassengerId</th><th scope=col>Survived</th><th scope=col>Pclass</th><th scope=col>Name</th><th scope=col>Age</th><th scope=col>SibSp</th><th scope=col>Parch</th><th scope=col>Ticket</th><th scope=col>Fare</th><th scope=col>Cabin</th><th scope=col>Embarked</th><th scope=col>Sex</th></tr>\n",
       "\t<tr><th></th><th scope=col>&lt;int&gt;</th><th scope=col>&lt;int&gt;</th><th scope=col>&lt;int&gt;</th><th scope=col>&lt;chr&gt;</th><th scope=col>&lt;chr&gt;</th><th scope=col>&lt;int&gt;</th><th scope=col>&lt;int&gt;</th><th scope=col>&lt;chr&gt;</th><th scope=col>&lt;dbl&gt;</th><th scope=col>&lt;chr&gt;</th><th scope=col>&lt;chr&gt;</th><th scope=col>&lt;chr&gt;</th></tr>\n",
       "</thead>\n",
       "<tbody>\n",
       "\t<tr><th scope=row>6</th><td> 6</td><td>0</td><td>3</td><td>Moran, Mr. James             </td><td></td><td>0</td><td>0</td><td>330877</td><td> 8.4583</td><td></td><td>Q</td><td>Man  </td></tr>\n",
       "\t<tr><th scope=row>18</th><td>18</td><td>1</td><td>0</td><td>Williams, Mr. Charles Eugene </td><td></td><td>0</td><td>0</td><td>244373</td><td>13.0000</td><td></td><td>S</td><td>Man  </td></tr>\n",
       "\t<tr><th scope=row>20</th><td>20</td><td>1</td><td>3</td><td>Masselmani, Mrs. Fatima      </td><td></td><td>0</td><td>0</td><td>2649  </td><td> 7.2250</td><td></td><td>C</td><td>Woman</td></tr>\n",
       "\t<tr><th scope=row>27</th><td>27</td><td>0</td><td>3</td><td>Emir, Mr. Farred Chehab      </td><td></td><td>0</td><td>0</td><td>2631  </td><td> 7.2250</td><td></td><td>C</td><td>Man  </td></tr>\n",
       "\t<tr><th scope=row>29</th><td>29</td><td>1</td><td>3</td><td>O'Dwyer, Miss. Ellen \"Nellie\"</td><td></td><td>0</td><td>0</td><td>330959</td><td> 7.8792</td><td></td><td>Q</td><td>Woman</td></tr>\n",
       "\t<tr><th scope=row>30</th><td>30</td><td>0</td><td>3</td><td>Todoroff, Mr. Lalio          </td><td></td><td>0</td><td>0</td><td>349216</td><td> 7.8958</td><td></td><td>S</td><td>Man  </td></tr>\n",
       "</tbody>\n",
       "</table>\n"
      ],
      "text/latex": [
       "A data.frame: 6 × 12\n",
       "\\begin{tabular}{r|llllllllllll}\n",
       "  & PassengerId & Survived & Pclass & Name & Age & SibSp & Parch & Ticket & Fare & Cabin & Embarked & Sex\\\\\n",
       "  & <int> & <int> & <int> & <chr> & <chr> & <int> & <int> & <chr> & <dbl> & <chr> & <chr> & <chr>\\\\\n",
       "\\hline\n",
       "\t6 &  6 & 0 & 3 & Moran, Mr. James              &  & 0 & 0 & 330877 &  8.4583 &  & Q & Man  \\\\\n",
       "\t18 & 18 & 1 & 0 & Williams, Mr. Charles Eugene  &  & 0 & 0 & 244373 & 13.0000 &  & S & Man  \\\\\n",
       "\t20 & 20 & 1 & 3 & Masselmani, Mrs. Fatima       &  & 0 & 0 & 2649   &  7.2250 &  & C & Woman\\\\\n",
       "\t27 & 27 & 0 & 3 & Emir, Mr. Farred Chehab       &  & 0 & 0 & 2631   &  7.2250 &  & C & Man  \\\\\n",
       "\t29 & 29 & 1 & 3 & O'Dwyer, Miss. Ellen \"Nellie\" &  & 0 & 0 & 330959 &  7.8792 &  & Q & Woman\\\\\n",
       "\t30 & 30 & 0 & 3 & Todoroff, Mr. Lalio           &  & 0 & 0 & 349216 &  7.8958 &  & S & Man  \\\\\n",
       "\\end{tabular}\n"
      ],
      "text/markdown": [
       "\n",
       "A data.frame: 6 × 12\n",
       "\n",
       "| <!--/--> | PassengerId &lt;int&gt; | Survived &lt;int&gt; | Pclass &lt;int&gt; | Name &lt;chr&gt; | Age &lt;chr&gt; | SibSp &lt;int&gt; | Parch &lt;int&gt; | Ticket &lt;chr&gt; | Fare &lt;dbl&gt; | Cabin &lt;chr&gt; | Embarked &lt;chr&gt; | Sex &lt;chr&gt; |\n",
       "|---|---|---|---|---|---|---|---|---|---|---|---|---|\n",
       "| 6 |  6 | 0 | 3 | Moran, Mr. James              | <!----> | 0 | 0 | 330877 |  8.4583 | <!----> | Q | Man   |\n",
       "| 18 | 18 | 1 | 0 | Williams, Mr. Charles Eugene  | <!----> | 0 | 0 | 244373 | 13.0000 | <!----> | S | Man   |\n",
       "| 20 | 20 | 1 | 3 | Masselmani, Mrs. Fatima       | <!----> | 0 | 0 | 2649   |  7.2250 | <!----> | C | Woman |\n",
       "| 27 | 27 | 0 | 3 | Emir, Mr. Farred Chehab       | <!----> | 0 | 0 | 2631   |  7.2250 | <!----> | C | Man   |\n",
       "| 29 | 29 | 1 | 3 | O'Dwyer, Miss. Ellen \"Nellie\" | <!----> | 0 | 0 | 330959 |  7.8792 | <!----> | Q | Woman |\n",
       "| 30 | 30 | 0 | 3 | Todoroff, Mr. Lalio           | <!----> | 0 | 0 | 349216 |  7.8958 | <!----> | S | Man   |\n",
       "\n"
      ],
      "text/plain": [
       "   PassengerId Survived Pclass Name                          Age SibSp Parch\n",
       "6   6          0        3      Moran, Mr. James                  0     0    \n",
       "18 18          1        0      Williams, Mr. Charles Eugene      0     0    \n",
       "20 20          1        3      Masselmani, Mrs. Fatima           0     0    \n",
       "27 27          0        3      Emir, Mr. Farred Chehab           0     0    \n",
       "29 29          1        3      O'Dwyer, Miss. Ellen \"Nellie\"     0     0    \n",
       "30 30          0        3      Todoroff, Mr. Lalio               0     0    \n",
       "   Ticket Fare    Cabin Embarked Sex  \n",
       "6  330877  8.4583       Q        Man  \n",
       "18 244373 13.0000       S        Man  \n",
       "20 2649    7.2250       C        Woman\n",
       "27 2631    7.2250       C        Man  \n",
       "29 330959  7.8792       Q        Woman\n",
       "30 349216  7.8958       S        Man  "
      ]
     },
     "metadata": {},
     "output_type": "display_data"
    },
    {
     "name": "stdout",
     "output_type": "stream",
     "text": [
      "[1] \"Número de instancias con null values: 177\"\n"
     ]
    }
   ],
   "source": [
    "head(subset(myTitanicDataSet, Age == myTitanicDataSet$Age[6]))\n",
    "print(\n",
    "    paste0(\n",
    "        \"Número de instancias con null values: \"\n",
    "        , count(subset(myTitanicDataSet\n",
    "                       , Age == myTitanicDataSet$Age[6]\n",
    "                      )\n",
    "               )\n",
    "    )\n",
    ")"
   ]
  },
  {
   "cell_type": "markdown",
   "metadata": {},
   "source": [
    "Vemos cómo hay 177 instancias sin número. Utilizamos la función as.numeric para entender cuántas personas tienen un valor de edad:"
   ]
  },
  {
   "cell_type": "code",
   "execution_count": 12,
   "metadata": {},
   "outputs": [
    {
     "name": "stderr",
     "output_type": "stream",
     "text": [
      "Warning message in eval(expr, envir, enclos):\n",
      "\"NAs introducidos por coerción\"\n"
     ]
    },
    {
     "data": {
      "text/html": [
       "<table>\n",
       "<caption>A data.frame: 6 × 13</caption>\n",
       "<thead>\n",
       "\t<tr><th></th><th scope=col>PassengerId</th><th scope=col>Survived</th><th scope=col>Pclass</th><th scope=col>Name</th><th scope=col>Age</th><th scope=col>SibSp</th><th scope=col>Parch</th><th scope=col>Ticket</th><th scope=col>Fare</th><th scope=col>Cabin</th><th scope=col>Embarked</th><th scope=col>Sex</th><th scope=col>AgeNumeric</th></tr>\n",
       "\t<tr><th></th><th scope=col>&lt;int&gt;</th><th scope=col>&lt;int&gt;</th><th scope=col>&lt;int&gt;</th><th scope=col>&lt;chr&gt;</th><th scope=col>&lt;chr&gt;</th><th scope=col>&lt;int&gt;</th><th scope=col>&lt;int&gt;</th><th scope=col>&lt;chr&gt;</th><th scope=col>&lt;dbl&gt;</th><th scope=col>&lt;chr&gt;</th><th scope=col>&lt;chr&gt;</th><th scope=col>&lt;chr&gt;</th><th scope=col>&lt;dbl&gt;</th></tr>\n",
       "</thead>\n",
       "<tbody>\n",
       "\t<tr><th scope=row>1</th><td>1</td><td>0</td><td>3</td><td>Braund, Mr. Owen Harris                            </td><td>22</td><td>1</td><td>0</td><td>A/5 21171       </td><td> 7.2500</td><td>    </td><td>S</td><td>Man  </td><td>22</td></tr>\n",
       "\t<tr><th scope=row>2</th><td>2</td><td>1</td><td>1</td><td>Cumings, Mrs. John Bradley (Florence Briggs Thayer)</td><td>38</td><td>1</td><td>0</td><td>PC 17599        </td><td>71.2833</td><td>C85 </td><td>C</td><td>Woman</td><td>38</td></tr>\n",
       "\t<tr><th scope=row>3</th><td>3</td><td>1</td><td>3</td><td>Heikkinen, Miss. Laina                             </td><td>26</td><td>0</td><td>0</td><td>STON/O2. 3101282</td><td> 7.9250</td><td>    </td><td>S</td><td>Woman</td><td>26</td></tr>\n",
       "\t<tr><th scope=row>4</th><td>4</td><td>1</td><td>1</td><td>Futrelle, Mrs. Jacques Heath (Lily May Peel)       </td><td>35</td><td>1</td><td>0</td><td>113803          </td><td>53.1000</td><td>C123</td><td>S</td><td>Woman</td><td>35</td></tr>\n",
       "\t<tr><th scope=row>5</th><td>5</td><td>0</td><td>3</td><td>Allen, Mr. William Henry                           </td><td>35</td><td>0</td><td>0</td><td>373450          </td><td> 8.0500</td><td>    </td><td>S</td><td>Man  </td><td>35</td></tr>\n",
       "\t<tr><th scope=row>6</th><td>6</td><td>0</td><td>3</td><td>Moran, Mr. James                                   </td><td>  </td><td>0</td><td>0</td><td>330877          </td><td> 8.4583</td><td>    </td><td>Q</td><td>Man  </td><td>NA</td></tr>\n",
       "</tbody>\n",
       "</table>\n"
      ],
      "text/latex": [
       "A data.frame: 6 × 13\n",
       "\\begin{tabular}{r|lllllllllllll}\n",
       "  & PassengerId & Survived & Pclass & Name & Age & SibSp & Parch & Ticket & Fare & Cabin & Embarked & Sex & AgeNumeric\\\\\n",
       "  & <int> & <int> & <int> & <chr> & <chr> & <int> & <int> & <chr> & <dbl> & <chr> & <chr> & <chr> & <dbl>\\\\\n",
       "\\hline\n",
       "\t1 & 1 & 0 & 3 & Braund, Mr. Owen Harris                             & 22 & 1 & 0 & A/5 21171        &  7.2500 &      & S & Man   & 22\\\\\n",
       "\t2 & 2 & 1 & 1 & Cumings, Mrs. John Bradley (Florence Briggs Thayer) & 38 & 1 & 0 & PC 17599         & 71.2833 & C85  & C & Woman & 38\\\\\n",
       "\t3 & 3 & 1 & 3 & Heikkinen, Miss. Laina                              & 26 & 0 & 0 & STON/O2. 3101282 &  7.9250 &      & S & Woman & 26\\\\\n",
       "\t4 & 4 & 1 & 1 & Futrelle, Mrs. Jacques Heath (Lily May Peel)        & 35 & 1 & 0 & 113803           & 53.1000 & C123 & S & Woman & 35\\\\\n",
       "\t5 & 5 & 0 & 3 & Allen, Mr. William Henry                            & 35 & 0 & 0 & 373450           &  8.0500 &      & S & Man   & 35\\\\\n",
       "\t6 & 6 & 0 & 3 & Moran, Mr. James                                    &    & 0 & 0 & 330877           &  8.4583 &      & Q & Man   & NA\\\\\n",
       "\\end{tabular}\n"
      ],
      "text/markdown": [
       "\n",
       "A data.frame: 6 × 13\n",
       "\n",
       "| <!--/--> | PassengerId &lt;int&gt; | Survived &lt;int&gt; | Pclass &lt;int&gt; | Name &lt;chr&gt; | Age &lt;chr&gt; | SibSp &lt;int&gt; | Parch &lt;int&gt; | Ticket &lt;chr&gt; | Fare &lt;dbl&gt; | Cabin &lt;chr&gt; | Embarked &lt;chr&gt; | Sex &lt;chr&gt; | AgeNumeric &lt;dbl&gt; |\n",
       "|---|---|---|---|---|---|---|---|---|---|---|---|---|---|\n",
       "| 1 | 1 | 0 | 3 | Braund, Mr. Owen Harris                             | 22 | 1 | 0 | A/5 21171        |  7.2500 | <!----> | S | Man   | 22 |\n",
       "| 2 | 2 | 1 | 1 | Cumings, Mrs. John Bradley (Florence Briggs Thayer) | 38 | 1 | 0 | PC 17599         | 71.2833 | C85  | C | Woman | 38 |\n",
       "| 3 | 3 | 1 | 3 | Heikkinen, Miss. Laina                              | 26 | 0 | 0 | STON/O2. 3101282 |  7.9250 | <!----> | S | Woman | 26 |\n",
       "| 4 | 4 | 1 | 1 | Futrelle, Mrs. Jacques Heath (Lily May Peel)        | 35 | 1 | 0 | 113803           | 53.1000 | C123 | S | Woman | 35 |\n",
       "| 5 | 5 | 0 | 3 | Allen, Mr. William Henry                            | 35 | 0 | 0 | 373450           |  8.0500 | <!----> | S | Man   | 35 |\n",
       "| 6 | 6 | 0 | 3 | Moran, Mr. James                                    | <!----> | 0 | 0 | 330877           |  8.4583 | <!----> | Q | Man   | NA |\n",
       "\n"
      ],
      "text/plain": [
       "  PassengerId Survived Pclass\n",
       "1 1           0        3     \n",
       "2 2           1        1     \n",
       "3 3           1        3     \n",
       "4 4           1        1     \n",
       "5 5           0        3     \n",
       "6 6           0        3     \n",
       "  Name                                                Age SibSp Parch\n",
       "1 Braund, Mr. Owen Harris                             22  1     0    \n",
       "2 Cumings, Mrs. John Bradley (Florence Briggs Thayer) 38  1     0    \n",
       "3 Heikkinen, Miss. Laina                              26  0     0    \n",
       "4 Futrelle, Mrs. Jacques Heath (Lily May Peel)        35  1     0    \n",
       "5 Allen, Mr. William Henry                            35  0     0    \n",
       "6 Moran, Mr. James                                        0     0    \n",
       "  Ticket           Fare    Cabin Embarked Sex   AgeNumeric\n",
       "1 A/5 21171         7.2500       S        Man   22        \n",
       "2 PC 17599         71.2833 C85   C        Woman 38        \n",
       "3 STON/O2. 3101282  7.9250       S        Woman 26        \n",
       "4 113803           53.1000 C123  S        Woman 35        \n",
       "5 373450            8.0500       S        Man   35        \n",
       "6 330877            8.4583       Q        Man   NA        "
      ]
     },
     "metadata": {},
     "output_type": "display_data"
    }
   ],
   "source": [
    "myTitanicDataSet$AgeNumeric = as.numeric(myTitanicDataSet$Age)\n",
    "head(myTitanicDataSet)"
   ]
  },
  {
   "cell_type": "code",
   "execution_count": 13,
   "metadata": {},
   "outputs": [
    {
     "data": {
      "text/html": [
       "<table>\n",
       "<caption>A data.frame: 6 × 13</caption>\n",
       "<thead>\n",
       "\t<tr><th></th><th scope=col>PassengerId</th><th scope=col>Survived</th><th scope=col>Pclass</th><th scope=col>Name</th><th scope=col>Age</th><th scope=col>SibSp</th><th scope=col>Parch</th><th scope=col>Ticket</th><th scope=col>Fare</th><th scope=col>Cabin</th><th scope=col>Embarked</th><th scope=col>Sex</th><th scope=col>AgeNumeric</th></tr>\n",
       "\t<tr><th></th><th scope=col>&lt;int&gt;</th><th scope=col>&lt;int&gt;</th><th scope=col>&lt;int&gt;</th><th scope=col>&lt;chr&gt;</th><th scope=col>&lt;chr&gt;</th><th scope=col>&lt;int&gt;</th><th scope=col>&lt;int&gt;</th><th scope=col>&lt;chr&gt;</th><th scope=col>&lt;dbl&gt;</th><th scope=col>&lt;chr&gt;</th><th scope=col>&lt;chr&gt;</th><th scope=col>&lt;chr&gt;</th><th scope=col>&lt;dbl&gt;</th></tr>\n",
       "</thead>\n",
       "<tbody>\n",
       "\t<tr><th scope=row>6</th><td> 6</td><td>0</td><td>3</td><td>Moran, Mr. James             </td><td></td><td>0</td><td>0</td><td>330877</td><td> 8.4583</td><td></td><td>Q</td><td>Man  </td><td>NA</td></tr>\n",
       "\t<tr><th scope=row>18</th><td>18</td><td>1</td><td>0</td><td>Williams, Mr. Charles Eugene </td><td></td><td>0</td><td>0</td><td>244373</td><td>13.0000</td><td></td><td>S</td><td>Man  </td><td>NA</td></tr>\n",
       "\t<tr><th scope=row>20</th><td>20</td><td>1</td><td>3</td><td>Masselmani, Mrs. Fatima      </td><td></td><td>0</td><td>0</td><td>2649  </td><td> 7.2250</td><td></td><td>C</td><td>Woman</td><td>NA</td></tr>\n",
       "\t<tr><th scope=row>27</th><td>27</td><td>0</td><td>3</td><td>Emir, Mr. Farred Chehab      </td><td></td><td>0</td><td>0</td><td>2631  </td><td> 7.2250</td><td></td><td>C</td><td>Man  </td><td>NA</td></tr>\n",
       "\t<tr><th scope=row>29</th><td>29</td><td>1</td><td>3</td><td>O'Dwyer, Miss. Ellen \"Nellie\"</td><td></td><td>0</td><td>0</td><td>330959</td><td> 7.8792</td><td></td><td>Q</td><td>Woman</td><td>NA</td></tr>\n",
       "\t<tr><th scope=row>30</th><td>30</td><td>0</td><td>3</td><td>Todoroff, Mr. Lalio          </td><td></td><td>0</td><td>0</td><td>349216</td><td> 7.8958</td><td></td><td>S</td><td>Man  </td><td>NA</td></tr>\n",
       "</tbody>\n",
       "</table>\n"
      ],
      "text/latex": [
       "A data.frame: 6 × 13\n",
       "\\begin{tabular}{r|lllllllllllll}\n",
       "  & PassengerId & Survived & Pclass & Name & Age & SibSp & Parch & Ticket & Fare & Cabin & Embarked & Sex & AgeNumeric\\\\\n",
       "  & <int> & <int> & <int> & <chr> & <chr> & <int> & <int> & <chr> & <dbl> & <chr> & <chr> & <chr> & <dbl>\\\\\n",
       "\\hline\n",
       "\t6 &  6 & 0 & 3 & Moran, Mr. James              &  & 0 & 0 & 330877 &  8.4583 &  & Q & Man   & NA\\\\\n",
       "\t18 & 18 & 1 & 0 & Williams, Mr. Charles Eugene  &  & 0 & 0 & 244373 & 13.0000 &  & S & Man   & NA\\\\\n",
       "\t20 & 20 & 1 & 3 & Masselmani, Mrs. Fatima       &  & 0 & 0 & 2649   &  7.2250 &  & C & Woman & NA\\\\\n",
       "\t27 & 27 & 0 & 3 & Emir, Mr. Farred Chehab       &  & 0 & 0 & 2631   &  7.2250 &  & C & Man   & NA\\\\\n",
       "\t29 & 29 & 1 & 3 & O'Dwyer, Miss. Ellen \"Nellie\" &  & 0 & 0 & 330959 &  7.8792 &  & Q & Woman & NA\\\\\n",
       "\t30 & 30 & 0 & 3 & Todoroff, Mr. Lalio           &  & 0 & 0 & 349216 &  7.8958 &  & S & Man   & NA\\\\\n",
       "\\end{tabular}\n"
      ],
      "text/markdown": [
       "\n",
       "A data.frame: 6 × 13\n",
       "\n",
       "| <!--/--> | PassengerId &lt;int&gt; | Survived &lt;int&gt; | Pclass &lt;int&gt; | Name &lt;chr&gt; | Age &lt;chr&gt; | SibSp &lt;int&gt; | Parch &lt;int&gt; | Ticket &lt;chr&gt; | Fare &lt;dbl&gt; | Cabin &lt;chr&gt; | Embarked &lt;chr&gt; | Sex &lt;chr&gt; | AgeNumeric &lt;dbl&gt; |\n",
       "|---|---|---|---|---|---|---|---|---|---|---|---|---|---|\n",
       "| 6 |  6 | 0 | 3 | Moran, Mr. James              | <!----> | 0 | 0 | 330877 |  8.4583 | <!----> | Q | Man   | NA |\n",
       "| 18 | 18 | 1 | 0 | Williams, Mr. Charles Eugene  | <!----> | 0 | 0 | 244373 | 13.0000 | <!----> | S | Man   | NA |\n",
       "| 20 | 20 | 1 | 3 | Masselmani, Mrs. Fatima       | <!----> | 0 | 0 | 2649   |  7.2250 | <!----> | C | Woman | NA |\n",
       "| 27 | 27 | 0 | 3 | Emir, Mr. Farred Chehab       | <!----> | 0 | 0 | 2631   |  7.2250 | <!----> | C | Man   | NA |\n",
       "| 29 | 29 | 1 | 3 | O'Dwyer, Miss. Ellen \"Nellie\" | <!----> | 0 | 0 | 330959 |  7.8792 | <!----> | Q | Woman | NA |\n",
       "| 30 | 30 | 0 | 3 | Todoroff, Mr. Lalio           | <!----> | 0 | 0 | 349216 |  7.8958 | <!----> | S | Man   | NA |\n",
       "\n"
      ],
      "text/plain": [
       "   PassengerId Survived Pclass Name                          Age SibSp Parch\n",
       "6   6          0        3      Moran, Mr. James                  0     0    \n",
       "18 18          1        0      Williams, Mr. Charles Eugene      0     0    \n",
       "20 20          1        3      Masselmani, Mrs. Fatima           0     0    \n",
       "27 27          0        3      Emir, Mr. Farred Chehab           0     0    \n",
       "29 29          1        3      O'Dwyer, Miss. Ellen \"Nellie\"     0     0    \n",
       "30 30          0        3      Todoroff, Mr. Lalio               0     0    \n",
       "   Ticket Fare    Cabin Embarked Sex   AgeNumeric\n",
       "6  330877  8.4583       Q        Man   NA        \n",
       "18 244373 13.0000       S        Man   NA        \n",
       "20 2649    7.2250       C        Woman NA        \n",
       "27 2631    7.2250       C        Man   NA        \n",
       "29 330959  7.8792       Q        Woman NA        \n",
       "30 349216  7.8958       S        Man   NA        "
      ]
     },
     "metadata": {},
     "output_type": "display_data"
    },
    {
     "name": "stdout",
     "output_type": "stream",
     "text": [
      "[1] \"Número de instancias con null values: 180\"\n"
     ]
    }
   ],
   "source": [
    "# Instancias sin edad\n",
    "head(myTitanicDataSet[is.na(myTitanicDataSet$AgeNumeric),])\n",
    "print(\n",
    "    paste0(\n",
    "        \"Número de instancias con null values: \"\n",
    "        , nrow(myTitanicDataSet[is.na(myTitanicDataSet$AgeNumeric),])\n",
    "    )\n",
    ")"
   ]
  },
  {
   "cell_type": "markdown",
   "metadata": {},
   "source": [
    "Apreciamos cómo inicialmente teníamos 177 instancias con valores nulos y tras la transformación hemos perdido 3 instancias más. Exploramos el motivo: "
   ]
  },
  {
   "cell_type": "code",
   "execution_count": 14,
   "metadata": {},
   "outputs": [
    {
     "data": {
      "text/plain": [
       "   Min. 1st Qu.  Median    Mean 3rd Qu.    Max.    NA's \n",
       "   0.42   20.25   28.00   29.74   38.00   80.00     180 "
      ]
     },
     "metadata": {},
     "output_type": "display_data"
    }
   ],
   "source": [
    "summary(myTitanicDataSet$AgeNumeric)"
   ]
  },
  {
   "cell_type": "code",
   "execution_count": 15,
   "metadata": {},
   "outputs": [
    {
     "data": {
      "text/html": [
       "<table>\n",
       "<caption>A data.frame: 6 × 13</caption>\n",
       "<thead>\n",
       "\t<tr><th></th><th scope=col>PassengerId</th><th scope=col>Survived</th><th scope=col>Pclass</th><th scope=col>Name</th><th scope=col>Age</th><th scope=col>SibSp</th><th scope=col>Parch</th><th scope=col>Ticket</th><th scope=col>Fare</th><th scope=col>Cabin</th><th scope=col>Embarked</th><th scope=col>Sex</th><th scope=col>AgeNumeric</th></tr>\n",
       "\t<tr><th></th><th scope=col>&lt;int&gt;</th><th scope=col>&lt;int&gt;</th><th scope=col>&lt;int&gt;</th><th scope=col>&lt;chr&gt;</th><th scope=col>&lt;chr&gt;</th><th scope=col>&lt;int&gt;</th><th scope=col>&lt;int&gt;</th><th scope=col>&lt;chr&gt;</th><th scope=col>&lt;dbl&gt;</th><th scope=col>&lt;chr&gt;</th><th scope=col>&lt;chr&gt;</th><th scope=col>&lt;chr&gt;</th><th scope=col>&lt;dbl&gt;</th></tr>\n",
       "</thead>\n",
       "<tbody>\n",
       "\t<tr><th scope=row>1</th><td>149</td><td>0</td><td>2</td><td>Navratil, Mr. Michel (\"Louis M Hoffman\")</td><td>36,5</td><td>0</td><td>2</td><td>230080</td><td>26.0000</td><td>F2</td><td>S</td><td>Man  </td><td>NA</td></tr>\n",
       "\t<tr><th scope=row>2</th><td>297</td><td>0</td><td>3</td><td>Hanna, Mr. Mansour                      </td><td>23,5</td><td>0</td><td>0</td><td>2693  </td><td> 7.2292</td><td>  </td><td>C</td><td>Man  </td><td>NA</td></tr>\n",
       "\t<tr><th scope=row>3</th><td>470</td><td>1</td><td>3</td><td>Baclini, Miss. Helene Barbara           </td><td>0,75</td><td>2</td><td>1</td><td>2666  </td><td>19.2583</td><td>  </td><td>C</td><td>Woman</td><td>NA</td></tr>\n",
       "\t<tr><th scope=row>4</th><td>  6</td><td>0</td><td>3</td><td>Moran, Mr. James                        </td><td>    </td><td>0</td><td>0</td><td>330877</td><td> 8.4583</td><td>  </td><td>Q</td><td>Man  </td><td>NA</td></tr>\n",
       "\t<tr><th scope=row>5</th><td> 18</td><td>1</td><td>0</td><td>Williams, Mr. Charles Eugene            </td><td>    </td><td>0</td><td>0</td><td>244373</td><td>13.0000</td><td>  </td><td>S</td><td>Man  </td><td>NA</td></tr>\n",
       "\t<tr><th scope=row>6</th><td> 20</td><td>1</td><td>3</td><td>Masselmani, Mrs. Fatima                 </td><td>    </td><td>0</td><td>0</td><td>2649  </td><td> 7.2250</td><td>  </td><td>C</td><td>Woman</td><td>NA</td></tr>\n",
       "</tbody>\n",
       "</table>\n"
      ],
      "text/latex": [
       "A data.frame: 6 × 13\n",
       "\\begin{tabular}{r|lllllllllllll}\n",
       "  & PassengerId & Survived & Pclass & Name & Age & SibSp & Parch & Ticket & Fare & Cabin & Embarked & Sex & AgeNumeric\\\\\n",
       "  & <int> & <int> & <int> & <chr> & <chr> & <int> & <int> & <chr> & <dbl> & <chr> & <chr> & <chr> & <dbl>\\\\\n",
       "\\hline\n",
       "\t1 & 149 & 0 & 2 & Navratil, Mr. Michel (\"Louis M Hoffman\") & 36,5 & 0 & 2 & 230080 & 26.0000 & F2 & S & Man   & NA\\\\\n",
       "\t2 & 297 & 0 & 3 & Hanna, Mr. Mansour                       & 23,5 & 0 & 0 & 2693   &  7.2292 &    & C & Man   & NA\\\\\n",
       "\t3 & 470 & 1 & 3 & Baclini, Miss. Helene Barbara            & 0,75 & 2 & 1 & 2666   & 19.2583 &    & C & Woman & NA\\\\\n",
       "\t4 &   6 & 0 & 3 & Moran, Mr. James                         &      & 0 & 0 & 330877 &  8.4583 &    & Q & Man   & NA\\\\\n",
       "\t5 &  18 & 1 & 0 & Williams, Mr. Charles Eugene             &      & 0 & 0 & 244373 & 13.0000 &    & S & Man   & NA\\\\\n",
       "\t6 &  20 & 1 & 3 & Masselmani, Mrs. Fatima                  &      & 0 & 0 & 2649   &  7.2250 &    & C & Woman & NA\\\\\n",
       "\\end{tabular}\n"
      ],
      "text/markdown": [
       "\n",
       "A data.frame: 6 × 13\n",
       "\n",
       "| <!--/--> | PassengerId &lt;int&gt; | Survived &lt;int&gt; | Pclass &lt;int&gt; | Name &lt;chr&gt; | Age &lt;chr&gt; | SibSp &lt;int&gt; | Parch &lt;int&gt; | Ticket &lt;chr&gt; | Fare &lt;dbl&gt; | Cabin &lt;chr&gt; | Embarked &lt;chr&gt; | Sex &lt;chr&gt; | AgeNumeric &lt;dbl&gt; |\n",
       "|---|---|---|---|---|---|---|---|---|---|---|---|---|---|\n",
       "| 1 | 149 | 0 | 2 | Navratil, Mr. Michel (\"Louis M Hoffman\") | 36,5 | 0 | 2 | 230080 | 26.0000 | F2 | S | Man   | NA |\n",
       "| 2 | 297 | 0 | 3 | Hanna, Mr. Mansour                       | 23,5 | 0 | 0 | 2693   |  7.2292 | <!----> | C | Man   | NA |\n",
       "| 3 | 470 | 1 | 3 | Baclini, Miss. Helene Barbara            | 0,75 | 2 | 1 | 2666   | 19.2583 | <!----> | C | Woman | NA |\n",
       "| 4 |   6 | 0 | 3 | Moran, Mr. James                         | <!----> | 0 | 0 | 330877 |  8.4583 | <!----> | Q | Man   | NA |\n",
       "| 5 |  18 | 1 | 0 | Williams, Mr. Charles Eugene             | <!----> | 0 | 0 | 244373 | 13.0000 | <!----> | S | Man   | NA |\n",
       "| 6 |  20 | 1 | 3 | Masselmani, Mrs. Fatima                  | <!----> | 0 | 0 | 2649   |  7.2250 | <!----> | C | Woman | NA |\n",
       "\n"
      ],
      "text/plain": [
       "  PassengerId Survived Pclass Name                                     Age \n",
       "1 149         0        2      Navratil, Mr. Michel (\"Louis M Hoffman\") 36,5\n",
       "2 297         0        3      Hanna, Mr. Mansour                       23,5\n",
       "3 470         1        3      Baclini, Miss. Helene Barbara            0,75\n",
       "4   6         0        3      Moran, Mr. James                             \n",
       "5  18         1        0      Williams, Mr. Charles Eugene                 \n",
       "6  20         1        3      Masselmani, Mrs. Fatima                      \n",
       "  SibSp Parch Ticket Fare    Cabin Embarked Sex   AgeNumeric\n",
       "1 0     2     230080 26.0000 F2    S        Man   NA        \n",
       "2 0     0     2693    7.2292       C        Man   NA        \n",
       "3 2     1     2666   19.2583       C        Woman NA        \n",
       "4 0     0     330877  8.4583       Q        Man   NA        \n",
       "5 0     0     244373 13.0000       S        Man   NA        \n",
       "6 0     0     2649    7.2250       C        Woman NA        "
      ]
     },
     "metadata": {},
     "output_type": "display_data"
    }
   ],
   "source": [
    "# Filtramos por las instancias con NA values y ordenamos los valores por la columna Age para visualizar primero las instancias con valor no nulo\n",
    "head(myTitanicDataSet[is.na(myTitanicDataSet$AgeNumeric),] %>% \n",
    "    arrange(desc(Age)))"
   ]
  },
  {
   "cell_type": "markdown",
   "metadata": {},
   "source": [
    "Vemos cómo en realidad hay 3 instancias que deberían ser edades pero por cuestión de formato (Uso de , en vez de .) han sido ignoradas. Procedemos a sustituir las comas por puntos y repetimos el proceso utilizando al función gsub:"
   ]
  },
  {
   "cell_type": "code",
   "execution_count": 16,
   "metadata": {},
   "outputs": [
    {
     "data": {
      "text/html": [
       "<table>\n",
       "<caption>A data.frame: 6 × 13</caption>\n",
       "<thead>\n",
       "\t<tr><th></th><th scope=col>PassengerId</th><th scope=col>Survived</th><th scope=col>Pclass</th><th scope=col>Name</th><th scope=col>Age</th><th scope=col>SibSp</th><th scope=col>Parch</th><th scope=col>Ticket</th><th scope=col>Fare</th><th scope=col>Cabin</th><th scope=col>Embarked</th><th scope=col>Sex</th><th scope=col>AgeNumeric</th></tr>\n",
       "\t<tr><th></th><th scope=col>&lt;int&gt;</th><th scope=col>&lt;int&gt;</th><th scope=col>&lt;int&gt;</th><th scope=col>&lt;chr&gt;</th><th scope=col>&lt;chr&gt;</th><th scope=col>&lt;int&gt;</th><th scope=col>&lt;int&gt;</th><th scope=col>&lt;chr&gt;</th><th scope=col>&lt;dbl&gt;</th><th scope=col>&lt;chr&gt;</th><th scope=col>&lt;chr&gt;</th><th scope=col>&lt;chr&gt;</th><th scope=col>&lt;dbl&gt;</th></tr>\n",
       "</thead>\n",
       "<tbody>\n",
       "\t<tr><th scope=row>1</th><td>1</td><td>0</td><td>3</td><td>Braund, Mr. Owen Harris                            </td><td>22</td><td>1</td><td>0</td><td>A/5 21171       </td><td> 7.2500</td><td>    </td><td>S</td><td>Man  </td><td>22</td></tr>\n",
       "\t<tr><th scope=row>2</th><td>2</td><td>1</td><td>1</td><td>Cumings, Mrs. John Bradley (Florence Briggs Thayer)</td><td>38</td><td>1</td><td>0</td><td>PC 17599        </td><td>71.2833</td><td>C85 </td><td>C</td><td>Woman</td><td>38</td></tr>\n",
       "\t<tr><th scope=row>3</th><td>3</td><td>1</td><td>3</td><td>Heikkinen, Miss. Laina                             </td><td>26</td><td>0</td><td>0</td><td>STON/O2. 3101282</td><td> 7.9250</td><td>    </td><td>S</td><td>Woman</td><td>26</td></tr>\n",
       "\t<tr><th scope=row>4</th><td>4</td><td>1</td><td>1</td><td>Futrelle, Mrs. Jacques Heath (Lily May Peel)       </td><td>35</td><td>1</td><td>0</td><td>113803          </td><td>53.1000</td><td>C123</td><td>S</td><td>Woman</td><td>35</td></tr>\n",
       "\t<tr><th scope=row>5</th><td>5</td><td>0</td><td>3</td><td>Allen, Mr. William Henry                           </td><td>35</td><td>0</td><td>0</td><td>373450          </td><td> 8.0500</td><td>    </td><td>S</td><td>Man  </td><td>35</td></tr>\n",
       "\t<tr><th scope=row>6</th><td>6</td><td>0</td><td>3</td><td>Moran, Mr. James                                   </td><td>  </td><td>0</td><td>0</td><td>330877          </td><td> 8.4583</td><td>    </td><td>Q</td><td>Man  </td><td>NA</td></tr>\n",
       "</tbody>\n",
       "</table>\n"
      ],
      "text/latex": [
       "A data.frame: 6 × 13\n",
       "\\begin{tabular}{r|lllllllllllll}\n",
       "  & PassengerId & Survived & Pclass & Name & Age & SibSp & Parch & Ticket & Fare & Cabin & Embarked & Sex & AgeNumeric\\\\\n",
       "  & <int> & <int> & <int> & <chr> & <chr> & <int> & <int> & <chr> & <dbl> & <chr> & <chr> & <chr> & <dbl>\\\\\n",
       "\\hline\n",
       "\t1 & 1 & 0 & 3 & Braund, Mr. Owen Harris                             & 22 & 1 & 0 & A/5 21171        &  7.2500 &      & S & Man   & 22\\\\\n",
       "\t2 & 2 & 1 & 1 & Cumings, Mrs. John Bradley (Florence Briggs Thayer) & 38 & 1 & 0 & PC 17599         & 71.2833 & C85  & C & Woman & 38\\\\\n",
       "\t3 & 3 & 1 & 3 & Heikkinen, Miss. Laina                              & 26 & 0 & 0 & STON/O2. 3101282 &  7.9250 &      & S & Woman & 26\\\\\n",
       "\t4 & 4 & 1 & 1 & Futrelle, Mrs. Jacques Heath (Lily May Peel)        & 35 & 1 & 0 & 113803           & 53.1000 & C123 & S & Woman & 35\\\\\n",
       "\t5 & 5 & 0 & 3 & Allen, Mr. William Henry                            & 35 & 0 & 0 & 373450           &  8.0500 &      & S & Man   & 35\\\\\n",
       "\t6 & 6 & 0 & 3 & Moran, Mr. James                                    &    & 0 & 0 & 330877           &  8.4583 &      & Q & Man   & NA\\\\\n",
       "\\end{tabular}\n"
      ],
      "text/markdown": [
       "\n",
       "A data.frame: 6 × 13\n",
       "\n",
       "| <!--/--> | PassengerId &lt;int&gt; | Survived &lt;int&gt; | Pclass &lt;int&gt; | Name &lt;chr&gt; | Age &lt;chr&gt; | SibSp &lt;int&gt; | Parch &lt;int&gt; | Ticket &lt;chr&gt; | Fare &lt;dbl&gt; | Cabin &lt;chr&gt; | Embarked &lt;chr&gt; | Sex &lt;chr&gt; | AgeNumeric &lt;dbl&gt; |\n",
       "|---|---|---|---|---|---|---|---|---|---|---|---|---|---|\n",
       "| 1 | 1 | 0 | 3 | Braund, Mr. Owen Harris                             | 22 | 1 | 0 | A/5 21171        |  7.2500 | <!----> | S | Man   | 22 |\n",
       "| 2 | 2 | 1 | 1 | Cumings, Mrs. John Bradley (Florence Briggs Thayer) | 38 | 1 | 0 | PC 17599         | 71.2833 | C85  | C | Woman | 38 |\n",
       "| 3 | 3 | 1 | 3 | Heikkinen, Miss. Laina                              | 26 | 0 | 0 | STON/O2. 3101282 |  7.9250 | <!----> | S | Woman | 26 |\n",
       "| 4 | 4 | 1 | 1 | Futrelle, Mrs. Jacques Heath (Lily May Peel)        | 35 | 1 | 0 | 113803           | 53.1000 | C123 | S | Woman | 35 |\n",
       "| 5 | 5 | 0 | 3 | Allen, Mr. William Henry                            | 35 | 0 | 0 | 373450           |  8.0500 | <!----> | S | Man   | 35 |\n",
       "| 6 | 6 | 0 | 3 | Moran, Mr. James                                    | <!----> | 0 | 0 | 330877           |  8.4583 | <!----> | Q | Man   | NA |\n",
       "\n"
      ],
      "text/plain": [
       "  PassengerId Survived Pclass\n",
       "1 1           0        3     \n",
       "2 2           1        1     \n",
       "3 3           1        3     \n",
       "4 4           1        1     \n",
       "5 5           0        3     \n",
       "6 6           0        3     \n",
       "  Name                                                Age SibSp Parch\n",
       "1 Braund, Mr. Owen Harris                             22  1     0    \n",
       "2 Cumings, Mrs. John Bradley (Florence Briggs Thayer) 38  1     0    \n",
       "3 Heikkinen, Miss. Laina                              26  0     0    \n",
       "4 Futrelle, Mrs. Jacques Heath (Lily May Peel)        35  1     0    \n",
       "5 Allen, Mr. William Henry                            35  0     0    \n",
       "6 Moran, Mr. James                                        0     0    \n",
       "  Ticket           Fare    Cabin Embarked Sex   AgeNumeric\n",
       "1 A/5 21171         7.2500       S        Man   22        \n",
       "2 PC 17599         71.2833 C85   C        Woman 38        \n",
       "3 STON/O2. 3101282  7.9250       S        Woman 26        \n",
       "4 113803           53.1000 C123  S        Woman 35        \n",
       "5 373450            8.0500       S        Man   35        \n",
       "6 330877            8.4583       Q        Man   NA        "
      ]
     },
     "metadata": {},
     "output_type": "display_data"
    },
    {
     "name": "stdout",
     "output_type": "stream",
     "text": [
      "[1] \"Summary:\"\n"
     ]
    },
    {
     "data": {
      "text/plain": [
       "   Min. 1st Qu.  Median    Mean 3rd Qu.    Max.    NA's \n",
       "   0.42   20.12   28.00   29.70   38.00   80.00     177 "
      ]
     },
     "metadata": {},
     "output_type": "display_data"
    }
   ],
   "source": [
    "# Cambiamos el signo decimal:\n",
    "myTitanicDataSet$Age = gsub(',', '.', myTitanicDataSet$Age)\n",
    "# Volvemos a calcular la columna AgeNumeric\n",
    "myTitanicDataSet$AgeNumeric = as.numeric(myTitanicDataSet$Age)\n",
    "head(myTitanicDataSet)\n",
    "# Función Summary:\n",
    "print(\"Summary:\")\n",
    "summary(myTitanicDataSet$AgeNumeric)"
   ]
  },
  {
   "cell_type": "markdown",
   "metadata": {},
   "source": [
    "<b>5. Distribución de datos:</b> Parte de la preparación de datos es comprender la distribución o \"difusión\" de los datos y en R puede averiguarlo trazando los datos. Usaré \"Fare\" como ejemplo para hacer un estudio de boxplot y de histograma"
   ]
  },
  {
   "cell_type": "code",
   "execution_count": 17,
   "metadata": {},
   "outputs": [
    {
     "data": {
      "image/png": "[encoded data removed]",
      "text/plain": [
       "Plot with title \"Distribución del valor de ticket\""
      ]
     },
     "metadata": {
      "image/png": {
       "height": 360,
       "width": 600
      }
     },
     "output_type": "display_data"
    }
   ],
   "source": [
    "hist(myTitanicDataSet$Fare,\n",
    "     main = \"Distribución del valor de ticket\",\n",
    "     xlab = \"Valor de ticket\",\n",
    "     col = rgb(1,0,0,0.2),\n",
    "     border = \"#D51C73\",\n",
    "     prob = T, #En este punto indicamos que buscamos conocer la distribución de probablidades y no la de frecuencias\n",
    "     breaks = seq(-50,1300,25)\n",
    "    )"
   ]
  },
  {
   "cell_type": "code",
   "execution_count": 18,
   "metadata": {},
   "outputs": [
    {
     "data": {
      "image/png": "[encoded data removed]",
      "text/plain": [
       "Plot with title \"Fare Boxpolot\""
      ]
     },
     "metadata": {
      "image/png": {
       "height": 360,
       "width": 600
      }
     },
     "output_type": "display_data"
    }
   ],
   "source": [
    "boxplot(myTitanicDataSet$Fare\n",
    "        ,ylab='Fare'\n",
    "        ,main='Fare Boxpolot')\n",
    "abline(h=mean(myTitanicDataSet$Fare\n",
    "              ,na.rm=T))"
   ]
  },
  {
   "cell_type": "markdown",
   "metadata": {},
   "source": [
    "Podemos apreciar claramente que hay dos tipos de instancias que podemos catalogar como outlayers:\n",
    "\n",
    "- Valores de fare negativos: Es esto posible?\n",
    "- Valores de fare muy altos: Hay 2 instancias con un valor demasiado alto\n",
    "\n",
    "En este caso procedemos a retirarlos dado que hay muy pocas instancias con estos valores y rompen completamente la visualización"
   ]
  },
  {
   "cell_type": "code",
   "execution_count": 19,
   "metadata": {},
   "outputs": [
    {
     "name": "stdout",
     "output_type": "stream",
     "text": [
      "[1] \"Summary de Fare:\"\n"
     ]
    },
    {
     "data": {
      "text/plain": [
       "   Min. 1st Qu.  Median    Mean 3rd Qu.    Max. \n",
       "  4.013   7.925  14.500  31.195  31.275 263.000 "
      ]
     },
     "metadata": {},
     "output_type": "display_data"
    },
    {
     "data": {
      "image/png": "[encoded data removed]",
      "text/plain": [
       "Plot with title \"Distribución del valor de ticket\""
      ]
     },
     "metadata": {
      "image/png": {
       "height": 360,
       "width": 600
      }
     },
     "output_type": "display_data"
    },
    {
     "data": {
      "image/png": "[encoded data removed]",
      "text/plain": [
       "Plot with title \"Fare Boxpolot\""
      ]
     },
     "metadata": {
      "image/png": {
       "height": 360,
       "width": 600
      }
     },
     "output_type": "display_data"
    }
   ],
   "source": [
    "# Primero filtramos:\n",
    "myTitanicDataSetFiltrado <- subset(myTitanicDataSet, Fare > 0)\n",
    "myTitanicDataSetFiltrado <- subset(myTitanicDataSetFiltrado, Fare < 300)\n",
    "\n",
    "# Summary\n",
    "print(\"Summary de Fare:\")\n",
    "summary(myTitanicDataSetFiltrado$Fare)\n",
    "\n",
    "# Histograma\n",
    "hist(myTitanicDataSetFiltrado$Fare,\n",
    "     main = \"Distribución del valor de ticket\",\n",
    "     xlab = \"Valor de ticket\",\n",
    "     col = rgb(1,0,0,0.2),\n",
    "     border = \"#D51C73\",\n",
    "     prob = T, #En este punto indicamos que buscamos conocer la distribución de probablidades y no la de frecuencias\n",
    "     breaks = seq(0,300,10)\n",
    "    )\n",
    "\n",
    "\n",
    "# Boxplot\n",
    "boxplot(myTitanicDataSetFiltrado$Fare\n",
    "        ,ylab='Fare'\n",
    "        ,main='Fare Boxpolot')\n",
    "abline(h=mean(myTitanicDataSet$Fare\n",
    "              ,na.rm=T))"
   ]
  },
  {
   "cell_type": "code",
   "execution_count": 20,
   "metadata": {},
   "outputs": [
    {
     "data": {
      "image/png": "[encoded data removed]",
      "text/plain": [
       "Plot with title \"Distribución de superviviencia en base al precio del billete\""
      ]
     },
     "metadata": {
      "image/png": {
       "height": 360,
       "width": 600
      }
     },
     "output_type": "display_data"
    }
   ],
   "source": [
    "# Aproximación lineal de las curvas de densidad\n",
    "hist(myTitanicDataSetFiltrado[myTitanicDataSet$Survived == 1,]$Fare\n",
    "     , col = rgb(0,0,1,0.2)\n",
    "     , prob = T #En este punto indicamos que buscamos conocer la distribución de probablidades y no la de frecuencias\n",
    "     , breaks = seq(0,300,15)\n",
    "     , main = \"Distribución de superviviencia en base al precio del billete\"\n",
    "     , xlab = \"Precio del Billete\",)\n",
    "\n",
    "hist(myTitanicDataSetFiltrado[myTitanicDataSet$Survived == 0,]$Fare\n",
    "     , col = rgb(1,0,0,0.2)\n",
    "     , prob = T #En este punto indicamos que buscamos conocer la distribución de probablidades y no la de frecuencias\n",
    "     , breaks = seq(0,300,15)\n",
    "     , add = T)\n",
    "\n",
    "# Añadimos una leyenda para entender cada distribución\n",
    "legend(\"topright\"\n",
    "       , c(\"Superviviente\", \"No Superviviente\")\n",
    "       , col = c(rgb(1,0,0), rgb(0,0,1))\n",
    "       , lwd=2)"
   ]
  },
  {
   "cell_type": "markdown",
   "metadata": {},
   "source": [
    "Si bien apreciamos una ligera diferencia en las distribuciones superiores nos encontramos con que a nivel medio hay una gran diferencia entre la probabilidad de supervivencia en función del precio del ticket:"
   ]
  },
  {
   "cell_type": "code",
   "execution_count": 39,
   "metadata": {},
   "outputs": [
    {
     "data": {
      "text/html": [
       "<table>\n",
       "<caption>A tibble: 2 × 4</caption>\n",
       "<thead>\n",
       "\t<tr><th scope=col>Survived</th><th scope=col>passengers</th><th scope=col>average_fare</th><th scope=col>median_fare</th></tr>\n",
       "\t<tr><th scope=col>&lt;int&gt;</th><th scope=col>&lt;int&gt;</th><th scope=col>&lt;dbl&gt;</th><th scope=col>&lt;dbl&gt;</th></tr>\n",
       "</thead>\n",
       "<tbody>\n",
       "\t<tr><td>0</td><td>531</td><td>22.77659</td><td>10.5</td></tr>\n",
       "\t<tr><td>1</td><td>338</td><td>44.42083</td><td>26.0</td></tr>\n",
       "</tbody>\n",
       "</table>\n"
      ],
      "text/latex": [
       "A tibble: 2 × 4\n",
       "\\begin{tabular}{llll}\n",
       " Survived & passengers & average\\_fare & median\\_fare\\\\\n",
       " <int> & <int> & <dbl> & <dbl>\\\\\n",
       "\\hline\n",
       "\t 0 & 531 & 22.77659 & 10.5\\\\\n",
       "\t 1 & 338 & 44.42083 & 26.0\\\\\n",
       "\\end{tabular}\n"
      ],
      "text/markdown": [
       "\n",
       "A tibble: 2 × 4\n",
       "\n",
       "| Survived &lt;int&gt; | passengers &lt;int&gt; | average_fare &lt;dbl&gt; | median_fare &lt;dbl&gt; |\n",
       "|---|---|---|---|\n",
       "| 0 | 531 | 22.77659 | 10.5 |\n",
       "| 1 | 338 | 44.42083 | 26.0 |\n",
       "\n"
      ],
      "text/plain": [
       "  Survived passengers average_fare median_fare\n",
       "1 0        531        22.77659     10.5       \n",
       "2 1        338        44.42083     26.0       "
      ]
     },
     "metadata": {},
     "output_type": "display_data"
    }
   ],
   "source": [
    "myTitanicDataSetFiltrado  %>% \n",
    "    group_by(Survived)  %>% \n",
    "    summarize(passengers = n(), average_fare = mean(Fare), median_fare = quantile(Fare, probs = 0.5))"
   ]
  },
  {
   "cell_type": "markdown",
   "metadata": {},
   "source": [
    "<b>6. Datos faltantes:</b> una gran parte de la preparación de datos se trata de valores perdidos en su conjunto de datos. Hay varios trucos que puede aplicar para manejar los valores faltantes que se enumeran a continuación:\n",
    "\n",
    "<b>1.</b> Puede eliminar los valores faltantes (solo si tiene una buena razón, por ejemplo, el número de valores desconocidos en una observación / fila es tan alto que los datos parecen inutilizables).\n",
    "\n",
    "<b>2.</b> Puede usar medidas de tendencia central (media, moda, mediana) para completar los valores faltantes. Debe pensar cuidadosamente sobre esto, ya que esto puede tener consecuencias indeseables para las variables con valores atípicos.\n",
    "\n",
    "<b>3.</b> Use similitud entre casos. Aquí puede agrupar observaciones relacionadas y luego usar las medidas de tendencia central para inferir los valores faltantes.\n",
    "\n",
    "<b>4.</b> Use ecuaciones para calcular valores perdidos basados en correlaciones. Un ejemplo de esto es usar la regresión lineal para inferir los valores faltantes de \"Fare\" en el conjunto de datos Titanic como se muestra en el siguiente ejemplo. El primer paso es identificar una columna que esté correlacionada con la que está intentando llenar. Como mostramos en el paso de correlación, \"Fare\" y \"Pclass\" están correlacionadas. Usaremos \"Pclass\" como nuestra variable independiente en el modelo de regresión de la siguiente manera:"
   ]
  },
  {
   "cell_type": "code",
   "execution_count": 22,
   "metadata": {},
   "outputs": [
    {
     "data": {
      "text/html": [
       "<table>\n",
       "<caption>A tibble: 5 × 4</caption>\n",
       "<thead>\n",
       "\t<tr><th scope=col>Pclass</th><th scope=col>passengers</th><th scope=col>average_fare</th><th scope=col>median_fare</th></tr>\n",
       "\t<tr><th scope=col>&lt;int&gt;</th><th scope=col>&lt;int&gt;</th><th scope=col>&lt;dbl&gt;</th><th scope=col>&lt;dbl&gt;</th></tr>\n",
       "</thead>\n",
       "<tbody>\n",
       "\t<tr><td> 0</td><td>  2</td><td>10.38750</td><td>10.38750</td></tr>\n",
       "\t<tr><td> 1</td><td>204</td><td>80.28480</td><td>61.67920</td></tr>\n",
       "\t<tr><td> 2</td><td>173</td><td>21.59735</td><td>15.75000</td></tr>\n",
       "\t<tr><td> 3</td><td>474</td><td>13.90316</td><td> 8.05000</td></tr>\n",
       "\t<tr><td>NA</td><td> 16</td><td>23.95599</td><td> 8.65835</td></tr>\n",
       "</tbody>\n",
       "</table>\n"
      ],
      "text/latex": [
       "A tibble: 5 × 4\n",
       "\\begin{tabular}{llll}\n",
       " Pclass & passengers & average\\_fare & median\\_fare\\\\\n",
       " <int> & <int> & <dbl> & <dbl>\\\\\n",
       "\\hline\n",
       "\t  0 &   2 & 10.38750 & 10.38750\\\\\n",
       "\t  1 & 204 & 80.28480 & 61.67920\\\\\n",
       "\t  2 & 173 & 21.59735 & 15.75000\\\\\n",
       "\t  3 & 474 & 13.90316 &  8.05000\\\\\n",
       "\t NA &  16 & 23.95599 &  8.65835\\\\\n",
       "\\end{tabular}\n"
      ],
      "text/markdown": [
       "\n",
       "A tibble: 5 × 4\n",
       "\n",
       "| Pclass &lt;int&gt; | passengers &lt;int&gt; | average_fare &lt;dbl&gt; | median_fare &lt;dbl&gt; |\n",
       "|---|---|---|---|\n",
       "|  0 |   2 | 10.38750 | 10.38750 |\n",
       "|  1 | 204 | 80.28480 | 61.67920 |\n",
       "|  2 | 173 | 21.59735 | 15.75000 |\n",
       "|  3 | 474 | 13.90316 |  8.05000 |\n",
       "| NA |  16 | 23.95599 |  8.65835 |\n",
       "\n"
      ],
      "text/plain": [
       "  Pclass passengers average_fare median_fare\n",
       "1  0       2        10.38750     10.38750   \n",
       "2  1     204        80.28480     61.67920   \n",
       "3  2     173        21.59735     15.75000   \n",
       "4  3     474        13.90316      8.05000   \n",
       "5 NA      16        23.95599      8.65835   "
      ]
     },
     "metadata": {},
     "output_type": "display_data"
    }
   ],
   "source": [
    "myTitanicDataSetFiltrado  %>% \n",
    "    group_by(Pclass)  %>% \n",
    "    summarize(passengers = n()\n",
    "              , average_fare = mean(Fare)\n",
    "              , median_fare = quantile(Fare, probs = 0.5))"
   ]
  },
  {
   "cell_type": "code",
   "execution_count": 23,
   "metadata": {},
   "outputs": [
    {
     "name": "stdout",
     "output_type": "stream",
     "text": [
      "\n",
      "Call:  glm(formula = Pclass ~ Fare, data = clean_fares)\n",
      "\n",
      "Coefficients:\n",
      "(Intercept)         Fare  \n",
      "    2.70834     -0.01246  \n",
      "\n",
      "Degrees of Freedom: 850 Total (i.e. Null);  849 Residual\n",
      "Null Deviance:\t    592.3 \n",
      "Residual Deviance: 364.8 \tAIC: 1700\n"
     ]
    },
    {
     "data": {
      "text/html": [
       "<dl class=dl-horizontal>\n",
       "\t<dt>(Intercept)</dt>\n",
       "\t\t<dd>2.70833887607969</dd>\n",
       "\t<dt>Fare</dt>\n",
       "\t\t<dd>-0.0124621646197273</dd>\n",
       "</dl>\n"
      ],
      "text/latex": [
       "\\begin{description*}\n",
       "\\item[(Intercept)] 2.70833887607969\n",
       "\\item[Fare] -0.0124621646197273\n",
       "\\end{description*}\n"
      ],
      "text/markdown": [
       "(Intercept)\n",
       ":   2.70833887607969Fare\n",
       ":   -0.0124621646197273\n",
       "\n"
      ],
      "text/plain": [
       "(Intercept)        Fare \n",
       " 2.70833888 -0.01246216 "
      ]
     },
     "metadata": {},
     "output_type": "display_data"
    }
   ],
   "source": [
    "# Generamos un modelo con las instancias con valores conocidos\n",
    "clean_fares <- myTitanicDataSetFiltrado[myTitanicDataSetFiltrado$Pclass %in% c(1, 2, 3),]\n",
    "\n",
    "l <- glm(formula = Pclass ~ Fare\n",
    "        , data = clean_fares)\n",
    "print(l)\n",
    "l$coefficients"
   ]
  },
  {
   "cell_type": "code",
   "execution_count": 24,
   "metadata": {},
   "outputs": [
    {
     "data": {
      "text/html": [
       "<table>\n",
       "<caption>A tibble: 5 × 2</caption>\n",
       "<thead>\n",
       "\t<tr><th scope=col>round.predict.l...0.</th><th scope=col>n()</th></tr>\n",
       "\t<tr><th scope=col>&lt;dbl&gt;</th><th scope=col>&lt;int&gt;</th></tr>\n",
       "</thead>\n",
       "<tbody>\n",
       "\t<tr><td>-1</td><td>  6</td></tr>\n",
       "\t<tr><td> 0</td><td> 11</td></tr>\n",
       "\t<tr><td> 1</td><td> 32</td></tr>\n",
       "\t<tr><td> 2</td><td>340</td></tr>\n",
       "\t<tr><td> 3</td><td>462</td></tr>\n",
       "</tbody>\n",
       "</table>\n"
      ],
      "text/latex": [
       "A tibble: 5 × 2\n",
       "\\begin{tabular}{ll}\n",
       " round.predict.l...0. & n()\\\\\n",
       " <dbl> & <int>\\\\\n",
       "\\hline\n",
       "\t -1 &   6\\\\\n",
       "\t  0 &  11\\\\\n",
       "\t  1 &  32\\\\\n",
       "\t  2 & 340\\\\\n",
       "\t  3 & 462\\\\\n",
       "\\end{tabular}\n"
      ],
      "text/markdown": [
       "\n",
       "A tibble: 5 × 2\n",
       "\n",
       "| round.predict.l...0. &lt;dbl&gt; | n() &lt;int&gt; |\n",
       "|---|---|\n",
       "| -1 |   6 |\n",
       "|  0 |  11 |\n",
       "|  1 |  32 |\n",
       "|  2 | 340 |\n",
       "|  3 | 462 |\n",
       "\n"
      ],
      "text/plain": [
       "  round.predict.l...0. n()\n",
       "1 -1                     6\n",
       "2  0                    11\n",
       "3  1                    32\n",
       "4  2                   340\n",
       "5  3                   462"
      ]
     },
     "metadata": {},
     "output_type": "display_data"
    }
   ],
   "source": [
    "# Model Predictions:\n",
    "data.frame(round(predict(l),0)) %>% \n",
    "    group_by(round.predict.l...0.) %>% \n",
    "    summarize(n())"
   ]
  },
  {
   "cell_type": "code",
   "execution_count": 25,
   "metadata": {},
   "outputs": [
    {
     "data": {
      "text/html": [
       "<table>\n",
       "<caption>A tibble: 3 × 2</caption>\n",
       "<thead>\n",
       "\t<tr><th scope=col>p</th><th scope=col>n()</th></tr>\n",
       "\t<tr><th scope=col>&lt;dbl&gt;</th><th scope=col>&lt;int&gt;</th></tr>\n",
       "</thead>\n",
       "<tbody>\n",
       "\t<tr><td>1</td><td> 49</td></tr>\n",
       "\t<tr><td>2</td><td>340</td></tr>\n",
       "\t<tr><td>3</td><td>462</td></tr>\n",
       "</tbody>\n",
       "</table>\n"
      ],
      "text/latex": [
       "A tibble: 3 × 2\n",
       "\\begin{tabular}{ll}\n",
       " p & n()\\\\\n",
       " <dbl> & <int>\\\\\n",
       "\\hline\n",
       "\t 1 &  49\\\\\n",
       "\t 2 & 340\\\\\n",
       "\t 3 & 462\\\\\n",
       "\\end{tabular}\n"
      ],
      "text/markdown": [
       "\n",
       "A tibble: 3 × 2\n",
       "\n",
       "| p &lt;dbl&gt; | n() &lt;int&gt; |\n",
       "|---|---|\n",
       "| 1 |  49 |\n",
       "| 2 | 340 |\n",
       "| 3 | 462 |\n",
       "\n"
      ],
      "text/plain": [
       "  p n()\n",
       "1 1  49\n",
       "2 2 340\n",
       "3 3 462"
      ]
     },
     "metadata": {},
     "output_type": "display_data"
    }
   ],
   "source": [
    "# Generamos una predicción de clases más correcta:\n",
    "p <- ifelse(round(predict(l),0)<1,1,round(predict(l),0))\n",
    "data.frame(p) %>% \n",
    "    group_by(p) %>% \n",
    "    summarize(n())"
   ]
  },
  {
   "cell_type": "code",
   "execution_count": 26,
   "metadata": {},
   "outputs": [
    {
     "name": "stderr",
     "output_type": "stream",
     "text": [
      "Loading required package: ggplot2\n",
      "\n",
      "Warning message:\n",
      "\"package 'ggplot2' was built under R version 3.6.3\"\n",
      "\n",
      "Attaching package: 'caret'\n",
      "\n",
      "\n",
      "The following object is masked from 'package:vegan':\n",
      "\n",
      "    tolerance\n",
      "\n",
      "\n"
     ]
    },
    {
     "data": {
      "text/plain": [
       "Confusion Matrix and Statistics\n",
       "\n",
       "          Reference\n",
       "Prediction   1   2   3\n",
       "         1  49   0   0\n",
       "         2 155  85 100\n",
       "         3   0  88 374\n",
       "\n",
       "Overall Statistics\n",
       "                                          \n",
       "               Accuracy : 0.5969          \n",
       "                 95% CI : (0.5631, 0.6301)\n",
       "    No Information Rate : 0.557           \n",
       "    P-Value [Acc > NIR] : 0.01021         \n",
       "                                          \n",
       "                  Kappa : 0.3311          \n",
       "                                          \n",
       " Mcnemar's Test P-Value : NA              \n",
       "\n",
       "Statistics by Class:\n",
       "\n",
       "                     Class: 1 Class: 2 Class: 3\n",
       "Sensitivity           0.24020  0.49133   0.7890\n",
       "Specificity           1.00000  0.62389   0.7666\n",
       "Pos Pred Value        1.00000  0.25000   0.8095\n",
       "Neg Pred Value        0.80673  0.82779   0.7429\n",
       "Prevalence            0.23972  0.20329   0.5570\n",
       "Detection Rate        0.05758  0.09988   0.4395\n",
       "Detection Prevalence  0.05758  0.39953   0.5429\n",
       "Balanced Accuracy     0.62010  0.55761   0.7778"
      ]
     },
     "metadata": {},
     "output_type": "display_data"
    }
   ],
   "source": [
    "library(caret)\n",
    "confusionMatrix(\n",
    "    as.factor(p)\n",
    "    ,as.factor(clean_fares$Pclass))"
   ]
  },
  {
   "cell_type": "code",
   "execution_count": 27,
   "metadata": {},
   "outputs": [
    {
     "data": {
      "text/html": [
       "<table>\n",
       "<caption>A data.frame: 6 × 13</caption>\n",
       "<thead>\n",
       "\t<tr><th></th><th scope=col>PassengerId</th><th scope=col>Survived</th><th scope=col>Pclass</th><th scope=col>Name</th><th scope=col>Age</th><th scope=col>SibSp</th><th scope=col>Parch</th><th scope=col>Ticket</th><th scope=col>Fare</th><th scope=col>Cabin</th><th scope=col>Embarked</th><th scope=col>Sex</th><th scope=col>AgeNumeric</th></tr>\n",
       "\t<tr><th></th><th scope=col>&lt;int&gt;</th><th scope=col>&lt;int&gt;</th><th scope=col>&lt;int&gt;</th><th scope=col>&lt;chr&gt;</th><th scope=col>&lt;chr&gt;</th><th scope=col>&lt;int&gt;</th><th scope=col>&lt;int&gt;</th><th scope=col>&lt;chr&gt;</th><th scope=col>&lt;dbl&gt;</th><th scope=col>&lt;chr&gt;</th><th scope=col>&lt;chr&gt;</th><th scope=col>&lt;chr&gt;</th><th scope=col>&lt;dbl&gt;</th></tr>\n",
       "</thead>\n",
       "<tbody>\n",
       "\t<tr><th scope=row>18</th><td> 18</td><td>1</td><td> 0</td><td>Williams, Mr. Charles Eugene                  </td><td>  </td><td>0</td><td>0</td><td>244373   </td><td>13.0000</td><td>    </td><td>S</td><td>Man  </td><td>NA</td></tr>\n",
       "\t<tr><th scope=row>23</th><td> 23</td><td>1</td><td>NA</td><td>McGowan, Miss. Anna \"Annie\"                   </td><td>15</td><td>0</td><td>0</td><td>330923   </td><td> 8.0292</td><td>    </td><td>Q</td><td>Woman</td><td>15</td></tr>\n",
       "\t<tr><th scope=row>45</th><td> 45</td><td>1</td><td>NA</td><td>Devaney, Miss. Margaret Delia                 </td><td>19</td><td>0</td><td>0</td><td>330958   </td><td> 7.8792</td><td>    </td><td>Q</td><td>Woman</td><td>19</td></tr>\n",
       "\t<tr><th scope=row>104</th><td>104</td><td>0</td><td>NA</td><td>Johansson, Mr. Gustaf Joel                    </td><td>33</td><td>0</td><td>0</td><td>7540     </td><td> 8.6542</td><td>    </td><td>S</td><td>Man  </td><td>33</td></tr>\n",
       "\t<tr><th scope=row>111</th><td>111</td><td>0</td><td>NA</td><td>Porter, Mr. Walter Chamberlain                </td><td>47</td><td>0</td><td>0</td><td>110465   </td><td>52.0000</td><td>C110</td><td>S</td><td>Man  </td><td>47</td></tr>\n",
       "\t<tr><th scope=row>133</th><td>133</td><td>0</td><td>NA</td><td>Robins, Mrs. Alexander A (Grace Charity Laury)</td><td>47</td><td>1</td><td>0</td><td>A/5. 3337</td><td>14.5000</td><td>    </td><td>S</td><td>Woman</td><td>47</td></tr>\n",
       "</tbody>\n",
       "</table>\n"
      ],
      "text/latex": [
       "A data.frame: 6 × 13\n",
       "\\begin{tabular}{r|lllllllllllll}\n",
       "  & PassengerId & Survived & Pclass & Name & Age & SibSp & Parch & Ticket & Fare & Cabin & Embarked & Sex & AgeNumeric\\\\\n",
       "  & <int> & <int> & <int> & <chr> & <chr> & <int> & <int> & <chr> & <dbl> & <chr> & <chr> & <chr> & <dbl>\\\\\n",
       "\\hline\n",
       "\t18 &  18 & 1 &  0 & Williams, Mr. Charles Eugene                   &    & 0 & 0 & 244373    & 13.0000 &      & S & Man   & NA\\\\\n",
       "\t23 &  23 & 1 & NA & McGowan, Miss. Anna \"Annie\"                    & 15 & 0 & 0 & 330923    &  8.0292 &      & Q & Woman & 15\\\\\n",
       "\t45 &  45 & 1 & NA & Devaney, Miss. Margaret Delia                  & 19 & 0 & 0 & 330958    &  7.8792 &      & Q & Woman & 19\\\\\n",
       "\t104 & 104 & 0 & NA & Johansson, Mr. Gustaf Joel                     & 33 & 0 & 0 & 7540      &  8.6542 &      & S & Man   & 33\\\\\n",
       "\t111 & 111 & 0 & NA & Porter, Mr. Walter Chamberlain                 & 47 & 0 & 0 & 110465    & 52.0000 & C110 & S & Man   & 47\\\\\n",
       "\t133 & 133 & 0 & NA & Robins, Mrs. Alexander A (Grace Charity Laury) & 47 & 1 & 0 & A/5. 3337 & 14.5000 &      & S & Woman & 47\\\\\n",
       "\\end{tabular}\n"
      ],
      "text/markdown": [
       "\n",
       "A data.frame: 6 × 13\n",
       "\n",
       "| <!--/--> | PassengerId &lt;int&gt; | Survived &lt;int&gt; | Pclass &lt;int&gt; | Name &lt;chr&gt; | Age &lt;chr&gt; | SibSp &lt;int&gt; | Parch &lt;int&gt; | Ticket &lt;chr&gt; | Fare &lt;dbl&gt; | Cabin &lt;chr&gt; | Embarked &lt;chr&gt; | Sex &lt;chr&gt; | AgeNumeric &lt;dbl&gt; |\n",
       "|---|---|---|---|---|---|---|---|---|---|---|---|---|---|\n",
       "| 18 |  18 | 1 |  0 | Williams, Mr. Charles Eugene                   | <!----> | 0 | 0 | 244373    | 13.0000 | <!----> | S | Man   | NA |\n",
       "| 23 |  23 | 1 | NA | McGowan, Miss. Anna \"Annie\"                    | 15 | 0 | 0 | 330923    |  8.0292 | <!----> | Q | Woman | 15 |\n",
       "| 45 |  45 | 1 | NA | Devaney, Miss. Margaret Delia                  | 19 | 0 | 0 | 330958    |  7.8792 | <!----> | Q | Woman | 19 |\n",
       "| 104 | 104 | 0 | NA | Johansson, Mr. Gustaf Joel                     | 33 | 0 | 0 | 7540      |  8.6542 | <!----> | S | Man   | 33 |\n",
       "| 111 | 111 | 0 | NA | Porter, Mr. Walter Chamberlain                 | 47 | 0 | 0 | 110465    | 52.0000 | C110 | S | Man   | 47 |\n",
       "| 133 | 133 | 0 | NA | Robins, Mrs. Alexander A (Grace Charity Laury) | 47 | 1 | 0 | A/5. 3337 | 14.5000 | <!----> | S | Woman | 47 |\n",
       "\n"
      ],
      "text/plain": [
       "    PassengerId Survived Pclass Name                                          \n",
       "18   18         1         0     Williams, Mr. Charles Eugene                  \n",
       "23   23         1        NA     McGowan, Miss. Anna \"Annie\"                   \n",
       "45   45         1        NA     Devaney, Miss. Margaret Delia                 \n",
       "104 104         0        NA     Johansson, Mr. Gustaf Joel                    \n",
       "111 111         0        NA     Porter, Mr. Walter Chamberlain                \n",
       "133 133         0        NA     Robins, Mrs. Alexander A (Grace Charity Laury)\n",
       "    Age SibSp Parch Ticket    Fare    Cabin Embarked Sex   AgeNumeric\n",
       "18      0     0     244373    13.0000       S        Man   NA        \n",
       "23  15  0     0     330923     8.0292       Q        Woman 15        \n",
       "45  19  0     0     330958     7.8792       Q        Woman 19        \n",
       "104 33  0     0     7540       8.6542       S        Man   33        \n",
       "111 47  0     0     110465    52.0000 C110  S        Man   47        \n",
       "133 47  1     0     A/5. 3337 14.5000       S        Woman 47        "
      ]
     },
     "metadata": {},
     "output_type": "display_data"
    }
   ],
   "source": [
    "na_class <- myTitanicDataSetFiltrado[!(myTitanicDataSetFiltrado$Pclass %in% c(1, 2, 3)),]\n",
    "head(na_class)"
   ]
  },
  {
   "cell_type": "markdown",
   "metadata": {},
   "source": [
    "Con estas instancias generamos nuestras predicciones:"
   ]
  },
  {
   "cell_type": "code",
   "execution_count": 28,
   "metadata": {},
   "outputs": [
    {
     "data": {
      "text/html": [
       "<dl class=dl-horizontal>\n",
       "\t<dt>1</dt>\n",
       "\t\t<dd>3</dd>\n",
       "\t<dt>2</dt>\n",
       "\t\t<dd>3</dd>\n",
       "\t<dt>3</dt>\n",
       "\t\t<dd>3</dd>\n",
       "\t<dt>4</dt>\n",
       "\t\t<dd>3</dd>\n",
       "\t<dt>5</dt>\n",
       "\t\t<dd>2</dd>\n",
       "\t<dt>6</dt>\n",
       "\t\t<dd>3</dd>\n",
       "</dl>\n"
      ],
      "text/latex": [
       "\\begin{description*}\n",
       "\\item[1] 3\n",
       "\\item[2] 3\n",
       "\\item[3] 3\n",
       "\\item[4] 3\n",
       "\\item[5] 2\n",
       "\\item[6] 3\n",
       "\\end{description*}\n"
      ],
      "text/markdown": [
       "1\n",
       ":   32\n",
       ":   33\n",
       ":   34\n",
       ":   35\n",
       ":   26\n",
       ":   3\n",
       "\n"
      ],
      "text/plain": [
       "1 2 3 4 5 6 \n",
       "3 3 3 3 2 3 "
      ]
     },
     "metadata": {},
     "output_type": "display_data"
    }
   ],
   "source": [
    "head(round(predict(l, newdata = data.frame(Fare = na_class$Fare)),0))"
   ]
  },
  {
   "cell_type": "code",
   "execution_count": 29,
   "metadata": {},
   "outputs": [
    {
     "data": {
      "text/html": [
       "<table>\n",
       "<caption>A data.frame: 6 × 14</caption>\n",
       "<thead>\n",
       "\t<tr><th></th><th scope=col>PassengerId</th><th scope=col>Survived</th><th scope=col>Pclass</th><th scope=col>Name</th><th scope=col>Age</th><th scope=col>SibSp</th><th scope=col>Parch</th><th scope=col>Ticket</th><th scope=col>Fare</th><th scope=col>Cabin</th><th scope=col>Embarked</th><th scope=col>Sex</th><th scope=col>AgeNumeric</th><th scope=col>pred_Pclass</th></tr>\n",
       "\t<tr><th></th><th scope=col>&lt;int&gt;</th><th scope=col>&lt;int&gt;</th><th scope=col>&lt;int&gt;</th><th scope=col>&lt;chr&gt;</th><th scope=col>&lt;chr&gt;</th><th scope=col>&lt;int&gt;</th><th scope=col>&lt;int&gt;</th><th scope=col>&lt;chr&gt;</th><th scope=col>&lt;dbl&gt;</th><th scope=col>&lt;chr&gt;</th><th scope=col>&lt;chr&gt;</th><th scope=col>&lt;chr&gt;</th><th scope=col>&lt;dbl&gt;</th><th scope=col>&lt;dbl&gt;</th></tr>\n",
       "</thead>\n",
       "<tbody>\n",
       "\t<tr><th scope=row>18</th><td> 18</td><td>1</td><td> 0</td><td>Williams, Mr. Charles Eugene                  </td><td>  </td><td>0</td><td>0</td><td>244373   </td><td>13.0000</td><td>    </td><td>S</td><td>Man  </td><td>NA</td><td>3</td></tr>\n",
       "\t<tr><th scope=row>23</th><td> 23</td><td>1</td><td>NA</td><td>McGowan, Miss. Anna \"Annie\"                   </td><td>15</td><td>0</td><td>0</td><td>330923   </td><td> 8.0292</td><td>    </td><td>Q</td><td>Woman</td><td>15</td><td>3</td></tr>\n",
       "\t<tr><th scope=row>45</th><td> 45</td><td>1</td><td>NA</td><td>Devaney, Miss. Margaret Delia                 </td><td>19</td><td>0</td><td>0</td><td>330958   </td><td> 7.8792</td><td>    </td><td>Q</td><td>Woman</td><td>19</td><td>3</td></tr>\n",
       "\t<tr><th scope=row>104</th><td>104</td><td>0</td><td>NA</td><td>Johansson, Mr. Gustaf Joel                    </td><td>33</td><td>0</td><td>0</td><td>7540     </td><td> 8.6542</td><td>    </td><td>S</td><td>Man  </td><td>33</td><td>3</td></tr>\n",
       "\t<tr><th scope=row>111</th><td>111</td><td>0</td><td>NA</td><td>Porter, Mr. Walter Chamberlain                </td><td>47</td><td>0</td><td>0</td><td>110465   </td><td>52.0000</td><td>C110</td><td>S</td><td>Man  </td><td>47</td><td>2</td></tr>\n",
       "\t<tr><th scope=row>133</th><td>133</td><td>0</td><td>NA</td><td>Robins, Mrs. Alexander A (Grace Charity Laury)</td><td>47</td><td>1</td><td>0</td><td>A/5. 3337</td><td>14.5000</td><td>    </td><td>S</td><td>Woman</td><td>47</td><td>3</td></tr>\n",
       "</tbody>\n",
       "</table>\n"
      ],
      "text/latex": [
       "A data.frame: 6 × 14\n",
       "\\begin{tabular}{r|llllllllllllll}\n",
       "  & PassengerId & Survived & Pclass & Name & Age & SibSp & Parch & Ticket & Fare & Cabin & Embarked & Sex & AgeNumeric & pred\\_Pclass\\\\\n",
       "  & <int> & <int> & <int> & <chr> & <chr> & <int> & <int> & <chr> & <dbl> & <chr> & <chr> & <chr> & <dbl> & <dbl>\\\\\n",
       "\\hline\n",
       "\t18 &  18 & 1 &  0 & Williams, Mr. Charles Eugene                   &    & 0 & 0 & 244373    & 13.0000 &      & S & Man   & NA & 3\\\\\n",
       "\t23 &  23 & 1 & NA & McGowan, Miss. Anna \"Annie\"                    & 15 & 0 & 0 & 330923    &  8.0292 &      & Q & Woman & 15 & 3\\\\\n",
       "\t45 &  45 & 1 & NA & Devaney, Miss. Margaret Delia                  & 19 & 0 & 0 & 330958    &  7.8792 &      & Q & Woman & 19 & 3\\\\\n",
       "\t104 & 104 & 0 & NA & Johansson, Mr. Gustaf Joel                     & 33 & 0 & 0 & 7540      &  8.6542 &      & S & Man   & 33 & 3\\\\\n",
       "\t111 & 111 & 0 & NA & Porter, Mr. Walter Chamberlain                 & 47 & 0 & 0 & 110465    & 52.0000 & C110 & S & Man   & 47 & 2\\\\\n",
       "\t133 & 133 & 0 & NA & Robins, Mrs. Alexander A (Grace Charity Laury) & 47 & 1 & 0 & A/5. 3337 & 14.5000 &      & S & Woman & 47 & 3\\\\\n",
       "\\end{tabular}\n"
      ],
      "text/markdown": [
       "\n",
       "A data.frame: 6 × 14\n",
       "\n",
       "| <!--/--> | PassengerId &lt;int&gt; | Survived &lt;int&gt; | Pclass &lt;int&gt; | Name &lt;chr&gt; | Age &lt;chr&gt; | SibSp &lt;int&gt; | Parch &lt;int&gt; | Ticket &lt;chr&gt; | Fare &lt;dbl&gt; | Cabin &lt;chr&gt; | Embarked &lt;chr&gt; | Sex &lt;chr&gt; | AgeNumeric &lt;dbl&gt; | pred_Pclass &lt;dbl&gt; |\n",
       "|---|---|---|---|---|---|---|---|---|---|---|---|---|---|---|\n",
       "| 18 |  18 | 1 |  0 | Williams, Mr. Charles Eugene                   | <!----> | 0 | 0 | 244373    | 13.0000 | <!----> | S | Man   | NA | 3 |\n",
       "| 23 |  23 | 1 | NA | McGowan, Miss. Anna \"Annie\"                    | 15 | 0 | 0 | 330923    |  8.0292 | <!----> | Q | Woman | 15 | 3 |\n",
       "| 45 |  45 | 1 | NA | Devaney, Miss. Margaret Delia                  | 19 | 0 | 0 | 330958    |  7.8792 | <!----> | Q | Woman | 19 | 3 |\n",
       "| 104 | 104 | 0 | NA | Johansson, Mr. Gustaf Joel                     | 33 | 0 | 0 | 7540      |  8.6542 | <!----> | S | Man   | 33 | 3 |\n",
       "| 111 | 111 | 0 | NA | Porter, Mr. Walter Chamberlain                 | 47 | 0 | 0 | 110465    | 52.0000 | C110 | S | Man   | 47 | 2 |\n",
       "| 133 | 133 | 0 | NA | Robins, Mrs. Alexander A (Grace Charity Laury) | 47 | 1 | 0 | A/5. 3337 | 14.5000 | <!----> | S | Woman | 47 | 3 |\n",
       "\n"
      ],
      "text/plain": [
       "    PassengerId Survived Pclass Name                                          \n",
       "18   18         1         0     Williams, Mr. Charles Eugene                  \n",
       "23   23         1        NA     McGowan, Miss. Anna \"Annie\"                   \n",
       "45   45         1        NA     Devaney, Miss. Margaret Delia                 \n",
       "104 104         0        NA     Johansson, Mr. Gustaf Joel                    \n",
       "111 111         0        NA     Porter, Mr. Walter Chamberlain                \n",
       "133 133         0        NA     Robins, Mrs. Alexander A (Grace Charity Laury)\n",
       "    Age SibSp Parch Ticket    Fare    Cabin Embarked Sex   AgeNumeric\n",
       "18      0     0     244373    13.0000       S        Man   NA        \n",
       "23  15  0     0     330923     8.0292       Q        Woman 15        \n",
       "45  19  0     0     330958     7.8792       Q        Woman 19        \n",
       "104 33  0     0     7540       8.6542       S        Man   33        \n",
       "111 47  0     0     110465    52.0000 C110  S        Man   47        \n",
       "133 47  1     0     A/5. 3337 14.5000       S        Woman 47        \n",
       "    pred_Pclass\n",
       "18  3          \n",
       "23  3          \n",
       "45  3          \n",
       "104 3          \n",
       "111 2          \n",
       "133 3          "
      ]
     },
     "metadata": {},
     "output_type": "display_data"
    }
   ],
   "source": [
    "na_class $ pred_Pclass <-round(predict(l, newdata = data.frame(Fare = na_class$Fare)),0)\n",
    "head(na_class)"
   ]
  },
  {
   "cell_type": "code",
   "execution_count": 30,
   "metadata": {},
   "outputs": [
    {
     "data": {
      "text/html": [
       "<table>\n",
       "<caption>A data.frame: 6 × 14</caption>\n",
       "<thead>\n",
       "\t<tr><th></th><th scope=col>PassengerId</th><th scope=col>Survived</th><th scope=col>Pclass</th><th scope=col>Name</th><th scope=col>Age</th><th scope=col>SibSp</th><th scope=col>Parch</th><th scope=col>Ticket</th><th scope=col>Fare</th><th scope=col>Cabin</th><th scope=col>Embarked</th><th scope=col>Sex</th><th scope=col>AgeNumeric</th><th scope=col>pred_Pclass</th></tr>\n",
       "\t<tr><th></th><th scope=col>&lt;int&gt;</th><th scope=col>&lt;int&gt;</th><th scope=col>&lt;dbl&gt;</th><th scope=col>&lt;chr&gt;</th><th scope=col>&lt;chr&gt;</th><th scope=col>&lt;int&gt;</th><th scope=col>&lt;int&gt;</th><th scope=col>&lt;chr&gt;</th><th scope=col>&lt;dbl&gt;</th><th scope=col>&lt;chr&gt;</th><th scope=col>&lt;chr&gt;</th><th scope=col>&lt;chr&gt;</th><th scope=col>&lt;dbl&gt;</th><th scope=col>&lt;dbl&gt;</th></tr>\n",
       "</thead>\n",
       "<tbody>\n",
       "\t<tr><th scope=row>1</th><td>1</td><td>0</td><td>3</td><td>Braund, Mr. Owen Harris                            </td><td>22</td><td>1</td><td>0</td><td>A/5 21171       </td><td> 7.2500</td><td>    </td><td>S</td><td>Man  </td><td>22</td><td>NA</td></tr>\n",
       "\t<tr><th scope=row>2</th><td>2</td><td>1</td><td>1</td><td>Cumings, Mrs. John Bradley (Florence Briggs Thayer)</td><td>38</td><td>1</td><td>0</td><td>PC 17599        </td><td>71.2833</td><td>C85 </td><td>C</td><td>Woman</td><td>38</td><td>NA</td></tr>\n",
       "\t<tr><th scope=row>3</th><td>3</td><td>1</td><td>3</td><td>Heikkinen, Miss. Laina                             </td><td>26</td><td>0</td><td>0</td><td>STON/O2. 3101282</td><td> 7.9250</td><td>    </td><td>S</td><td>Woman</td><td>26</td><td>NA</td></tr>\n",
       "\t<tr><th scope=row>4</th><td>4</td><td>1</td><td>1</td><td>Futrelle, Mrs. Jacques Heath (Lily May Peel)       </td><td>35</td><td>1</td><td>0</td><td>113803          </td><td>53.1000</td><td>C123</td><td>S</td><td>Woman</td><td>35</td><td>NA</td></tr>\n",
       "\t<tr><th scope=row>5</th><td>5</td><td>0</td><td>3</td><td>Allen, Mr. William Henry                           </td><td>35</td><td>0</td><td>0</td><td>373450          </td><td> 8.0500</td><td>    </td><td>S</td><td>Man  </td><td>35</td><td>NA</td></tr>\n",
       "\t<tr><th scope=row>6</th><td>6</td><td>0</td><td>3</td><td>Moran, Mr. James                                   </td><td>  </td><td>0</td><td>0</td><td>330877          </td><td> 8.4583</td><td>    </td><td>Q</td><td>Man  </td><td>NA</td><td>NA</td></tr>\n",
       "</tbody>\n",
       "</table>\n"
      ],
      "text/latex": [
       "A data.frame: 6 × 14\n",
       "\\begin{tabular}{r|llllllllllllll}\n",
       "  & PassengerId & Survived & Pclass & Name & Age & SibSp & Parch & Ticket & Fare & Cabin & Embarked & Sex & AgeNumeric & pred\\_Pclass\\\\\n",
       "  & <int> & <int> & <dbl> & <chr> & <chr> & <int> & <int> & <chr> & <dbl> & <chr> & <chr> & <chr> & <dbl> & <dbl>\\\\\n",
       "\\hline\n",
       "\t1 & 1 & 0 & 3 & Braund, Mr. Owen Harris                             & 22 & 1 & 0 & A/5 21171        &  7.2500 &      & S & Man   & 22 & NA\\\\\n",
       "\t2 & 2 & 1 & 1 & Cumings, Mrs. John Bradley (Florence Briggs Thayer) & 38 & 1 & 0 & PC 17599         & 71.2833 & C85  & C & Woman & 38 & NA\\\\\n",
       "\t3 & 3 & 1 & 3 & Heikkinen, Miss. Laina                              & 26 & 0 & 0 & STON/O2. 3101282 &  7.9250 &      & S & Woman & 26 & NA\\\\\n",
       "\t4 & 4 & 1 & 1 & Futrelle, Mrs. Jacques Heath (Lily May Peel)        & 35 & 1 & 0 & 113803           & 53.1000 & C123 & S & Woman & 35 & NA\\\\\n",
       "\t5 & 5 & 0 & 3 & Allen, Mr. William Henry                            & 35 & 0 & 0 & 373450           &  8.0500 &      & S & Man   & 35 & NA\\\\\n",
       "\t6 & 6 & 0 & 3 & Moran, Mr. James                                    &    & 0 & 0 & 330877           &  8.4583 &      & Q & Man   & NA & NA\\\\\n",
       "\\end{tabular}\n"
      ],
      "text/markdown": [
       "\n",
       "A data.frame: 6 × 14\n",
       "\n",
       "| <!--/--> | PassengerId &lt;int&gt; | Survived &lt;int&gt; | Pclass &lt;dbl&gt; | Name &lt;chr&gt; | Age &lt;chr&gt; | SibSp &lt;int&gt; | Parch &lt;int&gt; | Ticket &lt;chr&gt; | Fare &lt;dbl&gt; | Cabin &lt;chr&gt; | Embarked &lt;chr&gt; | Sex &lt;chr&gt; | AgeNumeric &lt;dbl&gt; | pred_Pclass &lt;dbl&gt; |\n",
       "|---|---|---|---|---|---|---|---|---|---|---|---|---|---|---|\n",
       "| 1 | 1 | 0 | 3 | Braund, Mr. Owen Harris                             | 22 | 1 | 0 | A/5 21171        |  7.2500 | <!----> | S | Man   | 22 | NA |\n",
       "| 2 | 2 | 1 | 1 | Cumings, Mrs. John Bradley (Florence Briggs Thayer) | 38 | 1 | 0 | PC 17599         | 71.2833 | C85  | C | Woman | 38 | NA |\n",
       "| 3 | 3 | 1 | 3 | Heikkinen, Miss. Laina                              | 26 | 0 | 0 | STON/O2. 3101282 |  7.9250 | <!----> | S | Woman | 26 | NA |\n",
       "| 4 | 4 | 1 | 1 | Futrelle, Mrs. Jacques Heath (Lily May Peel)        | 35 | 1 | 0 | 113803           | 53.1000 | C123 | S | Woman | 35 | NA |\n",
       "| 5 | 5 | 0 | 3 | Allen, Mr. William Henry                            | 35 | 0 | 0 | 373450           |  8.0500 | <!----> | S | Man   | 35 | NA |\n",
       "| 6 | 6 | 0 | 3 | Moran, Mr. James                                    | <!----> | 0 | 0 | 330877           |  8.4583 | <!----> | Q | Man   | NA | NA |\n",
       "\n"
      ],
      "text/plain": [
       "  PassengerId Survived Pclass\n",
       "1 1           0        3     \n",
       "2 2           1        1     \n",
       "3 3           1        3     \n",
       "4 4           1        1     \n",
       "5 5           0        3     \n",
       "6 6           0        3     \n",
       "  Name                                                Age SibSp Parch\n",
       "1 Braund, Mr. Owen Harris                             22  1     0    \n",
       "2 Cumings, Mrs. John Bradley (Florence Briggs Thayer) 38  1     0    \n",
       "3 Heikkinen, Miss. Laina                              26  0     0    \n",
       "4 Futrelle, Mrs. Jacques Heath (Lily May Peel)        35  1     0    \n",
       "5 Allen, Mr. William Henry                            35  0     0    \n",
       "6 Moran, Mr. James                                        0     0    \n",
       "  Ticket           Fare    Cabin Embarked Sex   AgeNumeric pred_Pclass\n",
       "1 A/5 21171         7.2500       S        Man   22         NA         \n",
       "2 PC 17599         71.2833 C85   C        Woman 38         NA         \n",
       "3 STON/O2. 3101282  7.9250       S        Woman 26         NA         \n",
       "4 113803           53.1000 C123  S        Woman 35         NA         \n",
       "5 373450            8.0500       S        Man   35         NA         \n",
       "6 330877            8.4583       Q        Man   NA         NA         "
      ]
     },
     "metadata": {},
     "output_type": "display_data"
    }
   ],
   "source": [
    "myTitanicDataSet <- myTitanicDataSet %>% \n",
    "    left_join((na_class %>% select(PassengerId, pred_Pclass)), by = \"PassengerId\")\n",
    "\n",
    "myTitanicDataSet$Pclass <- ifelse(is.na(myTitanicDataSet$pred_Pclass)\n",
    "                                  , myTitanicDataSet$Pclass\n",
    "                                  , myTitanicDataSet$pred_Pclass)\n",
    "\n",
    "head(myTitanicDataSet)"
   ]
  },
  {
   "cell_type": "markdown",
   "metadata": {},
   "source": [
    "<b>7. Normalización:</b> la normalización es una técnica utilizada para transformar escalas de variables medidas en diferentes escalas en una escala comparable o común. Puede tener la variable \"Age\" que va de 0 a 95 y otra variable \"Ingresos\" que va de 0 a 10 000 000.\n",
    "Estas escalas diferentes pueden tener un efecto negativo en el rendimiento de su modelo, pero al usar la normalización, estas variables se pueden transformar en una escala de valores entre 0 y 1."
   ]
  },
  {
   "cell_type": "code",
   "execution_count": 31,
   "metadata": {},
   "outputs": [
    {
     "data": {
      "image/png": "[encoded data removed]",
      "text/plain": [
       "Plot with title \"Histogram of myTitanicDataSet$AgeNumeric\""
      ]
     },
     "metadata": {
      "image/png": {
       "height": 360,
       "width": 600
      }
     },
     "output_type": "display_data"
    }
   ],
   "source": [
    "hist(myTitanicDataSet$AgeNumeric,prob=T)\n",
    "lines(density(myTitanicDataSet$AgeNumeric,na.rm=T))\n",
    "#adds smooth line and DROP NA's"
   ]
  },
  {
   "cell_type": "code",
   "execution_count": 32,
   "metadata": {},
   "outputs": [
    {
     "data": {
      "text/html": [
       "<table>\n",
       "<caption>A data.frame: 20 × 15</caption>\n",
       "<thead>\n",
       "\t<tr><th></th><th scope=col>PassengerId</th><th scope=col>Survived</th><th scope=col>Pclass</th><th scope=col>Name</th><th scope=col>Age</th><th scope=col>SibSp</th><th scope=col>Parch</th><th scope=col>Ticket</th><th scope=col>Fare</th><th scope=col>Cabin</th><th scope=col>Embarked</th><th scope=col>Sex</th><th scope=col>AgeNumeric</th><th scope=col>pred_Pclass</th><th scope=col>AgeNormalised</th></tr>\n",
       "\t<tr><th></th><th scope=col>&lt;int&gt;</th><th scope=col>&lt;int&gt;</th><th scope=col>&lt;dbl&gt;</th><th scope=col>&lt;chr&gt;</th><th scope=col>&lt;chr&gt;</th><th scope=col>&lt;int&gt;</th><th scope=col>&lt;int&gt;</th><th scope=col>&lt;chr&gt;</th><th scope=col>&lt;dbl&gt;</th><th scope=col>&lt;chr&gt;</th><th scope=col>&lt;chr&gt;</th><th scope=col>&lt;chr&gt;</th><th scope=col>&lt;dbl&gt;</th><th scope=col>&lt;dbl&gt;</th><th scope=col>&lt;dbl[,1]&gt;</th></tr>\n",
       "</thead>\n",
       "<tbody>\n",
       "\t<tr><th scope=row>1</th><td> 1</td><td>0</td><td>3</td><td>Braund, Mr. Owen Harris                                </td><td>22</td><td>1</td><td>0</td><td>A/5 21171       </td><td> 7.2500</td><td>    </td><td>S</td><td>Man  </td><td>22</td><td>NA</td><td>0.024906399</td></tr>\n",
       "\t<tr><th scope=row>2</th><td> 2</td><td>1</td><td>1</td><td>Cumings, Mrs. John Bradley (Florence Briggs Thayer)    </td><td>38</td><td>1</td><td>0</td><td>PC 17599        </td><td>71.2833</td><td>C85 </td><td>C</td><td>Woman</td><td>38</td><td>NA</td><td>0.043020144</td></tr>\n",
       "\t<tr><th scope=row>3</th><td> 3</td><td>1</td><td>3</td><td>Heikkinen, Miss. Laina                                 </td><td>26</td><td>0</td><td>0</td><td>STON/O2. 3101282</td><td> 7.9250</td><td>    </td><td>S</td><td>Woman</td><td>26</td><td>NA</td><td>0.029434836</td></tr>\n",
       "\t<tr><th scope=row>4</th><td> 4</td><td>1</td><td>1</td><td>Futrelle, Mrs. Jacques Heath (Lily May Peel)           </td><td>35</td><td>1</td><td>0</td><td>113803          </td><td>53.1000</td><td>C123</td><td>S</td><td>Woman</td><td>35</td><td>NA</td><td>0.039623817</td></tr>\n",
       "\t<tr><th scope=row>5</th><td> 5</td><td>0</td><td>3</td><td>Allen, Mr. William Henry                               </td><td>35</td><td>0</td><td>0</td><td>373450          </td><td> 8.0500</td><td>    </td><td>S</td><td>Man  </td><td>35</td><td>NA</td><td>0.039623817</td></tr>\n",
       "\t<tr><th scope=row>6</th><td> 6</td><td>0</td><td>3</td><td>Moran, Mr. James                                       </td><td>  </td><td>0</td><td>0</td><td>330877          </td><td> 8.4583</td><td>    </td><td>Q</td><td>Man  </td><td>NA</td><td>NA</td><td>         NA</td></tr>\n",
       "\t<tr><th scope=row>7</th><td> 7</td><td>0</td><td>1</td><td>McCarthy, Mr. Timothy J                                </td><td>54</td><td>0</td><td>0</td><td>17463           </td><td>51.8625</td><td>E46 </td><td>S</td><td>Man  </td><td>54</td><td>NA</td><td>0.061133889</td></tr>\n",
       "\t<tr><th scope=row>8</th><td> 8</td><td>0</td><td>3</td><td>Palsson, Master. Gosta Leonard                         </td><td>2 </td><td>3</td><td>1</td><td>349909          </td><td>21.0750</td><td>    </td><td>S</td><td>Man  </td><td> 2</td><td>NA</td><td>0.002264218</td></tr>\n",
       "\t<tr><th scope=row>9</th><td> 9</td><td>1</td><td>3</td><td>Johnson, Mrs. Oscar W (Elisabeth Vilhelmina Berg)      </td><td>27</td><td>0</td><td>2</td><td>347742          </td><td>11.1333</td><td>    </td><td>S</td><td>Woman</td><td>27</td><td>NA</td><td>0.030566945</td></tr>\n",
       "\t<tr><th scope=row>10</th><td>10</td><td>1</td><td>2</td><td>Nasser, Mrs. Nicholas (Adele Achem)                    </td><td>14</td><td>1</td><td>0</td><td>237736          </td><td>30.0708</td><td>    </td><td>C</td><td>Woman</td><td>14</td><td>NA</td><td>0.015849527</td></tr>\n",
       "\t<tr><th scope=row>11</th><td>11</td><td>1</td><td>3</td><td>Sandstrom, Miss. Marguerite Rut                        </td><td>4 </td><td>1</td><td>1</td><td>PP 9549         </td><td>16.7000</td><td>G6  </td><td>S</td><td>Woman</td><td> 4</td><td>NA</td><td>0.004528436</td></tr>\n",
       "\t<tr><th scope=row>12</th><td>12</td><td>1</td><td>1</td><td>Bonnell, Miss. Elizabeth                               </td><td>58</td><td>0</td><td>0</td><td>113783          </td><td>26.5500</td><td>C103</td><td>S</td><td>Woman</td><td>58</td><td>NA</td><td>0.065662326</td></tr>\n",
       "\t<tr><th scope=row>13</th><td>13</td><td>0</td><td>3</td><td>Saundercock, Mr. William Henry                         </td><td>20</td><td>0</td><td>0</td><td>A/5. 2151       </td><td> 8.0500</td><td>    </td><td>S</td><td>Man  </td><td>20</td><td>NA</td><td>0.022642181</td></tr>\n",
       "\t<tr><th scope=row>14</th><td>14</td><td>0</td><td>3</td><td>Andersson, Mr. Anders Johan                            </td><td>39</td><td>1</td><td>5</td><td>347082          </td><td>31.2750</td><td>    </td><td>S</td><td>Man  </td><td>39</td><td>NA</td><td>0.044152253</td></tr>\n",
       "\t<tr><th scope=row>15</th><td>15</td><td>0</td><td>3</td><td>Vestrom, Miss. Hulda Amanda Adolfina                   </td><td>14</td><td>0</td><td>0</td><td>350406          </td><td> 7.8542</td><td>    </td><td>S</td><td>Woman</td><td>14</td><td>NA</td><td>0.015849527</td></tr>\n",
       "\t<tr><th scope=row>16</th><td>16</td><td>1</td><td>2</td><td>Hewlett, Mrs. (Mary D Kingcome)                        </td><td>55</td><td>0</td><td>0</td><td>248706          </td><td>16.0000</td><td>    </td><td>S</td><td>Woman</td><td>55</td><td>NA</td><td>0.062265998</td></tr>\n",
       "\t<tr><th scope=row>17</th><td>17</td><td>0</td><td>3</td><td>Rice, Master. Eugene                                   </td><td>2 </td><td>4</td><td>1</td><td>382652          </td><td>29.1250</td><td>    </td><td>Q</td><td>Man  </td><td> 2</td><td>NA</td><td>0.002264218</td></tr>\n",
       "\t<tr><th scope=row>18</th><td>18</td><td>1</td><td>3</td><td>Williams, Mr. Charles Eugene                           </td><td>  </td><td>0</td><td>0</td><td>244373          </td><td>13.0000</td><td>    </td><td>S</td><td>Man  </td><td>NA</td><td> 3</td><td>         NA</td></tr>\n",
       "\t<tr><th scope=row>19</th><td>19</td><td>0</td><td>3</td><td>Vander Planke, Mrs. Julius (Emelia Maria Vandemoortele)</td><td>31</td><td>1</td><td>0</td><td>345763          </td><td>18.0000</td><td>    </td><td>S</td><td>Woman</td><td>31</td><td>NA</td><td>0.035095381</td></tr>\n",
       "\t<tr><th scope=row>20</th><td>20</td><td>1</td><td>3</td><td>Masselmani, Mrs. Fatima                                </td><td>  </td><td>0</td><td>0</td><td>2649            </td><td> 7.2250</td><td>    </td><td>C</td><td>Woman</td><td>NA</td><td>NA</td><td>         NA</td></tr>\n",
       "</tbody>\n",
       "</table>\n"
      ],
      "text/latex": [
       "A data.frame: 20 × 15\n",
       "\\begin{tabular}{r|lllllllllllllll}\n",
       "  & PassengerId & Survived & Pclass & Name & Age & SibSp & Parch & Ticket & Fare & Cabin & Embarked & Sex & AgeNumeric & pred\\_Pclass & AgeNormalised\\\\\n",
       "  & <int> & <int> & <dbl> & <chr> & <chr> & <int> & <int> & <chr> & <dbl> & <chr> & <chr> & <chr> & <dbl> & <dbl> & <dbl{[},1{]}>\\\\\n",
       "\\hline\n",
       "\t1 &  1 & 0 & 3 & Braund, Mr. Owen Harris                                 & 22 & 1 & 0 & A/5 21171        &  7.2500 &      & S & Man   & 22 & NA & 0.024906399\\\\\n",
       "\t2 &  2 & 1 & 1 & Cumings, Mrs. John Bradley (Florence Briggs Thayer)     & 38 & 1 & 0 & PC 17599         & 71.2833 & C85  & C & Woman & 38 & NA & 0.043020144\\\\\n",
       "\t3 &  3 & 1 & 3 & Heikkinen, Miss. Laina                                  & 26 & 0 & 0 & STON/O2. 3101282 &  7.9250 &      & S & Woman & 26 & NA & 0.029434836\\\\\n",
       "\t4 &  4 & 1 & 1 & Futrelle, Mrs. Jacques Heath (Lily May Peel)            & 35 & 1 & 0 & 113803           & 53.1000 & C123 & S & Woman & 35 & NA & 0.039623817\\\\\n",
       "\t5 &  5 & 0 & 3 & Allen, Mr. William Henry                                & 35 & 0 & 0 & 373450           &  8.0500 &      & S & Man   & 35 & NA & 0.039623817\\\\\n",
       "\t6 &  6 & 0 & 3 & Moran, Mr. James                                        &    & 0 & 0 & 330877           &  8.4583 &      & Q & Man   & NA & NA &          NA\\\\\n",
       "\t7 &  7 & 0 & 1 & McCarthy, Mr. Timothy J                                 & 54 & 0 & 0 & 17463            & 51.8625 & E46  & S & Man   & 54 & NA & 0.061133889\\\\\n",
       "\t8 &  8 & 0 & 3 & Palsson, Master. Gosta Leonard                          & 2  & 3 & 1 & 349909           & 21.0750 &      & S & Man   &  2 & NA & 0.002264218\\\\\n",
       "\t9 &  9 & 1 & 3 & Johnson, Mrs. Oscar W (Elisabeth Vilhelmina Berg)       & 27 & 0 & 2 & 347742           & 11.1333 &      & S & Woman & 27 & NA & 0.030566945\\\\\n",
       "\t10 & 10 & 1 & 2 & Nasser, Mrs. Nicholas (Adele Achem)                     & 14 & 1 & 0 & 237736           & 30.0708 &      & C & Woman & 14 & NA & 0.015849527\\\\\n",
       "\t11 & 11 & 1 & 3 & Sandstrom, Miss. Marguerite Rut                         & 4  & 1 & 1 & PP 9549          & 16.7000 & G6   & S & Woman &  4 & NA & 0.004528436\\\\\n",
       "\t12 & 12 & 1 & 1 & Bonnell, Miss. Elizabeth                                & 58 & 0 & 0 & 113783           & 26.5500 & C103 & S & Woman & 58 & NA & 0.065662326\\\\\n",
       "\t13 & 13 & 0 & 3 & Saundercock, Mr. William Henry                          & 20 & 0 & 0 & A/5. 2151        &  8.0500 &      & S & Man   & 20 & NA & 0.022642181\\\\\n",
       "\t14 & 14 & 0 & 3 & Andersson, Mr. Anders Johan                             & 39 & 1 & 5 & 347082           & 31.2750 &      & S & Man   & 39 & NA & 0.044152253\\\\\n",
       "\t15 & 15 & 0 & 3 & Vestrom, Miss. Hulda Amanda Adolfina                    & 14 & 0 & 0 & 350406           &  7.8542 &      & S & Woman & 14 & NA & 0.015849527\\\\\n",
       "\t16 & 16 & 1 & 2 & Hewlett, Mrs. (Mary D Kingcome)                         & 55 & 0 & 0 & 248706           & 16.0000 &      & S & Woman & 55 & NA & 0.062265998\\\\\n",
       "\t17 & 17 & 0 & 3 & Rice, Master. Eugene                                    & 2  & 4 & 1 & 382652           & 29.1250 &      & Q & Man   &  2 & NA & 0.002264218\\\\\n",
       "\t18 & 18 & 1 & 3 & Williams, Mr. Charles Eugene                            &    & 0 & 0 & 244373           & 13.0000 &      & S & Man   & NA &  3 &          NA\\\\\n",
       "\t19 & 19 & 0 & 3 & Vander Planke, Mrs. Julius (Emelia Maria Vandemoortele) & 31 & 1 & 0 & 345763           & 18.0000 &      & S & Woman & 31 & NA & 0.035095381\\\\\n",
       "\t20 & 20 & 1 & 3 & Masselmani, Mrs. Fatima                                 &    & 0 & 0 & 2649             &  7.2250 &      & C & Woman & NA & NA &          NA\\\\\n",
       "\\end{tabular}\n"
      ],
      "text/markdown": [
       "\n",
       "A data.frame: 20 × 15\n",
       "\n",
       "| <!--/--> | PassengerId &lt;int&gt; | Survived &lt;int&gt; | Pclass &lt;dbl&gt; | Name &lt;chr&gt; | Age &lt;chr&gt; | SibSp &lt;int&gt; | Parch &lt;int&gt; | Ticket &lt;chr&gt; | Fare &lt;dbl&gt; | Cabin &lt;chr&gt; | Embarked &lt;chr&gt; | Sex &lt;chr&gt; | AgeNumeric &lt;dbl&gt; | pred_Pclass &lt;dbl&gt; | AgeNormalised &lt;dbl[,1]&gt; |\n",
       "|---|---|---|---|---|---|---|---|---|---|---|---|---|---|---|---|\n",
       "| 1 |  1 | 0 | 3 | Braund, Mr. Owen Harris                                 | 22 | 1 | 0 | A/5 21171        |  7.2500 | <!----> | S | Man   | 22 | NA | 0.024906399 |\n",
       "| 2 |  2 | 1 | 1 | Cumings, Mrs. John Bradley (Florence Briggs Thayer)     | 38 | 1 | 0 | PC 17599         | 71.2833 | C85  | C | Woman | 38 | NA | 0.043020144 |\n",
       "| 3 |  3 | 1 | 3 | Heikkinen, Miss. Laina                                  | 26 | 0 | 0 | STON/O2. 3101282 |  7.9250 | <!----> | S | Woman | 26 | NA | 0.029434836 |\n",
       "| 4 |  4 | 1 | 1 | Futrelle, Mrs. Jacques Heath (Lily May Peel)            | 35 | 1 | 0 | 113803           | 53.1000 | C123 | S | Woman | 35 | NA | 0.039623817 |\n",
       "| 5 |  5 | 0 | 3 | Allen, Mr. William Henry                                | 35 | 0 | 0 | 373450           |  8.0500 | <!----> | S | Man   | 35 | NA | 0.039623817 |\n",
       "| 6 |  6 | 0 | 3 | Moran, Mr. James                                        | <!----> | 0 | 0 | 330877           |  8.4583 | <!----> | Q | Man   | NA | NA |          NA |\n",
       "| 7 |  7 | 0 | 1 | McCarthy, Mr. Timothy J                                 | 54 | 0 | 0 | 17463            | 51.8625 | E46  | S | Man   | 54 | NA | 0.061133889 |\n",
       "| 8 |  8 | 0 | 3 | Palsson, Master. Gosta Leonard                          | 2  | 3 | 1 | 349909           | 21.0750 | <!----> | S | Man   |  2 | NA | 0.002264218 |\n",
       "| 9 |  9 | 1 | 3 | Johnson, Mrs. Oscar W (Elisabeth Vilhelmina Berg)       | 27 | 0 | 2 | 347742           | 11.1333 | <!----> | S | Woman | 27 | NA | 0.030566945 |\n",
       "| 10 | 10 | 1 | 2 | Nasser, Mrs. Nicholas (Adele Achem)                     | 14 | 1 | 0 | 237736           | 30.0708 | <!----> | C | Woman | 14 | NA | 0.015849527 |\n",
       "| 11 | 11 | 1 | 3 | Sandstrom, Miss. Marguerite Rut                         | 4  | 1 | 1 | PP 9549          | 16.7000 | G6   | S | Woman |  4 | NA | 0.004528436 |\n",
       "| 12 | 12 | 1 | 1 | Bonnell, Miss. Elizabeth                                | 58 | 0 | 0 | 113783           | 26.5500 | C103 | S | Woman | 58 | NA | 0.065662326 |\n",
       "| 13 | 13 | 0 | 3 | Saundercock, Mr. William Henry                          | 20 | 0 | 0 | A/5. 2151        |  8.0500 | <!----> | S | Man   | 20 | NA | 0.022642181 |\n",
       "| 14 | 14 | 0 | 3 | Andersson, Mr. Anders Johan                             | 39 | 1 | 5 | 347082           | 31.2750 | <!----> | S | Man   | 39 | NA | 0.044152253 |\n",
       "| 15 | 15 | 0 | 3 | Vestrom, Miss. Hulda Amanda Adolfina                    | 14 | 0 | 0 | 350406           |  7.8542 | <!----> | S | Woman | 14 | NA | 0.015849527 |\n",
       "| 16 | 16 | 1 | 2 | Hewlett, Mrs. (Mary D Kingcome)                         | 55 | 0 | 0 | 248706           | 16.0000 | <!----> | S | Woman | 55 | NA | 0.062265998 |\n",
       "| 17 | 17 | 0 | 3 | Rice, Master. Eugene                                    | 2  | 4 | 1 | 382652           | 29.1250 | <!----> | Q | Man   |  2 | NA | 0.002264218 |\n",
       "| 18 | 18 | 1 | 3 | Williams, Mr. Charles Eugene                            | <!----> | 0 | 0 | 244373           | 13.0000 | <!----> | S | Man   | NA |  3 |          NA |\n",
       "| 19 | 19 | 0 | 3 | Vander Planke, Mrs. Julius (Emelia Maria Vandemoortele) | 31 | 1 | 0 | 345763           | 18.0000 | <!----> | S | Woman | 31 | NA | 0.035095381 |\n",
       "| 20 | 20 | 1 | 3 | Masselmani, Mrs. Fatima                                 | <!----> | 0 | 0 | 2649             |  7.2250 | <!----> | C | Woman | NA | NA |          NA |\n",
       "\n"
      ],
      "text/plain": [
       "   PassengerId Survived Pclass\n",
       "1   1          0        3     \n",
       "2   2          1        1     \n",
       "3   3          1        3     \n",
       "4   4          1        1     \n",
       "5   5          0        3     \n",
       "6   6          0        3     \n",
       "7   7          0        1     \n",
       "8   8          0        3     \n",
       "9   9          1        3     \n",
       "10 10          1        2     \n",
       "11 11          1        3     \n",
       "12 12          1        1     \n",
       "13 13          0        3     \n",
       "14 14          0        3     \n",
       "15 15          0        3     \n",
       "16 16          1        2     \n",
       "17 17          0        3     \n",
       "18 18          1        3     \n",
       "19 19          0        3     \n",
       "20 20          1        3     \n",
       "   Name                                                    Age SibSp Parch\n",
       "1  Braund, Mr. Owen Harris                                 22  1     0    \n",
       "2  Cumings, Mrs. John Bradley (Florence Briggs Thayer)     38  1     0    \n",
       "3  Heikkinen, Miss. Laina                                  26  0     0    \n",
       "4  Futrelle, Mrs. Jacques Heath (Lily May Peel)            35  1     0    \n",
       "5  Allen, Mr. William Henry                                35  0     0    \n",
       "6  Moran, Mr. James                                            0     0    \n",
       "7  McCarthy, Mr. Timothy J                                 54  0     0    \n",
       "8  Palsson, Master. Gosta Leonard                          2   3     1    \n",
       "9  Johnson, Mrs. Oscar W (Elisabeth Vilhelmina Berg)       27  0     2    \n",
       "10 Nasser, Mrs. Nicholas (Adele Achem)                     14  1     0    \n",
       "11 Sandstrom, Miss. Marguerite Rut                         4   1     1    \n",
       "12 Bonnell, Miss. Elizabeth                                58  0     0    \n",
       "13 Saundercock, Mr. William Henry                          20  0     0    \n",
       "14 Andersson, Mr. Anders Johan                             39  1     5    \n",
       "15 Vestrom, Miss. Hulda Amanda Adolfina                    14  0     0    \n",
       "16 Hewlett, Mrs. (Mary D Kingcome)                         55  0     0    \n",
       "17 Rice, Master. Eugene                                    2   4     1    \n",
       "18 Williams, Mr. Charles Eugene                                0     0    \n",
       "19 Vander Planke, Mrs. Julius (Emelia Maria Vandemoortele) 31  1     0    \n",
       "20 Masselmani, Mrs. Fatima                                     0     0    \n",
       "   Ticket           Fare    Cabin Embarked Sex   AgeNumeric pred_Pclass\n",
       "1  A/5 21171         7.2500       S        Man   22         NA         \n",
       "2  PC 17599         71.2833 C85   C        Woman 38         NA         \n",
       "3  STON/O2. 3101282  7.9250       S        Woman 26         NA         \n",
       "4  113803           53.1000 C123  S        Woman 35         NA         \n",
       "5  373450            8.0500       S        Man   35         NA         \n",
       "6  330877            8.4583       Q        Man   NA         NA         \n",
       "7  17463            51.8625 E46   S        Man   54         NA         \n",
       "8  349909           21.0750       S        Man    2         NA         \n",
       "9  347742           11.1333       S        Woman 27         NA         \n",
       "10 237736           30.0708       C        Woman 14         NA         \n",
       "11 PP 9549          16.7000 G6    S        Woman  4         NA         \n",
       "12 113783           26.5500 C103  S        Woman 58         NA         \n",
       "13 A/5. 2151         8.0500       S        Man   20         NA         \n",
       "14 347082           31.2750       S        Man   39         NA         \n",
       "15 350406            7.8542       S        Woman 14         NA         \n",
       "16 248706           16.0000       S        Woman 55         NA         \n",
       "17 382652           29.1250       Q        Man    2         NA         \n",
       "18 244373           13.0000       S        Man   NA          3         \n",
       "19 345763           18.0000       S        Woman 31         NA         \n",
       "20 2649              7.2250       C        Woman NA         NA         \n",
       "   AgeNormalised\n",
       "1  0.024906399  \n",
       "2  0.043020144  \n",
       "3  0.029434836  \n",
       "4  0.039623817  \n",
       "5  0.039623817  \n",
       "6           NA  \n",
       "7  0.061133889  \n",
       "8  0.002264218  \n",
       "9  0.030566945  \n",
       "10 0.015849527  \n",
       "11 0.004528436  \n",
       "12 0.065662326  \n",
       "13 0.022642181  \n",
       "14 0.044152253  \n",
       "15 0.015849527  \n",
       "16 0.062265998  \n",
       "17 0.002264218  \n",
       "18          NA  \n",
       "19 0.035095381  \n",
       "20          NA  "
      ]
     },
     "metadata": {},
     "output_type": "display_data"
    }
   ],
   "source": [
    "myTitanicDataSet$AgeNormalised <- decostand(x=myTitanicDataSet$AgeNumeric,\"normalize\", 2, na.rm=TRUE)\n",
    "head(myTitanicDataSet,20)"
   ]
  },
  {
   "cell_type": "markdown",
   "metadata": {},
   "source": [
    "Como se puede ver en la salida anterior, la columna normalizada resultante tiene valores entre 0-1. El inconveniente de la normalización es que se pierden los valores atípicos ya que todo se ajusta a pequeña escala. La respuesta a esto es la estandarización que se explica a continuación."
   ]
  },
  {
   "cell_type": "markdown",
   "metadata": {},
   "source": [
    "<b>8. Estandarización:</b> Habrá momentos en los que se desee normalizar sus variables pero aún así mantener las ponderaciones de cada valor individual, incluidos los valores atípicos, en estas circunstancias es preferible utilizar la estandarización. La estandarización transformará su variable para que tenga una media cero y variación de unidad / desviación estándar."
   ]
  },
  {
   "cell_type": "code",
   "execution_count": 36,
   "metadata": {
    "scrolled": false
   },
   "outputs": [
    {
     "data": {
      "text/html": [
       "<table>\n",
       "<caption>A data.frame: 10 × 17</caption>\n",
       "<thead>\n",
       "\t<tr><th></th><th scope=col>PassengerId</th><th scope=col>Survived</th><th scope=col>Pclass</th><th scope=col>Name</th><th scope=col>Age</th><th scope=col>SibSp</th><th scope=col>Parch</th><th scope=col>Ticket</th><th scope=col>Fare</th><th scope=col>Cabin</th><th scope=col>Embarked</th><th scope=col>Sex</th><th scope=col>AgeNumeric</th><th scope=col>pred_Pclass</th><th scope=col>AgeNormalised</th><th scope=col>AgeStandardised</th><th scope=col>AgeBracket</th></tr>\n",
       "\t<tr><th></th><th scope=col>&lt;int&gt;</th><th scope=col>&lt;int&gt;</th><th scope=col>&lt;dbl&gt;</th><th scope=col>&lt;chr&gt;</th><th scope=col>&lt;chr&gt;</th><th scope=col>&lt;int&gt;</th><th scope=col>&lt;int&gt;</th><th scope=col>&lt;chr&gt;</th><th scope=col>&lt;dbl&gt;</th><th scope=col>&lt;chr&gt;</th><th scope=col>&lt;chr&gt;</th><th scope=col>&lt;chr&gt;</th><th scope=col>&lt;dbl&gt;</th><th scope=col>&lt;dbl&gt;</th><th scope=col>&lt;dbl[,1]&gt;</th><th scope=col>&lt;dbl[,1]&gt;</th><th scope=col>&lt;fct&gt;</th></tr>\n",
       "</thead>\n",
       "<tbody>\n",
       "\t<tr><th scope=row>1</th><td> 1</td><td>0</td><td>3</td><td>Braund, Mr. Owen Harris                            </td><td>22</td><td>1</td><td>0</td><td>A/5 21171       </td><td> 7.2500</td><td>    </td><td>S</td><td>Man  </td><td>22</td><td>NA</td><td>0.024906399</td><td>-0.5300051</td><td>Infant</td></tr>\n",
       "\t<tr><th scope=row>2</th><td> 2</td><td>1</td><td>1</td><td>Cumings, Mrs. John Bradley (Florence Briggs Thayer)</td><td>38</td><td>1</td><td>0</td><td>PC 17599        </td><td>71.2833</td><td>C85 </td><td>C</td><td>Woman</td><td>38</td><td>NA</td><td>0.043020144</td><td> 0.5714304</td><td>Infant</td></tr>\n",
       "\t<tr><th scope=row>3</th><td> 3</td><td>1</td><td>3</td><td>Heikkinen, Miss. Laina                             </td><td>26</td><td>0</td><td>0</td><td>STON/O2. 3101282</td><td> 7.9250</td><td>    </td><td>S</td><td>Woman</td><td>26</td><td>NA</td><td>0.029434836</td><td>-0.2546462</td><td>Infant</td></tr>\n",
       "\t<tr><th scope=row>4</th><td> 4</td><td>1</td><td>1</td><td>Futrelle, Mrs. Jacques Heath (Lily May Peel)       </td><td>35</td><td>1</td><td>0</td><td>113803          </td><td>53.1000</td><td>C123</td><td>S</td><td>Woman</td><td>35</td><td>NA</td><td>0.039623817</td><td> 0.3649113</td><td>Infant</td></tr>\n",
       "\t<tr><th scope=row>5</th><td> 5</td><td>0</td><td>3</td><td>Allen, Mr. William Henry                           </td><td>35</td><td>0</td><td>0</td><td>373450          </td><td> 8.0500</td><td>    </td><td>S</td><td>Man  </td><td>35</td><td>NA</td><td>0.039623817</td><td> 0.3649113</td><td>Infant</td></tr>\n",
       "\t<tr><th scope=row>6</th><td> 6</td><td>0</td><td>3</td><td>Moran, Mr. James                                   </td><td>  </td><td>0</td><td>0</td><td>330877          </td><td> 8.4583</td><td>    </td><td>Q</td><td>Man  </td><td>NA</td><td>NA</td><td>         NA</td><td>        NA</td><td>NA    </td></tr>\n",
       "\t<tr><th scope=row>7</th><td> 7</td><td>0</td><td>1</td><td>McCarthy, Mr. Timothy J                            </td><td>54</td><td>0</td><td>0</td><td>17463           </td><td>51.8625</td><td>E46 </td><td>S</td><td>Man  </td><td>54</td><td>NA</td><td>0.061133889</td><td> 1.6728659</td><td>Infant</td></tr>\n",
       "\t<tr><th scope=row>8</th><td> 8</td><td>0</td><td>3</td><td>Palsson, Master. Gosta Leonard                     </td><td>2 </td><td>3</td><td>1</td><td>349909          </td><td>21.0750</td><td>    </td><td>S</td><td>Man  </td><td> 2</td><td>NA</td><td>0.002264218</td><td>-1.9067995</td><td>Infant</td></tr>\n",
       "\t<tr><th scope=row>9</th><td> 9</td><td>1</td><td>3</td><td>Johnson, Mrs. Oscar W (Elisabeth Vilhelmina Berg)  </td><td>27</td><td>0</td><td>2</td><td>347742          </td><td>11.1333</td><td>    </td><td>S</td><td>Woman</td><td>27</td><td>NA</td><td>0.030566945</td><td>-0.1858065</td><td>Infant</td></tr>\n",
       "\t<tr><th scope=row>10</th><td>10</td><td>1</td><td>2</td><td>Nasser, Mrs. Nicholas (Adele Achem)                </td><td>14</td><td>1</td><td>0</td><td>237736          </td><td>30.0708</td><td>    </td><td>C</td><td>Woman</td><td>14</td><td>NA</td><td>0.015849527</td><td>-1.0807229</td><td>Infant</td></tr>\n",
       "</tbody>\n",
       "</table>\n"
      ],
      "text/latex": [
       "A data.frame: 10 × 17\n",
       "\\begin{tabular}{r|lllllllllllllllll}\n",
       "  & PassengerId & Survived & Pclass & Name & Age & SibSp & Parch & Ticket & Fare & Cabin & Embarked & Sex & AgeNumeric & pred\\_Pclass & AgeNormalised & AgeStandardised & AgeBracket\\\\\n",
       "  & <int> & <int> & <dbl> & <chr> & <chr> & <int> & <int> & <chr> & <dbl> & <chr> & <chr> & <chr> & <dbl> & <dbl> & <dbl{[},1{]}> & <dbl{[},1{]}> & <fct>\\\\\n",
       "\\hline\n",
       "\t1 &  1 & 0 & 3 & Braund, Mr. Owen Harris                             & 22 & 1 & 0 & A/5 21171        &  7.2500 &      & S & Man   & 22 & NA & 0.024906399 & -0.5300051 & Infant\\\\\n",
       "\t2 &  2 & 1 & 1 & Cumings, Mrs. John Bradley (Florence Briggs Thayer) & 38 & 1 & 0 & PC 17599         & 71.2833 & C85  & C & Woman & 38 & NA & 0.043020144 &  0.5714304 & Infant\\\\\n",
       "\t3 &  3 & 1 & 3 & Heikkinen, Miss. Laina                              & 26 & 0 & 0 & STON/O2. 3101282 &  7.9250 &      & S & Woman & 26 & NA & 0.029434836 & -0.2546462 & Infant\\\\\n",
       "\t4 &  4 & 1 & 1 & Futrelle, Mrs. Jacques Heath (Lily May Peel)        & 35 & 1 & 0 & 113803           & 53.1000 & C123 & S & Woman & 35 & NA & 0.039623817 &  0.3649113 & Infant\\\\\n",
       "\t5 &  5 & 0 & 3 & Allen, Mr. William Henry                            & 35 & 0 & 0 & 373450           &  8.0500 &      & S & Man   & 35 & NA & 0.039623817 &  0.3649113 & Infant\\\\\n",
       "\t6 &  6 & 0 & 3 & Moran, Mr. James                                    &    & 0 & 0 & 330877           &  8.4583 &      & Q & Man   & NA & NA &          NA &         NA & NA    \\\\\n",
       "\t7 &  7 & 0 & 1 & McCarthy, Mr. Timothy J                             & 54 & 0 & 0 & 17463            & 51.8625 & E46  & S & Man   & 54 & NA & 0.061133889 &  1.6728659 & Infant\\\\\n",
       "\t8 &  8 & 0 & 3 & Palsson, Master. Gosta Leonard                      & 2  & 3 & 1 & 349909           & 21.0750 &      & S & Man   &  2 & NA & 0.002264218 & -1.9067995 & Infant\\\\\n",
       "\t9 &  9 & 1 & 3 & Johnson, Mrs. Oscar W (Elisabeth Vilhelmina Berg)   & 27 & 0 & 2 & 347742           & 11.1333 &      & S & Woman & 27 & NA & 0.030566945 & -0.1858065 & Infant\\\\\n",
       "\t10 & 10 & 1 & 2 & Nasser, Mrs. Nicholas (Adele Achem)                 & 14 & 1 & 0 & 237736           & 30.0708 &      & C & Woman & 14 & NA & 0.015849527 & -1.0807229 & Infant\\\\\n",
       "\\end{tabular}\n"
      ],
      "text/markdown": [
       "\n",
       "A data.frame: 10 × 17\n",
       "\n",
       "| <!--/--> | PassengerId &lt;int&gt; | Survived &lt;int&gt; | Pclass &lt;dbl&gt; | Name &lt;chr&gt; | Age &lt;chr&gt; | SibSp &lt;int&gt; | Parch &lt;int&gt; | Ticket &lt;chr&gt; | Fare &lt;dbl&gt; | Cabin &lt;chr&gt; | Embarked &lt;chr&gt; | Sex &lt;chr&gt; | AgeNumeric &lt;dbl&gt; | pred_Pclass &lt;dbl&gt; | AgeNormalised &lt;dbl[,1]&gt; | AgeStandardised &lt;dbl[,1]&gt; | AgeBracket &lt;fct&gt; |\n",
       "|---|---|---|---|---|---|---|---|---|---|---|---|---|---|---|---|---|---|\n",
       "| 1 |  1 | 0 | 3 | Braund, Mr. Owen Harris                             | 22 | 1 | 0 | A/5 21171        |  7.2500 | <!----> | S | Man   | 22 | NA | 0.024906399 | -0.5300051 | Infant |\n",
       "| 2 |  2 | 1 | 1 | Cumings, Mrs. John Bradley (Florence Briggs Thayer) | 38 | 1 | 0 | PC 17599         | 71.2833 | C85  | C | Woman | 38 | NA | 0.043020144 |  0.5714304 | Infant |\n",
       "| 3 |  3 | 1 | 3 | Heikkinen, Miss. Laina                              | 26 | 0 | 0 | STON/O2. 3101282 |  7.9250 | <!----> | S | Woman | 26 | NA | 0.029434836 | -0.2546462 | Infant |\n",
       "| 4 |  4 | 1 | 1 | Futrelle, Mrs. Jacques Heath (Lily May Peel)        | 35 | 1 | 0 | 113803           | 53.1000 | C123 | S | Woman | 35 | NA | 0.039623817 |  0.3649113 | Infant |\n",
       "| 5 |  5 | 0 | 3 | Allen, Mr. William Henry                            | 35 | 0 | 0 | 373450           |  8.0500 | <!----> | S | Man   | 35 | NA | 0.039623817 |  0.3649113 | Infant |\n",
       "| 6 |  6 | 0 | 3 | Moran, Mr. James                                    | <!----> | 0 | 0 | 330877           |  8.4583 | <!----> | Q | Man   | NA | NA |          NA |         NA | NA     |\n",
       "| 7 |  7 | 0 | 1 | McCarthy, Mr. Timothy J                             | 54 | 0 | 0 | 17463            | 51.8625 | E46  | S | Man   | 54 | NA | 0.061133889 |  1.6728659 | Infant |\n",
       "| 8 |  8 | 0 | 3 | Palsson, Master. Gosta Leonard                      | 2  | 3 | 1 | 349909           | 21.0750 | <!----> | S | Man   |  2 | NA | 0.002264218 | -1.9067995 | Infant |\n",
       "| 9 |  9 | 1 | 3 | Johnson, Mrs. Oscar W (Elisabeth Vilhelmina Berg)   | 27 | 0 | 2 | 347742           | 11.1333 | <!----> | S | Woman | 27 | NA | 0.030566945 | -0.1858065 | Infant |\n",
       "| 10 | 10 | 1 | 2 | Nasser, Mrs. Nicholas (Adele Achem)                 | 14 | 1 | 0 | 237736           | 30.0708 | <!----> | C | Woman | 14 | NA | 0.015849527 | -1.0807229 | Infant |\n",
       "\n"
      ],
      "text/plain": [
       "   PassengerId Survived Pclass\n",
       "1   1          0        3     \n",
       "2   2          1        1     \n",
       "3   3          1        3     \n",
       "4   4          1        1     \n",
       "5   5          0        3     \n",
       "6   6          0        3     \n",
       "7   7          0        1     \n",
       "8   8          0        3     \n",
       "9   9          1        3     \n",
       "10 10          1        2     \n",
       "   Name                                                Age SibSp Parch\n",
       "1  Braund, Mr. Owen Harris                             22  1     0    \n",
       "2  Cumings, Mrs. John Bradley (Florence Briggs Thayer) 38  1     0    \n",
       "3  Heikkinen, Miss. Laina                              26  0     0    \n",
       "4  Futrelle, Mrs. Jacques Heath (Lily May Peel)        35  1     0    \n",
       "5  Allen, Mr. William Henry                            35  0     0    \n",
       "6  Moran, Mr. James                                        0     0    \n",
       "7  McCarthy, Mr. Timothy J                             54  0     0    \n",
       "8  Palsson, Master. Gosta Leonard                      2   3     1    \n",
       "9  Johnson, Mrs. Oscar W (Elisabeth Vilhelmina Berg)   27  0     2    \n",
       "10 Nasser, Mrs. Nicholas (Adele Achem)                 14  1     0    \n",
       "   Ticket           Fare    Cabin Embarked Sex   AgeNumeric pred_Pclass\n",
       "1  A/5 21171         7.2500       S        Man   22         NA         \n",
       "2  PC 17599         71.2833 C85   C        Woman 38         NA         \n",
       "3  STON/O2. 3101282  7.9250       S        Woman 26         NA         \n",
       "4  113803           53.1000 C123  S        Woman 35         NA         \n",
       "5  373450            8.0500       S        Man   35         NA         \n",
       "6  330877            8.4583       Q        Man   NA         NA         \n",
       "7  17463            51.8625 E46   S        Man   54         NA         \n",
       "8  349909           21.0750       S        Man    2         NA         \n",
       "9  347742           11.1333       S        Woman 27         NA         \n",
       "10 237736           30.0708       C        Woman 14         NA         \n",
       "   AgeNormalised AgeStandardised AgeBracket\n",
       "1  0.024906399   -0.5300051      Infant    \n",
       "2  0.043020144    0.5714304      Infant    \n",
       "3  0.029434836   -0.2546462      Infant    \n",
       "4  0.039623817    0.3649113      Infant    \n",
       "5  0.039623817    0.3649113      Infant    \n",
       "6           NA           NA      NA        \n",
       "7  0.061133889    1.6728659      Infant    \n",
       "8  0.002264218   -1.9067995      Infant    \n",
       "9  0.030566945   -0.1858065      Infant    \n",
       "10 0.015849527   -1.0807229      Infant    "
      ]
     },
     "metadata": {},
     "output_type": "display_data"
    }
   ],
   "source": [
    "myTitanicDataSet$AgeStandardised <- scale(myTitanicDataSet[,\"AgeNormalised\"])\n",
    "head(myTitanicDataSet,10)"
   ]
  },
  {
   "cell_type": "markdown",
   "metadata": {},
   "source": [
    "Del resultado resultante se puede ver que la variable Age estandarizada ahora está en una escala nueva y más pequeña en comparación con la escala de variables original."
   ]
  },
  {
   "cell_type": "markdown",
   "metadata": {},
   "source": [
    "<b>9. Discretización / Agrupación:</b> Como se puede ver arriba, el resultado es una nueva columna que tiene diferentes categorías para la variable Age. Hay otras formas de diferenciar sus variables, como usar intervalos de frecuencia iguales o intervalos de longitud iguales."
   ]
  },
  {
   "cell_type": "code",
   "execution_count": 35,
   "metadata": {},
   "outputs": [
    {
     "data": {
      "text/html": [
       "<table>\n",
       "<caption>A data.frame: 10 × 17</caption>\n",
       "<thead>\n",
       "\t<tr><th></th><th scope=col>PassengerId</th><th scope=col>Survived</th><th scope=col>Pclass</th><th scope=col>Name</th><th scope=col>Age</th><th scope=col>SibSp</th><th scope=col>Parch</th><th scope=col>Ticket</th><th scope=col>Fare</th><th scope=col>Cabin</th><th scope=col>Embarked</th><th scope=col>Sex</th><th scope=col>AgeNumeric</th><th scope=col>pred_Pclass</th><th scope=col>AgeNormalised</th><th scope=col>AgeStandardised</th><th scope=col>AgeBracket</th></tr>\n",
       "\t<tr><th></th><th scope=col>&lt;int&gt;</th><th scope=col>&lt;int&gt;</th><th scope=col>&lt;dbl&gt;</th><th scope=col>&lt;chr&gt;</th><th scope=col>&lt;chr&gt;</th><th scope=col>&lt;int&gt;</th><th scope=col>&lt;int&gt;</th><th scope=col>&lt;chr&gt;</th><th scope=col>&lt;dbl&gt;</th><th scope=col>&lt;chr&gt;</th><th scope=col>&lt;chr&gt;</th><th scope=col>&lt;chr&gt;</th><th scope=col>&lt;dbl&gt;</th><th scope=col>&lt;dbl&gt;</th><th scope=col>&lt;dbl[,1]&gt;</th><th scope=col>&lt;dbl[,1]&gt;</th><th scope=col>&lt;fct&gt;</th></tr>\n",
       "</thead>\n",
       "<tbody>\n",
       "\t<tr><th scope=row>1</th><td> 1</td><td>0</td><td>3</td><td>Braund, Mr. Owen Harris                            </td><td>22</td><td>1</td><td>0</td><td>A/5 21171       </td><td> 7.2500</td><td>    </td><td>S</td><td>Man  </td><td>22</td><td>NA</td><td>0.024906399</td><td>-0.5300051</td><td>Infant</td></tr>\n",
       "\t<tr><th scope=row>2</th><td> 2</td><td>1</td><td>1</td><td>Cumings, Mrs. John Bradley (Florence Briggs Thayer)</td><td>38</td><td>1</td><td>0</td><td>PC 17599        </td><td>71.2833</td><td>C85 </td><td>C</td><td>Woman</td><td>38</td><td>NA</td><td>0.043020144</td><td> 0.5714304</td><td>Infant</td></tr>\n",
       "\t<tr><th scope=row>3</th><td> 3</td><td>1</td><td>3</td><td>Heikkinen, Miss. Laina                             </td><td>26</td><td>0</td><td>0</td><td>STON/O2. 3101282</td><td> 7.9250</td><td>    </td><td>S</td><td>Woman</td><td>26</td><td>NA</td><td>0.029434836</td><td>-0.2546462</td><td>Infant</td></tr>\n",
       "\t<tr><th scope=row>4</th><td> 4</td><td>1</td><td>1</td><td>Futrelle, Mrs. Jacques Heath (Lily May Peel)       </td><td>35</td><td>1</td><td>0</td><td>113803          </td><td>53.1000</td><td>C123</td><td>S</td><td>Woman</td><td>35</td><td>NA</td><td>0.039623817</td><td> 0.3649113</td><td>Infant</td></tr>\n",
       "\t<tr><th scope=row>5</th><td> 5</td><td>0</td><td>3</td><td>Allen, Mr. William Henry                           </td><td>35</td><td>0</td><td>0</td><td>373450          </td><td> 8.0500</td><td>    </td><td>S</td><td>Man  </td><td>35</td><td>NA</td><td>0.039623817</td><td> 0.3649113</td><td>Infant</td></tr>\n",
       "\t<tr><th scope=row>6</th><td> 6</td><td>0</td><td>3</td><td>Moran, Mr. James                                   </td><td>  </td><td>0</td><td>0</td><td>330877          </td><td> 8.4583</td><td>    </td><td>Q</td><td>Man  </td><td>NA</td><td>NA</td><td>         NA</td><td>        NA</td><td>NA    </td></tr>\n",
       "\t<tr><th scope=row>7</th><td> 7</td><td>0</td><td>1</td><td>McCarthy, Mr. Timothy J                            </td><td>54</td><td>0</td><td>0</td><td>17463           </td><td>51.8625</td><td>E46 </td><td>S</td><td>Man  </td><td>54</td><td>NA</td><td>0.061133889</td><td> 1.6728659</td><td>Infant</td></tr>\n",
       "\t<tr><th scope=row>8</th><td> 8</td><td>0</td><td>3</td><td>Palsson, Master. Gosta Leonard                     </td><td>2 </td><td>3</td><td>1</td><td>349909          </td><td>21.0750</td><td>    </td><td>S</td><td>Man  </td><td> 2</td><td>NA</td><td>0.002264218</td><td>-1.9067995</td><td>Infant</td></tr>\n",
       "\t<tr><th scope=row>9</th><td> 9</td><td>1</td><td>3</td><td>Johnson, Mrs. Oscar W (Elisabeth Vilhelmina Berg)  </td><td>27</td><td>0</td><td>2</td><td>347742          </td><td>11.1333</td><td>    </td><td>S</td><td>Woman</td><td>27</td><td>NA</td><td>0.030566945</td><td>-0.1858065</td><td>Infant</td></tr>\n",
       "\t<tr><th scope=row>10</th><td>10</td><td>1</td><td>2</td><td>Nasser, Mrs. Nicholas (Adele Achem)                </td><td>14</td><td>1</td><td>0</td><td>237736          </td><td>30.0708</td><td>    </td><td>C</td><td>Woman</td><td>14</td><td>NA</td><td>0.015849527</td><td>-1.0807229</td><td>Infant</td></tr>\n",
       "</tbody>\n",
       "</table>\n"
      ],
      "text/latex": [
       "A data.frame: 10 × 17\n",
       "\\begin{tabular}{r|lllllllllllllllll}\n",
       "  & PassengerId & Survived & Pclass & Name & Age & SibSp & Parch & Ticket & Fare & Cabin & Embarked & Sex & AgeNumeric & pred\\_Pclass & AgeNormalised & AgeStandardised & AgeBracket\\\\\n",
       "  & <int> & <int> & <dbl> & <chr> & <chr> & <int> & <int> & <chr> & <dbl> & <chr> & <chr> & <chr> & <dbl> & <dbl> & <dbl{[},1{]}> & <dbl{[},1{]}> & <fct>\\\\\n",
       "\\hline\n",
       "\t1 &  1 & 0 & 3 & Braund, Mr. Owen Harris                             & 22 & 1 & 0 & A/5 21171        &  7.2500 &      & S & Man   & 22 & NA & 0.024906399 & -0.5300051 & Infant\\\\\n",
       "\t2 &  2 & 1 & 1 & Cumings, Mrs. John Bradley (Florence Briggs Thayer) & 38 & 1 & 0 & PC 17599         & 71.2833 & C85  & C & Woman & 38 & NA & 0.043020144 &  0.5714304 & Infant\\\\\n",
       "\t3 &  3 & 1 & 3 & Heikkinen, Miss. Laina                              & 26 & 0 & 0 & STON/O2. 3101282 &  7.9250 &      & S & Woman & 26 & NA & 0.029434836 & -0.2546462 & Infant\\\\\n",
       "\t4 &  4 & 1 & 1 & Futrelle, Mrs. Jacques Heath (Lily May Peel)        & 35 & 1 & 0 & 113803           & 53.1000 & C123 & S & Woman & 35 & NA & 0.039623817 &  0.3649113 & Infant\\\\\n",
       "\t5 &  5 & 0 & 3 & Allen, Mr. William Henry                            & 35 & 0 & 0 & 373450           &  8.0500 &      & S & Man   & 35 & NA & 0.039623817 &  0.3649113 & Infant\\\\\n",
       "\t6 &  6 & 0 & 3 & Moran, Mr. James                                    &    & 0 & 0 & 330877           &  8.4583 &      & Q & Man   & NA & NA &          NA &         NA & NA    \\\\\n",
       "\t7 &  7 & 0 & 1 & McCarthy, Mr. Timothy J                             & 54 & 0 & 0 & 17463            & 51.8625 & E46  & S & Man   & 54 & NA & 0.061133889 &  1.6728659 & Infant\\\\\n",
       "\t8 &  8 & 0 & 3 & Palsson, Master. Gosta Leonard                      & 2  & 3 & 1 & 349909           & 21.0750 &      & S & Man   &  2 & NA & 0.002264218 & -1.9067995 & Infant\\\\\n",
       "\t9 &  9 & 1 & 3 & Johnson, Mrs. Oscar W (Elisabeth Vilhelmina Berg)   & 27 & 0 & 2 & 347742           & 11.1333 &      & S & Woman & 27 & NA & 0.030566945 & -0.1858065 & Infant\\\\\n",
       "\t10 & 10 & 1 & 2 & Nasser, Mrs. Nicholas (Adele Achem)                 & 14 & 1 & 0 & 237736           & 30.0708 &      & C & Woman & 14 & NA & 0.015849527 & -1.0807229 & Infant\\\\\n",
       "\\end{tabular}\n"
      ],
      "text/markdown": [
       "\n",
       "A data.frame: 10 × 17\n",
       "\n",
       "| <!--/--> | PassengerId &lt;int&gt; | Survived &lt;int&gt; | Pclass &lt;dbl&gt; | Name &lt;chr&gt; | Age &lt;chr&gt; | SibSp &lt;int&gt; | Parch &lt;int&gt; | Ticket &lt;chr&gt; | Fare &lt;dbl&gt; | Cabin &lt;chr&gt; | Embarked &lt;chr&gt; | Sex &lt;chr&gt; | AgeNumeric &lt;dbl&gt; | pred_Pclass &lt;dbl&gt; | AgeNormalised &lt;dbl[,1]&gt; | AgeStandardised &lt;dbl[,1]&gt; | AgeBracket &lt;fct&gt; |\n",
       "|---|---|---|---|---|---|---|---|---|---|---|---|---|---|---|---|---|---|\n",
       "| 1 |  1 | 0 | 3 | Braund, Mr. Owen Harris                             | 22 | 1 | 0 | A/5 21171        |  7.2500 | <!----> | S | Man   | 22 | NA | 0.024906399 | -0.5300051 | Infant |\n",
       "| 2 |  2 | 1 | 1 | Cumings, Mrs. John Bradley (Florence Briggs Thayer) | 38 | 1 | 0 | PC 17599         | 71.2833 | C85  | C | Woman | 38 | NA | 0.043020144 |  0.5714304 | Infant |\n",
       "| 3 |  3 | 1 | 3 | Heikkinen, Miss. Laina                              | 26 | 0 | 0 | STON/O2. 3101282 |  7.9250 | <!----> | S | Woman | 26 | NA | 0.029434836 | -0.2546462 | Infant |\n",
       "| 4 |  4 | 1 | 1 | Futrelle, Mrs. Jacques Heath (Lily May Peel)        | 35 | 1 | 0 | 113803           | 53.1000 | C123 | S | Woman | 35 | NA | 0.039623817 |  0.3649113 | Infant |\n",
       "| 5 |  5 | 0 | 3 | Allen, Mr. William Henry                            | 35 | 0 | 0 | 373450           |  8.0500 | <!----> | S | Man   | 35 | NA | 0.039623817 |  0.3649113 | Infant |\n",
       "| 6 |  6 | 0 | 3 | Moran, Mr. James                                    | <!----> | 0 | 0 | 330877           |  8.4583 | <!----> | Q | Man   | NA | NA |          NA |         NA | NA     |\n",
       "| 7 |  7 | 0 | 1 | McCarthy, Mr. Timothy J                             | 54 | 0 | 0 | 17463            | 51.8625 | E46  | S | Man   | 54 | NA | 0.061133889 |  1.6728659 | Infant |\n",
       "| 8 |  8 | 0 | 3 | Palsson, Master. Gosta Leonard                      | 2  | 3 | 1 | 349909           | 21.0750 | <!----> | S | Man   |  2 | NA | 0.002264218 | -1.9067995 | Infant |\n",
       "| 9 |  9 | 1 | 3 | Johnson, Mrs. Oscar W (Elisabeth Vilhelmina Berg)   | 27 | 0 | 2 | 347742           | 11.1333 | <!----> | S | Woman | 27 | NA | 0.030566945 | -0.1858065 | Infant |\n",
       "| 10 | 10 | 1 | 2 | Nasser, Mrs. Nicholas (Adele Achem)                 | 14 | 1 | 0 | 237736           | 30.0708 | <!----> | C | Woman | 14 | NA | 0.015849527 | -1.0807229 | Infant |\n",
       "\n"
      ],
      "text/plain": [
       "   PassengerId Survived Pclass\n",
       "1   1          0        3     \n",
       "2   2          1        1     \n",
       "3   3          1        3     \n",
       "4   4          1        1     \n",
       "5   5          0        3     \n",
       "6   6          0        3     \n",
       "7   7          0        1     \n",
       "8   8          0        3     \n",
       "9   9          1        3     \n",
       "10 10          1        2     \n",
       "   Name                                                Age SibSp Parch\n",
       "1  Braund, Mr. Owen Harris                             22  1     0    \n",
       "2  Cumings, Mrs. John Bradley (Florence Briggs Thayer) 38  1     0    \n",
       "3  Heikkinen, Miss. Laina                              26  0     0    \n",
       "4  Futrelle, Mrs. Jacques Heath (Lily May Peel)        35  1     0    \n",
       "5  Allen, Mr. William Henry                            35  0     0    \n",
       "6  Moran, Mr. James                                        0     0    \n",
       "7  McCarthy, Mr. Timothy J                             54  0     0    \n",
       "8  Palsson, Master. Gosta Leonard                      2   3     1    \n",
       "9  Johnson, Mrs. Oscar W (Elisabeth Vilhelmina Berg)   27  0     2    \n",
       "10 Nasser, Mrs. Nicholas (Adele Achem)                 14  1     0    \n",
       "   Ticket           Fare    Cabin Embarked Sex   AgeNumeric pred_Pclass\n",
       "1  A/5 21171         7.2500       S        Man   22         NA         \n",
       "2  PC 17599         71.2833 C85   C        Woman 38         NA         \n",
       "3  STON/O2. 3101282  7.9250       S        Woman 26         NA         \n",
       "4  113803           53.1000 C123  S        Woman 35         NA         \n",
       "5  373450            8.0500       S        Man   35         NA         \n",
       "6  330877            8.4583       Q        Man   NA         NA         \n",
       "7  17463            51.8625 E46   S        Man   54         NA         \n",
       "8  349909           21.0750       S        Man    2         NA         \n",
       "9  347742           11.1333       S        Woman 27         NA         \n",
       "10 237736           30.0708       C        Woman 14         NA         \n",
       "   AgeNormalised AgeStandardised AgeBracket\n",
       "1  0.024906399   -0.5300051      Infant    \n",
       "2  0.043020144    0.5714304      Infant    \n",
       "3  0.029434836   -0.2546462      Infant    \n",
       "4  0.039623817    0.3649113      Infant    \n",
       "5  0.039623817    0.3649113      Infant    \n",
       "6           NA           NA      NA        \n",
       "7  0.061133889    1.6728659      Infant    \n",
       "8  0.002264218   -1.9067995      Infant    \n",
       "9  0.030566945   -0.1858065      Infant    \n",
       "10 0.015849527   -1.0807229      Infant    "
      ]
     },
     "metadata": {},
     "output_type": "display_data"
    }
   ],
   "source": [
    "myTitanicDataSet$AgeBracket <- as.factor(\n",
    "    ifelse(myTitanicDataSet$AgeNormalised<=3,'Infant', \n",
    "    ifelse(myTitanicDataSet$AgeNormalised>3 & myTitanicDataSet$AgeNormalised<=12,'Child', \n",
    "    ifelse(myTitanicDataSet$AgeNormalised>12 & myTitanicDataSet$AgeNormalised<=19,'Teenager',\n",
    "    ifelse(myTitanicDataSet$AgeNormalised>20 & myTitanicDataSet$AgeNormalised<=35,'Young Adult',\n",
    "    ifelse(myTitanicDataSet$AgeNormalised>35 & myTitanicDataSet$AgeNormalised<=45,'Middle Age', 'Elderly'))))))\n",
    "\n",
    "head(myTitanicDataSet,10)"
   ]
  }
 ],
 "metadata": {
  "kernelspec": {
   "display_name": "R",
   "language": "R",
   "name": "ir"
  },
  "language_info": {
   "codemirror_mode": "r",
   "file_extension": ".r",
   "mimetype": "text/x-r-source",
   "name": "R",
   "pygments_lexer": "r",
   "version": "3.6.2"
  }
 },
 "nbformat": 4,
 "nbformat_minor": 2
}
