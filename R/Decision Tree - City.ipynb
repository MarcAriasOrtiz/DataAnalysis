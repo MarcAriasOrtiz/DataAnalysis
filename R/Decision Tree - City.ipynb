{
 "cells": [
  {
   "cell_type": "markdown",
   "metadata": {},
   "source": [
    "# 1.Training and validation - Classification Decision Tree Boston Dataset"
   ]
  },
  {
   "cell_type": "code",
   "execution_count": 1,
   "metadata": {},
   "outputs": [
    {
     "name": "stderr",
     "output_type": "stream",
     "text": [
      "Loading required package: lattice\n",
      "\n",
      "Loading required package: ggplot2\n",
      "\n",
      "Warning message:\n",
      "“package ‘rattle’ was built under R version 4.0.3”\n",
      "Loading required package: tibble\n",
      "\n",
      "Loading required package: bitops\n",
      "\n",
      "Rattle: A free graphical interface for data science with R.\n",
      "Version 5.4.0 Copyright (c) 2006-2020 Togaware Pty Ltd.\n",
      "Type 'rattle()' to shake, rattle, and roll your data.\n",
      "\n"
     ]
    }
   ],
   "source": [
    "# Librerias base\n",
    "library(caret) # Libreria de Machine learning\n",
    "library(Matrix) # Libreria para componer eleentos matriciales\n",
    "library(rpart) # Libreria para generar el decision tree\n",
    "library(e1071)\n",
    "\n",
    "# Librerias para visualizar el decision tree\n",
    "library(rattle)\n",
    "library(rpart.plot)\n",
    "library(RColorBrewer)"
   ]
  },
  {
   "cell_type": "markdown",
   "metadata": {},
   "source": [
    "Cargamos el raw dataset"
   ]
  },
  {
   "cell_type": "code",
   "execution_count": 2,
   "metadata": {},
   "outputs": [
    {
     "data": {
      "text/html": [
       "<table>\n",
       "<caption>A data.frame: 6 × 15</caption>\n",
       "<thead>\n",
       "\t<tr><th></th><th scope=col>crime_index</th><th scope=col>urban_ratio</th><th scope=col>industry_ratio</th><th scope=col>c_river_variable</th><th scope=col>nox_concentration</th><th scope=col>rooms_per_dwelling</th><th scope=col>dwelling_age</th><th scope=col>dwelling_dist</th><th scope=col>highway_index</th><th scope=col>tax_ratio</th><th scope=col>teacher_ratio</th><th scope=col>racial_index</th><th scope=col>lower_status</th><th scope=col>median_value</th><th scope=col>class</th></tr>\n",
       "\t<tr><th></th><th scope=col>&lt;dbl&gt;</th><th scope=col>&lt;dbl&gt;</th><th scope=col>&lt;dbl&gt;</th><th scope=col>&lt;int&gt;</th><th scope=col>&lt;dbl&gt;</th><th scope=col>&lt;dbl&gt;</th><th scope=col>&lt;dbl&gt;</th><th scope=col>&lt;dbl&gt;</th><th scope=col>&lt;int&gt;</th><th scope=col>&lt;int&gt;</th><th scope=col>&lt;dbl&gt;</th><th scope=col>&lt;dbl&gt;</th><th scope=col>&lt;dbl&gt;</th><th scope=col>&lt;dbl&gt;</th><th scope=col>&lt;int&gt;</th></tr>\n",
       "</thead>\n",
       "<tbody>\n",
       "\t<tr><th scope=row>1</th><td>0.00632</td><td>18</td><td>2.31</td><td>0</td><td>0.538</td><td>6.575</td><td>65.2</td><td>4.0900</td><td>1</td><td>296</td><td>15.3</td><td>396.90</td><td>4.98</td><td>24.0</td><td>0</td></tr>\n",
       "\t<tr><th scope=row>2</th><td>0.02731</td><td> 0</td><td>7.07</td><td>0</td><td>0.469</td><td>6.421</td><td>78.9</td><td>4.9671</td><td>2</td><td>242</td><td>17.8</td><td>396.90</td><td>9.14</td><td>21.6</td><td>0</td></tr>\n",
       "\t<tr><th scope=row>3</th><td>0.02729</td><td> 0</td><td>7.07</td><td>0</td><td>0.469</td><td>7.185</td><td>61.1</td><td>4.9671</td><td>2</td><td>242</td><td>17.8</td><td>392.83</td><td>4.03</td><td>34.7</td><td>0</td></tr>\n",
       "\t<tr><th scope=row>4</th><td>0.03237</td><td> 0</td><td>2.18</td><td>0</td><td>0.458</td><td>6.998</td><td>45.8</td><td>6.0622</td><td>3</td><td>222</td><td>18.7</td><td>394.63</td><td>2.94</td><td>33.4</td><td>0</td></tr>\n",
       "\t<tr><th scope=row>5</th><td>0.06905</td><td> 0</td><td>2.18</td><td>0</td><td>0.458</td><td>7.147</td><td>54.2</td><td>6.0622</td><td>3</td><td>222</td><td>18.7</td><td>396.90</td><td>5.33</td><td>36.2</td><td>0</td></tr>\n",
       "\t<tr><th scope=row>6</th><td>0.02985</td><td> 0</td><td>2.18</td><td>0</td><td>0.458</td><td>6.430</td><td>58.7</td><td>6.0622</td><td>3</td><td>222</td><td>18.7</td><td>394.12</td><td>5.21</td><td>28.7</td><td>0</td></tr>\n",
       "</tbody>\n",
       "</table>\n"
      ],
      "text/latex": [
       "A data.frame: 6 × 15\n",
       "\\begin{tabular}{r|lllllllllllllll}\n",
       "  & crime\\_index & urban\\_ratio & industry\\_ratio & c\\_river\\_variable & nox\\_concentration & rooms\\_per\\_dwelling & dwelling\\_age & dwelling\\_dist & highway\\_index & tax\\_ratio & teacher\\_ratio & racial\\_index & lower\\_status & median\\_value & class\\\\\n",
       "  & <dbl> & <dbl> & <dbl> & <int> & <dbl> & <dbl> & <dbl> & <dbl> & <int> & <int> & <dbl> & <dbl> & <dbl> & <dbl> & <int>\\\\\n",
       "\\hline\n",
       "\t1 & 0.00632 & 18 & 2.31 & 0 & 0.538 & 6.575 & 65.2 & 4.0900 & 1 & 296 & 15.3 & 396.90 & 4.98 & 24.0 & 0\\\\\n",
       "\t2 & 0.02731 &  0 & 7.07 & 0 & 0.469 & 6.421 & 78.9 & 4.9671 & 2 & 242 & 17.8 & 396.90 & 9.14 & 21.6 & 0\\\\\n",
       "\t3 & 0.02729 &  0 & 7.07 & 0 & 0.469 & 7.185 & 61.1 & 4.9671 & 2 & 242 & 17.8 & 392.83 & 4.03 & 34.7 & 0\\\\\n",
       "\t4 & 0.03237 &  0 & 2.18 & 0 & 0.458 & 6.998 & 45.8 & 6.0622 & 3 & 222 & 18.7 & 394.63 & 2.94 & 33.4 & 0\\\\\n",
       "\t5 & 0.06905 &  0 & 2.18 & 0 & 0.458 & 7.147 & 54.2 & 6.0622 & 3 & 222 & 18.7 & 396.90 & 5.33 & 36.2 & 0\\\\\n",
       "\t6 & 0.02985 &  0 & 2.18 & 0 & 0.458 & 6.430 & 58.7 & 6.0622 & 3 & 222 & 18.7 & 394.12 & 5.21 & 28.7 & 0\\\\\n",
       "\\end{tabular}\n"
      ],
      "text/markdown": [
       "\n",
       "A data.frame: 6 × 15\n",
       "\n",
       "| <!--/--> | crime_index &lt;dbl&gt; | urban_ratio &lt;dbl&gt; | industry_ratio &lt;dbl&gt; | c_river_variable &lt;int&gt; | nox_concentration &lt;dbl&gt; | rooms_per_dwelling &lt;dbl&gt; | dwelling_age &lt;dbl&gt; | dwelling_dist &lt;dbl&gt; | highway_index &lt;int&gt; | tax_ratio &lt;int&gt; | teacher_ratio &lt;dbl&gt; | racial_index &lt;dbl&gt; | lower_status &lt;dbl&gt; | median_value &lt;dbl&gt; | class &lt;int&gt; |\n",
       "|---|---|---|---|---|---|---|---|---|---|---|---|---|---|---|---|\n",
       "| 1 | 0.00632 | 18 | 2.31 | 0 | 0.538 | 6.575 | 65.2 | 4.0900 | 1 | 296 | 15.3 | 396.90 | 4.98 | 24.0 | 0 |\n",
       "| 2 | 0.02731 |  0 | 7.07 | 0 | 0.469 | 6.421 | 78.9 | 4.9671 | 2 | 242 | 17.8 | 396.90 | 9.14 | 21.6 | 0 |\n",
       "| 3 | 0.02729 |  0 | 7.07 | 0 | 0.469 | 7.185 | 61.1 | 4.9671 | 2 | 242 | 17.8 | 392.83 | 4.03 | 34.7 | 0 |\n",
       "| 4 | 0.03237 |  0 | 2.18 | 0 | 0.458 | 6.998 | 45.8 | 6.0622 | 3 | 222 | 18.7 | 394.63 | 2.94 | 33.4 | 0 |\n",
       "| 5 | 0.06905 |  0 | 2.18 | 0 | 0.458 | 7.147 | 54.2 | 6.0622 | 3 | 222 | 18.7 | 396.90 | 5.33 | 36.2 | 0 |\n",
       "| 6 | 0.02985 |  0 | 2.18 | 0 | 0.458 | 6.430 | 58.7 | 6.0622 | 3 | 222 | 18.7 | 394.12 | 5.21 | 28.7 | 0 |\n",
       "\n"
      ],
      "text/plain": [
       "  crime_index urban_ratio industry_ratio c_river_variable nox_concentration\n",
       "1 0.00632     18          2.31           0                0.538            \n",
       "2 0.02731      0          7.07           0                0.469            \n",
       "3 0.02729      0          7.07           0                0.469            \n",
       "4 0.03237      0          2.18           0                0.458            \n",
       "5 0.06905      0          2.18           0                0.458            \n",
       "6 0.02985      0          2.18           0                0.458            \n",
       "  rooms_per_dwelling dwelling_age dwelling_dist highway_index tax_ratio\n",
       "1 6.575              65.2         4.0900        1             296      \n",
       "2 6.421              78.9         4.9671        2             242      \n",
       "3 7.185              61.1         4.9671        2             242      \n",
       "4 6.998              45.8         6.0622        3             222      \n",
       "5 7.147              54.2         6.0622        3             222      \n",
       "6 6.430              58.7         6.0622        3             222      \n",
       "  teacher_ratio racial_index lower_status median_value class\n",
       "1 15.3          396.90       4.98         24.0         0    \n",
       "2 17.8          396.90       9.14         21.6         0    \n",
       "3 17.8          392.83       4.03         34.7         0    \n",
       "4 18.7          394.63       2.94         33.4         0    \n",
       "5 18.7          396.90       5.33         36.2         0    \n",
       "6 18.7          394.12       5.21         28.7         0    "
      ]
     },
     "metadata": {},
     "output_type": "display_data"
    }
   ],
   "source": [
    "raw_data = read.csv('datos_ciudad.csv', sep = ',')\n",
    "head(raw_data)"
   ]
  },
  {
   "cell_type": "code",
   "execution_count": 3,
   "metadata": {},
   "outputs": [
    {
     "data": {
      "text/html": [
       "<table>\n",
       "<caption>A data.frame: 6 × 14</caption>\n",
       "<thead>\n",
       "\t<tr><th></th><th scope=col>crime_index</th><th scope=col>urban_ratio</th><th scope=col>industry_ratio</th><th scope=col>c_river_variable</th><th scope=col>nox_concentration</th><th scope=col>rooms_per_dwelling</th><th scope=col>dwelling_age</th><th scope=col>dwelling_dist</th><th scope=col>highway_index</th><th scope=col>tax_ratio</th><th scope=col>teacher_ratio</th><th scope=col>racial_index</th><th scope=col>lower_status</th><th scope=col>class</th></tr>\n",
       "\t<tr><th></th><th scope=col>&lt;dbl&gt;</th><th scope=col>&lt;dbl&gt;</th><th scope=col>&lt;dbl&gt;</th><th scope=col>&lt;int&gt;</th><th scope=col>&lt;dbl&gt;</th><th scope=col>&lt;dbl&gt;</th><th scope=col>&lt;dbl&gt;</th><th scope=col>&lt;dbl&gt;</th><th scope=col>&lt;int&gt;</th><th scope=col>&lt;int&gt;</th><th scope=col>&lt;dbl&gt;</th><th scope=col>&lt;dbl&gt;</th><th scope=col>&lt;dbl&gt;</th><th scope=col>&lt;int&gt;</th></tr>\n",
       "</thead>\n",
       "<tbody>\n",
       "\t<tr><th scope=row>1</th><td>0.00632</td><td>18</td><td>2.31</td><td>0</td><td>0.538</td><td>6.575</td><td>65.2</td><td>4.0900</td><td>1</td><td>296</td><td>15.3</td><td>396.90</td><td>4.98</td><td>0</td></tr>\n",
       "\t<tr><th scope=row>2</th><td>0.02731</td><td> 0</td><td>7.07</td><td>0</td><td>0.469</td><td>6.421</td><td>78.9</td><td>4.9671</td><td>2</td><td>242</td><td>17.8</td><td>396.90</td><td>9.14</td><td>0</td></tr>\n",
       "\t<tr><th scope=row>3</th><td>0.02729</td><td> 0</td><td>7.07</td><td>0</td><td>0.469</td><td>7.185</td><td>61.1</td><td>4.9671</td><td>2</td><td>242</td><td>17.8</td><td>392.83</td><td>4.03</td><td>0</td></tr>\n",
       "\t<tr><th scope=row>4</th><td>0.03237</td><td> 0</td><td>2.18</td><td>0</td><td>0.458</td><td>6.998</td><td>45.8</td><td>6.0622</td><td>3</td><td>222</td><td>18.7</td><td>394.63</td><td>2.94</td><td>0</td></tr>\n",
       "\t<tr><th scope=row>5</th><td>0.06905</td><td> 0</td><td>2.18</td><td>0</td><td>0.458</td><td>7.147</td><td>54.2</td><td>6.0622</td><td>3</td><td>222</td><td>18.7</td><td>396.90</td><td>5.33</td><td>0</td></tr>\n",
       "\t<tr><th scope=row>6</th><td>0.02985</td><td> 0</td><td>2.18</td><td>0</td><td>0.458</td><td>6.430</td><td>58.7</td><td>6.0622</td><td>3</td><td>222</td><td>18.7</td><td>394.12</td><td>5.21</td><td>0</td></tr>\n",
       "</tbody>\n",
       "</table>\n"
      ],
      "text/latex": [
       "A data.frame: 6 × 14\n",
       "\\begin{tabular}{r|llllllllllllll}\n",
       "  & crime\\_index & urban\\_ratio & industry\\_ratio & c\\_river\\_variable & nox\\_concentration & rooms\\_per\\_dwelling & dwelling\\_age & dwelling\\_dist & highway\\_index & tax\\_ratio & teacher\\_ratio & racial\\_index & lower\\_status & class\\\\\n",
       "  & <dbl> & <dbl> & <dbl> & <int> & <dbl> & <dbl> & <dbl> & <dbl> & <int> & <int> & <dbl> & <dbl> & <dbl> & <int>\\\\\n",
       "\\hline\n",
       "\t1 & 0.00632 & 18 & 2.31 & 0 & 0.538 & 6.575 & 65.2 & 4.0900 & 1 & 296 & 15.3 & 396.90 & 4.98 & 0\\\\\n",
       "\t2 & 0.02731 &  0 & 7.07 & 0 & 0.469 & 6.421 & 78.9 & 4.9671 & 2 & 242 & 17.8 & 396.90 & 9.14 & 0\\\\\n",
       "\t3 & 0.02729 &  0 & 7.07 & 0 & 0.469 & 7.185 & 61.1 & 4.9671 & 2 & 242 & 17.8 & 392.83 & 4.03 & 0\\\\\n",
       "\t4 & 0.03237 &  0 & 2.18 & 0 & 0.458 & 6.998 & 45.8 & 6.0622 & 3 & 222 & 18.7 & 394.63 & 2.94 & 0\\\\\n",
       "\t5 & 0.06905 &  0 & 2.18 & 0 & 0.458 & 7.147 & 54.2 & 6.0622 & 3 & 222 & 18.7 & 396.90 & 5.33 & 0\\\\\n",
       "\t6 & 0.02985 &  0 & 2.18 & 0 & 0.458 & 6.430 & 58.7 & 6.0622 & 3 & 222 & 18.7 & 394.12 & 5.21 & 0\\\\\n",
       "\\end{tabular}\n"
      ],
      "text/markdown": [
       "\n",
       "A data.frame: 6 × 14\n",
       "\n",
       "| <!--/--> | crime_index &lt;dbl&gt; | urban_ratio &lt;dbl&gt; | industry_ratio &lt;dbl&gt; | c_river_variable &lt;int&gt; | nox_concentration &lt;dbl&gt; | rooms_per_dwelling &lt;dbl&gt; | dwelling_age &lt;dbl&gt; | dwelling_dist &lt;dbl&gt; | highway_index &lt;int&gt; | tax_ratio &lt;int&gt; | teacher_ratio &lt;dbl&gt; | racial_index &lt;dbl&gt; | lower_status &lt;dbl&gt; | class &lt;int&gt; |\n",
       "|---|---|---|---|---|---|---|---|---|---|---|---|---|---|---|\n",
       "| 1 | 0.00632 | 18 | 2.31 | 0 | 0.538 | 6.575 | 65.2 | 4.0900 | 1 | 296 | 15.3 | 396.90 | 4.98 | 0 |\n",
       "| 2 | 0.02731 |  0 | 7.07 | 0 | 0.469 | 6.421 | 78.9 | 4.9671 | 2 | 242 | 17.8 | 396.90 | 9.14 | 0 |\n",
       "| 3 | 0.02729 |  0 | 7.07 | 0 | 0.469 | 7.185 | 61.1 | 4.9671 | 2 | 242 | 17.8 | 392.83 | 4.03 | 0 |\n",
       "| 4 | 0.03237 |  0 | 2.18 | 0 | 0.458 | 6.998 | 45.8 | 6.0622 | 3 | 222 | 18.7 | 394.63 | 2.94 | 0 |\n",
       "| 5 | 0.06905 |  0 | 2.18 | 0 | 0.458 | 7.147 | 54.2 | 6.0622 | 3 | 222 | 18.7 | 396.90 | 5.33 | 0 |\n",
       "| 6 | 0.02985 |  0 | 2.18 | 0 | 0.458 | 6.430 | 58.7 | 6.0622 | 3 | 222 | 18.7 | 394.12 | 5.21 | 0 |\n",
       "\n"
      ],
      "text/plain": [
       "  crime_index urban_ratio industry_ratio c_river_variable nox_concentration\n",
       "1 0.00632     18          2.31           0                0.538            \n",
       "2 0.02731      0          7.07           0                0.469            \n",
       "3 0.02729      0          7.07           0                0.469            \n",
       "4 0.03237      0          2.18           0                0.458            \n",
       "5 0.06905      0          2.18           0                0.458            \n",
       "6 0.02985      0          2.18           0                0.458            \n",
       "  rooms_per_dwelling dwelling_age dwelling_dist highway_index tax_ratio\n",
       "1 6.575              65.2         4.0900        1             296      \n",
       "2 6.421              78.9         4.9671        2             242      \n",
       "3 7.185              61.1         4.9671        2             242      \n",
       "4 6.998              45.8         6.0622        3             222      \n",
       "5 7.147              54.2         6.0622        3             222      \n",
       "6 6.430              58.7         6.0622        3             222      \n",
       "  teacher_ratio racial_index lower_status class\n",
       "1 15.3          396.90       4.98         0    \n",
       "2 17.8          396.90       9.14         0    \n",
       "3 17.8          392.83       4.03         0    \n",
       "4 18.7          394.63       2.94         0    \n",
       "5 18.7          396.90       5.33         0    \n",
       "6 18.7          394.12       5.21         0    "
      ]
     },
     "metadata": {},
     "output_type": "display_data"
    }
   ],
   "source": [
    "# En este caso retiramos la variable de median_value pues buscamos clasificar \n",
    "median_value = c(14)\n",
    "raw_data_no_value = raw_data[,-median_value]\n",
    "head(raw_data_no_value)"
   ]
  },
  {
   "cell_type": "code",
   "execution_count": 4,
   "metadata": {},
   "outputs": [],
   "source": [
    "# Generamos 2 datasets para nuestro modelo\n",
    "set.seed(123)\n",
    "\n",
    "# Percentages\n",
    "fractionTraining   <- 0.80\n",
    "fractionValidation <- 0.20\n",
    "\n",
    "# Compute sample sizes.\n",
    "sampleSizeTraining   <- floor(fractionTraining   * nrow(raw_data_no_value))\n",
    "sampleSizeValidation <- floor(fractionValidation * nrow(raw_data_no_value))\n",
    "\n",
    "# Create the randomly-sampled indices for the dataframe. Use setdiff() to\n",
    "# avoid overlapping subsets of indices.\n",
    "indicesTraining    <- sort(sample(seq_len(nrow(raw_data_no_value)), size=sampleSizeTraining))\n",
    "indicesNotTraining <- setdiff(seq_len(nrow(raw_data_no_value)), indicesTraining)\n",
    "indicesValidation  <- sort(sample(indicesNotTraining, size=sampleSizeValidation))\n",
    "\n",
    "# Finally, output the three dataframes for training, validation and test.\n",
    "dfTraining   <- raw_data_no_value[indicesTraining, ]\n",
    "dfValidation <- raw_data_no_value[indicesValidation, ]"
   ]
  },
  {
   "cell_type": "code",
   "execution_count": 5,
   "metadata": {
    "scrolled": false
   },
   "outputs": [
    {
     "data": {
      "text/html": [
       "<table>\n",
       "<caption>A data.frame: 6 × 14</caption>\n",
       "<thead>\n",
       "\t<tr><th></th><th scope=col>crime_index</th><th scope=col>urban_ratio</th><th scope=col>industry_ratio</th><th scope=col>c_river_variable</th><th scope=col>nox_concentration</th><th scope=col>rooms_per_dwelling</th><th scope=col>dwelling_age</th><th scope=col>dwelling_dist</th><th scope=col>highway_index</th><th scope=col>tax_ratio</th><th scope=col>teacher_ratio</th><th scope=col>racial_index</th><th scope=col>lower_status</th><th scope=col>class</th></tr>\n",
       "\t<tr><th></th><th scope=col>&lt;dbl&gt;</th><th scope=col>&lt;dbl&gt;</th><th scope=col>&lt;dbl&gt;</th><th scope=col>&lt;int&gt;</th><th scope=col>&lt;dbl&gt;</th><th scope=col>&lt;dbl&gt;</th><th scope=col>&lt;dbl&gt;</th><th scope=col>&lt;dbl&gt;</th><th scope=col>&lt;int&gt;</th><th scope=col>&lt;int&gt;</th><th scope=col>&lt;dbl&gt;</th><th scope=col>&lt;dbl&gt;</th><th scope=col>&lt;dbl&gt;</th><th scope=col>&lt;int&gt;</th></tr>\n",
       "</thead>\n",
       "<tbody>\n",
       "\t<tr><th scope=row>1</th><td>0.00632</td><td>18</td><td>2.31</td><td>0</td><td>0.538</td><td>6.575</td><td>65.2</td><td>4.0900</td><td>1</td><td>296</td><td>15.3</td><td>396.90</td><td> 4.98</td><td>0</td></tr>\n",
       "\t<tr><th scope=row>15</th><td>0.63796</td><td> 0</td><td>8.14</td><td>0</td><td>0.538</td><td>6.096</td><td>84.5</td><td>4.4619</td><td>4</td><td>307</td><td>21.0</td><td>380.02</td><td>10.26</td><td>0</td></tr>\n",
       "\t<tr><th scope=row>17</th><td>1.05393</td><td> 0</td><td>8.14</td><td>0</td><td>0.538</td><td>5.935</td><td>29.3</td><td>4.4986</td><td>4</td><td>307</td><td>21.0</td><td>386.85</td><td> 6.58</td><td>0</td></tr>\n",
       "\t<tr><th scope=row>19</th><td>0.80271</td><td> 0</td><td>8.14</td><td>0</td><td>0.538</td><td>5.456</td><td>36.6</td><td>3.7965</td><td>4</td><td>307</td><td>21.0</td><td>288.99</td><td>11.69</td><td>0</td></tr>\n",
       "\t<tr><th scope=row>28</th><td>0.95577</td><td> 0</td><td>8.14</td><td>0</td><td>0.538</td><td>6.047</td><td>88.8</td><td>4.4534</td><td>4</td><td>307</td><td>21.0</td><td>306.38</td><td>17.28</td><td>0</td></tr>\n",
       "\t<tr><th scope=row>37</th><td>0.09744</td><td> 0</td><td>5.96</td><td>0</td><td>0.499</td><td>5.841</td><td>61.4</td><td>3.3779</td><td>5</td><td>279</td><td>19.2</td><td>377.56</td><td>11.41</td><td>0</td></tr>\n",
       "</tbody>\n",
       "</table>\n"
      ],
      "text/latex": [
       "A data.frame: 6 × 14\n",
       "\\begin{tabular}{r|llllllllllllll}\n",
       "  & crime\\_index & urban\\_ratio & industry\\_ratio & c\\_river\\_variable & nox\\_concentration & rooms\\_per\\_dwelling & dwelling\\_age & dwelling\\_dist & highway\\_index & tax\\_ratio & teacher\\_ratio & racial\\_index & lower\\_status & class\\\\\n",
       "  & <dbl> & <dbl> & <dbl> & <int> & <dbl> & <dbl> & <dbl> & <dbl> & <int> & <int> & <dbl> & <dbl> & <dbl> & <int>\\\\\n",
       "\\hline\n",
       "\t1 & 0.00632 & 18 & 2.31 & 0 & 0.538 & 6.575 & 65.2 & 4.0900 & 1 & 296 & 15.3 & 396.90 &  4.98 & 0\\\\\n",
       "\t15 & 0.63796 &  0 & 8.14 & 0 & 0.538 & 6.096 & 84.5 & 4.4619 & 4 & 307 & 21.0 & 380.02 & 10.26 & 0\\\\\n",
       "\t17 & 1.05393 &  0 & 8.14 & 0 & 0.538 & 5.935 & 29.3 & 4.4986 & 4 & 307 & 21.0 & 386.85 &  6.58 & 0\\\\\n",
       "\t19 & 0.80271 &  0 & 8.14 & 0 & 0.538 & 5.456 & 36.6 & 3.7965 & 4 & 307 & 21.0 & 288.99 & 11.69 & 0\\\\\n",
       "\t28 & 0.95577 &  0 & 8.14 & 0 & 0.538 & 6.047 & 88.8 & 4.4534 & 4 & 307 & 21.0 & 306.38 & 17.28 & 0\\\\\n",
       "\t37 & 0.09744 &  0 & 5.96 & 0 & 0.499 & 5.841 & 61.4 & 3.3779 & 5 & 279 & 19.2 & 377.56 & 11.41 & 0\\\\\n",
       "\\end{tabular}\n"
      ],
      "text/markdown": [
       "\n",
       "A data.frame: 6 × 14\n",
       "\n",
       "| <!--/--> | crime_index &lt;dbl&gt; | urban_ratio &lt;dbl&gt; | industry_ratio &lt;dbl&gt; | c_river_variable &lt;int&gt; | nox_concentration &lt;dbl&gt; | rooms_per_dwelling &lt;dbl&gt; | dwelling_age &lt;dbl&gt; | dwelling_dist &lt;dbl&gt; | highway_index &lt;int&gt; | tax_ratio &lt;int&gt; | teacher_ratio &lt;dbl&gt; | racial_index &lt;dbl&gt; | lower_status &lt;dbl&gt; | class &lt;int&gt; |\n",
       "|---|---|---|---|---|---|---|---|---|---|---|---|---|---|---|\n",
       "| 1 | 0.00632 | 18 | 2.31 | 0 | 0.538 | 6.575 | 65.2 | 4.0900 | 1 | 296 | 15.3 | 396.90 |  4.98 | 0 |\n",
       "| 15 | 0.63796 |  0 | 8.14 | 0 | 0.538 | 6.096 | 84.5 | 4.4619 | 4 | 307 | 21.0 | 380.02 | 10.26 | 0 |\n",
       "| 17 | 1.05393 |  0 | 8.14 | 0 | 0.538 | 5.935 | 29.3 | 4.4986 | 4 | 307 | 21.0 | 386.85 |  6.58 | 0 |\n",
       "| 19 | 0.80271 |  0 | 8.14 | 0 | 0.538 | 5.456 | 36.6 | 3.7965 | 4 | 307 | 21.0 | 288.99 | 11.69 | 0 |\n",
       "| 28 | 0.95577 |  0 | 8.14 | 0 | 0.538 | 6.047 | 88.8 | 4.4534 | 4 | 307 | 21.0 | 306.38 | 17.28 | 0 |\n",
       "| 37 | 0.09744 |  0 | 5.96 | 0 | 0.499 | 5.841 | 61.4 | 3.3779 | 5 | 279 | 19.2 | 377.56 | 11.41 | 0 |\n",
       "\n"
      ],
      "text/plain": [
       "   crime_index urban_ratio industry_ratio c_river_variable nox_concentration\n",
       "1  0.00632     18          2.31           0                0.538            \n",
       "15 0.63796      0          8.14           0                0.538            \n",
       "17 1.05393      0          8.14           0                0.538            \n",
       "19 0.80271      0          8.14           0                0.538            \n",
       "28 0.95577      0          8.14           0                0.538            \n",
       "37 0.09744      0          5.96           0                0.499            \n",
       "   rooms_per_dwelling dwelling_age dwelling_dist highway_index tax_ratio\n",
       "1  6.575              65.2         4.0900        1             296      \n",
       "15 6.096              84.5         4.4619        4             307      \n",
       "17 5.935              29.3         4.4986        4             307      \n",
       "19 5.456              36.6         3.7965        4             307      \n",
       "28 6.047              88.8         4.4534        4             307      \n",
       "37 5.841              61.4         3.3779        5             279      \n",
       "   teacher_ratio racial_index lower_status class\n",
       "1  15.3          396.90        4.98        0    \n",
       "15 21.0          380.02       10.26        0    \n",
       "17 21.0          386.85        6.58        0    \n",
       "19 21.0          288.99       11.69        0    \n",
       "28 21.0          306.38       17.28        0    \n",
       "37 19.2          377.56       11.41        0    "
      ]
     },
     "metadata": {},
     "output_type": "display_data"
    },
    {
     "data": {
      "text/html": [
       "<table>\n",
       "<caption>A data.frame: 6 × 14</caption>\n",
       "<thead>\n",
       "\t<tr><th></th><th scope=col>crime_index</th><th scope=col>urban_ratio</th><th scope=col>industry_ratio</th><th scope=col>c_river_variable</th><th scope=col>nox_concentration</th><th scope=col>rooms_per_dwelling</th><th scope=col>dwelling_age</th><th scope=col>dwelling_dist</th><th scope=col>highway_index</th><th scope=col>tax_ratio</th><th scope=col>teacher_ratio</th><th scope=col>racial_index</th><th scope=col>lower_status</th><th scope=col>class</th></tr>\n",
       "\t<tr><th></th><th scope=col>&lt;dbl&gt;</th><th scope=col>&lt;dbl&gt;</th><th scope=col>&lt;dbl&gt;</th><th scope=col>&lt;int&gt;</th><th scope=col>&lt;dbl&gt;</th><th scope=col>&lt;dbl&gt;</th><th scope=col>&lt;dbl&gt;</th><th scope=col>&lt;dbl&gt;</th><th scope=col>&lt;int&gt;</th><th scope=col>&lt;int&gt;</th><th scope=col>&lt;dbl&gt;</th><th scope=col>&lt;dbl&gt;</th><th scope=col>&lt;dbl&gt;</th><th scope=col>&lt;int&gt;</th></tr>\n",
       "</thead>\n",
       "<tbody>\n",
       "\t<tr><th scope=row>2</th><td>0.02731</td><td> 0.0</td><td>7.07</td><td>0</td><td>0.469</td><td>6.421</td><td>78.9</td><td>4.9671</td><td>2</td><td>242</td><td>17.8</td><td>396.90</td><td> 9.14</td><td>0</td></tr>\n",
       "\t<tr><th scope=row>3</th><td>0.02729</td><td> 0.0</td><td>7.07</td><td>0</td><td>0.469</td><td>7.185</td><td>61.1</td><td>4.9671</td><td>2</td><td>242</td><td>17.8</td><td>392.83</td><td> 4.03</td><td>0</td></tr>\n",
       "\t<tr><th scope=row>4</th><td>0.03237</td><td> 0.0</td><td>2.18</td><td>0</td><td>0.458</td><td>6.998</td><td>45.8</td><td>6.0622</td><td>3</td><td>222</td><td>18.7</td><td>394.63</td><td> 2.94</td><td>0</td></tr>\n",
       "\t<tr><th scope=row>5</th><td>0.06905</td><td> 0.0</td><td>2.18</td><td>0</td><td>0.458</td><td>7.147</td><td>54.2</td><td>6.0622</td><td>3</td><td>222</td><td>18.7</td><td>396.90</td><td> 5.33</td><td>0</td></tr>\n",
       "\t<tr><th scope=row>6</th><td>0.02985</td><td> 0.0</td><td>2.18</td><td>0</td><td>0.458</td><td>6.430</td><td>58.7</td><td>6.0622</td><td>3</td><td>222</td><td>18.7</td><td>394.12</td><td> 5.21</td><td>0</td></tr>\n",
       "\t<tr><th scope=row>7</th><td>0.08829</td><td>12.5</td><td>7.87</td><td>0</td><td>0.524</td><td>6.012</td><td>66.6</td><td>5.5605</td><td>5</td><td>311</td><td>15.2</td><td>395.60</td><td>12.43</td><td>0</td></tr>\n",
       "</tbody>\n",
       "</table>\n"
      ],
      "text/latex": [
       "A data.frame: 6 × 14\n",
       "\\begin{tabular}{r|llllllllllllll}\n",
       "  & crime\\_index & urban\\_ratio & industry\\_ratio & c\\_river\\_variable & nox\\_concentration & rooms\\_per\\_dwelling & dwelling\\_age & dwelling\\_dist & highway\\_index & tax\\_ratio & teacher\\_ratio & racial\\_index & lower\\_status & class\\\\\n",
       "  & <dbl> & <dbl> & <dbl> & <int> & <dbl> & <dbl> & <dbl> & <dbl> & <int> & <int> & <dbl> & <dbl> & <dbl> & <int>\\\\\n",
       "\\hline\n",
       "\t2 & 0.02731 &  0.0 & 7.07 & 0 & 0.469 & 6.421 & 78.9 & 4.9671 & 2 & 242 & 17.8 & 396.90 &  9.14 & 0\\\\\n",
       "\t3 & 0.02729 &  0.0 & 7.07 & 0 & 0.469 & 7.185 & 61.1 & 4.9671 & 2 & 242 & 17.8 & 392.83 &  4.03 & 0\\\\\n",
       "\t4 & 0.03237 &  0.0 & 2.18 & 0 & 0.458 & 6.998 & 45.8 & 6.0622 & 3 & 222 & 18.7 & 394.63 &  2.94 & 0\\\\\n",
       "\t5 & 0.06905 &  0.0 & 2.18 & 0 & 0.458 & 7.147 & 54.2 & 6.0622 & 3 & 222 & 18.7 & 396.90 &  5.33 & 0\\\\\n",
       "\t6 & 0.02985 &  0.0 & 2.18 & 0 & 0.458 & 6.430 & 58.7 & 6.0622 & 3 & 222 & 18.7 & 394.12 &  5.21 & 0\\\\\n",
       "\t7 & 0.08829 & 12.5 & 7.87 & 0 & 0.524 & 6.012 & 66.6 & 5.5605 & 5 & 311 & 15.2 & 395.60 & 12.43 & 0\\\\\n",
       "\\end{tabular}\n"
      ],
      "text/markdown": [
       "\n",
       "A data.frame: 6 × 14\n",
       "\n",
       "| <!--/--> | crime_index &lt;dbl&gt; | urban_ratio &lt;dbl&gt; | industry_ratio &lt;dbl&gt; | c_river_variable &lt;int&gt; | nox_concentration &lt;dbl&gt; | rooms_per_dwelling &lt;dbl&gt; | dwelling_age &lt;dbl&gt; | dwelling_dist &lt;dbl&gt; | highway_index &lt;int&gt; | tax_ratio &lt;int&gt; | teacher_ratio &lt;dbl&gt; | racial_index &lt;dbl&gt; | lower_status &lt;dbl&gt; | class &lt;int&gt; |\n",
       "|---|---|---|---|---|---|---|---|---|---|---|---|---|---|---|\n",
       "| 2 | 0.02731 |  0.0 | 7.07 | 0 | 0.469 | 6.421 | 78.9 | 4.9671 | 2 | 242 | 17.8 | 396.90 |  9.14 | 0 |\n",
       "| 3 | 0.02729 |  0.0 | 7.07 | 0 | 0.469 | 7.185 | 61.1 | 4.9671 | 2 | 242 | 17.8 | 392.83 |  4.03 | 0 |\n",
       "| 4 | 0.03237 |  0.0 | 2.18 | 0 | 0.458 | 6.998 | 45.8 | 6.0622 | 3 | 222 | 18.7 | 394.63 |  2.94 | 0 |\n",
       "| 5 | 0.06905 |  0.0 | 2.18 | 0 | 0.458 | 7.147 | 54.2 | 6.0622 | 3 | 222 | 18.7 | 396.90 |  5.33 | 0 |\n",
       "| 6 | 0.02985 |  0.0 | 2.18 | 0 | 0.458 | 6.430 | 58.7 | 6.0622 | 3 | 222 | 18.7 | 394.12 |  5.21 | 0 |\n",
       "| 7 | 0.08829 | 12.5 | 7.87 | 0 | 0.524 | 6.012 | 66.6 | 5.5605 | 5 | 311 | 15.2 | 395.60 | 12.43 | 0 |\n",
       "\n"
      ],
      "text/plain": [
       "  crime_index urban_ratio industry_ratio c_river_variable nox_concentration\n",
       "2 0.02731      0.0        7.07           0                0.469            \n",
       "3 0.02729      0.0        7.07           0                0.469            \n",
       "4 0.03237      0.0        2.18           0                0.458            \n",
       "5 0.06905      0.0        2.18           0                0.458            \n",
       "6 0.02985      0.0        2.18           0                0.458            \n",
       "7 0.08829     12.5        7.87           0                0.524            \n",
       "  rooms_per_dwelling dwelling_age dwelling_dist highway_index tax_ratio\n",
       "2 6.421              78.9         4.9671        2             242      \n",
       "3 7.185              61.1         4.9671        2             242      \n",
       "4 6.998              45.8         6.0622        3             222      \n",
       "5 7.147              54.2         6.0622        3             222      \n",
       "6 6.430              58.7         6.0622        3             222      \n",
       "7 6.012              66.6         5.5605        5             311      \n",
       "  teacher_ratio racial_index lower_status class\n",
       "2 17.8          396.90        9.14        0    \n",
       "3 17.8          392.83        4.03        0    \n",
       "4 18.7          394.63        2.94        0    \n",
       "5 18.7          396.90        5.33        0    \n",
       "6 18.7          394.12        5.21        0    \n",
       "7 15.2          395.60       12.43        0    "
      ]
     },
     "metadata": {},
     "output_type": "display_data"
    }
   ],
   "source": [
    "head(dfValidation)\n",
    "head(dfTraining)"
   ]
  },
  {
   "cell_type": "markdown",
   "metadata": {},
   "source": [
    "## Modelo"
   ]
  },
  {
   "cell_type": "code",
   "execution_count": 6,
   "metadata": {},
   "outputs": [],
   "source": [
    "# Establecemos la variable target y establecemos el tipo de dato como label\n",
    "target <- c(14)\n",
    "class_label <- dfTraining[,target]"
   ]
  },
  {
   "cell_type": "code",
   "execution_count": 7,
   "metadata": {},
   "outputs": [
    {
     "name": "stderr",
     "output_type": "stream",
     "text": [
      "Warning message in if (maxdepth > 30L) stop(\"Maximum depth is 30\"):\n",
      "“the condition has length > 1 and only the first element will be used”\n",
      "Warning message in if (maxdepth < 1L) stop(\"Maximum depth must be at least 1\"):\n",
      "“the condition has length > 1 and only the first element will be used”\n"
     ]
    }
   ],
   "source": [
    "##Generamos una entrada de control features\n",
    "control_features <- rpart.control(xval = 10 #Cross validation del dataset\n",
    "                                  , maxdepth = c(4,6,8,10,12)) #Vector con iteraciones máximas para el clasificador"
   ]
  },
  {
   "cell_type": "code",
   "execution_count": 8,
   "metadata": {},
   "outputs": [
    {
     "name": "stdout",
     "output_type": "stream",
     "text": [
      "n= 404 \n",
      "\n",
      "node), split, n, loss, yval, (yprob)\n",
      "      * denotes terminal node\n",
      "\n",
      "1) root 404 28 0 (0.93069307 0.06930693)  \n",
      "  2) rooms_per_dwelling< 7.437 382  7 0 (0.98167539 0.01832461) *\n",
      "  3) rooms_per_dwelling>=7.437 22  1 1 (0.04545455 0.95454545) *\n"
     ]
    }
   ],
   "source": [
    "#Función del decision tree\n",
    "decision_tree <- rpart(class ~.\n",
    "                       , data=dfTraining\n",
    "                       , method=\"class\"\n",
    "                       , control = control_features)\n",
    "\n",
    "#Descripcion de la estructura de la funcion\n",
    "print(decision_tree)"
   ]
  },
  {
   "cell_type": "code",
   "execution_count": 9,
   "metadata": {},
   "outputs": [],
   "source": [
    "predicted_values <- predict(decision_tree, dfTraining, type = \"class\")\n",
    "prediction_df <- data.frame(reference = dfTraining$class, prediction = predicted_values)"
   ]
  },
  {
   "cell_type": "code",
   "execution_count": 10,
   "metadata": {},
   "outputs": [
    {
     "data": {
      "text/plain": [
       "Confusion Matrix and Statistics\n",
       "\n",
       "          Reference\n",
       "Prediction   0   1\n",
       "         0 375   7\n",
       "         1   1  21\n",
       "                                          \n",
       "               Accuracy : 0.9802          \n",
       "                 95% CI : (0.9614, 0.9914)\n",
       "    No Information Rate : 0.9307          \n",
       "    P-Value [Acc > NIR] : 5.238e-06       \n",
       "                                          \n",
       "                  Kappa : 0.8296          \n",
       "                                          \n",
       " Mcnemar's Test P-Value : 0.0771          \n",
       "                                          \n",
       "            Sensitivity : 0.9973          \n",
       "            Specificity : 0.7500          \n",
       "         Pos Pred Value : 0.9817          \n",
       "         Neg Pred Value : 0.9545          \n",
       "             Prevalence : 0.9307          \n",
       "         Detection Rate : 0.9282          \n",
       "   Detection Prevalence : 0.9455          \n",
       "      Balanced Accuracy : 0.8737          \n",
       "                                          \n",
       "       'Positive' Class : 0               \n",
       "                                          "
      ]
     },
     "metadata": {},
     "output_type": "display_data"
    }
   ],
   "source": [
    "confusion_values_dtrees <- confusionMatrix(prediction_df$prediction, reference = as.factor(prediction_df$reference))\n",
    "confusion_values_dtrees"
   ]
  },
  {
   "cell_type": "code",
   "execution_count": 11,
   "metadata": {},
   "outputs": [
    {
     "data": {
      "image/png": "[encoded data removed]",
      "text/plain": [
       "Plot with title “”"
      ]
     },
     "metadata": {
      "image/png": {
       "height": 420,
       "width": 420
      }
     },
     "output_type": "display_data"
    }
   ],
   "source": [
    "##Representacion grafica del decision tree\n",
    "fancyRpartPlot(decision_tree)"
   ]
  },
  {
   "cell_type": "code",
   "execution_count": 12,
   "metadata": {},
   "outputs": [
    {
     "data": {
      "text/plain": [
       "Confusion Matrix and Statistics\n",
       "\n",
       "          Reference\n",
       "Prediction  0  1\n",
       "         0 91  2\n",
       "         1  1  7\n",
       "                                          \n",
       "               Accuracy : 0.9703          \n",
       "                 95% CI : (0.9156, 0.9938)\n",
       "    No Information Rate : 0.9109          \n",
       "    P-Value [Acc > NIR] : 0.01734         \n",
       "                                          \n",
       "                  Kappa : 0.8074          \n",
       "                                          \n",
       " Mcnemar's Test P-Value : 1.00000         \n",
       "                                          \n",
       "            Sensitivity : 0.9891          \n",
       "            Specificity : 0.7778          \n",
       "         Pos Pred Value : 0.9785          \n",
       "         Neg Pred Value : 0.8750          \n",
       "             Prevalence : 0.9109          \n",
       "         Detection Rate : 0.9010          \n",
       "   Detection Prevalence : 0.9208          \n",
       "      Balanced Accuracy : 0.8835          \n",
       "                                          \n",
       "       'Positive' Class : 0               \n",
       "                                          "
      ]
     },
     "metadata": {},
     "output_type": "display_data"
    }
   ],
   "source": [
    "predicted_values_test <- predict(decision_tree, dfValidation, type = \"class\")\n",
    "prediction_df_test <- data.frame(reference = dfValidation$class, prediction = predicted_values_test)\n",
    "confusion_values_dtrees <- confusionMatrix(prediction_df_test$prediction, reference = as.factor(prediction_df_test$reference))\n",
    "confusion_values_dtrees"
   ]
  }
 ],
 "metadata": {
  "kernelspec": {
   "display_name": "R",
   "language": "R",
   "name": "ir"
  },
  "language_info": {
   "codemirror_mode": "r",
   "file_extension": ".r",
   "mimetype": "text/x-r-source",
   "name": "R",
   "pygments_lexer": "r",
   "version": "4.0.2"
  }
 },
 "nbformat": 4,
 "nbformat_minor": 2
}
