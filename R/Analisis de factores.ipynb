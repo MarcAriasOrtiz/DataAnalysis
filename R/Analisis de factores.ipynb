{
 "cells": [
  {
   "cell_type": "markdown",
   "metadata": {},
   "source": [
    "##### Visualización y familiarización del dataset (4p): Se valorará el uso de las técnicas empleadas, así como la explicación de las visualizaciones / estadísticos utilizados en clases anteriores.\n",
    "\n",
    "##### Análisis de correlación y de componentes principales: Se valorará principalmente la interpretación de dichos análisis así como la “limpieza” de la presentación\n",
    "\n",
    "##### Estudio de regresión lineal del median_value: En base al análisis realizado en los puntos 1 y 2 se pide justificar las variables utilizadas para el modelo de regresión así como la validez del modelo\n",
    "\n",
    "Como comentario sobre la entrega, este ejercicio no tiene una solución única. Muchas opciones pueden ser válidas (Algunas variables pueden ser útiles y otras no tanto), pero se espera que se haga una interpretación de los datos obtenidos en todos los puntos y que se construya un modelo de regresión lineal acorde a lo analizado (Si la regresión es válida, por qué lo es y si no llega a serlo, por qué no lo es y cómo podrían mejorarse los resultados)"
   ]
  },
  {
   "cell_type": "code",
   "execution_count": 134,
   "metadata": {},
   "outputs": [],
   "source": [
    "library(dplyr)\n",
    "library(MASS)\n",
    "library(corrplot)\n",
    "library(class)\n",
    "library(ggplot2)"
   ]
  },
  {
   "cell_type": "markdown",
   "metadata": {},
   "source": [
    "El csv adjunto incluye datos de precios del mercado de viviendas de Boston (median_value), así como datos adicionales sobre la ubicación de la vivienda y otros datos sociodemográficos. La descripción de las columnas del dataset es la que sigue:\n",
    "\n",
    "##### crime_index: Índice de criminalidad de la zona\n",
    "##### urban_ratio: Ratio de zona urbana residencial sobre el total\n",
    "##### industry_ratio: Ratio de industria de la zona\n",
    "##### c_river_variable: 1 si la zona colinda con un río y 0 si no\n",
    "##### nox_concentration: Concentración de óxido nitroso en la zona\n",
    "##### rooms_per_dwelling: Número de habitaciones medio por vivienda\n",
    "##### dwelling_age: “Edad” media de la vivienda\n",
    "##### dwelling_dist: Distancia media ponderada con los centros urbanos de la ciudad\n",
    "##### highway_index: Índice de accesibilidad sobre autopistas cercanas\n",
    "##### tax_ratio: Índce de tasas por cada 10000dollars\n",
    "##### teacher_ratio : Ratio de alumno por profesor\n",
    "##### racial_index: Índice de proporción de población no caucásica\n",
    "##### lower_status: Porcentaje de población de “clase-baja”\n",
    "##### median_value: Valor medio de precio de la vivienda (En 1000dollars)"
   ]
  },
  {
   "cell_type": "markdown",
   "metadata": {},
   "source": [
    "# Visualización y familiarización del dataset"
   ]
  },
  {
   "cell_type": "code",
   "execution_count": 3,
   "metadata": {},
   "outputs": [
    {
     "data": {
      "text/html": [
       "<table>\n",
       "<caption>A data.frame: 6 × 15</caption>\n",
       "<thead>\n",
       "\t<tr><th></th><th scope=col>crime_index</th><th scope=col>urban_ratio</th><th scope=col>industry_ratio</th><th scope=col>c_river_variable</th><th scope=col>nox_concentration</th><th scope=col>rooms_per_dwelling</th><th scope=col>dwelling_age</th><th scope=col>dwelling_dist</th><th scope=col>highway_index</th><th scope=col>tax_ratio</th><th scope=col>teacher_ratio</th><th scope=col>racial_index</th><th scope=col>lower_status</th><th scope=col>median_value</th><th scope=col>class</th></tr>\n",
       "\t<tr><th></th><th scope=col>&lt;dbl&gt;</th><th scope=col>&lt;dbl&gt;</th><th scope=col>&lt;dbl&gt;</th><th scope=col>&lt;int&gt;</th><th scope=col>&lt;dbl&gt;</th><th scope=col>&lt;dbl&gt;</th><th scope=col>&lt;dbl&gt;</th><th scope=col>&lt;dbl&gt;</th><th scope=col>&lt;int&gt;</th><th scope=col>&lt;int&gt;</th><th scope=col>&lt;dbl&gt;</th><th scope=col>&lt;dbl&gt;</th><th scope=col>&lt;dbl&gt;</th><th scope=col>&lt;dbl&gt;</th><th scope=col>&lt;int&gt;</th></tr>\n",
       "</thead>\n",
       "<tbody>\n",
       "\t<tr><th scope=row>1</th><td>0.00632</td><td>18</td><td>2.31</td><td>0</td><td>0.538</td><td>6.575</td><td>65.2</td><td>4.0900</td><td>1</td><td>296</td><td>15.3</td><td>396.90</td><td>4.98</td><td>24.0</td><td>0</td></tr>\n",
       "\t<tr><th scope=row>2</th><td>0.02731</td><td> 0</td><td>7.07</td><td>0</td><td>0.469</td><td>6.421</td><td>78.9</td><td>4.9671</td><td>2</td><td>242</td><td>17.8</td><td>396.90</td><td>9.14</td><td>21.6</td><td>0</td></tr>\n",
       "\t<tr><th scope=row>3</th><td>0.02729</td><td> 0</td><td>7.07</td><td>0</td><td>0.469</td><td>7.185</td><td>61.1</td><td>4.9671</td><td>2</td><td>242</td><td>17.8</td><td>392.83</td><td>4.03</td><td>34.7</td><td>0</td></tr>\n",
       "\t<tr><th scope=row>4</th><td>0.03237</td><td> 0</td><td>2.18</td><td>0</td><td>0.458</td><td>6.998</td><td>45.8</td><td>6.0622</td><td>3</td><td>222</td><td>18.7</td><td>394.63</td><td>2.94</td><td>33.4</td><td>0</td></tr>\n",
       "\t<tr><th scope=row>5</th><td>0.06905</td><td> 0</td><td>2.18</td><td>0</td><td>0.458</td><td>7.147</td><td>54.2</td><td>6.0622</td><td>3</td><td>222</td><td>18.7</td><td>396.90</td><td>5.33</td><td>36.2</td><td>0</td></tr>\n",
       "\t<tr><th scope=row>6</th><td>0.02985</td><td> 0</td><td>2.18</td><td>0</td><td>0.458</td><td>6.430</td><td>58.7</td><td>6.0622</td><td>3</td><td>222</td><td>18.7</td><td>394.12</td><td>5.21</td><td>28.7</td><td>0</td></tr>\n",
       "</tbody>\n",
       "</table>\n"
      ],
      "text/latex": [
       "A data.frame: 6 × 15\n",
       "\\begin{tabular}{r|lllllllllllllll}\n",
       "  & crime\\_index & urban\\_ratio & industry\\_ratio & c\\_river\\_variable & nox\\_concentration & rooms\\_per\\_dwelling & dwelling\\_age & dwelling\\_dist & highway\\_index & tax\\_ratio & teacher\\_ratio & racial\\_index & lower\\_status & median\\_value & class\\\\\n",
       "  & <dbl> & <dbl> & <dbl> & <int> & <dbl> & <dbl> & <dbl> & <dbl> & <int> & <int> & <dbl> & <dbl> & <dbl> & <dbl> & <int>\\\\\n",
       "\\hline\n",
       "\t1 & 0.00632 & 18 & 2.31 & 0 & 0.538 & 6.575 & 65.2 & 4.0900 & 1 & 296 & 15.3 & 396.90 & 4.98 & 24.0 & 0\\\\\n",
       "\t2 & 0.02731 &  0 & 7.07 & 0 & 0.469 & 6.421 & 78.9 & 4.9671 & 2 & 242 & 17.8 & 396.90 & 9.14 & 21.6 & 0\\\\\n",
       "\t3 & 0.02729 &  0 & 7.07 & 0 & 0.469 & 7.185 & 61.1 & 4.9671 & 2 & 242 & 17.8 & 392.83 & 4.03 & 34.7 & 0\\\\\n",
       "\t4 & 0.03237 &  0 & 2.18 & 0 & 0.458 & 6.998 & 45.8 & 6.0622 & 3 & 222 & 18.7 & 394.63 & 2.94 & 33.4 & 0\\\\\n",
       "\t5 & 0.06905 &  0 & 2.18 & 0 & 0.458 & 7.147 & 54.2 & 6.0622 & 3 & 222 & 18.7 & 396.90 & 5.33 & 36.2 & 0\\\\\n",
       "\t6 & 0.02985 &  0 & 2.18 & 0 & 0.458 & 6.430 & 58.7 & 6.0622 & 3 & 222 & 18.7 & 394.12 & 5.21 & 28.7 & 0\\\\\n",
       "\\end{tabular}\n"
      ],
      "text/markdown": [
       "\n",
       "A data.frame: 6 × 15\n",
       "\n",
       "| <!--/--> | crime_index &lt;dbl&gt; | urban_ratio &lt;dbl&gt; | industry_ratio &lt;dbl&gt; | c_river_variable &lt;int&gt; | nox_concentration &lt;dbl&gt; | rooms_per_dwelling &lt;dbl&gt; | dwelling_age &lt;dbl&gt; | dwelling_dist &lt;dbl&gt; | highway_index &lt;int&gt; | tax_ratio &lt;int&gt; | teacher_ratio &lt;dbl&gt; | racial_index &lt;dbl&gt; | lower_status &lt;dbl&gt; | median_value &lt;dbl&gt; | class &lt;int&gt; |\n",
       "|---|---|---|---|---|---|---|---|---|---|---|---|---|---|---|---|\n",
       "| 1 | 0.00632 | 18 | 2.31 | 0 | 0.538 | 6.575 | 65.2 | 4.0900 | 1 | 296 | 15.3 | 396.90 | 4.98 | 24.0 | 0 |\n",
       "| 2 | 0.02731 |  0 | 7.07 | 0 | 0.469 | 6.421 | 78.9 | 4.9671 | 2 | 242 | 17.8 | 396.90 | 9.14 | 21.6 | 0 |\n",
       "| 3 | 0.02729 |  0 | 7.07 | 0 | 0.469 | 7.185 | 61.1 | 4.9671 | 2 | 242 | 17.8 | 392.83 | 4.03 | 34.7 | 0 |\n",
       "| 4 | 0.03237 |  0 | 2.18 | 0 | 0.458 | 6.998 | 45.8 | 6.0622 | 3 | 222 | 18.7 | 394.63 | 2.94 | 33.4 | 0 |\n",
       "| 5 | 0.06905 |  0 | 2.18 | 0 | 0.458 | 7.147 | 54.2 | 6.0622 | 3 | 222 | 18.7 | 396.90 | 5.33 | 36.2 | 0 |\n",
       "| 6 | 0.02985 |  0 | 2.18 | 0 | 0.458 | 6.430 | 58.7 | 6.0622 | 3 | 222 | 18.7 | 394.12 | 5.21 | 28.7 | 0 |\n",
       "\n"
      ],
      "text/plain": [
       "  crime_index urban_ratio industry_ratio c_river_variable nox_concentration\n",
       "1 0.00632     18          2.31           0                0.538            \n",
       "2 0.02731      0          7.07           0                0.469            \n",
       "3 0.02729      0          7.07           0                0.469            \n",
       "4 0.03237      0          2.18           0                0.458            \n",
       "5 0.06905      0          2.18           0                0.458            \n",
       "6 0.02985      0          2.18           0                0.458            \n",
       "  rooms_per_dwelling dwelling_age dwelling_dist highway_index tax_ratio\n",
       "1 6.575              65.2         4.0900        1             296      \n",
       "2 6.421              78.9         4.9671        2             242      \n",
       "3 7.185              61.1         4.9671        2             242      \n",
       "4 6.998              45.8         6.0622        3             222      \n",
       "5 7.147              54.2         6.0622        3             222      \n",
       "6 6.430              58.7         6.0622        3             222      \n",
       "  teacher_ratio racial_index lower_status median_value class\n",
       "1 15.3          396.90       4.98         24.0         0    \n",
       "2 17.8          396.90       9.14         21.6         0    \n",
       "3 17.8          392.83       4.03         34.7         0    \n",
       "4 18.7          394.63       2.94         33.4         0    \n",
       "5 18.7          396.90       5.33         36.2         0    \n",
       "6 18.7          394.12       5.21         28.7         0    "
      ]
     },
     "metadata": {},
     "output_type": "display_data"
    },
    {
     "data": {
      "text/html": [
       "<table>\n",
       "<caption>A data.frame: 6 × 15</caption>\n",
       "<thead>\n",
       "\t<tr><th></th><th scope=col>crime_index</th><th scope=col>urban_ratio</th><th scope=col>industry_ratio</th><th scope=col>c_river_variable</th><th scope=col>nox_concentration</th><th scope=col>rooms_per_dwelling</th><th scope=col>dwelling_age</th><th scope=col>dwelling_dist</th><th scope=col>highway_index</th><th scope=col>tax_ratio</th><th scope=col>teacher_ratio</th><th scope=col>racial_index</th><th scope=col>lower_status</th><th scope=col>median_value</th><th scope=col>class</th></tr>\n",
       "\t<tr><th></th><th scope=col>&lt;dbl&gt;</th><th scope=col>&lt;dbl&gt;</th><th scope=col>&lt;dbl&gt;</th><th scope=col>&lt;int&gt;</th><th scope=col>&lt;dbl&gt;</th><th scope=col>&lt;dbl&gt;</th><th scope=col>&lt;dbl&gt;</th><th scope=col>&lt;dbl&gt;</th><th scope=col>&lt;int&gt;</th><th scope=col>&lt;int&gt;</th><th scope=col>&lt;dbl&gt;</th><th scope=col>&lt;dbl&gt;</th><th scope=col>&lt;dbl&gt;</th><th scope=col>&lt;dbl&gt;</th><th scope=col>&lt;int&gt;</th></tr>\n",
       "</thead>\n",
       "<tbody>\n",
       "\t<tr><th scope=row>501</th><td>0.22438</td><td>0</td><td> 9.69</td><td>0</td><td>0.585</td><td>6.027</td><td>79.7</td><td>2.4982</td><td>6</td><td>391</td><td>19.2</td><td>396.90</td><td>14.33</td><td>16.8</td><td>0</td></tr>\n",
       "\t<tr><th scope=row>502</th><td>0.06263</td><td>0</td><td>11.93</td><td>0</td><td>0.573</td><td>6.593</td><td>69.1</td><td>2.4786</td><td>1</td><td>273</td><td>21.0</td><td>391.99</td><td> 9.67</td><td>22.4</td><td>0</td></tr>\n",
       "\t<tr><th scope=row>503</th><td>0.04527</td><td>0</td><td>11.93</td><td>0</td><td>0.573</td><td>6.120</td><td>76.7</td><td>2.2875</td><td>1</td><td>273</td><td>21.0</td><td>396.90</td><td> 9.08</td><td>20.6</td><td>0</td></tr>\n",
       "\t<tr><th scope=row>504</th><td>0.06076</td><td>0</td><td>11.93</td><td>0</td><td>0.573</td><td>6.976</td><td>91.0</td><td>2.1675</td><td>1</td><td>273</td><td>21.0</td><td>396.90</td><td> 5.64</td><td>23.9</td><td>0</td></tr>\n",
       "\t<tr><th scope=row>505</th><td>0.10959</td><td>0</td><td>11.93</td><td>0</td><td>0.573</td><td>6.794</td><td>89.3</td><td>2.3889</td><td>1</td><td>273</td><td>21.0</td><td>393.45</td><td> 6.48</td><td>22.0</td><td>0</td></tr>\n",
       "\t<tr><th scope=row>506</th><td>0.04741</td><td>0</td><td>11.93</td><td>0</td><td>0.573</td><td>6.030</td><td>80.8</td><td>2.5050</td><td>1</td><td>273</td><td>21.0</td><td>396.90</td><td> 7.88</td><td>11.9</td><td>0</td></tr>\n",
       "</tbody>\n",
       "</table>\n"
      ],
      "text/latex": [
       "A data.frame: 6 × 15\n",
       "\\begin{tabular}{r|lllllllllllllll}\n",
       "  & crime\\_index & urban\\_ratio & industry\\_ratio & c\\_river\\_variable & nox\\_concentration & rooms\\_per\\_dwelling & dwelling\\_age & dwelling\\_dist & highway\\_index & tax\\_ratio & teacher\\_ratio & racial\\_index & lower\\_status & median\\_value & class\\\\\n",
       "  & <dbl> & <dbl> & <dbl> & <int> & <dbl> & <dbl> & <dbl> & <dbl> & <int> & <int> & <dbl> & <dbl> & <dbl> & <dbl> & <int>\\\\\n",
       "\\hline\n",
       "\t501 & 0.22438 & 0 &  9.69 & 0 & 0.585 & 6.027 & 79.7 & 2.4982 & 6 & 391 & 19.2 & 396.90 & 14.33 & 16.8 & 0\\\\\n",
       "\t502 & 0.06263 & 0 & 11.93 & 0 & 0.573 & 6.593 & 69.1 & 2.4786 & 1 & 273 & 21.0 & 391.99 &  9.67 & 22.4 & 0\\\\\n",
       "\t503 & 0.04527 & 0 & 11.93 & 0 & 0.573 & 6.120 & 76.7 & 2.2875 & 1 & 273 & 21.0 & 396.90 &  9.08 & 20.6 & 0\\\\\n",
       "\t504 & 0.06076 & 0 & 11.93 & 0 & 0.573 & 6.976 & 91.0 & 2.1675 & 1 & 273 & 21.0 & 396.90 &  5.64 & 23.9 & 0\\\\\n",
       "\t505 & 0.10959 & 0 & 11.93 & 0 & 0.573 & 6.794 & 89.3 & 2.3889 & 1 & 273 & 21.0 & 393.45 &  6.48 & 22.0 & 0\\\\\n",
       "\t506 & 0.04741 & 0 & 11.93 & 0 & 0.573 & 6.030 & 80.8 & 2.5050 & 1 & 273 & 21.0 & 396.90 &  7.88 & 11.9 & 0\\\\\n",
       "\\end{tabular}\n"
      ],
      "text/markdown": [
       "\n",
       "A data.frame: 6 × 15\n",
       "\n",
       "| <!--/--> | crime_index &lt;dbl&gt; | urban_ratio &lt;dbl&gt; | industry_ratio &lt;dbl&gt; | c_river_variable &lt;int&gt; | nox_concentration &lt;dbl&gt; | rooms_per_dwelling &lt;dbl&gt; | dwelling_age &lt;dbl&gt; | dwelling_dist &lt;dbl&gt; | highway_index &lt;int&gt; | tax_ratio &lt;int&gt; | teacher_ratio &lt;dbl&gt; | racial_index &lt;dbl&gt; | lower_status &lt;dbl&gt; | median_value &lt;dbl&gt; | class &lt;int&gt; |\n",
       "|---|---|---|---|---|---|---|---|---|---|---|---|---|---|---|---|\n",
       "| 501 | 0.22438 | 0 |  9.69 | 0 | 0.585 | 6.027 | 79.7 | 2.4982 | 6 | 391 | 19.2 | 396.90 | 14.33 | 16.8 | 0 |\n",
       "| 502 | 0.06263 | 0 | 11.93 | 0 | 0.573 | 6.593 | 69.1 | 2.4786 | 1 | 273 | 21.0 | 391.99 |  9.67 | 22.4 | 0 |\n",
       "| 503 | 0.04527 | 0 | 11.93 | 0 | 0.573 | 6.120 | 76.7 | 2.2875 | 1 | 273 | 21.0 | 396.90 |  9.08 | 20.6 | 0 |\n",
       "| 504 | 0.06076 | 0 | 11.93 | 0 | 0.573 | 6.976 | 91.0 | 2.1675 | 1 | 273 | 21.0 | 396.90 |  5.64 | 23.9 | 0 |\n",
       "| 505 | 0.10959 | 0 | 11.93 | 0 | 0.573 | 6.794 | 89.3 | 2.3889 | 1 | 273 | 21.0 | 393.45 |  6.48 | 22.0 | 0 |\n",
       "| 506 | 0.04741 | 0 | 11.93 | 0 | 0.573 | 6.030 | 80.8 | 2.5050 | 1 | 273 | 21.0 | 396.90 |  7.88 | 11.9 | 0 |\n",
       "\n"
      ],
      "text/plain": [
       "    crime_index urban_ratio industry_ratio c_river_variable nox_concentration\n",
       "501 0.22438     0            9.69          0                0.585            \n",
       "502 0.06263     0           11.93          0                0.573            \n",
       "503 0.04527     0           11.93          0                0.573            \n",
       "504 0.06076     0           11.93          0                0.573            \n",
       "505 0.10959     0           11.93          0                0.573            \n",
       "506 0.04741     0           11.93          0                0.573            \n",
       "    rooms_per_dwelling dwelling_age dwelling_dist highway_index tax_ratio\n",
       "501 6.027              79.7         2.4982        6             391      \n",
       "502 6.593              69.1         2.4786        1             273      \n",
       "503 6.120              76.7         2.2875        1             273      \n",
       "504 6.976              91.0         2.1675        1             273      \n",
       "505 6.794              89.3         2.3889        1             273      \n",
       "506 6.030              80.8         2.5050        1             273      \n",
       "    teacher_ratio racial_index lower_status median_value class\n",
       "501 19.2          396.90       14.33        16.8         0    \n",
       "502 21.0          391.99        9.67        22.4         0    \n",
       "503 21.0          396.90        9.08        20.6         0    \n",
       "504 21.0          396.90        5.64        23.9         0    \n",
       "505 21.0          393.45        6.48        22.0         0    \n",
       "506 21.0          396.90        7.88        11.9         0    "
      ]
     },
     "metadata": {},
     "output_type": "display_data"
    },
    {
     "data": {
      "text/plain": [
       "  crime_index        urban_ratio     industry_ratio  c_river_variable \n",
       " Min.   : 0.00632   Min.   :  0.00   Min.   : 0.46   Min.   :0.00000  \n",
       " 1st Qu.: 0.08205   1st Qu.:  0.00   1st Qu.: 5.19   1st Qu.:0.00000  \n",
       " Median : 0.25651   Median :  0.00   Median : 9.69   Median :0.00000  \n",
       " Mean   : 3.61352   Mean   : 11.36   Mean   :11.14   Mean   :0.06917  \n",
       " 3rd Qu.: 3.67708   3rd Qu.: 12.50   3rd Qu.:18.10   3rd Qu.:0.00000  \n",
       " Max.   :88.97620   Max.   :100.00   Max.   :27.74   Max.   :1.00000  \n",
       " nox_concentration rooms_per_dwelling  dwelling_age    dwelling_dist   \n",
       " Min.   :0.3850    Min.   :3.561      Min.   :  2.90   Min.   : 1.130  \n",
       " 1st Qu.:0.4490    1st Qu.:5.886      1st Qu.: 45.02   1st Qu.: 2.100  \n",
       " Median :0.5380    Median :6.208      Median : 77.50   Median : 3.207  \n",
       " Mean   :0.5547    Mean   :6.285      Mean   : 68.57   Mean   : 3.795  \n",
       " 3rd Qu.:0.6240    3rd Qu.:6.623      3rd Qu.: 94.08   3rd Qu.: 5.188  \n",
       " Max.   :0.8710    Max.   :8.780      Max.   :100.00   Max.   :12.127  \n",
       " highway_index      tax_ratio     teacher_ratio    racial_index   \n",
       " Min.   : 1.000   Min.   :187.0   Min.   :12.60   Min.   :  0.32  \n",
       " 1st Qu.: 4.000   1st Qu.:279.0   1st Qu.:17.40   1st Qu.:375.38  \n",
       " Median : 5.000   Median :330.0   Median :19.05   Median :391.44  \n",
       " Mean   : 9.549   Mean   :408.2   Mean   :18.46   Mean   :356.67  \n",
       " 3rd Qu.:24.000   3rd Qu.:666.0   3rd Qu.:20.20   3rd Qu.:396.23  \n",
       " Max.   :24.000   Max.   :711.0   Max.   :22.00   Max.   :396.90  \n",
       "  lower_status    median_value       class        \n",
       " Min.   : 1.73   Min.   : 5.00   Min.   :0.00000  \n",
       " 1st Qu.: 6.95   1st Qu.:17.02   1st Qu.:0.00000  \n",
       " Median :11.36   Median :21.20   Median :0.00000  \n",
       " Mean   :12.65   Mean   :22.53   Mean   :0.07312  \n",
       " 3rd Qu.:16.95   3rd Qu.:25.00   3rd Qu.:0.00000  \n",
       " Max.   :37.97   Max.   :50.00   Max.   :1.00000  "
      ]
     },
     "metadata": {},
     "output_type": "display_data"
    }
   ],
   "source": [
    "Boston<-read.csv(file=\"datos_ciudad.csv\", sep=\",\", head=TRUE)\n",
    "head(Boston)\n",
    "tail(Boston)\n",
    "summary(Boston)"
   ]
  },
  {
   "cell_type": "code",
   "execution_count": 10,
   "metadata": {},
   "outputs": [
    {
     "data": {
      "text/html": [
       "<table>\n",
       "<caption>A data.frame: 6 × 2</caption>\n",
       "<thead>\n",
       "\t<tr><th></th><th scope=col>Boston.c_river_variable</th><th scope=col>Boston.median_value</th></tr>\n",
       "\t<tr><th></th><th scope=col>&lt;int&gt;</th><th scope=col>&lt;dbl&gt;</th></tr>\n",
       "</thead>\n",
       "<tbody>\n",
       "\t<tr><th scope=row>1</th><td>1</td><td>13.4</td></tr>\n",
       "\t<tr><th scope=row>2</th><td>1</td><td>15.3</td></tr>\n",
       "\t<tr><th scope=row>3</th><td>1</td><td>17.0</td></tr>\n",
       "\t<tr><th scope=row>4</th><td>1</td><td>15.6</td></tr>\n",
       "\t<tr><th scope=row>5</th><td>1</td><td>27.0</td></tr>\n",
       "\t<tr><th scope=row>6</th><td>1</td><td>50.0</td></tr>\n",
       "</tbody>\n",
       "</table>\n"
      ],
      "text/latex": [
       "A data.frame: 6 × 2\n",
       "\\begin{tabular}{r|ll}\n",
       "  & Boston.c\\_river\\_variable & Boston.median\\_value\\\\\n",
       "  & <int> & <dbl>\\\\\n",
       "\\hline\n",
       "\t1 & 1 & 13.4\\\\\n",
       "\t2 & 1 & 15.3\\\\\n",
       "\t3 & 1 & 17.0\\\\\n",
       "\t4 & 1 & 15.6\\\\\n",
       "\t5 & 1 & 27.0\\\\\n",
       "\t6 & 1 & 50.0\\\\\n",
       "\\end{tabular}\n"
      ],
      "text/markdown": [
       "\n",
       "A data.frame: 6 × 2\n",
       "\n",
       "| <!--/--> | Boston.c_river_variable &lt;int&gt; | Boston.median_value &lt;dbl&gt; |\n",
       "|---|---|---|\n",
       "| 1 | 1 | 13.4 |\n",
       "| 2 | 1 | 15.3 |\n",
       "| 3 | 1 | 17.0 |\n",
       "| 4 | 1 | 15.6 |\n",
       "| 5 | 1 | 27.0 |\n",
       "| 6 | 1 | 50.0 |\n",
       "\n"
      ],
      "text/plain": [
       "  Boston.c_river_variable Boston.median_value\n",
       "1 1                       13.4               \n",
       "2 1                       15.3               \n",
       "3 1                       17.0               \n",
       "4 1                       15.6               \n",
       "5 1                       27.0               \n",
       "6 1                       50.0               "
      ]
     },
     "metadata": {},
     "output_type": "display_data"
    },
    {
     "data": {
      "text/html": [
       "<table>\n",
       "<caption>A data.frame: 6 × 2</caption>\n",
       "<thead>\n",
       "\t<tr><th></th><th scope=col>Boston.c_river_variable</th><th scope=col>Boston.median_value</th></tr>\n",
       "\t<tr><th></th><th scope=col>&lt;int&gt;</th><th scope=col>&lt;dbl&gt;</th></tr>\n",
       "</thead>\n",
       "<tbody>\n",
       "\t<tr><th scope=row>1</th><td>0</td><td>24.0</td></tr>\n",
       "\t<tr><th scope=row>2</th><td>0</td><td>21.6</td></tr>\n",
       "\t<tr><th scope=row>3</th><td>0</td><td>34.7</td></tr>\n",
       "\t<tr><th scope=row>4</th><td>0</td><td>33.4</td></tr>\n",
       "\t<tr><th scope=row>5</th><td>0</td><td>36.2</td></tr>\n",
       "\t<tr><th scope=row>6</th><td>0</td><td>28.7</td></tr>\n",
       "</tbody>\n",
       "</table>\n"
      ],
      "text/latex": [
       "A data.frame: 6 × 2\n",
       "\\begin{tabular}{r|ll}\n",
       "  & Boston.c\\_river\\_variable & Boston.median\\_value\\\\\n",
       "  & <int> & <dbl>\\\\\n",
       "\\hline\n",
       "\t1 & 0 & 24.0\\\\\n",
       "\t2 & 0 & 21.6\\\\\n",
       "\t3 & 0 & 34.7\\\\\n",
       "\t4 & 0 & 33.4\\\\\n",
       "\t5 & 0 & 36.2\\\\\n",
       "\t6 & 0 & 28.7\\\\\n",
       "\\end{tabular}\n"
      ],
      "text/markdown": [
       "\n",
       "A data.frame: 6 × 2\n",
       "\n",
       "| <!--/--> | Boston.c_river_variable &lt;int&gt; | Boston.median_value &lt;dbl&gt; |\n",
       "|---|---|---|\n",
       "| 1 | 0 | 24.0 |\n",
       "| 2 | 0 | 21.6 |\n",
       "| 3 | 0 | 34.7 |\n",
       "| 4 | 0 | 33.4 |\n",
       "| 5 | 0 | 36.2 |\n",
       "| 6 | 0 | 28.7 |\n",
       "\n"
      ],
      "text/plain": [
       "  Boston.c_river_variable Boston.median_value\n",
       "1 0                       24.0               \n",
       "2 0                       21.6               \n",
       "3 0                       34.7               \n",
       "4 0                       33.4               \n",
       "5 0                       36.2               \n",
       "6 0                       28.7               "
      ]
     },
     "metadata": {},
     "output_type": "display_data"
    },
    {
     "name": "stdout",
     "output_type": "stream",
     "text": [
      "[1] 35\n",
      "[1] 471\n"
     ]
    },
    {
     "data": {
      "text/plain": [
       " Boston.c_river_variable Boston.median_value\n",
       " Min.   :1               Min.   :13.40      \n",
       " 1st Qu.:1               1st Qu.:21.10      \n",
       " Median :1               Median :23.30      \n",
       " Mean   :1               Mean   :28.44      \n",
       " 3rd Qu.:1               3rd Qu.:33.15      \n",
       " Max.   :1               Max.   :50.00      "
      ]
     },
     "metadata": {},
     "output_type": "display_data"
    },
    {
     "data": {
      "text/plain": [
       " Boston.c_river_variable Boston.median_value\n",
       " Min.   :0               Min.   : 5.00      \n",
       " 1st Qu.:0               1st Qu.:16.60      \n",
       " Median :0               Median :20.90      \n",
       " Mean   :0               Mean   :22.09      \n",
       " 3rd Qu.:0               3rd Qu.:24.80      \n",
       " Max.   :0               Max.   :50.00      "
      ]
     },
     "metadata": {},
     "output_type": "display_data"
    }
   ],
   "source": [
    "#Separamos por si hay rio o no a ver si influye en el precio\n",
    "Rio<-data.frame(Boston$c_river_variable, Boston$median_value)\n",
    "Bostonrio<-filter(Rio,Boston$ c_river_variable==1,)\n",
    "head(Bostonrio)\n",
    "Bostonsinrio<-filter(Rio,Boston$c_river_variable==0,)\n",
    "head(Bostonsinrio)\n",
    "countrio<-sum(Bostonrio$Boston.c_river_variable ==1)\n",
    "countsinrio<-sum(Bostonsinrio$Boston.c_river_variable ==0)\n",
    "print(countrio)\n",
    "print(countsinrio)\n",
    "summary(Bostonrio)\n",
    "summary(Bostonsinrio)"
   ]
  },
  {
   "cell_type": "markdown",
   "metadata": {},
   "source": [
    "Podemos observar como el precio medio de las viviendas que tienen un rio colindante es superior a las viviendas que no lo tienen. Exactamente la media es 6.35 unidades superior si hay rio colindante. El problema es que tal vez tenemos muy pocas instancias de viviendas colindantes a un rio. Pero ya veremos más adelante si se puede trabajar con ello con resultados significativos. Por último, especificar que la variable “class” no tenemos información alguna de ella y no parece que tenga mucho sentido a primera vista."
   ]
  },
  {
   "cell_type": "code",
   "execution_count": 6,
   "metadata": {},
   "outputs": [
    {
     "data": {
      "text/html": [
       "<table>\n",
       "<caption>A data.frame: 6 × 13</caption>\n",
       "<thead>\n",
       "\t<tr><th></th><th scope=col>Boston.crime_index</th><th scope=col>Boston.urban_ratio</th><th scope=col>Boston.industry_ratio</th><th scope=col>Boston.nox_concentration</th><th scope=col>Boston.rooms_per_dwelling</th><th scope=col>Boston.dwelling_age</th><th scope=col>Boston.dwelling_dist</th><th scope=col>Boston.highway_index</th><th scope=col>Boston.tax_ratio</th><th scope=col>Boston.teacher_ratio</th><th scope=col>Boston.racial_index</th><th scope=col>Boston.lower_status</th><th scope=col>Boston.median_value</th></tr>\n",
       "\t<tr><th></th><th scope=col>&lt;dbl&gt;</th><th scope=col>&lt;dbl&gt;</th><th scope=col>&lt;dbl&gt;</th><th scope=col>&lt;dbl&gt;</th><th scope=col>&lt;dbl&gt;</th><th scope=col>&lt;dbl&gt;</th><th scope=col>&lt;dbl&gt;</th><th scope=col>&lt;int&gt;</th><th scope=col>&lt;int&gt;</th><th scope=col>&lt;dbl&gt;</th><th scope=col>&lt;dbl&gt;</th><th scope=col>&lt;dbl&gt;</th><th scope=col>&lt;dbl&gt;</th></tr>\n",
       "</thead>\n",
       "<tbody>\n",
       "\t<tr><th scope=row>1</th><td>0.00632</td><td>18</td><td>2.31</td><td>0.538</td><td>6.575</td><td>65.2</td><td>4.0900</td><td>1</td><td>296</td><td>15.3</td><td>396.90</td><td>4.98</td><td>24.0</td></tr>\n",
       "\t<tr><th scope=row>2</th><td>0.02731</td><td> 0</td><td>7.07</td><td>0.469</td><td>6.421</td><td>78.9</td><td>4.9671</td><td>2</td><td>242</td><td>17.8</td><td>396.90</td><td>9.14</td><td>21.6</td></tr>\n",
       "\t<tr><th scope=row>3</th><td>0.02729</td><td> 0</td><td>7.07</td><td>0.469</td><td>7.185</td><td>61.1</td><td>4.9671</td><td>2</td><td>242</td><td>17.8</td><td>392.83</td><td>4.03</td><td>34.7</td></tr>\n",
       "\t<tr><th scope=row>4</th><td>0.03237</td><td> 0</td><td>2.18</td><td>0.458</td><td>6.998</td><td>45.8</td><td>6.0622</td><td>3</td><td>222</td><td>18.7</td><td>394.63</td><td>2.94</td><td>33.4</td></tr>\n",
       "\t<tr><th scope=row>5</th><td>0.06905</td><td> 0</td><td>2.18</td><td>0.458</td><td>7.147</td><td>54.2</td><td>6.0622</td><td>3</td><td>222</td><td>18.7</td><td>396.90</td><td>5.33</td><td>36.2</td></tr>\n",
       "\t<tr><th scope=row>6</th><td>0.02985</td><td> 0</td><td>2.18</td><td>0.458</td><td>6.430</td><td>58.7</td><td>6.0622</td><td>3</td><td>222</td><td>18.7</td><td>394.12</td><td>5.21</td><td>28.7</td></tr>\n",
       "</tbody>\n",
       "</table>\n"
      ],
      "text/latex": [
       "A data.frame: 6 × 13\n",
       "\\begin{tabular}{r|lllllllllllll}\n",
       "  & Boston.crime\\_index & Boston.urban\\_ratio & Boston.industry\\_ratio & Boston.nox\\_concentration & Boston.rooms\\_per\\_dwelling & Boston.dwelling\\_age & Boston.dwelling\\_dist & Boston.highway\\_index & Boston.tax\\_ratio & Boston.teacher\\_ratio & Boston.racial\\_index & Boston.lower\\_status & Boston.median\\_value\\\\\n",
       "  & <dbl> & <dbl> & <dbl> & <dbl> & <dbl> & <dbl> & <dbl> & <int> & <int> & <dbl> & <dbl> & <dbl> & <dbl>\\\\\n",
       "\\hline\n",
       "\t1 & 0.00632 & 18 & 2.31 & 0.538 & 6.575 & 65.2 & 4.0900 & 1 & 296 & 15.3 & 396.90 & 4.98 & 24.0\\\\\n",
       "\t2 & 0.02731 &  0 & 7.07 & 0.469 & 6.421 & 78.9 & 4.9671 & 2 & 242 & 17.8 & 396.90 & 9.14 & 21.6\\\\\n",
       "\t3 & 0.02729 &  0 & 7.07 & 0.469 & 7.185 & 61.1 & 4.9671 & 2 & 242 & 17.8 & 392.83 & 4.03 & 34.7\\\\\n",
       "\t4 & 0.03237 &  0 & 2.18 & 0.458 & 6.998 & 45.8 & 6.0622 & 3 & 222 & 18.7 & 394.63 & 2.94 & 33.4\\\\\n",
       "\t5 & 0.06905 &  0 & 2.18 & 0.458 & 7.147 & 54.2 & 6.0622 & 3 & 222 & 18.7 & 396.90 & 5.33 & 36.2\\\\\n",
       "\t6 & 0.02985 &  0 & 2.18 & 0.458 & 6.430 & 58.7 & 6.0622 & 3 & 222 & 18.7 & 394.12 & 5.21 & 28.7\\\\\n",
       "\\end{tabular}\n"
      ],
      "text/markdown": [
       "\n",
       "A data.frame: 6 × 13\n",
       "\n",
       "| <!--/--> | Boston.crime_index &lt;dbl&gt; | Boston.urban_ratio &lt;dbl&gt; | Boston.industry_ratio &lt;dbl&gt; | Boston.nox_concentration &lt;dbl&gt; | Boston.rooms_per_dwelling &lt;dbl&gt; | Boston.dwelling_age &lt;dbl&gt; | Boston.dwelling_dist &lt;dbl&gt; | Boston.highway_index &lt;int&gt; | Boston.tax_ratio &lt;int&gt; | Boston.teacher_ratio &lt;dbl&gt; | Boston.racial_index &lt;dbl&gt; | Boston.lower_status &lt;dbl&gt; | Boston.median_value &lt;dbl&gt; |\n",
       "|---|---|---|---|---|---|---|---|---|---|---|---|---|---|\n",
       "| 1 | 0.00632 | 18 | 2.31 | 0.538 | 6.575 | 65.2 | 4.0900 | 1 | 296 | 15.3 | 396.90 | 4.98 | 24.0 |\n",
       "| 2 | 0.02731 |  0 | 7.07 | 0.469 | 6.421 | 78.9 | 4.9671 | 2 | 242 | 17.8 | 396.90 | 9.14 | 21.6 |\n",
       "| 3 | 0.02729 |  0 | 7.07 | 0.469 | 7.185 | 61.1 | 4.9671 | 2 | 242 | 17.8 | 392.83 | 4.03 | 34.7 |\n",
       "| 4 | 0.03237 |  0 | 2.18 | 0.458 | 6.998 | 45.8 | 6.0622 | 3 | 222 | 18.7 | 394.63 | 2.94 | 33.4 |\n",
       "| 5 | 0.06905 |  0 | 2.18 | 0.458 | 7.147 | 54.2 | 6.0622 | 3 | 222 | 18.7 | 396.90 | 5.33 | 36.2 |\n",
       "| 6 | 0.02985 |  0 | 2.18 | 0.458 | 6.430 | 58.7 | 6.0622 | 3 | 222 | 18.7 | 394.12 | 5.21 | 28.7 |\n",
       "\n"
      ],
      "text/plain": [
       "  Boston.crime_index Boston.urban_ratio Boston.industry_ratio\n",
       "1 0.00632            18                 2.31                 \n",
       "2 0.02731             0                 7.07                 \n",
       "3 0.02729             0                 7.07                 \n",
       "4 0.03237             0                 2.18                 \n",
       "5 0.06905             0                 2.18                 \n",
       "6 0.02985             0                 2.18                 \n",
       "  Boston.nox_concentration Boston.rooms_per_dwelling Boston.dwelling_age\n",
       "1 0.538                    6.575                     65.2               \n",
       "2 0.469                    6.421                     78.9               \n",
       "3 0.469                    7.185                     61.1               \n",
       "4 0.458                    6.998                     45.8               \n",
       "5 0.458                    7.147                     54.2               \n",
       "6 0.458                    6.430                     58.7               \n",
       "  Boston.dwelling_dist Boston.highway_index Boston.tax_ratio\n",
       "1 4.0900               1                    296             \n",
       "2 4.9671               2                    242             \n",
       "3 4.9671               2                    242             \n",
       "4 6.0622               3                    222             \n",
       "5 6.0622               3                    222             \n",
       "6 6.0622               3                    222             \n",
       "  Boston.teacher_ratio Boston.racial_index Boston.lower_status\n",
       "1 15.3                 396.90              4.98               \n",
       "2 17.8                 396.90              9.14               \n",
       "3 17.8                 392.83              4.03               \n",
       "4 18.7                 394.63              2.94               \n",
       "5 18.7                 396.90              5.33               \n",
       "6 18.7                 394.12              5.21               \n",
       "  Boston.median_value\n",
       "1 24.0               \n",
       "2 21.6               \n",
       "3 34.7               \n",
       "4 33.4               \n",
       "5 36.2               \n",
       "6 28.7               "
      ]
     },
     "metadata": {},
     "output_type": "display_data"
    },
    {
     "data": {
      "text/html": [
       "<style>\n",
       ".list-inline {list-style: none; margin:0; padding: 0}\n",
       ".list-inline>li {display: inline-block}\n",
       ".list-inline>li:not(:last-child)::after {content: \"\\00b7\"; padding: 0 .5ex}\n",
       "</style>\n",
       "<ol class=list-inline><li>'Boston.crime_index'</li><li>'Boston.urban_ratio'</li><li>'Boston.industry_ratio'</li><li>'Boston.nox_concentration'</li><li>'Boston.rooms_per_dwelling'</li><li>'Boston.dwelling_age'</li><li>'Boston.dwelling_dist'</li><li>'Boston.highway_index'</li><li>'Boston.tax_ratio'</li><li>'Boston.teacher_ratio'</li><li>'Boston.racial_index'</li><li>'Boston.lower_status'</li><li>'Boston.median_value'</li></ol>\n"
      ],
      "text/latex": [
       "\\begin{enumerate*}\n",
       "\\item 'Boston.crime\\_index'\n",
       "\\item 'Boston.urban\\_ratio'\n",
       "\\item 'Boston.industry\\_ratio'\n",
       "\\item 'Boston.nox\\_concentration'\n",
       "\\item 'Boston.rooms\\_per\\_dwelling'\n",
       "\\item 'Boston.dwelling\\_age'\n",
       "\\item 'Boston.dwelling\\_dist'\n",
       "\\item 'Boston.highway\\_index'\n",
       "\\item 'Boston.tax\\_ratio'\n",
       "\\item 'Boston.teacher\\_ratio'\n",
       "\\item 'Boston.racial\\_index'\n",
       "\\item 'Boston.lower\\_status'\n",
       "\\item 'Boston.median\\_value'\n",
       "\\end{enumerate*}\n"
      ],
      "text/markdown": [
       "1. 'Boston.crime_index'\n",
       "2. 'Boston.urban_ratio'\n",
       "3. 'Boston.industry_ratio'\n",
       "4. 'Boston.nox_concentration'\n",
       "5. 'Boston.rooms_per_dwelling'\n",
       "6. 'Boston.dwelling_age'\n",
       "7. 'Boston.dwelling_dist'\n",
       "8. 'Boston.highway_index'\n",
       "9. 'Boston.tax_ratio'\n",
       "10. 'Boston.teacher_ratio'\n",
       "11. 'Boston.racial_index'\n",
       "12. 'Boston.lower_status'\n",
       "13. 'Boston.median_value'\n",
       "\n",
       "\n"
      ],
      "text/plain": [
       " [1] \"Boston.crime_index\"        \"Boston.urban_ratio\"       \n",
       " [3] \"Boston.industry_ratio\"     \"Boston.nox_concentration\" \n",
       " [5] \"Boston.rooms_per_dwelling\" \"Boston.dwelling_age\"      \n",
       " [7] \"Boston.dwelling_dist\"      \"Boston.highway_index\"     \n",
       " [9] \"Boston.tax_ratio\"          \"Boston.teacher_ratio\"     \n",
       "[11] \"Boston.racial_index\"       \"Boston.lower_status\"      \n",
       "[13] \"Boston.median_value\"      "
      ]
     },
     "metadata": {},
     "output_type": "display_data"
    }
   ],
   "source": [
    "#Podemos limpiar la columna class que no aporta nada especial ni aparece en la descripción de los datos y de moemento la del rio\n",
    "Bostonf<-data.frame(Boston$crime_index, Boston$urban_ratio, Boston$industry_ratio, Boston$nox_concentration, \n",
    "                    Boston$rooms_per_dwelling, Boston$dwelling_age, Boston$dwelling_dist, Boston$highway_index, Boston$tax_ratio,\n",
    "                   Boston$teacher_ratio, Boston$racial_index, Boston$lower_status, Boston$median_value)\n",
    "head(Bostonf)\n",
    "names(Bostonf)"
   ]
  },
  {
   "cell_type": "code",
   "execution_count": 146,
   "metadata": {},
   "outputs": [
    {
     "data": {
      "image/png": "[encoded data removed]",
      "text/plain": [
       "plot without title"
      ]
     },
     "metadata": {
      "image/png": {
       "height": 420,
       "width": 420
      }
     },
     "output_type": "display_data"
    },
    {
     "data": {
      "image/png": "[encoded data removed]",
      "text/plain": [
       "Plot with title \"Valor vs pob clasebaja\""
      ]
     },
     "metadata": {
      "image/png": {
       "height": 420,
       "width": 420
      }
     },
     "output_type": "display_data"
    },
    {
     "data": {
      "image/png": "[encoded data removed]",
      "text/plain": [
       "Plot with title \"valor vs el num hab\""
      ]
     },
     "metadata": {
      "image/png": {
       "height": 420,
       "width": 420
      }
     },
     "output_type": "display_data"
    }
   ],
   "source": [
    "# Visualización y familiarización del dataset\n",
    "pairs(Bostonf)\n",
    "plot(y=Boston$median_value, x=Boston$lower_status, main=\"Valor vs pob clasebaja\")\n",
    "plot(y=Boston$median_value, x=Boston$rooms_per_dwelling, main=\"valor vs el num hab\")"
   ]
  },
  {
   "cell_type": "markdown",
   "metadata": {},
   "source": [
    "Realizando la función “pairs”, podemos ver una ligera representación de todos los datos entre sí para estudiar la relación que tiene la variable \"median_value\" respecto a las demás y así poder hacerte una idea de que variables tienen más relación. En este caso se observa claramente como hay dos variables que respecto a \"median_value\" tienen bastante relación lineal. Para poder tener una mejor visualización de estas las representamos y observamos que tienen una gran relación y tiene sentido. El precio medio de las viviendas será superior dependiendo del número de habitaciones que esta tenga y también dependerá del índice de gente de \"clase baja\" que viva en el barrio."
   ]
  },
  {
   "cell_type": "markdown",
   "metadata": {},
   "source": [
    "# Análisis de correlación y de componentes principales"
   ]
  },
  {
   "cell_type": "code",
   "execution_count": 145,
   "metadata": {},
   "outputs": [
    {
     "data": {
      "text/html": [
       "<table>\n",
       "<caption>A matrix: 13 × 13 of type dbl</caption>\n",
       "<thead>\n",
       "\t<tr><th></th><th scope=col>Boston.crime_index</th><th scope=col>Boston.urban_ratio</th><th scope=col>Boston.industry_ratio</th><th scope=col>Boston.nox_concentration</th><th scope=col>Boston.rooms_per_dwelling</th><th scope=col>Boston.dwelling_age</th><th scope=col>Boston.dwelling_dist</th><th scope=col>Boston.highway_index</th><th scope=col>Boston.tax_ratio</th><th scope=col>Boston.teacher_ratio</th><th scope=col>Boston.racial_index</th><th scope=col>Boston.lower_status</th><th scope=col>Boston.median_value</th></tr>\n",
       "</thead>\n",
       "<tbody>\n",
       "\t<tr><th scope=row>Boston.crime_index</th><td> 1.0000000</td><td>-0.2004692</td><td> 0.4065834</td><td> 0.4209717</td><td>-0.2192467</td><td> 0.3527343</td><td>-0.3796701</td><td> 0.6255051</td><td> 0.5827643</td><td> 0.2899456</td><td>-0.3850639</td><td> 0.4556215</td><td>-0.3883046</td></tr>\n",
       "\t<tr><th scope=row>Boston.urban_ratio</th><td>-0.2004692</td><td> 1.0000000</td><td>-0.5338282</td><td>-0.5166037</td><td> 0.3119906</td><td>-0.5695373</td><td> 0.6644082</td><td>-0.3119478</td><td>-0.3145633</td><td>-0.3916785</td><td> 0.1755203</td><td>-0.4129946</td><td> 0.3604453</td></tr>\n",
       "\t<tr><th scope=row>Boston.industry_ratio</th><td> 0.4065834</td><td>-0.5338282</td><td> 1.0000000</td><td> 0.7636514</td><td>-0.3916759</td><td> 0.6447785</td><td>-0.7080270</td><td> 0.5951293</td><td> 0.7207602</td><td> 0.3832476</td><td>-0.3569765</td><td> 0.6037997</td><td>-0.4837252</td></tr>\n",
       "\t<tr><th scope=row>Boston.nox_concentration</th><td> 0.4209717</td><td>-0.5166037</td><td> 0.7636514</td><td> 1.0000000</td><td>-0.3021882</td><td> 0.7314701</td><td>-0.7692301</td><td> 0.6114406</td><td> 0.6680232</td><td> 0.1889327</td><td>-0.3800506</td><td> 0.5908789</td><td>-0.4273208</td></tr>\n",
       "\t<tr><th scope=row>Boston.rooms_per_dwelling</th><td>-0.2192467</td><td> 0.3119906</td><td>-0.3916759</td><td>-0.3021882</td><td> 1.0000000</td><td>-0.2402649</td><td> 0.2052462</td><td>-0.2098467</td><td>-0.2920478</td><td>-0.3555015</td><td> 0.1280686</td><td>-0.6138083</td><td> 0.6953599</td></tr>\n",
       "\t<tr><th scope=row>Boston.dwelling_age</th><td> 0.3527343</td><td>-0.5695373</td><td> 0.6447785</td><td> 0.7314701</td><td>-0.2402649</td><td> 1.0000000</td><td>-0.7478805</td><td> 0.4560225</td><td> 0.5064556</td><td> 0.2615150</td><td>-0.2735340</td><td> 0.6023385</td><td>-0.3769546</td></tr>\n",
       "\t<tr><th scope=row>Boston.dwelling_dist</th><td>-0.3796701</td><td> 0.6644082</td><td>-0.7080270</td><td>-0.7692301</td><td> 0.2052462</td><td>-0.7478805</td><td> 1.0000000</td><td>-0.4945879</td><td>-0.5344316</td><td>-0.2324705</td><td> 0.2915117</td><td>-0.4969958</td><td> 0.2499287</td></tr>\n",
       "\t<tr><th scope=row>Boston.highway_index</th><td> 0.6255051</td><td>-0.3119478</td><td> 0.5951293</td><td> 0.6114406</td><td>-0.2098467</td><td> 0.4560225</td><td>-0.4945879</td><td> 1.0000000</td><td> 0.9102282</td><td> 0.4647412</td><td>-0.4444128</td><td> 0.4886763</td><td>-0.3816262</td></tr>\n",
       "\t<tr><th scope=row>Boston.tax_ratio</th><td> 0.5827643</td><td>-0.3145633</td><td> 0.7207602</td><td> 0.6680232</td><td>-0.2920478</td><td> 0.5064556</td><td>-0.5344316</td><td> 0.9102282</td><td> 1.0000000</td><td> 0.4608530</td><td>-0.4418080</td><td> 0.5439934</td><td>-0.4685359</td></tr>\n",
       "\t<tr><th scope=row>Boston.teacher_ratio</th><td> 0.2899456</td><td>-0.3916785</td><td> 0.3832476</td><td> 0.1889327</td><td>-0.3555015</td><td> 0.2615150</td><td>-0.2324705</td><td> 0.4647412</td><td> 0.4608530</td><td> 1.0000000</td><td>-0.1773833</td><td> 0.3740443</td><td>-0.5077867</td></tr>\n",
       "\t<tr><th scope=row>Boston.racial_index</th><td>-0.3850639</td><td> 0.1755203</td><td>-0.3569765</td><td>-0.3800506</td><td> 0.1280686</td><td>-0.2735340</td><td> 0.2915117</td><td>-0.4444128</td><td>-0.4418080</td><td>-0.1773833</td><td> 1.0000000</td><td>-0.3660869</td><td> 0.3334608</td></tr>\n",
       "\t<tr><th scope=row>Boston.lower_status</th><td> 0.4556215</td><td>-0.4129946</td><td> 0.6037997</td><td> 0.5908789</td><td>-0.6138083</td><td> 0.6023385</td><td>-0.4969958</td><td> 0.4886763</td><td> 0.5439934</td><td> 0.3740443</td><td>-0.3660869</td><td> 1.0000000</td><td>-0.7376627</td></tr>\n",
       "\t<tr><th scope=row>Boston.median_value</th><td>-0.3883046</td><td> 0.3604453</td><td>-0.4837252</td><td>-0.4273208</td><td> 0.6953599</td><td>-0.3769546</td><td> 0.2499287</td><td>-0.3816262</td><td>-0.4685359</td><td>-0.5077867</td><td> 0.3334608</td><td>-0.7376627</td><td> 1.0000000</td></tr>\n",
       "</tbody>\n",
       "</table>\n"
      ],
      "text/latex": [
       "A matrix: 13 × 13 of type dbl\n",
       "\\begin{tabular}{r|lllllllllllll}\n",
       "  & Boston.crime\\_index & Boston.urban\\_ratio & Boston.industry\\_ratio & Boston.nox\\_concentration & Boston.rooms\\_per\\_dwelling & Boston.dwelling\\_age & Boston.dwelling\\_dist & Boston.highway\\_index & Boston.tax\\_ratio & Boston.teacher\\_ratio & Boston.racial\\_index & Boston.lower\\_status & Boston.median\\_value\\\\\n",
       "\\hline\n",
       "\tBoston.crime\\_index &  1.0000000 & -0.2004692 &  0.4065834 &  0.4209717 & -0.2192467 &  0.3527343 & -0.3796701 &  0.6255051 &  0.5827643 &  0.2899456 & -0.3850639 &  0.4556215 & -0.3883046\\\\\n",
       "\tBoston.urban\\_ratio & -0.2004692 &  1.0000000 & -0.5338282 & -0.5166037 &  0.3119906 & -0.5695373 &  0.6644082 & -0.3119478 & -0.3145633 & -0.3916785 &  0.1755203 & -0.4129946 &  0.3604453\\\\\n",
       "\tBoston.industry\\_ratio &  0.4065834 & -0.5338282 &  1.0000000 &  0.7636514 & -0.3916759 &  0.6447785 & -0.7080270 &  0.5951293 &  0.7207602 &  0.3832476 & -0.3569765 &  0.6037997 & -0.4837252\\\\\n",
       "\tBoston.nox\\_concentration &  0.4209717 & -0.5166037 &  0.7636514 &  1.0000000 & -0.3021882 &  0.7314701 & -0.7692301 &  0.6114406 &  0.6680232 &  0.1889327 & -0.3800506 &  0.5908789 & -0.4273208\\\\\n",
       "\tBoston.rooms\\_per\\_dwelling & -0.2192467 &  0.3119906 & -0.3916759 & -0.3021882 &  1.0000000 & -0.2402649 &  0.2052462 & -0.2098467 & -0.2920478 & -0.3555015 &  0.1280686 & -0.6138083 &  0.6953599\\\\\n",
       "\tBoston.dwelling\\_age &  0.3527343 & -0.5695373 &  0.6447785 &  0.7314701 & -0.2402649 &  1.0000000 & -0.7478805 &  0.4560225 &  0.5064556 &  0.2615150 & -0.2735340 &  0.6023385 & -0.3769546\\\\\n",
       "\tBoston.dwelling\\_dist & -0.3796701 &  0.6644082 & -0.7080270 & -0.7692301 &  0.2052462 & -0.7478805 &  1.0000000 & -0.4945879 & -0.5344316 & -0.2324705 &  0.2915117 & -0.4969958 &  0.2499287\\\\\n",
       "\tBoston.highway\\_index &  0.6255051 & -0.3119478 &  0.5951293 &  0.6114406 & -0.2098467 &  0.4560225 & -0.4945879 &  1.0000000 &  0.9102282 &  0.4647412 & -0.4444128 &  0.4886763 & -0.3816262\\\\\n",
       "\tBoston.tax\\_ratio &  0.5827643 & -0.3145633 &  0.7207602 &  0.6680232 & -0.2920478 &  0.5064556 & -0.5344316 &  0.9102282 &  1.0000000 &  0.4608530 & -0.4418080 &  0.5439934 & -0.4685359\\\\\n",
       "\tBoston.teacher\\_ratio &  0.2899456 & -0.3916785 &  0.3832476 &  0.1889327 & -0.3555015 &  0.2615150 & -0.2324705 &  0.4647412 &  0.4608530 &  1.0000000 & -0.1773833 &  0.3740443 & -0.5077867\\\\\n",
       "\tBoston.racial\\_index & -0.3850639 &  0.1755203 & -0.3569765 & -0.3800506 &  0.1280686 & -0.2735340 &  0.2915117 & -0.4444128 & -0.4418080 & -0.1773833 &  1.0000000 & -0.3660869 &  0.3334608\\\\\n",
       "\tBoston.lower\\_status &  0.4556215 & -0.4129946 &  0.6037997 &  0.5908789 & -0.6138083 &  0.6023385 & -0.4969958 &  0.4886763 &  0.5439934 &  0.3740443 & -0.3660869 &  1.0000000 & -0.7376627\\\\\n",
       "\tBoston.median\\_value & -0.3883046 &  0.3604453 & -0.4837252 & -0.4273208 &  0.6953599 & -0.3769546 &  0.2499287 & -0.3816262 & -0.4685359 & -0.5077867 &  0.3334608 & -0.7376627 &  1.0000000\\\\\n",
       "\\end{tabular}\n"
      ],
      "text/markdown": [
       "\n",
       "A matrix: 13 × 13 of type dbl\n",
       "\n",
       "| <!--/--> | Boston.crime_index | Boston.urban_ratio | Boston.industry_ratio | Boston.nox_concentration | Boston.rooms_per_dwelling | Boston.dwelling_age | Boston.dwelling_dist | Boston.highway_index | Boston.tax_ratio | Boston.teacher_ratio | Boston.racial_index | Boston.lower_status | Boston.median_value |\n",
       "|---|---|---|---|---|---|---|---|---|---|---|---|---|---|\n",
       "| Boston.crime_index |  1.0000000 | -0.2004692 |  0.4065834 |  0.4209717 | -0.2192467 |  0.3527343 | -0.3796701 |  0.6255051 |  0.5827643 |  0.2899456 | -0.3850639 |  0.4556215 | -0.3883046 |\n",
       "| Boston.urban_ratio | -0.2004692 |  1.0000000 | -0.5338282 | -0.5166037 |  0.3119906 | -0.5695373 |  0.6644082 | -0.3119478 | -0.3145633 | -0.3916785 |  0.1755203 | -0.4129946 |  0.3604453 |\n",
       "| Boston.industry_ratio |  0.4065834 | -0.5338282 |  1.0000000 |  0.7636514 | -0.3916759 |  0.6447785 | -0.7080270 |  0.5951293 |  0.7207602 |  0.3832476 | -0.3569765 |  0.6037997 | -0.4837252 |\n",
       "| Boston.nox_concentration |  0.4209717 | -0.5166037 |  0.7636514 |  1.0000000 | -0.3021882 |  0.7314701 | -0.7692301 |  0.6114406 |  0.6680232 |  0.1889327 | -0.3800506 |  0.5908789 | -0.4273208 |\n",
       "| Boston.rooms_per_dwelling | -0.2192467 |  0.3119906 | -0.3916759 | -0.3021882 |  1.0000000 | -0.2402649 |  0.2052462 | -0.2098467 | -0.2920478 | -0.3555015 |  0.1280686 | -0.6138083 |  0.6953599 |\n",
       "| Boston.dwelling_age |  0.3527343 | -0.5695373 |  0.6447785 |  0.7314701 | -0.2402649 |  1.0000000 | -0.7478805 |  0.4560225 |  0.5064556 |  0.2615150 | -0.2735340 |  0.6023385 | -0.3769546 |\n",
       "| Boston.dwelling_dist | -0.3796701 |  0.6644082 | -0.7080270 | -0.7692301 |  0.2052462 | -0.7478805 |  1.0000000 | -0.4945879 | -0.5344316 | -0.2324705 |  0.2915117 | -0.4969958 |  0.2499287 |\n",
       "| Boston.highway_index |  0.6255051 | -0.3119478 |  0.5951293 |  0.6114406 | -0.2098467 |  0.4560225 | -0.4945879 |  1.0000000 |  0.9102282 |  0.4647412 | -0.4444128 |  0.4886763 | -0.3816262 |\n",
       "| Boston.tax_ratio |  0.5827643 | -0.3145633 |  0.7207602 |  0.6680232 | -0.2920478 |  0.5064556 | -0.5344316 |  0.9102282 |  1.0000000 |  0.4608530 | -0.4418080 |  0.5439934 | -0.4685359 |\n",
       "| Boston.teacher_ratio |  0.2899456 | -0.3916785 |  0.3832476 |  0.1889327 | -0.3555015 |  0.2615150 | -0.2324705 |  0.4647412 |  0.4608530 |  1.0000000 | -0.1773833 |  0.3740443 | -0.5077867 |\n",
       "| Boston.racial_index | -0.3850639 |  0.1755203 | -0.3569765 | -0.3800506 |  0.1280686 | -0.2735340 |  0.2915117 | -0.4444128 | -0.4418080 | -0.1773833 |  1.0000000 | -0.3660869 |  0.3334608 |\n",
       "| Boston.lower_status |  0.4556215 | -0.4129946 |  0.6037997 |  0.5908789 | -0.6138083 |  0.6023385 | -0.4969958 |  0.4886763 |  0.5439934 |  0.3740443 | -0.3660869 |  1.0000000 | -0.7376627 |\n",
       "| Boston.median_value | -0.3883046 |  0.3604453 | -0.4837252 | -0.4273208 |  0.6953599 | -0.3769546 |  0.2499287 | -0.3816262 | -0.4685359 | -0.5077867 |  0.3334608 | -0.7376627 |  1.0000000 |\n",
       "\n"
      ],
      "text/plain": [
       "                          Boston.crime_index Boston.urban_ratio\n",
       "Boston.crime_index         1.0000000         -0.2004692        \n",
       "Boston.urban_ratio        -0.2004692          1.0000000        \n",
       "Boston.industry_ratio      0.4065834         -0.5338282        \n",
       "Boston.nox_concentration   0.4209717         -0.5166037        \n",
       "Boston.rooms_per_dwelling -0.2192467          0.3119906        \n",
       "Boston.dwelling_age        0.3527343         -0.5695373        \n",
       "Boston.dwelling_dist      -0.3796701          0.6644082        \n",
       "Boston.highway_index       0.6255051         -0.3119478        \n",
       "Boston.tax_ratio           0.5827643         -0.3145633        \n",
       "Boston.teacher_ratio       0.2899456         -0.3916785        \n",
       "Boston.racial_index       -0.3850639          0.1755203        \n",
       "Boston.lower_status        0.4556215         -0.4129946        \n",
       "Boston.median_value       -0.3883046          0.3604453        \n",
       "                          Boston.industry_ratio Boston.nox_concentration\n",
       "Boston.crime_index         0.4065834             0.4209717              \n",
       "Boston.urban_ratio        -0.5338282            -0.5166037              \n",
       "Boston.industry_ratio      1.0000000             0.7636514              \n",
       "Boston.nox_concentration   0.7636514             1.0000000              \n",
       "Boston.rooms_per_dwelling -0.3916759            -0.3021882              \n",
       "Boston.dwelling_age        0.6447785             0.7314701              \n",
       "Boston.dwelling_dist      -0.7080270            -0.7692301              \n",
       "Boston.highway_index       0.5951293             0.6114406              \n",
       "Boston.tax_ratio           0.7207602             0.6680232              \n",
       "Boston.teacher_ratio       0.3832476             0.1889327              \n",
       "Boston.racial_index       -0.3569765            -0.3800506              \n",
       "Boston.lower_status        0.6037997             0.5908789              \n",
       "Boston.median_value       -0.4837252            -0.4273208              \n",
       "                          Boston.rooms_per_dwelling Boston.dwelling_age\n",
       "Boston.crime_index        -0.2192467                 0.3527343         \n",
       "Boston.urban_ratio         0.3119906                -0.5695373         \n",
       "Boston.industry_ratio     -0.3916759                 0.6447785         \n",
       "Boston.nox_concentration  -0.3021882                 0.7314701         \n",
       "Boston.rooms_per_dwelling  1.0000000                -0.2402649         \n",
       "Boston.dwelling_age       -0.2402649                 1.0000000         \n",
       "Boston.dwelling_dist       0.2052462                -0.7478805         \n",
       "Boston.highway_index      -0.2098467                 0.4560225         \n",
       "Boston.tax_ratio          -0.2920478                 0.5064556         \n",
       "Boston.teacher_ratio      -0.3555015                 0.2615150         \n",
       "Boston.racial_index        0.1280686                -0.2735340         \n",
       "Boston.lower_status       -0.6138083                 0.6023385         \n",
       "Boston.median_value        0.6953599                -0.3769546         \n",
       "                          Boston.dwelling_dist Boston.highway_index\n",
       "Boston.crime_index        -0.3796701            0.6255051          \n",
       "Boston.urban_ratio         0.6644082           -0.3119478          \n",
       "Boston.industry_ratio     -0.7080270            0.5951293          \n",
       "Boston.nox_concentration  -0.7692301            0.6114406          \n",
       "Boston.rooms_per_dwelling  0.2052462           -0.2098467          \n",
       "Boston.dwelling_age       -0.7478805            0.4560225          \n",
       "Boston.dwelling_dist       1.0000000           -0.4945879          \n",
       "Boston.highway_index      -0.4945879            1.0000000          \n",
       "Boston.tax_ratio          -0.5344316            0.9102282          \n",
       "Boston.teacher_ratio      -0.2324705            0.4647412          \n",
       "Boston.racial_index        0.2915117           -0.4444128          \n",
       "Boston.lower_status       -0.4969958            0.4886763          \n",
       "Boston.median_value        0.2499287           -0.3816262          \n",
       "                          Boston.tax_ratio Boston.teacher_ratio\n",
       "Boston.crime_index         0.5827643        0.2899456          \n",
       "Boston.urban_ratio        -0.3145633       -0.3916785          \n",
       "Boston.industry_ratio      0.7207602        0.3832476          \n",
       "Boston.nox_concentration   0.6680232        0.1889327          \n",
       "Boston.rooms_per_dwelling -0.2920478       -0.3555015          \n",
       "Boston.dwelling_age        0.5064556        0.2615150          \n",
       "Boston.dwelling_dist      -0.5344316       -0.2324705          \n",
       "Boston.highway_index       0.9102282        0.4647412          \n",
       "Boston.tax_ratio           1.0000000        0.4608530          \n",
       "Boston.teacher_ratio       0.4608530        1.0000000          \n",
       "Boston.racial_index       -0.4418080       -0.1773833          \n",
       "Boston.lower_status        0.5439934        0.3740443          \n",
       "Boston.median_value       -0.4685359       -0.5077867          \n",
       "                          Boston.racial_index Boston.lower_status\n",
       "Boston.crime_index        -0.3850639           0.4556215         \n",
       "Boston.urban_ratio         0.1755203          -0.4129946         \n",
       "Boston.industry_ratio     -0.3569765           0.6037997         \n",
       "Boston.nox_concentration  -0.3800506           0.5908789         \n",
       "Boston.rooms_per_dwelling  0.1280686          -0.6138083         \n",
       "Boston.dwelling_age       -0.2735340           0.6023385         \n",
       "Boston.dwelling_dist       0.2915117          -0.4969958         \n",
       "Boston.highway_index      -0.4444128           0.4886763         \n",
       "Boston.tax_ratio          -0.4418080           0.5439934         \n",
       "Boston.teacher_ratio      -0.1773833           0.3740443         \n",
       "Boston.racial_index        1.0000000          -0.3660869         \n",
       "Boston.lower_status       -0.3660869           1.0000000         \n",
       "Boston.median_value        0.3334608          -0.7376627         \n",
       "                          Boston.median_value\n",
       "Boston.crime_index        -0.3883046         \n",
       "Boston.urban_ratio         0.3604453         \n",
       "Boston.industry_ratio     -0.4837252         \n",
       "Boston.nox_concentration  -0.4273208         \n",
       "Boston.rooms_per_dwelling  0.6953599         \n",
       "Boston.dwelling_age       -0.3769546         \n",
       "Boston.dwelling_dist       0.2499287         \n",
       "Boston.highway_index      -0.3816262         \n",
       "Boston.tax_ratio          -0.4685359         \n",
       "Boston.teacher_ratio      -0.5077867         \n",
       "Boston.racial_index        0.3334608         \n",
       "Boston.lower_status       -0.7376627         \n",
       "Boston.median_value        1.0000000         "
      ]
     },
     "metadata": {},
     "output_type": "display_data"
    },
    {
     "data": {
      "image/png": "[encoded data removed]",
      "text/plain": [
       "Plot with title \"\""
      ]
     },
     "metadata": {
      "image/png": {
       "height": 420,
       "width": 420
      }
     },
     "output_type": "display_data"
    }
   ],
   "source": [
    "corrplot::corrplot(cor(Bostonf), method=\"square\")\n",
    "cor(Bostonf)"
   ]
  },
  {
   "cell_type": "markdown",
   "metadata": {},
   "source": [
    "Observamos como claramente las dos variables representadas al principio tienen mucha más relación que las demás variables. Esto es debido a que su valor de correlación es bastante más elevado respecto a las demás. La primera gráfica (Valor vs pob clasebaja) tiene una correlación de -0.74 y la segunda gráfica (valor vs num hab correlación) tiene una correlación de 0.70. La correlación que puede ser significativa de las otras variables es de -0.51 (valor vs la ratio de profes), -0.48 (valor vs ratio industria) y de -0.47 (valor vs el índice de tasas). \n",
    "\n",
    "Podemos decir que hay una dependencia bastante clara entre (Corr>0.6):\n",
    "\n",
    "- Valor medio del precio de la viviendo con el porcentaje de población de \"clase baja\"\n",
    "- Valor medio del precio de la vivienda con el número de habitaciones medio por vivienda\n",
    "\n",
    "Y una dependencia no tan fuerte entre (0.45<Corr<0.6):\n",
    "\n",
    "- Valor medio del precio de la vivienda con la ratio de alumno por profesor\n",
    "- Valor medio del precio de la vivienda con la ratio de industria de la zona\n",
    "- Valor medio del precio de la vivienda con el índice de tasas por cada 1000 dólares\n",
    "\n",
    "Vamos a probar de realizar una predicción con un modelo de regresión del precio de la vivienda o al menos poder tener un valor no exacto pero estimado del precio dependiendo del número de habitaciones, la población de \"clase baja\", la ratio de alumno por profesor, el ratio de industria de la zona y el índice de tasas por cada 1000 dólares.\n",
    "También, a más a más, haré un test para saber si es cierto o no que el precio medio de las viviendas colindantes a un río son más caras que las demás."
   ]
  },
  {
   "cell_type": "code",
   "execution_count": 78,
   "metadata": {},
   "outputs": [
    {
     "data": {
      "text/html": [
       "<table>\n",
       "<caption>A data.frame: 6 × 7</caption>\n",
       "<thead>\n",
       "\t<tr><th></th><th scope=col>lower_status</th><th scope=col>rooms_per_dwelling</th><th scope=col>teacher_ratio</th><th scope=col>industry_ratio</th><th scope=col>tax_ratio</th><th scope=col>median_value</th><th scope=col>c_river_variable</th></tr>\n",
       "\t<tr><th></th><th scope=col>&lt;dbl&gt;</th><th scope=col>&lt;dbl&gt;</th><th scope=col>&lt;dbl&gt;</th><th scope=col>&lt;dbl&gt;</th><th scope=col>&lt;int&gt;</th><th scope=col>&lt;dbl&gt;</th><th scope=col>&lt;int&gt;</th></tr>\n",
       "</thead>\n",
       "<tbody>\n",
       "\t<tr><th scope=row>1</th><td>4.98</td><td>6.575</td><td>15.3</td><td>2.31</td><td>296</td><td>24.0</td><td>0</td></tr>\n",
       "\t<tr><th scope=row>2</th><td>9.14</td><td>6.421</td><td>17.8</td><td>7.07</td><td>242</td><td>21.6</td><td>0</td></tr>\n",
       "\t<tr><th scope=row>3</th><td>4.03</td><td>7.185</td><td>17.8</td><td>7.07</td><td>242</td><td>34.7</td><td>0</td></tr>\n",
       "\t<tr><th scope=row>4</th><td>2.94</td><td>6.998</td><td>18.7</td><td>2.18</td><td>222</td><td>33.4</td><td>0</td></tr>\n",
       "\t<tr><th scope=row>5</th><td>5.33</td><td>7.147</td><td>18.7</td><td>2.18</td><td>222</td><td>36.2</td><td>0</td></tr>\n",
       "\t<tr><th scope=row>6</th><td>5.21</td><td>6.430</td><td>18.7</td><td>2.18</td><td>222</td><td>28.7</td><td>0</td></tr>\n",
       "</tbody>\n",
       "</table>\n"
      ],
      "text/latex": [
       "A data.frame: 6 × 7\n",
       "\\begin{tabular}{r|lllllll}\n",
       "  & lower\\_status & rooms\\_per\\_dwelling & teacher\\_ratio & industry\\_ratio & tax\\_ratio & median\\_value & c\\_river\\_variable\\\\\n",
       "  & <dbl> & <dbl> & <dbl> & <dbl> & <int> & <dbl> & <int>\\\\\n",
       "\\hline\n",
       "\t1 & 4.98 & 6.575 & 15.3 & 2.31 & 296 & 24.0 & 0\\\\\n",
       "\t2 & 9.14 & 6.421 & 17.8 & 7.07 & 242 & 21.6 & 0\\\\\n",
       "\t3 & 4.03 & 7.185 & 17.8 & 7.07 & 242 & 34.7 & 0\\\\\n",
       "\t4 & 2.94 & 6.998 & 18.7 & 2.18 & 222 & 33.4 & 0\\\\\n",
       "\t5 & 5.33 & 7.147 & 18.7 & 2.18 & 222 & 36.2 & 0\\\\\n",
       "\t6 & 5.21 & 6.430 & 18.7 & 2.18 & 222 & 28.7 & 0\\\\\n",
       "\\end{tabular}\n"
      ],
      "text/markdown": [
       "\n",
       "A data.frame: 6 × 7\n",
       "\n",
       "| <!--/--> | lower_status &lt;dbl&gt; | rooms_per_dwelling &lt;dbl&gt; | teacher_ratio &lt;dbl&gt; | industry_ratio &lt;dbl&gt; | tax_ratio &lt;int&gt; | median_value &lt;dbl&gt; | c_river_variable &lt;int&gt; |\n",
       "|---|---|---|---|---|---|---|---|\n",
       "| 1 | 4.98 | 6.575 | 15.3 | 2.31 | 296 | 24.0 | 0 |\n",
       "| 2 | 9.14 | 6.421 | 17.8 | 7.07 | 242 | 21.6 | 0 |\n",
       "| 3 | 4.03 | 7.185 | 17.8 | 7.07 | 242 | 34.7 | 0 |\n",
       "| 4 | 2.94 | 6.998 | 18.7 | 2.18 | 222 | 33.4 | 0 |\n",
       "| 5 | 5.33 | 7.147 | 18.7 | 2.18 | 222 | 36.2 | 0 |\n",
       "| 6 | 5.21 | 6.430 | 18.7 | 2.18 | 222 | 28.7 | 0 |\n",
       "\n"
      ],
      "text/plain": [
       "  lower_status rooms_per_dwelling teacher_ratio industry_ratio tax_ratio\n",
       "1 4.98         6.575              15.3          2.31           296      \n",
       "2 9.14         6.421              17.8          7.07           242      \n",
       "3 4.03         7.185              17.8          7.07           242      \n",
       "4 2.94         6.998              18.7          2.18           222      \n",
       "5 5.33         7.147              18.7          2.18           222      \n",
       "6 5.21         6.430              18.7          2.18           222      \n",
       "  median_value c_river_variable\n",
       "1 24.0         0               \n",
       "2 21.6         0               \n",
       "3 34.7         0               \n",
       "4 33.4         0               \n",
       "5 36.2         0               \n",
       "6 28.7         0               "
      ]
     },
     "metadata": {},
     "output_type": "display_data"
    },
    {
     "data": {
      "text/html": [
       "<table>\n",
       "<caption>A data.frame: 6 × 7</caption>\n",
       "<thead>\n",
       "\t<tr><th></th><th scope=col>lower_status</th><th scope=col>rooms_per_dwelling</th><th scope=col>teacher_ratio</th><th scope=col>industry_ratio</th><th scope=col>tax_ratio</th><th scope=col>median_value</th><th scope=col>c_river_variable</th></tr>\n",
       "\t<tr><th></th><th scope=col>&lt;dbl&gt;</th><th scope=col>&lt;dbl&gt;</th><th scope=col>&lt;dbl&gt;</th><th scope=col>&lt;dbl&gt;</th><th scope=col>&lt;int&gt;</th><th scope=col>&lt;dbl&gt;</th><th scope=col>&lt;int&gt;</th></tr>\n",
       "</thead>\n",
       "<tbody>\n",
       "\t<tr><th scope=row>143</th><td>26.82</td><td>5.403</td><td>14.7</td><td>19.58</td><td>403</td><td>13.4</td><td>1</td></tr>\n",
       "\t<tr><th scope=row>153</th><td>12.12</td><td>5.012</td><td>14.7</td><td>19.58</td><td>403</td><td>15.3</td><td>1</td></tr>\n",
       "\t<tr><th scope=row>155</th><td>15.12</td><td>6.129</td><td>14.7</td><td>19.58</td><td>403</td><td>17.0</td><td>1</td></tr>\n",
       "\t<tr><th scope=row>156</th><td>15.02</td><td>6.152</td><td>14.7</td><td>19.58</td><td>403</td><td>15.6</td><td>1</td></tr>\n",
       "\t<tr><th scope=row>161</th><td> 5.50</td><td>6.250</td><td>14.7</td><td>19.58</td><td>403</td><td>27.0</td><td>1</td></tr>\n",
       "\t<tr><th scope=row>163</th><td> 1.92</td><td>7.802</td><td>14.7</td><td>19.58</td><td>403</td><td>50.0</td><td>1</td></tr>\n",
       "</tbody>\n",
       "</table>\n"
      ],
      "text/latex": [
       "A data.frame: 6 × 7\n",
       "\\begin{tabular}{r|lllllll}\n",
       "  & lower\\_status & rooms\\_per\\_dwelling & teacher\\_ratio & industry\\_ratio & tax\\_ratio & median\\_value & c\\_river\\_variable\\\\\n",
       "  & <dbl> & <dbl> & <dbl> & <dbl> & <int> & <dbl> & <int>\\\\\n",
       "\\hline\n",
       "\t143 & 26.82 & 5.403 & 14.7 & 19.58 & 403 & 13.4 & 1\\\\\n",
       "\t153 & 12.12 & 5.012 & 14.7 & 19.58 & 403 & 15.3 & 1\\\\\n",
       "\t155 & 15.12 & 6.129 & 14.7 & 19.58 & 403 & 17.0 & 1\\\\\n",
       "\t156 & 15.02 & 6.152 & 14.7 & 19.58 & 403 & 15.6 & 1\\\\\n",
       "\t161 &  5.50 & 6.250 & 14.7 & 19.58 & 403 & 27.0 & 1\\\\\n",
       "\t163 &  1.92 & 7.802 & 14.7 & 19.58 & 403 & 50.0 & 1\\\\\n",
       "\\end{tabular}\n"
      ],
      "text/markdown": [
       "\n",
       "A data.frame: 6 × 7\n",
       "\n",
       "| <!--/--> | lower_status &lt;dbl&gt; | rooms_per_dwelling &lt;dbl&gt; | teacher_ratio &lt;dbl&gt; | industry_ratio &lt;dbl&gt; | tax_ratio &lt;int&gt; | median_value &lt;dbl&gt; | c_river_variable &lt;int&gt; |\n",
       "|---|---|---|---|---|---|---|---|\n",
       "| 143 | 26.82 | 5.403 | 14.7 | 19.58 | 403 | 13.4 | 1 |\n",
       "| 153 | 12.12 | 5.012 | 14.7 | 19.58 | 403 | 15.3 | 1 |\n",
       "| 155 | 15.12 | 6.129 | 14.7 | 19.58 | 403 | 17.0 | 1 |\n",
       "| 156 | 15.02 | 6.152 | 14.7 | 19.58 | 403 | 15.6 | 1 |\n",
       "| 161 |  5.50 | 6.250 | 14.7 | 19.58 | 403 | 27.0 | 1 |\n",
       "| 163 |  1.92 | 7.802 | 14.7 | 19.58 | 403 | 50.0 | 1 |\n",
       "\n"
      ],
      "text/plain": [
       "    lower_status rooms_per_dwelling teacher_ratio industry_ratio tax_ratio\n",
       "143 26.82        5.403              14.7          19.58          403      \n",
       "153 12.12        5.012              14.7          19.58          403      \n",
       "155 15.12        6.129              14.7          19.58          403      \n",
       "156 15.02        6.152              14.7          19.58          403      \n",
       "161  5.50        6.250              14.7          19.58          403      \n",
       "163  1.92        7.802              14.7          19.58          403      \n",
       "    median_value c_river_variable\n",
       "143 13.4         1               \n",
       "153 15.3         1               \n",
       "155 17.0         1               \n",
       "156 15.6         1               \n",
       "161 27.0         1               \n",
       "163 50.0         1               "
      ]
     },
     "metadata": {},
     "output_type": "display_data"
    },
    {
     "data": {
      "text/html": [
       "<table>\n",
       "<caption>A data.frame: 6 × 7</caption>\n",
       "<thead>\n",
       "\t<tr><th></th><th scope=col>lower_status</th><th scope=col>rooms_per_dwelling</th><th scope=col>teacher_ratio</th><th scope=col>industry_ratio</th><th scope=col>tax_ratio</th><th scope=col>median_value</th><th scope=col>c_river_variable</th></tr>\n",
       "\t<tr><th></th><th scope=col>&lt;dbl&gt;</th><th scope=col>&lt;dbl&gt;</th><th scope=col>&lt;dbl&gt;</th><th scope=col>&lt;dbl&gt;</th><th scope=col>&lt;int&gt;</th><th scope=col>&lt;dbl&gt;</th><th scope=col>&lt;int&gt;</th></tr>\n",
       "</thead>\n",
       "<tbody>\n",
       "\t<tr><th scope=row>1</th><td>4.98</td><td>6.575</td><td>15.3</td><td>2.31</td><td>296</td><td>24.0</td><td>0</td></tr>\n",
       "\t<tr><th scope=row>2</th><td>9.14</td><td>6.421</td><td>17.8</td><td>7.07</td><td>242</td><td>21.6</td><td>0</td></tr>\n",
       "\t<tr><th scope=row>3</th><td>4.03</td><td>7.185</td><td>17.8</td><td>7.07</td><td>242</td><td>34.7</td><td>0</td></tr>\n",
       "\t<tr><th scope=row>4</th><td>2.94</td><td>6.998</td><td>18.7</td><td>2.18</td><td>222</td><td>33.4</td><td>0</td></tr>\n",
       "\t<tr><th scope=row>5</th><td>5.33</td><td>7.147</td><td>18.7</td><td>2.18</td><td>222</td><td>36.2</td><td>0</td></tr>\n",
       "\t<tr><th scope=row>6</th><td>5.21</td><td>6.430</td><td>18.7</td><td>2.18</td><td>222</td><td>28.7</td><td>0</td></tr>\n",
       "</tbody>\n",
       "</table>\n"
      ],
      "text/latex": [
       "A data.frame: 6 × 7\n",
       "\\begin{tabular}{r|lllllll}\n",
       "  & lower\\_status & rooms\\_per\\_dwelling & teacher\\_ratio & industry\\_ratio & tax\\_ratio & median\\_value & c\\_river\\_variable\\\\\n",
       "  & <dbl> & <dbl> & <dbl> & <dbl> & <int> & <dbl> & <int>\\\\\n",
       "\\hline\n",
       "\t1 & 4.98 & 6.575 & 15.3 & 2.31 & 296 & 24.0 & 0\\\\\n",
       "\t2 & 9.14 & 6.421 & 17.8 & 7.07 & 242 & 21.6 & 0\\\\\n",
       "\t3 & 4.03 & 7.185 & 17.8 & 7.07 & 242 & 34.7 & 0\\\\\n",
       "\t4 & 2.94 & 6.998 & 18.7 & 2.18 & 222 & 33.4 & 0\\\\\n",
       "\t5 & 5.33 & 7.147 & 18.7 & 2.18 & 222 & 36.2 & 0\\\\\n",
       "\t6 & 5.21 & 6.430 & 18.7 & 2.18 & 222 & 28.7 & 0\\\\\n",
       "\\end{tabular}\n"
      ],
      "text/markdown": [
       "\n",
       "A data.frame: 6 × 7\n",
       "\n",
       "| <!--/--> | lower_status &lt;dbl&gt; | rooms_per_dwelling &lt;dbl&gt; | teacher_ratio &lt;dbl&gt; | industry_ratio &lt;dbl&gt; | tax_ratio &lt;int&gt; | median_value &lt;dbl&gt; | c_river_variable &lt;int&gt; |\n",
       "|---|---|---|---|---|---|---|---|\n",
       "| 1 | 4.98 | 6.575 | 15.3 | 2.31 | 296 | 24.0 | 0 |\n",
       "| 2 | 9.14 | 6.421 | 17.8 | 7.07 | 242 | 21.6 | 0 |\n",
       "| 3 | 4.03 | 7.185 | 17.8 | 7.07 | 242 | 34.7 | 0 |\n",
       "| 4 | 2.94 | 6.998 | 18.7 | 2.18 | 222 | 33.4 | 0 |\n",
       "| 5 | 5.33 | 7.147 | 18.7 | 2.18 | 222 | 36.2 | 0 |\n",
       "| 6 | 5.21 | 6.430 | 18.7 | 2.18 | 222 | 28.7 | 0 |\n",
       "\n"
      ],
      "text/plain": [
       "  lower_status rooms_per_dwelling teacher_ratio industry_ratio tax_ratio\n",
       "1 4.98         6.575              15.3          2.31           296      \n",
       "2 9.14         6.421              17.8          7.07           242      \n",
       "3 4.03         7.185              17.8          7.07           242      \n",
       "4 2.94         6.998              18.7          2.18           222      \n",
       "5 5.33         7.147              18.7          2.18           222      \n",
       "6 5.21         6.430              18.7          2.18           222      \n",
       "  median_value c_river_variable\n",
       "1 24.0         0               \n",
       "2 21.6         0               \n",
       "3 34.7         0               \n",
       "4 33.4         0               \n",
       "5 36.2         0               \n",
       "6 28.7         0               "
      ]
     },
     "metadata": {},
     "output_type": "display_data"
    },
    {
     "data": {
      "text/html": [
       "<table>\n",
       "<caption>A data.frame: 6 × 15</caption>\n",
       "<thead>\n",
       "\t<tr><th></th><th scope=col>crime_index</th><th scope=col>urban_ratio</th><th scope=col>industry_ratio</th><th scope=col>c_river_variable</th><th scope=col>nox_concentration</th><th scope=col>rooms_per_dwelling</th><th scope=col>dwelling_age</th><th scope=col>dwelling_dist</th><th scope=col>highway_index</th><th scope=col>tax_ratio</th><th scope=col>teacher_ratio</th><th scope=col>racial_index</th><th scope=col>lower_status</th><th scope=col>median_value</th><th scope=col>class</th></tr>\n",
       "\t<tr><th></th><th scope=col>&lt;dbl&gt;</th><th scope=col>&lt;dbl&gt;</th><th scope=col>&lt;dbl&gt;</th><th scope=col>&lt;int&gt;</th><th scope=col>&lt;dbl&gt;</th><th scope=col>&lt;dbl&gt;</th><th scope=col>&lt;dbl&gt;</th><th scope=col>&lt;dbl&gt;</th><th scope=col>&lt;int&gt;</th><th scope=col>&lt;int&gt;</th><th scope=col>&lt;dbl&gt;</th><th scope=col>&lt;dbl&gt;</th><th scope=col>&lt;dbl&gt;</th><th scope=col>&lt;dbl&gt;</th><th scope=col>&lt;int&gt;</th></tr>\n",
       "</thead>\n",
       "<tbody>\n",
       "\t<tr><th scope=row>1</th><td>0.00632</td><td>18</td><td>2.31</td><td>0</td><td>0.538</td><td>6.575</td><td>65.2</td><td>4.0900</td><td>1</td><td>296</td><td>15.3</td><td>396.90</td><td>4.98</td><td>24.0</td><td>0</td></tr>\n",
       "\t<tr><th scope=row>2</th><td>0.02731</td><td> 0</td><td>7.07</td><td>0</td><td>0.469</td><td>6.421</td><td>78.9</td><td>4.9671</td><td>2</td><td>242</td><td>17.8</td><td>396.90</td><td>9.14</td><td>21.6</td><td>0</td></tr>\n",
       "\t<tr><th scope=row>3</th><td>0.02729</td><td> 0</td><td>7.07</td><td>0</td><td>0.469</td><td>7.185</td><td>61.1</td><td>4.9671</td><td>2</td><td>242</td><td>17.8</td><td>392.83</td><td>4.03</td><td>34.7</td><td>0</td></tr>\n",
       "\t<tr><th scope=row>4</th><td>0.03237</td><td> 0</td><td>2.18</td><td>0</td><td>0.458</td><td>6.998</td><td>45.8</td><td>6.0622</td><td>3</td><td>222</td><td>18.7</td><td>394.63</td><td>2.94</td><td>33.4</td><td>0</td></tr>\n",
       "\t<tr><th scope=row>5</th><td>0.06905</td><td> 0</td><td>2.18</td><td>0</td><td>0.458</td><td>7.147</td><td>54.2</td><td>6.0622</td><td>3</td><td>222</td><td>18.7</td><td>396.90</td><td>5.33</td><td>36.2</td><td>0</td></tr>\n",
       "\t<tr><th scope=row>6</th><td>0.02985</td><td> 0</td><td>2.18</td><td>0</td><td>0.458</td><td>6.430</td><td>58.7</td><td>6.0622</td><td>3</td><td>222</td><td>18.7</td><td>394.12</td><td>5.21</td><td>28.7</td><td>0</td></tr>\n",
       "</tbody>\n",
       "</table>\n"
      ],
      "text/latex": [
       "A data.frame: 6 × 15\n",
       "\\begin{tabular}{r|lllllllllllllll}\n",
       "  & crime\\_index & urban\\_ratio & industry\\_ratio & c\\_river\\_variable & nox\\_concentration & rooms\\_per\\_dwelling & dwelling\\_age & dwelling\\_dist & highway\\_index & tax\\_ratio & teacher\\_ratio & racial\\_index & lower\\_status & median\\_value & class\\\\\n",
       "  & <dbl> & <dbl> & <dbl> & <int> & <dbl> & <dbl> & <dbl> & <dbl> & <int> & <int> & <dbl> & <dbl> & <dbl> & <dbl> & <int>\\\\\n",
       "\\hline\n",
       "\t1 & 0.00632 & 18 & 2.31 & 0 & 0.538 & 6.575 & 65.2 & 4.0900 & 1 & 296 & 15.3 & 396.90 & 4.98 & 24.0 & 0\\\\\n",
       "\t2 & 0.02731 &  0 & 7.07 & 0 & 0.469 & 6.421 & 78.9 & 4.9671 & 2 & 242 & 17.8 & 396.90 & 9.14 & 21.6 & 0\\\\\n",
       "\t3 & 0.02729 &  0 & 7.07 & 0 & 0.469 & 7.185 & 61.1 & 4.9671 & 2 & 242 & 17.8 & 392.83 & 4.03 & 34.7 & 0\\\\\n",
       "\t4 & 0.03237 &  0 & 2.18 & 0 & 0.458 & 6.998 & 45.8 & 6.0622 & 3 & 222 & 18.7 & 394.63 & 2.94 & 33.4 & 0\\\\\n",
       "\t5 & 0.06905 &  0 & 2.18 & 0 & 0.458 & 7.147 & 54.2 & 6.0622 & 3 & 222 & 18.7 & 396.90 & 5.33 & 36.2 & 0\\\\\n",
       "\t6 & 0.02985 &  0 & 2.18 & 0 & 0.458 & 6.430 & 58.7 & 6.0622 & 3 & 222 & 18.7 & 394.12 & 5.21 & 28.7 & 0\\\\\n",
       "\\end{tabular}\n"
      ],
      "text/markdown": [
       "\n",
       "A data.frame: 6 × 15\n",
       "\n",
       "| <!--/--> | crime_index &lt;dbl&gt; | urban_ratio &lt;dbl&gt; | industry_ratio &lt;dbl&gt; | c_river_variable &lt;int&gt; | nox_concentration &lt;dbl&gt; | rooms_per_dwelling &lt;dbl&gt; | dwelling_age &lt;dbl&gt; | dwelling_dist &lt;dbl&gt; | highway_index &lt;int&gt; | tax_ratio &lt;int&gt; | teacher_ratio &lt;dbl&gt; | racial_index &lt;dbl&gt; | lower_status &lt;dbl&gt; | median_value &lt;dbl&gt; | class &lt;int&gt; |\n",
       "|---|---|---|---|---|---|---|---|---|---|---|---|---|---|---|---|\n",
       "| 1 | 0.00632 | 18 | 2.31 | 0 | 0.538 | 6.575 | 65.2 | 4.0900 | 1 | 296 | 15.3 | 396.90 | 4.98 | 24.0 | 0 |\n",
       "| 2 | 0.02731 |  0 | 7.07 | 0 | 0.469 | 6.421 | 78.9 | 4.9671 | 2 | 242 | 17.8 | 396.90 | 9.14 | 21.6 | 0 |\n",
       "| 3 | 0.02729 |  0 | 7.07 | 0 | 0.469 | 7.185 | 61.1 | 4.9671 | 2 | 242 | 17.8 | 392.83 | 4.03 | 34.7 | 0 |\n",
       "| 4 | 0.03237 |  0 | 2.18 | 0 | 0.458 | 6.998 | 45.8 | 6.0622 | 3 | 222 | 18.7 | 394.63 | 2.94 | 33.4 | 0 |\n",
       "| 5 | 0.06905 |  0 | 2.18 | 0 | 0.458 | 7.147 | 54.2 | 6.0622 | 3 | 222 | 18.7 | 396.90 | 5.33 | 36.2 | 0 |\n",
       "| 6 | 0.02985 |  0 | 2.18 | 0 | 0.458 | 6.430 | 58.7 | 6.0622 | 3 | 222 | 18.7 | 394.12 | 5.21 | 28.7 | 0 |\n",
       "\n"
      ],
      "text/plain": [
       "  crime_index urban_ratio industry_ratio c_river_variable nox_concentration\n",
       "1 0.00632     18          2.31           0                0.538            \n",
       "2 0.02731      0          7.07           0                0.469            \n",
       "3 0.02729      0          7.07           0                0.469            \n",
       "4 0.03237      0          2.18           0                0.458            \n",
       "5 0.06905      0          2.18           0                0.458            \n",
       "6 0.02985      0          2.18           0                0.458            \n",
       "  rooms_per_dwelling dwelling_age dwelling_dist highway_index tax_ratio\n",
       "1 6.575              65.2         4.0900        1             296      \n",
       "2 6.421              78.9         4.9671        2             242      \n",
       "3 7.185              61.1         4.9671        2             242      \n",
       "4 6.998              45.8         6.0622        3             222      \n",
       "5 7.147              54.2         6.0622        3             222      \n",
       "6 6.430              58.7         6.0622        3             222      \n",
       "  teacher_ratio racial_index lower_status median_value class\n",
       "1 15.3          396.90       4.98         24.0         0    \n",
       "2 17.8          396.90       9.14         21.6         0    \n",
       "3 17.8          392.83       4.03         34.7         0    \n",
       "4 18.7          394.63       2.94         33.4         0    \n",
       "5 18.7          396.90       5.33         36.2         0    \n",
       "6 18.7          394.12       5.21         28.7         0    "
      ]
     },
     "metadata": {},
     "output_type": "display_data"
    }
   ],
   "source": [
    "#Crearemos la tabla con las variables de estudio\n",
    "TablaBoston1=c(\"lower_status\",\"rooms_per_dwelling\",\"teacher_ratio\",\"industry_ratio\", \"tax_ratio\",\"median_value\",\"c_river_variable\")\n",
    "TablaBoston<-Boston[TablaBoston1]\n",
    "head(TablaBoston)\n",
    "Bostonrio1<-Boston[Boston$c_river_variable ==1,]\n",
    "Bostonsinrio1<-Boston[Boston$c_river_variable == 0,]\n",
    "TablaBostonrio<-Bostonrio1[TablaBoston1]\n",
    "TablaBostonsinrio<-Bostonsinrio1[TablaBoston1]\n",
    "head(TablaBostonrio)\n",
    "head(TablaBostonsinrio)\n",
    "head(Boston) #Comprobar que los valores concuerdan"
   ]
  },
  {
   "cell_type": "code",
   "execution_count": 79,
   "metadata": {},
   "outputs": [
    {
     "data": {
      "text/plain": [
       "Importance of components:\n",
       "                            Comp.1      Comp.2       Comp.3       Comp.4\n",
       "Standard deviation     168.5461472 9.437751252 4.7111046500 3.7006875444\n",
       "Proportion of Variance   0.9955026 0.003121345 0.0007777683 0.0004799208\n",
       "Cumulative Proportion    0.9955026 0.998623904 0.9994016722 0.9998815930\n",
       "                            Comp.5       Comp.6       Comp.7\n",
       "Standard deviation     1.755892818 4.856207e-01 2.447307e-01\n",
       "Proportion of Variance 0.000108044 8.264169e-06 2.098851e-06\n",
       "Cumulative Proportion  0.999989637 9.999979e-01 1.000000e+00"
      ]
     },
     "metadata": {},
     "output_type": "display_data"
    }
   ],
   "source": [
    "PCA<-princomp(TablaBoston, scores=T)\n",
    "summary(PCA)"
   ]
  },
  {
   "cell_type": "code",
   "execution_count": 80,
   "metadata": {},
   "outputs": [
    {
     "data": {
      "text/html": [
       "<table>\n",
       "<caption>A matrix: 6 × 7 of type dbl</caption>\n",
       "<thead>\n",
       "\t<tr><th scope=col>Comp.1</th><th scope=col>Comp.2</th><th scope=col>Comp.3</th><th scope=col>Comp.4</th><th scope=col>Comp.5</th><th scope=col>Comp.6</th><th scope=col>Comp.7</th></tr>\n",
       "</thead>\n",
       "<tbody>\n",
       "\t<tr><td>-112.6128</td><td>-2.787272</td><td>-6.8286793</td><td>-1.3432631</td><td>-2.8843252</td><td>-0.004369698</td><td>0.01924569</td></tr>\n",
       "\t<tr><td>-166.2441</td><td> 4.626948</td><td>-1.4031257</td><td>-2.0982162</td><td>-0.3006489</td><td> 0.165076665</td><td>0.04362839</td></tr>\n",
       "\t<tr><td>-166.6989</td><td>-8.861987</td><td> 2.3120090</td><td>-1.2465596</td><td> 0.9646152</td><td> 0.274911312</td><td>0.12775683</td></tr>\n",
       "\t<tr><td>-186.8078</td><td>-8.466883</td><td>-2.3260882</td><td>-0.2991111</td><td> 1.7792198</td><td> 0.089277959</td><td>0.06909032</td></tr>\n",
       "\t<tr><td>-186.8246</td><td>-9.507813</td><td>-0.3208532</td><td> 2.5666643</td><td> 2.2766638</td><td> 0.182385230</td><td>0.09608445</td></tr>\n",
       "\t<tr><td>-186.6342</td><td>-3.382007</td><td>-3.5072715</td><td>-0.2690566</td><td> 1.3565597</td><td>-0.233123442</td><td>0.04200250</td></tr>\n",
       "</tbody>\n",
       "</table>\n"
      ],
      "text/latex": [
       "A matrix: 6 × 7 of type dbl\n",
       "\\begin{tabular}{lllllll}\n",
       " Comp.1 & Comp.2 & Comp.3 & Comp.4 & Comp.5 & Comp.6 & Comp.7\\\\\n",
       "\\hline\n",
       "\t -112.6128 & -2.787272 & -6.8286793 & -1.3432631 & -2.8843252 & -0.004369698 & 0.01924569\\\\\n",
       "\t -166.2441 &  4.626948 & -1.4031257 & -2.0982162 & -0.3006489 &  0.165076665 & 0.04362839\\\\\n",
       "\t -166.6989 & -8.861987 &  2.3120090 & -1.2465596 &  0.9646152 &  0.274911312 & 0.12775683\\\\\n",
       "\t -186.8078 & -8.466883 & -2.3260882 & -0.2991111 &  1.7792198 &  0.089277959 & 0.06909032\\\\\n",
       "\t -186.8246 & -9.507813 & -0.3208532 &  2.5666643 &  2.2766638 &  0.182385230 & 0.09608445\\\\\n",
       "\t -186.6342 & -3.382007 & -3.5072715 & -0.2690566 &  1.3565597 & -0.233123442 & 0.04200250\\\\\n",
       "\\end{tabular}\n"
      ],
      "text/markdown": [
       "\n",
       "A matrix: 6 × 7 of type dbl\n",
       "\n",
       "| Comp.1 | Comp.2 | Comp.3 | Comp.4 | Comp.5 | Comp.6 | Comp.7 |\n",
       "|---|---|---|---|---|---|---|\n",
       "| -112.6128 | -2.787272 | -6.8286793 | -1.3432631 | -2.8843252 | -0.004369698 | 0.01924569 |\n",
       "| -166.2441 |  4.626948 | -1.4031257 | -2.0982162 | -0.3006489 |  0.165076665 | 0.04362839 |\n",
       "| -166.6989 | -8.861987 |  2.3120090 | -1.2465596 |  0.9646152 |  0.274911312 | 0.12775683 |\n",
       "| -186.8078 | -8.466883 | -2.3260882 | -0.2991111 |  1.7792198 |  0.089277959 | 0.06909032 |\n",
       "| -186.8246 | -9.507813 | -0.3208532 |  2.5666643 |  2.2766638 |  0.182385230 | 0.09608445 |\n",
       "| -186.6342 | -3.382007 | -3.5072715 | -0.2690566 |  1.3565597 | -0.233123442 | 0.04200250 |\n",
       "\n"
      ],
      "text/plain": [
       "     Comp.1    Comp.2    Comp.3     Comp.4     Comp.5     Comp.6      \n",
       "[1,] -112.6128 -2.787272 -6.8286793 -1.3432631 -2.8843252 -0.004369698\n",
       "[2,] -166.2441  4.626948 -1.4031257 -2.0982162 -0.3006489  0.165076665\n",
       "[3,] -166.6989 -8.861987  2.3120090 -1.2465596  0.9646152  0.274911312\n",
       "[4,] -186.8078 -8.466883 -2.3260882 -0.2991111  1.7792198  0.089277959\n",
       "[5,] -186.8246 -9.507813 -0.3208532  2.5666643  2.2766638  0.182385230\n",
       "[6,] -186.6342 -3.382007 -3.5072715 -0.2690566  1.3565597 -0.233123442\n",
       "     Comp.7    \n",
       "[1,] 0.01924569\n",
       "[2,] 0.04362839\n",
       "[3,] 0.12775683\n",
       "[4,] 0.06909032\n",
       "[5,] 0.09608445\n",
       "[6,] 0.04200250"
      ]
     },
     "metadata": {},
     "output_type": "display_data"
    }
   ],
   "source": [
    "head(PCA$scores)"
   ]
  },
  {
   "cell_type": "code",
   "execution_count": 81,
   "metadata": {},
   "outputs": [
    {
     "data": {
      "image/png": "[encoded data removed]",
      "text/plain": [
       "Plot with title \"PCA\""
      ]
     },
     "metadata": {
      "image/png": {
       "height": 420,
       "width": 420
      }
     },
     "output_type": "display_data"
    }
   ],
   "source": [
    "plot(PCA)"
   ]
  },
  {
   "cell_type": "markdown",
   "metadata": {},
   "source": [
    "Aquí podemos observar como la primera componente es la que agrupa la mayor parte de la varianza del dataset, también es debido a que es la que tiene los valores de scores más elevados."
   ]
  },
  {
   "cell_type": "code",
   "execution_count": 82,
   "metadata": {},
   "outputs": [
    {
     "data": {
      "text/plain": [
       "\n",
       "Loadings:\n",
       "                   Comp.1 Comp.2 Comp.3 Comp.4 Comp.5 Comp.6 Comp.7\n",
       "lower_status               0.529  0.348  0.771                     \n",
       "rooms_per_dwelling                                     0.999       \n",
       "teacher_ratio                           -0.104  0.990              \n",
       "industry_ratio             0.196  0.836 -0.511                     \n",
       "tax_ratio           0.999                                          \n",
       "median_value              -0.821  0.419  0.365  0.123              \n",
       "c_river_variable                                             -1.000\n",
       "\n",
       "               Comp.1 Comp.2 Comp.3 Comp.4 Comp.5 Comp.6 Comp.7\n",
       "SS loadings     1.000  1.000  1.000  1.000  1.000  1.000  1.000\n",
       "Proportion Var  0.143  0.143  0.143  0.143  0.143  0.143  0.143\n",
       "Cumulative Var  0.143  0.286  0.429  0.571  0.714  0.857  1.000"
      ]
     },
     "metadata": {},
     "output_type": "display_data"
    }
   ],
   "source": [
    "PCA$loadings"
   ]
  },
  {
   "cell_type": "markdown",
   "metadata": {},
   "source": [
    "Las cargas (loadings) son como los coeficientes de la combinación lineal de las variables iniciales a partir de las cuales se construyen los componentes principales. Nos están diciendo lo fuerte que es la relación de cada componente con la variable. En este caso observamos como el componente 1 solo tiene relación o se correlaciona con la variable “tax_ratio”, por otra parte, podemos observar cómo “median_value” (la variable que queremos estudiar) solo tiene relación con los componentes 2, 3, 4 y 5. En el caso del componente 5 podemos decir que tiene poca relación ya que es un valor bastante bajo.\n",
    "\n",
    "Debido a los resultados obtenidos en la PCA las variables escogidas para realizar el modelo son \"median_value\",\"industry_ratio\",\"lower_status\" y \"teacher_ratio\", las otras variables (\"tax_ratio\", \"rooms_per_dwelling\" y \"c_river_variable\") las descartamos porque no aportan nada a la \"median_value\" según el PCA realizado."
   ]
  },
  {
   "cell_type": "markdown",
   "metadata": {},
   "source": [
    "#### Comparación PCA rio y no rio***"
   ]
  },
  {
   "cell_type": "code",
   "execution_count": 83,
   "metadata": {},
   "outputs": [
    {
     "data": {
      "text/plain": [
       "Importance of components:\n",
       "                            Comp.1       Comp.2       Comp.3       Comp.4\n",
       "Standard deviation     162.7001938 12.842225975 4.0641640511 3.8603653984\n",
       "Proportion of Variance   0.9925701  0.006183946 0.0006193377 0.0005587813\n",
       "Cumulative Proportion    0.9925701  0.998754089 0.9993734270 0.9999322084\n",
       "                             Comp.5       Comp.6 Comp.7\n",
       "Standard deviation     1.232256e+00 5.380658e-01      0\n",
       "Proportion of Variance 5.693599e-05 1.085565e-05      0\n",
       "Cumulative Proportion  9.999891e-01 1.000000e+00      1"
      ]
     },
     "metadata": {},
     "output_type": "display_data"
    },
    {
     "data": {
      "text/plain": [
       "\n",
       "Loadings:\n",
       "                   Comp.1 Comp.2 Comp.3 Comp.4 Comp.5 Comp.6 Comp.7\n",
       "lower_status               0.434  0.315  0.836                     \n",
       "rooms_per_dwelling                                     0.992       \n",
       "teacher_ratio                    -0.261  0.176 -0.945              \n",
       "industry_ratio                    0.879 -0.353 -0.303              \n",
       "tax_ratio          -1.000                                          \n",
       "median_value              -0.895  0.241  0.376                     \n",
       "c_river_variable                                              1.000\n",
       "\n",
       "               Comp.1 Comp.2 Comp.3 Comp.4 Comp.5 Comp.6 Comp.7\n",
       "SS loadings     1.000  1.000  1.000  1.000  1.000  1.000  1.000\n",
       "Proportion Var  0.143  0.143  0.143  0.143  0.143  0.143  0.143\n",
       "Cumulative Var  0.143  0.286  0.429  0.571  0.714  0.857  1.000"
      ]
     },
     "metadata": {},
     "output_type": "display_data"
    }
   ],
   "source": [
    "PCA_rio<-princomp(TablaBostonrio, scores=T)\n",
    "summary(PCA_rio)\n",
    "PCA_rio$loadings"
   ]
  },
  {
   "cell_type": "code",
   "execution_count": 84,
   "metadata": {},
   "outputs": [
    {
     "data": {
      "text/plain": [
       "Importance of components:\n",
       "                            Comp.1      Comp.2       Comp.3       Comp.4\n",
       "Standard deviation     168.8669354 8.895003816 4.5903573823 3.6829837422\n",
       "Proportion of Variance   0.9959155 0.002763284 0.0007359126 0.0004737322\n",
       "Cumulative Proportion    0.9959155 0.998678816 0.9994147286 0.9998884607\n",
       "                             Comp.5       Comp.6 Comp.7\n",
       "Standard deviation     1.7233051251 4.732045e-01      0\n",
       "Proportion of Variance 0.0001037188 7.820438e-06      0\n",
       "Cumulative Proportion  0.9999921796 1.000000e+00      1"
      ]
     },
     "metadata": {},
     "output_type": "display_data"
    },
    {
     "data": {
      "text/plain": [
       "\n",
       "Loadings:\n",
       "                   Comp.1 Comp.2 Comp.3 Comp.4 Comp.5 Comp.6 Comp.7\n",
       "lower_status               0.546  0.304  0.777                     \n",
       "rooms_per_dwelling                                     0.999       \n",
       "teacher_ratio                           -0.130  0.987              \n",
       "industry_ratio             0.240  0.835 -0.493                     \n",
       "tax_ratio           0.999                                          \n",
       "median_value              -0.796  0.455  0.370  0.139              \n",
       "c_river_variable                                              1.000\n",
       "\n",
       "               Comp.1 Comp.2 Comp.3 Comp.4 Comp.5 Comp.6 Comp.7\n",
       "SS loadings     1.000  1.000  1.000  1.000  1.000  1.000  1.000\n",
       "Proportion Var  0.143  0.143  0.143  0.143  0.143  0.143  0.143\n",
       "Cumulative Var  0.143  0.286  0.429  0.571  0.714  0.857  1.000"
      ]
     },
     "metadata": {},
     "output_type": "display_data"
    }
   ],
   "source": [
    "PCA_norio<-princomp(TablaBostonsinrio, scores=T)\n",
    "summary(PCA_norio)\n",
    "PCA_norio$loadings"
   ]
  },
  {
   "cell_type": "markdown",
   "metadata": {},
   "source": [
    "Podemos observar que los resultados al realizar PCA son diferentes de si hay rio colindante o no y divergen entre sí y también son diferentes de la PCA realizada. Más adelante, después de realizar el modelo de regresión intentaré realizar un estudio para prever si la vivienda tiene rio colindante o no."
   ]
  },
  {
   "cell_type": "markdown",
   "metadata": {},
   "source": [
    "# Estudio de regresión lineal del median_value"
   ]
  },
  {
   "cell_type": "markdown",
   "metadata": {},
   "source": [
    "Debido a los resultados obtenidos en el PCA como bien he descrito antes, las variables escogidas seran  \"median_value\",\"industry_ratio\",\"lower_status\" y \"teacher_ratio\", las otras variables (\"tax_ratio\", \"rooms_per_dwelling\" y \"c_river_variable\") las descartamos porque no aportan nada a la \"median_value\" según el PCA realizado. \n",
    "\n",
    "Realizaremos varios modelos para ver cuales se ajustan mejor. Primeramente, realizaremos el modelo con todas las variables que influyen en el \"median_value\" y seguidamente iremos probando con menos variables. Quitaremos las que menos influyen (las que menos correlación tienen con el \"median_value\" según el PCA realizado) y veremos si mejoran el modelo o aportan más ruido."
   ]
  },
  {
   "cell_type": "code",
   "execution_count": 148,
   "metadata": {},
   "outputs": [],
   "source": [
    "#Variables que inflyen segun PCA\n",
    "Tabla4var<- c(\"median_value\",\"industry_ratio\",\"lower_status\",\"teacher_ratio\")\n",
    "Tabla3var<-c(\"median_value\",\"industry_ratio\",\"lower_status\")\n",
    "Tabla2var<-c(\"median_value\",\"lower_status\")"
   ]
  },
  {
   "cell_type": "code",
   "execution_count": 149,
   "metadata": {},
   "outputs": [
    {
     "data": {
      "text/plain": [
       "\n",
       "Call:\n",
       "lm(formula = TablaBoston$median_value ~ ., data = TablaBoston[Tabla4var])\n",
       "\n",
       "Residuals:\n",
       "     Min       1Q   Median       3Q      Max \n",
       "-12.1910  -3.6085  -0.8411   1.8905  26.8350 \n",
       "\n",
       "Coefficients:\n",
       "                Estimate Std. Error t value Pr(>|t|)    \n",
       "(Intercept)    54.101955   2.263313  23.904   <2e-16 ***\n",
       "industry_ratio  0.009079   0.048180   0.188    0.851    \n",
       "lower_status   -0.824849   0.046098 -17.893   <2e-16 ***\n",
       "teacher_ratio  -1.150516   0.131228  -8.767   <2e-16 ***\n",
       "---\n",
       "Signif. codes:  0 '***' 0.001 '**' 0.01 '*' 0.05 '.' 0.1 ' ' 1\n",
       "\n",
       "Residual standard error: 5.785 on 502 degrees of freedom\n",
       "Multiple R-squared:  0.6067,\tAdjusted R-squared:  0.6043 \n",
       "F-statistic: 258.1 on 3 and 502 DF,  p-value: < 2.2e-16\n"
      ]
     },
     "metadata": {},
     "output_type": "display_data"
    }
   ],
   "source": [
    "modelo_1<-lm(TablaBoston$median_value ~ . , data=TablaBoston[Tabla4var])\n",
    "summary(modelo_1)"
   ]
  },
  {
   "cell_type": "code",
   "execution_count": 150,
   "metadata": {},
   "outputs": [
    {
     "data": {
      "text/plain": [
       "\n",
       "Call:\n",
       "lm(formula = TablaBoston$median_value ~ ., data = TablaBoston[Tabla3var])\n",
       "\n",
       "Residuals:\n",
       "    Min      1Q  Median      3Q     Max \n",
       "-14.879  -3.900  -1.284   1.906  25.210 \n",
       "\n",
       "Coefficients:\n",
       "               Estimate Std. Error t value Pr(>|t|)    \n",
       "(Intercept)    34.86087    0.59358  58.729   <2e-16 ***\n",
       "industry_ratio -0.08086    0.05050  -1.601     0.11    \n",
       "lower_status   -0.90315    0.04852 -18.616   <2e-16 ***\n",
       "---\n",
       "Signif. codes:  0 '***' 0.001 '**' 0.01 '*' 0.05 '.' 0.1 ' ' 1\n",
       "\n",
       "Residual standard error: 6.206 on 503 degrees of freedom\n",
       "Multiple R-squared:  0.5465,\tAdjusted R-squared:  0.5447 \n",
       "F-statistic:   303 on 2 and 503 DF,  p-value: < 2.2e-16\n"
      ]
     },
     "metadata": {},
     "output_type": "display_data"
    }
   ],
   "source": [
    "modelo_2<-lm(TablaBoston$median_value ~ . , data=TablaBoston[Tabla3var])\n",
    "summary(modelo_2)"
   ]
  },
  {
   "cell_type": "code",
   "execution_count": 151,
   "metadata": {},
   "outputs": [
    {
     "data": {
      "text/plain": [
       "\n",
       "Call:\n",
       "lm(formula = TablaBoston$median_value ~ ., data = TablaBoston[Tabla2var])\n",
       "\n",
       "Residuals:\n",
       "    Min      1Q  Median      3Q     Max \n",
       "-15.168  -3.990  -1.318   2.034  24.500 \n",
       "\n",
       "Coefficients:\n",
       "             Estimate Std. Error t value Pr(>|t|)    \n",
       "(Intercept)  34.55384    0.56263   61.41   <2e-16 ***\n",
       "lower_status -0.95005    0.03873  -24.53   <2e-16 ***\n",
       "---\n",
       "Signif. codes:  0 '***' 0.001 '**' 0.01 '*' 0.05 '.' 0.1 ' ' 1\n",
       "\n",
       "Residual standard error: 6.216 on 504 degrees of freedom\n",
       "Multiple R-squared:  0.5441,\tAdjusted R-squared:  0.5432 \n",
       "F-statistic: 601.6 on 1 and 504 DF,  p-value: < 2.2e-16\n"
      ]
     },
     "metadata": {},
     "output_type": "display_data"
    }
   ],
   "source": [
    "modelo_3<-lm(TablaBoston$median_value ~ . , data=TablaBoston[Tabla2var])\n",
    "summary(modelo_3)"
   ]
  },
  {
   "cell_type": "markdown",
   "metadata": {},
   "source": [
    "Fijándonos en el R cuadrado de los 3 modelos realizados comprobamos que el que mejor resultado nos ha proporcionado es el primero (el que emplea más variables) con un R cuadrado de 0.61 es decir una precisión del 61%. Cuanto más se acerca al 1 el R cuadrado mejor es el modelo realizado. Los otros dos modelos a medida que hemos quitado variables la precisión a disminuido. Modelo 2 tiene un R cuadrado de 0.55 y el Modelo 3 un R cuadrado de 0.54.\n",
    "\n",
    "Por lo tanto, si lo que queremos es tener una herramienta que pueda predecir con mucha exactitud el valor medio de la vivienda de Boston tal vez, un R cuadrado de 0.61 no es suficiente, ya que predecir el 61% de los casos no es muy elevado si quieres tener exactitud en los datos predichos. Ahora bien, si lo que queremos es tener una herramienta para hacer aproximaciones y hacernos una idea de los precios medios de las viviendas con una R cuadrado de 0.61 puede ser suficiente.\n",
    "\n",
    "En mi humilde opinión, creo que un R cuadrado de 0.61 no es suficiente para darle validez al modelo. Yo creo, que debería rondar el R cuadrado 0.75, entonces sí que estaríamos hablando de un modelo robusto y valido de predicción para los precios medios de la vivienda en Boston. \n",
    "\n",
    "Cabe destacar que, gracias al estudio realizado, observas que lo que más modifica y influye en el precio sería el \"lower_status\", \"teacher_ratio\" y \"industry_ratio\" y apartir de estos indicadores puedes hacerte una idea de si la vivienda será más o menos cara, aunque no podrás saber con exactitud el precio medio.\n",
    "\n",
    "También como último, aportar que la variable de rio colindante a mi parecer es significativa e intentaré demostrarlo de alguna forma valida."
   ]
  },
  {
   "cell_type": "markdown",
   "metadata": {},
   "source": [
    "# Discusión de si influye si hay rio o no"
   ]
  },
  {
   "cell_type": "code",
   "execution_count": 122,
   "metadata": {},
   "outputs": [
    {
     "data": {
      "text/html": [
       "<table>\n",
       "<caption>A data.frame: 6 × 7</caption>\n",
       "<thead>\n",
       "\t<tr><th></th><th scope=col>lower_status</th><th scope=col>rooms_per_dwelling</th><th scope=col>teacher_ratio</th><th scope=col>industry_ratio</th><th scope=col>tax_ratio</th><th scope=col>median_value</th><th scope=col>c_river_variable</th></tr>\n",
       "\t<tr><th></th><th scope=col>&lt;dbl&gt;</th><th scope=col>&lt;dbl&gt;</th><th scope=col>&lt;dbl&gt;</th><th scope=col>&lt;dbl&gt;</th><th scope=col>&lt;int&gt;</th><th scope=col>&lt;dbl&gt;</th><th scope=col>&lt;int&gt;</th></tr>\n",
       "</thead>\n",
       "<tbody>\n",
       "\t<tr><th scope=row>1</th><td>4.98</td><td>6.575</td><td>15.3</td><td>2.31</td><td>296</td><td>24.0</td><td>0</td></tr>\n",
       "\t<tr><th scope=row>2</th><td>9.14</td><td>6.421</td><td>17.8</td><td>7.07</td><td>242</td><td>21.6</td><td>0</td></tr>\n",
       "\t<tr><th scope=row>3</th><td>4.03</td><td>7.185</td><td>17.8</td><td>7.07</td><td>242</td><td>34.7</td><td>0</td></tr>\n",
       "\t<tr><th scope=row>4</th><td>2.94</td><td>6.998</td><td>18.7</td><td>2.18</td><td>222</td><td>33.4</td><td>0</td></tr>\n",
       "\t<tr><th scope=row>5</th><td>5.33</td><td>7.147</td><td>18.7</td><td>2.18</td><td>222</td><td>36.2</td><td>0</td></tr>\n",
       "\t<tr><th scope=row>6</th><td>5.21</td><td>6.430</td><td>18.7</td><td>2.18</td><td>222</td><td>28.7</td><td>0</td></tr>\n",
       "</tbody>\n",
       "</table>\n"
      ],
      "text/latex": [
       "A data.frame: 6 × 7\n",
       "\\begin{tabular}{r|lllllll}\n",
       "  & lower\\_status & rooms\\_per\\_dwelling & teacher\\_ratio & industry\\_ratio & tax\\_ratio & median\\_value & c\\_river\\_variable\\\\\n",
       "  & <dbl> & <dbl> & <dbl> & <dbl> & <int> & <dbl> & <int>\\\\\n",
       "\\hline\n",
       "\t1 & 4.98 & 6.575 & 15.3 & 2.31 & 296 & 24.0 & 0\\\\\n",
       "\t2 & 9.14 & 6.421 & 17.8 & 7.07 & 242 & 21.6 & 0\\\\\n",
       "\t3 & 4.03 & 7.185 & 17.8 & 7.07 & 242 & 34.7 & 0\\\\\n",
       "\t4 & 2.94 & 6.998 & 18.7 & 2.18 & 222 & 33.4 & 0\\\\\n",
       "\t5 & 5.33 & 7.147 & 18.7 & 2.18 & 222 & 36.2 & 0\\\\\n",
       "\t6 & 5.21 & 6.430 & 18.7 & 2.18 & 222 & 28.7 & 0\\\\\n",
       "\\end{tabular}\n"
      ],
      "text/markdown": [
       "\n",
       "A data.frame: 6 × 7\n",
       "\n",
       "| <!--/--> | lower_status &lt;dbl&gt; | rooms_per_dwelling &lt;dbl&gt; | teacher_ratio &lt;dbl&gt; | industry_ratio &lt;dbl&gt; | tax_ratio &lt;int&gt; | median_value &lt;dbl&gt; | c_river_variable &lt;int&gt; |\n",
       "|---|---|---|---|---|---|---|---|\n",
       "| 1 | 4.98 | 6.575 | 15.3 | 2.31 | 296 | 24.0 | 0 |\n",
       "| 2 | 9.14 | 6.421 | 17.8 | 7.07 | 242 | 21.6 | 0 |\n",
       "| 3 | 4.03 | 7.185 | 17.8 | 7.07 | 242 | 34.7 | 0 |\n",
       "| 4 | 2.94 | 6.998 | 18.7 | 2.18 | 222 | 33.4 | 0 |\n",
       "| 5 | 5.33 | 7.147 | 18.7 | 2.18 | 222 | 36.2 | 0 |\n",
       "| 6 | 5.21 | 6.430 | 18.7 | 2.18 | 222 | 28.7 | 0 |\n",
       "\n"
      ],
      "text/plain": [
       "  lower_status rooms_per_dwelling teacher_ratio industry_ratio tax_ratio\n",
       "1 4.98         6.575              15.3          2.31           296      \n",
       "2 9.14         6.421              17.8          7.07           242      \n",
       "3 4.03         7.185              17.8          7.07           242      \n",
       "4 2.94         6.998              18.7          2.18           222      \n",
       "5 5.33         7.147              18.7          2.18           222      \n",
       "6 5.21         6.430              18.7          2.18           222      \n",
       "  median_value c_river_variable\n",
       "1 24.0         0               \n",
       "2 21.6         0               \n",
       "3 34.7         0               \n",
       "4 33.4         0               \n",
       "5 36.2         0               \n",
       "6 28.7         0               "
      ]
     },
     "metadata": {},
     "output_type": "display_data"
    },
    {
     "data": {
      "text/html": [
       "<table>\n",
       "<caption>A data.frame: 6 × 5</caption>\n",
       "<thead>\n",
       "\t<tr><th></th><th scope=col>median_value</th><th scope=col>industry_ratio</th><th scope=col>lower_status</th><th scope=col>teacher_ratio</th><th scope=col>c_river_variable</th></tr>\n",
       "\t<tr><th></th><th scope=col>&lt;dbl&gt;</th><th scope=col>&lt;dbl&gt;</th><th scope=col>&lt;dbl&gt;</th><th scope=col>&lt;dbl&gt;</th><th scope=col>&lt;int&gt;</th></tr>\n",
       "</thead>\n",
       "<tbody>\n",
       "\t<tr><th scope=row>1</th><td>24.0</td><td>2.31</td><td>4.98</td><td>15.3</td><td>0</td></tr>\n",
       "\t<tr><th scope=row>2</th><td>21.6</td><td>7.07</td><td>9.14</td><td>17.8</td><td>0</td></tr>\n",
       "\t<tr><th scope=row>3</th><td>34.7</td><td>7.07</td><td>4.03</td><td>17.8</td><td>0</td></tr>\n",
       "\t<tr><th scope=row>4</th><td>33.4</td><td>2.18</td><td>2.94</td><td>18.7</td><td>0</td></tr>\n",
       "\t<tr><th scope=row>5</th><td>36.2</td><td>2.18</td><td>5.33</td><td>18.7</td><td>0</td></tr>\n",
       "\t<tr><th scope=row>6</th><td>28.7</td><td>2.18</td><td>5.21</td><td>18.7</td><td>0</td></tr>\n",
       "</tbody>\n",
       "</table>\n"
      ],
      "text/latex": [
       "A data.frame: 6 × 5\n",
       "\\begin{tabular}{r|lllll}\n",
       "  & median\\_value & industry\\_ratio & lower\\_status & teacher\\_ratio & c\\_river\\_variable\\\\\n",
       "  & <dbl> & <dbl> & <dbl> & <dbl> & <int>\\\\\n",
       "\\hline\n",
       "\t1 & 24.0 & 2.31 & 4.98 & 15.3 & 0\\\\\n",
       "\t2 & 21.6 & 7.07 & 9.14 & 17.8 & 0\\\\\n",
       "\t3 & 34.7 & 7.07 & 4.03 & 17.8 & 0\\\\\n",
       "\t4 & 33.4 & 2.18 & 2.94 & 18.7 & 0\\\\\n",
       "\t5 & 36.2 & 2.18 & 5.33 & 18.7 & 0\\\\\n",
       "\t6 & 28.7 & 2.18 & 5.21 & 18.7 & 0\\\\\n",
       "\\end{tabular}\n"
      ],
      "text/markdown": [
       "\n",
       "A data.frame: 6 × 5\n",
       "\n",
       "| <!--/--> | median_value &lt;dbl&gt; | industry_ratio &lt;dbl&gt; | lower_status &lt;dbl&gt; | teacher_ratio &lt;dbl&gt; | c_river_variable &lt;int&gt; |\n",
       "|---|---|---|---|---|---|\n",
       "| 1 | 24.0 | 2.31 | 4.98 | 15.3 | 0 |\n",
       "| 2 | 21.6 | 7.07 | 9.14 | 17.8 | 0 |\n",
       "| 3 | 34.7 | 7.07 | 4.03 | 17.8 | 0 |\n",
       "| 4 | 33.4 | 2.18 | 2.94 | 18.7 | 0 |\n",
       "| 5 | 36.2 | 2.18 | 5.33 | 18.7 | 0 |\n",
       "| 6 | 28.7 | 2.18 | 5.21 | 18.7 | 0 |\n",
       "\n"
      ],
      "text/plain": [
       "  median_value industry_ratio lower_status teacher_ratio c_river_variable\n",
       "1 24.0         2.31           4.98         15.3          0               \n",
       "2 21.6         7.07           9.14         17.8          0               \n",
       "3 34.7         7.07           4.03         17.8          0               \n",
       "4 33.4         2.18           2.94         18.7          0               \n",
       "5 36.2         2.18           5.33         18.7          0               \n",
       "6 28.7         2.18           5.21         18.7          0               "
      ]
     },
     "metadata": {},
     "output_type": "display_data"
    },
    {
     "data": {
      "text/plain": [
       "\n",
       "Call:\n",
       "lm(formula = BostonPCA$c_river_variable ~ ., data = BostonPCA)\n",
       "\n",
       "Residuals:\n",
       "     Min       1Q   Median       3Q      Max \n",
       "-0.34847 -0.09046 -0.04732 -0.01619  0.97248 \n",
       "\n",
       "Coefficients:\n",
       "                Estimate Std. Error t value Pr(>|t|)    \n",
       "(Intercept)    -0.036928   0.141017  -0.262 0.793530    \n",
       "median_value    0.007540   0.001902   3.965 8.41e-05 ***\n",
       "industry_ratio  0.006892   0.002053   3.357 0.000847 ***\n",
       "lower_status    0.002289   0.002514   0.911 0.362932    \n",
       "teacher_ratio  -0.009185   0.006004  -1.530 0.126700    \n",
       "---\n",
       "Signif. codes:  0 '***' 0.001 '**' 0.01 '*' 0.05 '.' 0.1 ' ' 1\n",
       "\n",
       "Residual standard error: 0.2465 on 501 degrees of freedom\n",
       "Multiple R-squared:  0.06561,\tAdjusted R-squared:  0.05815 \n",
       "F-statistic: 8.795 on 4 and 501 DF,  p-value: 7.224e-07\n"
      ]
     },
     "metadata": {},
     "output_type": "display_data"
    }
   ],
   "source": [
    "head(TablaBoston)\n",
    "BostonPCA=c(\"median_value\",\"industry_ratio\",\"lower_status\",\"teacher_ratio\",\"c_river_variable\")\n",
    "BostonPCA<-TablaBoston[BostonPCA]\n",
    "head(BostonPCA)\n",
    "modelo<-lm(BostonPCA$c_river_variable ~ . , data=BostonPCA)\n",
    "summary (modelo)"
   ]
  },
  {
   "cell_type": "code",
   "execution_count": 123,
   "metadata": {},
   "outputs": [
    {
     "data": {
      "text/html": [
       "<style>\n",
       ".dl-inline {width: auto; margin:0; padding: 0}\n",
       ".dl-inline>dt, .dl-inline>dd {float: none; width: auto; display: inline-block}\n",
       ".dl-inline>dt::after {content: \":\\0020\"; padding-right: .5ex}\n",
       ".dl-inline>dt:not(:first-of-type) {padding-left: .5ex}\n",
       "</style><dl class=dl-inline><dt>1</dt><dd>0.0308186072968834</dd><dt>2</dt><dd>0.0320878161127521</dd><dt>3</dt><dd>0.119165752043576</dd><dt>4</dt><dd>0.0648996477872786</dd><dt>5</dt><dd>0.0914825636883937</dd><dt>6</dt><dd>0.0346574237012387</dd></dl>\n"
      ],
      "text/latex": [
       "\\begin{description*}\n",
       "\\item[1] 0.0308186072968834\n",
       "\\item[2] 0.0320878161127521\n",
       "\\item[3] 0.119165752043576\n",
       "\\item[4] 0.0648996477872786\n",
       "\\item[5] 0.0914825636883937\n",
       "\\item[6] 0.0346574237012387\n",
       "\\end{description*}\n"
      ],
      "text/markdown": [
       "1\n",
       ":   0.03081860729688342\n",
       ":   0.03208781611275213\n",
       ":   0.1191657520435764\n",
       ":   0.06489964778727865\n",
       ":   0.09148256368839376\n",
       ":   0.0346574237012387\n",
       "\n"
      ],
      "text/plain": [
       "         1          2          3          4          5          6 \n",
       "0.03081861 0.03208782 0.11916575 0.06489965 0.09148256 0.03465742 "
      ]
     },
     "metadata": {},
     "output_type": "display_data"
    },
    {
     "name": "stderr",
     "output_type": "stream",
     "text": [
      "Warning message in pred$predict <- round(pred, 506):\n",
      "\"Realizando coercion de LHD a una lista\"\n"
     ]
    },
    {
     "data": {
      "text/html": [
       "<style>\n",
       ".dl-inline {width: auto; margin:0; padding: 0}\n",
       ".dl-inline>dt, .dl-inline>dd {float: none; width: auto; display: inline-block}\n",
       ".dl-inline>dt::after {content: \":\\0020\"; padding-right: .5ex}\n",
       ".dl-inline>dt:not(:first-of-type) {padding-left: .5ex}\n",
       "</style><dl class=dl-inline><dt>1</dt><dd>0.0308186072968834</dd><dt>2</dt><dd>0.0320878161127521</dd><dt>3</dt><dd>0.119165752043576</dd><dt>4</dt><dd>0.0648996477872786</dd><dt>5</dt><dd>0.0914825636883937</dd><dt>6</dt><dd>0.0346574237012387</dd></dl>\n"
      ],
      "text/latex": [
       "\\begin{description*}\n",
       "\\item[1] 0.0308186072968834\n",
       "\\item[2] 0.0320878161127521\n",
       "\\item[3] 0.119165752043576\n",
       "\\item[4] 0.0648996477872786\n",
       "\\item[5] 0.0914825636883937\n",
       "\\item[6] 0.0346574237012387\n",
       "\\end{description*}\n"
      ],
      "text/markdown": [
       "1\n",
       ":   0.03081860729688342\n",
       ":   0.03208781611275213\n",
       ":   0.1191657520435764\n",
       ":   0.06489964778727865\n",
       ":   0.09148256368839376\n",
       ":   0.0346574237012387\n",
       "\n"
      ],
      "text/plain": [
       "         1          2          3          4          5          6 \n",
       "0.03081861 0.03208782 0.11916575 0.06489965 0.09148256 0.03465742 "
      ]
     },
     "metadata": {},
     "output_type": "display_data"
    }
   ],
   "source": [
    "pred<- predict.lm(modelo,BostonPCA,type=\"response\")\n",
    "head(pred)\n",
    "\n",
    "pred$predict<-round(pred,506)\n",
    "head(pred$predict)"
   ]
  },
  {
   "cell_type": "code",
   "execution_count": 124,
   "metadata": {},
   "outputs": [
    {
     "name": "stdout",
     "output_type": "stream",
     "text": [
      "                       Real\n",
      "Asignado                0 1\n",
      "  -0.0701847222330833   1 0\n",
      "  -0.0577653317335174   1 0\n",
      "  -0.039832373319572    1 0\n",
      "  -0.0352945373233354   1 0\n",
      "  -0.0345378590584666   1 0\n",
      "  -0.0329392772228162   1 0\n",
      "  -0.0311190151551962   1 0\n",
      "  -0.0288274166051369   1 0\n",
      "  -0.0267846388620754   1 0\n",
      "  -0.0262269897342477   1 0\n",
      "  -0.0257370104429578   1 0\n",
      "  -0.0253681137865673   1 0\n",
      "  -0.0244367955628327   1 0\n",
      "  -0.0233007485995544   1 0\n",
      "  -0.0230575777682456   1 0\n",
      "  -0.0230377592769969   1 0\n",
      "  -0.0229073047253846   1 0\n",
      "  -0.0225704189466748   1 0\n",
      "  -0.0211447206762104   1 0\n",
      "  -0.0206642757465489   1 0\n",
      "  -0.0188809993908783   1 0\n",
      "  -0.0187816043477498   1 0\n",
      "  -0.0172373492526932   1 0\n",
      "  -0.0162582135246326   1 0\n",
      "  -0.0151707703769359   1 0\n",
      "  -0.0146521749604842   1 0\n",
      "  -0.0136318527127153   1 0\n",
      "  -0.013003093502262    1 0\n",
      "  -0.0118961108413226   1 0\n",
      "  -0.011422080436198    1 0\n",
      "  -0.0108179369495685   1 0\n",
      "  -0.0107600947257421   1 0\n",
      "  -0.0106682986395515   1 0\n",
      "  -0.0106616212533989   1 0\n",
      "  -0.00927058757772489  1 0\n",
      "  -0.00818658201183192  1 0\n",
      "  -0.00754388419641755  1 0\n",
      "  -0.0075347220492597   1 0\n",
      "  -0.00742235009798217  1 0\n",
      "  -0.00630992432049049  1 0\n",
      "  -0.00568098427150249  1 0\n",
      "  -0.00532693400439271  1 0\n",
      "  -0.00428232571744569  1 0\n",
      "  -0.00148432709585386  1 0\n",
      "  -0.000992988228175451 1 0\n",
      "  0.000268091558697198  1 0\n",
      "  0.000271370630655521  1 0\n",
      "  0.000272659860833691  1 0\n",
      "  0.000911065204350081  1 0\n",
      "  0.00307700555905638   1 0\n",
      "  0.00471017822023337   1 0\n",
      "  0.00478491002757622   1 0\n",
      "  0.00496971005249686   1 0\n",
      "  0.00534658877781863   1 0\n",
      "  0.00535031953163553   1 0\n",
      "  0.00572477405509705   1 0\n",
      "  0.00577705178627541   1 0\n",
      "  0.00582537168967406   1 0\n",
      "  0.00620724085052149   1 0\n",
      "  0.00638323970985377   1 0\n",
      "  0.00699416250895055   1 0\n",
      "  0.00747512321069055   1 0\n",
      "  0.00772717666913431   1 0\n",
      "  0.00813191184221773   1 0\n",
      "  0.00871384243465917   1 0\n",
      "  0.00886429896342888   1 0\n",
      "  0.00901272913889584   1 0\n",
      "  0.00976696058009088   1 0\n",
      "  0.00987448241451169   1 0\n",
      "  0.00999705078949545   1 0\n",
      "  0.0101121147531778    1 0\n",
      "  0.0107669575106002    1 0\n",
      "  0.0107982914779003    1 0\n",
      "  0.0119049746986731    1 0\n",
      "  0.0119634791585666    1 0\n",
      "  0.0119670665651128    1 0\n",
      "  0.0120461826360922    1 0\n",
      "  0.0126224280120169    1 0\n",
      "  0.0129733406067427    1 0\n",
      "  0.0136109350842334    1 0\n",
      "  0.0136475122167062    1 0\n",
      "  0.0138068360075445    1 0\n",
      "  0.0144781309054024    1 0\n",
      "  0.0148269660805428    1 0\n",
      "  0.0150990513894479    1 0\n",
      "  0.0151736607039619    1 0\n",
      "  0.0155196322579624    1 0\n",
      "  0.0157273762930374    1 0\n",
      "  0.01582780768801      1 0\n",
      "  0.0159770891185921    1 0\n",
      "  0.0159910630319185    1 0\n",
      "  0.016165166389517     1 0\n",
      "  0.0162811530096679    1 0\n",
      "  0.0173777662066514    1 0\n",
      "  0.0176644941397418    1 0\n",
      "  0.0176866550571046    1 0\n",
      "  0.0176989471099807    1 0\n",
      "  0.0178599335935285    1 0\n",
      "  0.018379941183323     1 0\n",
      "  0.0187812215714806    1 0\n",
      "  0.0192179331601645    1 0\n",
      "  0.0198399079916567    1 0\n",
      "  0.0200139245955681    1 0\n",
      "  0.0200863657574969    1 0\n",
      "  0.0206873620725138    1 0\n",
      "  0.0214027750483755    1 0\n",
      "  0.0227642580273202    1 0\n",
      "  0.023060102766373     1 0\n",
      "  0.0231777542125234    1 0\n",
      "  0.02323169882551      1 0\n",
      "  0.0234722199348407    1 0\n",
      "  0.0235958236467124    1 0\n",
      "  0.0237569589030673    1 0\n",
      "  0.0237871841871281    1 0\n",
      "  0.0238048716495486    1 0\n",
      "  0.024105622531723     1 0\n",
      "  0.0244227692744703    1 0\n",
      "  0.024513217935622     1 0\n",
      "  0.0252188554600999    1 0\n",
      "  0.0253810614898771    1 0\n",
      "  0.0255032980457859    1 0\n",
      "  0.0262963511839296    1 0\n",
      "  0.0263174325394326    1 0\n",
      "  0.0269569738849091    1 0\n",
      "  0.0270887684118344    1 0\n",
      "  0.0275188594230641    0 1\n",
      "  0.027725401299037     1 0\n",
      "  0.0279890271740262    1 0\n",
      "  0.0284187565287526    1 0\n",
      "  0.0285129757227468    1 0\n",
      "  0.0290258408735916    1 0\n",
      "  0.0290391501285726    1 0\n",
      "  0.0290395278603515    1 0\n",
      "  0.0290470243911211    1 0\n",
      "  0.0294704208837603    1 0\n",
      "  0.0296388640958062    1 0\n",
      "  0.0297739944569568    1 0\n",
      "  0.0298382892270086    1 0\n",
      "  0.0305697829229227    1 0\n",
      "  0.0308186072968834    1 0\n",
      "  0.0309806655023215    1 0\n",
      "  0.0310176272146689    1 0\n",
      "  0.0312978178256465    1 0\n",
      "  0.0319749328305043    1 0\n",
      "  0.0320565432666406    1 0\n",
      "  0.0320878161127521    1 0\n",
      "  0.0322114794383265    1 0\n",
      "  0.0327148826976093    1 0\n",
      "  0.0328019912004227    1 0\n",
      "  0.0331176233752784    1 0\n",
      "  0.0341962764073434    1 0\n",
      "  0.0344760552188226    1 0\n",
      "  0.0345435369036851    1 0\n",
      "  0.0346574237012387    1 0\n",
      "  0.0349119589542638    1 0\n",
      "  0.0351536428311867    1 0\n",
      "  0.0353987362314192    1 0\n",
      "  0.0354599537526962    1 0\n",
      "  0.0364142268081971    1 0\n",
      "  0.0365045391600237    1 0\n",
      "  0.0365805390099135    1 0\n",
      "  0.0367124460053019    1 0\n",
      "  0.0369096234137477    1 0\n",
      "  0.0371276701571956    1 0\n",
      "  0.0371473178580307    1 0\n",
      "  0.0372185267318453    1 0\n",
      "  0.0376075719369846    1 0\n",
      "  0.0376463090483141    1 0\n",
      "  0.03783178987959      1 0\n",
      "  0.0381641060759432    1 0\n",
      "  0.0381790157203029    1 0\n",
      "  0.0383925888854775    1 0\n",
      "  0.0384650247900439    1 0\n",
      "  0.038518643354383     1 0\n",
      "  0.0385350994862638    1 0\n",
      "  0.0387408435465713    1 0\n",
      "  0.0389534929438318    1 0\n",
      "  0.0396025424800588    1 0\n",
      "  0.0397039760969658    1 0\n",
      "  0.0400004147958961    1 0\n",
      "  0.0402385194119776    1 0\n",
      "  0.0405861576400981    1 0\n",
      "  0.0407620904093166    1 0\n",
      "  0.0408647655382804    1 0\n",
      "  0.0410529837669082    1 0\n",
      "  0.0414992238566391    1 0\n",
      "  0.0415487325123139    1 0\n",
      "  0.0416717731647129    1 0\n",
      "  0.0418661192254343    1 0\n",
      "  0.0419563785653798    1 0\n",
      "  0.0426179575581406    1 0\n",
      "  0.0426215879843308    1 0\n",
      "  0.0428425212285383    1 0\n",
      "  0.0429220988945435    1 0\n",
      "  0.0432330224043327    1 0\n",
      "  0.0432428349857674    1 0\n",
      "  0.0433444652618076    1 0\n",
      "  0.0433643468014356    1 0\n",
      "  0.0434356042970691    1 0\n",
      "  0.04345588020163      1 0\n",
      "  0.0434845785038349    1 0\n",
      "  0.0436661255633266    1 0\n",
      "  0.0444974552132434    1 0\n",
      "  0.0445998193444265    1 0\n",
      "  0.044788640709484     1 0\n",
      "  0.0452402677545485    1 0\n",
      "  0.0452776739526693    1 0\n",
      "  0.0452821859290812    1 0\n",
      "  0.0452886914929537    1 0\n",
      "  0.0453631322937624    1 0\n",
      "  0.0454281167271931    1 0\n",
      "  0.0455209672225113    1 0\n",
      "  0.0457666115044734    1 0\n",
      "  0.0461390799429674    1 0\n",
      "  0.0461410618767615    1 0\n",
      "  0.0461797631714681    1 0\n",
      "  0.0463102196365501    1 0\n",
      "  0.0470146594025317    1 0\n",
      "  0.0472264796159973    1 0\n",
      "  0.047421675090649     1 0\n",
      "  0.0474526478269471    1 0\n",
      "  0.047464065542597     1 0\n",
      "  0.0475864795942268    1 0\n",
      "  0.0478513570436242    1 0\n",
      "  0.0480744021616333    1 0\n",
      "  0.0482180486594565    1 0\n",
      "  0.0486820018035317    1 0\n",
      "  0.0492740389387306    1 0\n",
      "  0.0495494202732955    1 0\n",
      "  0.0497747387059851    1 0\n",
      "  0.0497758757139583    1 0\n",
      "  0.0500904852274553    2 0\n",
      "  0.0503423631811894    1 0\n",
      "  0.0504277070227847    1 0\n",
      "  0.0505786855992319    1 0\n",
      "  0.0511612250130342    1 0\n",
      "  0.0511772716653671    1 0\n",
      "  0.0512076185395781    1 0\n",
      "  0.0512367389435527    1 0\n",
      "  0.0517734064207983    1 0\n",
      "  0.0518448585272016    1 0\n",
      "  0.0519848925269178    1 0\n",
      "  0.052523049600739     1 0\n",
      "  0.053625763353277     1 0\n",
      "  0.0536316143195669    1 0\n",
      "  0.0536613479586597    1 0\n",
      "  0.0549144575975568    1 0\n",
      "  0.055277345145319     1 0\n",
      "  0.0552957514632249    1 0\n",
      "  0.0553442691520026    1 0\n",
      "  0.055869418076635     1 0\n",
      "  0.0559726309647435    1 0\n",
      "  0.056024161777777     1 0\n",
      "  0.0565779773549233    1 0\n",
      "  0.0566237576463491    1 0\n",
      "  0.0570716462100081    0 1\n",
      "  0.0574353405306168    1 0\n",
      "  0.0574501625575846    1 0\n",
      "  0.0574689466072696    1 0\n",
      "  0.0575630006083379    1 0\n",
      "  0.0577238533392418    1 0\n",
      "  0.0579240984750672    1 0\n",
      "  0.0579332168433205    1 0\n",
      "  0.0581005643386518    1 0\n",
      "  0.058720492164891     0 1\n",
      "  0.0590099021408256    1 0\n",
      "  0.0590695145278873    1 0\n",
      "  0.0592866512239375    1 0\n",
      "  0.0593456114072528    1 0\n",
      "  0.0600739409509203    1 0\n",
      "  0.0601839024788483    1 0\n",
      "  0.0602793374670249    1 0\n",
      "  0.0604997429733672    1 0\n",
      "  0.0615406551468046    1 0\n",
      "  0.0615535882301996    1 0\n",
      "  0.0624599893395676    0 1\n",
      "  0.0625758087668078    1 0\n",
      "  0.0629898095107967    1 0\n",
      "  0.0632020548931106    1 0\n",
      "  0.0635184108370625    1 0\n",
      "  0.0637333813282962    1 0\n",
      "  0.0648996477872786    1 0\n",
      "  0.0656265223779272    0 1\n",
      "  0.066858445456481     1 0\n",
      "  0.067828225552872     1 0\n",
      "  0.0679608031752688    1 0\n",
      "  0.0682960659923348    1 0\n",
      "  0.0683633812409581    0 1\n",
      "  0.0688673421784197    0 1\n",
      "  0.0689853574122532    1 0\n",
      "  0.0690148636683861    1 0\n",
      "  0.0692689344739125    1 0\n",
      "  0.0693379402822888    1 0\n",
      "  0.0694170099391223    1 0\n",
      "  0.0695248764446947    0 1\n",
      "  0.0698147930151967    1 0\n",
      "  0.070617521720485     1 0\n",
      "  0.070803045941501     0 1\n",
      "  0.0709536020977103    1 0\n",
      "  0.071142198058117     1 0\n",
      "  0.0720797474354376    1 0\n",
      "  0.0723874281697486    1 0\n",
      "  0.0732653011024258    1 0\n",
      "  0.0743007544077599    1 0\n",
      "  0.0745820313532913    1 0\n",
      "  0.0748069810377458    1 0\n",
      "  0.0753076440841102    1 0\n",
      "  0.0753912692099207    1 0\n",
      "  0.0757354552103664    1 0\n",
      "  0.0758923987769816    1 0\n",
      "  0.0760605085291614    0 1\n",
      "  0.0760650274486301    1 0\n",
      "  0.0762037516310572    1 0\n",
      "  0.0764592580879869    1 0\n",
      "  0.0767755335690508    0 1\n",
      "  0.0769674817221206    1 0\n",
      "  0.0772760522289112    1 0\n",
      "  0.0772820168241488    1 0\n",
      "  0.0781389836893109    1 0\n",
      "  0.0788161577532731    1 0\n",
      "  0.0789876655111411    1 0\n",
      "  0.079122539849889     1 0\n",
      "  0.0795120147003028    0 1\n",
      "  0.0795206046241377    1 0\n",
      "  0.0797969918873316    1 0\n",
      "  0.0800749101437199    1 0\n",
      "  0.0805377296580139    1 0\n",
      "  0.0805803948203087    1 0\n",
      "  0.0807086129985207    1 0\n",
      "  0.0807792908781115    1 0\n",
      "  0.0813302948341287    1 0\n",
      "  0.0814629845395831    1 0\n",
      "  0.0815432301018123    1 0\n",
      "  0.0821540059724453    1 0\n",
      "  0.0822961476283618    1 0\n",
      "  0.0824341188912705    1 0\n",
      "  0.082747218175801     0 1\n",
      "  0.0829932969375787    1 0\n",
      "  0.0830672527828661    0 1\n",
      "  0.0838102650313934    1 0\n",
      "  0.0846667813135006    1 0\n",
      "  0.0847935503301488    1 0\n",
      "  0.0848041221877777    1 0\n",
      "  0.0849920656612881    1 0\n",
      "  0.0859176693640911    1 0\n",
      "  0.0859849916074176    1 0\n",
      "  0.0863428590134636    1 0\n",
      "  0.086725525728981     1 0\n",
      "  0.0876168727131061    1 0\n",
      "  0.0877907907198559    1 0\n",
      "  0.0878717622915649    1 0\n",
      "  0.0881365025711217    1 0\n",
      "  0.0890928720910243    1 0\n",
      "  0.0896110527874759    1 0\n",
      "  0.0901604967474722    1 0\n",
      "  0.0903027406418776    1 0\n",
      "  0.090331263434116     1 0\n",
      "  0.0905006533411461    1 0\n",
      "  0.0906395578839118    1 0\n",
      "  0.090902374968171     1 0\n",
      "  0.0913841658649942    1 0\n",
      "  0.0914825636883937    1 0\n",
      "  0.0920975330182544    1 0\n",
      "  0.0923524759412017    1 0\n",
      "  0.0923948251372693    1 0\n",
      "  0.0928222194117637    1 0\n",
      "  0.0932425159922026    1 0\n",
      "  0.0936420780985102    1 0\n",
      "  0.0936924103800662    1 0\n",
      "  0.0938938697013516    1 0\n",
      "  0.0943178771524007    1 0\n",
      "  0.0945082557342374    1 0\n",
      "  0.0950599788969189    1 0\n",
      "  0.0950927472022546    1 0\n",
      "  0.0956797592616207    1 0\n",
      "  0.0962703387594599    0 1\n",
      "  0.0970161769491648    1 0\n",
      "  0.0971465668790538    1 0\n",
      "  0.0979673928336649    0 1\n",
      "  0.0985594473037935    1 0\n",
      "  0.0986463572345134    1 0\n",
      "  0.0986922103772149    1 0\n",
      "  0.0987146308059526    1 0\n",
      "  0.098802977013443     1 0\n",
      "  0.0994493316161938    1 0\n",
      "  0.0994702021771204    1 0\n",
      "  0.0997130637753401    0 1\n",
      "  0.100281211322133     1 0\n",
      "  0.101366355907038     1 0\n",
      "  0.101682985005321     1 0\n",
      "  0.102272924860974     1 0\n",
      "  0.103736992936142     1 0\n",
      "  0.103765348846074     1 0\n",
      "  0.104687514782511     0 1\n",
      "  0.105620306199031     0 1\n",
      "  0.105985650670306     1 0\n",
      "  0.106100926646044     0 1\n",
      "  0.106553333938781     1 0\n",
      "  0.106823309168201     1 0\n",
      "  0.106963765171609     1 0\n",
      "  0.108555349190526     1 0\n",
      "  0.108608740533803     1 0\n",
      "  0.109767758432087     0 1\n",
      "  0.110075456289881     1 0\n",
      "  0.110223476279828     1 0\n",
      "  0.111109842351412     1 0\n",
      "  0.111294702670244     0 1\n",
      "  0.111552602373296     1 0\n",
      "  0.111892330074038     1 0\n",
      "  0.113329808753779     1 0\n",
      "  0.113541234103537     1 0\n",
      "  0.113774889747325     1 0\n",
      "  0.114772258388142     0 1\n",
      "  0.115001087232314     0 1\n",
      "  0.115916314039346     1 0\n",
      "  0.117862291291852     1 0\n",
      "  0.118086710020486     1 0\n",
      "  0.118236597957826     1 0\n",
      "  0.118732180983508     1 0\n",
      "  0.119013092990324     1 0\n",
      "  0.119092093162942     1 0\n",
      "  0.119165752043576     1 0\n",
      "  0.120147120403534     1 0\n",
      "  0.120666412332042     0 1\n",
      "  0.122650341324777     1 0\n",
      "  0.124919743542087     1 0\n",
      "  0.125423324756819     0 1\n",
      "  0.125582441715392     1 0\n",
      "  0.125786074227314     0 1\n",
      "  0.125866592285924     1 0\n",
      "  0.125925253517243     1 0\n",
      "  0.126586618083097     1 0\n",
      "  0.12722267861252      1 0\n",
      "  0.128192116252859     1 0\n",
      "  0.128211438705979     1 0\n",
      "  0.130518158121046     1 0\n",
      "  0.13068258347607      1 0\n",
      "  0.133296598249346     1 0\n",
      "  0.133852774396914     1 0\n",
      "  0.133927824766212     1 0\n",
      "  0.134547147508853     1 0\n",
      "  0.13635925137385      1 0\n",
      "  0.136649826539074     1 0\n",
      "  0.137820655405912     1 0\n",
      "  0.140409240958772     1 0\n",
      "  0.140674627563177     1 0\n",
      "  0.141095853344961     1 0\n",
      "  0.141178446272199     1 0\n",
      "  0.142042993577227     1 0\n",
      "  0.145192258655418     1 0\n",
      "  0.145415860626428     1 0\n",
      "  0.14640878701067      1 0\n",
      "  0.146744552657627     1 0\n",
      "  0.147830565008457     1 0\n",
      "  0.150142240427437     1 0\n",
      "  0.151747482467193     1 0\n",
      "  0.15302167945611      1 0\n",
      "  0.15365952019738      1 0\n",
      "  0.154904177989709     1 0\n",
      "  0.155594376511707     1 0\n",
      "  0.156081435439568     1 0\n",
      "  0.157050142678377     1 0\n",
      "  0.157381554307764     1 0\n",
      "  0.158838347869588     1 0\n",
      "  0.159672375504259     1 0\n",
      "  0.160028045978035     1 0\n",
      "  0.160298473196801     1 0\n",
      "  0.16079865178058      1 0\n",
      "  0.160936983621754     1 0\n",
      "  0.162033115447059     1 0\n",
      "  0.163189245751982     1 0\n",
      "  0.164778098263139     1 0\n",
      "  0.166053327425794     1 0\n",
      "  0.167856651120414     1 0\n",
      "  0.168102659453704     1 0\n",
      "  0.17023722627455      1 0\n",
      "  0.173951895641633     1 0\n",
      "  0.179166365036355     0 1\n",
      "  0.181752786347968     1 0\n",
      "  0.193250171165128     1 0\n",
      "  0.200087346973732     1 0\n",
      "  0.202894622704356     0 1\n",
      "  0.203717612654013     1 0\n",
      "  0.206250793970353     1 0\n",
      "  0.207072704046558     1 0\n",
      "  0.212619729273229     1 0\n",
      "  0.217775697959013     1 0\n",
      "  0.219205472241264     1 0\n",
      "  0.220933196448033     1 0\n",
      "  0.230114504544458     1 0\n",
      "  0.230727895390748     0 1\n",
      "  0.233580106017154     1 0\n",
      "  0.252507907863331     1 0\n",
      "  0.259747659670192     1 0\n",
      "  0.265058173475573     1 0\n",
      "  0.284906235484752     1 0\n",
      "  0.2860543276165       0 1\n",
      "  0.286741031987886     1 0\n",
      "  0.28781686883639      0 1\n",
      "  0.299605293878507     0 1\n",
      "  0.301093153349842     1 0\n",
      "  0.343958185367654     1 0\n",
      "  0.344393098136198     0 1\n",
      "  0.347597718535997     0 1\n",
      "  0.348467544073085     1 0\n"
     ]
    }
   ],
   "source": [
    "confusion_matrix <- table(pred$predict, BostonPCA$c_river_variable, dnn = c(\"Asignado\",\"Real\"))\n",
    "print(confusion_matrix)"
   ]
  },
  {
   "cell_type": "markdown",
   "metadata": {},
   "source": [
    "Probaremos otro método a ver si así puedo realizar una teoría de que si hay rio colindante o no influye en el precio, visto que no he podido predecir nada siguiendo el método de PCA. Creo que es debido a que trato la variable de \"c_river_variable\" como una variable numérica cuando es cualitativa. Probaré realizando otro tipo de test."
   ]
  },
  {
   "cell_type": "markdown",
   "metadata": {},
   "source": [
    "### Demostración visual y test ANOVA entre rio colindante y no rio colindante respecto al precio"
   ]
  },
  {
   "cell_type": "code",
   "execution_count": 140,
   "metadata": {},
   "outputs": [
    {
     "data": {
      "image/png": "[encoded data removed]",
      "text/plain": [
       "plot without title"
      ]
     },
     "metadata": {
      "image/png": {
       "height": 420,
       "width": 420
      }
     },
     "output_type": "display_data"
    },
    {
     "data": {
      "image/png": "[encoded data removed]",
      "text/plain": [
       "plot without title"
      ]
     },
     "metadata": {
      "image/png": {
       "height": 420,
       "width": 420
      }
     },
     "output_type": "display_data"
    }
   ],
   "source": [
    "ggplot(data=Bostonrio, aes(x=Boston.c_river_variable, y=Boston.median_value, color=Boston.c_river_variable)) + geom_boxplot() \n",
    "ggplot(data=Bostonsinrio, aes(x=Boston.c_river_variable, y=Boston.median_value, color=Boston.c_river_variable)) + geom_boxplot() "
   ]
  },
  {
   "cell_type": "code",
   "execution_count": 143,
   "metadata": {},
   "outputs": [
    {
     "data": {
      "text/plain": [
       "                        Df Sum Sq Mean Sq F value   Pr(>F)    \n",
       "BostonPCA$median_value   1  1.001  1.0007   15.97 7.39e-05 ***\n",
       "Residuals              504 31.578  0.0627                     \n",
       "---\n",
       "Signif. codes:  0 '***' 0.001 '**' 0.01 '*' 0.05 '.' 0.1 ' ' 1"
      ]
     },
     "metadata": {},
     "output_type": "display_data"
    }
   ],
   "source": [
    "anova<-aov(BostonPCA$c_river_variable ~ BostonPCA$median_value)\n",
    "summary(anova)"
   ]
  },
  {
   "cell_type": "markdown",
   "metadata": {},
   "source": [
    "Al intentar realizar una regresión lineal para predecir si había rio o no, está claro que iba a salir mal debido al tipo de variable. No es una variable cuantitativa y supongo que por casos de ese estilo no se ha obtenido buenos resultados al aplicar una regresión (R cuadrado de 0.065). Al representar varias veces los datos con ríos colindantes y sin ríos colindantes, se observa como las medias son diferentes, y los cuartiles también. En ambos casos presentan valores más elevados los “median_value” con ríos colindantes y para poder decir con certeza que esto es cierto finalmente, he optado por realizar el test anova con resultados buenos (respecto a mis primeros pensamientos). Según el test anova los datos con ríos colindantes son diferentes a los que no tienen rio colindante (p-value muy bajo, diferencia significativa). Esto nos confirma la hipotesis de que tener un rio colindante hace que la “median_value” se más elevada."
   ]
  },
  {
   "cell_type": "code",
   "execution_count": null,
   "metadata": {},
   "outputs": [],
   "source": []
  }
 ],
 "metadata": {
  "kernelspec": {
   "display_name": "R",
   "language": "R",
   "name": "ir"
  },
  "language_info": {
   "codemirror_mode": "r",
   "file_extension": ".r",
   "mimetype": "text/x-r-source",
   "name": "R",
   "pygments_lexer": "r",
   "version": "3.6.1"
  }
 },
 "nbformat": 4,
 "nbformat_minor": 4
}
