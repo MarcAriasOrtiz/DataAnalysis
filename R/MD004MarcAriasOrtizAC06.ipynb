{
 "cells": [
  {
   "cell_type": "markdown",
   "metadata": {},
   "source": [
    "El conjunto de datos del CRAN R denominado PlantGrowth, contiene el peso de las plantas obtenidas bajo un control y dos condiciones de tratamiento diferentes.\n",
    "\n",
    "Comprueba y visualizar los datos\n",
    "\n",
    "Calcular la prueba ANOVA unidireccional\n",
    "\n",
    "Verificar  los supuestos de ANOVA que nos indique la validez de dicha prueba\n"
   ]
  },
  {
   "cell_type": "code",
   "execution_count": 2,
   "metadata": {},
   "outputs": [
    {
     "data": {
      "text/html": [
       "<table>\n",
       "<thead><tr><th scope=col>weight</th><th scope=col>group</th></tr></thead>\n",
       "<tbody>\n",
       "\t<tr><td>4.17</td><td>ctrl</td></tr>\n",
       "\t<tr><td>5.58</td><td>ctrl</td></tr>\n",
       "\t<tr><td>5.18</td><td>ctrl</td></tr>\n",
       "\t<tr><td>6.11</td><td>ctrl</td></tr>\n",
       "\t<tr><td>4.50</td><td>ctrl</td></tr>\n",
       "\t<tr><td>4.61</td><td>ctrl</td></tr>\n",
       "\t<tr><td>5.17</td><td>ctrl</td></tr>\n",
       "\t<tr><td>4.53</td><td>ctrl</td></tr>\n",
       "\t<tr><td>5.33</td><td>ctrl</td></tr>\n",
       "\t<tr><td>5.14</td><td>ctrl</td></tr>\n",
       "\t<tr><td>4.81</td><td>trt1</td></tr>\n",
       "\t<tr><td>4.17</td><td>trt1</td></tr>\n",
       "\t<tr><td>4.41</td><td>trt1</td></tr>\n",
       "\t<tr><td>3.59</td><td>trt1</td></tr>\n",
       "\t<tr><td>5.87</td><td>trt1</td></tr>\n",
       "\t<tr><td>3.83</td><td>trt1</td></tr>\n",
       "\t<tr><td>6.03</td><td>trt1</td></tr>\n",
       "\t<tr><td>4.89</td><td>trt1</td></tr>\n",
       "\t<tr><td>4.32</td><td>trt1</td></tr>\n",
       "\t<tr><td>4.69</td><td>trt1</td></tr>\n",
       "\t<tr><td>6.31</td><td>trt2</td></tr>\n",
       "\t<tr><td>5.12</td><td>trt2</td></tr>\n",
       "\t<tr><td>5.54</td><td>trt2</td></tr>\n",
       "\t<tr><td>5.50</td><td>trt2</td></tr>\n",
       "\t<tr><td>5.37</td><td>trt2</td></tr>\n",
       "\t<tr><td>5.29</td><td>trt2</td></tr>\n",
       "\t<tr><td>4.92</td><td>trt2</td></tr>\n",
       "\t<tr><td>6.15</td><td>trt2</td></tr>\n",
       "\t<tr><td>5.80</td><td>trt2</td></tr>\n",
       "\t<tr><td>5.26</td><td>trt2</td></tr>\n",
       "</tbody>\n",
       "</table>\n"
      ],
      "text/latex": [
       "\\begin{tabular}{r|ll}\n",
       " weight & group\\\\\n",
       "\\hline\n",
       "\t 4.17 & ctrl\\\\\n",
       "\t 5.58 & ctrl\\\\\n",
       "\t 5.18 & ctrl\\\\\n",
       "\t 6.11 & ctrl\\\\\n",
       "\t 4.50 & ctrl\\\\\n",
       "\t 4.61 & ctrl\\\\\n",
       "\t 5.17 & ctrl\\\\\n",
       "\t 4.53 & ctrl\\\\\n",
       "\t 5.33 & ctrl\\\\\n",
       "\t 5.14 & ctrl\\\\\n",
       "\t 4.81 & trt1\\\\\n",
       "\t 4.17 & trt1\\\\\n",
       "\t 4.41 & trt1\\\\\n",
       "\t 3.59 & trt1\\\\\n",
       "\t 5.87 & trt1\\\\\n",
       "\t 3.83 & trt1\\\\\n",
       "\t 6.03 & trt1\\\\\n",
       "\t 4.89 & trt1\\\\\n",
       "\t 4.32 & trt1\\\\\n",
       "\t 4.69 & trt1\\\\\n",
       "\t 6.31 & trt2\\\\\n",
       "\t 5.12 & trt2\\\\\n",
       "\t 5.54 & trt2\\\\\n",
       "\t 5.50 & trt2\\\\\n",
       "\t 5.37 & trt2\\\\\n",
       "\t 5.29 & trt2\\\\\n",
       "\t 4.92 & trt2\\\\\n",
       "\t 6.15 & trt2\\\\\n",
       "\t 5.80 & trt2\\\\\n",
       "\t 5.26 & trt2\\\\\n",
       "\\end{tabular}\n"
      ],
      "text/markdown": [
       "\n",
       "| weight | group |\n",
       "|---|---|\n",
       "| 4.17 | ctrl |\n",
       "| 5.58 | ctrl |\n",
       "| 5.18 | ctrl |\n",
       "| 6.11 | ctrl |\n",
       "| 4.50 | ctrl |\n",
       "| 4.61 | ctrl |\n",
       "| 5.17 | ctrl |\n",
       "| 4.53 | ctrl |\n",
       "| 5.33 | ctrl |\n",
       "| 5.14 | ctrl |\n",
       "| 4.81 | trt1 |\n",
       "| 4.17 | trt1 |\n",
       "| 4.41 | trt1 |\n",
       "| 3.59 | trt1 |\n",
       "| 5.87 | trt1 |\n",
       "| 3.83 | trt1 |\n",
       "| 6.03 | trt1 |\n",
       "| 4.89 | trt1 |\n",
       "| 4.32 | trt1 |\n",
       "| 4.69 | trt1 |\n",
       "| 6.31 | trt2 |\n",
       "| 5.12 | trt2 |\n",
       "| 5.54 | trt2 |\n",
       "| 5.50 | trt2 |\n",
       "| 5.37 | trt2 |\n",
       "| 5.29 | trt2 |\n",
       "| 4.92 | trt2 |\n",
       "| 6.15 | trt2 |\n",
       "| 5.80 | trt2 |\n",
       "| 5.26 | trt2 |\n",
       "\n"
      ],
      "text/plain": [
       "   weight group\n",
       "1  4.17   ctrl \n",
       "2  5.58   ctrl \n",
       "3  5.18   ctrl \n",
       "4  6.11   ctrl \n",
       "5  4.50   ctrl \n",
       "6  4.61   ctrl \n",
       "7  5.17   ctrl \n",
       "8  4.53   ctrl \n",
       "9  5.33   ctrl \n",
       "10 5.14   ctrl \n",
       "11 4.81   trt1 \n",
       "12 4.17   trt1 \n",
       "13 4.41   trt1 \n",
       "14 3.59   trt1 \n",
       "15 5.87   trt1 \n",
       "16 3.83   trt1 \n",
       "17 6.03   trt1 \n",
       "18 4.89   trt1 \n",
       "19 4.32   trt1 \n",
       "20 4.69   trt1 \n",
       "21 6.31   trt2 \n",
       "22 5.12   trt2 \n",
       "23 5.54   trt2 \n",
       "24 5.50   trt2 \n",
       "25 5.37   trt2 \n",
       "26 5.29   trt2 \n",
       "27 4.92   trt2 \n",
       "28 6.15   trt2 \n",
       "29 5.80   trt2 \n",
       "30 5.26   trt2 "
      ]
     },
     "metadata": {},
     "output_type": "display_data"
    },
    {
     "data": {
      "text/html": [
       "'list'"
      ],
      "text/latex": [
       "'list'"
      ],
      "text/markdown": [
       "'list'"
      ],
      "text/plain": [
       "[1] \"list\""
      ]
     },
     "metadata": {},
     "output_type": "display_data"
    }
   ],
   "source": [
    "PesoPlantas=PlantGrowth\n",
    "PesoPlantas\n",
    "typeof(PesoPlantas)"
   ]
  },
  {
   "cell_type": "code",
   "execution_count": 41,
   "metadata": {},
   "outputs": [
    {
     "data": {
      "text/html": [
       "<table>\n",
       "<caption>A data.frame: 30 × 2</caption>\n",
       "<thead>\n",
       "\t<tr><th scope=col>weight</th><th scope=col>group</th></tr>\n",
       "\t<tr><th scope=col>&lt;dbl&gt;</th><th scope=col>&lt;fct&gt;</th></tr>\n",
       "</thead>\n",
       "<tbody>\n",
       "\t<tr><td>4.17</td><td>Control      </td></tr>\n",
       "\t<tr><td>5.58</td><td>Control      </td></tr>\n",
       "\t<tr><td>5.18</td><td>Control      </td></tr>\n",
       "\t<tr><td>6.11</td><td>Control      </td></tr>\n",
       "\t<tr><td>4.50</td><td>Control      </td></tr>\n",
       "\t<tr><td>4.61</td><td>Control      </td></tr>\n",
       "\t<tr><td>5.17</td><td>Control      </td></tr>\n",
       "\t<tr><td>4.53</td><td>Control      </td></tr>\n",
       "\t<tr><td>5.33</td><td>Control      </td></tr>\n",
       "\t<tr><td>5.14</td><td>Control      </td></tr>\n",
       "\t<tr><td>4.81</td><td>Tratamiento 1</td></tr>\n",
       "\t<tr><td>4.17</td><td>Tratamiento 1</td></tr>\n",
       "\t<tr><td>4.41</td><td>Tratamiento 1</td></tr>\n",
       "\t<tr><td>3.59</td><td>Tratamiento 1</td></tr>\n",
       "\t<tr><td>5.87</td><td>Tratamiento 1</td></tr>\n",
       "\t<tr><td>3.83</td><td>Tratamiento 1</td></tr>\n",
       "\t<tr><td>6.03</td><td>Tratamiento 1</td></tr>\n",
       "\t<tr><td>4.89</td><td>Tratamiento 1</td></tr>\n",
       "\t<tr><td>4.32</td><td>Tratamiento 1</td></tr>\n",
       "\t<tr><td>4.69</td><td>Tratamiento 1</td></tr>\n",
       "\t<tr><td>6.31</td><td>Tratamiento 2</td></tr>\n",
       "\t<tr><td>5.12</td><td>Tratamiento 2</td></tr>\n",
       "\t<tr><td>5.54</td><td>Tratamiento 2</td></tr>\n",
       "\t<tr><td>5.50</td><td>Tratamiento 2</td></tr>\n",
       "\t<tr><td>5.37</td><td>Tratamiento 2</td></tr>\n",
       "\t<tr><td>5.29</td><td>Tratamiento 2</td></tr>\n",
       "\t<tr><td>4.92</td><td>Tratamiento 2</td></tr>\n",
       "\t<tr><td>6.15</td><td>Tratamiento 2</td></tr>\n",
       "\t<tr><td>5.80</td><td>Tratamiento 2</td></tr>\n",
       "\t<tr><td>5.26</td><td>Tratamiento 2</td></tr>\n",
       "</tbody>\n",
       "</table>\n"
      ],
      "text/latex": [
       "A data.frame: 30 × 2\n",
       "\\begin{tabular}{ll}\n",
       " weight & group\\\\\n",
       " <dbl> & <fct>\\\\\n",
       "\\hline\n",
       "\t 4.17 & Control      \\\\\n",
       "\t 5.58 & Control      \\\\\n",
       "\t 5.18 & Control      \\\\\n",
       "\t 6.11 & Control      \\\\\n",
       "\t 4.50 & Control      \\\\\n",
       "\t 4.61 & Control      \\\\\n",
       "\t 5.17 & Control      \\\\\n",
       "\t 4.53 & Control      \\\\\n",
       "\t 5.33 & Control      \\\\\n",
       "\t 5.14 & Control      \\\\\n",
       "\t 4.81 & Tratamiento 1\\\\\n",
       "\t 4.17 & Tratamiento 1\\\\\n",
       "\t 4.41 & Tratamiento 1\\\\\n",
       "\t 3.59 & Tratamiento 1\\\\\n",
       "\t 5.87 & Tratamiento 1\\\\\n",
       "\t 3.83 & Tratamiento 1\\\\\n",
       "\t 6.03 & Tratamiento 1\\\\\n",
       "\t 4.89 & Tratamiento 1\\\\\n",
       "\t 4.32 & Tratamiento 1\\\\\n",
       "\t 4.69 & Tratamiento 1\\\\\n",
       "\t 6.31 & Tratamiento 2\\\\\n",
       "\t 5.12 & Tratamiento 2\\\\\n",
       "\t 5.54 & Tratamiento 2\\\\\n",
       "\t 5.50 & Tratamiento 2\\\\\n",
       "\t 5.37 & Tratamiento 2\\\\\n",
       "\t 5.29 & Tratamiento 2\\\\\n",
       "\t 4.92 & Tratamiento 2\\\\\n",
       "\t 6.15 & Tratamiento 2\\\\\n",
       "\t 5.80 & Tratamiento 2\\\\\n",
       "\t 5.26 & Tratamiento 2\\\\\n",
       "\\end{tabular}\n"
      ],
      "text/markdown": [
       "\n",
       "A data.frame: 30 × 2\n",
       "\n",
       "| weight &lt;dbl&gt; | group &lt;fct&gt; |\n",
       "|---|---|\n",
       "| 4.17 | Control       |\n",
       "| 5.58 | Control       |\n",
       "| 5.18 | Control       |\n",
       "| 6.11 | Control       |\n",
       "| 4.50 | Control       |\n",
       "| 4.61 | Control       |\n",
       "| 5.17 | Control       |\n",
       "| 4.53 | Control       |\n",
       "| 5.33 | Control       |\n",
       "| 5.14 | Control       |\n",
       "| 4.81 | Tratamiento 1 |\n",
       "| 4.17 | Tratamiento 1 |\n",
       "| 4.41 | Tratamiento 1 |\n",
       "| 3.59 | Tratamiento 1 |\n",
       "| 5.87 | Tratamiento 1 |\n",
       "| 3.83 | Tratamiento 1 |\n",
       "| 6.03 | Tratamiento 1 |\n",
       "| 4.89 | Tratamiento 1 |\n",
       "| 4.32 | Tratamiento 1 |\n",
       "| 4.69 | Tratamiento 1 |\n",
       "| 6.31 | Tratamiento 2 |\n",
       "| 5.12 | Tratamiento 2 |\n",
       "| 5.54 | Tratamiento 2 |\n",
       "| 5.50 | Tratamiento 2 |\n",
       "| 5.37 | Tratamiento 2 |\n",
       "| 5.29 | Tratamiento 2 |\n",
       "| 4.92 | Tratamiento 2 |\n",
       "| 6.15 | Tratamiento 2 |\n",
       "| 5.80 | Tratamiento 2 |\n",
       "| 5.26 | Tratamiento 2 |\n",
       "\n"
      ],
      "text/plain": [
       "   weight group        \n",
       "1  4.17   Control      \n",
       "2  5.58   Control      \n",
       "3  5.18   Control      \n",
       "4  6.11   Control      \n",
       "5  4.50   Control      \n",
       "6  4.61   Control      \n",
       "7  5.17   Control      \n",
       "8  4.53   Control      \n",
       "9  5.33   Control      \n",
       "10 5.14   Control      \n",
       "11 4.81   Tratamiento 1\n",
       "12 4.17   Tratamiento 1\n",
       "13 4.41   Tratamiento 1\n",
       "14 3.59   Tratamiento 1\n",
       "15 5.87   Tratamiento 1\n",
       "16 3.83   Tratamiento 1\n",
       "17 6.03   Tratamiento 1\n",
       "18 4.89   Tratamiento 1\n",
       "19 4.32   Tratamiento 1\n",
       "20 4.69   Tratamiento 1\n",
       "21 6.31   Tratamiento 2\n",
       "22 5.12   Tratamiento 2\n",
       "23 5.54   Tratamiento 2\n",
       "24 5.50   Tratamiento 2\n",
       "25 5.37   Tratamiento 2\n",
       "26 5.29   Tratamiento 2\n",
       "27 4.92   Tratamiento 2\n",
       "28 6.15   Tratamiento 2\n",
       "29 5.80   Tratamiento 2\n",
       "30 5.26   Tratamiento 2"
      ]
     },
     "metadata": {},
     "output_type": "display_data"
    },
    {
     "data": {
      "text/plain": [
       "     weight                group   \n",
       " Min.   :3.590   Control      :10  \n",
       " 1st Qu.:4.550   Tratamiento 1:10  \n",
       " Median :5.155   Tratamiento 2:10  \n",
       " Mean   :5.073                     \n",
       " 3rd Qu.:5.530                     \n",
       " Max.   :6.310                     "
      ]
     },
     "metadata": {},
     "output_type": "display_data"
    },
    {
     "data": {
      "text/plain": [
       "     weight                group   \n",
       " Min.   :4.170   Control      :10  \n",
       " 1st Qu.:4.550   Tratamiento 1: 0  \n",
       " Median :5.155   Tratamiento 2: 0  \n",
       " Mean   :5.032                     \n",
       " 3rd Qu.:5.293                     \n",
       " Max.   :6.110                     "
      ]
     },
     "metadata": {},
     "output_type": "display_data"
    },
    {
     "data": {
      "text/plain": [
       "     weight                group   \n",
       " Min.   :3.590   Control      : 0  \n",
       " 1st Qu.:4.207   Tratamiento 1:10  \n",
       " Median :4.550   Tratamiento 2: 0  \n",
       " Mean   :4.661                     \n",
       " 3rd Qu.:4.870                     \n",
       " Max.   :6.030                     "
      ]
     },
     "metadata": {},
     "output_type": "display_data"
    },
    {
     "data": {
      "text/plain": [
       "     weight                group   \n",
       " Min.   :4.920   Control      : 0  \n",
       " 1st Qu.:5.268   Tratamiento 1: 0  \n",
       " Median :5.435   Tratamiento 2:10  \n",
       " Mean   :5.526                     \n",
       " 3rd Qu.:5.735                     \n",
       " Max.   :6.310                     "
      ]
     },
     "metadata": {},
     "output_type": "display_data"
    }
   ],
   "source": [
    "#Tratamiento de datos\n",
    "PesoPlantas$group = factor(PesoPlantas$group,\n",
    "  labels = c(\"Control\", \"Tratamiento 1\", \"Tratamiento 2\"))\n",
    "PesoPlantas\n",
    "Control<-PesoPlantas[PesoPlantas$group==\"Control\",]\n",
    "Tratamiento1<-PesoPlantas[PesoPlantas$group==\"Tratamiento 1\",]\n",
    "Tratamiento2<-PesoPlantas[PesoPlantas$group==\"Tratamiento 2\",]\n",
    "summary(PesoPlantas)\n",
    "summary(Control)\n",
    "summary(Tratamiento1)\n",
    "summary(Tratamiento2)"
   ]
  },
  {
   "cell_type": "code",
   "execution_count": 35,
   "metadata": {},
   "outputs": [
    {
     "data": {
      "image/png": "[encoded data removed]",
      "text/plain": [
       "plot without title"
      ]
     },
     "metadata": {
      "image/png": {
       "height": 420,
       "width": 420
      }
     },
     "output_type": "display_data"
    }
   ],
   "source": [
    "#Visualización de datos\n",
    "library(ggplot2)\n",
    "\n",
    "ggplot(PesoPlantas, aes(x = group, y = weight)) +\n",
    "  geom_boxplot(fill = \"grey80\", colour = \"blue\") +\n",
    "  scale_x_discrete() + xlab(\"Tratamientos\") +\n",
    "  ylab(\"Peso\")"
   ]
  },
  {
   "cell_type": "code",
   "execution_count": 43,
   "metadata": {},
   "outputs": [
    {
     "data": {
      "text/plain": [
       "            Df Sum Sq Mean Sq F value Pr(>F)  \n",
       "group        2  3.766  1.8832   4.846 0.0159 *\n",
       "Residuals   27 10.492  0.3886                 \n",
       "---\n",
       "Signif. codes:  0 '***' 0.001 '**' 0.01 '*' 0.05 '.' 0.1 ' ' 1"
      ]
     },
     "metadata": {},
     "output_type": "display_data"
    }
   ],
   "source": [
    "#ANOVA General\n",
    "ANOVA<-aov(weight~group, data=PesoPlantas)\n",
    "summary(ANOVA)"
   ]
  },
  {
   "cell_type": "code",
   "execution_count": 25,
   "metadata": {},
   "outputs": [
    {
     "data": {
      "text/plain": [
       "            Df Sum Sq Mean Sq F value Pr(>F)\n",
       "group        1  0.688  0.6882   1.419  0.249\n",
       "Residuals   18  8.729  0.4850               "
      ]
     },
     "metadata": {},
     "output_type": "display_data"
    },
    {
     "data": {
      "text/html": [
       "<table>\n",
       "<caption>A data.frame: 20 × 2</caption>\n",
       "<thead>\n",
       "\t<tr><th></th><th scope=col>weight</th><th scope=col>group</th></tr>\n",
       "\t<tr><th></th><th scope=col>&lt;dbl&gt;</th><th scope=col>&lt;fct&gt;</th></tr>\n",
       "</thead>\n",
       "<tbody>\n",
       "\t<tr><th scope=row>1</th><td>4.17</td><td>Control      </td></tr>\n",
       "\t<tr><th scope=row>2</th><td>5.58</td><td>Control      </td></tr>\n",
       "\t<tr><th scope=row>3</th><td>5.18</td><td>Control      </td></tr>\n",
       "\t<tr><th scope=row>4</th><td>6.11</td><td>Control      </td></tr>\n",
       "\t<tr><th scope=row>5</th><td>4.50</td><td>Control      </td></tr>\n",
       "\t<tr><th scope=row>6</th><td>4.61</td><td>Control      </td></tr>\n",
       "\t<tr><th scope=row>7</th><td>5.17</td><td>Control      </td></tr>\n",
       "\t<tr><th scope=row>8</th><td>4.53</td><td>Control      </td></tr>\n",
       "\t<tr><th scope=row>9</th><td>5.33</td><td>Control      </td></tr>\n",
       "\t<tr><th scope=row>10</th><td>5.14</td><td>Control      </td></tr>\n",
       "\t<tr><th scope=row>11</th><td>4.81</td><td>Tratamiento 1</td></tr>\n",
       "\t<tr><th scope=row>12</th><td>4.17</td><td>Tratamiento 1</td></tr>\n",
       "\t<tr><th scope=row>13</th><td>4.41</td><td>Tratamiento 1</td></tr>\n",
       "\t<tr><th scope=row>14</th><td>3.59</td><td>Tratamiento 1</td></tr>\n",
       "\t<tr><th scope=row>15</th><td>5.87</td><td>Tratamiento 1</td></tr>\n",
       "\t<tr><th scope=row>16</th><td>3.83</td><td>Tratamiento 1</td></tr>\n",
       "\t<tr><th scope=row>17</th><td>6.03</td><td>Tratamiento 1</td></tr>\n",
       "\t<tr><th scope=row>18</th><td>4.89</td><td>Tratamiento 1</td></tr>\n",
       "\t<tr><th scope=row>19</th><td>4.32</td><td>Tratamiento 1</td></tr>\n",
       "\t<tr><th scope=row>20</th><td>4.69</td><td>Tratamiento 1</td></tr>\n",
       "</tbody>\n",
       "</table>\n"
      ],
      "text/latex": [
       "A data.frame: 20 × 2\n",
       "\\begin{tabular}{r|ll}\n",
       "  & weight & group\\\\\n",
       "  & <dbl> & <fct>\\\\\n",
       "\\hline\n",
       "\t1 & 4.17 & Control      \\\\\n",
       "\t2 & 5.58 & Control      \\\\\n",
       "\t3 & 5.18 & Control      \\\\\n",
       "\t4 & 6.11 & Control      \\\\\n",
       "\t5 & 4.50 & Control      \\\\\n",
       "\t6 & 4.61 & Control      \\\\\n",
       "\t7 & 5.17 & Control      \\\\\n",
       "\t8 & 4.53 & Control      \\\\\n",
       "\t9 & 5.33 & Control      \\\\\n",
       "\t10 & 5.14 & Control      \\\\\n",
       "\t11 & 4.81 & Tratamiento 1\\\\\n",
       "\t12 & 4.17 & Tratamiento 1\\\\\n",
       "\t13 & 4.41 & Tratamiento 1\\\\\n",
       "\t14 & 3.59 & Tratamiento 1\\\\\n",
       "\t15 & 5.87 & Tratamiento 1\\\\\n",
       "\t16 & 3.83 & Tratamiento 1\\\\\n",
       "\t17 & 6.03 & Tratamiento 1\\\\\n",
       "\t18 & 4.89 & Tratamiento 1\\\\\n",
       "\t19 & 4.32 & Tratamiento 1\\\\\n",
       "\t20 & 4.69 & Tratamiento 1\\\\\n",
       "\\end{tabular}\n"
      ],
      "text/markdown": [
       "\n",
       "A data.frame: 20 × 2\n",
       "\n",
       "| <!--/--> | weight &lt;dbl&gt; | group &lt;fct&gt; |\n",
       "|---|---|---|\n",
       "| 1 | 4.17 | Control       |\n",
       "| 2 | 5.58 | Control       |\n",
       "| 3 | 5.18 | Control       |\n",
       "| 4 | 6.11 | Control       |\n",
       "| 5 | 4.50 | Control       |\n",
       "| 6 | 4.61 | Control       |\n",
       "| 7 | 5.17 | Control       |\n",
       "| 8 | 4.53 | Control       |\n",
       "| 9 | 5.33 | Control       |\n",
       "| 10 | 5.14 | Control       |\n",
       "| 11 | 4.81 | Tratamiento 1 |\n",
       "| 12 | 4.17 | Tratamiento 1 |\n",
       "| 13 | 4.41 | Tratamiento 1 |\n",
       "| 14 | 3.59 | Tratamiento 1 |\n",
       "| 15 | 5.87 | Tratamiento 1 |\n",
       "| 16 | 3.83 | Tratamiento 1 |\n",
       "| 17 | 6.03 | Tratamiento 1 |\n",
       "| 18 | 4.89 | Tratamiento 1 |\n",
       "| 19 | 4.32 | Tratamiento 1 |\n",
       "| 20 | 4.69 | Tratamiento 1 |\n",
       "\n"
      ],
      "text/plain": [
       "   weight group        \n",
       "1  4.17   Control      \n",
       "2  5.58   Control      \n",
       "3  5.18   Control      \n",
       "4  6.11   Control      \n",
       "5  4.50   Control      \n",
       "6  4.61   Control      \n",
       "7  5.17   Control      \n",
       "8  4.53   Control      \n",
       "9  5.33   Control      \n",
       "10 5.14   Control      \n",
       "11 4.81   Tratamiento 1\n",
       "12 4.17   Tratamiento 1\n",
       "13 4.41   Tratamiento 1\n",
       "14 3.59   Tratamiento 1\n",
       "15 5.87   Tratamiento 1\n",
       "16 3.83   Tratamiento 1\n",
       "17 6.03   Tratamiento 1\n",
       "18 4.89   Tratamiento 1\n",
       "19 4.32   Tratamiento 1\n",
       "20 4.69   Tratamiento 1"
      ]
     },
     "metadata": {},
     "output_type": "display_data"
    }
   ],
   "source": [
    "#Tratamiento 1 vs Control\n",
    "PesoPlantas1<-PesoPlantas[PesoPlantas$group!=\"Tratamiento 2\",]\n",
    "ANOVA1<-aov(weight~group, data=PesoPlantas1)\n",
    "summary(ANOVA1)\n",
    "PesoPlantas1"
   ]
  },
  {
   "cell_type": "code",
   "execution_count": 26,
   "metadata": {},
   "outputs": [
    {
     "data": {
      "text/plain": [
       "            Df Sum Sq Mean Sq F value Pr(>F)  \n",
       "group        1  1.220  1.2202   4.554 0.0469 *\n",
       "Residuals   18  4.823  0.2679                 \n",
       "---\n",
       "Signif. codes:  0 '***' 0.001 '**' 0.01 '*' 0.05 '.' 0.1 ' ' 1"
      ]
     },
     "metadata": {},
     "output_type": "display_data"
    },
    {
     "data": {
      "text/html": [
       "<table>\n",
       "<caption>A data.frame: 20 × 2</caption>\n",
       "<thead>\n",
       "\t<tr><th></th><th scope=col>weight</th><th scope=col>group</th></tr>\n",
       "\t<tr><th></th><th scope=col>&lt;dbl&gt;</th><th scope=col>&lt;fct&gt;</th></tr>\n",
       "</thead>\n",
       "<tbody>\n",
       "\t<tr><th scope=row>1</th><td>4.17</td><td>Control      </td></tr>\n",
       "\t<tr><th scope=row>2</th><td>5.58</td><td>Control      </td></tr>\n",
       "\t<tr><th scope=row>3</th><td>5.18</td><td>Control      </td></tr>\n",
       "\t<tr><th scope=row>4</th><td>6.11</td><td>Control      </td></tr>\n",
       "\t<tr><th scope=row>5</th><td>4.50</td><td>Control      </td></tr>\n",
       "\t<tr><th scope=row>6</th><td>4.61</td><td>Control      </td></tr>\n",
       "\t<tr><th scope=row>7</th><td>5.17</td><td>Control      </td></tr>\n",
       "\t<tr><th scope=row>8</th><td>4.53</td><td>Control      </td></tr>\n",
       "\t<tr><th scope=row>9</th><td>5.33</td><td>Control      </td></tr>\n",
       "\t<tr><th scope=row>10</th><td>5.14</td><td>Control      </td></tr>\n",
       "\t<tr><th scope=row>21</th><td>6.31</td><td>Tratamiento 2</td></tr>\n",
       "\t<tr><th scope=row>22</th><td>5.12</td><td>Tratamiento 2</td></tr>\n",
       "\t<tr><th scope=row>23</th><td>5.54</td><td>Tratamiento 2</td></tr>\n",
       "\t<tr><th scope=row>24</th><td>5.50</td><td>Tratamiento 2</td></tr>\n",
       "\t<tr><th scope=row>25</th><td>5.37</td><td>Tratamiento 2</td></tr>\n",
       "\t<tr><th scope=row>26</th><td>5.29</td><td>Tratamiento 2</td></tr>\n",
       "\t<tr><th scope=row>27</th><td>4.92</td><td>Tratamiento 2</td></tr>\n",
       "\t<tr><th scope=row>28</th><td>6.15</td><td>Tratamiento 2</td></tr>\n",
       "\t<tr><th scope=row>29</th><td>5.80</td><td>Tratamiento 2</td></tr>\n",
       "\t<tr><th scope=row>30</th><td>5.26</td><td>Tratamiento 2</td></tr>\n",
       "</tbody>\n",
       "</table>\n"
      ],
      "text/latex": [
       "A data.frame: 20 × 2\n",
       "\\begin{tabular}{r|ll}\n",
       "  & weight & group\\\\\n",
       "  & <dbl> & <fct>\\\\\n",
       "\\hline\n",
       "\t1 & 4.17 & Control      \\\\\n",
       "\t2 & 5.58 & Control      \\\\\n",
       "\t3 & 5.18 & Control      \\\\\n",
       "\t4 & 6.11 & Control      \\\\\n",
       "\t5 & 4.50 & Control      \\\\\n",
       "\t6 & 4.61 & Control      \\\\\n",
       "\t7 & 5.17 & Control      \\\\\n",
       "\t8 & 4.53 & Control      \\\\\n",
       "\t9 & 5.33 & Control      \\\\\n",
       "\t10 & 5.14 & Control      \\\\\n",
       "\t21 & 6.31 & Tratamiento 2\\\\\n",
       "\t22 & 5.12 & Tratamiento 2\\\\\n",
       "\t23 & 5.54 & Tratamiento 2\\\\\n",
       "\t24 & 5.50 & Tratamiento 2\\\\\n",
       "\t25 & 5.37 & Tratamiento 2\\\\\n",
       "\t26 & 5.29 & Tratamiento 2\\\\\n",
       "\t27 & 4.92 & Tratamiento 2\\\\\n",
       "\t28 & 6.15 & Tratamiento 2\\\\\n",
       "\t29 & 5.80 & Tratamiento 2\\\\\n",
       "\t30 & 5.26 & Tratamiento 2\\\\\n",
       "\\end{tabular}\n"
      ],
      "text/markdown": [
       "\n",
       "A data.frame: 20 × 2\n",
       "\n",
       "| <!--/--> | weight &lt;dbl&gt; | group &lt;fct&gt; |\n",
       "|---|---|---|\n",
       "| 1 | 4.17 | Control       |\n",
       "| 2 | 5.58 | Control       |\n",
       "| 3 | 5.18 | Control       |\n",
       "| 4 | 6.11 | Control       |\n",
       "| 5 | 4.50 | Control       |\n",
       "| 6 | 4.61 | Control       |\n",
       "| 7 | 5.17 | Control       |\n",
       "| 8 | 4.53 | Control       |\n",
       "| 9 | 5.33 | Control       |\n",
       "| 10 | 5.14 | Control       |\n",
       "| 21 | 6.31 | Tratamiento 2 |\n",
       "| 22 | 5.12 | Tratamiento 2 |\n",
       "| 23 | 5.54 | Tratamiento 2 |\n",
       "| 24 | 5.50 | Tratamiento 2 |\n",
       "| 25 | 5.37 | Tratamiento 2 |\n",
       "| 26 | 5.29 | Tratamiento 2 |\n",
       "| 27 | 4.92 | Tratamiento 2 |\n",
       "| 28 | 6.15 | Tratamiento 2 |\n",
       "| 29 | 5.80 | Tratamiento 2 |\n",
       "| 30 | 5.26 | Tratamiento 2 |\n",
       "\n"
      ],
      "text/plain": [
       "   weight group        \n",
       "1  4.17   Control      \n",
       "2  5.58   Control      \n",
       "3  5.18   Control      \n",
       "4  6.11   Control      \n",
       "5  4.50   Control      \n",
       "6  4.61   Control      \n",
       "7  5.17   Control      \n",
       "8  4.53   Control      \n",
       "9  5.33   Control      \n",
       "10 5.14   Control      \n",
       "21 6.31   Tratamiento 2\n",
       "22 5.12   Tratamiento 2\n",
       "23 5.54   Tratamiento 2\n",
       "24 5.50   Tratamiento 2\n",
       "25 5.37   Tratamiento 2\n",
       "26 5.29   Tratamiento 2\n",
       "27 4.92   Tratamiento 2\n",
       "28 6.15   Tratamiento 2\n",
       "29 5.80   Tratamiento 2\n",
       "30 5.26   Tratamiento 2"
      ]
     },
     "metadata": {},
     "output_type": "display_data"
    }
   ],
   "source": [
    "#Tratamiento 2 vs Control\n",
    "PesoPlantas2<-PesoPlantas[PesoPlantas$group!=\"Tratamiento 1\",]\n",
    "ANOVA2<-aov(weight~group, data=PesoPlantas2)\n",
    "summary(ANOVA2)\n",
    "PesoPlantas2"
   ]
  },
  {
   "cell_type": "code",
   "execution_count": 27,
   "metadata": {},
   "outputs": [
    {
     "data": {
      "text/plain": [
       "            Df Sum Sq Mean Sq F value  Pr(>F)   \n",
       "group        1  3.741   3.741   9.061 0.00752 **\n",
       "Residuals   18  7.432   0.413                   \n",
       "---\n",
       "Signif. codes:  0 '***' 0.001 '**' 0.01 '*' 0.05 '.' 0.1 ' ' 1"
      ]
     },
     "metadata": {},
     "output_type": "display_data"
    },
    {
     "data": {
      "text/html": [
       "<table>\n",
       "<caption>A data.frame: 20 × 2</caption>\n",
       "<thead>\n",
       "\t<tr><th></th><th scope=col>weight</th><th scope=col>group</th></tr>\n",
       "\t<tr><th></th><th scope=col>&lt;dbl&gt;</th><th scope=col>&lt;fct&gt;</th></tr>\n",
       "</thead>\n",
       "<tbody>\n",
       "\t<tr><th scope=row>11</th><td>4.81</td><td>Tratamiento 1</td></tr>\n",
       "\t<tr><th scope=row>12</th><td>4.17</td><td>Tratamiento 1</td></tr>\n",
       "\t<tr><th scope=row>13</th><td>4.41</td><td>Tratamiento 1</td></tr>\n",
       "\t<tr><th scope=row>14</th><td>3.59</td><td>Tratamiento 1</td></tr>\n",
       "\t<tr><th scope=row>15</th><td>5.87</td><td>Tratamiento 1</td></tr>\n",
       "\t<tr><th scope=row>16</th><td>3.83</td><td>Tratamiento 1</td></tr>\n",
       "\t<tr><th scope=row>17</th><td>6.03</td><td>Tratamiento 1</td></tr>\n",
       "\t<tr><th scope=row>18</th><td>4.89</td><td>Tratamiento 1</td></tr>\n",
       "\t<tr><th scope=row>19</th><td>4.32</td><td>Tratamiento 1</td></tr>\n",
       "\t<tr><th scope=row>20</th><td>4.69</td><td>Tratamiento 1</td></tr>\n",
       "\t<tr><th scope=row>21</th><td>6.31</td><td>Tratamiento 2</td></tr>\n",
       "\t<tr><th scope=row>22</th><td>5.12</td><td>Tratamiento 2</td></tr>\n",
       "\t<tr><th scope=row>23</th><td>5.54</td><td>Tratamiento 2</td></tr>\n",
       "\t<tr><th scope=row>24</th><td>5.50</td><td>Tratamiento 2</td></tr>\n",
       "\t<tr><th scope=row>25</th><td>5.37</td><td>Tratamiento 2</td></tr>\n",
       "\t<tr><th scope=row>26</th><td>5.29</td><td>Tratamiento 2</td></tr>\n",
       "\t<tr><th scope=row>27</th><td>4.92</td><td>Tratamiento 2</td></tr>\n",
       "\t<tr><th scope=row>28</th><td>6.15</td><td>Tratamiento 2</td></tr>\n",
       "\t<tr><th scope=row>29</th><td>5.80</td><td>Tratamiento 2</td></tr>\n",
       "\t<tr><th scope=row>30</th><td>5.26</td><td>Tratamiento 2</td></tr>\n",
       "</tbody>\n",
       "</table>\n"
      ],
      "text/latex": [
       "A data.frame: 20 × 2\n",
       "\\begin{tabular}{r|ll}\n",
       "  & weight & group\\\\\n",
       "  & <dbl> & <fct>\\\\\n",
       "\\hline\n",
       "\t11 & 4.81 & Tratamiento 1\\\\\n",
       "\t12 & 4.17 & Tratamiento 1\\\\\n",
       "\t13 & 4.41 & Tratamiento 1\\\\\n",
       "\t14 & 3.59 & Tratamiento 1\\\\\n",
       "\t15 & 5.87 & Tratamiento 1\\\\\n",
       "\t16 & 3.83 & Tratamiento 1\\\\\n",
       "\t17 & 6.03 & Tratamiento 1\\\\\n",
       "\t18 & 4.89 & Tratamiento 1\\\\\n",
       "\t19 & 4.32 & Tratamiento 1\\\\\n",
       "\t20 & 4.69 & Tratamiento 1\\\\\n",
       "\t21 & 6.31 & Tratamiento 2\\\\\n",
       "\t22 & 5.12 & Tratamiento 2\\\\\n",
       "\t23 & 5.54 & Tratamiento 2\\\\\n",
       "\t24 & 5.50 & Tratamiento 2\\\\\n",
       "\t25 & 5.37 & Tratamiento 2\\\\\n",
       "\t26 & 5.29 & Tratamiento 2\\\\\n",
       "\t27 & 4.92 & Tratamiento 2\\\\\n",
       "\t28 & 6.15 & Tratamiento 2\\\\\n",
       "\t29 & 5.80 & Tratamiento 2\\\\\n",
       "\t30 & 5.26 & Tratamiento 2\\\\\n",
       "\\end{tabular}\n"
      ],
      "text/markdown": [
       "\n",
       "A data.frame: 20 × 2\n",
       "\n",
       "| <!--/--> | weight &lt;dbl&gt; | group &lt;fct&gt; |\n",
       "|---|---|---|\n",
       "| 11 | 4.81 | Tratamiento 1 |\n",
       "| 12 | 4.17 | Tratamiento 1 |\n",
       "| 13 | 4.41 | Tratamiento 1 |\n",
       "| 14 | 3.59 | Tratamiento 1 |\n",
       "| 15 | 5.87 | Tratamiento 1 |\n",
       "| 16 | 3.83 | Tratamiento 1 |\n",
       "| 17 | 6.03 | Tratamiento 1 |\n",
       "| 18 | 4.89 | Tratamiento 1 |\n",
       "| 19 | 4.32 | Tratamiento 1 |\n",
       "| 20 | 4.69 | Tratamiento 1 |\n",
       "| 21 | 6.31 | Tratamiento 2 |\n",
       "| 22 | 5.12 | Tratamiento 2 |\n",
       "| 23 | 5.54 | Tratamiento 2 |\n",
       "| 24 | 5.50 | Tratamiento 2 |\n",
       "| 25 | 5.37 | Tratamiento 2 |\n",
       "| 26 | 5.29 | Tratamiento 2 |\n",
       "| 27 | 4.92 | Tratamiento 2 |\n",
       "| 28 | 6.15 | Tratamiento 2 |\n",
       "| 29 | 5.80 | Tratamiento 2 |\n",
       "| 30 | 5.26 | Tratamiento 2 |\n",
       "\n"
      ],
      "text/plain": [
       "   weight group        \n",
       "11 4.81   Tratamiento 1\n",
       "12 4.17   Tratamiento 1\n",
       "13 4.41   Tratamiento 1\n",
       "14 3.59   Tratamiento 1\n",
       "15 5.87   Tratamiento 1\n",
       "16 3.83   Tratamiento 1\n",
       "17 6.03   Tratamiento 1\n",
       "18 4.89   Tratamiento 1\n",
       "19 4.32   Tratamiento 1\n",
       "20 4.69   Tratamiento 1\n",
       "21 6.31   Tratamiento 2\n",
       "22 5.12   Tratamiento 2\n",
       "23 5.54   Tratamiento 2\n",
       "24 5.50   Tratamiento 2\n",
       "25 5.37   Tratamiento 2\n",
       "26 5.29   Tratamiento 2\n",
       "27 4.92   Tratamiento 2\n",
       "28 6.15   Tratamiento 2\n",
       "29 5.80   Tratamiento 2\n",
       "30 5.26   Tratamiento 2"
      ]
     },
     "metadata": {},
     "output_type": "display_data"
    }
   ],
   "source": [
    "#Tratamiento 1 vs Tratamiento 2\n",
    "PesoPlantas3<-PesoPlantas[PesoPlantas$group!=\"Control\",]\n",
    "ANOVA3<-aov(weight~group, data=PesoPlantas3)\n",
    "summary(ANOVA3)\n",
    "PesoPlantas3"
   ]
  },
  {
   "cell_type": "code",
   "execution_count": 42,
   "metadata": {},
   "outputs": [
    {
     "data": {
      "text/plain": [
       "            Df Sum Sq Mean Sq F value Pr(>F)  \n",
       "group        1  2.136  2.1360    7.49 0.0146 *\n",
       "Residuals   16  4.563  0.2852                 \n",
       "---\n",
       "Signif. codes:  0 '***' 0.001 '**' 0.01 '*' 0.05 '.' 0.1 ' ' 1"
      ]
     },
     "metadata": {},
     "output_type": "display_data"
    },
    {
     "data": {
      "text/html": [
       "<table>\n",
       "<caption>A data.frame: 18 × 2</caption>\n",
       "<thead>\n",
       "\t<tr><th></th><th scope=col>weight</th><th scope=col>group</th></tr>\n",
       "\t<tr><th></th><th scope=col>&lt;dbl&gt;</th><th scope=col>&lt;fct&gt;</th></tr>\n",
       "</thead>\n",
       "<tbody>\n",
       "\t<tr><th scope=row>1</th><td>4.17</td><td>Control      </td></tr>\n",
       "\t<tr><th scope=row>2</th><td>5.58</td><td>Control      </td></tr>\n",
       "\t<tr><th scope=row>3</th><td>5.18</td><td>Control      </td></tr>\n",
       "\t<tr><th scope=row>4</th><td>6.11</td><td>Control      </td></tr>\n",
       "\t<tr><th scope=row>5</th><td>4.50</td><td>Control      </td></tr>\n",
       "\t<tr><th scope=row>6</th><td>4.61</td><td>Control      </td></tr>\n",
       "\t<tr><th scope=row>7</th><td>5.17</td><td>Control      </td></tr>\n",
       "\t<tr><th scope=row>8</th><td>4.53</td><td>Control      </td></tr>\n",
       "\t<tr><th scope=row>9</th><td>5.33</td><td>Control      </td></tr>\n",
       "\t<tr><th scope=row>10</th><td>5.14</td><td>Control      </td></tr>\n",
       "\t<tr><th scope=row>11</th><td>4.81</td><td>Tratamiento 1</td></tr>\n",
       "\t<tr><th scope=row>12</th><td>4.17</td><td>Tratamiento 1</td></tr>\n",
       "\t<tr><th scope=row>13</th><td>4.41</td><td>Tratamiento 1</td></tr>\n",
       "\t<tr><th scope=row>14</th><td>3.59</td><td>Tratamiento 1</td></tr>\n",
       "\t<tr><th scope=row>16</th><td>3.83</td><td>Tratamiento 1</td></tr>\n",
       "\t<tr><th scope=row>18</th><td>4.89</td><td>Tratamiento 1</td></tr>\n",
       "\t<tr><th scope=row>19</th><td>4.32</td><td>Tratamiento 1</td></tr>\n",
       "\t<tr><th scope=row>20</th><td>4.69</td><td>Tratamiento 1</td></tr>\n",
       "</tbody>\n",
       "</table>\n"
      ],
      "text/latex": [
       "A data.frame: 18 × 2\n",
       "\\begin{tabular}{r|ll}\n",
       "  & weight & group\\\\\n",
       "  & <dbl> & <fct>\\\\\n",
       "\\hline\n",
       "\t1 & 4.17 & Control      \\\\\n",
       "\t2 & 5.58 & Control      \\\\\n",
       "\t3 & 5.18 & Control      \\\\\n",
       "\t4 & 6.11 & Control      \\\\\n",
       "\t5 & 4.50 & Control      \\\\\n",
       "\t6 & 4.61 & Control      \\\\\n",
       "\t7 & 5.17 & Control      \\\\\n",
       "\t8 & 4.53 & Control      \\\\\n",
       "\t9 & 5.33 & Control      \\\\\n",
       "\t10 & 5.14 & Control      \\\\\n",
       "\t11 & 4.81 & Tratamiento 1\\\\\n",
       "\t12 & 4.17 & Tratamiento 1\\\\\n",
       "\t13 & 4.41 & Tratamiento 1\\\\\n",
       "\t14 & 3.59 & Tratamiento 1\\\\\n",
       "\t16 & 3.83 & Tratamiento 1\\\\\n",
       "\t18 & 4.89 & Tratamiento 1\\\\\n",
       "\t19 & 4.32 & Tratamiento 1\\\\\n",
       "\t20 & 4.69 & Tratamiento 1\\\\\n",
       "\\end{tabular}\n"
      ],
      "text/markdown": [
       "\n",
       "A data.frame: 18 × 2\n",
       "\n",
       "| <!--/--> | weight &lt;dbl&gt; | group &lt;fct&gt; |\n",
       "|---|---|---|\n",
       "| 1 | 4.17 | Control       |\n",
       "| 2 | 5.58 | Control       |\n",
       "| 3 | 5.18 | Control       |\n",
       "| 4 | 6.11 | Control       |\n",
       "| 5 | 4.50 | Control       |\n",
       "| 6 | 4.61 | Control       |\n",
       "| 7 | 5.17 | Control       |\n",
       "| 8 | 4.53 | Control       |\n",
       "| 9 | 5.33 | Control       |\n",
       "| 10 | 5.14 | Control       |\n",
       "| 11 | 4.81 | Tratamiento 1 |\n",
       "| 12 | 4.17 | Tratamiento 1 |\n",
       "| 13 | 4.41 | Tratamiento 1 |\n",
       "| 14 | 3.59 | Tratamiento 1 |\n",
       "| 16 | 3.83 | Tratamiento 1 |\n",
       "| 18 | 4.89 | Tratamiento 1 |\n",
       "| 19 | 4.32 | Tratamiento 1 |\n",
       "| 20 | 4.69 | Tratamiento 1 |\n",
       "\n"
      ],
      "text/plain": [
       "   weight group        \n",
       "1  4.17   Control      \n",
       "2  5.58   Control      \n",
       "3  5.18   Control      \n",
       "4  6.11   Control      \n",
       "5  4.50   Control      \n",
       "6  4.61   Control      \n",
       "7  5.17   Control      \n",
       "8  4.53   Control      \n",
       "9  5.33   Control      \n",
       "10 5.14   Control      \n",
       "11 4.81   Tratamiento 1\n",
       "12 4.17   Tratamiento 1\n",
       "13 4.41   Tratamiento 1\n",
       "14 3.59   Tratamiento 1\n",
       "16 3.83   Tratamiento 1\n",
       "18 4.89   Tratamiento 1\n",
       "19 4.32   Tratamiento 1\n",
       "20 4.69   Tratamiento 1"
      ]
     },
     "metadata": {},
     "output_type": "display_data"
    }
   ],
   "source": [
    "#Discusión Outliers\n",
    "PesoPlantas1.0<-PesoPlantas[PesoPlantas$group!=\"Tratamiento 2\",]\n",
    "PesoPlantas1.1<-PesoPlantas1.0[PesoPlantas1.0$weight!=6.03,]\n",
    "PesoPlantas1.1.1<-PesoPlantas1.1[PesoPlantas1.1$weight!=5.87,]\n",
    "ANOVA1.1<-aov(weight~group, data=PesoPlantas1.1.1)\n",
    "summary(ANOVA1.1)\n",
    "PesoPlantas1.1.1"
   ]
  },
  {
   "cell_type": "code",
   "execution_count": 40,
   "metadata": {},
   "outputs": [
    {
     "data": {
      "text/plain": [
       "     weight                group  \n",
       " Min.   :3.590   Control      :0  \n",
       " 1st Qu.:4.085   Tratamiento 1:8  \n",
       " Median :4.365   Tratamiento 2:0  \n",
       " Mean   :4.339                    \n",
       " 3rd Qu.:4.720                    \n",
       " Max.   :4.890                    "
      ]
     },
     "metadata": {},
     "output_type": "display_data"
    },
    {
     "data": {
      "image/png": "[encoded data removed]",
      "text/plain": [
       "plot without title"
      ]
     },
     "metadata": {
      "image/png": {
       "height": 420,
       "width": 420
      }
     },
     "output_type": "display_data"
    }
   ],
   "source": [
    "#Discusión Outliers del tratamiento1\n",
    "outliers<-PesoPlantas[PesoPlantas$weight!=6.03,]\n",
    "Nooutliers<-outliers[outliers$weight!=5.87,]\n",
    "Nooutliers1<-Nooutliers[Nooutliers$group==\"Tratamiento 1\",]\n",
    "summary(Nooutliers1)\n",
    "\n",
    "ggplot(Nooutliers, aes(x = group, y = weight)) +\n",
    "  geom_boxplot(fill = \"grey80\", colour = \"blue\") +\n",
    "  scale_x_discrete() + xlab(\"Tratamientos\") +\n",
    "  ylab(\"Peso\")"
   ]
  },
  {
   "cell_type": "markdown",
   "metadata": {},
   "source": [
    "# Comprobación y visualización de los datos\n",
    "\n",
    "El dataset “PlantGrowth” está compuesto de 30 datos del peso seco de plantas y del tipo de tratamiento que se les a dado. La idea detrás de esto es que puedas comparar el tratamiento utilizado para ver si hay diferencias.\n",
    "\n",
    "Hay 10 valores en los cuales no se a aplicado ningún tratamiento (Control), 10 valores a los cuales se les ha aplicado el tratamiento 1 y 10 valores que se les ha aplicado el tratamiento 2.\n",
    "\n",
    "Si nos fijamos en la media total no podemos obtener nada en claro, ya que esta calculando esa media con los valores de los dos tratamientos y el control. Ahora bien, si separamos los datos en tipos de tratamientos, ya podemos sacar más conclusiones. Primeramente, podemos observar que la media del tratamiento 2 es la mayor y es ligeramente más grande que el control, eso si la diferencia entre los dos tratamientos al representar los datos en boxplot se hace muy notoria. Se puede decir visualmente que hay diferencia entre los dos tratamientos y que el tratamiento 2 da mejores resultados que el 1. Cabe destacar, que en el caso de los datos con el tratamiento 1 hay dos valores (weight=6.03 y 5.87) que podríamos clasificarlos como “outliers” ya que se alejan mucho de la media y en el boxplot se ve claramente. Al tener tan pocos valores estos “outliers” modifican mucho el valor de la media del tratamiento 1. Hay que discutir si podemos eliminar o no estos valores, estaría bien conocer más el ámbito de como se han tomado estos datos para saber si ha podido haber error o no.\n"
   ]
  },
  {
   "cell_type": "markdown",
   "metadata": {},
   "source": [
    "# Discusión ANOVA\n",
    "\n",
    "Primeramente, hemos realizado el test ANOVA general comparando todos los tratamientos juntos, con resultados bastante significativos, es decir que se puede decir con bastante certeza que los tratamientos son diferentes entre sí. Exactamente se puede decir con una probabilidad de 98.4% de que los tratamientos son diferentes (fijándonos en el p valor). \n",
    "\n",
    "Seguidamente para sacar conclusiones más precisas, he visto conveniente realizar el test ANOVA comparando todos los campos posibles (Control vs Tratamiento 1 y 2 y, finalmente, Tratamiento 1 vs Tratamiento 2).\n",
    "\n",
    "Podemos observar como el test ANOVA del control respecto al Tratamiento 1 no difieren mucho el uno del otro, es decir no podemos asegurar con total certeza de que el tratamiento 1 es diferente que el Control. Se obtiene un F-value pequeño y el p valor es poco significativo te asegura con un 75% que son diferentes el control del Tratamiento 1 (la probabilidad de equivocarse al asegurar que son diferentes es muy alta). “Se podría decir con una certeza del 75% de que el Tratamiento 1 es peor que no aplicar ningún tratamiento (Control)”.\n",
    "\n",
    "Al realizar el test ANOVA del control respecto al Tratamiento 2 obtenemos valores bastante significativos. Podríamos asegurar con bastante certeza de que son diferentes el control del Tratamiento 2. “Podemos decir con un 95% de certeza de que el Tratamiento 2 mejora el peso de las plantas”.\n",
    "\n",
    "Finalmente, si comparamos los dos tratamientos teniendo en cuenta de que el Tratamiento 1 es diferente que el Control, obtenemos al realizar el test ANOVA valores muy significativos de que son tratamientos diferentes y de que el tratamiento 2, por lo tanto, es mejor. Observamos el p valor muy significativo (Probabilidad de que sean iguales de menos del 1%) y un F-valor muy elevado. \"Se podría decir con un 99.2% de que el Tratamiento 2 es mejor qu el Tratamiento 1\"\n",
    "\n",
    "Para estar más seguro de que el tratamiento 1 es diferente al control podemos comprobar que al eliminar los “outliers” el test ANOVA de Control respecto al Tratamiento 1 es mucho más significativo. Exactamente puedes asegurar de que el Tratamiento 1 es peor que no realizar ningún tratamiento con una certeza del 98.5%. Y puedes concluir que si se decide eliminar los “outliers” los resultados del test ANOVA serán más significativos porque alejarán la media del Tratamiento 1 del Control y el Tratamiento 2.\n",
    "\n",
    "Personalmente al no conocer bajo que condiciones se han obtenido estos datos no puedo decidir si es mejor eliminarlos o no los “outliers”. Por suerte, si no los eliminas se puede asegurar con bastante certeza de que los dos tratamientos son diferentes y difieren mucho el uno del otro. Y en este caso, se recomendaría utilizar el tratamiento 2 para las plantas si lo que quieres es mejorar su crecimiento, claro está. \n"
   ]
  },
  {
   "cell_type": "code",
   "execution_count": null,
   "metadata": {},
   "outputs": [],
   "source": []
  }
 ],
 "metadata": {
  "kernelspec": {
   "display_name": "R",
   "language": "R",
   "name": "ir"
  },
  "language_info": {
   "codemirror_mode": "r",
   "file_extension": ".r",
   "mimetype": "text/x-r-source",
   "name": "R",
   "pygments_lexer": "r",
   "version": "3.6.1"
  }
 },
 "nbformat": 4,
 "nbformat_minor": 4
}
