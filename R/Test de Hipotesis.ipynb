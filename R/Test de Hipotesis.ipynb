{
 "cells": [
  {
   "cell_type": "code",
   "execution_count": 17,
   "metadata": {},
   "outputs": [],
   "source": [
    "library(dplyr)\n",
    "library(MASS)\n",
    "library(class)"
   ]
  },
  {
   "cell_type": "code",
   "execution_count": 18,
   "metadata": {
    "scrolled": true
   },
   "outputs": [
    {
     "data": {
      "text/html": [
       "<table>\n",
       "<caption>A data.frame: 6 × 3</caption>\n",
       "<thead>\n",
       "\t<tr><th></th><th scope=col>ï..Reference</th><th scope=col>Order.Value</th><th scope=col>Group</th></tr>\n",
       "\t<tr><th></th><th scope=col>&lt;int&gt;</th><th scope=col>&lt;dbl&gt;</th><th scope=col>&lt;int&gt;</th></tr>\n",
       "</thead>\n",
       "<tbody>\n",
       "\t<tr><th scope=row>1</th><td>570554</td><td>0.38</td><td>1</td></tr>\n",
       "\t<tr><th scope=row>2</th><td>567869</td><td>0.40</td><td>0</td></tr>\n",
       "\t<tr><th scope=row>3</th><td>539441</td><td>0.42</td><td>0</td></tr>\n",
       "\t<tr><th scope=row>4</th><td>542736</td><td>0.55</td><td>0</td></tr>\n",
       "\t<tr><th scope=row>5</th><td>573589</td><td>0.55</td><td>0</td></tr>\n",
       "\t<tr><th scope=row>6</th><td>540833</td><td>0.65</td><td>1</td></tr>\n",
       "</tbody>\n",
       "</table>\n"
      ],
      "text/latex": [
       "A data.frame: 6 × 3\n",
       "\\begin{tabular}{r|lll}\n",
       "  & ï..Reference & Order.Value & Group\\\\\n",
       "  & <int> & <dbl> & <int>\\\\\n",
       "\\hline\n",
       "\t1 & 570554 & 0.38 & 1\\\\\n",
       "\t2 & 567869 & 0.40 & 0\\\\\n",
       "\t3 & 539441 & 0.42 & 0\\\\\n",
       "\t4 & 542736 & 0.55 & 0\\\\\n",
       "\t5 & 573589 & 0.55 & 0\\\\\n",
       "\t6 & 540833 & 0.65 & 1\\\\\n",
       "\\end{tabular}\n"
      ],
      "text/markdown": [
       "\n",
       "A data.frame: 6 × 3\n",
       "\n",
       "| <!--/--> | ï..Reference &lt;int&gt; | Order.Value &lt;dbl&gt; | Group &lt;int&gt; |\n",
       "|---|---|---|---|\n",
       "| 1 | 570554 | 0.38 | 1 |\n",
       "| 2 | 567869 | 0.40 | 0 |\n",
       "| 3 | 539441 | 0.42 | 0 |\n",
       "| 4 | 542736 | 0.55 | 0 |\n",
       "| 5 | 573589 | 0.55 | 0 |\n",
       "| 6 | 540833 | 0.65 | 1 |\n",
       "\n"
      ],
      "text/plain": [
       "  ï..Reference Order.Value Group\n",
       "1 570554       0.38        1    \n",
       "2 567869       0.40        0    \n",
       "3 539441       0.42        0    \n",
       "4 542736       0.55        0    \n",
       "5 573589       0.55        0    \n",
       "6 540833       0.65        1    "
      ]
     },
     "metadata": {},
     "output_type": "display_data"
    },
    {
     "data": {
      "text/html": [
       "<table>\n",
       "<caption>A data.frame: 6 × 3</caption>\n",
       "<thead>\n",
       "\t<tr><th></th><th scope=col>ï..Reference</th><th scope=col>Order.Value</th><th scope=col>Group</th></tr>\n",
       "\t<tr><th></th><th scope=col>&lt;int&gt;</th><th scope=col>&lt;dbl&gt;</th><th scope=col>&lt;int&gt;</th></tr>\n",
       "</thead>\n",
       "<tbody>\n",
       "\t<tr><th scope=row>11781</th><td>578315</td><td>9467.23</td><td>0</td></tr>\n",
       "\t<tr><th scope=row>11782</th><td>551698</td><td>9468.60</td><td>1</td></tr>\n",
       "\t<tr><th scope=row>11783</th><td>556090</td><td>9471.27</td><td>0</td></tr>\n",
       "\t<tr><th scope=row>11784</th><td>537253</td><td>9473.16</td><td>1</td></tr>\n",
       "\t<tr><th scope=row>11785</th><td>554094</td><td>9475.20</td><td>1</td></tr>\n",
       "\t<tr><th scope=row>11786</th><td>557888</td><td>9476.80</td><td>1</td></tr>\n",
       "</tbody>\n",
       "</table>\n"
      ],
      "text/latex": [
       "A data.frame: 6 × 3\n",
       "\\begin{tabular}{r|lll}\n",
       "  & ï..Reference & Order.Value & Group\\\\\n",
       "  & <int> & <dbl> & <int>\\\\\n",
       "\\hline\n",
       "\t11781 & 578315 & 9467.23 & 0\\\\\n",
       "\t11782 & 551698 & 9468.60 & 1\\\\\n",
       "\t11783 & 556090 & 9471.27 & 0\\\\\n",
       "\t11784 & 537253 & 9473.16 & 1\\\\\n",
       "\t11785 & 554094 & 9475.20 & 1\\\\\n",
       "\t11786 & 557888 & 9476.80 & 1\\\\\n",
       "\\end{tabular}\n"
      ],
      "text/markdown": [
       "\n",
       "A data.frame: 6 × 3\n",
       "\n",
       "| <!--/--> | ï..Reference &lt;int&gt; | Order.Value &lt;dbl&gt; | Group &lt;int&gt; |\n",
       "|---|---|---|---|\n",
       "| 11781 | 578315 | 9467.23 | 0 |\n",
       "| 11782 | 551698 | 9468.60 | 1 |\n",
       "| 11783 | 556090 | 9471.27 | 0 |\n",
       "| 11784 | 537253 | 9473.16 | 1 |\n",
       "| 11785 | 554094 | 9475.20 | 1 |\n",
       "| 11786 | 557888 | 9476.80 | 1 |\n",
       "\n"
      ],
      "text/plain": [
       "      ï..Reference Order.Value Group\n",
       "11781 578315       9467.23     0    \n",
       "11782 551698       9468.60     1    \n",
       "11783 556090       9471.27     0    \n",
       "11784 537253       9473.16     1    \n",
       "11785 554094       9475.20     1    \n",
       "11786 557888       9476.80     1    "
      ]
     },
     "metadata": {},
     "output_type": "display_data"
    },
    {
     "data": {
      "text/html": [
       "<style>\n",
       ".list-inline {list-style: none; margin:0; padding: 0}\n",
       ".list-inline>li {display: inline-block}\n",
       ".list-inline>li:not(:last-child)::after {content: \"\\00b7\"; padding: 0 .5ex}\n",
       "</style>\n",
       "<ol class=list-inline><li>'ï..Reference'</li><li>'Order.Value'</li><li>'Group'</li></ol>\n"
      ],
      "text/latex": [
       "\\begin{enumerate*}\n",
       "\\item 'ï..Reference'\n",
       "\\item 'Order.Value'\n",
       "\\item 'Group'\n",
       "\\end{enumerate*}\n"
      ],
      "text/markdown": [
       "1. 'ï..Reference'\n",
       "2. 'Order.Value'\n",
       "3. 'Group'\n",
       "\n",
       "\n"
      ],
      "text/plain": [
       "[1] \"ï..Reference\" \"Order.Value\"  \"Group\"       "
      ]
     },
     "metadata": {},
     "output_type": "display_data"
    }
   ],
   "source": [
    "#importamos el archivo (He cambiado el nombre del archivo de csv a b2b, más fácil)\n",
    "b2b<-read.csv(file=\"b2b.csv\", head=TRUE, sep=\",\")\n",
    "head(b2b)\n",
    "tail(b2b)\n",
    "names(b2b)"
   ]
  },
  {
   "cell_type": "code",
   "execution_count": 63,
   "metadata": {},
   "outputs": [
    {
     "data": {
      "text/html": [
       "<table>\n",
       "<caption>A data.frame: 6 × 3</caption>\n",
       "<thead>\n",
       "\t<tr><th></th><th scope=col>ï..Reference</th><th scope=col>Order.Value</th><th scope=col>Group</th></tr>\n",
       "\t<tr><th></th><th scope=col>&lt;int&gt;</th><th scope=col>&lt;dbl&gt;</th><th scope=col>&lt;int&gt;</th></tr>\n",
       "</thead>\n",
       "<tbody>\n",
       "\t<tr><th scope=row>2</th><td>567869</td><td>0.40</td><td>0</td></tr>\n",
       "\t<tr><th scope=row>3</th><td>539441</td><td>0.42</td><td>0</td></tr>\n",
       "\t<tr><th scope=row>4</th><td>542736</td><td>0.55</td><td>0</td></tr>\n",
       "\t<tr><th scope=row>5</th><td>573589</td><td>0.55</td><td>0</td></tr>\n",
       "\t<tr><th scope=row>10</th><td>540945</td><td>0.85</td><td>0</td></tr>\n",
       "\t<tr><th scope=row>11</th><td>544438</td><td>0.85</td><td>0</td></tr>\n",
       "</tbody>\n",
       "</table>\n"
      ],
      "text/latex": [
       "A data.frame: 6 × 3\n",
       "\\begin{tabular}{r|lll}\n",
       "  & ï..Reference & Order.Value & Group\\\\\n",
       "  & <int> & <dbl> & <int>\\\\\n",
       "\\hline\n",
       "\t2 & 567869 & 0.40 & 0\\\\\n",
       "\t3 & 539441 & 0.42 & 0\\\\\n",
       "\t4 & 542736 & 0.55 & 0\\\\\n",
       "\t5 & 573589 & 0.55 & 0\\\\\n",
       "\t10 & 540945 & 0.85 & 0\\\\\n",
       "\t11 & 544438 & 0.85 & 0\\\\\n",
       "\\end{tabular}\n"
      ],
      "text/markdown": [
       "\n",
       "A data.frame: 6 × 3\n",
       "\n",
       "| <!--/--> | ï..Reference &lt;int&gt; | Order.Value &lt;dbl&gt; | Group &lt;int&gt; |\n",
       "|---|---|---|---|\n",
       "| 2 | 567869 | 0.40 | 0 |\n",
       "| 3 | 539441 | 0.42 | 0 |\n",
       "| 4 | 542736 | 0.55 | 0 |\n",
       "| 5 | 573589 | 0.55 | 0 |\n",
       "| 10 | 540945 | 0.85 | 0 |\n",
       "| 11 | 544438 | 0.85 | 0 |\n",
       "\n"
      ],
      "text/plain": [
       "   ï..Reference Order.Value Group\n",
       "2  567869       0.40        0    \n",
       "3  539441       0.42        0    \n",
       "4  542736       0.55        0    \n",
       "5  573589       0.55        0    \n",
       "10 540945       0.85        0    \n",
       "11 544438       0.85        0    "
      ]
     },
     "metadata": {},
     "output_type": "display_data"
    },
    {
     "data": {
      "text/html": [
       "<table>\n",
       "<caption>A data.frame: 6 × 3</caption>\n",
       "<thead>\n",
       "\t<tr><th></th><th scope=col>ï..Reference</th><th scope=col>Order.Value</th><th scope=col>Group</th></tr>\n",
       "\t<tr><th></th><th scope=col>&lt;int&gt;</th><th scope=col>&lt;dbl&gt;</th><th scope=col>&lt;int&gt;</th></tr>\n",
       "</thead>\n",
       "<tbody>\n",
       "\t<tr><th scope=row>1</th><td>570554</td><td>0.38</td><td>1</td></tr>\n",
       "\t<tr><th scope=row>6</th><td>540833</td><td>0.65</td><td>1</td></tr>\n",
       "\t<tr><th scope=row>7</th><td>560217</td><td>0.79</td><td>1</td></tr>\n",
       "\t<tr><th scope=row>8</th><td>542136</td><td>0.84</td><td>1</td></tr>\n",
       "\t<tr><th scope=row>9</th><td>549534</td><td>0.84</td><td>1</td></tr>\n",
       "\t<tr><th scope=row>13</th><td>551538</td><td>0.85</td><td>1</td></tr>\n",
       "</tbody>\n",
       "</table>\n"
      ],
      "text/latex": [
       "A data.frame: 6 × 3\n",
       "\\begin{tabular}{r|lll}\n",
       "  & ï..Reference & Order.Value & Group\\\\\n",
       "  & <int> & <dbl> & <int>\\\\\n",
       "\\hline\n",
       "\t1 & 570554 & 0.38 & 1\\\\\n",
       "\t6 & 540833 & 0.65 & 1\\\\\n",
       "\t7 & 560217 & 0.79 & 1\\\\\n",
       "\t8 & 542136 & 0.84 & 1\\\\\n",
       "\t9 & 549534 & 0.84 & 1\\\\\n",
       "\t13 & 551538 & 0.85 & 1\\\\\n",
       "\\end{tabular}\n"
      ],
      "text/markdown": [
       "\n",
       "A data.frame: 6 × 3\n",
       "\n",
       "| <!--/--> | ï..Reference &lt;int&gt; | Order.Value &lt;dbl&gt; | Group &lt;int&gt; |\n",
       "|---|---|---|---|\n",
       "| 1 | 570554 | 0.38 | 1 |\n",
       "| 6 | 540833 | 0.65 | 1 |\n",
       "| 7 | 560217 | 0.79 | 1 |\n",
       "| 8 | 542136 | 0.84 | 1 |\n",
       "| 9 | 549534 | 0.84 | 1 |\n",
       "| 13 | 551538 | 0.85 | 1 |\n",
       "\n"
      ],
      "text/plain": [
       "   ï..Reference Order.Value Group\n",
       "1  570554       0.38        1    \n",
       "6  540833       0.65        1    \n",
       "7  560217       0.79        1    \n",
       "8  542136       0.84        1    \n",
       "9  549534       0.84        1    \n",
       "13 551538       0.85        1    "
      ]
     },
     "metadata": {},
     "output_type": "display_data"
    },
    {
     "data": {
      "text/plain": [
       "  ï..Reference     Order.Value         Group  \n",
       " Min.   :536365   Min.   :   0.4   Min.   :0  \n",
       " 1st Qu.:547524   1st Qu.: 475.2   1st Qu.:0  \n",
       " Median :558622   Median :2170.6   Median :0  \n",
       " Mean   :558874   Mean   :3024.8   Mean   :0  \n",
       " 3rd Qu.:570255   3rd Qu.:5191.5   3rd Qu.:0  \n",
       " Max.   :581587   Max.   :9471.3   Max.   :0  "
      ]
     },
     "metadata": {},
     "output_type": "display_data"
    },
    {
     "data": {
      "text/plain": [
       "  ï..Reference     Order.Value          Group  \n",
       " Min.   :536366   Min.   :   0.38   Min.   :1  \n",
       " 1st Qu.:547647   1st Qu.: 601.39   1st Qu.:1  \n",
       " Median :558632   Median :2526.08   Median :1  \n",
       " Mean   :558891   Mean   :3173.84   Mean   :1  \n",
       " 3rd Qu.:570406   3rd Qu.:5283.07   3rd Qu.:1  \n",
       " Max.   :581583   Max.   :9476.80   Max.   :1  "
      ]
     },
     "metadata": {},
     "output_type": "display_data"
    }
   ],
   "source": [
    "#Separamos las clases de ventas, sistema de recomendación 1, sin sistema de recomendación 0\n",
    "b2b1<-b2b[b2b$Group==1,]\n",
    "b2b0<-b2b[b2b$Group==0,]\n",
    "head(b2b0)\n",
    "head(b2b1)\n",
    "summary(b2b0)\n",
    "summary(b2b1)\n",
    "total0=sum(b2b0$Order.Value)\n",
    "total1=sum(b2b1$Order.Value)"
   ]
  },
  {
   "cell_type": "code",
   "execution_count": 32,
   "metadata": {},
   "outputs": [
    {
     "data": {
      "image/png": "[encoded data removed]",
      "text/plain": [
       "Plot with title \"Histogram of b2b0$Order.Value\""
      ]
     },
     "metadata": {
      "image/png": {
       "height": 420,
       "width": 420
      }
     },
     "output_type": "display_data"
    },
    {
     "data": {
      "image/png": "[encoded data removed]",
      "text/plain": [
       "Plot with title \"Histogram of b2b1$Order.Value\""
      ]
     },
     "metadata": {
      "image/png": {
       "height": 420,
       "width": 420
      }
     },
     "output_type": "display_data"
    },
    {
     "data": {
      "image/png": "[encoded data removed]",
      "text/plain": [
       "Plot with title \"Histogram of b2b0$Order.Value\""
      ]
     },
     "metadata": {
      "image/png": {
       "height": 420,
       "width": 420
      }
     },
     "output_type": "display_data"
    }
   ],
   "source": [
    "#Realizamos hisotgramas de los precios de compra separado por el sistema de recomendación\n",
    "hist(b2b0$Order.Value)\n",
    "hist(b2b1$Order.Value)\n",
    "hist(b2b0$Order.Value, col=rgb(1,0,0,0.5), breaks=seq(0,10000,500), probability=T,)\n",
    "hist(b2b1$Order.Value, add=T, col=rgb(0,0,1,0.2), breaks=seq(0,10000,500), probability=T)"
   ]
  },
  {
   "cell_type": "code",
   "execution_count": 34,
   "metadata": {},
   "outputs": [
    {
     "data": {
      "image/png": "[encoded data removed]",
      "text/plain": [
       "Plot with title \"density.default(x = b2b0$Order.Value)\""
      ]
     },
     "metadata": {
      "image/png": {
       "height": 420,
       "width": 420
      }
     },
     "output_type": "display_data"
    }
   ],
   "source": [
    "#Realizamos un gráfico de densidad con lineas para ver más claro la diferéncia entre el sistema de ventas y sin\n",
    "plot(density(b2b0$Order.Value))\n",
    "lines(density(b2b1$Order.Value), )"
   ]
  },
  {
   "cell_type": "code",
   "execution_count": 39,
   "metadata": {},
   "outputs": [
    {
     "data": {
      "text/html": [
       "5502"
      ],
      "text/latex": [
       "5502"
      ],
      "text/markdown": [
       "5502"
      ],
      "text/plain": [
       "[1] 5502"
      ]
     },
     "metadata": {},
     "output_type": "display_data"
    },
    {
     "data": {
      "text/html": [
       "6284"
      ],
      "text/latex": [
       "6284"
      ],
      "text/markdown": [
       "6284"
      ],
      "text/plain": [
       "[1] 6284"
      ]
     },
     "metadata": {},
     "output_type": "display_data"
    },
    {
     "data": {
      "text/html": [
       "11786"
      ],
      "text/latex": [
       "11786"
      ],
      "text/markdown": [
       "11786"
      ],
      "text/plain": [
       "[1] 11786"
      ]
     },
     "metadata": {},
     "output_type": "display_data"
    }
   ],
   "source": [
    "#Estadisticos para demostrar si las hipotesis son diferentes\n",
    "n_0<-sum(b2b$Group==0)\n",
    "n_1<-sum(b2b$Group==1)\n",
    "n_0\n",
    "n_1\n",
    "n_total=n_0+n_1\n",
    "n_total #Vemos que concuerda con el total de datos del tail de la tabla que se mostraba más arriba\n"
   ]
  },
  {
   "cell_type": "code",
   "execution_count": 42,
   "metadata": {},
   "outputs": [
    {
     "data": {
      "text/html": [
       "3024.78710305344"
      ],
      "text/latex": [
       "3024.78710305344"
      ],
      "text/markdown": [
       "3024.78710305344"
      ],
      "text/plain": [
       "[1] 3024.787"
      ]
     },
     "metadata": {},
     "output_type": "display_data"
    },
    {
     "data": {
      "text/html": [
       "3173.83738064927"
      ],
      "text/latex": [
       "3173.83738064927"
      ],
      "text/markdown": [
       "3173.83738064927"
      ],
      "text/plain": [
       "[1] 3173.837"
      ]
     },
     "metadata": {},
     "output_type": "display_data"
    },
    {
     "data": {
      "text/html": [
       "2817.73072293973"
      ],
      "text/latex": [
       "2817.73072293973"
      ],
      "text/markdown": [
       "2817.73072293973"
      ],
      "text/plain": [
       "[1] 2817.731"
      ]
     },
     "metadata": {},
     "output_type": "display_data"
    },
    {
     "data": {
      "text/html": [
       "2795.30319709415"
      ],
      "text/latex": [
       "2795.30319709415"
      ],
      "text/markdown": [
       "2795.30319709415"
      ],
      "text/plain": [
       "[1] 2795.303"
      ]
     },
     "metadata": {},
     "output_type": "display_data"
    },
    {
     "data": {
      "text/html": [
       "1443.04006306769"
      ],
      "text/latex": [
       "1443.04006306769"
      ],
      "text/markdown": [
       "1443.04006306769"
      ],
      "text/plain": [
       "[1] 1443.04"
      ]
     },
     "metadata": {},
     "output_type": "display_data"
    }
   ],
   "source": [
    "mean0=mean(b2b0$Order.Value)\n",
    "mean0\n",
    "mean1=mean(b2b1$Order.Value)\n",
    "mean1\n",
    "sd0=sd(b2b0$Order.Value)\n",
    "sd0\n",
    "sd1=sd(b2b1$Order.Value)\n",
    "sd1\n",
    "\n",
    "sd0*sd0/n_0"
   ]
  },
  {
   "cell_type": "code",
   "execution_count": 53,
   "metadata": {},
   "outputs": [
    {
     "data": {
      "text/html": [
       "149.050277595833"
      ],
      "text/latex": [
       "149.050277595833"
      ],
      "text/markdown": [
       "149.050277595833"
      ],
      "text/plain": [
       "[1] 149.0503"
      ]
     },
     "metadata": {},
     "output_type": "display_data"
    },
    {
     "data": {
      "text/html": [
       "51.8311778083272"
      ],
      "text/latex": [
       "51.8311778083272"
      ],
      "text/markdown": [
       "51.8311778083272"
      ],
      "text/plain": [
       "[1] 51.83118"
      ]
     },
     "metadata": {},
     "output_type": "display_data"
    },
    {
     "data": {
      "text/html": [
       "2.87568764397027"
      ],
      "text/latex": [
       "2.87568764397027"
      ],
      "text/markdown": [
       "2.87568764397027"
      ],
      "text/plain": [
       "[1] 2.875688"
      ]
     },
     "metadata": {},
     "output_type": "display_data"
    },
    {
     "data": {
      "text/html": [
       "99.7984257792444"
      ],
      "text/latex": [
       "99.7984257792444"
      ],
      "text/markdown": [
       "99.7984257792444"
      ],
      "text/plain": [
       "[1] 99.79843"
      ]
     },
     "metadata": {},
     "output_type": "display_data"
    }
   ],
   "source": [
    "#Calculo Z\n",
    "delta_mu=mean1-mean0\n",
    "sddelta_mu=sqrt((sd0*sd0)/n_0+(sd1*sd1)/n_1)\n",
    "delta_mu\n",
    "sddelta_mu\n",
    "z=delta_mu/sddelta_mu\n",
    "z\n",
    "pnorm(z)*100"
   ]
  },
  {
   "cell_type": "markdown",
   "metadata": {},
   "source": [
    "Visualización y comprensión del dataset.\n",
    "\n",
    "Teniendo en cuenta solo los dos histogramas respecto al valor de venta (Order.Value) iniciales, podemos observar una distribución muy parecida. Casi puedes llegar a pensar que son bastante iguales las muestras con el sistema de ventas de las que no se aplica el sistema. Pero cuando superponemos los dos histogramas observamos como los valores con un sistema de ventas tienden a ser un poco más elevados que los que no tienen el sistema de ventas (Esto primeramente puede ser debido a que hay más muestras con el sistema de ventas). Más claro se observa al representar el gráfico de líneas de densidad respecto al valor de venta (Order.Value). Podemos observar como en los dos casos los valores de venta de 0 a 2000 son la mayoría, tanto en los histogramas como en el gráfico de líneas, pero se observa un incremento bastante elevado a las muestras que presentan un sistema de ventas. Por lo tanto, podemos pensar intuitivamente que el sistema de ventas hace mejorar las ventas."
   ]
  },
  {
   "cell_type": "markdown",
   "metadata": {},
   "source": [
    "Discutir si tenemos la misma distribución de ventas.\n",
    "\n",
    "Fijándonos en los histogramas podríamos llegar a pensar que al tener más valores con el sistema de ventas esto hace que los dos grupos de muestras sean prácticamente iguales. Pero si nos fijamos en las medias totales de valores de ventas (Oerder.value) podemos ver una clara diferencia. Observamos que con el sistema de ventas la media es 149,5 unidades más elevado que sin el sistema de ventas. También observando el primer y tercer quartil respecto a los valores que no se aplica el sistema de ventas observamos que son más bajos respecto a los que se aplica el sistema. Esto afirma en principio que con el sistema de ventas estas generando más beneficio que sin él."
   ]
  },
  {
   "cell_type": "markdown",
   "metadata": {},
   "source": [
    "Validar la hipótesis que la clase 1 tiene un valor de venta medio más alta (Hipotesis nula: el valor de venta de la clase 0 es igual al de la clase 1)\n",
    "\n",
    "Como bien hemos especificado anteriormente parece ser que con el sistema de ventas se genera un beneficio mayor por producto, tal como muestra la media. Ahora bien, para poder asegurar que las dos muestras (la del sistema de ventas respecto a la que no utiliza el sistema de ventas) son diferentes y que una es más elevada que la otra, realizamos los cálculos estadísticos y con el resultado de \"z\" podemos llegar a verificar que las muestras de valor de ventas de las que se utiliza el sistema de ventas son (los valores) z veces el valor de la desviación estándar respecto la media de las que no se utiliza el sistema de ventas. Si nos fijamos en el porcentaje de encontrar un valor de “z” igual o menor observamos como el porcentaje es de 99,8%. Con este valor \"z\" podemo entender que es muy poco probable que las dos muestras (la de sistema de ventas y la que no se aplica el sistema de ventas) sean iguales. Por lo tanto, es poco probable que la hipótesis nula sea cierta. Podríamos decir con bastante fiabilidad que la hipótesis de que el sistema de ventas mejora el resultado es cierta. (Estos resultados son basándonos en el conjunto del total, no hemos aplicado ningún filtro que elimine los extremos, es decir, los resultados muy grandes o muy pequeños, ya que he considerado que hay una frecuencia muy alta en todos los valores de ventas para hacer algún tipo de sesgo)."
   ]
  },
  {
   "cell_type": "markdown",
   "metadata": {},
   "source": [
    "Discusión de resultados y vías abiertas \n",
    "\n",
    "Basandome en los resultado obtenidos de este estudio analítico yo personalmente sí que recomendaría el uso del sistema de recomendación de ventas. Ya que se demuestra que es cierta la hipótesis de que aumenta el valor de venta si se aplica el sistema de recomendación y exactamente podemos asegurar de que aumentan las ventas por producto en 149.5 unidades, que en mi parecer no es poco. Para hacer un estudio más detallado siempre se puede aumentar el nivel de muestras pero esto depende del volumen de la empresa (hay una muestra de 5502 datos de ventas sin el sistema de recomendación y 6284 datos con el sistema de recomendación, a mi parecer es un número bastante aceptable para asegurar la hipótesis). No sabemos el tiempo que ha llevado tomar estos datos, ni como han sido obtenidos, en principio todos los datos para tener resultados más fiables deberían haber sido tomados bajo las mismas condiciones. Por lo tanto basandonos en solo los datos (media, quartiles, validación hipotesis valor \"z\"), se debería aplicar el sistema de recomendación. Finalmente para destacar la importancia del valor \"z\" en economia de empresa, si la evolució en ventas/ beneficio de una empresa esta alrededor de un valor \"z\" de 3 o más da a entender de que esta en una posición financiera muy sólida y que si esta por debajo de 1,8 que hay riesgo de quiebra. (Fuente: https://www.investopedia.com/terms/z/zscore.asp) "
   ]
  },
  {
   "cell_type": "code",
   "execution_count": null,
   "metadata": {},
   "outputs": [],
   "source": []
  }
 ],
 "metadata": {
  "kernelspec": {
   "display_name": "R",
   "language": "R",
   "name": "ir"
  },
  "language_info": {
   "codemirror_mode": "r",
   "file_extension": ".r",
   "mimetype": "text/x-r-source",
   "name": "R",
   "pygments_lexer": "r",
   "version": "4.0.3"
  }
 },
 "nbformat": 4,
 "nbformat_minor": 4
}
