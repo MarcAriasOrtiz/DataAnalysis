{
 "cells": [
  {
   "cell_type": "markdown",
   "metadata": {},
   "source": [
    "# Ejemplo K-S test"
   ]
  },
  {
   "cell_type": "markdown",
   "metadata": {},
   "source": [
    "**Generamos una muestra de 10000 sucesos a partir de una distribución normal (de media 0 y varianza 1) y otra muestra según una distribución t Student con 5 grados de libertad.**"
   ]
  },
  {
   "cell_type": "code",
   "execution_count": 15,
   "metadata": {},
   "outputs": [
    {
     "data": {
      "image/png": "[encoded data removed]",
      "text/plain": [
       "Plot with title \"Histogram of x\""
      ]
     },
     "metadata": {},
     "output_type": "display_data"
    }
   ],
   "source": [
    "x <- rnorm(10000)\n",
    "y <- rt(10000,5)\n",
    "hist(x, freq=FALSE, col=rgb(1,0,0,0.5), breaks=seq(-5,5,by=0.5), xlim=c(-5,5))\n",
    "hist(y, freq=FALSE, col=rgb(0,0,1,0.5), breaks=seq(-20,20,by=0.5), add=T)\n"
   ]
  },
  {
   "cell_type": "markdown",
   "metadata": {},
   "source": [
    "**Imaginemos el caso en que no sabemos a partir de qué distribuciones de probabilidad se han generado, y la pregunta es si corresponden a la misma dsitribución. Para ello, aplicamos el test de Kolmogorov-Smirnov, que recordemos evaluará la mayor distancia, D, entre las funciones de densidad acumuladas de dichas muestras.**"
   ]
  },
  {
   "cell_type": "code",
   "execution_count": 16,
   "metadata": {},
   "outputs": [
    {
     "data": {
      "image/png": "[encoded data removed]",
      "text/plain": [
       "Plot with title \"ecdf(x)\""
      ]
     },
     "metadata": {},
     "output_type": "display_data"
    }
   ],
   "source": [
    "plot(ecdf(x), col=2)\n",
    "lines(ecdf(y), col=4)"
   ]
  },
  {
   "cell_type": "code",
   "execution_count": 17,
   "metadata": {
    "scrolled": true
   },
   "outputs": [
    {
     "data": {
      "text/plain": [
       "\n",
       "\tTwo-sample Kolmogorov-Smirnov test\n",
       "\n",
       "data:  x and y\n",
       "D = 0.0376, p-value = 1.449e-06\n",
       "alternative hypothesis: two-sided\n"
      ]
     },
     "metadata": {},
     "output_type": "display_data"
    }
   ],
   "source": [
    "ks.test(x, y)"
   ]
  },
  {
   "cell_type": "markdown",
   "metadata": {},
   "source": [
    "**El p-value indica el porcentaje de veces que obtendríamos una D mayor en el caso de que provengan de la misma distribución. Para n=10000 y $\\alpha=0.05$, debemos comparar con el valor crítico $D_{0.05, 10000}=1.36/\\sqrt{n}=0.0136$. Por lo tanto, podemos rechazar la hipótesis de que corresponden a la misma distribución al haber obtenido un valor mayor de D.**\n",
    "\n",
    "**También podríamos comparar cada distribución con un modelo teórico supuesto, por ejemplo, una normal.** "
   ]
  },
  {
   "cell_type": "code",
   "execution_count": 18,
   "metadata": {},
   "outputs": [
    {
     "data": {
      "text/plain": [
       "\n",
       "\tOne-sample Kolmogorov-Smirnov test\n",
       "\n",
       "data:  x\n",
       "D = 0.0093124, p-value = 0.3511\n",
       "alternative hypothesis: two-sided\n"
      ]
     },
     "metadata": {},
     "output_type": "display_data"
    }
   ],
   "source": [
    "ks.test(x,\"pnorm\", 0, 1)"
   ]
  },
  {
   "cell_type": "code",
   "execution_count": 19,
   "metadata": {},
   "outputs": [
    {
     "data": {
      "text/plain": [
       "\n",
       "\tOne-sample Kolmogorov-Smirnov test\n",
       "\n",
       "data:  y\n",
       "D = 0.034793, p-value = 6.116e-11\n",
       "alternative hypothesis: two-sided\n"
      ]
     },
     "metadata": {},
     "output_type": "display_data"
    }
   ],
   "source": [
    "ks.test(y,\"pnorm\", 0, 1)"
   ]
  },
  {
   "cell_type": "markdown",
   "metadata": {},
   "source": [
    "**Como vemos, la primera distribución, generada a partir de una normal, pasa el test, mientras que la segunda, generada a partir de la t-student, no lo hace.** "
   ]
  },
  {
   "cell_type": "code",
   "execution_count": null,
   "metadata": {},
   "outputs": [],
   "source": []
  }
 ],
 "metadata": {
  "kernelspec": {
   "display_name": "R",
   "language": "R",
   "name": "ir"
  },
  "language_info": {
   "codemirror_mode": "r",
   "file_extension": ".r",
   "mimetype": "text/x-r-source",
   "name": "R",
   "pygments_lexer": "r",
   "version": "3.4.3"
  }
 },
 "nbformat": 4,
 "nbformat_minor": 2
}
