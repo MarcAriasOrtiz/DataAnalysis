{
 "cells": [
  {
   "cell_type": "code",
   "execution_count": 41,
   "metadata": {},
   "outputs": [
    {
     "name": "stdout",
     "output_type": "stream",
     "text": [
      "package 'ROCR' successfully unpacked and MD5 sums checked\n",
      "\n",
      "The downloaded binary packages are in\n",
      "\tC:\\Users\\marc_\\AppData\\Local\\Temp\\RtmpofzbIt\\downloaded_packages\n"
     ]
    },
    {
     "name": "stderr",
     "output_type": "stream",
     "text": [
      "Warning message:\n",
      "\"package 'ROCR' was built under R version 3.6.3\""
     ]
    }
   ],
   "source": [
    "install.packages(\"ROCR\")\n",
    "library(ROCR)"
   ]
  },
  {
   "cell_type": "markdown",
   "metadata": {},
   "source": [
    "# Área bajo la curva ROC"
   ]
  },
  {
   "cell_type": "markdown",
   "metadata": {},
   "source": [
    "## Definición \n",
    "Teoricamente es una representación gráfica de la sensibilidad (e.g.  caracteriza la capacidad de la prueba para detectar la enfermedad en sujetos enfermos.) frente a la especificidad (e.g. la especificidad caracteriza la capacidad de la prueba para detectar la ausencia de la enfermedad en sujetos sanos.) para un sistema clasificador binario según se varía el umbral de discriminación. Otra interpretación de este gráfico es la representación de la razón o proporción de verdaderos positivos (VPR = Razón de Verdaderos Positivos) frente a la razón o proporción de falsos positivos (FPR = Razón de Falsos Positivos) también según se varía el umbral de discriminación (valor a partir del cual decidimos que un caso es un positivo).\n",
    "\n",
    "El análisis de la curva ROC proporciona herramientas para seleccionar los modelos posiblemente óptimos y descartar modelos subóptimos independientemente de el coste de la distribución de las dos clases sobre las que se decide. La curva ROC es también independiente de la distribución de las clases en la población. El análisis ROC se relaciona de forma directa y natural con el análisis de coste/beneficio en toma de decisiones diagnósticas."
   ]
  },
  {
   "cell_type": "markdown",
   "metadata": {},
   "source": [
    "## Principios de funcionamiento \n",
    "\n",
    "Para empezar a construir la \"curva ROC\" primero necesitaremos de un clasificador que clasifique entre positivos y negativos respecto a un valor umbral o punto de corte (c).\n",
    "\n",
    "Ejmeplo:\n",
    "\n",
    "> Positivo --> y = 1 si x >= c \n",
    "\n",
    "> Negativo --> y = 0 si x < c\n",
    "\n",
    "Si como ejemplo cogemos una muestra de población en la que hay gente enfema y sana. Aplicamos nuestra prueba/modelo a sanos y enfermos. Dicha prueba nos dividirá a la población en cuatro subgrupos (Verdadero positivo VP, Falso positivo FP, Falso negativo FN y Verdadero negativo VN) dependiendo de nuestro punto de corte \"c\". Una vez cuantificados los resultados de las divisiones en grupos podremos calcular la sensibilidad y la especificidad (descritos anteriormente anteriormente).\n",
    "\n",
    "Las medidas de sensibilidad y especificidad corresponden a una probabilidad a priori, es decir, dado el estado real de un individuo calculan la probabilidad de que este obtenga un resultado positivo o negativo en la prueba. Cuanto más cercanas a 1 sean éstas probabilidades, mejor capacidad discriminante tendrá nuestra variable de decisión.\n",
    "\n",
    "La curva ROC representa especificidad frente a la sensibilidad para cada posible valor umbral o punto de corte en la escala de resultados de la prueba en estudio. \n",
    "\n",
    "Si calculamos el valor del área de esta represetnación (Área bajo la curva ROC) es el estadístico por excelencia para medir la capacidad discriminante de la prueba. También para comparar pruebas entre sí y determinar cual és la más eficaz. Su rango de valores va desde 0, 5, siendo este valor el correspondiente a una prueba sin capacidad discriminante, hasta 1, que es cuando los dos grupos están perfectamente diferenciados por la prueba. Por tanto, podemos decir que cuanto\n",
    "mayor sea el AUC mejor será la prueba.\n",
    "\n",
    "Basándonos en la definición dada de área bajo la curva, una primera forma de calcularla sería representando la curva ROC, o una estimación de ella, y obtener el porcentaje de área del cuadrado que encierra bajo ella. No siempre será necesario tener la curva para obtener este área, sino, que a partir de los datos podremos estimarla directamente.\n",
    "\n",
    "Podemos calcular el Área bajo la curva con los siguientes métodos (No paramétricos y paramétricos).\n",
    "\n",
    "- Parametrico: el método paramétrico trata de averiguar la distribución de la variable de decisión o variable respuesta de la prueba\n",
    "\n",
    "\n",
    "- No paramétrico: el método no paramétrico para la construcción de la curva ROC no hace suposición alguna sobre la distribución de los resultados de la prueba en ambos grupos\n",
    "\n",
    "#### No paramétricos\n",
    "\n",
    "\u001c",
    " Regla Trapezoidal: Si tenemos una curva de ROC en forma de escalera\n",
    "\n",
    "\u001c",
    " Estadístico suma de rangos de Wilcoxon: se estima a través del estadístico de wilcoxon\n",
    "\n",
    "\u001c",
    " Método de la función Kernel: Para las curvas ROC no paramétricas pero suavizadas mediante la función Kernel podemos calcular el área\n",
    "\n",
    "\n",
    "#### Paramétricos o semiparamétricos\n",
    "\n",
    "\u001c",
    " Partiendo de que hemos supuesto una distribución y ajustado unos parámetros, cualquier área que calculemos mediante éstos métodos va a estar sujeta a un error. La forma de cuantificar este error es calculando un intervalo de confianza que se vea reducido si se ampliase la muestra. \n",
    "\n",
    "Seguidamente haremos un ejemplo sobr el Área bajo la curva ROC."
   ]
  },
  {
   "cell_type": "markdown",
   "metadata": {},
   "source": [
    "# Ejemplo de utilización en R"
   ]
  },
  {
   "cell_type": "markdown",
   "metadata": {},
   "source": [
    "Primeramente creaermos un dataset que representa una población enferma y otra sana. Podemos hacer una muestra de 1000 sanos y 1000 enfermos o lo que queramos. También aplicamos un valor que podría ser un valor de muestreo teórico que determinará si un paciente esta enfermo o sano. Por ejemplo suponemos que el valor es la temperatura corporal. Podriamos clasificar en si tiene COVID o no o alguna infección. Como hacen actualmente que te miden la temperatura antes de entrar en la Salle. Por lo general la temperatura media de una persona sana oscila entre los 36.1 grados hasta los 37 grados. En cambio, para una persona con una infección se consideraría a partir de 38 grados o más."
   ]
  },
  {
   "cell_type": "code",
   "execution_count": 76,
   "metadata": {},
   "outputs": [
    {
     "data": {
      "text/html": [
       "<table>\n",
       "<thead><tr><th scope=col>Temperatura</th><th scope=col>Infeccion</th></tr></thead>\n",
       "<tbody>\n",
       "\t<tr><td>40.66531</td><td>Si      </td></tr>\n",
       "\t<tr><td>41.69231</td><td>Si      </td></tr>\n",
       "\t<tr><td>41.69145</td><td>Si      </td></tr>\n",
       "\t<tr><td>38.49676</td><td>Si      </td></tr>\n",
       "\t<tr><td>37.75474</td><td>Si      </td></tr>\n",
       "\t<tr><td>38.42931</td><td>Si      </td></tr>\n",
       "</tbody>\n",
       "</table>\n"
      ],
      "text/latex": [
       "\\begin{tabular}{r|ll}\n",
       " Temperatura & Infeccion\\\\\n",
       "\\hline\n",
       "\t 40.66531 & Si      \\\\\n",
       "\t 41.69231 & Si      \\\\\n",
       "\t 41.69145 & Si      \\\\\n",
       "\t 38.49676 & Si      \\\\\n",
       "\t 37.75474 & Si      \\\\\n",
       "\t 38.42931 & Si      \\\\\n",
       "\\end{tabular}\n"
      ],
      "text/markdown": [
       "\n",
       "| Temperatura | Infeccion |\n",
       "|---|---|\n",
       "| 40.66531 | Si       |\n",
       "| 41.69231 | Si       |\n",
       "| 41.69145 | Si       |\n",
       "| 38.49676 | Si       |\n",
       "| 37.75474 | Si       |\n",
       "| 38.42931 | Si       |\n",
       "\n"
      ],
      "text/plain": [
       "  Temperatura Infeccion\n",
       "1 40.66531    Si       \n",
       "2 41.69231    Si       \n",
       "3 41.69145    Si       \n",
       "4 38.49676    Si       \n",
       "5 37.75474    Si       \n",
       "6 38.42931    Si       "
      ]
     },
     "metadata": {},
     "output_type": "display_data"
    },
    {
     "data": {
      "text/html": [
       "<table>\n",
       "<thead><tr><th></th><th scope=col>Temperatura</th><th scope=col>Infeccion</th></tr></thead>\n",
       "<tbody>\n",
       "\t<tr><th scope=row>1995</th><td>31.90834</td><td>No      </td></tr>\n",
       "\t<tr><th scope=row>1996</th><td>38.38642</td><td>No      </td></tr>\n",
       "\t<tr><th scope=row>1997</th><td>38.44963</td><td>No      </td></tr>\n",
       "\t<tr><th scope=row>1998</th><td>36.02084</td><td>No      </td></tr>\n",
       "\t<tr><th scope=row>1999</th><td>36.59368</td><td>No      </td></tr>\n",
       "\t<tr><th scope=row>2000</th><td>36.26427</td><td>No      </td></tr>\n",
       "</tbody>\n",
       "</table>\n"
      ],
      "text/latex": [
       "\\begin{tabular}{r|ll}\n",
       "  & Temperatura & Infeccion\\\\\n",
       "\\hline\n",
       "\t1995 & 31.90834 & No      \\\\\n",
       "\t1996 & 38.38642 & No      \\\\\n",
       "\t1997 & 38.44963 & No      \\\\\n",
       "\t1998 & 36.02084 & No      \\\\\n",
       "\t1999 & 36.59368 & No      \\\\\n",
       "\t2000 & 36.26427 & No      \\\\\n",
       "\\end{tabular}\n"
      ],
      "text/markdown": [
       "\n",
       "| <!--/--> | Temperatura | Infeccion |\n",
       "|---|---|---|\n",
       "| 1995 | 31.90834 | No       |\n",
       "| 1996 | 38.38642 | No       |\n",
       "| 1997 | 38.44963 | No       |\n",
       "| 1998 | 36.02084 | No       |\n",
       "| 1999 | 36.59368 | No       |\n",
       "| 2000 | 36.26427 | No       |\n",
       "\n"
      ],
      "text/plain": [
       "     Temperatura Infeccion\n",
       "1995 31.90834    No       \n",
       "1996 38.38642    No       \n",
       "1997 38.44963    No       \n",
       "1998 36.02084    No       \n",
       "1999 36.59368    No       \n",
       "2000 36.26427    No       "
      ]
     },
     "metadata": {},
     "output_type": "display_data"
    }
   ],
   "source": [
    "# El código sirve para generar un conjunto aleatorio de 1000 personar con una efmermedad y otro de 1000 personas sanos.\n",
    "\n",
    "enfermos <- rnorm( 1000, 39.5, 2 )\n",
    "sanos <- rnorm( 1000, 36.65, 2 )\n",
    "datos <- data.frame( c( enfermos, sanos ),\n",
    "                     as.factor( rep( c(\"Si\", \"No\" ), times = 1, each = 1000 ) ) )\n",
    "colnames( datos ) <- c( \"Temperatura\", \"Infeccion\" )\n",
    "\n",
    "head(datos)\n",
    "tail(datos)"
   ]
  },
  {
   "cell_type": "code",
   "execution_count": 77,
   "metadata": {},
   "outputs": [
    {
     "data": {
      "image/png": "[encoded data removed]",
      "text/plain": [
       "plot without title"
      ]
     },
     "metadata": {},
     "output_type": "display_data"
    }
   ],
   "source": [
    "# Generamos el gráfico de densidad para ver la distribució de las 2 muestras\n",
    "plot(NULL, xlim=c(30,45), ylim=c(0,0.25), type=\"n\")\n",
    "denEnf <- density(enfermos)\n",
    "lines(denEnf)\n",
    "denSan <- density(sanos)\n",
    "lines(denSan)\n",
    "text(35, 0.23, \"Sanos\")\n",
    "text(40,0.23, \"Enfermos\")"
   ]
  },
  {
   "cell_type": "markdown",
   "metadata": {},
   "source": [
    "Como podemos ver en el gráfico de las curvas de densidad generadas a partir de los datos, la distribución de sanos solapa con la de enfermos. Es precisamente debido a ese solapamiento por lo que se hace necesario recurrir a algún tipo de herramienta predictiva que ayude a decidir sobre los casos dudosos."
   ]
  },
  {
   "cell_type": "code",
   "execution_count": 78,
   "metadata": {},
   "outputs": [
    {
     "data": {
      "image/png": "[encoded data removed]",
      "text/plain": [
       "plot without title"
      ]
     },
     "metadata": {},
     "output_type": "display_data"
    }
   ],
   "source": [
    "pred <- prediction( datos$Temperatura, datos$Infeccion )\n",
    "perf <- performance(pred, measure = \"tpr\", x.measure = \"fpr\" )\n",
    "\n",
    "plot(perf, colorize = TRUE, type = \"l\" ) \n",
    "abline(a = 0, b = 1 )"
   ]
  },
  {
   "cell_type": "markdown",
   "metadata": {},
   "source": [
    "La curva ROC que se genera tiene los siguientes elementos:\n",
    "\n",
    "- Eje de abscisas (x): Ratio de falsos positivos o 1−especificidad\n",
    "\n",
    "- Eje de ordenadas (y): Ratio de verdaderos positivos o sensibilidad\n",
    "\n",
    "- Diagonal del gráfico: Marca divide la cuadrícula en dos mitades. Indica el 50 del área del gráfico"
   ]
  },
  {
   "cell_type": "code",
   "execution_count": 79,
   "metadata": {},
   "outputs": [
    {
     "data": {
      "text/html": [
       "<ol>\n",
       "\t<li>0.845000000000001</li>\n",
       "</ol>\n"
      ],
      "text/latex": [
       "\\begin{enumerate}\n",
       "\\item 0.845000000000001\n",
       "\\end{enumerate}\n"
      ],
      "text/markdown": [
       "1. 0.845000000000001\n",
       "\n",
       "\n"
      ],
      "text/plain": [
       "[[1]]\n",
       "[1] 0.845\n"
      ]
     },
     "metadata": {},
     "output_type": "display_data"
    }
   ],
   "source": [
    "# Calcular el área bajo la curva\n",
    "AUC <- performance( pred, measure = \"auc\")\n",
    "AUCaltura <- AUC@y.values\n",
    "AUCaltura"
   ]
  },
  {
   "cell_type": "code",
   "execution_count": 80,
   "metadata": {},
   "outputs": [
    {
     "data": {
      "text/html": [
       "38.1635757793646"
      ],
      "text/latex": [
       "38.1635757793646"
      ],
      "text/markdown": [
       "38.1635757793646"
      ],
      "text/plain": [
       "[1] 38.16358"
      ]
     },
     "metadata": {},
     "output_type": "display_data"
    }
   ],
   "source": [
    "# Calcular el punto de corte óptimo\n",
    "cost.perf <- performance( pred, measure = \"cost\" )\n",
    "puntoCorte <- pred@cutoffs[[1]][which.min(cost.perf@y.values[[1]])]\n",
    "\n",
    "puntoCorte"
   ]
  },
  {
   "cell_type": "code",
   "execution_count": 81,
   "metadata": {},
   "outputs": [
    {
     "data": {
      "image/png": "[encoded data removed]",
      "text/plain": [
       "plot without title"
      ]
     },
     "metadata": {},
     "output_type": "display_data"
    }
   ],
   "source": [
    "plot(perf, colorize = TRUE, type = \"l\" ) \n",
    "abline(a = 0, b = 1 )\n",
    "\n",
    "# Coordenadas del punto de corte óptimo\n",
    "x<-perf@x.values[[1]][which.min( cost.perf@y.values[[1]] ) ]\n",
    "y<-perf@y.values[[1]][which.min( cost.perf@y.values[[1]] ) ]\n",
    "points(x,y, pch=20, col=\"red\")"
   ]
  },
  {
   "cell_type": "markdown",
   "metadata": {},
   "source": [
    "Utilizando el método del Área bajo la curva de ROC podemos crear un modelo de clasificación sencillo en el cual se escoge un método de corte óptimo. Claro esta que el data set utilizado solo depende de una variable en este caso. También muestra que en este caso el modelo es bastante sólido, ya que el valor de el área ROC es cercano a 1. El modelo da la información de que si alguien esta por encima de 38.16 tendrá una infección, en el caso de la Salle no podría entrar en el recinto universitario."
   ]
  },
  {
   "cell_type": "markdown",
   "metadata": {},
   "source": [
    "Parte de la información descrita sobre el Área bajo la curva ROC ha sido extraída del trabajo final de grado en matemáticas de Ana Rocío del Valle. Aqui adjunto link:\n",
    "https://idus.us.es/bitstream/handle/11441/63201/Valle%20Benavides%20Ana%20Roc%C3%ADo%20del%20TFG.pdf?sequence=1"
   ]
  },
  {
   "cell_type": "code",
   "execution_count": null,
   "metadata": {},
   "outputs": [],
   "source": []
  }
 ],
 "metadata": {
  "kernelspec": {
   "display_name": "R",
   "language": "R",
   "name": "ir"
  },
  "language_info": {
   "codemirror_mode": "r",
   "file_extension": ".r",
   "mimetype": "text/x-r-source",
   "name": "R",
   "pygments_lexer": "r",
   "version": "3.6.1"
  }
 },
 "nbformat": 4,
 "nbformat_minor": 4
}
