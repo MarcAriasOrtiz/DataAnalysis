{
 "cells": [
  {
   "cell_type": "code",
   "execution_count": 1,
   "metadata": {},
   "outputs": [
    {
     "data": {
      "text/html": [
       "<table>\n",
       "<caption>A data.frame: 6 × 104</caption>\n",
       "<thead>\n",
       "\t<tr><th></th><th scope=col>Dte.</th><th scope=col>Barris</th><th scope=col>TOTAL</th><th scope=col>X0</th><th scope=col>X1</th><th scope=col>X2</th><th scope=col>X3</th><th scope=col>X4</th><th scope=col>X5</th><th scope=col>X6</th><th scope=col>...</th><th scope=col>X91</th><th scope=col>X92</th><th scope=col>X93</th><th scope=col>X94</th><th scope=col>X95</th><th scope=col>X96</th><th scope=col>X97</th><th scope=col>X98</th><th scope=col>X99</th><th scope=col>X100</th></tr>\n",
       "\t<tr><th></th><th scope=col>&lt;chr&gt;</th><th scope=col>&lt;chr&gt;</th><th scope=col>&lt;int&gt;</th><th scope=col>&lt;int&gt;</th><th scope=col>&lt;int&gt;</th><th scope=col>&lt;int&gt;</th><th scope=col>&lt;int&gt;</th><th scope=col>&lt;int&gt;</th><th scope=col>&lt;int&gt;</th><th scope=col>&lt;int&gt;</th><th scope=col>...</th><th scope=col>&lt;int&gt;</th><th scope=col>&lt;int&gt;</th><th scope=col>&lt;int&gt;</th><th scope=col>&lt;int&gt;</th><th scope=col>&lt;int&gt;</th><th scope=col>&lt;int&gt;</th><th scope=col>&lt;int&gt;</th><th scope=col>&lt;int&gt;</th><th scope=col>&lt;int&gt;</th><th scope=col>&lt;int&gt;</th></tr>\n",
       "</thead>\n",
       "<tbody>\n",
       "\t<tr><th scope=row>1</th><td>BARCELONA</td><td>                                        </td><td>1625137</td><td>13633</td><td>13918</td><td>13712</td><td>13533</td><td>14018</td><td>13968</td><td>13801</td><td>...</td><td>4528</td><td>3761</td><td>2923</td><td>2309</td><td>1658</td><td>1223</td><td>827</td><td>565</td><td>398</td><td>767</td></tr>\n",
       "\t<tr><th scope=row>2</th><td>1        </td><td>1. el Raval                             </td><td>  47986</td><td>  449</td><td>  431</td><td>  409</td><td>  396</td><td>  457</td><td>  475</td><td>  462</td><td>...</td><td>  91</td><td>  67</td><td>  50</td><td>  30</td><td>  30</td><td>  20</td><td> 12</td><td>  9</td><td>  2</td><td> 12</td></tr>\n",
       "\t<tr><th scope=row>3</th><td>1        </td><td>2. el Barri GÃ²tic                      </td><td>  16240</td><td>   99</td><td>   97</td><td>   93</td><td>   88</td><td>   99</td><td>   97</td><td>   89</td><td>...</td><td>  38</td><td>  36</td><td>  27</td><td>  25</td><td>  11</td><td>   9</td><td> 11</td><td>  3</td><td>  0</td><td> 11</td></tr>\n",
       "\t<tr><th scope=row>4</th><td>1        </td><td>3. la Barceloneta                       </td><td>  15101</td><td>   94</td><td>  100</td><td>   86</td><td>  101</td><td>   80</td><td>   71</td><td>   86</td><td>...</td><td>  30</td><td>  37</td><td>  29</td><td>  15</td><td>  15</td><td>  12</td><td>  6</td><td>  3</td><td>  5</td><td>  5</td></tr>\n",
       "\t<tr><th scope=row>5</th><td>1        </td><td>4. Sant Pere, Santa Caterina i la Ribera</td><td>  22923</td><td>  177</td><td>  168</td><td>  166</td><td>  145</td><td>  166</td><td>  164</td><td>  145</td><td>...</td><td>  38</td><td>  42</td><td>  31</td><td>  28</td><td>  12</td><td>   9</td><td>  6</td><td>  8</td><td>  5</td><td> 14</td></tr>\n",
       "\t<tr><th scope=row>6</th><td>2        </td><td>5. el Fort Pienc                        </td><td>  32048</td><td>  251</td><td>  266</td><td>  268</td><td>  240</td><td>  281</td><td>  238</td><td>  262</td><td>...</td><td> 106</td><td>  73</td><td>  75</td><td>  49</td><td>  44</td><td>  31</td><td> 17</td><td> 16</td><td>  7</td><td> 14</td></tr>\n",
       "</tbody>\n",
       "</table>\n"
      ],
      "text/latex": [
       "A data.frame: 6 × 104\n",
       "\\begin{tabular}{r|lllllllllllllllllllll}\n",
       "  & Dte. & Barris & TOTAL & X0 & X1 & X2 & X3 & X4 & X5 & X6 & ... & X91 & X92 & X93 & X94 & X95 & X96 & X97 & X98 & X99 & X100\\\\\n",
       "  & <chr> & <chr> & <int> & <int> & <int> & <int> & <int> & <int> & <int> & <int> & ... & <int> & <int> & <int> & <int> & <int> & <int> & <int> & <int> & <int> & <int>\\\\\n",
       "\\hline\n",
       "\t1 & BARCELONA &                                          & 1625137 & 13633 & 13918 & 13712 & 13533 & 14018 & 13968 & 13801 & ... & 4528 & 3761 & 2923 & 2309 & 1658 & 1223 & 827 & 565 & 398 & 767\\\\\n",
       "\t2 & 1         & 1. el Raval                              &   47986 &   449 &   431 &   409 &   396 &   457 &   475 &   462 & ... &   91 &   67 &   50 &   30 &   30 &   20 &  12 &   9 &   2 &  12\\\\\n",
       "\t3 & 1         & 2. el Barri GÃ²tic                       &   16240 &    99 &    97 &    93 &    88 &    99 &    97 &    89 & ... &   38 &   36 &   27 &   25 &   11 &    9 &  11 &   3 &   0 &  11\\\\\n",
       "\t4 & 1         & 3. la Barceloneta                        &   15101 &    94 &   100 &    86 &   101 &    80 &    71 &    86 & ... &   30 &   37 &   29 &   15 &   15 &   12 &   6 &   3 &   5 &   5\\\\\n",
       "\t5 & 1         & 4. Sant Pere, Santa Caterina i la Ribera &   22923 &   177 &   168 &   166 &   145 &   166 &   164 &   145 & ... &   38 &   42 &   31 &   28 &   12 &    9 &   6 &   8 &   5 &  14\\\\\n",
       "\t6 & 2         & 5. el Fort Pienc                         &   32048 &   251 &   266 &   268 &   240 &   281 &   238 &   262 & ... &  106 &   73 &   75 &   49 &   44 &   31 &  17 &  16 &   7 &  14\\\\\n",
       "\\end{tabular}\n"
      ],
      "text/markdown": [
       "\n",
       "A data.frame: 6 × 104\n",
       "\n",
       "| <!--/--> | Dte. &lt;chr&gt; | Barris &lt;chr&gt; | TOTAL &lt;int&gt; | X0 &lt;int&gt; | X1 &lt;int&gt; | X2 &lt;int&gt; | X3 &lt;int&gt; | X4 &lt;int&gt; | X5 &lt;int&gt; | X6 &lt;int&gt; | ... ... | X91 &lt;int&gt; | X92 &lt;int&gt; | X93 &lt;int&gt; | X94 &lt;int&gt; | X95 &lt;int&gt; | X96 &lt;int&gt; | X97 &lt;int&gt; | X98 &lt;int&gt; | X99 &lt;int&gt; | X100 &lt;int&gt; |\n",
       "|---|---|---|---|---|---|---|---|---|---|---|---|---|---|---|---|---|---|---|---|---|---|\n",
       "| 1 | BARCELONA | <!----> | 1625137 | 13633 | 13918 | 13712 | 13533 | 14018 | 13968 | 13801 | ... | 4528 | 3761 | 2923 | 2309 | 1658 | 1223 | 827 | 565 | 398 | 767 |\n",
       "| 2 | 1         | 1. el Raval                              |   47986 |   449 |   431 |   409 |   396 |   457 |   475 |   462 | ... |   91 |   67 |   50 |   30 |   30 |   20 |  12 |   9 |   2 |  12 |\n",
       "| 3 | 1         | 2. el Barri GÃ²tic                       |   16240 |    99 |    97 |    93 |    88 |    99 |    97 |    89 | ... |   38 |   36 |   27 |   25 |   11 |    9 |  11 |   3 |   0 |  11 |\n",
       "| 4 | 1         | 3. la Barceloneta                        |   15101 |    94 |   100 |    86 |   101 |    80 |    71 |    86 | ... |   30 |   37 |   29 |   15 |   15 |   12 |   6 |   3 |   5 |   5 |\n",
       "| 5 | 1         | 4. Sant Pere, Santa Caterina i la Ribera |   22923 |   177 |   168 |   166 |   145 |   166 |   164 |   145 | ... |   38 |   42 |   31 |   28 |   12 |    9 |   6 |   8 |   5 |  14 |\n",
       "| 6 | 2         | 5. el Fort Pienc                         |   32048 |   251 |   266 |   268 |   240 |   281 |   238 |   262 | ... |  106 |   73 |   75 |   49 |   44 |   31 |  17 |  16 |   7 |  14 |\n",
       "\n"
      ],
      "text/plain": [
       "  Dte.      Barris                                   TOTAL   X0    X1    X2   \n",
       "1 BARCELONA                                          1625137 13633 13918 13712\n",
       "2 1         1. el Raval                                47986   449   431   409\n",
       "3 1         2. el Barri GÃ²tic                         16240    99    97    93\n",
       "4 1         3. la Barceloneta                          15101    94   100    86\n",
       "5 1         4. Sant Pere, Santa Caterina i la Ribera   22923   177   168   166\n",
       "6 2         5. el Fort Pienc                           32048   251   266   268\n",
       "  X3    X4    X5    X6    ... X91  X92  X93  X94  X95  X96  X97 X98 X99 X100\n",
       "1 13533 14018 13968 13801 ... 4528 3761 2923 2309 1658 1223 827 565 398 767 \n",
       "2   396   457   475   462 ...   91   67   50   30   30   20  12   9   2  12 \n",
       "3    88    99    97    89 ...   38   36   27   25   11    9  11   3   0  11 \n",
       "4   101    80    71    86 ...   30   37   29   15   15   12   6   3   5   5 \n",
       "5   145   166   164   145 ...   38   42   31   28   12    9   6   8   5  14 \n",
       "6   240   281   238   262 ...  106   73   75   49   44   31  17  16   7  14 "
      ]
     },
     "metadata": {},
     "output_type": "display_data"
    },
    {
     "data": {
      "text/html": [
       "<table>\n",
       "<caption>A data.frame: 6 × 104</caption>\n",
       "<thead>\n",
       "\t<tr><th></th><th scope=col>Dte.</th><th scope=col>Barris</th><th scope=col>TOTAL</th><th scope=col>X0</th><th scope=col>X1</th><th scope=col>X2</th><th scope=col>X3</th><th scope=col>X4</th><th scope=col>X5</th><th scope=col>X6</th><th scope=col>...</th><th scope=col>X91</th><th scope=col>X92</th><th scope=col>X93</th><th scope=col>X94</th><th scope=col>X95</th><th scope=col>X96</th><th scope=col>X97</th><th scope=col>X98</th><th scope=col>X99</th><th scope=col>X100</th></tr>\n",
       "\t<tr><th></th><th scope=col>&lt;chr&gt;</th><th scope=col>&lt;chr&gt;</th><th scope=col>&lt;int&gt;</th><th scope=col>&lt;int&gt;</th><th scope=col>&lt;int&gt;</th><th scope=col>&lt;int&gt;</th><th scope=col>&lt;int&gt;</th><th scope=col>&lt;int&gt;</th><th scope=col>&lt;int&gt;</th><th scope=col>&lt;int&gt;</th><th scope=col>...</th><th scope=col>&lt;int&gt;</th><th scope=col>&lt;int&gt;</th><th scope=col>&lt;int&gt;</th><th scope=col>&lt;int&gt;</th><th scope=col>&lt;int&gt;</th><th scope=col>&lt;int&gt;</th><th scope=col>&lt;int&gt;</th><th scope=col>&lt;int&gt;</th><th scope=col>&lt;int&gt;</th><th scope=col>&lt;int&gt;</th></tr>\n",
       "</thead>\n",
       "<tbody>\n",
       "\t<tr><th scope=row>69</th><td>10</td><td>68. el Poblenou                                  </td><td>33931</td><td>340</td><td>333</td><td>367</td><td>342</td><td>382</td><td>409</td><td>387</td><td>...</td><td>86</td><td>74</td><td>49</td><td>38</td><td>23</td><td>21</td><td>13</td><td> 7</td><td> 6</td><td> 6</td></tr>\n",
       "\t<tr><th scope=row>70</th><td>10</td><td>69. Diagonal Mar i el Front MarÃ­tim del Poblenou</td><td>13710</td><td>190</td><td>190</td><td>177</td><td>226</td><td>209</td><td>204</td><td>169</td><td>...</td><td>12</td><td>17</td><td>13</td><td> 6</td><td> 6</td><td> 3</td><td> 2</td><td> 1</td><td> 1</td><td> 6</td></tr>\n",
       "\t<tr><th scope=row>71</th><td>10</td><td>70. el BesÃ²s i el Maresme                       </td><td>22893</td><td>190</td><td>203</td><td>227</td><td>187</td><td>239</td><td>246</td><td>244</td><td>...</td><td>48</td><td>43</td><td>28</td><td>14</td><td>14</td><td>12</td><td> 9</td><td> 6</td><td> 1</td><td>10</td></tr>\n",
       "\t<tr><th scope=row>72</th><td>10</td><td>71. ProvenÃ§als del Poblenou                     </td><td>20649</td><td>177</td><td>194</td><td>210</td><td>212</td><td>220</td><td>206</td><td>199</td><td>...</td><td>38</td><td>19</td><td>29</td><td>24</td><td> 9</td><td> 8</td><td> 5</td><td> 2</td><td> 5</td><td> 1</td></tr>\n",
       "\t<tr><th scope=row>73</th><td>10</td><td>72. Sant MartÃ­ de ProvenÃ§als                   </td><td>26187</td><td>181</td><td>198</td><td>208</td><td>205</td><td>232</td><td>222</td><td>212</td><td>...</td><td>67</td><td>62</td><td>43</td><td>34</td><td>22</td><td>16</td><td>10</td><td>10</td><td>10</td><td> 5</td></tr>\n",
       "\t<tr><th scope=row>74</th><td>10</td><td>73. la Verneda i la Pau                          </td><td>28725</td><td>234</td><td>227</td><td>205</td><td>202</td><td>233</td><td>211</td><td>263</td><td>...</td><td>75</td><td>72</td><td>47</td><td>40</td><td>24</td><td>16</td><td> 9</td><td>11</td><td> 5</td><td> 9</td></tr>\n",
       "</tbody>\n",
       "</table>\n"
      ],
      "text/latex": [
       "A data.frame: 6 × 104\n",
       "\\begin{tabular}{r|lllllllllllllllllllll}\n",
       "  & Dte. & Barris & TOTAL & X0 & X1 & X2 & X3 & X4 & X5 & X6 & ... & X91 & X92 & X93 & X94 & X95 & X96 & X97 & X98 & X99 & X100\\\\\n",
       "  & <chr> & <chr> & <int> & <int> & <int> & <int> & <int> & <int> & <int> & <int> & ... & <int> & <int> & <int> & <int> & <int> & <int> & <int> & <int> & <int> & <int>\\\\\n",
       "\\hline\n",
       "\t69 & 10 & 68. el Poblenou                                   & 33931 & 340 & 333 & 367 & 342 & 382 & 409 & 387 & ... & 86 & 74 & 49 & 38 & 23 & 21 & 13 &  7 &  6 &  6\\\\\n",
       "\t70 & 10 & 69. Diagonal Mar i el Front MarÃ­tim del Poblenou & 13710 & 190 & 190 & 177 & 226 & 209 & 204 & 169 & ... & 12 & 17 & 13 &  6 &  6 &  3 &  2 &  1 &  1 &  6\\\\\n",
       "\t71 & 10 & 70. el BesÃ²s i el Maresme                        & 22893 & 190 & 203 & 227 & 187 & 239 & 246 & 244 & ... & 48 & 43 & 28 & 14 & 14 & 12 &  9 &  6 &  1 & 10\\\\\n",
       "\t72 & 10 & 71. ProvenÃ§als del Poblenou                      & 20649 & 177 & 194 & 210 & 212 & 220 & 206 & 199 & ... & 38 & 19 & 29 & 24 &  9 &  8 &  5 &  2 &  5 &  1\\\\\n",
       "\t73 & 10 & 72. Sant MartÃ­ de ProvenÃ§als                    & 26187 & 181 & 198 & 208 & 205 & 232 & 222 & 212 & ... & 67 & 62 & 43 & 34 & 22 & 16 & 10 & 10 & 10 &  5\\\\\n",
       "\t74 & 10 & 73. la Verneda i la Pau                           & 28725 & 234 & 227 & 205 & 202 & 233 & 211 & 263 & ... & 75 & 72 & 47 & 40 & 24 & 16 &  9 & 11 &  5 &  9\\\\\n",
       "\\end{tabular}\n"
      ],
      "text/markdown": [
       "\n",
       "A data.frame: 6 × 104\n",
       "\n",
       "| <!--/--> | Dte. &lt;chr&gt; | Barris &lt;chr&gt; | TOTAL &lt;int&gt; | X0 &lt;int&gt; | X1 &lt;int&gt; | X2 &lt;int&gt; | X3 &lt;int&gt; | X4 &lt;int&gt; | X5 &lt;int&gt; | X6 &lt;int&gt; | ... ... | X91 &lt;int&gt; | X92 &lt;int&gt; | X93 &lt;int&gt; | X94 &lt;int&gt; | X95 &lt;int&gt; | X96 &lt;int&gt; | X97 &lt;int&gt; | X98 &lt;int&gt; | X99 &lt;int&gt; | X100 &lt;int&gt; |\n",
       "|---|---|---|---|---|---|---|---|---|---|---|---|---|---|---|---|---|---|---|---|---|---|\n",
       "| 69 | 10 | 68. el Poblenou                                   | 33931 | 340 | 333 | 367 | 342 | 382 | 409 | 387 | ... | 86 | 74 | 49 | 38 | 23 | 21 | 13 |  7 |  6 |  6 |\n",
       "| 70 | 10 | 69. Diagonal Mar i el Front MarÃ­tim del Poblenou | 13710 | 190 | 190 | 177 | 226 | 209 | 204 | 169 | ... | 12 | 17 | 13 |  6 |  6 |  3 |  2 |  1 |  1 |  6 |\n",
       "| 71 | 10 | 70. el BesÃ²s i el Maresme                        | 22893 | 190 | 203 | 227 | 187 | 239 | 246 | 244 | ... | 48 | 43 | 28 | 14 | 14 | 12 |  9 |  6 |  1 | 10 |\n",
       "| 72 | 10 | 71. ProvenÃ§als del Poblenou                      | 20649 | 177 | 194 | 210 | 212 | 220 | 206 | 199 | ... | 38 | 19 | 29 | 24 |  9 |  8 |  5 |  2 |  5 |  1 |\n",
       "| 73 | 10 | 72. Sant MartÃ­ de ProvenÃ§als                    | 26187 | 181 | 198 | 208 | 205 | 232 | 222 | 212 | ... | 67 | 62 | 43 | 34 | 22 | 16 | 10 | 10 | 10 |  5 |\n",
       "| 74 | 10 | 73. la Verneda i la Pau                           | 28725 | 234 | 227 | 205 | 202 | 233 | 211 | 263 | ... | 75 | 72 | 47 | 40 | 24 | 16 |  9 | 11 |  5 |  9 |\n",
       "\n"
      ],
      "text/plain": [
       "   Dte. Barris                                            TOTAL X0  X1  X2  X3 \n",
       "69 10   68. el Poblenou                                   33931 340 333 367 342\n",
       "70 10   69. Diagonal Mar i el Front MarÃ­tim del Poblenou 13710 190 190 177 226\n",
       "71 10   70. el BesÃ²s i el Maresme                        22893 190 203 227 187\n",
       "72 10   71. ProvenÃ§als del Poblenou                      20649 177 194 210 212\n",
       "73 10   72. Sant MartÃ­ de ProvenÃ§als                    26187 181 198 208 205\n",
       "74 10   73. la Verneda i la Pau                           28725 234 227 205 202\n",
       "   X4  X5  X6  ... X91 X92 X93 X94 X95 X96 X97 X98 X99 X100\n",
       "69 382 409 387 ... 86  74  49  38  23  21  13   7   6   6  \n",
       "70 209 204 169 ... 12  17  13   6   6   3   2   1   1   6  \n",
       "71 239 246 244 ... 48  43  28  14  14  12   9   6   1  10  \n",
       "72 220 206 199 ... 38  19  29  24   9   8   5   2   5   1  \n",
       "73 232 222 212 ... 67  62  43  34  22  16  10  10  10   5  \n",
       "74 233 211 263 ... 75  72  47  40  24  16   9  11   5   9  "
      ]
     },
     "metadata": {},
     "output_type": "display_data"
    },
    {
     "data": {
      "text/html": [
       "74"
      ],
      "text/latex": [
       "74"
      ],
      "text/markdown": [
       "74"
      ],
      "text/plain": [
       "[1] 74"
      ]
     },
     "metadata": {},
     "output_type": "display_data"
    },
    {
     "data": {
      "text/html": [
       "<style>\n",
       ".list-inline {list-style: none; margin:0; padding: 0}\n",
       ".list-inline>li {display: inline-block}\n",
       ".list-inline>li:not(:last-child)::after {content: \"\\00b7\"; padding: 0 .5ex}\n",
       "</style>\n",
       "<ol class=list-inline><li>'Dte.'</li><li>'Barris'</li><li>'TOTAL'</li><li>'X0'</li><li>'X1'</li><li>'X2'</li><li>'X3'</li><li>'X4'</li><li>'X5'</li><li>'X6'</li><li>'X7'</li><li>'X8'</li><li>'X9'</li><li>'X10'</li><li>'X11'</li><li>'X12'</li><li>'X13'</li><li>'X14'</li><li>'X15'</li><li>'X16'</li><li>'X17'</li><li>'X18'</li><li>'X19'</li><li>'X20'</li><li>'X21'</li><li>'X22'</li><li>'X23'</li><li>'X24'</li><li>'X25'</li><li>'X26'</li><li>'X27'</li><li>'X28'</li><li>'X29'</li><li>'X30'</li><li>'X31'</li><li>'X32'</li><li>'X33'</li><li>'X34'</li><li>'X35'</li><li>'X36'</li><li>'X37'</li><li>'X38'</li><li>'X39'</li><li>'X40'</li><li>'X41'</li><li>'X42'</li><li>'X43'</li><li>'X44'</li><li>'X45'</li><li>'X46'</li><li>'X47'</li><li>'X48'</li><li>'X49'</li><li>'X50'</li><li>'X51'</li><li>'X52'</li><li>'X53'</li><li>'X54'</li><li>'X55'</li><li>'X56'</li><li>'X57'</li><li>'X58'</li><li>'X59'</li><li>'X60'</li><li>'X61'</li><li>'X62'</li><li>'X63'</li><li>'X64'</li><li>'X65'</li><li>'X66'</li><li>'X67'</li><li>'X68'</li><li>'X69'</li><li>'X70'</li><li>'X71'</li><li>'X72'</li><li>'X73'</li><li>'X74'</li><li>'X75'</li><li>'X76'</li><li>'X77'</li><li>'X78'</li><li>'X79'</li><li>'X80'</li><li>'X81'</li><li>'X82'</li><li>'X83'</li><li>'X84'</li><li>'X85'</li><li>'X86'</li><li>'X87'</li><li>'X88'</li><li>'X89'</li><li>'X90'</li><li>'X91'</li><li>'X92'</li><li>'X93'</li><li>'X94'</li><li>'X95'</li><li>'X96'</li><li>'X97'</li><li>'X98'</li><li>'X99'</li><li>'X100'</li></ol>\n"
      ],
      "text/latex": [
       "\\begin{enumerate*}\n",
       "\\item 'Dte.'\n",
       "\\item 'Barris'\n",
       "\\item 'TOTAL'\n",
       "\\item 'X0'\n",
       "\\item 'X1'\n",
       "\\item 'X2'\n",
       "\\item 'X3'\n",
       "\\item 'X4'\n",
       "\\item 'X5'\n",
       "\\item 'X6'\n",
       "\\item 'X7'\n",
       "\\item 'X8'\n",
       "\\item 'X9'\n",
       "\\item 'X10'\n",
       "\\item 'X11'\n",
       "\\item 'X12'\n",
       "\\item 'X13'\n",
       "\\item 'X14'\n",
       "\\item 'X15'\n",
       "\\item 'X16'\n",
       "\\item 'X17'\n",
       "\\item 'X18'\n",
       "\\item 'X19'\n",
       "\\item 'X20'\n",
       "\\item 'X21'\n",
       "\\item 'X22'\n",
       "\\item 'X23'\n",
       "\\item 'X24'\n",
       "\\item 'X25'\n",
       "\\item 'X26'\n",
       "\\item 'X27'\n",
       "\\item 'X28'\n",
       "\\item 'X29'\n",
       "\\item 'X30'\n",
       "\\item 'X31'\n",
       "\\item 'X32'\n",
       "\\item 'X33'\n",
       "\\item 'X34'\n",
       "\\item 'X35'\n",
       "\\item 'X36'\n",
       "\\item 'X37'\n",
       "\\item 'X38'\n",
       "\\item 'X39'\n",
       "\\item 'X40'\n",
       "\\item 'X41'\n",
       "\\item 'X42'\n",
       "\\item 'X43'\n",
       "\\item 'X44'\n",
       "\\item 'X45'\n",
       "\\item 'X46'\n",
       "\\item 'X47'\n",
       "\\item 'X48'\n",
       "\\item 'X49'\n",
       "\\item 'X50'\n",
       "\\item 'X51'\n",
       "\\item 'X52'\n",
       "\\item 'X53'\n",
       "\\item 'X54'\n",
       "\\item 'X55'\n",
       "\\item 'X56'\n",
       "\\item 'X57'\n",
       "\\item 'X58'\n",
       "\\item 'X59'\n",
       "\\item 'X60'\n",
       "\\item 'X61'\n",
       "\\item 'X62'\n",
       "\\item 'X63'\n",
       "\\item 'X64'\n",
       "\\item 'X65'\n",
       "\\item 'X66'\n",
       "\\item 'X67'\n",
       "\\item 'X68'\n",
       "\\item 'X69'\n",
       "\\item 'X70'\n",
       "\\item 'X71'\n",
       "\\item 'X72'\n",
       "\\item 'X73'\n",
       "\\item 'X74'\n",
       "\\item 'X75'\n",
       "\\item 'X76'\n",
       "\\item 'X77'\n",
       "\\item 'X78'\n",
       "\\item 'X79'\n",
       "\\item 'X80'\n",
       "\\item 'X81'\n",
       "\\item 'X82'\n",
       "\\item 'X83'\n",
       "\\item 'X84'\n",
       "\\item 'X85'\n",
       "\\item 'X86'\n",
       "\\item 'X87'\n",
       "\\item 'X88'\n",
       "\\item 'X89'\n",
       "\\item 'X90'\n",
       "\\item 'X91'\n",
       "\\item 'X92'\n",
       "\\item 'X93'\n",
       "\\item 'X94'\n",
       "\\item 'X95'\n",
       "\\item 'X96'\n",
       "\\item 'X97'\n",
       "\\item 'X98'\n",
       "\\item 'X99'\n",
       "\\item 'X100'\n",
       "\\end{enumerate*}\n"
      ],
      "text/markdown": [
       "1. 'Dte.'\n",
       "2. 'Barris'\n",
       "3. 'TOTAL'\n",
       "4. 'X0'\n",
       "5. 'X1'\n",
       "6. 'X2'\n",
       "7. 'X3'\n",
       "8. 'X4'\n",
       "9. 'X5'\n",
       "10. 'X6'\n",
       "11. 'X7'\n",
       "12. 'X8'\n",
       "13. 'X9'\n",
       "14. 'X10'\n",
       "15. 'X11'\n",
       "16. 'X12'\n",
       "17. 'X13'\n",
       "18. 'X14'\n",
       "19. 'X15'\n",
       "20. 'X16'\n",
       "21. 'X17'\n",
       "22. 'X18'\n",
       "23. 'X19'\n",
       "24. 'X20'\n",
       "25. 'X21'\n",
       "26. 'X22'\n",
       "27. 'X23'\n",
       "28. 'X24'\n",
       "29. 'X25'\n",
       "30. 'X26'\n",
       "31. 'X27'\n",
       "32. 'X28'\n",
       "33. 'X29'\n",
       "34. 'X30'\n",
       "35. 'X31'\n",
       "36. 'X32'\n",
       "37. 'X33'\n",
       "38. 'X34'\n",
       "39. 'X35'\n",
       "40. 'X36'\n",
       "41. 'X37'\n",
       "42. 'X38'\n",
       "43. 'X39'\n",
       "44. 'X40'\n",
       "45. 'X41'\n",
       "46. 'X42'\n",
       "47. 'X43'\n",
       "48. 'X44'\n",
       "49. 'X45'\n",
       "50. 'X46'\n",
       "51. 'X47'\n",
       "52. 'X48'\n",
       "53. 'X49'\n",
       "54. 'X50'\n",
       "55. 'X51'\n",
       "56. 'X52'\n",
       "57. 'X53'\n",
       "58. 'X54'\n",
       "59. 'X55'\n",
       "60. 'X56'\n",
       "61. 'X57'\n",
       "62. 'X58'\n",
       "63. 'X59'\n",
       "64. 'X60'\n",
       "65. 'X61'\n",
       "66. 'X62'\n",
       "67. 'X63'\n",
       "68. 'X64'\n",
       "69. 'X65'\n",
       "70. 'X66'\n",
       "71. 'X67'\n",
       "72. 'X68'\n",
       "73. 'X69'\n",
       "74. 'X70'\n",
       "75. 'X71'\n",
       "76. 'X72'\n",
       "77. 'X73'\n",
       "78. 'X74'\n",
       "79. 'X75'\n",
       "80. 'X76'\n",
       "81. 'X77'\n",
       "82. 'X78'\n",
       "83. 'X79'\n",
       "84. 'X80'\n",
       "85. 'X81'\n",
       "86. 'X82'\n",
       "87. 'X83'\n",
       "88. 'X84'\n",
       "89. 'X85'\n",
       "90. 'X86'\n",
       "91. 'X87'\n",
       "92. 'X88'\n",
       "93. 'X89'\n",
       "94. 'X90'\n",
       "95. 'X91'\n",
       "96. 'X92'\n",
       "97. 'X93'\n",
       "98. 'X94'\n",
       "99. 'X95'\n",
       "100. 'X96'\n",
       "101. 'X97'\n",
       "102. 'X98'\n",
       "103. 'X99'\n",
       "104. 'X100'\n",
       "\n",
       "\n"
      ],
      "text/plain": [
       "  [1] \"Dte.\"   \"Barris\" \"TOTAL\"  \"X0\"     \"X1\"     \"X2\"     \"X3\"     \"X4\"    \n",
       "  [9] \"X5\"     \"X6\"     \"X7\"     \"X8\"     \"X9\"     \"X10\"    \"X11\"    \"X12\"   \n",
       " [17] \"X13\"    \"X14\"    \"X15\"    \"X16\"    \"X17\"    \"X18\"    \"X19\"    \"X20\"   \n",
       " [25] \"X21\"    \"X22\"    \"X23\"    \"X24\"    \"X25\"    \"X26\"    \"X27\"    \"X28\"   \n",
       " [33] \"X29\"    \"X30\"    \"X31\"    \"X32\"    \"X33\"    \"X34\"    \"X35\"    \"X36\"   \n",
       " [41] \"X37\"    \"X38\"    \"X39\"    \"X40\"    \"X41\"    \"X42\"    \"X43\"    \"X44\"   \n",
       " [49] \"X45\"    \"X46\"    \"X47\"    \"X48\"    \"X49\"    \"X50\"    \"X51\"    \"X52\"   \n",
       " [57] \"X53\"    \"X54\"    \"X55\"    \"X56\"    \"X57\"    \"X58\"    \"X59\"    \"X60\"   \n",
       " [65] \"X61\"    \"X62\"    \"X63\"    \"X64\"    \"X65\"    \"X66\"    \"X67\"    \"X68\"   \n",
       " [73] \"X69\"    \"X70\"    \"X71\"    \"X72\"    \"X73\"    \"X74\"    \"X75\"    \"X76\"   \n",
       " [81] \"X77\"    \"X78\"    \"X79\"    \"X80\"    \"X81\"    \"X82\"    \"X83\"    \"X84\"   \n",
       " [89] \"X85\"    \"X86\"    \"X87\"    \"X88\"    \"X89\"    \"X90\"    \"X91\"    \"X92\"   \n",
       " [97] \"X93\"    \"X94\"    \"X95\"    \"X96\"    \"X97\"    \"X98\"    \"X99\"    \"X100\"  "
      ]
     },
     "metadata": {},
     "output_type": "display_data"
    }
   ],
   "source": [
    "PobBcn<-read.csv(\"HAVD_Exo02.csv\", header=TRUE,sep=\",\")\n",
    "head(PobBcn)\n",
    "tail(PobBcn)\n",
    "nrow(PobBcn)\n",
    "library(ggplot2)\n",
    "library(tidyr)\n",
    "names(PobBcn)"
   ]
  },
  {
   "cell_type": "code",
   "execution_count": 19,
   "metadata": {},
   "outputs": [
    {
     "data": {
      "text/html": [
       "<table>\n",
       "<caption>A data.frame: 6 × 101</caption>\n",
       "<thead>\n",
       "\t<tr><th></th><th scope=col>X0</th><th scope=col>X1</th><th scope=col>X2</th><th scope=col>X3</th><th scope=col>X4</th><th scope=col>X5</th><th scope=col>X6</th><th scope=col>X7</th><th scope=col>X8</th><th scope=col>X9</th><th scope=col>...</th><th scope=col>X91</th><th scope=col>X92</th><th scope=col>X93</th><th scope=col>X94</th><th scope=col>X95</th><th scope=col>X96</th><th scope=col>X97</th><th scope=col>X98</th><th scope=col>X99</th><th scope=col>X100</th></tr>\n",
       "\t<tr><th></th><th scope=col>&lt;int&gt;</th><th scope=col>&lt;int&gt;</th><th scope=col>&lt;int&gt;</th><th scope=col>&lt;int&gt;</th><th scope=col>&lt;int&gt;</th><th scope=col>&lt;int&gt;</th><th scope=col>&lt;int&gt;</th><th scope=col>&lt;int&gt;</th><th scope=col>&lt;int&gt;</th><th scope=col>&lt;int&gt;</th><th scope=col>...</th><th scope=col>&lt;int&gt;</th><th scope=col>&lt;int&gt;</th><th scope=col>&lt;int&gt;</th><th scope=col>&lt;int&gt;</th><th scope=col>&lt;int&gt;</th><th scope=col>&lt;int&gt;</th><th scope=col>&lt;int&gt;</th><th scope=col>&lt;int&gt;</th><th scope=col>&lt;int&gt;</th><th scope=col>&lt;int&gt;</th></tr>\n",
       "</thead>\n",
       "<tbody>\n",
       "\t<tr><th scope=row>1</th><td>13633</td><td>13918</td><td>13712</td><td>13533</td><td>14018</td><td>13968</td><td>13801</td><td>13747</td><td>14288</td><td>13588</td><td>...</td><td>4528</td><td>3761</td><td>2923</td><td>2309</td><td>1658</td><td>1223</td><td>827</td><td>565</td><td>398</td><td>767</td></tr>\n",
       "\t<tr><th scope=row>2</th><td>  449</td><td>  431</td><td>  409</td><td>  396</td><td>  457</td><td>  475</td><td>  462</td><td>  414</td><td>  439</td><td>  374</td><td>...</td><td>  91</td><td>  67</td><td>  50</td><td>  30</td><td>  30</td><td>  20</td><td> 12</td><td>  9</td><td>  2</td><td> 12</td></tr>\n",
       "\t<tr><th scope=row>3</th><td>   99</td><td>   97</td><td>   93</td><td>   88</td><td>   99</td><td>   97</td><td>   89</td><td>   81</td><td>   82</td><td>   85</td><td>...</td><td>  38</td><td>  36</td><td>  27</td><td>  25</td><td>  11</td><td>   9</td><td> 11</td><td>  3</td><td>  0</td><td> 11</td></tr>\n",
       "\t<tr><th scope=row>4</th><td>   94</td><td>  100</td><td>   86</td><td>  101</td><td>   80</td><td>   71</td><td>   86</td><td>   86</td><td>   80</td><td>   68</td><td>...</td><td>  30</td><td>  37</td><td>  29</td><td>  15</td><td>  15</td><td>  12</td><td>  6</td><td>  3</td><td>  5</td><td>  5</td></tr>\n",
       "\t<tr><th scope=row>5</th><td>  177</td><td>  168</td><td>  166</td><td>  145</td><td>  166</td><td>  164</td><td>  145</td><td>  138</td><td>  181</td><td>  139</td><td>...</td><td>  38</td><td>  42</td><td>  31</td><td>  28</td><td>  12</td><td>   9</td><td>  6</td><td>  8</td><td>  5</td><td> 14</td></tr>\n",
       "\t<tr><th scope=row>6</th><td>  251</td><td>  266</td><td>  268</td><td>  240</td><td>  281</td><td>  238</td><td>  262</td><td>  241</td><td>  246</td><td>  247</td><td>...</td><td> 106</td><td>  73</td><td>  75</td><td>  49</td><td>  44</td><td>  31</td><td> 17</td><td> 16</td><td>  7</td><td> 14</td></tr>\n",
       "</tbody>\n",
       "</table>\n"
      ],
      "text/latex": [
       "A data.frame: 6 × 101\n",
       "\\begin{tabular}{r|lllllllllllllllllllll}\n",
       "  & X0 & X1 & X2 & X3 & X4 & X5 & X6 & X7 & X8 & X9 & ... & X91 & X92 & X93 & X94 & X95 & X96 & X97 & X98 & X99 & X100\\\\\n",
       "  & <int> & <int> & <int> & <int> & <int> & <int> & <int> & <int> & <int> & <int> & ... & <int> & <int> & <int> & <int> & <int> & <int> & <int> & <int> & <int> & <int>\\\\\n",
       "\\hline\n",
       "\t1 & 13633 & 13918 & 13712 & 13533 & 14018 & 13968 & 13801 & 13747 & 14288 & 13588 & ... & 4528 & 3761 & 2923 & 2309 & 1658 & 1223 & 827 & 565 & 398 & 767\\\\\n",
       "\t2 &   449 &   431 &   409 &   396 &   457 &   475 &   462 &   414 &   439 &   374 & ... &   91 &   67 &   50 &   30 &   30 &   20 &  12 &   9 &   2 &  12\\\\\n",
       "\t3 &    99 &    97 &    93 &    88 &    99 &    97 &    89 &    81 &    82 &    85 & ... &   38 &   36 &   27 &   25 &   11 &    9 &  11 &   3 &   0 &  11\\\\\n",
       "\t4 &    94 &   100 &    86 &   101 &    80 &    71 &    86 &    86 &    80 &    68 & ... &   30 &   37 &   29 &   15 &   15 &   12 &   6 &   3 &   5 &   5\\\\\n",
       "\t5 &   177 &   168 &   166 &   145 &   166 &   164 &   145 &   138 &   181 &   139 & ... &   38 &   42 &   31 &   28 &   12 &    9 &   6 &   8 &   5 &  14\\\\\n",
       "\t6 &   251 &   266 &   268 &   240 &   281 &   238 &   262 &   241 &   246 &   247 & ... &  106 &   73 &   75 &   49 &   44 &   31 &  17 &  16 &   7 &  14\\\\\n",
       "\\end{tabular}\n"
      ],
      "text/markdown": [
       "\n",
       "A data.frame: 6 × 101\n",
       "\n",
       "| <!--/--> | X0 &lt;int&gt; | X1 &lt;int&gt; | X2 &lt;int&gt; | X3 &lt;int&gt; | X4 &lt;int&gt; | X5 &lt;int&gt; | X6 &lt;int&gt; | X7 &lt;int&gt; | X8 &lt;int&gt; | X9 &lt;int&gt; | ... ... | X91 &lt;int&gt; | X92 &lt;int&gt; | X93 &lt;int&gt; | X94 &lt;int&gt; | X95 &lt;int&gt; | X96 &lt;int&gt; | X97 &lt;int&gt; | X98 &lt;int&gt; | X99 &lt;int&gt; | X100 &lt;int&gt; |\n",
       "|---|---|---|---|---|---|---|---|---|---|---|---|---|---|---|---|---|---|---|---|---|---|\n",
       "| 1 | 13633 | 13918 | 13712 | 13533 | 14018 | 13968 | 13801 | 13747 | 14288 | 13588 | ... | 4528 | 3761 | 2923 | 2309 | 1658 | 1223 | 827 | 565 | 398 | 767 |\n",
       "| 2 |   449 |   431 |   409 |   396 |   457 |   475 |   462 |   414 |   439 |   374 | ... |   91 |   67 |   50 |   30 |   30 |   20 |  12 |   9 |   2 |  12 |\n",
       "| 3 |    99 |    97 |    93 |    88 |    99 |    97 |    89 |    81 |    82 |    85 | ... |   38 |   36 |   27 |   25 |   11 |    9 |  11 |   3 |   0 |  11 |\n",
       "| 4 |    94 |   100 |    86 |   101 |    80 |    71 |    86 |    86 |    80 |    68 | ... |   30 |   37 |   29 |   15 |   15 |   12 |   6 |   3 |   5 |   5 |\n",
       "| 5 |   177 |   168 |   166 |   145 |   166 |   164 |   145 |   138 |   181 |   139 | ... |   38 |   42 |   31 |   28 |   12 |    9 |   6 |   8 |   5 |  14 |\n",
       "| 6 |   251 |   266 |   268 |   240 |   281 |   238 |   262 |   241 |   246 |   247 | ... |  106 |   73 |   75 |   49 |   44 |   31 |  17 |  16 |   7 |  14 |\n",
       "\n"
      ],
      "text/plain": [
       "  X0    X1    X2    X3    X4    X5    X6    X7    X8    X9    ... X91  X92 \n",
       "1 13633 13918 13712 13533 14018 13968 13801 13747 14288 13588 ... 4528 3761\n",
       "2   449   431   409   396   457   475   462   414   439   374 ...   91   67\n",
       "3    99    97    93    88    99    97    89    81    82    85 ...   38   36\n",
       "4    94   100    86   101    80    71    86    86    80    68 ...   30   37\n",
       "5   177   168   166   145   166   164   145   138   181   139 ...   38   42\n",
       "6   251   266   268   240   281   238   262   241   246   247 ...  106   73\n",
       "  X93  X94  X95  X96  X97 X98 X99 X100\n",
       "1 2923 2309 1658 1223 827 565 398 767 \n",
       "2   50   30   30   20  12   9   2  12 \n",
       "3   27   25   11    9  11   3   0  11 \n",
       "4   29   15   15   12   6   3   5   5 \n",
       "5   31   28   12    9   6   8   5  14 \n",
       "6   75   49   44   31  17  16   7  14 "
      ]
     },
     "metadata": {},
     "output_type": "display_data"
    }
   ],
   "source": [
    "PobBcnfiltro<-subset(PobBcn, select=c(X0:X100))\n",
    "head(PobBcnfiltro)"
   ]
  },
  {
   "cell_type": "code",
   "execution_count": 20,
   "metadata": {},
   "outputs": [
    {
     "data": {
      "text/html": [
       "<table>\n",
       "<caption>A data.frame: 1 × 101</caption>\n",
       "<thead>\n",
       "\t<tr><th></th><th scope=col>X0</th><th scope=col>X1</th><th scope=col>X2</th><th scope=col>X3</th><th scope=col>X4</th><th scope=col>X5</th><th scope=col>X6</th><th scope=col>X7</th><th scope=col>X8</th><th scope=col>X9</th><th scope=col>...</th><th scope=col>X91</th><th scope=col>X92</th><th scope=col>X93</th><th scope=col>X94</th><th scope=col>X95</th><th scope=col>X96</th><th scope=col>X97</th><th scope=col>X98</th><th scope=col>X99</th><th scope=col>X100</th></tr>\n",
       "\t<tr><th></th><th scope=col>&lt;int&gt;</th><th scope=col>&lt;int&gt;</th><th scope=col>&lt;int&gt;</th><th scope=col>&lt;int&gt;</th><th scope=col>&lt;int&gt;</th><th scope=col>&lt;int&gt;</th><th scope=col>&lt;int&gt;</th><th scope=col>&lt;int&gt;</th><th scope=col>&lt;int&gt;</th><th scope=col>&lt;int&gt;</th><th scope=col>...</th><th scope=col>&lt;int&gt;</th><th scope=col>&lt;int&gt;</th><th scope=col>&lt;int&gt;</th><th scope=col>&lt;int&gt;</th><th scope=col>&lt;int&gt;</th><th scope=col>&lt;int&gt;</th><th scope=col>&lt;int&gt;</th><th scope=col>&lt;int&gt;</th><th scope=col>&lt;int&gt;</th><th scope=col>&lt;int&gt;</th></tr>\n",
       "</thead>\n",
       "<tbody>\n",
       "\t<tr><th scope=row>1</th><td>13633</td><td>13918</td><td>13712</td><td>13533</td><td>14018</td><td>13968</td><td>13801</td><td>13747</td><td>14288</td><td>13588</td><td>...</td><td>4528</td><td>3761</td><td>2923</td><td>2309</td><td>1658</td><td>1223</td><td>827</td><td>565</td><td>398</td><td>767</td></tr>\n",
       "</tbody>\n",
       "</table>\n"
      ],
      "text/latex": [
       "A data.frame: 1 × 101\n",
       "\\begin{tabular}{r|lllllllllllllllllllll}\n",
       "  & X0 & X1 & X2 & X3 & X4 & X5 & X6 & X7 & X8 & X9 & ... & X91 & X92 & X93 & X94 & X95 & X96 & X97 & X98 & X99 & X100\\\\\n",
       "  & <int> & <int> & <int> & <int> & <int> & <int> & <int> & <int> & <int> & <int> & ... & <int> & <int> & <int> & <int> & <int> & <int> & <int> & <int> & <int> & <int>\\\\\n",
       "\\hline\n",
       "\t1 & 13633 & 13918 & 13712 & 13533 & 14018 & 13968 & 13801 & 13747 & 14288 & 13588 & ... & 4528 & 3761 & 2923 & 2309 & 1658 & 1223 & 827 & 565 & 398 & 767\\\\\n",
       "\\end{tabular}\n"
      ],
      "text/markdown": [
       "\n",
       "A data.frame: 1 × 101\n",
       "\n",
       "| <!--/--> | X0 &lt;int&gt; | X1 &lt;int&gt; | X2 &lt;int&gt; | X3 &lt;int&gt; | X4 &lt;int&gt; | X5 &lt;int&gt; | X6 &lt;int&gt; | X7 &lt;int&gt; | X8 &lt;int&gt; | X9 &lt;int&gt; | ... ... | X91 &lt;int&gt; | X92 &lt;int&gt; | X93 &lt;int&gt; | X94 &lt;int&gt; | X95 &lt;int&gt; | X96 &lt;int&gt; | X97 &lt;int&gt; | X98 &lt;int&gt; | X99 &lt;int&gt; | X100 &lt;int&gt; |\n",
       "|---|---|---|---|---|---|---|---|---|---|---|---|---|---|---|---|---|---|---|---|---|---|\n",
       "| 1 | 13633 | 13918 | 13712 | 13533 | 14018 | 13968 | 13801 | 13747 | 14288 | 13588 | ... | 4528 | 3761 | 2923 | 2309 | 1658 | 1223 | 827 | 565 | 398 | 767 |\n",
       "\n"
      ],
      "text/plain": [
       "  X0    X1    X2    X3    X4    X5    X6    X7    X8    X9    ... X91  X92 \n",
       "1 13633 13918 13712 13533 14018 13968 13801 13747 14288 13588 ... 4528 3761\n",
       "  X93  X94  X95  X96  X97 X98 X99 X100\n",
       "1 2923 2309 1658 1223 827 565 398 767 "
      ]
     },
     "metadata": {},
     "output_type": "display_data"
    },
    {
     "data": {
      "text/html": [
       "<style>\n",
       ".list-inline {list-style: none; margin:0; padding: 0}\n",
       ".list-inline>li {display: inline-block}\n",
       ".list-inline>li:not(:last-child)::after {content: \"\\00b7\"; padding: 0 .5ex}\n",
       "</style>\n",
       "<ol class=list-inline><li>'X0'</li><li>'X1'</li><li>'X2'</li><li>'X3'</li><li>'X4'</li><li>'X5'</li><li>'X6'</li><li>'X7'</li><li>'X8'</li><li>'X9'</li><li>'X10'</li><li>'X11'</li><li>'X12'</li><li>'X13'</li><li>'X14'</li><li>'X15'</li><li>'X16'</li><li>'X17'</li><li>'X18'</li><li>'X19'</li><li>'X20'</li><li>'X21'</li><li>'X22'</li><li>'X23'</li><li>'X24'</li><li>'X25'</li><li>'X26'</li><li>'X27'</li><li>'X28'</li><li>'X29'</li><li>'X30'</li><li>'X31'</li><li>'X32'</li><li>'X33'</li><li>'X34'</li><li>'X35'</li><li>'X36'</li><li>'X37'</li><li>'X38'</li><li>'X39'</li><li>'X40'</li><li>'X41'</li><li>'X42'</li><li>'X43'</li><li>'X44'</li><li>'X45'</li><li>'X46'</li><li>'X47'</li><li>'X48'</li><li>'X49'</li><li>'X50'</li><li>'X51'</li><li>'X52'</li><li>'X53'</li><li>'X54'</li><li>'X55'</li><li>'X56'</li><li>'X57'</li><li>'X58'</li><li>'X59'</li><li>'X60'</li><li>'X61'</li><li>'X62'</li><li>'X63'</li><li>'X64'</li><li>'X65'</li><li>'X66'</li><li>'X67'</li><li>'X68'</li><li>'X69'</li><li>'X70'</li><li>'X71'</li><li>'X72'</li><li>'X73'</li><li>'X74'</li><li>'X75'</li><li>'X76'</li><li>'X77'</li><li>'X78'</li><li>'X79'</li><li>'X80'</li><li>'X81'</li><li>'X82'</li><li>'X83'</li><li>'X84'</li><li>'X85'</li><li>'X86'</li><li>'X87'</li><li>'X88'</li><li>'X89'</li><li>'X90'</li><li>'X91'</li><li>'X92'</li><li>'X93'</li><li>'X94'</li><li>'X95'</li><li>'X96'</li><li>'X97'</li><li>'X98'</li><li>'X99'</li><li>'X100'</li></ol>\n"
      ],
      "text/latex": [
       "\\begin{enumerate*}\n",
       "\\item 'X0'\n",
       "\\item 'X1'\n",
       "\\item 'X2'\n",
       "\\item 'X3'\n",
       "\\item 'X4'\n",
       "\\item 'X5'\n",
       "\\item 'X6'\n",
       "\\item 'X7'\n",
       "\\item 'X8'\n",
       "\\item 'X9'\n",
       "\\item 'X10'\n",
       "\\item 'X11'\n",
       "\\item 'X12'\n",
       "\\item 'X13'\n",
       "\\item 'X14'\n",
       "\\item 'X15'\n",
       "\\item 'X16'\n",
       "\\item 'X17'\n",
       "\\item 'X18'\n",
       "\\item 'X19'\n",
       "\\item 'X20'\n",
       "\\item 'X21'\n",
       "\\item 'X22'\n",
       "\\item 'X23'\n",
       "\\item 'X24'\n",
       "\\item 'X25'\n",
       "\\item 'X26'\n",
       "\\item 'X27'\n",
       "\\item 'X28'\n",
       "\\item 'X29'\n",
       "\\item 'X30'\n",
       "\\item 'X31'\n",
       "\\item 'X32'\n",
       "\\item 'X33'\n",
       "\\item 'X34'\n",
       "\\item 'X35'\n",
       "\\item 'X36'\n",
       "\\item 'X37'\n",
       "\\item 'X38'\n",
       "\\item 'X39'\n",
       "\\item 'X40'\n",
       "\\item 'X41'\n",
       "\\item 'X42'\n",
       "\\item 'X43'\n",
       "\\item 'X44'\n",
       "\\item 'X45'\n",
       "\\item 'X46'\n",
       "\\item 'X47'\n",
       "\\item 'X48'\n",
       "\\item 'X49'\n",
       "\\item 'X50'\n",
       "\\item 'X51'\n",
       "\\item 'X52'\n",
       "\\item 'X53'\n",
       "\\item 'X54'\n",
       "\\item 'X55'\n",
       "\\item 'X56'\n",
       "\\item 'X57'\n",
       "\\item 'X58'\n",
       "\\item 'X59'\n",
       "\\item 'X60'\n",
       "\\item 'X61'\n",
       "\\item 'X62'\n",
       "\\item 'X63'\n",
       "\\item 'X64'\n",
       "\\item 'X65'\n",
       "\\item 'X66'\n",
       "\\item 'X67'\n",
       "\\item 'X68'\n",
       "\\item 'X69'\n",
       "\\item 'X70'\n",
       "\\item 'X71'\n",
       "\\item 'X72'\n",
       "\\item 'X73'\n",
       "\\item 'X74'\n",
       "\\item 'X75'\n",
       "\\item 'X76'\n",
       "\\item 'X77'\n",
       "\\item 'X78'\n",
       "\\item 'X79'\n",
       "\\item 'X80'\n",
       "\\item 'X81'\n",
       "\\item 'X82'\n",
       "\\item 'X83'\n",
       "\\item 'X84'\n",
       "\\item 'X85'\n",
       "\\item 'X86'\n",
       "\\item 'X87'\n",
       "\\item 'X88'\n",
       "\\item 'X89'\n",
       "\\item 'X90'\n",
       "\\item 'X91'\n",
       "\\item 'X92'\n",
       "\\item 'X93'\n",
       "\\item 'X94'\n",
       "\\item 'X95'\n",
       "\\item 'X96'\n",
       "\\item 'X97'\n",
       "\\item 'X98'\n",
       "\\item 'X99'\n",
       "\\item 'X100'\n",
       "\\end{enumerate*}\n"
      ],
      "text/markdown": [
       "1. 'X0'\n",
       "2. 'X1'\n",
       "3. 'X2'\n",
       "4. 'X3'\n",
       "5. 'X4'\n",
       "6. 'X5'\n",
       "7. 'X6'\n",
       "8. 'X7'\n",
       "9. 'X8'\n",
       "10. 'X9'\n",
       "11. 'X10'\n",
       "12. 'X11'\n",
       "13. 'X12'\n",
       "14. 'X13'\n",
       "15. 'X14'\n",
       "16. 'X15'\n",
       "17. 'X16'\n",
       "18. 'X17'\n",
       "19. 'X18'\n",
       "20. 'X19'\n",
       "21. 'X20'\n",
       "22. 'X21'\n",
       "23. 'X22'\n",
       "24. 'X23'\n",
       "25. 'X24'\n",
       "26. 'X25'\n",
       "27. 'X26'\n",
       "28. 'X27'\n",
       "29. 'X28'\n",
       "30. 'X29'\n",
       "31. 'X30'\n",
       "32. 'X31'\n",
       "33. 'X32'\n",
       "34. 'X33'\n",
       "35. 'X34'\n",
       "36. 'X35'\n",
       "37. 'X36'\n",
       "38. 'X37'\n",
       "39. 'X38'\n",
       "40. 'X39'\n",
       "41. 'X40'\n",
       "42. 'X41'\n",
       "43. 'X42'\n",
       "44. 'X43'\n",
       "45. 'X44'\n",
       "46. 'X45'\n",
       "47. 'X46'\n",
       "48. 'X47'\n",
       "49. 'X48'\n",
       "50. 'X49'\n",
       "51. 'X50'\n",
       "52. 'X51'\n",
       "53. 'X52'\n",
       "54. 'X53'\n",
       "55. 'X54'\n",
       "56. 'X55'\n",
       "57. 'X56'\n",
       "58. 'X57'\n",
       "59. 'X58'\n",
       "60. 'X59'\n",
       "61. 'X60'\n",
       "62. 'X61'\n",
       "63. 'X62'\n",
       "64. 'X63'\n",
       "65. 'X64'\n",
       "66. 'X65'\n",
       "67. 'X66'\n",
       "68. 'X67'\n",
       "69. 'X68'\n",
       "70. 'X69'\n",
       "71. 'X70'\n",
       "72. 'X71'\n",
       "73. 'X72'\n",
       "74. 'X73'\n",
       "75. 'X74'\n",
       "76. 'X75'\n",
       "77. 'X76'\n",
       "78. 'X77'\n",
       "79. 'X78'\n",
       "80. 'X79'\n",
       "81. 'X80'\n",
       "82. 'X81'\n",
       "83. 'X82'\n",
       "84. 'X83'\n",
       "85. 'X84'\n",
       "86. 'X85'\n",
       "87. 'X86'\n",
       "88. 'X87'\n",
       "89. 'X88'\n",
       "90. 'X89'\n",
       "91. 'X90'\n",
       "92. 'X91'\n",
       "93. 'X92'\n",
       "94. 'X93'\n",
       "95. 'X94'\n",
       "96. 'X95'\n",
       "97. 'X96'\n",
       "98. 'X97'\n",
       "99. 'X98'\n",
       "100. 'X99'\n",
       "101. 'X100'\n",
       "\n",
       "\n"
      ],
      "text/plain": [
       "  [1] \"X0\"   \"X1\"   \"X2\"   \"X3\"   \"X4\"   \"X5\"   \"X6\"   \"X7\"   \"X8\"   \"X9\"  \n",
       " [11] \"X10\"  \"X11\"  \"X12\"  \"X13\"  \"X14\"  \"X15\"  \"X16\"  \"X17\"  \"X18\"  \"X19\" \n",
       " [21] \"X20\"  \"X21\"  \"X22\"  \"X23\"  \"X24\"  \"X25\"  \"X26\"  \"X27\"  \"X28\"  \"X29\" \n",
       " [31] \"X30\"  \"X31\"  \"X32\"  \"X33\"  \"X34\"  \"X35\"  \"X36\"  \"X37\"  \"X38\"  \"X39\" \n",
       " [41] \"X40\"  \"X41\"  \"X42\"  \"X43\"  \"X44\"  \"X45\"  \"X46\"  \"X47\"  \"X48\"  \"X49\" \n",
       " [51] \"X50\"  \"X51\"  \"X52\"  \"X53\"  \"X54\"  \"X55\"  \"X56\"  \"X57\"  \"X58\"  \"X59\" \n",
       " [61] \"X60\"  \"X61\"  \"X62\"  \"X63\"  \"X64\"  \"X65\"  \"X66\"  \"X67\"  \"X68\"  \"X69\" \n",
       " [71] \"X70\"  \"X71\"  \"X72\"  \"X73\"  \"X74\"  \"X75\"  \"X76\"  \"X77\"  \"X78\"  \"X79\" \n",
       " [81] \"X80\"  \"X81\"  \"X82\"  \"X83\"  \"X84\"  \"X85\"  \"X86\"  \"X87\"  \"X88\"  \"X89\" \n",
       " [91] \"X90\"  \"X91\"  \"X92\"  \"X93\"  \"X94\"  \"X95\"  \"X96\"  \"X97\"  \"X98\"  \"X99\" \n",
       "[101] \"X100\""
      ]
     },
     "metadata": {},
     "output_type": "display_data"
    }
   ],
   "source": [
    "PobBcnfiltro2<-PobBcnfiltro[PobBcnfiltro$X100>700,]\n",
    "head(PobBcnfiltro2)\n",
    "names(PobBcnfiltro2)"
   ]
  },
  {
   "cell_type": "code",
   "execution_count": 127,
   "metadata": {},
   "outputs": [
    {
     "data": {
      "text/html": [
       "<table>\n",
       "<caption>A data.frame: 6 × 2</caption>\n",
       "<thead>\n",
       "\t<tr><th></th><th scope=col>Poblacion</th><th scope=col>Edad</th></tr>\n",
       "\t<tr><th></th><th scope=col>&lt;int&gt;</th><th scope=col>&lt;int&gt;</th></tr>\n",
       "</thead>\n",
       "<tbody>\n",
       "\t<tr><th scope=row>X0</th><td>13633</td><td>0</td></tr>\n",
       "\t<tr><th scope=row>X1</th><td>13918</td><td>1</td></tr>\n",
       "\t<tr><th scope=row>X2</th><td>13712</td><td>2</td></tr>\n",
       "\t<tr><th scope=row>X3</th><td>13533</td><td>3</td></tr>\n",
       "\t<tr><th scope=row>X4</th><td>14018</td><td>4</td></tr>\n",
       "\t<tr><th scope=row>X5</th><td>13968</td><td>5</td></tr>\n",
       "</tbody>\n",
       "</table>\n"
      ],
      "text/latex": [
       "A data.frame: 6 × 2\n",
       "\\begin{tabular}{r|ll}\n",
       "  & Poblacion & Edad\\\\\n",
       "  & <int> & <int>\\\\\n",
       "\\hline\n",
       "\tX0 & 13633 & 0\\\\\n",
       "\tX1 & 13918 & 1\\\\\n",
       "\tX2 & 13712 & 2\\\\\n",
       "\tX3 & 13533 & 3\\\\\n",
       "\tX4 & 14018 & 4\\\\\n",
       "\tX5 & 13968 & 5\\\\\n",
       "\\end{tabular}\n"
      ],
      "text/markdown": [
       "\n",
       "A data.frame: 6 × 2\n",
       "\n",
       "| <!--/--> | Poblacion &lt;int&gt; | Edad &lt;int&gt; |\n",
       "|---|---|---|\n",
       "| X0 | 13633 | 0 |\n",
       "| X1 | 13918 | 1 |\n",
       "| X2 | 13712 | 2 |\n",
       "| X3 | 13533 | 3 |\n",
       "| X4 | 14018 | 4 |\n",
       "| X5 | 13968 | 5 |\n",
       "\n"
      ],
      "text/plain": [
       "   Poblacion Edad\n",
       "X0 13633     0   \n",
       "X1 13918     1   \n",
       "X2 13712     2   \n",
       "X3 13533     3   \n",
       "X4 14018     4   \n",
       "X5 13968     5   "
      ]
     },
     "metadata": {},
     "output_type": "display_data"
    },
    {
     "data": {
      "text/html": [
       "<table>\n",
       "<caption>A data.frame: 6 × 1</caption>\n",
       "<thead>\n",
       "\t<tr><th></th><th scope=col>Poblacion</th></tr>\n",
       "\t<tr><th></th><th scope=col>&lt;int&gt;</th></tr>\n",
       "</thead>\n",
       "<tbody>\n",
       "\t<tr><th scope=row>X0</th><td>13633</td></tr>\n",
       "\t<tr><th scope=row>X1</th><td>13918</td></tr>\n",
       "\t<tr><th scope=row>X2</th><td>13712</td></tr>\n",
       "\t<tr><th scope=row>X3</th><td>13533</td></tr>\n",
       "\t<tr><th scope=row>X4</th><td>14018</td></tr>\n",
       "\t<tr><th scope=row>X5</th><td>13968</td></tr>\n",
       "</tbody>\n",
       "</table>\n"
      ],
      "text/latex": [
       "A data.frame: 6 × 1\n",
       "\\begin{tabular}{r|l}\n",
       "  & Poblacion\\\\\n",
       "  & <int>\\\\\n",
       "\\hline\n",
       "\tX0 & 13633\\\\\n",
       "\tX1 & 13918\\\\\n",
       "\tX2 & 13712\\\\\n",
       "\tX3 & 13533\\\\\n",
       "\tX4 & 14018\\\\\n",
       "\tX5 & 13968\\\\\n",
       "\\end{tabular}\n"
      ],
      "text/markdown": [
       "\n",
       "A data.frame: 6 × 1\n",
       "\n",
       "| <!--/--> | Poblacion &lt;int&gt; |\n",
       "|---|---|\n",
       "| X0 | 13633 |\n",
       "| X1 | 13918 |\n",
       "| X2 | 13712 |\n",
       "| X3 | 13533 |\n",
       "| X4 | 14018 |\n",
       "| X5 | 13968 |\n",
       "\n"
      ],
      "text/plain": [
       "   Poblacion\n",
       "X0 13633    \n",
       "X1 13918    \n",
       "X2 13712    \n",
       "X3 13533    \n",
       "X4 14018    \n",
       "X5 13968    "
      ]
     },
     "metadata": {},
     "output_type": "display_data"
    }
   ],
   "source": [
    "PoBcnfiltro_tras<-data.frame(t(PobBcnfiltro2))\n",
    "Edad=0:100\n",
    "colnames(PoBcnfiltro_tras)<-(\"Poblacion\")\n",
    "PoBcnfiltro_tras2<-cbind(PoBcnfiltro_tras,Edad)\n",
    "head(PoBcnfiltro_tras2)\n",
    "head(PoBcnfiltro_tras)"
   ]
  },
  {
   "cell_type": "code",
   "execution_count": 108,
   "metadata": {},
   "outputs": [
    {
     "data": {
      "image/png": "[encoded data removed]",
      "text/plain": [
       "plot without title"
      ]
     },
     "metadata": {
      "image/png": {
       "height": 420,
       "width": 420
      }
     },
     "output_type": "display_data"
    }
   ],
   "source": [
    "Primer<- ggplot(PoBcnfiltro_tras2, aes(x=Edad, y=Poblacion)) \n",
    "Primer + geom_col()"
   ]
  },
  {
   "cell_type": "code",
   "execution_count": 109,
   "metadata": {},
   "outputs": [
    {
     "data": {
      "text/html": [
       "<table>\n",
       "<caption>A data.frame: 6 × 3</caption>\n",
       "<thead>\n",
       "\t<tr><th></th><th scope=col>Poblacion</th><th scope=col>Edad</th><th scope=col>Calculo1</th></tr>\n",
       "\t<tr><th></th><th scope=col>&lt;int&gt;</th><th scope=col>&lt;int&gt;</th><th scope=col>&lt;dbl&gt;</th></tr>\n",
       "</thead>\n",
       "<tbody>\n",
       "\t<tr><th scope=row>X0</th><td>13633</td><td>0</td><td>0.000000000</td></tr>\n",
       "\t<tr><th scope=row>X1</th><td>13918</td><td>1</td><td>0.008564201</td></tr>\n",
       "\t<tr><th scope=row>X2</th><td>13712</td><td>2</td><td>0.016874885</td></tr>\n",
       "\t<tr><th scope=row>X3</th><td>13533</td><td>3</td><td>0.024981894</td></tr>\n",
       "\t<tr><th scope=row>X4</th><td>14018</td><td>4</td><td>0.034502937</td></tr>\n",
       "\t<tr><th scope=row>X5</th><td>13968</td><td>5</td><td>0.042974838</td></tr>\n",
       "</tbody>\n",
       "</table>\n"
      ],
      "text/latex": [
       "A data.frame: 6 × 3\n",
       "\\begin{tabular}{r|lll}\n",
       "  & Poblacion & Edad & Calculo1\\\\\n",
       "  & <int> & <int> & <dbl>\\\\\n",
       "\\hline\n",
       "\tX0 & 13633 & 0 & 0.000000000\\\\\n",
       "\tX1 & 13918 & 1 & 0.008564201\\\\\n",
       "\tX2 & 13712 & 2 & 0.016874885\\\\\n",
       "\tX3 & 13533 & 3 & 0.024981894\\\\\n",
       "\tX4 & 14018 & 4 & 0.034502937\\\\\n",
       "\tX5 & 13968 & 5 & 0.042974838\\\\\n",
       "\\end{tabular}\n"
      ],
      "text/markdown": [
       "\n",
       "A data.frame: 6 × 3\n",
       "\n",
       "| <!--/--> | Poblacion &lt;int&gt; | Edad &lt;int&gt; | Calculo1 &lt;dbl&gt; |\n",
       "|---|---|---|---|\n",
       "| X0 | 13633 | 0 | 0.000000000 |\n",
       "| X1 | 13918 | 1 | 0.008564201 |\n",
       "| X2 | 13712 | 2 | 0.016874885 |\n",
       "| X3 | 13533 | 3 | 0.024981894 |\n",
       "| X4 | 14018 | 4 | 0.034502937 |\n",
       "| X5 | 13968 | 5 | 0.042974838 |\n",
       "\n"
      ],
      "text/plain": [
       "   Poblacion Edad Calculo1   \n",
       "X0 13633     0    0.000000000\n",
       "X1 13918     1    0.008564201\n",
       "X2 13712     2    0.016874885\n",
       "X3 13533     3    0.024981894\n",
       "X4 14018     4    0.034502937\n",
       "X5 13968     5    0.042974838"
      ]
     },
     "metadata": {},
     "output_type": "display_data"
    },
    {
     "data": {
      "text/html": [
       "<table>\n",
       "<caption>A data.frame: 6 × 3</caption>\n",
       "<thead>\n",
       "\t<tr><th></th><th scope=col>Poblacion</th><th scope=col>Edad</th><th scope=col>Calculo1</th></tr>\n",
       "\t<tr><th></th><th scope=col>&lt;int&gt;</th><th scope=col>&lt;int&gt;</th><th scope=col>&lt;dbl&gt;</th></tr>\n",
       "</thead>\n",
       "<tbody>\n",
       "\t<tr><th scope=row>X95</th><td>1658</td><td> 95</td><td>0.09692106</td></tr>\n",
       "\t<tr><th scope=row>X96</th><td>1223</td><td> 96</td><td>0.07224499</td></tr>\n",
       "\t<tr><th scope=row>X97</th><td> 827</td><td> 97</td><td>0.04936138</td></tr>\n",
       "\t<tr><th scope=row>X98</th><td> 565</td><td> 98</td><td>0.03407097</td></tr>\n",
       "\t<tr><th scope=row>X99</th><td> 398</td><td> 99</td><td>0.02424534</td></tr>\n",
       "\t<tr><th scope=row>X100</th><td> 767</td><td>100</td><td>0.04719602</td></tr>\n",
       "</tbody>\n",
       "</table>\n"
      ],
      "text/latex": [
       "A data.frame: 6 × 3\n",
       "\\begin{tabular}{r|lll}\n",
       "  & Poblacion & Edad & Calculo1\\\\\n",
       "  & <int> & <int> & <dbl>\\\\\n",
       "\\hline\n",
       "\tX95 & 1658 &  95 & 0.09692106\\\\\n",
       "\tX96 & 1223 &  96 & 0.07224499\\\\\n",
       "\tX97 &  827 &  97 & 0.04936138\\\\\n",
       "\tX98 &  565 &  98 & 0.03407097\\\\\n",
       "\tX99 &  398 &  99 & 0.02424534\\\\\n",
       "\tX100 &  767 & 100 & 0.04719602\\\\\n",
       "\\end{tabular}\n"
      ],
      "text/markdown": [
       "\n",
       "A data.frame: 6 × 3\n",
       "\n",
       "| <!--/--> | Poblacion &lt;int&gt; | Edad &lt;int&gt; | Calculo1 &lt;dbl&gt; |\n",
       "|---|---|---|---|\n",
       "| X95 | 1658 |  95 | 0.09692106 |\n",
       "| X96 | 1223 |  96 | 0.07224499 |\n",
       "| X97 |  827 |  97 | 0.04936138 |\n",
       "| X98 |  565 |  98 | 0.03407097 |\n",
       "| X99 |  398 |  99 | 0.02424534 |\n",
       "| X100 |  767 | 100 | 0.04719602 |\n",
       "\n"
      ],
      "text/plain": [
       "     Poblacion Edad Calculo1  \n",
       "X95  1658       95  0.09692106\n",
       "X96  1223       96  0.07224499\n",
       "X97   827       97  0.04936138\n",
       "X98   565       98  0.03407097\n",
       "X99   398       99  0.02424534\n",
       "X100  767      100  0.04719602"
      ]
     },
     "metadata": {},
     "output_type": "display_data"
    },
    {
     "data": {
      "text/html": [
       "<table>\n",
       "<caption>A data.frame: 1 × 2</caption>\n",
       "<thead>\n",
       "\t<tr><th scope=col>Media_edades</th><th scope=col>Ds_ponder</th></tr>\n",
       "\t<tr><th scope=col>&lt;dbl&gt;</th><th scope=col>&lt;dbl&gt;</th></tr>\n",
       "</thead>\n",
       "<tbody>\n",
       "\t<tr><td>43.45789</td><td>0.2656607</td></tr>\n",
       "</tbody>\n",
       "</table>\n"
      ],
      "text/latex": [
       "A data.frame: 1 × 2\n",
       "\\begin{tabular}{ll}\n",
       " Media\\_edades & Ds\\_ponder\\\\\n",
       " <dbl> & <dbl>\\\\\n",
       "\\hline\n",
       "\t 43.45789 & 0.2656607\\\\\n",
       "\\end{tabular}\n"
      ],
      "text/markdown": [
       "\n",
       "A data.frame: 1 × 2\n",
       "\n",
       "| Media_edades &lt;dbl&gt; | Ds_ponder &lt;dbl&gt; |\n",
       "|---|---|\n",
       "| 43.45789 | 0.2656607 |\n",
       "\n"
      ],
      "text/plain": [
       "  Media_edades Ds_ponder\n",
       "1 43.45789     0.2656607"
      ]
     },
     "metadata": {},
     "output_type": "display_data"
    }
   ],
   "source": [
    "Calculo1=(PoBcnfiltro_tras*Edad)/1625137\n",
    "PoBcnfiltro_tras3<-cbind(PoBcnfiltro_tras2,Calculo1)\n",
    "colnames(PoBcnfiltro_tras3)<-c(\"Poblacion\",\"Edad\",\"Calculo1\")\n",
    "head(PoBcnfiltro_tras3)\n",
    "tail(PoBcnfiltro_tras3)\n",
    "summarise(PoBcnfiltro_tras3, Media_edades=sum(Calculo1), Ds_ponder=sd(Calculo1))"
   ]
  },
  {
   "cell_type": "code",
   "execution_count": 145,
   "metadata": {},
   "outputs": [
    {
     "data": {
      "text/html": [
       "26.8317307"
      ],
      "text/latex": [
       "26.8317307"
      ],
      "text/markdown": [
       "26.8317307"
      ],
      "text/plain": [
       "[1] 26.83173"
      ]
     },
     "metadata": {},
     "output_type": "display_data"
    }
   ],
   "source": [
    "Desviacion_estandar=0.2656607*101\n",
    "Media_edades=43.45789\n",
    "Desviacion_estandar"
   ]
  },
  {
   "cell_type": "code",
   "execution_count": 119,
   "metadata": {},
   "outputs": [
    {
     "data": {
      "image/png": "[encoded data removed]",
      "text/plain": [
       "plot without title"
      ]
     },
     "metadata": {
      "image/png": {
       "height": 420,
       "width": 420
      }
     },
     "output_type": "display_data"
    }
   ],
   "source": [
    "ggplot(PoBcnfiltro_tras2, aes(x=1,y=Edad,weight=Poblacion,)) + geom_boxplot()"
   ]
  },
  {
   "cell_type": "code",
   "execution_count": 122,
   "metadata": {},
   "outputs": [
    {
     "data": {
      "image/png": "[encoded data removed]",
      "text/plain": [
       "plot without title"
      ]
     },
     "metadata": {
      "image/png": {
       "height": 420,
       "width": 420
      }
     },
     "output_type": "display_data"
    },
    {
     "data": {
      "image/png": "[encoded data removed]",
      "text/plain": [
       "plot without title"
      ]
     },
     "metadata": {
      "image/png": {
       "height": 420,
       "width": 420
      }
     },
     "output_type": "display_data"
    }
   ],
   "source": [
    "#Histograma y Boxplot por edades\n",
    "Primer + geom_col()\n",
    "ggplot(PoBcnfiltro_tras2, aes(x=1,y=Edad,weight=Poblacion,)) + geom_boxplot()"
   ]
  },
  {
   "cell_type": "code",
   "execution_count": 124,
   "metadata": {},
   "outputs": [
    {
     "data": {
      "text/html": [
       "43.45789"
      ],
      "text/latex": [
       "43.45789"
      ],
      "text/markdown": [
       "43.45789"
      ],
      "text/plain": [
       "[1] 43.45789"
      ]
     },
     "metadata": {},
     "output_type": "display_data"
    },
    {
     "data": {
      "text/html": [
       "26.8317307"
      ],
      "text/latex": [
       "26.8317307"
      ],
      "text/markdown": [
       "26.8317307"
      ],
      "text/plain": [
       "[1] 26.83173"
      ]
     },
     "metadata": {},
     "output_type": "display_data"
    }
   ],
   "source": [
    "#Media y la desviación estándard de la distribución de edades de la ciudad\n",
    "Media_edades\n",
    "Desviacion_estandar"
   ]
  },
  {
   "cell_type": "markdown",
   "metadata": {},
   "source": [
    "Si nos fijamos en el histograma y el gráfico de caja podemos ver claramente como el grueso de la población de Barcelona se centra entre los 26 y 61 años. Es más, según el gráfico de caja el 50% de la población está entre esas edades. Gracias al gráfico de caja y el valor de la media podríamos decir que la distribución de la población de Barcelona tiene una asimetría positiva. Vemos como el gráfico de caja esta ligeramente desplazado hacia edades más jóvenes y en el histograma se ve aún más claro. Lógicamente a partir de edades superiores a los 43 se puede ver en el histograma como la población va decayendo hasta los mínimos. Algo que me ha llamado la atención en exceso es el descenso brusco que hay situada entre las edades 75-100. En la edad 80 hay una caída muy brusca, como si un año muriese mucha gente de una misma edad, o que hace 80 años aproximadamente hubiese o muy poca natalidad o en otro año posterior hubiese mucha emigración. No sé muy bien porque podría ser.\n",
    "Teniendo en cuenta la edad media observamos que es 43,46 años. Es una edad bastante avanzada a mi parecer, demuestra que la población barcelonesa es una población que acabará siendo una población envejecida. En apenas dos décadas. Habrá el doble de jubilados que de trabajadores si se mantiene así. Y en cuanto a la desviación estándar observamos que es un número bastante grande, es de 26,8, Esto significa que las edades están muy alejadas de la media que es 43,46, por lo tanto, indica que los valores de edad se extienden mucho entre ellos.\n",
    "Por suerte, Barcelona siempre ha sido una ciudad que ha traído a mucho trabajador de fuera de Catalunya. Esto puede verse reflejado, tal vez, en que los picos de población están ubicados en las edades en las que se suele trabajar. \n",
    "Por último, me gustaría comentar que, en el histograma, se ve muy claro el problema de los países desarrollados. Poca gente joven respecto a un número muy grande de gente adulta.\n"
   ]
  }
 ],
 "metadata": {
  "kernelspec": {
   "display_name": "R",
   "language": "R",
   "name": "ir"
  },
  "language_info": {
   "codemirror_mode": "r",
   "file_extension": ".r",
   "mimetype": "text/x-r-source",
   "name": "R",
   "pygments_lexer": "r",
   "version": "3.6.1"
  }
 },
 "nbformat": 4,
 "nbformat_minor": 4
}
