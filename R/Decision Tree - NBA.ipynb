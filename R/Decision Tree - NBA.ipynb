{
 "cells": [
  {
   "cell_type": "markdown",
   "metadata": {},
   "source": [
    "# 1.Training and validation - Decision Tree NBA Dataset"
   ]
  },
  {
   "cell_type": "code",
   "execution_count": 1,
   "metadata": {},
   "outputs": [
    {
     "name": "stderr",
     "output_type": "stream",
     "text": [
      "Loading required package: lattice\n",
      "\n",
      "Loading required package: ggplot2\n",
      "\n",
      "Rattle: A free graphical interface for data science with R.\n",
      "Versión 5.3.0 Copyright (c) 2006-2018 Togaware Pty Ltd.\n",
      "Escriba 'rattle()' para agitar, sacudir y  rotar sus datos.\n",
      "\n"
     ]
    }
   ],
   "source": [
    "# Librerias base\n",
    "library(caret) # Libreria de Machine learning\n",
    "library(Matrix) # Libreria para componer eleentos matriciales\n",
    "library(rpart) # Libreria para generar el decision tree\n",
    "library(e1071)\n",
    "\n",
    "# Librerias para visualizar el decision tree\n",
    "library(rattle)\n",
    "library(rpart.plot)\n",
    "library(RColorBrewer)"
   ]
  },
  {
   "cell_type": "markdown",
   "metadata": {},
   "source": [
    "Cargamos el raw dataset"
   ]
  },
  {
   "cell_type": "code",
   "execution_count": 2,
   "metadata": {},
   "outputs": [
    {
     "data": {
      "text/html": [
       "<table>\n",
       "<caption>A data.frame: 6 × 21</caption>\n",
       "<thead>\n",
       "\t<tr><th></th><th scope=col>Name</th><th scope=col>GP</th><th scope=col>MIN</th><th scope=col>PTS</th><th scope=col>FGM</th><th scope=col>FGA</th><th scope=col>FG.</th><th scope=col>X3P.Made</th><th scope=col>X3PA</th><th scope=col>X3P.</th><th scope=col>...</th><th scope=col>FTA</th><th scope=col>FT.</th><th scope=col>OREB</th><th scope=col>DREB</th><th scope=col>REB</th><th scope=col>AST</th><th scope=col>STL</th><th scope=col>BLK</th><th scope=col>TOV</th><th scope=col>class</th></tr>\n",
       "\t<tr><th></th><th scope=col>&lt;fct&gt;</th><th scope=col>&lt;int&gt;</th><th scope=col>&lt;dbl&gt;</th><th scope=col>&lt;dbl&gt;</th><th scope=col>&lt;dbl&gt;</th><th scope=col>&lt;dbl&gt;</th><th scope=col>&lt;dbl&gt;</th><th scope=col>&lt;dbl&gt;</th><th scope=col>&lt;dbl&gt;</th><th scope=col>&lt;dbl&gt;</th><th scope=col>...</th><th scope=col>&lt;dbl&gt;</th><th scope=col>&lt;dbl&gt;</th><th scope=col>&lt;dbl&gt;</th><th scope=col>&lt;dbl&gt;</th><th scope=col>&lt;dbl&gt;</th><th scope=col>&lt;dbl&gt;</th><th scope=col>&lt;dbl&gt;</th><th scope=col>&lt;dbl&gt;</th><th scope=col>&lt;dbl&gt;</th><th scope=col>&lt;dbl&gt;</th></tr>\n",
       "</thead>\n",
       "<tbody>\n",
       "\t<tr><th scope=row>1</th><td>Brandon Ingram </td><td>36</td><td>27.4</td><td>7.4</td><td>2.6</td><td>7.6</td><td>34.7</td><td>0.5</td><td>2.1</td><td>25.0</td><td>...</td><td>2.3</td><td>69.9</td><td>0.7</td><td>3.4</td><td>4.1</td><td>1.9</td><td>0.4</td><td>0.4</td><td>1.3</td><td>0</td></tr>\n",
       "\t<tr><th scope=row>2</th><td>Andrew Harrison</td><td>35</td><td>26.9</td><td>7.2</td><td>2.0</td><td>6.7</td><td>29.6</td><td>0.7</td><td>2.8</td><td>23.5</td><td>...</td><td>3.4</td><td>76.5</td><td>0.5</td><td>2.0</td><td>2.4</td><td>3.7</td><td>1.1</td><td>0.5</td><td>1.6</td><td>0</td></tr>\n",
       "\t<tr><th scope=row>3</th><td>JaKarr Sampson </td><td>74</td><td>15.3</td><td>5.2</td><td>2.0</td><td>4.7</td><td>42.2</td><td>0.4</td><td>1.7</td><td>24.4</td><td>...</td><td>1.3</td><td>67.0</td><td>0.5</td><td>1.7</td><td>2.2</td><td>1.0</td><td>0.5</td><td>0.3</td><td>1.0</td><td>0</td></tr>\n",
       "\t<tr><th scope=row>4</th><td>Malik Sealy    </td><td>58</td><td>11.6</td><td>5.7</td><td>2.3</td><td>5.5</td><td>42.6</td><td>0.1</td><td>0.5</td><td>22.6</td><td>...</td><td>1.3</td><td>68.9</td><td>1.0</td><td>0.9</td><td>1.9</td><td>0.8</td><td>0.6</td><td>0.1</td><td>1.0</td><td>1</td></tr>\n",
       "\t<tr><th scope=row>5</th><td>Matt Geiger    </td><td>48</td><td>11.5</td><td>4.5</td><td>1.6</td><td>3.0</td><td>52.4</td><td>0.0</td><td>0.1</td><td> 0.0</td><td>...</td><td>1.9</td><td>67.4</td><td>1.0</td><td>1.5</td><td>2.5</td><td>0.3</td><td>0.3</td><td>0.4</td><td>0.8</td><td>1</td></tr>\n",
       "\t<tr><th scope=row>6</th><td>Tony Bennett   </td><td>75</td><td>11.4</td><td>3.7</td><td>1.5</td><td>3.5</td><td>42.3</td><td>0.3</td><td>1.1</td><td>32.5</td><td>...</td><td>0.5</td><td>73.2</td><td>0.2</td><td>0.7</td><td>0.8</td><td>1.8</td><td>0.4</td><td>0.0</td><td>0.7</td><td>0</td></tr>\n",
       "</tbody>\n",
       "</table>\n"
      ],
      "text/latex": [
       "A data.frame: 6 × 21\n",
       "\\begin{tabular}{r|lllllllllllllllllllll}\n",
       "  & Name & GP & MIN & PTS & FGM & FGA & FG. & X3P.Made & X3PA & X3P. & ... & FTA & FT. & OREB & DREB & REB & AST & STL & BLK & TOV & class\\\\\n",
       "  & <fct> & <int> & <dbl> & <dbl> & <dbl> & <dbl> & <dbl> & <dbl> & <dbl> & <dbl> & ... & <dbl> & <dbl> & <dbl> & <dbl> & <dbl> & <dbl> & <dbl> & <dbl> & <dbl> & <dbl>\\\\\n",
       "\\hline\n",
       "\t1 & Brandon Ingram  & 36 & 27.4 & 7.4 & 2.6 & 7.6 & 34.7 & 0.5 & 2.1 & 25.0 & ... & 2.3 & 69.9 & 0.7 & 3.4 & 4.1 & 1.9 & 0.4 & 0.4 & 1.3 & 0\\\\\n",
       "\t2 & Andrew Harrison & 35 & 26.9 & 7.2 & 2.0 & 6.7 & 29.6 & 0.7 & 2.8 & 23.5 & ... & 3.4 & 76.5 & 0.5 & 2.0 & 2.4 & 3.7 & 1.1 & 0.5 & 1.6 & 0\\\\\n",
       "\t3 & JaKarr Sampson  & 74 & 15.3 & 5.2 & 2.0 & 4.7 & 42.2 & 0.4 & 1.7 & 24.4 & ... & 1.3 & 67.0 & 0.5 & 1.7 & 2.2 & 1.0 & 0.5 & 0.3 & 1.0 & 0\\\\\n",
       "\t4 & Malik Sealy     & 58 & 11.6 & 5.7 & 2.3 & 5.5 & 42.6 & 0.1 & 0.5 & 22.6 & ... & 1.3 & 68.9 & 1.0 & 0.9 & 1.9 & 0.8 & 0.6 & 0.1 & 1.0 & 1\\\\\n",
       "\t5 & Matt Geiger     & 48 & 11.5 & 4.5 & 1.6 & 3.0 & 52.4 & 0.0 & 0.1 &  0.0 & ... & 1.9 & 67.4 & 1.0 & 1.5 & 2.5 & 0.3 & 0.3 & 0.4 & 0.8 & 1\\\\\n",
       "\t6 & Tony Bennett    & 75 & 11.4 & 3.7 & 1.5 & 3.5 & 42.3 & 0.3 & 1.1 & 32.5 & ... & 0.5 & 73.2 & 0.2 & 0.7 & 0.8 & 1.8 & 0.4 & 0.0 & 0.7 & 0\\\\\n",
       "\\end{tabular}\n"
      ],
      "text/markdown": [
       "\n",
       "A data.frame: 6 × 21\n",
       "\n",
       "| <!--/--> | Name &lt;fct&gt; | GP &lt;int&gt; | MIN &lt;dbl&gt; | PTS &lt;dbl&gt; | FGM &lt;dbl&gt; | FGA &lt;dbl&gt; | FG. &lt;dbl&gt; | X3P.Made &lt;dbl&gt; | X3PA &lt;dbl&gt; | X3P. &lt;dbl&gt; | ... ... | FTA &lt;dbl&gt; | FT. &lt;dbl&gt; | OREB &lt;dbl&gt; | DREB &lt;dbl&gt; | REB &lt;dbl&gt; | AST &lt;dbl&gt; | STL &lt;dbl&gt; | BLK &lt;dbl&gt; | TOV &lt;dbl&gt; | class &lt;dbl&gt; |\n",
       "|---|---|---|---|---|---|---|---|---|---|---|---|---|---|---|---|---|---|---|---|---|---|\n",
       "| 1 | Brandon Ingram  | 36 | 27.4 | 7.4 | 2.6 | 7.6 | 34.7 | 0.5 | 2.1 | 25.0 | ... | 2.3 | 69.9 | 0.7 | 3.4 | 4.1 | 1.9 | 0.4 | 0.4 | 1.3 | 0 |\n",
       "| 2 | Andrew Harrison | 35 | 26.9 | 7.2 | 2.0 | 6.7 | 29.6 | 0.7 | 2.8 | 23.5 | ... | 3.4 | 76.5 | 0.5 | 2.0 | 2.4 | 3.7 | 1.1 | 0.5 | 1.6 | 0 |\n",
       "| 3 | JaKarr Sampson  | 74 | 15.3 | 5.2 | 2.0 | 4.7 | 42.2 | 0.4 | 1.7 | 24.4 | ... | 1.3 | 67.0 | 0.5 | 1.7 | 2.2 | 1.0 | 0.5 | 0.3 | 1.0 | 0 |\n",
       "| 4 | Malik Sealy     | 58 | 11.6 | 5.7 | 2.3 | 5.5 | 42.6 | 0.1 | 0.5 | 22.6 | ... | 1.3 | 68.9 | 1.0 | 0.9 | 1.9 | 0.8 | 0.6 | 0.1 | 1.0 | 1 |\n",
       "| 5 | Matt Geiger     | 48 | 11.5 | 4.5 | 1.6 | 3.0 | 52.4 | 0.0 | 0.1 |  0.0 | ... | 1.9 | 67.4 | 1.0 | 1.5 | 2.5 | 0.3 | 0.3 | 0.4 | 0.8 | 1 |\n",
       "| 6 | Tony Bennett    | 75 | 11.4 | 3.7 | 1.5 | 3.5 | 42.3 | 0.3 | 1.1 | 32.5 | ... | 0.5 | 73.2 | 0.2 | 0.7 | 0.8 | 1.8 | 0.4 | 0.0 | 0.7 | 0 |\n",
       "\n"
      ],
      "text/plain": [
       "  Name            GP MIN  PTS FGM FGA FG.  X3P.Made X3PA X3P. ... FTA FT.  OREB\n",
       "1 Brandon Ingram  36 27.4 7.4 2.6 7.6 34.7 0.5      2.1  25.0 ... 2.3 69.9 0.7 \n",
       "2 Andrew Harrison 35 26.9 7.2 2.0 6.7 29.6 0.7      2.8  23.5 ... 3.4 76.5 0.5 \n",
       "3 JaKarr Sampson  74 15.3 5.2 2.0 4.7 42.2 0.4      1.7  24.4 ... 1.3 67.0 0.5 \n",
       "4 Malik Sealy     58 11.6 5.7 2.3 5.5 42.6 0.1      0.5  22.6 ... 1.3 68.9 1.0 \n",
       "5 Matt Geiger     48 11.5 4.5 1.6 3.0 52.4 0.0      0.1   0.0 ... 1.9 67.4 1.0 \n",
       "6 Tony Bennett    75 11.4 3.7 1.5 3.5 42.3 0.3      1.1  32.5 ... 0.5 73.2 0.2 \n",
       "  DREB REB AST STL BLK TOV class\n",
       "1 3.4  4.1 1.9 0.4 0.4 1.3 0    \n",
       "2 2.0  2.4 3.7 1.1 0.5 1.6 0    \n",
       "3 1.7  2.2 1.0 0.5 0.3 1.0 0    \n",
       "4 0.9  1.9 0.8 0.6 0.1 1.0 1    \n",
       "5 1.5  2.5 0.3 0.3 0.4 0.8 1    \n",
       "6 0.7  0.8 1.8 0.4 0.0 0.7 0    "
      ]
     },
     "metadata": {},
     "output_type": "display_data"
    }
   ],
   "source": [
    "raw_data = read.csv('nba_logreg.csv', sep = ',')\n",
    "head(raw_data)"
   ]
  },
  {
   "cell_type": "code",
   "execution_count": 3,
   "metadata": {},
   "outputs": [
    {
     "data": {
      "text/html": [
       "<table>\n",
       "<caption>A data.frame: 6 × 20</caption>\n",
       "<thead>\n",
       "\t<tr><th></th><th scope=col>GP</th><th scope=col>MIN</th><th scope=col>PTS</th><th scope=col>FGM</th><th scope=col>FGA</th><th scope=col>FG.</th><th scope=col>X3P.Made</th><th scope=col>X3PA</th><th scope=col>X3P.</th><th scope=col>FTM</th><th scope=col>FTA</th><th scope=col>FT.</th><th scope=col>OREB</th><th scope=col>DREB</th><th scope=col>REB</th><th scope=col>AST</th><th scope=col>STL</th><th scope=col>BLK</th><th scope=col>TOV</th><th scope=col>class</th></tr>\n",
       "\t<tr><th></th><th scope=col>&lt;int&gt;</th><th scope=col>&lt;dbl&gt;</th><th scope=col>&lt;dbl&gt;</th><th scope=col>&lt;dbl&gt;</th><th scope=col>&lt;dbl&gt;</th><th scope=col>&lt;dbl&gt;</th><th scope=col>&lt;dbl&gt;</th><th scope=col>&lt;dbl&gt;</th><th scope=col>&lt;dbl&gt;</th><th scope=col>&lt;dbl&gt;</th><th scope=col>&lt;dbl&gt;</th><th scope=col>&lt;dbl&gt;</th><th scope=col>&lt;dbl&gt;</th><th scope=col>&lt;dbl&gt;</th><th scope=col>&lt;dbl&gt;</th><th scope=col>&lt;dbl&gt;</th><th scope=col>&lt;dbl&gt;</th><th scope=col>&lt;dbl&gt;</th><th scope=col>&lt;dbl&gt;</th><th scope=col>&lt;dbl&gt;</th></tr>\n",
       "</thead>\n",
       "<tbody>\n",
       "\t<tr><th scope=row>1</th><td>36</td><td>27.4</td><td>7.4</td><td>2.6</td><td>7.6</td><td>34.7</td><td>0.5</td><td>2.1</td><td>25.0</td><td>1.6</td><td>2.3</td><td>69.9</td><td>0.7</td><td>3.4</td><td>4.1</td><td>1.9</td><td>0.4</td><td>0.4</td><td>1.3</td><td>0</td></tr>\n",
       "\t<tr><th scope=row>2</th><td>35</td><td>26.9</td><td>7.2</td><td>2.0</td><td>6.7</td><td>29.6</td><td>0.7</td><td>2.8</td><td>23.5</td><td>2.6</td><td>3.4</td><td>76.5</td><td>0.5</td><td>2.0</td><td>2.4</td><td>3.7</td><td>1.1</td><td>0.5</td><td>1.6</td><td>0</td></tr>\n",
       "\t<tr><th scope=row>3</th><td>74</td><td>15.3</td><td>5.2</td><td>2.0</td><td>4.7</td><td>42.2</td><td>0.4</td><td>1.7</td><td>24.4</td><td>0.9</td><td>1.3</td><td>67.0</td><td>0.5</td><td>1.7</td><td>2.2</td><td>1.0</td><td>0.5</td><td>0.3</td><td>1.0</td><td>0</td></tr>\n",
       "\t<tr><th scope=row>4</th><td>58</td><td>11.6</td><td>5.7</td><td>2.3</td><td>5.5</td><td>42.6</td><td>0.1</td><td>0.5</td><td>22.6</td><td>0.9</td><td>1.3</td><td>68.9</td><td>1.0</td><td>0.9</td><td>1.9</td><td>0.8</td><td>0.6</td><td>0.1</td><td>1.0</td><td>1</td></tr>\n",
       "\t<tr><th scope=row>5</th><td>48</td><td>11.5</td><td>4.5</td><td>1.6</td><td>3.0</td><td>52.4</td><td>0.0</td><td>0.1</td><td> 0.0</td><td>1.3</td><td>1.9</td><td>67.4</td><td>1.0</td><td>1.5</td><td>2.5</td><td>0.3</td><td>0.3</td><td>0.4</td><td>0.8</td><td>1</td></tr>\n",
       "\t<tr><th scope=row>6</th><td>75</td><td>11.4</td><td>3.7</td><td>1.5</td><td>3.5</td><td>42.3</td><td>0.3</td><td>1.1</td><td>32.5</td><td>0.4</td><td>0.5</td><td>73.2</td><td>0.2</td><td>0.7</td><td>0.8</td><td>1.8</td><td>0.4</td><td>0.0</td><td>0.7</td><td>0</td></tr>\n",
       "</tbody>\n",
       "</table>\n"
      ],
      "text/latex": [
       "A data.frame: 6 × 20\n",
       "\\begin{tabular}{r|llllllllllllllllllll}\n",
       "  & GP & MIN & PTS & FGM & FGA & FG. & X3P.Made & X3PA & X3P. & FTM & FTA & FT. & OREB & DREB & REB & AST & STL & BLK & TOV & class\\\\\n",
       "  & <int> & <dbl> & <dbl> & <dbl> & <dbl> & <dbl> & <dbl> & <dbl> & <dbl> & <dbl> & <dbl> & <dbl> & <dbl> & <dbl> & <dbl> & <dbl> & <dbl> & <dbl> & <dbl> & <dbl>\\\\\n",
       "\\hline\n",
       "\t1 & 36 & 27.4 & 7.4 & 2.6 & 7.6 & 34.7 & 0.5 & 2.1 & 25.0 & 1.6 & 2.3 & 69.9 & 0.7 & 3.4 & 4.1 & 1.9 & 0.4 & 0.4 & 1.3 & 0\\\\\n",
       "\t2 & 35 & 26.9 & 7.2 & 2.0 & 6.7 & 29.6 & 0.7 & 2.8 & 23.5 & 2.6 & 3.4 & 76.5 & 0.5 & 2.0 & 2.4 & 3.7 & 1.1 & 0.5 & 1.6 & 0\\\\\n",
       "\t3 & 74 & 15.3 & 5.2 & 2.0 & 4.7 & 42.2 & 0.4 & 1.7 & 24.4 & 0.9 & 1.3 & 67.0 & 0.5 & 1.7 & 2.2 & 1.0 & 0.5 & 0.3 & 1.0 & 0\\\\\n",
       "\t4 & 58 & 11.6 & 5.7 & 2.3 & 5.5 & 42.6 & 0.1 & 0.5 & 22.6 & 0.9 & 1.3 & 68.9 & 1.0 & 0.9 & 1.9 & 0.8 & 0.6 & 0.1 & 1.0 & 1\\\\\n",
       "\t5 & 48 & 11.5 & 4.5 & 1.6 & 3.0 & 52.4 & 0.0 & 0.1 &  0.0 & 1.3 & 1.9 & 67.4 & 1.0 & 1.5 & 2.5 & 0.3 & 0.3 & 0.4 & 0.8 & 1\\\\\n",
       "\t6 & 75 & 11.4 & 3.7 & 1.5 & 3.5 & 42.3 & 0.3 & 1.1 & 32.5 & 0.4 & 0.5 & 73.2 & 0.2 & 0.7 & 0.8 & 1.8 & 0.4 & 0.0 & 0.7 & 0\\\\\n",
       "\\end{tabular}\n"
      ],
      "text/markdown": [
       "\n",
       "A data.frame: 6 × 20\n",
       "\n",
       "| <!--/--> | GP &lt;int&gt; | MIN &lt;dbl&gt; | PTS &lt;dbl&gt; | FGM &lt;dbl&gt; | FGA &lt;dbl&gt; | FG. &lt;dbl&gt; | X3P.Made &lt;dbl&gt; | X3PA &lt;dbl&gt; | X3P. &lt;dbl&gt; | FTM &lt;dbl&gt; | FTA &lt;dbl&gt; | FT. &lt;dbl&gt; | OREB &lt;dbl&gt; | DREB &lt;dbl&gt; | REB &lt;dbl&gt; | AST &lt;dbl&gt; | STL &lt;dbl&gt; | BLK &lt;dbl&gt; | TOV &lt;dbl&gt; | class &lt;dbl&gt; |\n",
       "|---|---|---|---|---|---|---|---|---|---|---|---|---|---|---|---|---|---|---|---|---|\n",
       "| 1 | 36 | 27.4 | 7.4 | 2.6 | 7.6 | 34.7 | 0.5 | 2.1 | 25.0 | 1.6 | 2.3 | 69.9 | 0.7 | 3.4 | 4.1 | 1.9 | 0.4 | 0.4 | 1.3 | 0 |\n",
       "| 2 | 35 | 26.9 | 7.2 | 2.0 | 6.7 | 29.6 | 0.7 | 2.8 | 23.5 | 2.6 | 3.4 | 76.5 | 0.5 | 2.0 | 2.4 | 3.7 | 1.1 | 0.5 | 1.6 | 0 |\n",
       "| 3 | 74 | 15.3 | 5.2 | 2.0 | 4.7 | 42.2 | 0.4 | 1.7 | 24.4 | 0.9 | 1.3 | 67.0 | 0.5 | 1.7 | 2.2 | 1.0 | 0.5 | 0.3 | 1.0 | 0 |\n",
       "| 4 | 58 | 11.6 | 5.7 | 2.3 | 5.5 | 42.6 | 0.1 | 0.5 | 22.6 | 0.9 | 1.3 | 68.9 | 1.0 | 0.9 | 1.9 | 0.8 | 0.6 | 0.1 | 1.0 | 1 |\n",
       "| 5 | 48 | 11.5 | 4.5 | 1.6 | 3.0 | 52.4 | 0.0 | 0.1 |  0.0 | 1.3 | 1.9 | 67.4 | 1.0 | 1.5 | 2.5 | 0.3 | 0.3 | 0.4 | 0.8 | 1 |\n",
       "| 6 | 75 | 11.4 | 3.7 | 1.5 | 3.5 | 42.3 | 0.3 | 1.1 | 32.5 | 0.4 | 0.5 | 73.2 | 0.2 | 0.7 | 0.8 | 1.8 | 0.4 | 0.0 | 0.7 | 0 |\n",
       "\n"
      ],
      "text/plain": [
       "  GP MIN  PTS FGM FGA FG.  X3P.Made X3PA X3P. FTM FTA FT.  OREB DREB REB AST\n",
       "1 36 27.4 7.4 2.6 7.6 34.7 0.5      2.1  25.0 1.6 2.3 69.9 0.7  3.4  4.1 1.9\n",
       "2 35 26.9 7.2 2.0 6.7 29.6 0.7      2.8  23.5 2.6 3.4 76.5 0.5  2.0  2.4 3.7\n",
       "3 74 15.3 5.2 2.0 4.7 42.2 0.4      1.7  24.4 0.9 1.3 67.0 0.5  1.7  2.2 1.0\n",
       "4 58 11.6 5.7 2.3 5.5 42.6 0.1      0.5  22.6 0.9 1.3 68.9 1.0  0.9  1.9 0.8\n",
       "5 48 11.5 4.5 1.6 3.0 52.4 0.0      0.1   0.0 1.3 1.9 67.4 1.0  1.5  2.5 0.3\n",
       "6 75 11.4 3.7 1.5 3.5 42.3 0.3      1.1  32.5 0.4 0.5 73.2 0.2  0.7  0.8 1.8\n",
       "  STL BLK TOV class\n",
       "1 0.4 0.4 1.3 0    \n",
       "2 1.1 0.5 1.6 0    \n",
       "3 0.5 0.3 1.0 0    \n",
       "4 0.6 0.1 1.0 1    \n",
       "5 0.3 0.4 0.8 1    \n",
       "6 0.4 0.0 0.7 0    "
      ]
     },
     "metadata": {},
     "output_type": "display_data"
    }
   ],
   "source": [
    "# En este caso retiramos la variable de median_value pues buscamos clasificar \n",
    "median_value = c(1)\n",
    "raw_data_no_value = raw_data[,-median_value]\n",
    "raw_data_no_value = raw_data_no_value[complete.cases(raw_data_no_value), ]\n",
    "head(raw_data_no_value)"
   ]
  },
  {
   "cell_type": "code",
   "execution_count": 4,
   "metadata": {},
   "outputs": [],
   "source": [
    "# Generamos 2 datasets para nuestro modelo\n",
    "set.seed(123)\n",
    "\n",
    "# Percentages\n",
    "fractionTraining   <- 0.80\n",
    "fractionValidation <- 0.20\n",
    "\n",
    "# Compute sample sizes.\n",
    "sampleSizeTraining   <- floor(fractionTraining   * nrow(raw_data_no_value))\n",
    "sampleSizeValidation <- floor(fractionValidation * nrow(raw_data_no_value))\n",
    "\n",
    "# Create the randomly-sampled indices for the dataframe. Use setdiff() to\n",
    "# avoid overlapping subsets of indices.\n",
    "indicesTraining    <- sort(sample(seq_len(nrow(raw_data_no_value)), size=sampleSizeTraining))\n",
    "indicesNotTraining <- setdiff(seq_len(nrow(raw_data_no_value)), indicesTraining)\n",
    "indicesValidation  <- sort(sample(indicesNotTraining, size=sampleSizeValidation))\n",
    "\n",
    "# Finally, output the three dataframes for training, validation and test.\n",
    "dfTraining   <- raw_data_no_value[indicesTraining, ]\n",
    "dfValidation <- raw_data_no_value[indicesValidation, ]"
   ]
  },
  {
   "cell_type": "code",
   "execution_count": 5,
   "metadata": {
    "scrolled": false
   },
   "outputs": [
    {
     "data": {
      "text/html": [
       "<table>\n",
       "<caption>A data.frame: 6 × 20</caption>\n",
       "<thead>\n",
       "\t<tr><th></th><th scope=col>GP</th><th scope=col>MIN</th><th scope=col>PTS</th><th scope=col>FGM</th><th scope=col>FGA</th><th scope=col>FG.</th><th scope=col>X3P.Made</th><th scope=col>X3PA</th><th scope=col>X3P.</th><th scope=col>FTM</th><th scope=col>FTA</th><th scope=col>FT.</th><th scope=col>OREB</th><th scope=col>DREB</th><th scope=col>REB</th><th scope=col>AST</th><th scope=col>STL</th><th scope=col>BLK</th><th scope=col>TOV</th><th scope=col>class</th></tr>\n",
       "\t<tr><th></th><th scope=col>&lt;int&gt;</th><th scope=col>&lt;dbl&gt;</th><th scope=col>&lt;dbl&gt;</th><th scope=col>&lt;dbl&gt;</th><th scope=col>&lt;dbl&gt;</th><th scope=col>&lt;dbl&gt;</th><th scope=col>&lt;dbl&gt;</th><th scope=col>&lt;dbl&gt;</th><th scope=col>&lt;dbl&gt;</th><th scope=col>&lt;dbl&gt;</th><th scope=col>&lt;dbl&gt;</th><th scope=col>&lt;dbl&gt;</th><th scope=col>&lt;dbl&gt;</th><th scope=col>&lt;dbl&gt;</th><th scope=col>&lt;dbl&gt;</th><th scope=col>&lt;dbl&gt;</th><th scope=col>&lt;dbl&gt;</th><th scope=col>&lt;dbl&gt;</th><th scope=col>&lt;dbl&gt;</th><th scope=col>&lt;dbl&gt;</th></tr>\n",
       "</thead>\n",
       "<tbody>\n",
       "\t<tr><th scope=row>14</th><td>45</td><td>15.3</td><td> 5.6</td><td>1.9</td><td> 6.0</td><td>32.3</td><td>1.1</td><td>3.6</td><td>30.1</td><td>0.7</td><td>0.8</td><td>86.1</td><td>0.5</td><td>1.6</td><td>2.0</td><td>0.5</td><td>0.5</td><td>0.3</td><td>0.5</td><td>0</td></tr>\n",
       "\t<tr><th scope=row>15</th><td>44</td><td> 6.4</td><td> 2.4</td><td>1.0</td><td> 1.9</td><td>53.7</td><td>0.0</td><td>0.0</td><td> 0.0</td><td>0.4</td><td>0.7</td><td>50.0</td><td>0.4</td><td>1.0</td><td>1.4</td><td>0.2</td><td>0.2</td><td>0.4</td><td>0.6</td><td>1</td></tr>\n",
       "\t<tr><th scope=row>21</th><td>80</td><td>31.4</td><td>14.3</td><td>5.9</td><td>11.1</td><td>52.5</td><td>0.0</td><td>0.1</td><td>11.1</td><td>2.6</td><td>3.9</td><td>65.4</td><td>3.0</td><td>5.0</td><td>8.0</td><td>2.4</td><td>1.1</td><td>0.8</td><td>2.2</td><td>1</td></tr>\n",
       "\t<tr><th scope=row>22</th><td>82</td><td>30.5</td><td>13.3</td><td>5.4</td><td>11.0</td><td>48.9</td><td>0.0</td><td>0.1</td><td>16.7</td><td>2.6</td><td>3.9</td><td>66.6</td><td>2.3</td><td>2.8</td><td>5.1</td><td>2.5</td><td>1.5</td><td>0.3</td><td>2.2</td><td>1</td></tr>\n",
       "\t<tr><th scope=row>33</th><td>82</td><td>19.6</td><td> 7.4</td><td>3.1</td><td> 7.3</td><td>41.9</td><td>0.0</td><td>0.3</td><td> 4.3</td><td>1.2</td><td>1.5</td><td>80.6</td><td>0.6</td><td>1.4</td><td>2.0</td><td>3.9</td><td>1.0</td><td>0.3</td><td>1.7</td><td>1</td></tr>\n",
       "\t<tr><th scope=row>43</th><td>51</td><td>14.5</td><td> 5.0</td><td>1.5</td><td> 3.8</td><td>39.9</td><td>0.2</td><td>0.7</td><td>27.0</td><td>1.8</td><td>2.0</td><td>87.5</td><td>0.4</td><td>1.2</td><td>1.5</td><td>2.8</td><td>0.9</td><td>0.0</td><td>1.4</td><td>0</td></tr>\n",
       "</tbody>\n",
       "</table>\n"
      ],
      "text/latex": [
       "A data.frame: 6 × 20\n",
       "\\begin{tabular}{r|llllllllllllllllllll}\n",
       "  & GP & MIN & PTS & FGM & FGA & FG. & X3P.Made & X3PA & X3P. & FTM & FTA & FT. & OREB & DREB & REB & AST & STL & BLK & TOV & class\\\\\n",
       "  & <int> & <dbl> & <dbl> & <dbl> & <dbl> & <dbl> & <dbl> & <dbl> & <dbl> & <dbl> & <dbl> & <dbl> & <dbl> & <dbl> & <dbl> & <dbl> & <dbl> & <dbl> & <dbl> & <dbl>\\\\\n",
       "\\hline\n",
       "\t14 & 45 & 15.3 &  5.6 & 1.9 &  6.0 & 32.3 & 1.1 & 3.6 & 30.1 & 0.7 & 0.8 & 86.1 & 0.5 & 1.6 & 2.0 & 0.5 & 0.5 & 0.3 & 0.5 & 0\\\\\n",
       "\t15 & 44 &  6.4 &  2.4 & 1.0 &  1.9 & 53.7 & 0.0 & 0.0 &  0.0 & 0.4 & 0.7 & 50.0 & 0.4 & 1.0 & 1.4 & 0.2 & 0.2 & 0.4 & 0.6 & 1\\\\\n",
       "\t21 & 80 & 31.4 & 14.3 & 5.9 & 11.1 & 52.5 & 0.0 & 0.1 & 11.1 & 2.6 & 3.9 & 65.4 & 3.0 & 5.0 & 8.0 & 2.4 & 1.1 & 0.8 & 2.2 & 1\\\\\n",
       "\t22 & 82 & 30.5 & 13.3 & 5.4 & 11.0 & 48.9 & 0.0 & 0.1 & 16.7 & 2.6 & 3.9 & 66.6 & 2.3 & 2.8 & 5.1 & 2.5 & 1.5 & 0.3 & 2.2 & 1\\\\\n",
       "\t33 & 82 & 19.6 &  7.4 & 3.1 &  7.3 & 41.9 & 0.0 & 0.3 &  4.3 & 1.2 & 1.5 & 80.6 & 0.6 & 1.4 & 2.0 & 3.9 & 1.0 & 0.3 & 1.7 & 1\\\\\n",
       "\t43 & 51 & 14.5 &  5.0 & 1.5 &  3.8 & 39.9 & 0.2 & 0.7 & 27.0 & 1.8 & 2.0 & 87.5 & 0.4 & 1.2 & 1.5 & 2.8 & 0.9 & 0.0 & 1.4 & 0\\\\\n",
       "\\end{tabular}\n"
      ],
      "text/markdown": [
       "\n",
       "A data.frame: 6 × 20\n",
       "\n",
       "| <!--/--> | GP &lt;int&gt; | MIN &lt;dbl&gt; | PTS &lt;dbl&gt; | FGM &lt;dbl&gt; | FGA &lt;dbl&gt; | FG. &lt;dbl&gt; | X3P.Made &lt;dbl&gt; | X3PA &lt;dbl&gt; | X3P. &lt;dbl&gt; | FTM &lt;dbl&gt; | FTA &lt;dbl&gt; | FT. &lt;dbl&gt; | OREB &lt;dbl&gt; | DREB &lt;dbl&gt; | REB &lt;dbl&gt; | AST &lt;dbl&gt; | STL &lt;dbl&gt; | BLK &lt;dbl&gt; | TOV &lt;dbl&gt; | class &lt;dbl&gt; |\n",
       "|---|---|---|---|---|---|---|---|---|---|---|---|---|---|---|---|---|---|---|---|---|\n",
       "| 14 | 45 | 15.3 |  5.6 | 1.9 |  6.0 | 32.3 | 1.1 | 3.6 | 30.1 | 0.7 | 0.8 | 86.1 | 0.5 | 1.6 | 2.0 | 0.5 | 0.5 | 0.3 | 0.5 | 0 |\n",
       "| 15 | 44 |  6.4 |  2.4 | 1.0 |  1.9 | 53.7 | 0.0 | 0.0 |  0.0 | 0.4 | 0.7 | 50.0 | 0.4 | 1.0 | 1.4 | 0.2 | 0.2 | 0.4 | 0.6 | 1 |\n",
       "| 21 | 80 | 31.4 | 14.3 | 5.9 | 11.1 | 52.5 | 0.0 | 0.1 | 11.1 | 2.6 | 3.9 | 65.4 | 3.0 | 5.0 | 8.0 | 2.4 | 1.1 | 0.8 | 2.2 | 1 |\n",
       "| 22 | 82 | 30.5 | 13.3 | 5.4 | 11.0 | 48.9 | 0.0 | 0.1 | 16.7 | 2.6 | 3.9 | 66.6 | 2.3 | 2.8 | 5.1 | 2.5 | 1.5 | 0.3 | 2.2 | 1 |\n",
       "| 33 | 82 | 19.6 |  7.4 | 3.1 |  7.3 | 41.9 | 0.0 | 0.3 |  4.3 | 1.2 | 1.5 | 80.6 | 0.6 | 1.4 | 2.0 | 3.9 | 1.0 | 0.3 | 1.7 | 1 |\n",
       "| 43 | 51 | 14.5 |  5.0 | 1.5 |  3.8 | 39.9 | 0.2 | 0.7 | 27.0 | 1.8 | 2.0 | 87.5 | 0.4 | 1.2 | 1.5 | 2.8 | 0.9 | 0.0 | 1.4 | 0 |\n",
       "\n"
      ],
      "text/plain": [
       "   GP MIN  PTS  FGM FGA  FG.  X3P.Made X3PA X3P. FTM FTA FT.  OREB DREB REB AST\n",
       "14 45 15.3  5.6 1.9  6.0 32.3 1.1      3.6  30.1 0.7 0.8 86.1 0.5  1.6  2.0 0.5\n",
       "15 44  6.4  2.4 1.0  1.9 53.7 0.0      0.0   0.0 0.4 0.7 50.0 0.4  1.0  1.4 0.2\n",
       "21 80 31.4 14.3 5.9 11.1 52.5 0.0      0.1  11.1 2.6 3.9 65.4 3.0  5.0  8.0 2.4\n",
       "22 82 30.5 13.3 5.4 11.0 48.9 0.0      0.1  16.7 2.6 3.9 66.6 2.3  2.8  5.1 2.5\n",
       "33 82 19.6  7.4 3.1  7.3 41.9 0.0      0.3   4.3 1.2 1.5 80.6 0.6  1.4  2.0 3.9\n",
       "43 51 14.5  5.0 1.5  3.8 39.9 0.2      0.7  27.0 1.8 2.0 87.5 0.4  1.2  1.5 2.8\n",
       "   STL BLK TOV class\n",
       "14 0.5 0.3 0.5 0    \n",
       "15 0.2 0.4 0.6 1    \n",
       "21 1.1 0.8 2.2 1    \n",
       "22 1.5 0.3 2.2 1    \n",
       "33 1.0 0.3 1.7 1    \n",
       "43 0.9 0.0 1.4 0    "
      ]
     },
     "metadata": {},
     "output_type": "display_data"
    },
    {
     "data": {
      "text/html": [
       "<table>\n",
       "<caption>A data.frame: 6 × 20</caption>\n",
       "<thead>\n",
       "\t<tr><th></th><th scope=col>GP</th><th scope=col>MIN</th><th scope=col>PTS</th><th scope=col>FGM</th><th scope=col>FGA</th><th scope=col>FG.</th><th scope=col>X3P.Made</th><th scope=col>X3PA</th><th scope=col>X3P.</th><th scope=col>FTM</th><th scope=col>FTA</th><th scope=col>FT.</th><th scope=col>OREB</th><th scope=col>DREB</th><th scope=col>REB</th><th scope=col>AST</th><th scope=col>STL</th><th scope=col>BLK</th><th scope=col>TOV</th><th scope=col>class</th></tr>\n",
       "\t<tr><th></th><th scope=col>&lt;int&gt;</th><th scope=col>&lt;dbl&gt;</th><th scope=col>&lt;dbl&gt;</th><th scope=col>&lt;dbl&gt;</th><th scope=col>&lt;dbl&gt;</th><th scope=col>&lt;dbl&gt;</th><th scope=col>&lt;dbl&gt;</th><th scope=col>&lt;dbl&gt;</th><th scope=col>&lt;dbl&gt;</th><th scope=col>&lt;dbl&gt;</th><th scope=col>&lt;dbl&gt;</th><th scope=col>&lt;dbl&gt;</th><th scope=col>&lt;dbl&gt;</th><th scope=col>&lt;dbl&gt;</th><th scope=col>&lt;dbl&gt;</th><th scope=col>&lt;dbl&gt;</th><th scope=col>&lt;dbl&gt;</th><th scope=col>&lt;dbl&gt;</th><th scope=col>&lt;dbl&gt;</th><th scope=col>&lt;dbl&gt;</th></tr>\n",
       "</thead>\n",
       "<tbody>\n",
       "\t<tr><th scope=row>1</th><td>36</td><td>27.4</td><td>7.4</td><td>2.6</td><td>7.6</td><td>34.7</td><td>0.5</td><td>2.1</td><td>25.0</td><td>1.6</td><td>2.3</td><td>69.9</td><td>0.7</td><td>3.4</td><td>4.1</td><td>1.9</td><td>0.4</td><td>0.4</td><td>1.3</td><td>0</td></tr>\n",
       "\t<tr><th scope=row>2</th><td>35</td><td>26.9</td><td>7.2</td><td>2.0</td><td>6.7</td><td>29.6</td><td>0.7</td><td>2.8</td><td>23.5</td><td>2.6</td><td>3.4</td><td>76.5</td><td>0.5</td><td>2.0</td><td>2.4</td><td>3.7</td><td>1.1</td><td>0.5</td><td>1.6</td><td>0</td></tr>\n",
       "\t<tr><th scope=row>3</th><td>74</td><td>15.3</td><td>5.2</td><td>2.0</td><td>4.7</td><td>42.2</td><td>0.4</td><td>1.7</td><td>24.4</td><td>0.9</td><td>1.3</td><td>67.0</td><td>0.5</td><td>1.7</td><td>2.2</td><td>1.0</td><td>0.5</td><td>0.3</td><td>1.0</td><td>0</td></tr>\n",
       "\t<tr><th scope=row>4</th><td>58</td><td>11.6</td><td>5.7</td><td>2.3</td><td>5.5</td><td>42.6</td><td>0.1</td><td>0.5</td><td>22.6</td><td>0.9</td><td>1.3</td><td>68.9</td><td>1.0</td><td>0.9</td><td>1.9</td><td>0.8</td><td>0.6</td><td>0.1</td><td>1.0</td><td>1</td></tr>\n",
       "\t<tr><th scope=row>5</th><td>48</td><td>11.5</td><td>4.5</td><td>1.6</td><td>3.0</td><td>52.4</td><td>0.0</td><td>0.1</td><td> 0.0</td><td>1.3</td><td>1.9</td><td>67.4</td><td>1.0</td><td>1.5</td><td>2.5</td><td>0.3</td><td>0.3</td><td>0.4</td><td>0.8</td><td>1</td></tr>\n",
       "\t<tr><th scope=row>6</th><td>75</td><td>11.4</td><td>3.7</td><td>1.5</td><td>3.5</td><td>42.3</td><td>0.3</td><td>1.1</td><td>32.5</td><td>0.4</td><td>0.5</td><td>73.2</td><td>0.2</td><td>0.7</td><td>0.8</td><td>1.8</td><td>0.4</td><td>0.0</td><td>0.7</td><td>0</td></tr>\n",
       "</tbody>\n",
       "</table>\n"
      ],
      "text/latex": [
       "A data.frame: 6 × 20\n",
       "\\begin{tabular}{r|llllllllllllllllllll}\n",
       "  & GP & MIN & PTS & FGM & FGA & FG. & X3P.Made & X3PA & X3P. & FTM & FTA & FT. & OREB & DREB & REB & AST & STL & BLK & TOV & class\\\\\n",
       "  & <int> & <dbl> & <dbl> & <dbl> & <dbl> & <dbl> & <dbl> & <dbl> & <dbl> & <dbl> & <dbl> & <dbl> & <dbl> & <dbl> & <dbl> & <dbl> & <dbl> & <dbl> & <dbl> & <dbl>\\\\\n",
       "\\hline\n",
       "\t1 & 36 & 27.4 & 7.4 & 2.6 & 7.6 & 34.7 & 0.5 & 2.1 & 25.0 & 1.6 & 2.3 & 69.9 & 0.7 & 3.4 & 4.1 & 1.9 & 0.4 & 0.4 & 1.3 & 0\\\\\n",
       "\t2 & 35 & 26.9 & 7.2 & 2.0 & 6.7 & 29.6 & 0.7 & 2.8 & 23.5 & 2.6 & 3.4 & 76.5 & 0.5 & 2.0 & 2.4 & 3.7 & 1.1 & 0.5 & 1.6 & 0\\\\\n",
       "\t3 & 74 & 15.3 & 5.2 & 2.0 & 4.7 & 42.2 & 0.4 & 1.7 & 24.4 & 0.9 & 1.3 & 67.0 & 0.5 & 1.7 & 2.2 & 1.0 & 0.5 & 0.3 & 1.0 & 0\\\\\n",
       "\t4 & 58 & 11.6 & 5.7 & 2.3 & 5.5 & 42.6 & 0.1 & 0.5 & 22.6 & 0.9 & 1.3 & 68.9 & 1.0 & 0.9 & 1.9 & 0.8 & 0.6 & 0.1 & 1.0 & 1\\\\\n",
       "\t5 & 48 & 11.5 & 4.5 & 1.6 & 3.0 & 52.4 & 0.0 & 0.1 &  0.0 & 1.3 & 1.9 & 67.4 & 1.0 & 1.5 & 2.5 & 0.3 & 0.3 & 0.4 & 0.8 & 1\\\\\n",
       "\t6 & 75 & 11.4 & 3.7 & 1.5 & 3.5 & 42.3 & 0.3 & 1.1 & 32.5 & 0.4 & 0.5 & 73.2 & 0.2 & 0.7 & 0.8 & 1.8 & 0.4 & 0.0 & 0.7 & 0\\\\\n",
       "\\end{tabular}\n"
      ],
      "text/markdown": [
       "\n",
       "A data.frame: 6 × 20\n",
       "\n",
       "| <!--/--> | GP &lt;int&gt; | MIN &lt;dbl&gt; | PTS &lt;dbl&gt; | FGM &lt;dbl&gt; | FGA &lt;dbl&gt; | FG. &lt;dbl&gt; | X3P.Made &lt;dbl&gt; | X3PA &lt;dbl&gt; | X3P. &lt;dbl&gt; | FTM &lt;dbl&gt; | FTA &lt;dbl&gt; | FT. &lt;dbl&gt; | OREB &lt;dbl&gt; | DREB &lt;dbl&gt; | REB &lt;dbl&gt; | AST &lt;dbl&gt; | STL &lt;dbl&gt; | BLK &lt;dbl&gt; | TOV &lt;dbl&gt; | class &lt;dbl&gt; |\n",
       "|---|---|---|---|---|---|---|---|---|---|---|---|---|---|---|---|---|---|---|---|---|\n",
       "| 1 | 36 | 27.4 | 7.4 | 2.6 | 7.6 | 34.7 | 0.5 | 2.1 | 25.0 | 1.6 | 2.3 | 69.9 | 0.7 | 3.4 | 4.1 | 1.9 | 0.4 | 0.4 | 1.3 | 0 |\n",
       "| 2 | 35 | 26.9 | 7.2 | 2.0 | 6.7 | 29.6 | 0.7 | 2.8 | 23.5 | 2.6 | 3.4 | 76.5 | 0.5 | 2.0 | 2.4 | 3.7 | 1.1 | 0.5 | 1.6 | 0 |\n",
       "| 3 | 74 | 15.3 | 5.2 | 2.0 | 4.7 | 42.2 | 0.4 | 1.7 | 24.4 | 0.9 | 1.3 | 67.0 | 0.5 | 1.7 | 2.2 | 1.0 | 0.5 | 0.3 | 1.0 | 0 |\n",
       "| 4 | 58 | 11.6 | 5.7 | 2.3 | 5.5 | 42.6 | 0.1 | 0.5 | 22.6 | 0.9 | 1.3 | 68.9 | 1.0 | 0.9 | 1.9 | 0.8 | 0.6 | 0.1 | 1.0 | 1 |\n",
       "| 5 | 48 | 11.5 | 4.5 | 1.6 | 3.0 | 52.4 | 0.0 | 0.1 |  0.0 | 1.3 | 1.9 | 67.4 | 1.0 | 1.5 | 2.5 | 0.3 | 0.3 | 0.4 | 0.8 | 1 |\n",
       "| 6 | 75 | 11.4 | 3.7 | 1.5 | 3.5 | 42.3 | 0.3 | 1.1 | 32.5 | 0.4 | 0.5 | 73.2 | 0.2 | 0.7 | 0.8 | 1.8 | 0.4 | 0.0 | 0.7 | 0 |\n",
       "\n"
      ],
      "text/plain": [
       "  GP MIN  PTS FGM FGA FG.  X3P.Made X3PA X3P. FTM FTA FT.  OREB DREB REB AST\n",
       "1 36 27.4 7.4 2.6 7.6 34.7 0.5      2.1  25.0 1.6 2.3 69.9 0.7  3.4  4.1 1.9\n",
       "2 35 26.9 7.2 2.0 6.7 29.6 0.7      2.8  23.5 2.6 3.4 76.5 0.5  2.0  2.4 3.7\n",
       "3 74 15.3 5.2 2.0 4.7 42.2 0.4      1.7  24.4 0.9 1.3 67.0 0.5  1.7  2.2 1.0\n",
       "4 58 11.6 5.7 2.3 5.5 42.6 0.1      0.5  22.6 0.9 1.3 68.9 1.0  0.9  1.9 0.8\n",
       "5 48 11.5 4.5 1.6 3.0 52.4 0.0      0.1   0.0 1.3 1.9 67.4 1.0  1.5  2.5 0.3\n",
       "6 75 11.4 3.7 1.5 3.5 42.3 0.3      1.1  32.5 0.4 0.5 73.2 0.2  0.7  0.8 1.8\n",
       "  STL BLK TOV class\n",
       "1 0.4 0.4 1.3 0    \n",
       "2 1.1 0.5 1.6 0    \n",
       "3 0.5 0.3 1.0 0    \n",
       "4 0.6 0.1 1.0 1    \n",
       "5 0.3 0.4 0.8 1    \n",
       "6 0.4 0.0 0.7 0    "
      ]
     },
     "metadata": {},
     "output_type": "display_data"
    }
   ],
   "source": [
    "head(dfValidation)\n",
    "head(dfTraining)"
   ]
  },
  {
   "cell_type": "markdown",
   "metadata": {},
   "source": [
    "## Modelo"
   ]
  },
  {
   "cell_type": "code",
   "execution_count": 6,
   "metadata": {},
   "outputs": [],
   "source": [
    "# Establecemos la variable target y establecemos el tipo de dato como label\n",
    "target <- c(20)\n",
    "class_label <- dfTraining[,target]"
   ]
  },
  {
   "cell_type": "code",
   "execution_count": 7,
   "metadata": {},
   "outputs": [
    {
     "name": "stderr",
     "output_type": "stream",
     "text": [
      "Warning message in if (maxdepth > 30L) stop(\"Maximum depth is 30\"):\n",
      "\"la condición tiene longitud > 1 y sólo el primer elemento será usado\"\n",
      "Warning message in if (maxdepth < 1L) stop(\"Maximum depth must be at least 1\"):\n",
      "\"la condición tiene longitud > 1 y sólo el primer elemento será usado\"\n"
     ]
    }
   ],
   "source": [
    "##Generamos una entrada de control features\n",
    "control_features <- rpart.control(xval = 10 #Cross validation del dataset\n",
    "                                  , maxdepth = c(4,6,8,10,12)) #Vector con iteraciones máximas para el clasificador"
   ]
  },
  {
   "cell_type": "code",
   "execution_count": 8,
   "metadata": {},
   "outputs": [],
   "source": [
    "## Función del decision tree"
   ]
  },
  {
   "cell_type": "code",
   "execution_count": 9,
   "metadata": {},
   "outputs": [
    {
     "name": "stdout",
     "output_type": "stream",
     "text": [
      "n= 1063 \n",
      "\n",
      "node), split, n, loss, yval, (yprob)\n",
      "      * denotes terminal node\n",
      "\n",
      " 1) root 1063 411 1 (0.3866416 0.6133584)  \n",
      "   2) GP< 58.5 462 194 0 (0.5800866 0.4199134)  \n",
      "     4) OREB< 0.65 261  85 0 (0.6743295 0.3256705) *\n",
      "     5) OREB>=0.65 201  92 1 (0.4577114 0.5422886)  \n",
      "      10) FTM< 0.85 107  47 0 (0.5607477 0.4392523)  \n",
      "        20) MIN>=6.95 96  38 0 (0.6041667 0.3958333) *\n",
      "        21) MIN< 6.95 11   2 1 (0.1818182 0.8181818) *\n",
      "      11) FTM>=0.85 94  32 1 (0.3404255 0.6595745) *\n",
      "   3) GP>=58.5 601 143 1 (0.2379368 0.7620632) *\n"
     ]
    }
   ],
   "source": [
    "## Función del decision tree\n",
    "decision_tree <- rpart(class ~ .\n",
    "                       , data=dfTraining\n",
    "                       , method=\"class\"\n",
    "                       , control = control_features)\n",
    "\n",
    "#Descripcion de la estructura de la funcion\n",
    "print(decision_tree)"
   ]
  },
  {
   "cell_type": "code",
   "execution_count": 10,
   "metadata": {},
   "outputs": [],
   "source": [
    "predicted_values <- predict(decision_tree, dfTraining, type = \"class\")\n",
    "prediction_df <- data.frame(reference = dfTraining$class, prediction = predicted_values)"
   ]
  },
  {
   "cell_type": "code",
   "execution_count": 11,
   "metadata": {},
   "outputs": [
    {
     "data": {
      "text/plain": [
       "Confusion Matrix and Statistics\n",
       "\n",
       "          Reference\n",
       "Prediction   0   1\n",
       "         0 234 123\n",
       "         1 177 529\n",
       "                                          \n",
       "               Accuracy : 0.7178          \n",
       "                 95% CI : (0.6897, 0.7447)\n",
       "    No Information Rate : 0.6134          \n",
       "    P-Value [Acc > NIR] : 5.935e-13       \n",
       "                                          \n",
       "                  Kappa : 0.3902          \n",
       "                                          \n",
       " Mcnemar's Test P-Value : 0.002214        \n",
       "                                          \n",
       "            Sensitivity : 0.5693          \n",
       "            Specificity : 0.8113          \n",
       "         Pos Pred Value : 0.6555          \n",
       "         Neg Pred Value : 0.7493          \n",
       "             Prevalence : 0.3866          \n",
       "         Detection Rate : 0.2201          \n",
       "   Detection Prevalence : 0.3358          \n",
       "      Balanced Accuracy : 0.6903          \n",
       "                                          \n",
       "       'Positive' Class : 0               \n",
       "                                          "
      ]
     },
     "metadata": {},
     "output_type": "display_data"
    }
   ],
   "source": [
    "confusion_values_dtrees <- confusionMatrix(prediction_df$prediction, reference = as.factor(prediction_df$reference))\n",
    "confusion_values_dtrees"
   ]
  },
  {
   "cell_type": "code",
   "execution_count": 12,
   "metadata": {},
   "outputs": [
    {
     "data": {
      "image/png": "[encoded data removed]",
      "text/plain": [
       "Plot with title \"\""
      ]
     },
     "metadata": {
      "image/png": {
       "height": 420,
       "width": 420
      }
     },
     "output_type": "display_data"
    }
   ],
   "source": [
    "##Representacion grafica del decision tree\n",
    "fancyRpartPlot(decision_tree)"
   ]
  },
  {
   "cell_type": "code",
   "execution_count": 13,
   "metadata": {},
   "outputs": [
    {
     "data": {
      "text/plain": [
       "Confusion Matrix and Statistics\n",
       "\n",
       "          Reference\n",
       "Prediction   0   1\n",
       "         0  51  37\n",
       "         1  40 137\n",
       "                                          \n",
       "               Accuracy : 0.7094          \n",
       "                 95% CI : (0.6507, 0.7634)\n",
       "    No Information Rate : 0.6566          \n",
       "    P-Value [Acc > NIR] : 0.03903         \n",
       "                                          \n",
       "                  Kappa : 0.3506          \n",
       "                                          \n",
       " Mcnemar's Test P-Value : 0.81971         \n",
       "                                          \n",
       "            Sensitivity : 0.5604          \n",
       "            Specificity : 0.7874          \n",
       "         Pos Pred Value : 0.5795          \n",
       "         Neg Pred Value : 0.7740          \n",
       "             Prevalence : 0.3434          \n",
       "         Detection Rate : 0.1925          \n",
       "   Detection Prevalence : 0.3321          \n",
       "      Balanced Accuracy : 0.6739          \n",
       "                                          \n",
       "       'Positive' Class : 0               \n",
       "                                          "
      ]
     },
     "metadata": {},
     "output_type": "display_data"
    }
   ],
   "source": [
    "predicted_values_test <- predict(decision_tree, dfValidation, type = \"class\")\n",
    "prediction_df_test <- data.frame(reference = dfValidation$class, prediction = predicted_values_test)\n",
    "confusion_values_dtrees <- confusionMatrix(prediction_df_test$prediction, reference = as.factor(prediction_df_test$reference))\n",
    "confusion_values_dtrees"
   ]
  }
 ],
 "metadata": {
  "kernelspec": {
   "display_name": "R",
   "language": "R",
   "name": "ir"
  },
  "language_info": {
   "codemirror_mode": "r",
   "file_extension": ".r",
   "mimetype": "text/x-r-source",
   "name": "R",
   "pygments_lexer": "r",
   "version": "4.0.2"
  }
 },
 "nbformat": 4,
 "nbformat_minor": 2
}
