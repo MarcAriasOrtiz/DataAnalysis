{
 "cells": [
  {
   "cell_type": "markdown",
   "metadata": {},
   "source": [
    "# Ejemplo test Chi-cuadrado"
   ]
  },
  {
   "cell_type": "markdown",
   "metadata": {},
   "source": [
    "**En un campus universitario, se tienen datos sobre los hábitos de consumo de tabaco de los estudiantes. Se consideran cuatro categorías (si nunca fuma, si lo hace ocasionalmente, regularmente o con frecuencia), y las probabilidades de cada categoría ($E_i$) son:**\n",
    "\n",
    "Heavy   Never   Occas   Regul \n",
    "\n",
    " 4.5%   79.5%    8.5%    7.5%\n",
    " \n",
    "**Tiempo después, se realiza una encuesta sobre un grupo reducido de estudiantes (librería MASS, dataset survey, variable Smoke). Queremos contrastar si el resultado de esta encuesta coincide con los datos más generales que ya se tenían a nivel de campus, con un nivel de significancia de 0.05.**\n",
    "\n",
    "**Importamos los datos y obtenemos la frecuencia de cada categoría ($O_i$).**\n"
   ]
  },
  {
   "cell_type": "code",
   "execution_count": 1,
   "metadata": {
    "scrolled": false
   },
   "outputs": [
    {
     "data": {
      "text/html": [
       "<ol class=list-inline>\n",
       "\t<li>'Heavy'</li>\n",
       "\t<li>'Never'</li>\n",
       "\t<li>'Occas'</li>\n",
       "\t<li>'Regul'</li>\n",
       "</ol>\n"
      ],
      "text/latex": [
       "\\begin{enumerate*}\n",
       "\\item 'Heavy'\n",
       "\\item 'Never'\n",
       "\\item 'Occas'\n",
       "\\item 'Regul'\n",
       "\\end{enumerate*}\n"
      ],
      "text/markdown": [
       "1. 'Heavy'\n",
       "2. 'Never'\n",
       "3. 'Occas'\n",
       "4. 'Regul'\n",
       "\n",
       "\n"
      ],
      "text/plain": [
       "[1] \"Heavy\" \"Never\" \"Occas\" \"Regul\""
      ]
     },
     "metadata": {},
     "output_type": "display_data"
    }
   ],
   "source": [
    "library(MASS)\n",
    "levels(survey$Smoke)"
   ]
  },
  {
   "cell_type": "code",
   "execution_count": 2,
   "metadata": {},
   "outputs": [
    {
     "data": {
      "text/plain": [
       "\n",
       "Heavy Never Occas Regul \n",
       "   11   189    19    17 "
      ]
     },
     "metadata": {},
     "output_type": "display_data"
    }
   ],
   "source": [
    "smoke.freq = table(survey$Smoke) \n",
    "smoke.freq"
   ]
  },
  {
   "cell_type": "code",
   "execution_count": 3,
   "metadata": {},
   "outputs": [
    {
     "data": {
      "text/plain": [
       "\n",
       "     Heavy      Never      Occas      Regul \n",
       "0.04641350 0.79746835 0.08016878 0.07172996 "
      ]
     },
     "metadata": {},
     "output_type": "display_data"
    }
   ],
   "source": [
    "smoke.relfreq = smoke.freq / nrow(survey)\n",
    "smoke.relfreq"
   ]
  },
  {
   "cell_type": "markdown",
   "metadata": {},
   "source": [
    "**Para confirmar si el resultado coincide con las probabilidades que se tenían aplicaremos el test de $\\chi^2$, calculando:**"
   ]
  },
  {
   "cell_type": "markdown",
   "metadata": {},
   "source": [
    "$$\\chi^2=\\sum_{i=1}^{n}\\frac{(O_i-E_i)^2}{E_i}$$"
   ]
  },
  {
   "cell_type": "code",
   "execution_count": 4,
   "metadata": {},
   "outputs": [
    {
     "data": {
      "text/plain": [
       "\n",
       "\tChi-squared test for given probabilities\n",
       "\n",
       "data:  smoke.freq\n",
       "X-squared = 0.10744, df = 3, p-value = 0.9909\n"
      ]
     },
     "metadata": {},
     "output_type": "display_data"
    }
   ],
   "source": [
    "smoke.prob = c(.045, .795, .085, .075)\n",
    "chisq.test(smoke.freq, p=smoke.prob)"
   ]
  },
  {
   "cell_type": "markdown",
   "metadata": {},
   "source": [
    "**En conclusión, como el p-value es grande (>95%), la estadística total del campus representa esta muestra de datos. Desde otro punto de vista, hemos obtenido un valor mucho menor de $\\chi^2$ que el valor crítico $\\chi^2_{0.05, 3}=7.81$, indicativo de que son bastante compatibles.**\n"
   ]
  },
  {
   "cell_type": "code",
   "execution_count": null,
   "metadata": {},
   "outputs": [],
   "source": []
  }
 ],
 "metadata": {
  "kernelspec": {
   "display_name": "R",
   "language": "R",
   "name": "ir"
  },
  "language_info": {
   "codemirror_mode": "r",
   "file_extension": ".r",
   "mimetype": "text/x-r-source",
   "name": "R",
   "pygments_lexer": "r",
   "version": "3.6.1"
  }
 },
 "nbformat": 4,
 "nbformat_minor": 2
}
