{
 "cells": [
  {
   "cell_type": "markdown",
   "metadata": {},
   "source": [
    "# Enunciado del ejercicio\n",
    "Una agencia de representación de jugadores de la NBA busca captar nuevos jugadores promesas para patrocinarlos. Para ello y de la mano de análisis estadístico se proponen a generar un modelo que les sirva para predecir si un jugador de NBA tendrá una carrera larga (+5 Años) o no en base a las estadísticas de sus primeros años. \n",
    "\n",
    "- Visualización, limpieza y comprensión del dataset (3p): Se pide revisar la calidad de los datos, visualizaciones y que estadísticos ayudan a comprender mejor el dataset.\n",
    "- Estudio de Correlación, PCA e Información Mutua (3p): Se pide hacer un análisis conjunto. En el caso de información mutua, se pide hacer uso de los distintos algoritmos mostrados en clase.\n",
    "- Selección y justificación de varuables sobre el modelo (1p): Justificar en base a los dos puntos anteriores qué variables son preseleccionadas para construir el modelo\n",
    "- Construcción de un Modelo de Regresión Logística (2p): Se pide generar diversos modelos basados en las variables seleccionadas, la comparación de los mismos y el estudio de residuales.\n",
    "- Discusión de resultados y vías abiertas (1p): En base a los resultados obtenidos en los puntos anteriores,  ¿Recomendarías el uso de este modelo para la toma de decisiones de la agencia de representación?, ¿Por qué?, ¿Qué propuesta le harías a la agencia para mejorar la validez del modelo?\n"
   ]
  },
  {
   "cell_type": "markdown",
   "metadata": {},
   "source": [
    "## Parámetros\n",
    "- Name: Nombre\n",
    "- GP: Games played\n",
    "- MIN: Minutes played\n",
    "- PTS: Points per game\n",
    "- FGM: Field goals made (objetivos/logros de campo realizado)\n",
    "- FGA: Field goal attempts (intentos de objetivos/logros de campo)\n",
    "- 3P Made: 3 Point Made\n",
    "- 3PA: 3 Point Attempts\n",
    "- 3P%: 3 Point Attempts %\n",
    "- FTM: Free throw made\n",
    "- FTA: Free throw attempts\n",
    "- FT%: Free throw percent\n",
    "- OREB: Offensive rebounds\n",
    "- DREB: Defensive rebounds\n",
    "- REB: Rebounds\n",
    "- AST Assists\n",
    "- STL: Steals\n",
    "- BLK: Blocks\n",
    "- TOV: Turnovers\n",
    "- Target_5Yrs: Outcome 1 if carrer lenght >=5 / 0 if carrer legnt <5\n"
   ]
  },
  {
   "cell_type": "code",
   "execution_count": 79,
   "metadata": {},
   "outputs": [
    {
     "name": "stderr",
     "output_type": "stream",
     "text": [
      "Warning message:\n",
      "\"package 'FSelectorRcpp' is in use and will not be installed\""
     ]
    },
    {
     "name": "stdout",
     "output_type": "stream",
     "text": [
      "package 'dplyr' successfully unpacked and MD5 sums checked\n",
      "\n",
      "The downloaded binary packages are in\n",
      "\tC:\\Users\\marc_\\AppData\\Local\\Temp\\Rtmpu4E52b\\downloaded_packages\n",
      "package 'tidyr' successfully unpacked and MD5 sums checked\n",
      "\n",
      "The downloaded binary packages are in\n",
      "\tC:\\Users\\marc_\\AppData\\Local\\Temp\\Rtmpu4E52b\\downloaded_packages\n"
     ]
    }
   ],
   "source": [
    "install.packages(\"FSelectorRcpp\")\n",
    "install.packages(\"dplyr\")\n",
    "install.packages(\"tidyr\")"
   ]
  },
  {
   "cell_type": "code",
   "execution_count": 105,
   "metadata": {},
   "outputs": [
    {
     "data": {
      "text/html": [
       "<table>\n",
       "<thead><tr><th scope=col>Name</th><th scope=col>GP</th><th scope=col>MIN</th><th scope=col>PTS</th><th scope=col>FGM</th><th scope=col>FGA</th><th scope=col>FG.</th><th scope=col>X3P.Made</th><th scope=col>X3PA</th><th scope=col>X3P.</th><th scope=col>...</th><th scope=col>FTA</th><th scope=col>FT.</th><th scope=col>OREB</th><th scope=col>DREB</th><th scope=col>REB</th><th scope=col>AST</th><th scope=col>STL</th><th scope=col>BLK</th><th scope=col>TOV</th><th scope=col>TARGET_5Yrs</th></tr></thead>\n",
       "<tbody>\n",
       "\t<tr><td>Brandon Ingram </td><td>36             </td><td>27.4           </td><td>7.4            </td><td>2.6            </td><td>7.6            </td><td>34.7           </td><td>0.5            </td><td>2.1            </td><td>25.0           </td><td>...            </td><td>2.3            </td><td>69.9           </td><td>0.7            </td><td>3.4            </td><td>4.1            </td><td>1.9            </td><td>0.4            </td><td>0.4            </td><td>1.3            </td><td>0              </td></tr>\n",
       "\t<tr><td>Andrew Harrison</td><td>35             </td><td>26.9           </td><td>7.2            </td><td>2.0            </td><td>6.7            </td><td>29.6           </td><td>0.7            </td><td>2.8            </td><td>23.5           </td><td>...            </td><td>3.4            </td><td>76.5           </td><td>0.5            </td><td>2.0            </td><td>2.4            </td><td>3.7            </td><td>1.1            </td><td>0.5            </td><td>1.6            </td><td>0              </td></tr>\n",
       "\t<tr><td>JaKarr Sampson </td><td>74             </td><td>15.3           </td><td>5.2            </td><td>2.0            </td><td>4.7            </td><td>42.2           </td><td>0.4            </td><td>1.7            </td><td>24.4           </td><td>...            </td><td>1.3            </td><td>67.0           </td><td>0.5            </td><td>1.7            </td><td>2.2            </td><td>1.0            </td><td>0.5            </td><td>0.3            </td><td>1.0            </td><td>0              </td></tr>\n",
       "\t<tr><td>Malik Sealy    </td><td>58             </td><td>11.6           </td><td>5.7            </td><td>2.3            </td><td>5.5            </td><td>42.6           </td><td>0.1            </td><td>0.5            </td><td>22.6           </td><td>...            </td><td>1.3            </td><td>68.9           </td><td>1.0            </td><td>0.9            </td><td>1.9            </td><td>0.8            </td><td>0.6            </td><td>0.1            </td><td>1.0            </td><td>1              </td></tr>\n",
       "\t<tr><td>Matt Geiger    </td><td>48             </td><td>11.5           </td><td>4.5            </td><td>1.6            </td><td>3.0            </td><td>52.4           </td><td>0.0            </td><td>0.1            </td><td> 0.0           </td><td>...            </td><td>1.9            </td><td>67.4           </td><td>1.0            </td><td>1.5            </td><td>2.5            </td><td>0.3            </td><td>0.3            </td><td>0.4            </td><td>0.8            </td><td>1              </td></tr>\n",
       "\t<tr><td>Tony Bennett   </td><td>75             </td><td>11.4           </td><td>3.7            </td><td>1.5            </td><td>3.5            </td><td>42.3           </td><td>0.3            </td><td>1.1            </td><td>32.5           </td><td>...            </td><td>0.5            </td><td>73.2           </td><td>0.2            </td><td>0.7            </td><td>0.8            </td><td>1.8            </td><td>0.4            </td><td>0.0            </td><td>0.7            </td><td>0              </td></tr>\n",
       "</tbody>\n",
       "</table>\n"
      ],
      "text/latex": [
       "\\begin{tabular}{r|lllllllllllllllllllll}\n",
       " Name & GP & MIN & PTS & FGM & FGA & FG. & X3P.Made & X3PA & X3P. & ... & FTA & FT. & OREB & DREB & REB & AST & STL & BLK & TOV & TARGET\\_5Yrs\\\\\n",
       "\\hline\n",
       "\t Brandon Ingram  & 36              & 27.4            & 7.4             & 2.6             & 7.6             & 34.7            & 0.5             & 2.1             & 25.0            & ...             & 2.3             & 69.9            & 0.7             & 3.4             & 4.1             & 1.9             & 0.4             & 0.4             & 1.3             & 0              \\\\\n",
       "\t Andrew Harrison & 35              & 26.9            & 7.2             & 2.0             & 6.7             & 29.6            & 0.7             & 2.8             & 23.5            & ...             & 3.4             & 76.5            & 0.5             & 2.0             & 2.4             & 3.7             & 1.1             & 0.5             & 1.6             & 0              \\\\\n",
       "\t JaKarr Sampson  & 74              & 15.3            & 5.2             & 2.0             & 4.7             & 42.2            & 0.4             & 1.7             & 24.4            & ...             & 1.3             & 67.0            & 0.5             & 1.7             & 2.2             & 1.0             & 0.5             & 0.3             & 1.0             & 0              \\\\\n",
       "\t Malik Sealy     & 58              & 11.6            & 5.7             & 2.3             & 5.5             & 42.6            & 0.1             & 0.5             & 22.6            & ...             & 1.3             & 68.9            & 1.0             & 0.9             & 1.9             & 0.8             & 0.6             & 0.1             & 1.0             & 1              \\\\\n",
       "\t Matt Geiger     & 48              & 11.5            & 4.5             & 1.6             & 3.0             & 52.4            & 0.0             & 0.1             &  0.0            & ...             & 1.9             & 67.4            & 1.0             & 1.5             & 2.5             & 0.3             & 0.3             & 0.4             & 0.8             & 1              \\\\\n",
       "\t Tony Bennett    & 75              & 11.4            & 3.7             & 1.5             & 3.5             & 42.3            & 0.3             & 1.1             & 32.5            & ...             & 0.5             & 73.2            & 0.2             & 0.7             & 0.8             & 1.8             & 0.4             & 0.0             & 0.7             & 0              \\\\\n",
       "\\end{tabular}\n"
      ],
      "text/markdown": [
       "\n",
       "| Name | GP | MIN | PTS | FGM | FGA | FG. | X3P.Made | X3PA | X3P. | ... | FTA | FT. | OREB | DREB | REB | AST | STL | BLK | TOV | TARGET_5Yrs |\n",
       "|---|---|---|---|---|---|---|---|---|---|---|---|---|---|---|---|---|---|---|---|---|\n",
       "| Brandon Ingram  | 36              | 27.4            | 7.4             | 2.6             | 7.6             | 34.7            | 0.5             | 2.1             | 25.0            | ...             | 2.3             | 69.9            | 0.7             | 3.4             | 4.1             | 1.9             | 0.4             | 0.4             | 1.3             | 0               |\n",
       "| Andrew Harrison | 35              | 26.9            | 7.2             | 2.0             | 6.7             | 29.6            | 0.7             | 2.8             | 23.5            | ...             | 3.4             | 76.5            | 0.5             | 2.0             | 2.4             | 3.7             | 1.1             | 0.5             | 1.6             | 0               |\n",
       "| JaKarr Sampson  | 74              | 15.3            | 5.2             | 2.0             | 4.7             | 42.2            | 0.4             | 1.7             | 24.4            | ...             | 1.3             | 67.0            | 0.5             | 1.7             | 2.2             | 1.0             | 0.5             | 0.3             | 1.0             | 0               |\n",
       "| Malik Sealy     | 58              | 11.6            | 5.7             | 2.3             | 5.5             | 42.6            | 0.1             | 0.5             | 22.6            | ...             | 1.3             | 68.9            | 1.0             | 0.9             | 1.9             | 0.8             | 0.6             | 0.1             | 1.0             | 1               |\n",
       "| Matt Geiger     | 48              | 11.5            | 4.5             | 1.6             | 3.0             | 52.4            | 0.0             | 0.1             |  0.0            | ...             | 1.9             | 67.4            | 1.0             | 1.5             | 2.5             | 0.3             | 0.3             | 0.4             | 0.8             | 1               |\n",
       "| Tony Bennett    | 75              | 11.4            | 3.7             | 1.5             | 3.5             | 42.3            | 0.3             | 1.1             | 32.5            | ...             | 0.5             | 73.2            | 0.2             | 0.7             | 0.8             | 1.8             | 0.4             | 0.0             | 0.7             | 0               |\n",
       "\n"
      ],
      "text/plain": [
       "  Name            GP MIN  PTS FGM FGA FG.  X3P.Made X3PA X3P. ... FTA FT.  OREB\n",
       "1 Brandon Ingram  36 27.4 7.4 2.6 7.6 34.7 0.5      2.1  25.0 ... 2.3 69.9 0.7 \n",
       "2 Andrew Harrison 35 26.9 7.2 2.0 6.7 29.6 0.7      2.8  23.5 ... 3.4 76.5 0.5 \n",
       "3 JaKarr Sampson  74 15.3 5.2 2.0 4.7 42.2 0.4      1.7  24.4 ... 1.3 67.0 0.5 \n",
       "4 Malik Sealy     58 11.6 5.7 2.3 5.5 42.6 0.1      0.5  22.6 ... 1.3 68.9 1.0 \n",
       "5 Matt Geiger     48 11.5 4.5 1.6 3.0 52.4 0.0      0.1   0.0 ... 1.9 67.4 1.0 \n",
       "6 Tony Bennett    75 11.4 3.7 1.5 3.5 42.3 0.3      1.1  32.5 ... 0.5 73.2 0.2 \n",
       "  DREB REB AST STL BLK TOV TARGET_5Yrs\n",
       "1 3.4  4.1 1.9 0.4 0.4 1.3 0          \n",
       "2 2.0  2.4 3.7 1.1 0.5 1.6 0          \n",
       "3 1.7  2.2 1.0 0.5 0.3 1.0 0          \n",
       "4 0.9  1.9 0.8 0.6 0.1 1.0 1          \n",
       "5 1.5  2.5 0.3 0.3 0.4 0.8 1          \n",
       "6 0.7  0.8 1.8 0.4 0.0 0.7 0          "
      ]
     },
     "metadata": {},
     "output_type": "display_data"
    },
    {
     "data": {
      "text/html": [
       "<table>\n",
       "<thead><tr><th></th><th scope=col>Name</th><th scope=col>GP</th><th scope=col>MIN</th><th scope=col>PTS</th><th scope=col>FGM</th><th scope=col>FGA</th><th scope=col>FG.</th><th scope=col>X3P.Made</th><th scope=col>X3PA</th><th scope=col>X3P.</th><th scope=col>...</th><th scope=col>FTA</th><th scope=col>FT.</th><th scope=col>OREB</th><th scope=col>DREB</th><th scope=col>REB</th><th scope=col>AST</th><th scope=col>STL</th><th scope=col>BLK</th><th scope=col>TOV</th><th scope=col>TARGET_5Yrs</th></tr></thead>\n",
       "<tbody>\n",
       "\t<tr><th scope=row>1335</th><td>Chris Smith    </td><td>80             </td><td>15.8           </td><td>4.3            </td><td>1.6            </td><td>3.6            </td><td>43.3           </td><td>0.0            </td><td>0.2            </td><td>14.3           </td><td>...            </td><td>1.5            </td><td>79.2           </td><td>0.4            </td><td>0.8            </td><td>1.2            </td><td>2.5            </td><td>0.6            </td><td>0.2            </td><td>0.8            </td><td>0              </td></tr>\n",
       "\t<tr><th scope=row>1336</th><td>Chris Smith    </td><td>80             </td><td>15.8           </td><td>4.3            </td><td>1.6            </td><td>3.6            </td><td>43.3           </td><td>0.0            </td><td>0.2            </td><td>14.3           </td><td>...            </td><td>1.5            </td><td>79.2           </td><td>0.4            </td><td>0.8            </td><td>1.2            </td><td>2.5            </td><td>0.6            </td><td>0.2            </td><td>0.8            </td><td>0              </td></tr>\n",
       "\t<tr><th scope=row>1337</th><td>Brent Price    </td><td>68             </td><td>12.6           </td><td>3.9            </td><td>1.5            </td><td>4.1            </td><td>35.8           </td><td>0.1            </td><td>0.7            </td><td>16.7           </td><td>...            </td><td>1.0            </td><td>79.4           </td><td>0.4            </td><td>1.1            </td><td>1.5            </td><td>2.3            </td><td>0.8            </td><td>0.0            </td><td>1.3            </td><td>1              </td></tr>\n",
       "\t<tr><th scope=row>1338</th><td>Marlon Maxey   </td><td>43             </td><td>12.1           </td><td>5.4            </td><td>2.2            </td><td>3.9            </td><td>55.0           </td><td>0.0            </td><td>0.0            </td><td> 0.0           </td><td>...            </td><td>1.6            </td><td>64.3           </td><td>1.5            </td><td>2.3            </td><td>3.8            </td><td>0.3            </td><td>0.3            </td><td>0.4            </td><td>0.9            </td><td>0              </td></tr>\n",
       "\t<tr><th scope=row>1339</th><td>Litterial Green</td><td>52             </td><td>12.0           </td><td>4.5            </td><td>1.7            </td><td>3.8            </td><td>43.9           </td><td>0.0            </td><td>0.2            </td><td>10.0           </td><td>...            </td><td>1.8            </td><td>62.5           </td><td>0.2            </td><td>0.4            </td><td>0.7            </td><td>2.2            </td><td>0.4            </td><td>0.1            </td><td>0.8            </td><td>1              </td></tr>\n",
       "\t<tr><th scope=row>1340</th><td>Jon Barry      </td><td>47             </td><td>11.7           </td><td>4.4            </td><td>1.6            </td><td>4.4            </td><td>36.9           </td><td>0.4            </td><td>1.3            </td><td>33.3           </td><td>...            </td><td>1.0            </td><td>67.3           </td><td>0.2            </td><td>0.7            </td><td>0.9            </td><td>1.4            </td><td>0.7            </td><td>0.1            </td><td>0.9            </td><td>1              </td></tr>\n",
       "</tbody>\n",
       "</table>\n"
      ],
      "text/latex": [
       "\\begin{tabular}{r|lllllllllllllllllllll}\n",
       "  & Name & GP & MIN & PTS & FGM & FGA & FG. & X3P.Made & X3PA & X3P. & ... & FTA & FT. & OREB & DREB & REB & AST & STL & BLK & TOV & TARGET\\_5Yrs\\\\\n",
       "\\hline\n",
       "\t1335 & Chris Smith     & 80              & 15.8            & 4.3             & 1.6             & 3.6             & 43.3            & 0.0             & 0.2             & 14.3            & ...             & 1.5             & 79.2            & 0.4             & 0.8             & 1.2             & 2.5             & 0.6             & 0.2             & 0.8             & 0              \\\\\n",
       "\t1336 & Chris Smith     & 80              & 15.8            & 4.3             & 1.6             & 3.6             & 43.3            & 0.0             & 0.2             & 14.3            & ...             & 1.5             & 79.2            & 0.4             & 0.8             & 1.2             & 2.5             & 0.6             & 0.2             & 0.8             & 0              \\\\\n",
       "\t1337 & Brent Price     & 68              & 12.6            & 3.9             & 1.5             & 4.1             & 35.8            & 0.1             & 0.7             & 16.7            & ...             & 1.0             & 79.4            & 0.4             & 1.1             & 1.5             & 2.3             & 0.8             & 0.0             & 1.3             & 1              \\\\\n",
       "\t1338 & Marlon Maxey    & 43              & 12.1            & 5.4             & 2.2             & 3.9             & 55.0            & 0.0             & 0.0             &  0.0            & ...             & 1.6             & 64.3            & 1.5             & 2.3             & 3.8             & 0.3             & 0.3             & 0.4             & 0.9             & 0              \\\\\n",
       "\t1339 & Litterial Green & 52              & 12.0            & 4.5             & 1.7             & 3.8             & 43.9            & 0.0             & 0.2             & 10.0            & ...             & 1.8             & 62.5            & 0.2             & 0.4             & 0.7             & 2.2             & 0.4             & 0.1             & 0.8             & 1              \\\\\n",
       "\t1340 & Jon Barry       & 47              & 11.7            & 4.4             & 1.6             & 4.4             & 36.9            & 0.4             & 1.3             & 33.3            & ...             & 1.0             & 67.3            & 0.2             & 0.7             & 0.9             & 1.4             & 0.7             & 0.1             & 0.9             & 1              \\\\\n",
       "\\end{tabular}\n"
      ],
      "text/markdown": [
       "\n",
       "| <!--/--> | Name | GP | MIN | PTS | FGM | FGA | FG. | X3P.Made | X3PA | X3P. | ... | FTA | FT. | OREB | DREB | REB | AST | STL | BLK | TOV | TARGET_5Yrs |\n",
       "|---|---|---|---|---|---|---|---|---|---|---|---|---|---|---|---|---|---|---|---|---|---|\n",
       "| 1335 | Chris Smith     | 80              | 15.8            | 4.3             | 1.6             | 3.6             | 43.3            | 0.0             | 0.2             | 14.3            | ...             | 1.5             | 79.2            | 0.4             | 0.8             | 1.2             | 2.5             | 0.6             | 0.2             | 0.8             | 0               |\n",
       "| 1336 | Chris Smith     | 80              | 15.8            | 4.3             | 1.6             | 3.6             | 43.3            | 0.0             | 0.2             | 14.3            | ...             | 1.5             | 79.2            | 0.4             | 0.8             | 1.2             | 2.5             | 0.6             | 0.2             | 0.8             | 0               |\n",
       "| 1337 | Brent Price     | 68              | 12.6            | 3.9             | 1.5             | 4.1             | 35.8            | 0.1             | 0.7             | 16.7            | ...             | 1.0             | 79.4            | 0.4             | 1.1             | 1.5             | 2.3             | 0.8             | 0.0             | 1.3             | 1               |\n",
       "| 1338 | Marlon Maxey    | 43              | 12.1            | 5.4             | 2.2             | 3.9             | 55.0            | 0.0             | 0.0             |  0.0            | ...             | 1.6             | 64.3            | 1.5             | 2.3             | 3.8             | 0.3             | 0.3             | 0.4             | 0.9             | 0               |\n",
       "| 1339 | Litterial Green | 52              | 12.0            | 4.5             | 1.7             | 3.8             | 43.9            | 0.0             | 0.2             | 10.0            | ...             | 1.8             | 62.5            | 0.2             | 0.4             | 0.7             | 2.2             | 0.4             | 0.1             | 0.8             | 1               |\n",
       "| 1340 | Jon Barry       | 47              | 11.7            | 4.4             | 1.6             | 4.4             | 36.9            | 0.4             | 1.3             | 33.3            | ...             | 1.0             | 67.3            | 0.2             | 0.7             | 0.9             | 1.4             | 0.7             | 0.1             | 0.9             | 1               |\n",
       "\n"
      ],
      "text/plain": [
       "     Name            GP MIN  PTS FGM FGA FG.  X3P.Made X3PA X3P. ... FTA FT. \n",
       "1335 Chris Smith     80 15.8 4.3 1.6 3.6 43.3 0.0      0.2  14.3 ... 1.5 79.2\n",
       "1336 Chris Smith     80 15.8 4.3 1.6 3.6 43.3 0.0      0.2  14.3 ... 1.5 79.2\n",
       "1337 Brent Price     68 12.6 3.9 1.5 4.1 35.8 0.1      0.7  16.7 ... 1.0 79.4\n",
       "1338 Marlon Maxey    43 12.1 5.4 2.2 3.9 55.0 0.0      0.0   0.0 ... 1.6 64.3\n",
       "1339 Litterial Green 52 12.0 4.5 1.7 3.8 43.9 0.0      0.2  10.0 ... 1.8 62.5\n",
       "1340 Jon Barry       47 11.7 4.4 1.6 4.4 36.9 0.4      1.3  33.3 ... 1.0 67.3\n",
       "     OREB DREB REB AST STL BLK TOV TARGET_5Yrs\n",
       "1335 0.4  0.8  1.2 2.5 0.6 0.2 0.8 0          \n",
       "1336 0.4  0.8  1.2 2.5 0.6 0.2 0.8 0          \n",
       "1337 0.4  1.1  1.5 2.3 0.8 0.0 1.3 1          \n",
       "1338 1.5  2.3  3.8 0.3 0.3 0.4 0.9 0          \n",
       "1339 0.2  0.4  0.7 2.2 0.4 0.1 0.8 1          \n",
       "1340 0.2  0.7  0.9 1.4 0.7 0.1 0.9 1          "
      ]
     },
     "metadata": {},
     "output_type": "display_data"
    }
   ],
   "source": [
    "#cargamos el dataset\n",
    "data<-read.csv(file=\"nba_logreg.csv\", header=T, sep=\",\")\n",
    "data=na.omit(data) #Eliminamos filas iguales repetidas\n",
    "head(data)\n",
    "tail(data)\n"
   ]
  },
  {
   "cell_type": "code",
   "execution_count": 106,
   "metadata": {},
   "outputs": [
    {
     "name": "stdout",
     "output_type": "stream",
     "text": [
      "[1] \"Número de posibles jugadores con carrera larga\"\n"
     ]
    },
    {
     "data": {
      "text/html": [
       "826"
      ],
      "text/latex": [
       "826"
      ],
      "text/markdown": [
       "826"
      ],
      "text/plain": [
       "[1] 826"
      ]
     },
     "metadata": {},
     "output_type": "display_data"
    },
    {
     "name": "stdout",
     "output_type": "stream",
     "text": [
      "[1] \"Total de datos\"\n"
     ]
    },
    {
     "data": {
      "text/html": [
       "1329"
      ],
      "text/latex": [
       "1329"
      ],
      "text/markdown": [
       "1329"
      ],
      "text/plain": [
       "[1] 1329"
      ]
     },
     "metadata": {},
     "output_type": "display_data"
    },
    {
     "name": "stdout",
     "output_type": "stream",
     "text": [
      "[1] \"Proporción de jugadores con carrera larga\"\n"
     ]
    },
    {
     "data": {
      "text/html": [
       "62"
      ],
      "text/latex": [
       "62"
      ],
      "text/markdown": [
       "62"
      ],
      "text/plain": [
       "[1] 62"
      ]
     },
     "metadata": {},
     "output_type": "display_data"
    }
   ],
   "source": [
    "#Observamos el total de datos y como estan distribuidas ñs muestras para el modelo\n",
    "print(\"Número de posibles jugadores con carrera larga\")\n",
    "sum(data$TARGET_5Yrs)\n",
    "print(\"Total de datos\")\n",
    "nrow(data)\n",
    "print(\"Proporción de jugadores con carrera larga\")\n",
    "round(sum(data$TARGET_5Yrs)/nrow(data)*100)"
   ]
  },
  {
   "cell_type": "code",
   "execution_count": 108,
   "metadata": {},
   "outputs": [
    {
     "data": {
      "text/html": [
       "<table>\n",
       "<thead><tr><th scope=col>GP</th><th scope=col>MIN</th><th scope=col>PTS</th><th scope=col>FGM</th><th scope=col>FGA</th><th scope=col>FG.</th><th scope=col>X3P.Made</th><th scope=col>X3PA</th><th scope=col>X3P.</th><th scope=col>FTM</th><th scope=col>FTA</th><th scope=col>FT.</th><th scope=col>OREB</th><th scope=col>DREB</th><th scope=col>REB</th><th scope=col>AST</th><th scope=col>STL</th><th scope=col>BLK</th><th scope=col>TOV</th><th scope=col>TARGET_5Yrs</th></tr></thead>\n",
       "<tbody>\n",
       "\t<tr><td>36  </td><td>27.4</td><td>7.4 </td><td>2.6 </td><td>7.6 </td><td>34.7</td><td>0.5 </td><td>2.1 </td><td>25.0</td><td>1.6 </td><td>2.3 </td><td>69.9</td><td>0.7 </td><td>3.4 </td><td>4.1 </td><td>1.9 </td><td>0.4 </td><td>0.4 </td><td>1.3 </td><td>0   </td></tr>\n",
       "\t<tr><td>35  </td><td>26.9</td><td>7.2 </td><td>2.0 </td><td>6.7 </td><td>29.6</td><td>0.7 </td><td>2.8 </td><td>23.5</td><td>2.6 </td><td>3.4 </td><td>76.5</td><td>0.5 </td><td>2.0 </td><td>2.4 </td><td>3.7 </td><td>1.1 </td><td>0.5 </td><td>1.6 </td><td>0   </td></tr>\n",
       "\t<tr><td>74  </td><td>15.3</td><td>5.2 </td><td>2.0 </td><td>4.7 </td><td>42.2</td><td>0.4 </td><td>1.7 </td><td>24.4</td><td>0.9 </td><td>1.3 </td><td>67.0</td><td>0.5 </td><td>1.7 </td><td>2.2 </td><td>1.0 </td><td>0.5 </td><td>0.3 </td><td>1.0 </td><td>0   </td></tr>\n",
       "\t<tr><td>58  </td><td>11.6</td><td>5.7 </td><td>2.3 </td><td>5.5 </td><td>42.6</td><td>0.1 </td><td>0.5 </td><td>22.6</td><td>0.9 </td><td>1.3 </td><td>68.9</td><td>1.0 </td><td>0.9 </td><td>1.9 </td><td>0.8 </td><td>0.6 </td><td>0.1 </td><td>1.0 </td><td>1   </td></tr>\n",
       "\t<tr><td>48  </td><td>11.5</td><td>4.5 </td><td>1.6 </td><td>3.0 </td><td>52.4</td><td>0.0 </td><td>0.1 </td><td> 0.0</td><td>1.3 </td><td>1.9 </td><td>67.4</td><td>1.0 </td><td>1.5 </td><td>2.5 </td><td>0.3 </td><td>0.3 </td><td>0.4 </td><td>0.8 </td><td>1   </td></tr>\n",
       "\t<tr><td>75  </td><td>11.4</td><td>3.7 </td><td>1.5 </td><td>3.5 </td><td>42.3</td><td>0.3 </td><td>1.1 </td><td>32.5</td><td>0.4 </td><td>0.5 </td><td>73.2</td><td>0.2 </td><td>0.7 </td><td>0.8 </td><td>1.8 </td><td>0.4 </td><td>0.0 </td><td>0.7 </td><td>0   </td></tr>\n",
       "</tbody>\n",
       "</table>\n"
      ],
      "text/latex": [
       "\\begin{tabular}{r|llllllllllllllllllll}\n",
       " GP & MIN & PTS & FGM & FGA & FG. & X3P.Made & X3PA & X3P. & FTM & FTA & FT. & OREB & DREB & REB & AST & STL & BLK & TOV & TARGET\\_5Yrs\\\\\n",
       "\\hline\n",
       "\t 36   & 27.4 & 7.4  & 2.6  & 7.6  & 34.7 & 0.5  & 2.1  & 25.0 & 1.6  & 2.3  & 69.9 & 0.7  & 3.4  & 4.1  & 1.9  & 0.4  & 0.4  & 1.3  & 0   \\\\\n",
       "\t 35   & 26.9 & 7.2  & 2.0  & 6.7  & 29.6 & 0.7  & 2.8  & 23.5 & 2.6  & 3.4  & 76.5 & 0.5  & 2.0  & 2.4  & 3.7  & 1.1  & 0.5  & 1.6  & 0   \\\\\n",
       "\t 74   & 15.3 & 5.2  & 2.0  & 4.7  & 42.2 & 0.4  & 1.7  & 24.4 & 0.9  & 1.3  & 67.0 & 0.5  & 1.7  & 2.2  & 1.0  & 0.5  & 0.3  & 1.0  & 0   \\\\\n",
       "\t 58   & 11.6 & 5.7  & 2.3  & 5.5  & 42.6 & 0.1  & 0.5  & 22.6 & 0.9  & 1.3  & 68.9 & 1.0  & 0.9  & 1.9  & 0.8  & 0.6  & 0.1  & 1.0  & 1   \\\\\n",
       "\t 48   & 11.5 & 4.5  & 1.6  & 3.0  & 52.4 & 0.0  & 0.1  &  0.0 & 1.3  & 1.9  & 67.4 & 1.0  & 1.5  & 2.5  & 0.3  & 0.3  & 0.4  & 0.8  & 1   \\\\\n",
       "\t 75   & 11.4 & 3.7  & 1.5  & 3.5  & 42.3 & 0.3  & 1.1  & 32.5 & 0.4  & 0.5  & 73.2 & 0.2  & 0.7  & 0.8  & 1.8  & 0.4  & 0.0  & 0.7  & 0   \\\\\n",
       "\\end{tabular}\n"
      ],
      "text/markdown": [
       "\n",
       "| GP | MIN | PTS | FGM | FGA | FG. | X3P.Made | X3PA | X3P. | FTM | FTA | FT. | OREB | DREB | REB | AST | STL | BLK | TOV | TARGET_5Yrs |\n",
       "|---|---|---|---|---|---|---|---|---|---|---|---|---|---|---|---|---|---|---|---|\n",
       "| 36   | 27.4 | 7.4  | 2.6  | 7.6  | 34.7 | 0.5  | 2.1  | 25.0 | 1.6  | 2.3  | 69.9 | 0.7  | 3.4  | 4.1  | 1.9  | 0.4  | 0.4  | 1.3  | 0    |\n",
       "| 35   | 26.9 | 7.2  | 2.0  | 6.7  | 29.6 | 0.7  | 2.8  | 23.5 | 2.6  | 3.4  | 76.5 | 0.5  | 2.0  | 2.4  | 3.7  | 1.1  | 0.5  | 1.6  | 0    |\n",
       "| 74   | 15.3 | 5.2  | 2.0  | 4.7  | 42.2 | 0.4  | 1.7  | 24.4 | 0.9  | 1.3  | 67.0 | 0.5  | 1.7  | 2.2  | 1.0  | 0.5  | 0.3  | 1.0  | 0    |\n",
       "| 58   | 11.6 | 5.7  | 2.3  | 5.5  | 42.6 | 0.1  | 0.5  | 22.6 | 0.9  | 1.3  | 68.9 | 1.0  | 0.9  | 1.9  | 0.8  | 0.6  | 0.1  | 1.0  | 1    |\n",
       "| 48   | 11.5 | 4.5  | 1.6  | 3.0  | 52.4 | 0.0  | 0.1  |  0.0 | 1.3  | 1.9  | 67.4 | 1.0  | 1.5  | 2.5  | 0.3  | 0.3  | 0.4  | 0.8  | 1    |\n",
       "| 75   | 11.4 | 3.7  | 1.5  | 3.5  | 42.3 | 0.3  | 1.1  | 32.5 | 0.4  | 0.5  | 73.2 | 0.2  | 0.7  | 0.8  | 1.8  | 0.4  | 0.0  | 0.7  | 0    |\n",
       "\n"
      ],
      "text/plain": [
       "  GP MIN  PTS FGM FGA FG.  X3P.Made X3PA X3P. FTM FTA FT.  OREB DREB REB AST\n",
       "1 36 27.4 7.4 2.6 7.6 34.7 0.5      2.1  25.0 1.6 2.3 69.9 0.7  3.4  4.1 1.9\n",
       "2 35 26.9 7.2 2.0 6.7 29.6 0.7      2.8  23.5 2.6 3.4 76.5 0.5  2.0  2.4 3.7\n",
       "3 74 15.3 5.2 2.0 4.7 42.2 0.4      1.7  24.4 0.9 1.3 67.0 0.5  1.7  2.2 1.0\n",
       "4 58 11.6 5.7 2.3 5.5 42.6 0.1      0.5  22.6 0.9 1.3 68.9 1.0  0.9  1.9 0.8\n",
       "5 48 11.5 4.5 1.6 3.0 52.4 0.0      0.1   0.0 1.3 1.9 67.4 1.0  1.5  2.5 0.3\n",
       "6 75 11.4 3.7 1.5 3.5 42.3 0.3      1.1  32.5 0.4 0.5 73.2 0.2  0.7  0.8 1.8\n",
       "  STL BLK TOV TARGET_5Yrs\n",
       "1 0.4 0.4 1.3 0          \n",
       "2 1.1 0.5 1.6 0          \n",
       "3 0.5 0.3 1.0 0          \n",
       "4 0.6 0.1 1.0 1          \n",
       "5 0.3 0.4 0.8 1          \n",
       "6 0.4 0.0 0.7 0          "
      ]
     },
     "metadata": {},
     "output_type": "display_data"
    },
    {
     "data": {
      "text/plain": [
       "       GP            MIN             PTS             FGM        \n",
       " Min.   :11.0   Min.   : 3.10   Min.   : 0.70   Min.   : 0.300  \n",
       " 1st Qu.:47.0   1st Qu.:10.80   1st Qu.: 3.70   1st Qu.: 1.400  \n",
       " Median :63.0   Median :16.10   Median : 5.60   Median : 2.100  \n",
       " Mean   :60.4   Mean   :17.65   Mean   : 6.82   Mean   : 2.635  \n",
       " 3rd Qu.:77.0   3rd Qu.:22.90   3rd Qu.: 8.80   3rd Qu.: 3.400  \n",
       " Max.   :82.0   Max.   :40.90   Max.   :28.20   Max.   :10.200  \n",
       "      FGA              FG.           X3P.Made           X3PA       \n",
       " Min.   : 0.800   Min.   :23.80   Min.   :0.0000   Min.   :0.0000  \n",
       " 1st Qu.: 3.300   1st Qu.:40.20   1st Qu.:0.0000   1st Qu.:0.0000  \n",
       " Median : 4.800   Median :43.90   Median :0.1000   Median :0.3000  \n",
       " Mean   : 5.902   Mean   :44.12   Mean   :0.2497   Mean   :0.7856  \n",
       " 3rd Qu.: 7.500   3rd Qu.:47.80   3rd Qu.:0.4000   3rd Qu.:1.2000  \n",
       " Max.   :19.800   Max.   :73.70   Max.   :2.3000   Max.   :6.5000  \n",
       "      X3P.             FTM             FTA              FT.        \n",
       " Min.   :  0.00   Min.   :0.000   Min.   : 0.000   Min.   :  0.00  \n",
       " 1st Qu.:  0.00   1st Qu.:0.600   1st Qu.: 0.900   1st Qu.: 64.80  \n",
       " Median : 22.40   Median :1.000   Median : 1.500   Median : 71.30  \n",
       " Mean   : 19.31   Mean   :1.303   Mean   : 1.827   Mean   : 70.41  \n",
       " 3rd Qu.: 32.50   3rd Qu.:1.700   3rd Qu.: 2.300   3rd Qu.: 77.60  \n",
       " Max.   :100.00   Max.   :7.700   Max.   :10.200   Max.   :100.00  \n",
       "      OREB            DREB            REB              AST        \n",
       " Min.   :0.000   Min.   :0.200   Min.   : 0.300   Min.   : 0.000  \n",
       " 1st Qu.:0.400   1st Qu.:1.000   1st Qu.: 1.500   1st Qu.: 0.600  \n",
       " Median :0.800   Median :1.700   Median : 2.500   Median : 1.100  \n",
       " Mean   :1.008   Mean   :2.021   Mean   : 3.028   Mean   : 1.559  \n",
       " 3rd Qu.:1.400   3rd Qu.:2.600   3rd Qu.: 4.000   3rd Qu.: 2.000  \n",
       " Max.   :5.300   Max.   :9.600   Max.   :13.900   Max.   :10.600  \n",
       "      STL              BLK              TOV         TARGET_5Yrs    \n",
       " Min.   :0.0000   Min.   :0.0000   Min.   :0.100   Min.   :0.0000  \n",
       " 1st Qu.:0.3000   1st Qu.:0.1000   1st Qu.:0.700   1st Qu.:0.0000  \n",
       " Median :0.5000   Median :0.2000   Median :1.000   Median :1.0000  \n",
       " Mean   :0.6204   Mean   :0.3661   Mean   :1.196   Mean   :0.6215  \n",
       " 3rd Qu.:0.8000   3rd Qu.:0.5000   3rd Qu.:1.500   3rd Qu.:1.0000  \n",
       " Max.   :2.5000   Max.   :3.9000   Max.   :4.400   Max.   :1.0000  "
      ]
     },
     "metadata": {},
     "output_type": "display_data"
    }
   ],
   "source": [
    "#Eliminamos momentaneamente la de los nombres para trabajar y en este caso no hace falta hacer la variable target.\n",
    "dataraw<-data\n",
    "dataraw$Name<-NULL\n",
    "#dataraw$X3P.<-NULL\n",
    "dataraw1<-dataraw\n",
    "head(dataraw)\n",
    "summary(dataraw)"
   ]
  },
  {
   "cell_type": "code",
   "execution_count": 109,
   "metadata": {},
   "outputs": [
    {
     "data": {
      "text/html": [
       "<table>\n",
       "<thead><tr><th></th><th scope=col>GP</th><th scope=col>MIN</th><th scope=col>PTS</th><th scope=col>FGM</th><th scope=col>FGA</th><th scope=col>FG.</th><th scope=col>X3P.Made</th><th scope=col>X3PA</th><th scope=col>X3P.</th><th scope=col>FTM</th><th scope=col>FTA</th><th scope=col>FT.</th><th scope=col>OREB</th><th scope=col>DREB</th><th scope=col>REB</th><th scope=col>AST</th><th scope=col>STL</th><th scope=col>BLK</th><th scope=col>TOV</th><th scope=col>TARGET_5Yrs</th></tr></thead>\n",
       "<tbody>\n",
       "\t<tr><th scope=row>GP</th><td>1.00000000  </td><td>0.5905958   </td><td>0.5390694   </td><td>0.5430001   </td><td>0.5173947   </td><td> 0.29698671 </td><td> 0.10819470 </td><td> 0.09962586 </td><td> 0.038209111</td><td>0.48318459  </td><td> 0.48013550 </td><td> 0.19774264 </td><td> 0.40018361 </td><td> 0.46746691 </td><td> 0.46039020 </td><td> 0.37431119 </td><td>0.45272570  </td><td> 0.27669982 </td><td>0.5186933   </td><td> 0.397782876</td></tr>\n",
       "\t<tr><th scope=row>MIN</th><td>0.59059581  </td><td>1.0000000   </td><td>0.9117464   </td><td>0.9028637   </td><td>0.9101942   </td><td> 0.20834058 </td><td> 0.38947367 </td><td> 0.40281351 </td><td> 0.165996551</td><td>0.79108881  </td><td> 0.77981253 </td><td> 0.23616004 </td><td> 0.57365519 </td><td> 0.74706548 </td><td> 0.71085316 </td><td> 0.62914705 </td><td>0.75705017  </td><td> 0.40101051 </td><td>0.8264309   </td><td> 0.316030669</td></tr>\n",
       "\t<tr><th scope=row>PTS</th><td>0.53906940  </td><td>0.9117464   </td><td>1.0000000   </td><td>0.9908739   </td><td>0.9796763   </td><td> 0.26158711 </td><td> 0.34528932 </td><td> 0.35519760 </td><td> 0.151071831</td><td>0.89624544  </td><td> 0.88082551 </td><td> 0.25440359 </td><td> 0.57642075 </td><td> 0.69656013 </td><td> 0.67900156 </td><td> 0.55156085 </td><td>0.67493681  </td><td> 0.39049580 </td><td>0.8502722   </td><td> 0.314632051</td></tr>\n",
       "\t<tr><th scope=row>FGM</th><td>0.54300009  </td><td>0.9028637   </td><td>0.9908739   </td><td>1.0000000   </td><td>0.9801170   </td><td> 0.29711280 </td><td> 0.28795599 </td><td> 0.29789752 </td><td> 0.119493281</td><td>0.84814638  </td><td> 0.84066677 </td><td> 0.21942305 </td><td> 0.59746760 </td><td> 0.70519142 </td><td> 0.69267804 </td><td> 0.53226104 </td><td>0.66245659  </td><td> 0.40074381 </td><td>0.8343431   </td><td> 0.316393268</td></tr>\n",
       "\t<tr><th scope=row>FGA</th><td>0.51739472  </td><td>0.9101942   </td><td>0.9796763   </td><td>0.9801170   </td><td>1.0000000   </td><td> 0.13581506 </td><td> 0.38886001 </td><td> 0.41205286 </td><td> 0.197159626</td><td>0.82624393  </td><td> 0.80550663 </td><td> 0.26440538 </td><td> 0.50554748 </td><td> 0.64275151 </td><td> 0.61649722 </td><td> 0.58903763 </td><td>0.68977092  </td><td> 0.32550302 </td><td>0.8459524   </td><td> 0.290683738</td></tr>\n",
       "\t<tr><th scope=row>FG.</th><td>0.29698671  </td><td>0.2083406   </td><td>0.2615871   </td><td>0.2971128   </td><td>0.1358151   </td><td> 1.00000000 </td><td>-0.29157287 </td><td>-0.34767955 </td><td>-0.330690063</td><td>0.25338059  </td><td> 0.30636017 </td><td>-0.15099610 </td><td> 0.51234587 </td><td> 0.41110270 </td><td> 0.46612579 </td><td>-0.10354608 </td><td>0.06112959  </td><td> 0.39078641 </td><td>0.1264286   </td><td> 0.235587226</td></tr>\n",
       "\t<tr><th scope=row>X3P.Made</th><td>0.10819470  </td><td>0.3894737   </td><td>0.3452893   </td><td>0.2879560   </td><td>0.3888600   </td><td>-0.29157287 </td><td> 1.00000000 </td><td> 0.98257922 </td><td> 0.589855397</td><td>0.15571714  </td><td> 0.09305949 </td><td> 0.31225550 </td><td>-0.21820989 </td><td> 0.01868775 </td><td>-0.07086521 </td><td> 0.37431435 </td><td>0.30514630  </td><td>-0.15595545 </td><td>0.2570150   </td><td> 0.035024733</td></tr>\n",
       "\t<tr><th scope=row>X3PA</th><td>0.09962586  </td><td>0.4028135   </td><td>0.3551976   </td><td>0.2978975   </td><td>0.4120529   </td><td>-0.34767955 </td><td> 0.98257922 </td><td> 1.00000000 </td><td> 0.582336887</td><td>0.17046307  </td><td> 0.10578447 </td><td> 0.32090093 </td><td>-0.23104973 </td><td> 0.01361096 </td><td>-0.07911139 </td><td> 0.40806650 </td><td>0.33675720  </td><td>-0.16924519 </td><td>0.2824965   </td><td> 0.016150828</td></tr>\n",
       "\t<tr><th scope=row>X3P.</th><td>0.03820911  </td><td>0.1659966   </td><td>0.1510718   </td><td>0.1194933   </td><td>0.1971596   </td><td>-0.33069006 </td><td> 0.58985540 </td><td> 0.58233689 </td><td> 1.000000000</td><td>0.03031976  </td><td>-0.03233307 </td><td> 0.32637157 </td><td>-0.28875949 </td><td>-0.12294948 </td><td>-0.19107053 </td><td> 0.26212027 </td><td>0.19432897  </td><td>-0.24227385 </td><td>0.1082770   </td><td>-0.003410701</td></tr>\n",
       "\t<tr><th scope=row>FTM</th><td>0.48318459  </td><td>0.7910888   </td><td>0.8962454   </td><td>0.8481464   </td><td>0.8262439   </td><td> 0.25338059 </td><td> 0.15571714 </td><td> 0.17046307 </td><td> 0.030319755</td><td>1.00000000  </td><td> 0.98062583 </td><td> 0.25312507 </td><td> 0.58632502 </td><td> 0.65765199 </td><td> 0.65719442 </td><td> 0.47440342 </td><td>0.59953428  </td><td> 0.41256464 </td><td>0.8047619   </td><td> 0.295546174</td></tr>\n",
       "\t<tr><th scope=row>FTA</th><td>0.48013550  </td><td>0.7798125   </td><td>0.8808255   </td><td>0.8406668   </td><td>0.8055066   </td><td> 0.30636017 </td><td> 0.09305949 </td><td> 0.10578447 </td><td>-0.032333075</td><td>0.98062583  </td><td> 1.00000000 </td><td> 0.11084590 </td><td> 0.65540796 </td><td> 0.70419537 </td><td> 0.71426679 </td><td> 0.42714132 </td><td>0.57973697  </td><td> 0.47350104 </td><td>0.7988558   </td><td> 0.296018291</td></tr>\n",
       "\t<tr><th scope=row>FT.</th><td>0.19774264  </td><td>0.2361600   </td><td>0.2544036   </td><td>0.2194230   </td><td>0.2644054   </td><td>-0.15099610 </td><td> 0.31225550 </td><td> 0.32090093 </td><td> 0.326371572</td><td>0.25312507  </td><td> 0.11084590 </td><td> 1.00000000 </td><td>-0.14751166 </td><td>-0.02190083 </td><td>-0.07079927 </td><td> 0.29287668 </td><td>0.20279080  </td><td>-0.16000772 </td><td>0.1952421   </td><td> 0.095620679</td></tr>\n",
       "\t<tr><th scope=row>OREB</th><td>0.40018361  </td><td>0.5736552   </td><td>0.5764207   </td><td>0.5974676   </td><td>0.5055475   </td><td> 0.51234587 </td><td>-0.21820989 </td><td>-0.23104973 </td><td>-0.288759488</td><td>0.58632502  </td><td> 0.65540796 </td><td>-0.14751166 </td><td> 1.00000000 </td><td> 0.83890392 </td><td> 0.93287410 </td><td>-0.01073554 </td><td>0.28798157  </td><td> 0.64920054 </td><td>0.4227079   </td><td> 0.294637087</td></tr>\n",
       "\t<tr><th scope=row>DREB</th><td>0.46746691  </td><td>0.7470655   </td><td>0.6965601   </td><td>0.7051914   </td><td>0.6427515   </td><td> 0.41110270 </td><td> 0.01868775 </td><td> 0.01361096 </td><td>-0.122949477</td><td>0.65765199  </td><td> 0.70419537 </td><td>-0.02190083 </td><td> 0.83890392 </td><td> 1.00000000 </td><td> 0.97819871 </td><td> 0.18938021 </td><td>0.41389255  </td><td> 0.68762654 </td><td>0.5720489   </td><td> 0.285672693</td></tr>\n",
       "\t<tr><th scope=row>REB</th><td>0.46039020  </td><td>0.7108532   </td><td>0.6790016   </td><td>0.6926780   </td><td>0.6164972   </td><td> 0.46612579 </td><td>-0.07086521 </td><td>-0.07911139 </td><td>-0.191070531</td><td>0.65719442  </td><td> 0.71426679 </td><td>-0.07079927 </td><td> 0.93287410 </td><td> 0.97819871 </td><td> 1.00000000 </td><td> 0.12130211 </td><td>0.38294212  </td><td> 0.69961462 </td><td>0.5382164   </td><td> 0.300491364</td></tr>\n",
       "\t<tr><th scope=row>AST</th><td>0.37431119  </td><td>0.6291470   </td><td>0.5515609   </td><td>0.5322610   </td><td>0.5890376   </td><td>-0.10354608 </td><td> 0.37431435 </td><td> 0.40806650 </td><td> 0.262120273</td><td>0.47440342  </td><td> 0.42714132 </td><td> 0.29287668 </td><td>-0.01073554 </td><td> 0.18938021 </td><td> 0.12130211 </td><td> 1.00000000 </td><td>0.75110933  </td><td>-0.08385085 </td><td>0.7474417   </td><td> 0.173788411</td></tr>\n",
       "\t<tr><th scope=row>STL</th><td>0.45272570  </td><td>0.7570502   </td><td>0.6749368   </td><td>0.6624566   </td><td>0.6897709   </td><td> 0.06112959 </td><td> 0.30514630 </td><td> 0.33675720 </td><td> 0.194328971</td><td>0.59953428  </td><td> 0.57973697 </td><td> 0.20279080 </td><td> 0.28798157 </td><td> 0.41389255 </td><td> 0.38294212 </td><td> 0.75110933 </td><td>1.00000000  </td><td> 0.13614424 </td><td>0.7423013   </td><td> 0.228930966</td></tr>\n",
       "\t<tr><th scope=row>BLK</th><td>0.27669982  </td><td>0.4010105   </td><td>0.3904958   </td><td>0.4007438   </td><td>0.3255030   </td><td> 0.39078641 </td><td>-0.15595545 </td><td>-0.16924519 </td><td>-0.242273855</td><td>0.41256464  </td><td> 0.47350104 </td><td>-0.16000772 </td><td> 0.64920054 </td><td> 0.68762654 </td><td> 0.69961462 </td><td>-0.08385085 </td><td>0.13614424  </td><td> 1.00000000 </td><td>0.2846788   </td><td> 0.211750706</td></tr>\n",
       "\t<tr><th scope=row>TOV</th><td>0.51869334  </td><td>0.8264309   </td><td>0.8502722   </td><td>0.8343431   </td><td>0.8459524   </td><td> 0.12642861 </td><td> 0.25701499 </td><td> 0.28249649 </td><td> 0.108277049</td><td>0.80476192  </td><td> 0.79885580 </td><td> 0.19524215 </td><td> 0.42270786 </td><td> 0.57204889 </td><td> 0.53821644 </td><td> 0.74744166 </td><td>0.74230131  </td><td> 0.28467882 </td><td>1.0000000   </td><td> 0.270767150</td></tr>\n",
       "\t<tr><th scope=row>TARGET_5Yrs</th><td>0.39778288  </td><td>0.3160307   </td><td>0.3146321   </td><td>0.3163933   </td><td>0.2906837   </td><td> 0.23558723 </td><td> 0.03502473 </td><td> 0.01615083 </td><td>-0.003410701</td><td>0.29554617  </td><td> 0.29601829 </td><td> 0.09562068 </td><td> 0.29463709 </td><td> 0.28567269 </td><td> 0.30049136 </td><td> 0.17378841 </td><td>0.22893097  </td><td> 0.21175071 </td><td>0.2707671   </td><td> 1.000000000</td></tr>\n",
       "</tbody>\n",
       "</table>\n"
      ],
      "text/latex": [
       "\\begin{tabular}{r|llllllllllllllllllll}\n",
       "  & GP & MIN & PTS & FGM & FGA & FG. & X3P.Made & X3PA & X3P. & FTM & FTA & FT. & OREB & DREB & REB & AST & STL & BLK & TOV & TARGET\\_5Yrs\\\\\n",
       "\\hline\n",
       "\tGP & 1.00000000   & 0.5905958    & 0.5390694    & 0.5430001    & 0.5173947    &  0.29698671  &  0.10819470  &  0.09962586  &  0.038209111 & 0.48318459   &  0.48013550  &  0.19774264  &  0.40018361  &  0.46746691  &  0.46039020  &  0.37431119  & 0.45272570   &  0.27669982  & 0.5186933    &  0.397782876\\\\\n",
       "\tMIN & 0.59059581   & 1.0000000    & 0.9117464    & 0.9028637    & 0.9101942    &  0.20834058  &  0.38947367  &  0.40281351  &  0.165996551 & 0.79108881   &  0.77981253  &  0.23616004  &  0.57365519  &  0.74706548  &  0.71085316  &  0.62914705  & 0.75705017   &  0.40101051  & 0.8264309    &  0.316030669\\\\\n",
       "\tPTS & 0.53906940   & 0.9117464    & 1.0000000    & 0.9908739    & 0.9796763    &  0.26158711  &  0.34528932  &  0.35519760  &  0.151071831 & 0.89624544   &  0.88082551  &  0.25440359  &  0.57642075  &  0.69656013  &  0.67900156  &  0.55156085  & 0.67493681   &  0.39049580  & 0.8502722    &  0.314632051\\\\\n",
       "\tFGM & 0.54300009   & 0.9028637    & 0.9908739    & 1.0000000    & 0.9801170    &  0.29711280  &  0.28795599  &  0.29789752  &  0.119493281 & 0.84814638   &  0.84066677  &  0.21942305  &  0.59746760  &  0.70519142  &  0.69267804  &  0.53226104  & 0.66245659   &  0.40074381  & 0.8343431    &  0.316393268\\\\\n",
       "\tFGA & 0.51739472   & 0.9101942    & 0.9796763    & 0.9801170    & 1.0000000    &  0.13581506  &  0.38886001  &  0.41205286  &  0.197159626 & 0.82624393   &  0.80550663  &  0.26440538  &  0.50554748  &  0.64275151  &  0.61649722  &  0.58903763  & 0.68977092   &  0.32550302  & 0.8459524    &  0.290683738\\\\\n",
       "\tFG. & 0.29698671   & 0.2083406    & 0.2615871    & 0.2971128    & 0.1358151    &  1.00000000  & -0.29157287  & -0.34767955  & -0.330690063 & 0.25338059   &  0.30636017  & -0.15099610  &  0.51234587  &  0.41110270  &  0.46612579  & -0.10354608  & 0.06112959   &  0.39078641  & 0.1264286    &  0.235587226\\\\\n",
       "\tX3P.Made & 0.10819470   & 0.3894737    & 0.3452893    & 0.2879560    & 0.3888600    & -0.29157287  &  1.00000000  &  0.98257922  &  0.589855397 & 0.15571714   &  0.09305949  &  0.31225550  & -0.21820989  &  0.01868775  & -0.07086521  &  0.37431435  & 0.30514630   & -0.15595545  & 0.2570150    &  0.035024733\\\\\n",
       "\tX3PA & 0.09962586   & 0.4028135    & 0.3551976    & 0.2978975    & 0.4120529    & -0.34767955  &  0.98257922  &  1.00000000  &  0.582336887 & 0.17046307   &  0.10578447  &  0.32090093  & -0.23104973  &  0.01361096  & -0.07911139  &  0.40806650  & 0.33675720   & -0.16924519  & 0.2824965    &  0.016150828\\\\\n",
       "\tX3P. & 0.03820911   & 0.1659966    & 0.1510718    & 0.1194933    & 0.1971596    & -0.33069006  &  0.58985540  &  0.58233689  &  1.000000000 & 0.03031976   & -0.03233307  &  0.32637157  & -0.28875949  & -0.12294948  & -0.19107053  &  0.26212027  & 0.19432897   & -0.24227385  & 0.1082770    & -0.003410701\\\\\n",
       "\tFTM & 0.48318459   & 0.7910888    & 0.8962454    & 0.8481464    & 0.8262439    &  0.25338059  &  0.15571714  &  0.17046307  &  0.030319755 & 1.00000000   &  0.98062583  &  0.25312507  &  0.58632502  &  0.65765199  &  0.65719442  &  0.47440342  & 0.59953428   &  0.41256464  & 0.8047619    &  0.295546174\\\\\n",
       "\tFTA & 0.48013550   & 0.7798125    & 0.8808255    & 0.8406668    & 0.8055066    &  0.30636017  &  0.09305949  &  0.10578447  & -0.032333075 & 0.98062583   &  1.00000000  &  0.11084590  &  0.65540796  &  0.70419537  &  0.71426679  &  0.42714132  & 0.57973697   &  0.47350104  & 0.7988558    &  0.296018291\\\\\n",
       "\tFT. & 0.19774264   & 0.2361600    & 0.2544036    & 0.2194230    & 0.2644054    & -0.15099610  &  0.31225550  &  0.32090093  &  0.326371572 & 0.25312507   &  0.11084590  &  1.00000000  & -0.14751166  & -0.02190083  & -0.07079927  &  0.29287668  & 0.20279080   & -0.16000772  & 0.1952421    &  0.095620679\\\\\n",
       "\tOREB & 0.40018361   & 0.5736552    & 0.5764207    & 0.5974676    & 0.5055475    &  0.51234587  & -0.21820989  & -0.23104973  & -0.288759488 & 0.58632502   &  0.65540796  & -0.14751166  &  1.00000000  &  0.83890392  &  0.93287410  & -0.01073554  & 0.28798157   &  0.64920054  & 0.4227079    &  0.294637087\\\\\n",
       "\tDREB & 0.46746691   & 0.7470655    & 0.6965601    & 0.7051914    & 0.6427515    &  0.41110270  &  0.01868775  &  0.01361096  & -0.122949477 & 0.65765199   &  0.70419537  & -0.02190083  &  0.83890392  &  1.00000000  &  0.97819871  &  0.18938021  & 0.41389255   &  0.68762654  & 0.5720489    &  0.285672693\\\\\n",
       "\tREB & 0.46039020   & 0.7108532    & 0.6790016    & 0.6926780    & 0.6164972    &  0.46612579  & -0.07086521  & -0.07911139  & -0.191070531 & 0.65719442   &  0.71426679  & -0.07079927  &  0.93287410  &  0.97819871  &  1.00000000  &  0.12130211  & 0.38294212   &  0.69961462  & 0.5382164    &  0.300491364\\\\\n",
       "\tAST & 0.37431119   & 0.6291470    & 0.5515609    & 0.5322610    & 0.5890376    & -0.10354608  &  0.37431435  &  0.40806650  &  0.262120273 & 0.47440342   &  0.42714132  &  0.29287668  & -0.01073554  &  0.18938021  &  0.12130211  &  1.00000000  & 0.75110933   & -0.08385085  & 0.7474417    &  0.173788411\\\\\n",
       "\tSTL & 0.45272570   & 0.7570502    & 0.6749368    & 0.6624566    & 0.6897709    &  0.06112959  &  0.30514630  &  0.33675720  &  0.194328971 & 0.59953428   &  0.57973697  &  0.20279080  &  0.28798157  &  0.41389255  &  0.38294212  &  0.75110933  & 1.00000000   &  0.13614424  & 0.7423013    &  0.228930966\\\\\n",
       "\tBLK & 0.27669982   & 0.4010105    & 0.3904958    & 0.4007438    & 0.3255030    &  0.39078641  & -0.15595545  & -0.16924519  & -0.242273855 & 0.41256464   &  0.47350104  & -0.16000772  &  0.64920054  &  0.68762654  &  0.69961462  & -0.08385085  & 0.13614424   &  1.00000000  & 0.2846788    &  0.211750706\\\\\n",
       "\tTOV & 0.51869334   & 0.8264309    & 0.8502722    & 0.8343431    & 0.8459524    &  0.12642861  &  0.25701499  &  0.28249649  &  0.108277049 & 0.80476192   &  0.79885580  &  0.19524215  &  0.42270786  &  0.57204889  &  0.53821644  &  0.74744166  & 0.74230131   &  0.28467882  & 1.0000000    &  0.270767150\\\\\n",
       "\tTARGET\\_5Yrs & 0.39778288   & 0.3160307    & 0.3146321    & 0.3163933    & 0.2906837    &  0.23558723  &  0.03502473  &  0.01615083  & -0.003410701 & 0.29554617   &  0.29601829  &  0.09562068  &  0.29463709  &  0.28567269  &  0.30049136  &  0.17378841  & 0.22893097   &  0.21175071  & 0.2707671    &  1.000000000\\\\\n",
       "\\end{tabular}\n"
      ],
      "text/markdown": [
       "\n",
       "| <!--/--> | GP | MIN | PTS | FGM | FGA | FG. | X3P.Made | X3PA | X3P. | FTM | FTA | FT. | OREB | DREB | REB | AST | STL | BLK | TOV | TARGET_5Yrs |\n",
       "|---|---|---|---|---|---|---|---|---|---|---|---|---|---|---|---|---|---|---|---|---|\n",
       "| GP | 1.00000000   | 0.5905958    | 0.5390694    | 0.5430001    | 0.5173947    |  0.29698671  |  0.10819470  |  0.09962586  |  0.038209111 | 0.48318459   |  0.48013550  |  0.19774264  |  0.40018361  |  0.46746691  |  0.46039020  |  0.37431119  | 0.45272570   |  0.27669982  | 0.5186933    |  0.397782876 |\n",
       "| MIN | 0.59059581   | 1.0000000    | 0.9117464    | 0.9028637    | 0.9101942    |  0.20834058  |  0.38947367  |  0.40281351  |  0.165996551 | 0.79108881   |  0.77981253  |  0.23616004  |  0.57365519  |  0.74706548  |  0.71085316  |  0.62914705  | 0.75705017   |  0.40101051  | 0.8264309    |  0.316030669 |\n",
       "| PTS | 0.53906940   | 0.9117464    | 1.0000000    | 0.9908739    | 0.9796763    |  0.26158711  |  0.34528932  |  0.35519760  |  0.151071831 | 0.89624544   |  0.88082551  |  0.25440359  |  0.57642075  |  0.69656013  |  0.67900156  |  0.55156085  | 0.67493681   |  0.39049580  | 0.8502722    |  0.314632051 |\n",
       "| FGM | 0.54300009   | 0.9028637    | 0.9908739    | 1.0000000    | 0.9801170    |  0.29711280  |  0.28795599  |  0.29789752  |  0.119493281 | 0.84814638   |  0.84066677  |  0.21942305  |  0.59746760  |  0.70519142  |  0.69267804  |  0.53226104  | 0.66245659   |  0.40074381  | 0.8343431    |  0.316393268 |\n",
       "| FGA | 0.51739472   | 0.9101942    | 0.9796763    | 0.9801170    | 1.0000000    |  0.13581506  |  0.38886001  |  0.41205286  |  0.197159626 | 0.82624393   |  0.80550663  |  0.26440538  |  0.50554748  |  0.64275151  |  0.61649722  |  0.58903763  | 0.68977092   |  0.32550302  | 0.8459524    |  0.290683738 |\n",
       "| FG. | 0.29698671   | 0.2083406    | 0.2615871    | 0.2971128    | 0.1358151    |  1.00000000  | -0.29157287  | -0.34767955  | -0.330690063 | 0.25338059   |  0.30636017  | -0.15099610  |  0.51234587  |  0.41110270  |  0.46612579  | -0.10354608  | 0.06112959   |  0.39078641  | 0.1264286    |  0.235587226 |\n",
       "| X3P.Made | 0.10819470   | 0.3894737    | 0.3452893    | 0.2879560    | 0.3888600    | -0.29157287  |  1.00000000  |  0.98257922  |  0.589855397 | 0.15571714   |  0.09305949  |  0.31225550  | -0.21820989  |  0.01868775  | -0.07086521  |  0.37431435  | 0.30514630   | -0.15595545  | 0.2570150    |  0.035024733 |\n",
       "| X3PA | 0.09962586   | 0.4028135    | 0.3551976    | 0.2978975    | 0.4120529    | -0.34767955  |  0.98257922  |  1.00000000  |  0.582336887 | 0.17046307   |  0.10578447  |  0.32090093  | -0.23104973  |  0.01361096  | -0.07911139  |  0.40806650  | 0.33675720   | -0.16924519  | 0.2824965    |  0.016150828 |\n",
       "| X3P. | 0.03820911   | 0.1659966    | 0.1510718    | 0.1194933    | 0.1971596    | -0.33069006  |  0.58985540  |  0.58233689  |  1.000000000 | 0.03031976   | -0.03233307  |  0.32637157  | -0.28875949  | -0.12294948  | -0.19107053  |  0.26212027  | 0.19432897   | -0.24227385  | 0.1082770    | -0.003410701 |\n",
       "| FTM | 0.48318459   | 0.7910888    | 0.8962454    | 0.8481464    | 0.8262439    |  0.25338059  |  0.15571714  |  0.17046307  |  0.030319755 | 1.00000000   |  0.98062583  |  0.25312507  |  0.58632502  |  0.65765199  |  0.65719442  |  0.47440342  | 0.59953428   |  0.41256464  | 0.8047619    |  0.295546174 |\n",
       "| FTA | 0.48013550   | 0.7798125    | 0.8808255    | 0.8406668    | 0.8055066    |  0.30636017  |  0.09305949  |  0.10578447  | -0.032333075 | 0.98062583   |  1.00000000  |  0.11084590  |  0.65540796  |  0.70419537  |  0.71426679  |  0.42714132  | 0.57973697   |  0.47350104  | 0.7988558    |  0.296018291 |\n",
       "| FT. | 0.19774264   | 0.2361600    | 0.2544036    | 0.2194230    | 0.2644054    | -0.15099610  |  0.31225550  |  0.32090093  |  0.326371572 | 0.25312507   |  0.11084590  |  1.00000000  | -0.14751166  | -0.02190083  | -0.07079927  |  0.29287668  | 0.20279080   | -0.16000772  | 0.1952421    |  0.095620679 |\n",
       "| OREB | 0.40018361   | 0.5736552    | 0.5764207    | 0.5974676    | 0.5055475    |  0.51234587  | -0.21820989  | -0.23104973  | -0.288759488 | 0.58632502   |  0.65540796  | -0.14751166  |  1.00000000  |  0.83890392  |  0.93287410  | -0.01073554  | 0.28798157   |  0.64920054  | 0.4227079    |  0.294637087 |\n",
       "| DREB | 0.46746691   | 0.7470655    | 0.6965601    | 0.7051914    | 0.6427515    |  0.41110270  |  0.01868775  |  0.01361096  | -0.122949477 | 0.65765199   |  0.70419537  | -0.02190083  |  0.83890392  |  1.00000000  |  0.97819871  |  0.18938021  | 0.41389255   |  0.68762654  | 0.5720489    |  0.285672693 |\n",
       "| REB | 0.46039020   | 0.7108532    | 0.6790016    | 0.6926780    | 0.6164972    |  0.46612579  | -0.07086521  | -0.07911139  | -0.191070531 | 0.65719442   |  0.71426679  | -0.07079927  |  0.93287410  |  0.97819871  |  1.00000000  |  0.12130211  | 0.38294212   |  0.69961462  | 0.5382164    |  0.300491364 |\n",
       "| AST | 0.37431119   | 0.6291470    | 0.5515609    | 0.5322610    | 0.5890376    | -0.10354608  |  0.37431435  |  0.40806650  |  0.262120273 | 0.47440342   |  0.42714132  |  0.29287668  | -0.01073554  |  0.18938021  |  0.12130211  |  1.00000000  | 0.75110933   | -0.08385085  | 0.7474417    |  0.173788411 |\n",
       "| STL | 0.45272570   | 0.7570502    | 0.6749368    | 0.6624566    | 0.6897709    |  0.06112959  |  0.30514630  |  0.33675720  |  0.194328971 | 0.59953428   |  0.57973697  |  0.20279080  |  0.28798157  |  0.41389255  |  0.38294212  |  0.75110933  | 1.00000000   |  0.13614424  | 0.7423013    |  0.228930966 |\n",
       "| BLK | 0.27669982   | 0.4010105    | 0.3904958    | 0.4007438    | 0.3255030    |  0.39078641  | -0.15595545  | -0.16924519  | -0.242273855 | 0.41256464   |  0.47350104  | -0.16000772  |  0.64920054  |  0.68762654  |  0.69961462  | -0.08385085  | 0.13614424   |  1.00000000  | 0.2846788    |  0.211750706 |\n",
       "| TOV | 0.51869334   | 0.8264309    | 0.8502722    | 0.8343431    | 0.8459524    |  0.12642861  |  0.25701499  |  0.28249649  |  0.108277049 | 0.80476192   |  0.79885580  |  0.19524215  |  0.42270786  |  0.57204889  |  0.53821644  |  0.74744166  | 0.74230131   |  0.28467882  | 1.0000000    |  0.270767150 |\n",
       "| TARGET_5Yrs | 0.39778288   | 0.3160307    | 0.3146321    | 0.3163933    | 0.2906837    |  0.23558723  |  0.03502473  |  0.01615083  | -0.003410701 | 0.29554617   |  0.29601829  |  0.09562068  |  0.29463709  |  0.28567269  |  0.30049136  |  0.17378841  | 0.22893097   |  0.21175071  | 0.2707671    |  1.000000000 |\n",
       "\n"
      ],
      "text/plain": [
       "            GP         MIN       PTS       FGM       FGA       FG.        \n",
       "GP          1.00000000 0.5905958 0.5390694 0.5430001 0.5173947  0.29698671\n",
       "MIN         0.59059581 1.0000000 0.9117464 0.9028637 0.9101942  0.20834058\n",
       "PTS         0.53906940 0.9117464 1.0000000 0.9908739 0.9796763  0.26158711\n",
       "FGM         0.54300009 0.9028637 0.9908739 1.0000000 0.9801170  0.29711280\n",
       "FGA         0.51739472 0.9101942 0.9796763 0.9801170 1.0000000  0.13581506\n",
       "FG.         0.29698671 0.2083406 0.2615871 0.2971128 0.1358151  1.00000000\n",
       "X3P.Made    0.10819470 0.3894737 0.3452893 0.2879560 0.3888600 -0.29157287\n",
       "X3PA        0.09962586 0.4028135 0.3551976 0.2978975 0.4120529 -0.34767955\n",
       "X3P.        0.03820911 0.1659966 0.1510718 0.1194933 0.1971596 -0.33069006\n",
       "FTM         0.48318459 0.7910888 0.8962454 0.8481464 0.8262439  0.25338059\n",
       "FTA         0.48013550 0.7798125 0.8808255 0.8406668 0.8055066  0.30636017\n",
       "FT.         0.19774264 0.2361600 0.2544036 0.2194230 0.2644054 -0.15099610\n",
       "OREB        0.40018361 0.5736552 0.5764207 0.5974676 0.5055475  0.51234587\n",
       "DREB        0.46746691 0.7470655 0.6965601 0.7051914 0.6427515  0.41110270\n",
       "REB         0.46039020 0.7108532 0.6790016 0.6926780 0.6164972  0.46612579\n",
       "AST         0.37431119 0.6291470 0.5515609 0.5322610 0.5890376 -0.10354608\n",
       "STL         0.45272570 0.7570502 0.6749368 0.6624566 0.6897709  0.06112959\n",
       "BLK         0.27669982 0.4010105 0.3904958 0.4007438 0.3255030  0.39078641\n",
       "TOV         0.51869334 0.8264309 0.8502722 0.8343431 0.8459524  0.12642861\n",
       "TARGET_5Yrs 0.39778288 0.3160307 0.3146321 0.3163933 0.2906837  0.23558723\n",
       "            X3P.Made    X3PA        X3P.         FTM        FTA        \n",
       "GP           0.10819470  0.09962586  0.038209111 0.48318459  0.48013550\n",
       "MIN          0.38947367  0.40281351  0.165996551 0.79108881  0.77981253\n",
       "PTS          0.34528932  0.35519760  0.151071831 0.89624544  0.88082551\n",
       "FGM          0.28795599  0.29789752  0.119493281 0.84814638  0.84066677\n",
       "FGA          0.38886001  0.41205286  0.197159626 0.82624393  0.80550663\n",
       "FG.         -0.29157287 -0.34767955 -0.330690063 0.25338059  0.30636017\n",
       "X3P.Made     1.00000000  0.98257922  0.589855397 0.15571714  0.09305949\n",
       "X3PA         0.98257922  1.00000000  0.582336887 0.17046307  0.10578447\n",
       "X3P.         0.58985540  0.58233689  1.000000000 0.03031976 -0.03233307\n",
       "FTM          0.15571714  0.17046307  0.030319755 1.00000000  0.98062583\n",
       "FTA          0.09305949  0.10578447 -0.032333075 0.98062583  1.00000000\n",
       "FT.          0.31225550  0.32090093  0.326371572 0.25312507  0.11084590\n",
       "OREB        -0.21820989 -0.23104973 -0.288759488 0.58632502  0.65540796\n",
       "DREB         0.01868775  0.01361096 -0.122949477 0.65765199  0.70419537\n",
       "REB         -0.07086521 -0.07911139 -0.191070531 0.65719442  0.71426679\n",
       "AST          0.37431435  0.40806650  0.262120273 0.47440342  0.42714132\n",
       "STL          0.30514630  0.33675720  0.194328971 0.59953428  0.57973697\n",
       "BLK         -0.15595545 -0.16924519 -0.242273855 0.41256464  0.47350104\n",
       "TOV          0.25701499  0.28249649  0.108277049 0.80476192  0.79885580\n",
       "TARGET_5Yrs  0.03502473  0.01615083 -0.003410701 0.29554617  0.29601829\n",
       "            FT.         OREB        DREB        REB         AST        \n",
       "GP           0.19774264  0.40018361  0.46746691  0.46039020  0.37431119\n",
       "MIN          0.23616004  0.57365519  0.74706548  0.71085316  0.62914705\n",
       "PTS          0.25440359  0.57642075  0.69656013  0.67900156  0.55156085\n",
       "FGM          0.21942305  0.59746760  0.70519142  0.69267804  0.53226104\n",
       "FGA          0.26440538  0.50554748  0.64275151  0.61649722  0.58903763\n",
       "FG.         -0.15099610  0.51234587  0.41110270  0.46612579 -0.10354608\n",
       "X3P.Made     0.31225550 -0.21820989  0.01868775 -0.07086521  0.37431435\n",
       "X3PA         0.32090093 -0.23104973  0.01361096 -0.07911139  0.40806650\n",
       "X3P.         0.32637157 -0.28875949 -0.12294948 -0.19107053  0.26212027\n",
       "FTM          0.25312507  0.58632502  0.65765199  0.65719442  0.47440342\n",
       "FTA          0.11084590  0.65540796  0.70419537  0.71426679  0.42714132\n",
       "FT.          1.00000000 -0.14751166 -0.02190083 -0.07079927  0.29287668\n",
       "OREB        -0.14751166  1.00000000  0.83890392  0.93287410 -0.01073554\n",
       "DREB        -0.02190083  0.83890392  1.00000000  0.97819871  0.18938021\n",
       "REB         -0.07079927  0.93287410  0.97819871  1.00000000  0.12130211\n",
       "AST          0.29287668 -0.01073554  0.18938021  0.12130211  1.00000000\n",
       "STL          0.20279080  0.28798157  0.41389255  0.38294212  0.75110933\n",
       "BLK         -0.16000772  0.64920054  0.68762654  0.69961462 -0.08385085\n",
       "TOV          0.19524215  0.42270786  0.57204889  0.53821644  0.74744166\n",
       "TARGET_5Yrs  0.09562068  0.29463709  0.28567269  0.30049136  0.17378841\n",
       "            STL        BLK         TOV       TARGET_5Yrs \n",
       "GP          0.45272570  0.27669982 0.5186933  0.397782876\n",
       "MIN         0.75705017  0.40101051 0.8264309  0.316030669\n",
       "PTS         0.67493681  0.39049580 0.8502722  0.314632051\n",
       "FGM         0.66245659  0.40074381 0.8343431  0.316393268\n",
       "FGA         0.68977092  0.32550302 0.8459524  0.290683738\n",
       "FG.         0.06112959  0.39078641 0.1264286  0.235587226\n",
       "X3P.Made    0.30514630 -0.15595545 0.2570150  0.035024733\n",
       "X3PA        0.33675720 -0.16924519 0.2824965  0.016150828\n",
       "X3P.        0.19432897 -0.24227385 0.1082770 -0.003410701\n",
       "FTM         0.59953428  0.41256464 0.8047619  0.295546174\n",
       "FTA         0.57973697  0.47350104 0.7988558  0.296018291\n",
       "FT.         0.20279080 -0.16000772 0.1952421  0.095620679\n",
       "OREB        0.28798157  0.64920054 0.4227079  0.294637087\n",
       "DREB        0.41389255  0.68762654 0.5720489  0.285672693\n",
       "REB         0.38294212  0.69961462 0.5382164  0.300491364\n",
       "AST         0.75110933 -0.08385085 0.7474417  0.173788411\n",
       "STL         1.00000000  0.13614424 0.7423013  0.228930966\n",
       "BLK         0.13614424  1.00000000 0.2846788  0.211750706\n",
       "TOV         0.74230131  0.28467882 1.0000000  0.270767150\n",
       "TARGET_5Yrs 0.22893097  0.21175071 0.2707671  1.000000000"
      ]
     },
     "metadata": {},
     "output_type": "display_data"
    },
    {
     "data": {
      "image/png": "[encoded data removed]",
      "text/plain": [
       "Plot with title \"\""
      ]
     },
     "metadata": {},
     "output_type": "display_data"
    }
   ],
   "source": [
    "library(corrplot)\n",
    "corrplot::corrplot(cor(dataraw), number.cex=.8, tl.col=\"black\", tl.srt=90)\n",
    "cor(dataraw)"
   ]
  },
  {
   "attachments": {},
   "cell_type": "markdown",
   "metadata": {},
   "source": [
    "# Visualización, limpieza y comprensión del dataset \n",
    "\n",
    "Podemos observar un dataset con muchos parámetros. Tenemos todo tipo de valores que nos indican si un jugador es bueno anotando y defendiendo. Con todos estos valores, si los comparamos es fácil determinar que jugador es mejor o peor. Pero en muchos casos esto no es así. A más a más, en este caso, por ejemplo, para poder trabajar sin problemas, me visto obligado a eliminar la columna de Nombre, ya que al no ser numérica entraba en conflicto en el momento de hacer estudios de estadísticos. En la columna de 3P% al haber valores nulos, sin ningún valor introducido entraba en conflicto también y aquí hay dos opciones, eliminar toda la columna o eliminar los valores nulos, que es la acción tomada en este caso. (Jugadores con valores nulos Jeff Wilkins, Jim Smith, Kurt Nimphius, Pete Verhoeven, Sam Williams, Tom Scheffler, Jim Peterson, Melvin Turpin, Ken Johnson \"que esta repetido\", Pete Williams). También se observan algunos nombres repetidos que son exactamente iguales (Ken Johnson, Bobby Jones, Mark Davis, Walker Russell y más) pero, no deberían influir en el modelo, ya que son más valores para el dataset y es otro valor más que añade peso a si algún jugador o no tendrá una carrera larga, es decir predecirá mejor para jugadores con esas características si tendrán o no una carrera larga.\n",
    "Por otro lado, en nombres repetidos se observa que tienen el valor de Target_5Yrs diferente. Pero tienen los mismo estadísticos como en Bobby Jones o Walker Rusell. Esto a mi parecer introduce incertidumbre en el modelo ya que en algunos casos se pueden dar las dos posibilidades. Por otro lado, esto puede significar que en algunos casos estos jugadores serían escogidos dependiendo de factores externos que no tenemos aqui o no entendemos. Por lo tanto, podemos decidir si eliminarlos o trabajar con ellos. En este caso he decidido seguir trabajando con ellos, ya que puede ser que haya veces que jugadores con esas características si deberían ser escogidos y a veces no.\n",
    "A simple vista observando el data set en excel y R no he podido ver una relación clara de que parámetros son los que más influyen en el momento de saber si un jugador tendrá o no una carrera larga. Por ejemplo, tenemos el caso de JaKarr Sampson y Malik Sealy, a mi parecer, Jakarr tiene mejores estadísticas en muchos casos y tiene más experiencia, ya que ha jugado más partidos en el primer año, pero según el dataset Malik Sealy es escogido para ser promocionado y tener una carrera larga en la NBA y JaKarr no. Tal vez hay cosas que se me escapan, ya que no soy un entendido del baloncesto, pero a simple vista es difícil decidir qué parámetros son los más importantes y más cuando hay jugadores repetidos que tienen diferentes valores de Target_5Yrs.\n",
    "A mi parecer los parámetros que deberían tener más peso son los partidos jugados y los puntos por partido o eso me dice la lógica.\n"
   ]
  },
  {
   "cell_type": "markdown",
   "metadata": {},
   "source": [
    "### PCA"
   ]
  },
  {
   "cell_type": "code",
   "execution_count": 149,
   "metadata": {},
   "outputs": [
    {
     "data": {
      "text/html": [
       "<table>\n",
       "<thead><tr><th scope=col>GP</th><th scope=col>MIN</th><th scope=col>PTS</th><th scope=col>FGM</th><th scope=col>FGA</th><th scope=col>FG.</th><th scope=col>X3P.Made</th><th scope=col>X3PA</th><th scope=col>X3P.</th><th scope=col>FTM</th><th scope=col>FTA</th><th scope=col>FT.</th><th scope=col>OREB</th><th scope=col>DREB</th><th scope=col>REB</th><th scope=col>AST</th><th scope=col>STL</th><th scope=col>BLK</th><th scope=col>TOV</th></tr></thead>\n",
       "<tbody>\n",
       "\t<tr><td>36  </td><td>27.4</td><td>7.4 </td><td>2.6 </td><td>7.6 </td><td>34.7</td><td>0.5 </td><td>2.1 </td><td>25.0</td><td>1.6 </td><td>2.3 </td><td>69.9</td><td>0.7 </td><td>3.4 </td><td>4.1 </td><td>1.9 </td><td>0.4 </td><td>0.4 </td><td>1.3 </td></tr>\n",
       "\t<tr><td>35  </td><td>26.9</td><td>7.2 </td><td>2.0 </td><td>6.7 </td><td>29.6</td><td>0.7 </td><td>2.8 </td><td>23.5</td><td>2.6 </td><td>3.4 </td><td>76.5</td><td>0.5 </td><td>2.0 </td><td>2.4 </td><td>3.7 </td><td>1.1 </td><td>0.5 </td><td>1.6 </td></tr>\n",
       "\t<tr><td>74  </td><td>15.3</td><td>5.2 </td><td>2.0 </td><td>4.7 </td><td>42.2</td><td>0.4 </td><td>1.7 </td><td>24.4</td><td>0.9 </td><td>1.3 </td><td>67.0</td><td>0.5 </td><td>1.7 </td><td>2.2 </td><td>1.0 </td><td>0.5 </td><td>0.3 </td><td>1.0 </td></tr>\n",
       "\t<tr><td>58  </td><td>11.6</td><td>5.7 </td><td>2.3 </td><td>5.5 </td><td>42.6</td><td>0.1 </td><td>0.5 </td><td>22.6</td><td>0.9 </td><td>1.3 </td><td>68.9</td><td>1.0 </td><td>0.9 </td><td>1.9 </td><td>0.8 </td><td>0.6 </td><td>0.1 </td><td>1.0 </td></tr>\n",
       "\t<tr><td>48  </td><td>11.5</td><td>4.5 </td><td>1.6 </td><td>3.0 </td><td>52.4</td><td>0.0 </td><td>0.1 </td><td> 0.0</td><td>1.3 </td><td>1.9 </td><td>67.4</td><td>1.0 </td><td>1.5 </td><td>2.5 </td><td>0.3 </td><td>0.3 </td><td>0.4 </td><td>0.8 </td></tr>\n",
       "\t<tr><td>75  </td><td>11.4</td><td>3.7 </td><td>1.5 </td><td>3.5 </td><td>42.3</td><td>0.3 </td><td>1.1 </td><td>32.5</td><td>0.4 </td><td>0.5 </td><td>73.2</td><td>0.2 </td><td>0.7 </td><td>0.8 </td><td>1.8 </td><td>0.4 </td><td>0.0 </td><td>0.7 </td></tr>\n",
       "</tbody>\n",
       "</table>\n"
      ],
      "text/latex": [
       "\\begin{tabular}{r|lllllllllllllllllll}\n",
       " GP & MIN & PTS & FGM & FGA & FG. & X3P.Made & X3PA & X3P. & FTM & FTA & FT. & OREB & DREB & REB & AST & STL & BLK & TOV\\\\\n",
       "\\hline\n",
       "\t 36   & 27.4 & 7.4  & 2.6  & 7.6  & 34.7 & 0.5  & 2.1  & 25.0 & 1.6  & 2.3  & 69.9 & 0.7  & 3.4  & 4.1  & 1.9  & 0.4  & 0.4  & 1.3 \\\\\n",
       "\t 35   & 26.9 & 7.2  & 2.0  & 6.7  & 29.6 & 0.7  & 2.8  & 23.5 & 2.6  & 3.4  & 76.5 & 0.5  & 2.0  & 2.4  & 3.7  & 1.1  & 0.5  & 1.6 \\\\\n",
       "\t 74   & 15.3 & 5.2  & 2.0  & 4.7  & 42.2 & 0.4  & 1.7  & 24.4 & 0.9  & 1.3  & 67.0 & 0.5  & 1.7  & 2.2  & 1.0  & 0.5  & 0.3  & 1.0 \\\\\n",
       "\t 58   & 11.6 & 5.7  & 2.3  & 5.5  & 42.6 & 0.1  & 0.5  & 22.6 & 0.9  & 1.3  & 68.9 & 1.0  & 0.9  & 1.9  & 0.8  & 0.6  & 0.1  & 1.0 \\\\\n",
       "\t 48   & 11.5 & 4.5  & 1.6  & 3.0  & 52.4 & 0.0  & 0.1  &  0.0 & 1.3  & 1.9  & 67.4 & 1.0  & 1.5  & 2.5  & 0.3  & 0.3  & 0.4  & 0.8 \\\\\n",
       "\t 75   & 11.4 & 3.7  & 1.5  & 3.5  & 42.3 & 0.3  & 1.1  & 32.5 & 0.4  & 0.5  & 73.2 & 0.2  & 0.7  & 0.8  & 1.8  & 0.4  & 0.0  & 0.7 \\\\\n",
       "\\end{tabular}\n"
      ],
      "text/markdown": [
       "\n",
       "| GP | MIN | PTS | FGM | FGA | FG. | X3P.Made | X3PA | X3P. | FTM | FTA | FT. | OREB | DREB | REB | AST | STL | BLK | TOV |\n",
       "|---|---|---|---|---|---|---|---|---|---|---|---|---|---|---|---|---|---|---|\n",
       "| 36   | 27.4 | 7.4  | 2.6  | 7.6  | 34.7 | 0.5  | 2.1  | 25.0 | 1.6  | 2.3  | 69.9 | 0.7  | 3.4  | 4.1  | 1.9  | 0.4  | 0.4  | 1.3  |\n",
       "| 35   | 26.9 | 7.2  | 2.0  | 6.7  | 29.6 | 0.7  | 2.8  | 23.5 | 2.6  | 3.4  | 76.5 | 0.5  | 2.0  | 2.4  | 3.7  | 1.1  | 0.5  | 1.6  |\n",
       "| 74   | 15.3 | 5.2  | 2.0  | 4.7  | 42.2 | 0.4  | 1.7  | 24.4 | 0.9  | 1.3  | 67.0 | 0.5  | 1.7  | 2.2  | 1.0  | 0.5  | 0.3  | 1.0  |\n",
       "| 58   | 11.6 | 5.7  | 2.3  | 5.5  | 42.6 | 0.1  | 0.5  | 22.6 | 0.9  | 1.3  | 68.9 | 1.0  | 0.9  | 1.9  | 0.8  | 0.6  | 0.1  | 1.0  |\n",
       "| 48   | 11.5 | 4.5  | 1.6  | 3.0  | 52.4 | 0.0  | 0.1  |  0.0 | 1.3  | 1.9  | 67.4 | 1.0  | 1.5  | 2.5  | 0.3  | 0.3  | 0.4  | 0.8  |\n",
       "| 75   | 11.4 | 3.7  | 1.5  | 3.5  | 42.3 | 0.3  | 1.1  | 32.5 | 0.4  | 0.5  | 73.2 | 0.2  | 0.7  | 0.8  | 1.8  | 0.4  | 0.0  | 0.7  |\n",
       "\n"
      ],
      "text/plain": [
       "  GP MIN  PTS FGM FGA FG.  X3P.Made X3PA X3P. FTM FTA FT.  OREB DREB REB AST\n",
       "1 36 27.4 7.4 2.6 7.6 34.7 0.5      2.1  25.0 1.6 2.3 69.9 0.7  3.4  4.1 1.9\n",
       "2 35 26.9 7.2 2.0 6.7 29.6 0.7      2.8  23.5 2.6 3.4 76.5 0.5  2.0  2.4 3.7\n",
       "3 74 15.3 5.2 2.0 4.7 42.2 0.4      1.7  24.4 0.9 1.3 67.0 0.5  1.7  2.2 1.0\n",
       "4 58 11.6 5.7 2.3 5.5 42.6 0.1      0.5  22.6 0.9 1.3 68.9 1.0  0.9  1.9 0.8\n",
       "5 48 11.5 4.5 1.6 3.0 52.4 0.0      0.1   0.0 1.3 1.9 67.4 1.0  1.5  2.5 0.3\n",
       "6 75 11.4 3.7 1.5 3.5 42.3 0.3      1.1  32.5 0.4 0.5 73.2 0.2  0.7  0.8 1.8\n",
       "  STL BLK TOV\n",
       "1 0.4 0.4 1.3\n",
       "2 1.1 0.5 1.6\n",
       "3 0.5 0.3 1.0\n",
       "4 0.6 0.1 1.0\n",
       "5 0.3 0.4 0.8\n",
       "6 0.4 0.0 0.7"
      ]
     },
     "metadata": {},
     "output_type": "display_data"
    }
   ],
   "source": [
    "dataraw1$TARGET_5Yrs<-NULL\n",
    "head(dataraw1)"
   ]
  },
  {
   "cell_type": "code",
   "execution_count": 150,
   "metadata": {},
   "outputs": [
    {
     "name": "stderr",
     "output_type": "stream",
     "text": [
      "Warning message:\n",
      "\"In princomp.default(dataraw1, scroes = T) :\n",
      " extra argument 'scroes' will be disregarded\""
     ]
    },
    {
     "data": {
      "text/plain": [
       "Importance of components:\n",
       "                           Comp.1     Comp.2    Comp.3    Comp.4     Comp.5\n",
       "Standard deviation     19.2025050 16.5676994 9.3667470 7.7050772 5.26922285\n",
       "Proportion of Variance  0.4457792  0.3318398 0.1060673 0.0717725 0.03356582\n",
       "Cumulative Proportion   0.4457792  0.7776190 0.8836864 0.9554589 0.98902469\n",
       "                            Comp.6      Comp.7      Comp.8       Comp.9\n",
       "Standard deviation     2.011196397 1.639650627 0.975523515 0.7454020494\n",
       "Proportion of Variance 0.004890047 0.003250175 0.001150481 0.0006717153\n",
       "Cumulative Proportion  0.993914733 0.997164908 0.998315389 0.9989871042\n",
       "                            Comp.10      Comp.11      Comp.12      Comp.13\n",
       "Standard deviation     0.6807755037 0.3402940683 2.790508e-01 2.598324e-01\n",
       "Proportion of Variance 0.0005602888 0.0001399951 9.413922e-05 8.161886e-05\n",
       "Cumulative Proportion  0.9995473929 0.9996873880 9.997815e-01 9.998631e-01\n",
       "                            Comp.14      Comp.15      Comp.16      Comp.17\n",
       "Standard deviation     2.251554e-01 2.161231e-01 0.1025125003 6.069048e-02\n",
       "Proportion of Variance 6.128704e-05 5.646851e-05 0.0000127045 4.452924e-06\n",
       "Cumulative Proportion  9.999244e-01 9.999809e-01 0.9999936062 9.999981e-01\n",
       "                            Comp.18      Comp.19\n",
       "Standard deviation     2.892412e-02 2.772844e-02\n",
       "Proportion of Variance 1.011403e-06 9.295118e-07\n",
       "Cumulative Proportion  9.999991e-01 1.000000e+00"
      ]
     },
     "metadata": {},
     "output_type": "display_data"
    }
   ],
   "source": [
    "PCA<-princomp(dataraw1, scroes=T)\n",
    "summary(PCA)"
   ]
  },
  {
   "cell_type": "code",
   "execution_count": 151,
   "metadata": {},
   "outputs": [
    {
     "data": {
      "image/png": "[encoded data removed]",
      "text/plain": [
       "Plot with title \"PCA\""
      ]
     },
     "metadata": {},
     "output_type": "display_data"
    }
   ],
   "source": [
    "plot(PCA)"
   ]
  },
  {
   "cell_type": "code",
   "execution_count": 152,
   "metadata": {},
   "outputs": [
    {
     "data": {
      "text/plain": [
       "\n",
       "Loadings:\n",
       "         Comp.1 Comp.2 Comp.3 Comp.4 Comp.5 Comp.6 Comp.7 Comp.8 Comp.9 Comp.10\n",
       "GP        0.854  0.304  0.150  0.388                                           \n",
       "MIN       0.319               -0.705  0.163 -0.550 -0.128         0.109 -0.184 \n",
       "PTS       0.157               -0.378         0.584                0.143  0.111 \n",
       "FGM                           -0.146         0.229               -0.186        \n",
       "FGA       0.127               -0.307         0.471         0.229 -0.400        \n",
       "FG.              0.177        -0.144 -0.958        -0.129                      \n",
       "X3P.Made                                                   0.165  0.103  0.267 \n",
       "X3PA                                               -0.161  0.440  0.268  0.730 \n",
       "X3P.      0.257 -0.901  0.315        -0.139                                    \n",
       "FTM                                          0.136        -0.278  0.416        \n",
       "FTA                           -0.104         0.179  0.112 -0.388  0.551        \n",
       "FT.       0.211 -0.242 -0.933  0.105 -0.111                                    \n",
       "OREB                                                0.248                      \n",
       "DREB                          -0.100                0.407        -0.174  0.314 \n",
       "REB                           -0.149        -0.107  0.655 -0.155 -0.228  0.275 \n",
       "AST                                                -0.483 -0.627 -0.356  0.390 \n",
       "STL                                                                            \n",
       "BLK                                                 0.117                      \n",
       "TOV                                                       -0.222               \n",
       "         Comp.11 Comp.12 Comp.13 Comp.14 Comp.15 Comp.16 Comp.17 Comp.18\n",
       "GP                                                                      \n",
       "MIN                                                                     \n",
       "PTS                       0.318  -0.428           0.102           0.174 \n",
       "FGM                       0.159  -0.293          -0.314   0.329  -0.343 \n",
       "FGA                      -0.306   0.568  -0.105                         \n",
       "FG.                                                                     \n",
       "X3P.Made                                                 -0.849  -0.193 \n",
       "X3PA     -0.131                                           0.356         \n",
       "X3P.                                                                    \n",
       "FTM                               0.203           0.711   0.163  -0.165 \n",
       "FTA                      -0.128   0.300          -0.612                 \n",
       "FT.                                                                     \n",
       "OREB     -0.692  -0.311                  -0.116                  -0.513 \n",
       "DREB      0.486   0.303                                          -0.512 \n",
       "REB      -0.212                                                   0.511 \n",
       "AST                       0.218          -0.120                         \n",
       "STL      -0.142                   0.131   0.964                         \n",
       "BLK       0.422  -0.878   0.143   0.121                                 \n",
       "TOV       0.122  -0.144  -0.821  -0.463                                 \n",
       "         Comp.19\n",
       "GP              \n",
       "MIN             \n",
       "PTS      -0.337 \n",
       "FGM       0.662 \n",
       "FGA             \n",
       "FG.             \n",
       "X3P.Made  0.350 \n",
       "X3PA            \n",
       "X3P.            \n",
       "FTM       0.336 \n",
       "FTA             \n",
       "FT.             \n",
       "OREB     -0.265 \n",
       "DREB     -0.266 \n",
       "REB       0.267 \n",
       "AST             \n",
       "STL             \n",
       "BLK             \n",
       "TOV             \n",
       "\n",
       "               Comp.1 Comp.2 Comp.3 Comp.4 Comp.5 Comp.6 Comp.7 Comp.8 Comp.9\n",
       "SS loadings     1.000  1.000  1.000  1.000  1.000  1.000  1.000  1.000  1.000\n",
       "Proportion Var  0.053  0.053  0.053  0.053  0.053  0.053  0.053  0.053  0.053\n",
       "Cumulative Var  0.053  0.105  0.158  0.211  0.263  0.316  0.368  0.421  0.474\n",
       "               Comp.10 Comp.11 Comp.12 Comp.13 Comp.14 Comp.15 Comp.16 Comp.17\n",
       "SS loadings      1.000   1.000   1.000   1.000   1.000   1.000   1.000   1.000\n",
       "Proportion Var   0.053   0.053   0.053   0.053   0.053   0.053   0.053   0.053\n",
       "Cumulative Var   0.526   0.579   0.632   0.684   0.737   0.789   0.842   0.895\n",
       "               Comp.18 Comp.19\n",
       "SS loadings      1.000   1.000\n",
       "Proportion Var   0.053   0.053\n",
       "Cumulative Var   0.947   1.000"
      ]
     },
     "metadata": {},
     "output_type": "display_data"
    }
   ],
   "source": [
    "PCA$loadings"
   ]
  },
  {
   "cell_type": "markdown",
   "metadata": {},
   "source": [
    "### Information gain\n",
    "- \"infogain\": ${H(Class)} + H(Attribute) − H(Class, Attribute)$\n",
    "\n",
    "- \"gainratio\" : $H(Class) + H(Attribute) − H(Class, Attribute) / H(Attribute) $\n",
    "\n",
    "- \"symuncert\" : $2 * (H(Class) + H(Attribute) − H(Class, Attribute)) / (H(Attribute) + H(Class)) $\n",
    "\n",
    "where H(X) is Shannon’s Entropy for a variable X and H(X, Y) is a joint Shannon’s Entropy for a\n",
    "variable X with a condition to Y."
   ]
  },
  {
   "cell_type": "code",
   "execution_count": 153,
   "metadata": {},
   "outputs": [
    {
     "name": "stderr",
     "output_type": "stream",
     "text": [
      "Warning message in .information_gain.data.frame(x = x, y = y, type = type, equal = equal, :\n",
      "\"Dependent variable is a numeric! It will be converted to factor with simple factor(y). We do not discretize dependent variable in FSelectorRcpp by default! You can choose equal frequency binning discretization by setting equal argument to TRUE.\""
     ]
    },
    {
     "data": {
      "text/html": [
       "<table>\n",
       "<thead><tr><th scope=col>attributes</th><th scope=col>importance</th></tr></thead>\n",
       "<tbody>\n",
       "\t<tr><td>GP        </td><td>0.08127448</td></tr>\n",
       "\t<tr><td>MIN       </td><td>0.06191365</td></tr>\n",
       "\t<tr><td>PTS       </td><td>0.07235832</td></tr>\n",
       "\t<tr><td>FGM       </td><td>0.07636994</td></tr>\n",
       "\t<tr><td>FGA       </td><td>0.05758289</td></tr>\n",
       "\t<tr><td>FG.       </td><td>0.05725257</td></tr>\n",
       "\t<tr><td>X3P.Made  </td><td>0.00000000</td></tr>\n",
       "\t<tr><td>X3PA      </td><td>0.00000000</td></tr>\n",
       "\t<tr><td>X3P.      </td><td>0.00000000</td></tr>\n",
       "\t<tr><td>FTM       </td><td>0.07505855</td></tr>\n",
       "\t<tr><td>FTA       </td><td>0.06826860</td></tr>\n",
       "\t<tr><td>FT.       </td><td>0.00000000</td></tr>\n",
       "\t<tr><td>OREB      </td><td>0.06015694</td></tr>\n",
       "\t<tr><td>DREB      </td><td>0.05741248</td></tr>\n",
       "\t<tr><td>REB       </td><td>0.06005144</td></tr>\n",
       "\t<tr><td>AST       </td><td>0.02636000</td></tr>\n",
       "\t<tr><td>STL       </td><td>0.04184455</td></tr>\n",
       "\t<tr><td>BLK       </td><td>0.04020245</td></tr>\n",
       "\t<tr><td>TOV       </td><td>0.04741223</td></tr>\n",
       "</tbody>\n",
       "</table>\n"
      ],
      "text/latex": [
       "\\begin{tabular}{r|ll}\n",
       " attributes & importance\\\\\n",
       "\\hline\n",
       "\t GP         & 0.08127448\\\\\n",
       "\t MIN        & 0.06191365\\\\\n",
       "\t PTS        & 0.07235832\\\\\n",
       "\t FGM        & 0.07636994\\\\\n",
       "\t FGA        & 0.05758289\\\\\n",
       "\t FG.        & 0.05725257\\\\\n",
       "\t X3P.Made   & 0.00000000\\\\\n",
       "\t X3PA       & 0.00000000\\\\\n",
       "\t X3P.       & 0.00000000\\\\\n",
       "\t FTM        & 0.07505855\\\\\n",
       "\t FTA        & 0.06826860\\\\\n",
       "\t FT.        & 0.00000000\\\\\n",
       "\t OREB       & 0.06015694\\\\\n",
       "\t DREB       & 0.05741248\\\\\n",
       "\t REB        & 0.06005144\\\\\n",
       "\t AST        & 0.02636000\\\\\n",
       "\t STL        & 0.04184455\\\\\n",
       "\t BLK        & 0.04020245\\\\\n",
       "\t TOV        & 0.04741223\\\\\n",
       "\\end{tabular}\n"
      ],
      "text/markdown": [
       "\n",
       "| attributes | importance |\n",
       "|---|---|\n",
       "| GP         | 0.08127448 |\n",
       "| MIN        | 0.06191365 |\n",
       "| PTS        | 0.07235832 |\n",
       "| FGM        | 0.07636994 |\n",
       "| FGA        | 0.05758289 |\n",
       "| FG.        | 0.05725257 |\n",
       "| X3P.Made   | 0.00000000 |\n",
       "| X3PA       | 0.00000000 |\n",
       "| X3P.       | 0.00000000 |\n",
       "| FTM        | 0.07505855 |\n",
       "| FTA        | 0.06826860 |\n",
       "| FT.        | 0.00000000 |\n",
       "| OREB       | 0.06015694 |\n",
       "| DREB       | 0.05741248 |\n",
       "| REB        | 0.06005144 |\n",
       "| AST        | 0.02636000 |\n",
       "| STL        | 0.04184455 |\n",
       "| BLK        | 0.04020245 |\n",
       "| TOV        | 0.04741223 |\n",
       "\n"
      ],
      "text/plain": [
       "   attributes importance\n",
       "1  GP         0.08127448\n",
       "2  MIN        0.06191365\n",
       "3  PTS        0.07235832\n",
       "4  FGM        0.07636994\n",
       "5  FGA        0.05758289\n",
       "6  FG.        0.05725257\n",
       "7  X3P.Made   0.00000000\n",
       "8  X3PA       0.00000000\n",
       "9  X3P.       0.00000000\n",
       "10 FTM        0.07505855\n",
       "11 FTA        0.06826860\n",
       "12 FT.        0.00000000\n",
       "13 OREB       0.06015694\n",
       "14 DREB       0.05741248\n",
       "15 REB        0.06005144\n",
       "16 AST        0.02636000\n",
       "17 STL        0.04184455\n",
       "18 BLK        0.04020245\n",
       "19 TOV        0.04741223"
      ]
     },
     "metadata": {},
     "output_type": "display_data"
    }
   ],
   "source": [
    "library(FSelectorRcpp)\n",
    "infogain = information_gain(formula = TARGET_5Yrs ~ .\n",
    "                     , data = dataraw\n",
    "                     , type = 'symuncert')\n",
    "infogain"
   ]
  },
  {
   "cell_type": "code",
   "execution_count": 154,
   "metadata": {},
   "outputs": [
    {
     "name": "stderr",
     "output_type": "stream",
     "text": [
      "Warning message in .information_gain.data.frame(x = x, y = y, type = type, equal = equal, :\n",
      "\"Dependent variable is a numeric! It will be converted to factor with simple factor(y). We do not discretize dependent variable in FSelectorRcpp by default! You can choose equal frequency binning discretization by setting equal argument to TRUE.\""
     ]
    },
    {
     "data": {
      "text/html": [
       "<table>\n",
       "<thead><tr><th scope=col>attributes</th><th scope=col>importance</th></tr></thead>\n",
       "<tbody>\n",
       "\t<tr><td>GP        </td><td>0.06073664</td></tr>\n",
       "\t<tr><td>MIN       </td><td>0.05185089</td></tr>\n",
       "\t<tr><td>PTS       </td><td>0.05808625</td></tr>\n",
       "\t<tr><td>FGM       </td><td>0.06132776</td></tr>\n",
       "\t<tr><td>FGA       </td><td>0.04630201</td></tr>\n",
       "\t<tr><td>FG.       </td><td>0.06430452</td></tr>\n",
       "\t<tr><td>X3P.Made  </td><td>       NaN</td></tr>\n",
       "\t<tr><td>X3PA      </td><td>       NaN</td></tr>\n",
       "\t<tr><td>X3P.      </td><td>       NaN</td></tr>\n",
       "\t<tr><td>FTM       </td><td>0.07346344</td></tr>\n",
       "\t<tr><td>FTA       </td><td>0.05885564</td></tr>\n",
       "\t<tr><td>FT.       </td><td>       NaN</td></tr>\n",
       "\t<tr><td>OREB      </td><td>0.05941875</td></tr>\n",
       "\t<tr><td>DREB      </td><td>0.04606485</td></tr>\n",
       "\t<tr><td>REB       </td><td>0.04948709</td></tr>\n",
       "\t<tr><td>AST       </td><td>0.04503053</td></tr>\n",
       "\t<tr><td>STL       </td><td>0.04191680</td></tr>\n",
       "\t<tr><td>BLK       </td><td>0.04620124</td></tr>\n",
       "\t<tr><td>TOV       </td><td>0.04687326</td></tr>\n",
       "</tbody>\n",
       "</table>\n"
      ],
      "text/latex": [
       "\\begin{tabular}{r|ll}\n",
       " attributes & importance\\\\\n",
       "\\hline\n",
       "\t GP         & 0.06073664\\\\\n",
       "\t MIN        & 0.05185089\\\\\n",
       "\t PTS        & 0.05808625\\\\\n",
       "\t FGM        & 0.06132776\\\\\n",
       "\t FGA        & 0.04630201\\\\\n",
       "\t FG.        & 0.06430452\\\\\n",
       "\t X3P.Made   &        NaN\\\\\n",
       "\t X3PA       &        NaN\\\\\n",
       "\t X3P.       &        NaN\\\\\n",
       "\t FTM        & 0.07346344\\\\\n",
       "\t FTA        & 0.05885564\\\\\n",
       "\t FT.        &        NaN\\\\\n",
       "\t OREB       & 0.05941875\\\\\n",
       "\t DREB       & 0.04606485\\\\\n",
       "\t REB        & 0.04948709\\\\\n",
       "\t AST        & 0.04503053\\\\\n",
       "\t STL        & 0.04191680\\\\\n",
       "\t BLK        & 0.04620124\\\\\n",
       "\t TOV        & 0.04687326\\\\\n",
       "\\end{tabular}\n"
      ],
      "text/markdown": [
       "\n",
       "| attributes | importance |\n",
       "|---|---|\n",
       "| GP         | 0.06073664 |\n",
       "| MIN        | 0.05185089 |\n",
       "| PTS        | 0.05808625 |\n",
       "| FGM        | 0.06132776 |\n",
       "| FGA        | 0.04630201 |\n",
       "| FG.        | 0.06430452 |\n",
       "| X3P.Made   |        NaN |\n",
       "| X3PA       |        NaN |\n",
       "| X3P.       |        NaN |\n",
       "| FTM        | 0.07346344 |\n",
       "| FTA        | 0.05885564 |\n",
       "| FT.        |        NaN |\n",
       "| OREB       | 0.05941875 |\n",
       "| DREB       | 0.04606485 |\n",
       "| REB        | 0.04948709 |\n",
       "| AST        | 0.04503053 |\n",
       "| STL        | 0.04191680 |\n",
       "| BLK        | 0.04620124 |\n",
       "| TOV        | 0.04687326 |\n",
       "\n"
      ],
      "text/plain": [
       "   attributes importance\n",
       "1  GP         0.06073664\n",
       "2  MIN        0.05185089\n",
       "3  PTS        0.05808625\n",
       "4  FGM        0.06132776\n",
       "5  FGA        0.04630201\n",
       "6  FG.        0.06430452\n",
       "7  X3P.Made          NaN\n",
       "8  X3PA              NaN\n",
       "9  X3P.              NaN\n",
       "10 FTM        0.07346344\n",
       "11 FTA        0.05885564\n",
       "12 FT.               NaN\n",
       "13 OREB       0.05941875\n",
       "14 DREB       0.04606485\n",
       "15 REB        0.04948709\n",
       "16 AST        0.04503053\n",
       "17 STL        0.04191680\n",
       "18 BLK        0.04620124\n",
       "19 TOV        0.04687326"
      ]
     },
     "metadata": {},
     "output_type": "display_data"
    }
   ],
   "source": [
    "library(FSelectorRcpp)\n",
    "infogain = information_gain(formula = TARGET_5Yrs ~ .\n",
    "                     , data = dataraw\n",
    "                     , type = 'gainratio')\n",
    "infogain"
   ]
  },
  {
   "cell_type": "code",
   "execution_count": 155,
   "metadata": {},
   "outputs": [
    {
     "name": "stderr",
     "output_type": "stream",
     "text": [
      "Warning message in .information_gain.data.frame(x = x, y = y, type = type, equal = equal, :\n",
      "\"Dependent variable is a numeric! It will be converted to factor with simple factor(y). We do not discretize dependent variable in FSelectorRcpp by default! You can choose equal frequency binning discretization by setting equal argument to TRUE.\""
     ]
    },
    {
     "data": {
      "text/html": [
       "<table>\n",
       "<thead><tr><th scope=col>attributes</th><th scope=col>importance</th></tr></thead>\n",
       "<tbody>\n",
       "\t<tr><td>GP        </td><td>0.08145389</td></tr>\n",
       "\t<tr><td>MIN       </td><td>0.05095769</td></tr>\n",
       "\t<tr><td>PTS       </td><td>0.06363074</td></tr>\n",
       "\t<tr><td>FGM       </td><td>0.06712029</td></tr>\n",
       "\t<tr><td>FGA       </td><td>0.05049903</td></tr>\n",
       "\t<tr><td>FG.       </td><td>0.03422340</td></tr>\n",
       "\t<tr><td>X3P.Made  </td><td>0.00000000</td></tr>\n",
       "\t<tr><td>X3PA      </td><td>0.00000000</td></tr>\n",
       "\t<tr><td>X3P.      </td><td>0.00000000</td></tr>\n",
       "\t<tr><td>FTM       </td><td>0.05089250</td></tr>\n",
       "\t<tr><td>FTA       </td><td>0.05390473</td></tr>\n",
       "\t<tr><td>FT.       </td><td>0.00000000</td></tr>\n",
       "\t<tr><td>OREB      </td><td>0.04040498</td></tr>\n",
       "\t<tr><td>DREB      </td><td>0.05053018</td></tr>\n",
       "\t<tr><td>REB       </td><td>0.05064445</td></tr>\n",
       "\t<tr><td>AST       </td><td>0.01236020</td></tr>\n",
       "\t<tr><td>STL       </td><td>0.02770837</td></tr>\n",
       "\t<tr><td>BLK       </td><td>0.02360236</td></tr>\n",
       "\t<tr><td>TOV       </td><td>0.03181507</td></tr>\n",
       "</tbody>\n",
       "</table>\n"
      ],
      "text/latex": [
       "\\begin{tabular}{r|ll}\n",
       " attributes & importance\\\\\n",
       "\\hline\n",
       "\t GP         & 0.08145389\\\\\n",
       "\t MIN        & 0.05095769\\\\\n",
       "\t PTS        & 0.06363074\\\\\n",
       "\t FGM        & 0.06712029\\\\\n",
       "\t FGA        & 0.05049903\\\\\n",
       "\t FG.        & 0.03422340\\\\\n",
       "\t X3P.Made   & 0.00000000\\\\\n",
       "\t X3PA       & 0.00000000\\\\\n",
       "\t X3P.       & 0.00000000\\\\\n",
       "\t FTM        & 0.05089250\\\\\n",
       "\t FTA        & 0.05390473\\\\\n",
       "\t FT.        & 0.00000000\\\\\n",
       "\t OREB       & 0.04040498\\\\\n",
       "\t DREB       & 0.05053018\\\\\n",
       "\t REB        & 0.05064445\\\\\n",
       "\t AST        & 0.01236020\\\\\n",
       "\t STL        & 0.02770837\\\\\n",
       "\t BLK        & 0.02360236\\\\\n",
       "\t TOV        & 0.03181507\\\\\n",
       "\\end{tabular}\n"
      ],
      "text/markdown": [
       "\n",
       "| attributes | importance |\n",
       "|---|---|\n",
       "| GP         | 0.08145389 |\n",
       "| MIN        | 0.05095769 |\n",
       "| PTS        | 0.06363074 |\n",
       "| FGM        | 0.06712029 |\n",
       "| FGA        | 0.05049903 |\n",
       "| FG.        | 0.03422340 |\n",
       "| X3P.Made   | 0.00000000 |\n",
       "| X3PA       | 0.00000000 |\n",
       "| X3P.       | 0.00000000 |\n",
       "| FTM        | 0.05089250 |\n",
       "| FTA        | 0.05390473 |\n",
       "| FT.        | 0.00000000 |\n",
       "| OREB       | 0.04040498 |\n",
       "| DREB       | 0.05053018 |\n",
       "| REB        | 0.05064445 |\n",
       "| AST        | 0.01236020 |\n",
       "| STL        | 0.02770837 |\n",
       "| BLK        | 0.02360236 |\n",
       "| TOV        | 0.03181507 |\n",
       "\n"
      ],
      "text/plain": [
       "   attributes importance\n",
       "1  GP         0.08145389\n",
       "2  MIN        0.05095769\n",
       "3  PTS        0.06363074\n",
       "4  FGM        0.06712029\n",
       "5  FGA        0.05049903\n",
       "6  FG.        0.03422340\n",
       "7  X3P.Made   0.00000000\n",
       "8  X3PA       0.00000000\n",
       "9  X3P.       0.00000000\n",
       "10 FTM        0.05089250\n",
       "11 FTA        0.05390473\n",
       "12 FT.        0.00000000\n",
       "13 OREB       0.04040498\n",
       "14 DREB       0.05053018\n",
       "15 REB        0.05064445\n",
       "16 AST        0.01236020\n",
       "17 STL        0.02770837\n",
       "18 BLK        0.02360236\n",
       "19 TOV        0.03181507"
      ]
     },
     "metadata": {},
     "output_type": "display_data"
    }
   ],
   "source": [
    "library(FSelectorRcpp)\n",
    "infogain = information_gain(formula = TARGET_5Yrs ~ .\n",
    "                     , data = dataraw\n",
    "                     , type = 'infogain')\n",
    "infogain"
   ]
  },
  {
   "cell_type": "markdown",
   "metadata": {},
   "source": [
    "# Estudio de Correlación, PCA e Información Mutua \n",
    "\n",
    "Fijándonos en las tablas de correlación hechas con corrplot podemos observar cómo los parámetros que más correlación tienen con el parámetro a estudiar \"TARGET_5Yrs\" son \"GP\",\"MIN\",\"PTS\" y \"FGM\". También creo que es importante tener en cuenta la correlación con datos más de estilo defensivo como los rebotes, en este caso la que más correlación tiene es \"REB\".\n",
    "\n",
    "Si nos fijamos en el estudio de PCA podemos observar como de fuerte es la relación de cada componente con cada variable o parámetro. En el PCA hemos podido observar como la gran mayoría de la varianza se centra en los primeros 5 \"Componentes\" (Gráfica PCA). Y la relación de cada componente con cada parámetro.\n",
    "\n",
    "La información mutua de dos variables aleatorias, denotado por I(X;Y), es una cantidad que mide la dependencia mutua de las dos variables; es decir, mide la reducción de la incertidumbre (entropía) de una variable aleatoria, X, debido al conocimiento del valor de otra variable aleatoria, Y. Es decir, dependiendo del algoritmo que utilicemos para medir la información mutua obtendremos valores diferentes. En este caso lo podemos observar cómo cada algoritmo utilizado obtiene diferentes valores. Como podemos observar en los 3 algoritmos los valores de importancia más elevados corresponden bastante bien a los que tiene más correlación con la variable a estudiar \"TARGET_5Yrs\". Lo que me a sorprendido bastante es que hay mucha diferencia entre algoritmos. Y que dan mucho peso a variables que según la tabla de correlación no serían tan importantes. Esto hace que tu abanico de decisión de variables en el momento de realizar el modelo cambie bastante. También una manera de elegir algoritmo y variables en mi caso me centrare en el algoritmo que más se parezca el nivel de importancia a la tabla de correlación realizada, ya que me parece de sentido común. En general, si observamos los tres algoritmos, siguen bastante bien la tabla de correlación lo que alguno se ajusta más. En mi caso escogeré variables fijándome sobre todo en el del algoritmo symuncert.\n",
    "\n",
    "\n",
    "# Selección y justificación de varuables sobre el modelo\n",
    "\n",
    "Centrandonos en los resultados obtenidos hasta ahora por correlación escogeré las variables por encima de 0.3\n",
    "- GP\n",
    "- MIN\n",
    "- PTS\n",
    "- FGM\n",
    "- REB\n",
    "\n",
    "Grácias al algoritmo de Información Mutua también escogeré\n",
    "- FTM\n",
    "\n",
    "Los resultados obtenidos en la Información mutua, me ayudan a corroborar los datos escogidos y a más a más complementar el modelo con más variables que si tienen importancia. También te corroboran la importancia de las variables escogidas por correlación. Lo que me sorprende es que los tres algoritmos den un valor de importancia tan bajo al parámetro REB, sabiendo que tiene una de las mayores correlaciones con TARGET_5Yrs. En el caso de FTM los tres algoritmos dan un valor de importancia muy elevado para FTM y a mi parecer el algoritmo que más se ajusta a la idea que yo tengo de la importancia de cada parámetro sería el symuncert."
   ]
  },
  {
   "cell_type": "markdown",
   "metadata": {},
   "source": [
    "# Construcción de un Modelo de Regresión Logística"
   ]
  },
  {
   "cell_type": "code",
   "execution_count": 156,
   "metadata": {},
   "outputs": [
    {
     "data": {
      "text/plain": [
       "\n",
       "Call:\n",
       "glm(formula = TARGET_5Yrs ~ GP + MIN + PTS + FGM + FTM + REB, \n",
       "    family = binomial, data = dataraw)\n",
       "\n",
       "Deviance Residuals: \n",
       "    Min       1Q   Median       3Q      Max  \n",
       "-2.7808  -1.0055   0.5588   0.8705   1.9483  \n",
       "\n",
       "Coefficients:\n",
       "             Estimate Std. Error z value Pr(>|z|)    \n",
       "(Intercept) -2.406503   0.233287 -10.316  < 2e-16 ***\n",
       "GP           0.038672   0.004517   8.561  < 2e-16 ***\n",
       "MIN         -0.040858   0.023184  -1.762  0.07801 .  \n",
       "PTS          0.024622   0.219149   0.112  0.91054    \n",
       "FGM          0.152627   0.456712   0.334  0.73824    \n",
       "FTM          0.218749   0.240111   0.911  0.36228    \n",
       "REB          0.189651   0.059191   3.204  0.00136 ** \n",
       "---\n",
       "Signif. codes:  0 '***' 0.001 '**' 0.01 '*' 0.05 '.' 0.1 ' ' 1\n",
       "\n",
       "(Dispersion parameter for binomial family taken to be 1)\n",
       "\n",
       "    Null deviance: 1763.1  on 1328  degrees of freedom\n",
       "Residual deviance: 1499.2  on 1322  degrees of freedom\n",
       "AIC: 1513.2\n",
       "\n",
       "Number of Fisher Scoring iterations: 4\n"
      ]
     },
     "metadata": {},
     "output_type": "display_data"
    }
   ],
   "source": [
    "modelo1<-glm(formula = TARGET_5Yrs ~ GP + MIN + PTS + FGM + FTM + REB , data=dataraw, family=binomial)\n",
    "summary(modelo1)"
   ]
  },
  {
   "cell_type": "code",
   "execution_count": 157,
   "metadata": {},
   "outputs": [
    {
     "data": {
      "text/plain": [
       "\n",
       "Call:\n",
       "glm(formula = TARGET_5Yrs ~ GP + REB, family = binomial, data = dataraw)\n",
       "\n",
       "Deviance Residuals: \n",
       "    Min       1Q   Median       3Q      Max  \n",
       "-2.5985  -1.0101   0.5735   0.8588   1.9809  \n",
       "\n",
       "Coefficients:\n",
       "             Estimate Std. Error z value Pr(>|z|)    \n",
       "(Intercept) -2.557561   0.228397 -11.198  < 2e-16 ***\n",
       "GP           0.040902   0.004075  10.038  < 2e-16 ***\n",
       "REB          0.231356   0.041447   5.582 2.38e-08 ***\n",
       "---\n",
       "Signif. codes:  0 '***' 0.001 '**' 0.01 '*' 0.05 '.' 0.1 ' ' 1\n",
       "\n",
       "(Dispersion parameter for binomial family taken to be 1)\n",
       "\n",
       "    Null deviance: 1763.1  on 1328  degrees of freedom\n",
       "Residual deviance: 1510.7  on 1326  degrees of freedom\n",
       "AIC: 1516.7\n",
       "\n",
       "Number of Fisher Scoring iterations: 4\n"
      ]
     },
     "metadata": {},
     "output_type": "display_data"
    }
   ],
   "source": [
    "modelo2<- glm(formula = TARGET_5Yrs ~ GP + REB , data=dataraw, family=binomial)\n",
    "summary(modelo2)"
   ]
  },
  {
   "cell_type": "code",
   "execution_count": 165,
   "metadata": {},
   "outputs": [
    {
     "data": {
      "text/plain": [
       "\n",
       "Call:\n",
       "glm(formula = TARGET_5Yrs ~ GP + REB + MIN, family = binomial, \n",
       "    data = dataraw)\n",
       "\n",
       "Deviance Residuals: \n",
       "    Min       1Q   Median       3Q      Max  \n",
       "-2.5858  -1.0097   0.5673   0.8622   1.9810  \n",
       "\n",
       "Coefficients:\n",
       "             Estimate Std. Error z value Pr(>|z|)    \n",
       "(Intercept) -2.566651   0.228651 -11.225  < 2e-16 ***\n",
       "GP           0.039612   0.004438   8.926  < 2e-16 ***\n",
       "REB          0.209051   0.051459   4.062 4.86e-05 ***\n",
       "MIN          0.008765   0.012113   0.724    0.469    \n",
       "---\n",
       "Signif. codes:  0 '***' 0.001 '**' 0.01 '*' 0.05 '.' 0.1 ' ' 1\n",
       "\n",
       "(Dispersion parameter for binomial family taken to be 1)\n",
       "\n",
       "    Null deviance: 1763.1  on 1328  degrees of freedom\n",
       "Residual deviance: 1510.1  on 1325  degrees of freedom\n",
       "AIC: 1518.1\n",
       "\n",
       "Number of Fisher Scoring iterations: 4\n"
      ]
     },
     "metadata": {},
     "output_type": "display_data"
    }
   ],
   "source": [
    "modelo3<- glm(formula = TARGET_5Yrs ~ GP + REB + MIN , data=dataraw, family=binomial)\n",
    "summary(modelo3)\n"
   ]
  },
  {
   "cell_type": "code",
   "execution_count": 159,
   "metadata": {},
   "outputs": [
    {
     "name": "stdout",
     "output_type": "stream",
     "text": [
      "[1] \"Modelo 1\"\n"
     ]
    },
    {
     "data": {
      "text/html": [
       "<dl class=dl-horizontal>\n",
       "\t<dt>1</dt>\n",
       "\t\t<dd>0</dd>\n",
       "\t<dt>2</dt>\n",
       "\t\t<dd>0</dd>\n",
       "\t<dt>3</dt>\n",
       "\t\t<dd>1</dd>\n",
       "\t<dt>4</dt>\n",
       "\t\t<dd>1</dd>\n",
       "\t<dt>5</dt>\n",
       "\t\t<dd>1</dd>\n",
       "\t<dt>6</dt>\n",
       "\t\t<dd>1</dd>\n",
       "</dl>\n"
      ],
      "text/latex": [
       "\\begin{description*}\n",
       "\\item[1] 0\n",
       "\\item[2] 0\n",
       "\\item[3] 1\n",
       "\\item[4] 1\n",
       "\\item[5] 1\n",
       "\\item[6] 1\n",
       "\\end{description*}\n"
      ],
      "text/markdown": [
       "1\n",
       ":   02\n",
       ":   03\n",
       ":   14\n",
       ":   15\n",
       ":   16\n",
       ":   1\n",
       "\n"
      ],
      "text/plain": [
       "1 2 3 4 5 6 \n",
       "0 0 1 1 1 1 "
      ]
     },
     "metadata": {},
     "output_type": "display_data"
    },
    {
     "name": "stdout",
     "output_type": "stream",
     "text": [
      "[1] \"Modelo 2\"\n"
     ]
    },
    {
     "data": {
      "text/html": [
       "<dl class=dl-horizontal>\n",
       "\t<dt>1</dt>\n",
       "\t\t<dd>0</dd>\n",
       "\t<dt>2</dt>\n",
       "\t\t<dd>0</dd>\n",
       "\t<dt>3</dt>\n",
       "\t\t<dd>1</dd>\n",
       "\t<dt>4</dt>\n",
       "\t\t<dd>1</dd>\n",
       "\t<dt>5</dt>\n",
       "\t\t<dd>0</dd>\n",
       "\t<dt>6</dt>\n",
       "\t\t<dd>1</dd>\n",
       "</dl>\n"
      ],
      "text/latex": [
       "\\begin{description*}\n",
       "\\item[1] 0\n",
       "\\item[2] 0\n",
       "\\item[3] 1\n",
       "\\item[4] 1\n",
       "\\item[5] 0\n",
       "\\item[6] 1\n",
       "\\end{description*}\n"
      ],
      "text/markdown": [
       "1\n",
       ":   02\n",
       ":   03\n",
       ":   14\n",
       ":   15\n",
       ":   06\n",
       ":   1\n",
       "\n"
      ],
      "text/plain": [
       "1 2 3 4 5 6 \n",
       "0 0 1 1 0 1 "
      ]
     },
     "metadata": {},
     "output_type": "display_data"
    },
    {
     "name": "stdout",
     "output_type": "stream",
     "text": [
      "[1] \"Modelo 3\"\n"
     ]
    },
    {
     "data": {
      "text/html": [
       "<dl class=dl-horizontal>\n",
       "\t<dt>1</dt>\n",
       "\t\t<dd>0</dd>\n",
       "\t<dt>2</dt>\n",
       "\t\t<dd>0</dd>\n",
       "\t<dt>3</dt>\n",
       "\t\t<dd>1</dd>\n",
       "\t<dt>4</dt>\n",
       "\t\t<dd>1</dd>\n",
       "\t<dt>5</dt>\n",
       "\t\t<dd>0</dd>\n",
       "\t<dt>6</dt>\n",
       "\t\t<dd>1</dd>\n",
       "</dl>\n"
      ],
      "text/latex": [
       "\\begin{description*}\n",
       "\\item[1] 0\n",
       "\\item[2] 0\n",
       "\\item[3] 1\n",
       "\\item[4] 1\n",
       "\\item[5] 0\n",
       "\\item[6] 1\n",
       "\\end{description*}\n"
      ],
      "text/markdown": [
       "1\n",
       ":   02\n",
       ":   03\n",
       ":   14\n",
       ":   15\n",
       ":   06\n",
       ":   1\n",
       "\n"
      ],
      "text/plain": [
       "1 2 3 4 5 6 \n",
       "0 0 1 1 0 1 "
      ]
     },
     "metadata": {},
     "output_type": "display_data"
    }
   ],
   "source": [
    "modelo1_prob<-predict(modelo1, type = 'response')\n",
    "modelo1_prob<-ifelse(modelo1_prob>0.5,1,0)\n",
    "print(\"Modelo 1\")\n",
    "head(modelo1_prob)\n",
    "modelo2_prob<-predict(modelo2, type = 'response')\n",
    "modelo2_prob<-ifelse(modelo2_prob>0.5,1,0)\n",
    "print(\"Modelo 2\")\n",
    "head(modelo2_prob)\n",
    "modelo3_prob<-predict(modelo3, type = 'response')\n",
    "modelo3_prob<-ifelse(modelo3_prob>0.5,1,0)\n",
    "print(\"Modelo 3\")\n",
    "head(modelo3_prob)"
   ]
  },
  {
   "cell_type": "code",
   "execution_count": 160,
   "metadata": {},
   "outputs": [
    {
     "name": "stderr",
     "output_type": "stream",
     "text": [
      "Warning message:\n",
      "\"package 'caret' is in use and will not be installed\""
     ]
    },
    {
     "name": "stdout",
     "output_type": "stream",
     "text": [
      "package 'e1071' successfully unpacked and MD5 sums checked\n"
     ]
    },
    {
     "name": "stderr",
     "output_type": "stream",
     "text": [
      "Warning message:\n",
      "\"cannot remove prior installation of package 'e1071'\"Warning message in file.copy(savedcopy, lib, recursive = TRUE):\n",
      "\"problema al copiar C:\\Users\\marc_\\anaconda3\\Lib\\R\\library\\00LOCK\\e1071\\libs\\x64\\e1071.dll  a C:\\Users\\marc_\\anaconda3\\Lib\\R\\library\\e1071\\libs\\x64\\e1071.dll: Permission denied\"Warning message:\n",
      "\"restored 'e1071'\""
     ]
    },
    {
     "name": "stdout",
     "output_type": "stream",
     "text": [
      "\n",
      "The downloaded binary packages are in\n",
      "\tC:\\Users\\marc_\\AppData\\Local\\Temp\\Rtmpu4E52b\\downloaded_packages\n"
     ]
    }
   ],
   "source": [
    "install.packages(\"caret\")\n",
    "install.packages(\"e1071\")\n",
    "library(caret)"
   ]
  },
  {
   "cell_type": "code",
   "execution_count": 161,
   "metadata": {},
   "outputs": [
    {
     "data": {
      "text/plain": [
       "Confusion Matrix and Statistics\n",
       "\n",
       "          Reference\n",
       "Prediction   0   1\n",
       "         0 270 155\n",
       "         1 233 671\n",
       "                                          \n",
       "               Accuracy : 0.7081          \n",
       "                 95% CI : (0.6828, 0.7324)\n",
       "    No Information Rate : 0.6215          \n",
       "    P-Value [Acc > NIR] : 2.172e-11       \n",
       "                                          \n",
       "                  Kappa : 0.36            \n",
       "                                          \n",
       " Mcnemar's Test P-Value : 9.265e-05       \n",
       "                                          \n",
       "            Sensitivity : 0.5368          \n",
       "            Specificity : 0.8123          \n",
       "         Pos Pred Value : 0.6353          \n",
       "         Neg Pred Value : 0.7423          \n",
       "             Prevalence : 0.3785          \n",
       "         Detection Rate : 0.2032          \n",
       "   Detection Prevalence : 0.3198          \n",
       "      Balanced Accuracy : 0.6746          \n",
       "                                          \n",
       "       'Positive' Class : 0               \n",
       "                                          "
      ]
     },
     "metadata": {},
     "output_type": "display_data"
    }
   ],
   "source": [
    "c1 <- confusionMatrix(as.factor(modelo1_prob), as.factor(dataraw$TARGET_5Yrs))\n",
    "c1"
   ]
  },
  {
   "cell_type": "code",
   "execution_count": 162,
   "metadata": {},
   "outputs": [
    {
     "data": {
      "text/plain": [
       "Confusion Matrix and Statistics\n",
       "\n",
       "          Reference\n",
       "Prediction   0   1\n",
       "         0 258 151\n",
       "         1 245 675\n",
       "                                          \n",
       "               Accuracy : 0.702           \n",
       "                 95% CI : (0.6766, 0.7265)\n",
       "    No Information Rate : 0.6215          \n",
       "    P-Value [Acc > NIR] : 4.624e-10       \n",
       "                                          \n",
       "                  Kappa : 0.3426          \n",
       "                                          \n",
       " Mcnemar's Test P-Value : 2.962e-06       \n",
       "                                          \n",
       "            Sensitivity : 0.5129          \n",
       "            Specificity : 0.8172          \n",
       "         Pos Pred Value : 0.6308          \n",
       "         Neg Pred Value : 0.7337          \n",
       "             Prevalence : 0.3785          \n",
       "         Detection Rate : 0.1941          \n",
       "   Detection Prevalence : 0.3078          \n",
       "      Balanced Accuracy : 0.6651          \n",
       "                                          \n",
       "       'Positive' Class : 0               \n",
       "                                          "
      ]
     },
     "metadata": {},
     "output_type": "display_data"
    }
   ],
   "source": [
    "c2<- confusionMatrix(as.factor(modelo2_prob), as.factor(dataraw$TARGET_5Yrs))\n",
    "c2"
   ]
  },
  {
   "cell_type": "code",
   "execution_count": 163,
   "metadata": {},
   "outputs": [
    {
     "data": {
      "text/plain": [
       "Confusion Matrix and Statistics\n",
       "\n",
       "          Reference\n",
       "Prediction   0   1\n",
       "         0 263 154\n",
       "         1 240 672\n",
       "                                         \n",
       "               Accuracy : 0.7035         \n",
       "                 95% CI : (0.6782, 0.728)\n",
       "    No Information Rate : 0.6215         \n",
       "    P-Value [Acc > NIR] : 2.199e-10      \n",
       "                                         \n",
       "                  Kappa : 0.3481         \n",
       "                                         \n",
       " Mcnemar's Test P-Value : 1.850e-05      \n",
       "                                         \n",
       "            Sensitivity : 0.5229         \n",
       "            Specificity : 0.8136         \n",
       "         Pos Pred Value : 0.6307         \n",
       "         Neg Pred Value : 0.7368         \n",
       "             Prevalence : 0.3785         \n",
       "         Detection Rate : 0.1979         \n",
       "   Detection Prevalence : 0.3138         \n",
       "      Balanced Accuracy : 0.6682         \n",
       "                                         \n",
       "       'Positive' Class : 0              \n",
       "                                         "
      ]
     },
     "metadata": {},
     "output_type": "display_data"
    }
   ],
   "source": [
    "c3<- confusionMatrix(as.factor(modelo3_prob), as.factor(dataraw$TARGET_5Yrs))\n",
    "c3\n"
   ]
  },
  {
   "cell_type": "markdown",
   "metadata": {},
   "source": [
    "### Discusión"
   ]
  },
  {
   "cell_type": "markdown",
   "metadata": {},
   "source": [
    "Podemos observar los 3 modelos realizados para prever si un jugador tendrá una carrera larga o no en la NBA. Observamos como los resultados obtenidos son muy parecidos, prácticamente iguales. Podemos decir que el modelo 1 es un poco más preciso, pero por demasiado poco. El problema cuando sacamos parámetros que no son significativos para hacer el modelo pierde un poco de precisión clasificando los jugadores que no tienen una larga carrera en la NBA, en cambio se gana algo de precisión en los jugadores que si tendrán una larga carrera en la NBA. \n",
    "Fijándonos en la \"Residual Deviance\" y la \"Null Deviance\" podemos decir que el modelo está bien realizado, ya que si tuviera valores pequeños respecto a los grados de libertad podríamos decir que el modelo por si solo explica los datos bastante bien. EL valor contra más cercano sea a los grados de libertad será mejor. \n",
    "EL valor del \"Residual defiance\" debería siempre ser más bajo que el \"Null deviance\" ya que es el resultado una vez hemos aplicado el modelo con los predictores. El \"Residual defiance\" muestra que tan bien predice el modelo la respuesta cuando se incluyen los predictores. De ahí que la diferencia entre La \"Null defiance\" y la \"Residual defiance\" respecto a los grados de libertad sea más cercana a 1 la \"Residual defiance\".\n",
    "Por lo tanto, podemos asegurar que el modelo que mejor predice el TARGET_5Yrs es el modelo 1 con 6 predictores.\n"
   ]
  },
  {
   "cell_type": "markdown",
   "metadata": {},
   "source": [
    "# Discusión de resultados y vías abiertas\n",
    "\n",
    "Yo personalmente, no recomendaría el uso de este modelo para la toma de decisiones. Ya que estamos hablando de que pueden ser inversiones millonarias por cada jugador y, por lo tanto, el error está muy penalizado. Sale más rentable tener a una persona entendida y que se dedique a decidir con mejores criterios que jugador tendrá una larga carrera en la NBA para invertir promoción en él que un algoritmo con un 70% de precisión ya que sus fallos supondrán más perdidas que el dinero que deberías pagar a alguien que entienda. Para poder mejorar la validez de este modelo, creo que sería necesario tener más datos a nivel de opinión pública respecto al jugador (Por ejemplo, nº de seguidores en redes, ya que es una manera de determinar el impacto de ese jugador en EEUU) y sueldos que tienen los jugadores. Esto creo que determina un \"status\" y añade un valor para determinar si el jugador permanecerá o no en la mejor liga de baloncesto. "
   ]
  },
  {
   "cell_type": "code",
   "execution_count": null,
   "metadata": {},
   "outputs": [],
   "source": []
  }
 ],
 "metadata": {
  "kernelspec": {
   "display_name": "R",
   "language": "R",
   "name": "ir"
  },
  "language_info": {
   "codemirror_mode": "r",
   "file_extension": ".r",
   "mimetype": "text/x-r-source",
   "name": "R",
   "pygments_lexer": "r",
   "version": "3.6.1"
  }
 },
 "nbformat": 4,
 "nbformat_minor": 4
}
